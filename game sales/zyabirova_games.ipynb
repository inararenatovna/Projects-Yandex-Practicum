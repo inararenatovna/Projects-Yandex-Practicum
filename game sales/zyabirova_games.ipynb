{
 "cells": [
  {
   "cell_type": "markdown",
   "metadata": {
    "toc": true
   },
   "source": [
    "<h1>Оглавление<span class=\"tocSkip\"></span></h1>\n",
    "<div class=\"toc\"><ul class=\"toc-item\"><li><span><a href=\"#Изучение-данных\" data-toc-modified-id=\"Изучение-данных-1\"><span class=\"toc-item-num\">1&nbsp;&nbsp;</span>Изучение данных</a></span><ul class=\"toc-item\"><li><span><a href=\"#Вывод\" data-toc-modified-id=\"Вывод-1.1\"><span class=\"toc-item-num\">1.1&nbsp;&nbsp;</span>Вывод</a></span></li></ul></li><li><span><a href=\"#Предобработка-данных\" data-toc-modified-id=\"Предобработка-данных-2\"><span class=\"toc-item-num\">2&nbsp;&nbsp;</span>Предобработка данных</a></span><ul class=\"toc-item\"><li><span><a href=\"#Переименование-столбцов\" data-toc-modified-id=\"Переименование-столбцов-2.1\"><span class=\"toc-item-num\">2.1&nbsp;&nbsp;</span>Переименование столбцов</a></span></li><li><span><a href=\"#Замена-типов-данных\" data-toc-modified-id=\"Замена-типов-данных-2.2\"><span class=\"toc-item-num\">2.2&nbsp;&nbsp;</span>Замена типов данных</a></span></li><li><span><a href=\"#Обработка-пропусков\" data-toc-modified-id=\"Обработка-пропусков-2.3\"><span class=\"toc-item-num\">2.3&nbsp;&nbsp;</span>Обработка пропусков</a></span></li><li><span><a href=\"#Подсчёт-суммарных-продаж\" data-toc-modified-id=\"Подсчёт-суммарных-продаж-2.4\"><span class=\"toc-item-num\">2.4&nbsp;&nbsp;</span>Подсчёт суммарных продаж</a></span></li><li><span><a href=\"#Вывод\" data-toc-modified-id=\"Вывод-2.5\"><span class=\"toc-item-num\">2.5&nbsp;&nbsp;</span>Вывод</a></span></li></ul></li><li><span><a href=\"#Исследовательский-анализ-данных\" data-toc-modified-id=\"Исследовательский-анализ-данных-3\"><span class=\"toc-item-num\">3&nbsp;&nbsp;</span>Исследовательский анализ данных</a></span><ul class=\"toc-item\"><li><span><a href=\"#Анализ-игр-по-годам-выпуска\" data-toc-modified-id=\"Анализ-игр-по-годам-выпуска-3.1\"><span class=\"toc-item-num\">3.1&nbsp;&nbsp;</span>Анализ игр по годам выпуска</a></span></li><li><span><a href=\"#Анализ-продаж-по-платформам\" data-toc-modified-id=\"Анализ-продаж-по-платформам-3.2\"><span class=\"toc-item-num\">3.2&nbsp;&nbsp;</span>Анализ продаж по платформам</a></span></li><li><span><a href=\"#Анализ-продаж-по-жанрам\" data-toc-modified-id=\"Анализ-продаж-по-жанрам-3.3\"><span class=\"toc-item-num\">3.3&nbsp;&nbsp;</span>Анализ продаж по жанрам</a></span></li><li><span><a href=\"#Вывод\" data-toc-modified-id=\"Вывод-3.4\"><span class=\"toc-item-num\">3.4&nbsp;&nbsp;</span>Вывод</a></span></li></ul></li><li><span><a href=\"#Портрет-пользователя-каждого-региона\" data-toc-modified-id=\"Портрет-пользователя-каждого-региона-4\"><span class=\"toc-item-num\">4&nbsp;&nbsp;</span>Портрет пользователя каждого региона</a></span><ul class=\"toc-item\"><li><span><a href=\"#По-платформам\" data-toc-modified-id=\"По-платформам-4.1\"><span class=\"toc-item-num\">4.1&nbsp;&nbsp;</span>По платформам</a></span></li><li><span><a href=\"#По-жанрам\" data-toc-modified-id=\"По-жанрам-4.2\"><span class=\"toc-item-num\">4.2&nbsp;&nbsp;</span>По жанрам</a></span></li><li><span><a href=\"#По-рейтингу-ESRB\" data-toc-modified-id=\"По-рейтингу-ESRB-4.3\"><span class=\"toc-item-num\">4.3&nbsp;&nbsp;</span>По рейтингу ESRB</a></span></li><li><span><a href=\"#Вывод\" data-toc-modified-id=\"Вывод-4.4\"><span class=\"toc-item-num\">4.4&nbsp;&nbsp;</span>Вывод</a></span></li></ul></li><li><span><a href=\"#Проверка-гипотез\" data-toc-modified-id=\"Проверка-гипотез-5\"><span class=\"toc-item-num\">5&nbsp;&nbsp;</span>Проверка гипотез</a></span><ul class=\"toc-item\"><li><span><a href=\"#Средние-пользовательские-рейтинги-платформ-Xbox-One-и-PC-одинаковые\" data-toc-modified-id=\"Средние-пользовательские-рейтинги-платформ-Xbox-One-и-PC-одинаковые-5.1\"><span class=\"toc-item-num\">5.1&nbsp;&nbsp;</span>Средние пользовательские рейтинги платформ Xbox One и PC одинаковые</a></span></li><li><span><a href=\"#Средние-пользовательские-рейтинги-жанров-Action-и-Sports-разные\" data-toc-modified-id=\"Средние-пользовательские-рейтинги-жанров-Action-и-Sports-разные-5.2\"><span class=\"toc-item-num\">5.2&nbsp;&nbsp;</span>Средние пользовательские рейтинги жанров Action и Sports разные</a></span></li><li><span><a href=\"#Вывод\" data-toc-modified-id=\"Вывод-5.3\"><span class=\"toc-item-num\">5.3&nbsp;&nbsp;</span>Вывод</a></span></li></ul></li><li><span><a href=\"#Общий-вывод\" data-toc-modified-id=\"Общий-вывод-6\"><span class=\"toc-item-num\">6&nbsp;&nbsp;</span>Общий вывод</a></span></li></ul></div>"
   ]
  },
  {
   "cell_type": "markdown",
   "metadata": {},
   "source": [
    "# Исследование продаж компьютерных игр"
   ]
  },
  {
   "cell_type": "markdown",
   "metadata": {},
   "source": [
    "В нашем распоряжении данные, которые содержат в себе информацию о продажах игр по состоянию на неполный 2016-й год. Чтобы запланировать рекламную кампанию интернет-магазина «Стримчик» на 2017 год, проанализируем имеющиеся данные, выявим потенциально популярный продукт и поищем закономерности, определяющие успешность игры."
   ]
  },
  {
   "cell_type": "markdown",
   "metadata": {},
   "source": [
    "## Изучение данных"
   ]
  },
  {
   "cell_type": "markdown",
   "metadata": {},
   "source": [
    "Импортируем все библиотеки, которые потребуются нам в дальнейшей работе, и прочитаем файл с данными."
   ]
  },
  {
   "cell_type": "code",
   "execution_count": 1,
   "metadata": {},
   "outputs": [],
   "source": [
    "import pandas as pd # импорт библиотеки pandas\n",
    "\n",
    "import warnings # импорт библиотеки warnings\n",
    "\n",
    "import numpy as np # импорт библиотеки numpy\n",
    "\n",
    "from matplotlib import pyplot as plt # импорт библиотеки matplotlib\n",
    "\n",
    "from scipy import stats as st # импорт библиотеки scipy "
   ]
  },
  {
   "cell_type": "code",
   "execution_count": 2,
   "metadata": {},
   "outputs": [
    {
     "data": {
      "text/html": [
       "<div>\n",
       "<style scoped>\n",
       "    .dataframe tbody tr th:only-of-type {\n",
       "        vertical-align: middle;\n",
       "    }\n",
       "\n",
       "    .dataframe tbody tr th {\n",
       "        vertical-align: top;\n",
       "    }\n",
       "\n",
       "    .dataframe thead th {\n",
       "        text-align: right;\n",
       "    }\n",
       "</style>\n",
       "<table border=\"1\" class=\"dataframe\">\n",
       "  <thead>\n",
       "    <tr style=\"text-align: right;\">\n",
       "      <th></th>\n",
       "      <th>Name</th>\n",
       "      <th>Platform</th>\n",
       "      <th>Year_of_Release</th>\n",
       "      <th>Genre</th>\n",
       "      <th>NA_sales</th>\n",
       "      <th>EU_sales</th>\n",
       "      <th>JP_sales</th>\n",
       "      <th>Other_sales</th>\n",
       "      <th>Critic_Score</th>\n",
       "      <th>User_Score</th>\n",
       "      <th>Rating</th>\n",
       "    </tr>\n",
       "  </thead>\n",
       "  <tbody>\n",
       "    <tr>\n",
       "      <td>0</td>\n",
       "      <td>Wii Sports</td>\n",
       "      <td>Wii</td>\n",
       "      <td>2006.0</td>\n",
       "      <td>Sports</td>\n",
       "      <td>41.36</td>\n",
       "      <td>28.96</td>\n",
       "      <td>3.77</td>\n",
       "      <td>8.45</td>\n",
       "      <td>76.0</td>\n",
       "      <td>8</td>\n",
       "      <td>E</td>\n",
       "    </tr>\n",
       "    <tr>\n",
       "      <td>1</td>\n",
       "      <td>Super Mario Bros.</td>\n",
       "      <td>NES</td>\n",
       "      <td>1985.0</td>\n",
       "      <td>Platform</td>\n",
       "      <td>29.08</td>\n",
       "      <td>3.58</td>\n",
       "      <td>6.81</td>\n",
       "      <td>0.77</td>\n",
       "      <td>NaN</td>\n",
       "      <td>NaN</td>\n",
       "      <td>NaN</td>\n",
       "    </tr>\n",
       "    <tr>\n",
       "      <td>2</td>\n",
       "      <td>Mario Kart Wii</td>\n",
       "      <td>Wii</td>\n",
       "      <td>2008.0</td>\n",
       "      <td>Racing</td>\n",
       "      <td>15.68</td>\n",
       "      <td>12.76</td>\n",
       "      <td>3.79</td>\n",
       "      <td>3.29</td>\n",
       "      <td>82.0</td>\n",
       "      <td>8.3</td>\n",
       "      <td>E</td>\n",
       "    </tr>\n",
       "    <tr>\n",
       "      <td>3</td>\n",
       "      <td>Wii Sports Resort</td>\n",
       "      <td>Wii</td>\n",
       "      <td>2009.0</td>\n",
       "      <td>Sports</td>\n",
       "      <td>15.61</td>\n",
       "      <td>10.93</td>\n",
       "      <td>3.28</td>\n",
       "      <td>2.95</td>\n",
       "      <td>80.0</td>\n",
       "      <td>8</td>\n",
       "      <td>E</td>\n",
       "    </tr>\n",
       "    <tr>\n",
       "      <td>4</td>\n",
       "      <td>Pokemon Red/Pokemon Blue</td>\n",
       "      <td>GB</td>\n",
       "      <td>1996.0</td>\n",
       "      <td>Role-Playing</td>\n",
       "      <td>11.27</td>\n",
       "      <td>8.89</td>\n",
       "      <td>10.22</td>\n",
       "      <td>1.00</td>\n",
       "      <td>NaN</td>\n",
       "      <td>NaN</td>\n",
       "      <td>NaN</td>\n",
       "    </tr>\n",
       "  </tbody>\n",
       "</table>\n",
       "</div>"
      ],
      "text/plain": [
       "                       Name Platform  Year_of_Release         Genre  NA_sales  \\\n",
       "0                Wii Sports      Wii           2006.0        Sports     41.36   \n",
       "1         Super Mario Bros.      NES           1985.0      Platform     29.08   \n",
       "2            Mario Kart Wii      Wii           2008.0        Racing     15.68   \n",
       "3         Wii Sports Resort      Wii           2009.0        Sports     15.61   \n",
       "4  Pokemon Red/Pokemon Blue       GB           1996.0  Role-Playing     11.27   \n",
       "\n",
       "   EU_sales  JP_sales  Other_sales  Critic_Score User_Score Rating  \n",
       "0     28.96      3.77         8.45          76.0          8      E  \n",
       "1      3.58      6.81         0.77           NaN        NaN    NaN  \n",
       "2     12.76      3.79         3.29          82.0        8.3      E  \n",
       "3     10.93      3.28         2.95          80.0          8      E  \n",
       "4      8.89     10.22         1.00           NaN        NaN    NaN  "
      ]
     },
     "execution_count": 2,
     "metadata": {},
     "output_type": "execute_result"
    }
   ],
   "source": [
    "games = pd.read_csv('/datasets/games.csv') # чтение файла с данными и сохранение в games\n",
    "games.head() # получение первых 5 строк таблицы"
   ]
  },
  {
   "cell_type": "code",
   "execution_count": 3,
   "metadata": {},
   "outputs": [
    {
     "name": "stdout",
     "output_type": "stream",
     "text": [
      "<class 'pandas.core.frame.DataFrame'>\n",
      "RangeIndex: 16715 entries, 0 to 16714\n",
      "Data columns (total 11 columns):\n",
      "Name               16713 non-null object\n",
      "Platform           16715 non-null object\n",
      "Year_of_Release    16446 non-null float64\n",
      "Genre              16713 non-null object\n",
      "NA_sales           16715 non-null float64\n",
      "EU_sales           16715 non-null float64\n",
      "JP_sales           16715 non-null float64\n",
      "Other_sales        16715 non-null float64\n",
      "Critic_Score       8137 non-null float64\n",
      "User_Score         10014 non-null object\n",
      "Rating             9949 non-null object\n",
      "dtypes: float64(6), object(5)\n",
      "memory usage: 1.4+ MB\n"
     ]
    }
   ],
   "source": [
    "games.info() # получение информации о данных в таблице"
   ]
  },
  {
   "cell_type": "markdown",
   "metadata": {},
   "source": [
    "### Вывод"
   ]
  },
  {
   "cell_type": "markdown",
   "metadata": {},
   "source": [
    "Итак, в нашей таблице 11 столбцов и 16715 строк. При первоначальном ознакомлении с данными обнаружены следующие моменты:\n",
    "- использование заглавных букв в наименованиях столбцов;\n",
    "- год релиза (`Year_of_Release`) имеет плавающую точку и тип данных `float`; \n",
    "- колонка `User_Score`, содержащая пользовательский рейтинг, то есть количественные значения, имеет тип данных `object`;\n",
    "- наличие пропусков в шести столбцах.\n",
    "\n",
    "Выявленные проблемы будем решать на этапе предобработки данных."
   ]
  },
  {
   "cell_type": "markdown",
   "metadata": {},
   "source": [
    "## Предобработка данных"
   ]
  },
  {
   "cell_type": "markdown",
   "metadata": {},
   "source": [
    "### Переименование столбцов"
   ]
  },
  {
   "cell_type": "markdown",
   "metadata": {},
   "source": [
    "Заголовки колонок приведём к нижнему регистру, используя метод `lower()`:"
   ]
  },
  {
   "cell_type": "code",
   "execution_count": 4,
   "metadata": {},
   "outputs": [],
   "source": [
    "games.columns = games.columns.str.lower() # приведение наименований колонок к нижнему регистру"
   ]
  },
  {
   "cell_type": "markdown",
   "metadata": {},
   "source": [
    "### Замена типов данных"
   ]
  },
  {
   "cell_type": "markdown",
   "metadata": {},
   "source": [
    "Чтобы понять, что не так со столбцом `user_score`, что он имеет тип данных `object`, посмотрим на его уникальные значения:"
   ]
  },
  {
   "cell_type": "code",
   "execution_count": 5,
   "metadata": {},
   "outputs": [
    {
     "data": {
      "text/plain": [
       "array(['8', nan, '8.3', '8.5', '6.6', '8.4', '8.6', '7.7', '6.3', '7.4',\n",
       "       '8.2', '9', '7.9', '8.1', '8.7', '7.1', '3.4', '5.3', '4.8', '3.2',\n",
       "       '8.9', '6.4', '7.8', '7.5', '2.6', '7.2', '9.2', '7', '7.3', '4.3',\n",
       "       '7.6', '5.7', '5', '9.1', '6.5', 'tbd', '8.8', '6.9', '9.4', '6.8',\n",
       "       '6.1', '6.7', '5.4', '4', '4.9', '4.5', '9.3', '6.2', '4.2', '6',\n",
       "       '3.7', '4.1', '5.8', '5.6', '5.5', '4.4', '4.6', '5.9', '3.9',\n",
       "       '3.1', '2.9', '5.2', '3.3', '4.7', '5.1', '3.5', '2.5', '1.9', '3',\n",
       "       '2.7', '2.2', '2', '9.5', '2.1', '3.6', '2.8', '1.8', '3.8', '0',\n",
       "       '1.6', '9.6', '2.4', '1.7', '1.1', '0.3', '1.5', '0.7', '1.2',\n",
       "       '2.3', '0.5', '1.3', '0.2', '0.6', '1.4', '0.9', '1', '9.7'],\n",
       "      dtype=object)"
      ]
     },
     "execution_count": 5,
     "metadata": {},
     "output_type": "execute_result"
    }
   ],
   "source": [
    "games['user_score'].unique() # получение уникальных значений столбца с помощью метода unique()"
   ]
  },
  {
   "cell_type": "markdown",
   "metadata": {},
   "source": [
    "Среди чисел мы видим, помимо `nan`, буквенное значение `tbd (то есть \"to be defined (предстоит определить)\")`. Посмотрим, много ли вообще строк с этим показателем:"
   ]
  },
  {
   "cell_type": "code",
   "execution_count": 6,
   "metadata": {},
   "outputs": [
    {
     "data": {
      "text/plain": [
       "2424"
      ]
     },
     "execution_count": 6,
     "metadata": {},
     "output_type": "execute_result"
    }
   ],
   "source": [
    "games[games['user_score'] == 'tbd']['user_score'].count() # методом count() подсчет кол-ва строк со значением \"tbd\" в user_score"
   ]
  },
  {
   "cell_type": "markdown",
   "metadata": {},
   "source": [
    "Почти 2,5 тысячи строк - просто так отказаться от них мы не можем. \n",
    "\n",
    "По сути своей `tbd` - это то же самое пока что отсутствующее значение, поэтому можем заменить его на пропуски:"
   ]
  },
  {
   "cell_type": "code",
   "execution_count": 7,
   "metadata": {
    "scrolled": true
   },
   "outputs": [
    {
     "name": "stdout",
     "output_type": "stream",
     "text": [
      "<class 'pandas.core.frame.DataFrame'>\n",
      "RangeIndex: 16715 entries, 0 to 16714\n",
      "Data columns (total 11 columns):\n",
      "name               16713 non-null object\n",
      "platform           16715 non-null object\n",
      "year_of_release    16446 non-null float64\n",
      "genre              16713 non-null object\n",
      "na_sales           16715 non-null float64\n",
      "eu_sales           16715 non-null float64\n",
      "jp_sales           16715 non-null float64\n",
      "other_sales        16715 non-null float64\n",
      "critic_score       8137 non-null float64\n",
      "user_score         7590 non-null float64\n",
      "rating             9949 non-null object\n",
      "dtypes: float64(7), object(4)\n",
      "memory usage: 1.4+ MB\n"
     ]
    }
   ],
   "source": [
    "games.loc[games['user_score'] == 'tbd', 'user_score'] = np.nan # замена всех значений \"tbd\" в user_score на \"nan\"\n",
    "games['user_score'] = games['user_score'].astype('float') # изменение типа данных в столбце user_score на float\n",
    "games.info() # получение информации об обновлённой таблице"
   ]
  },
  {
   "cell_type": "markdown",
   "metadata": {},
   "source": [
    "Теперь в столбце `user_score` стало больше пропусков, но зато он имеет тип данных `float`, а значит мы можем использовать его в расчётах."
   ]
  },
  {
   "cell_type": "markdown",
   "metadata": {},
   "source": [
    "### Обработка пропусков"
   ]
  },
  {
   "cell_type": "markdown",
   "metadata": {},
   "source": [
    "Мы обнаружили пропуски в следующих столбцах: `name, year_of_release, genre, critic_score, user_score, rating`.\n",
    "\n",
    "Больше всего пропусков в столбцах с рейтингом ESRB и с оценками пользователей и критиков. Это может быть связано с тем, что не все игры или не все платформы возможно оценить - из-за их невысокой популярности или из-за отсутствия такой технической возможности.\n",
    "\n",
    "В двух строчках отсутствуют названия игр. Без этой информации данные теряют для нас какой-либо смысл. Мы можем спокойно избавиться от двух строк таблицы без ущерба для дальнейшего анализа:"
   ]
  },
  {
   "cell_type": "code",
   "execution_count": 8,
   "metadata": {},
   "outputs": [
    {
     "name": "stdout",
     "output_type": "stream",
     "text": [
      "<class 'pandas.core.frame.DataFrame'>\n",
      "Int64Index: 16713 entries, 0 to 16714\n",
      "Data columns (total 11 columns):\n",
      "name               16713 non-null object\n",
      "platform           16713 non-null object\n",
      "year_of_release    16444 non-null float64\n",
      "genre              16713 non-null object\n",
      "na_sales           16713 non-null float64\n",
      "eu_sales           16713 non-null float64\n",
      "jp_sales           16713 non-null float64\n",
      "other_sales        16713 non-null float64\n",
      "critic_score       8137 non-null float64\n",
      "user_score         7590 non-null float64\n",
      "rating             9949 non-null object\n",
      "dtypes: float64(7), object(4)\n",
      "memory usage: 1.5+ MB\n"
     ]
    }
   ],
   "source": [
    "games.dropna(subset = ['name'], inplace=True) # удаление строк с пропусками в столбце name\n",
    "games.info() # получение информации об обновлённой таблице"
   ]
  },
  {
   "cell_type": "markdown",
   "metadata": {},
   "source": [
    "По информации о таблице мы видим, что в удалённых строчках также отсутствовали данные с жанрами, поэтому теперь пропуски остались только в четырёх столбцах. \n",
    "\n",
    "В `year_of_release, critic_score, user_score` мы не можем заменить пропуски на средние, медианные или какие-либо конкретные значения, так как это исказит результаты дальнейшего анализа. По этой причине пропуски оставим без изменения.\n",
    "\n",
    "И раз мы решили сохранить пропуски в столбце `year_of_release`, то также придётся оставить в нём тип данных `float`.\n",
    "\n",
    "Пропуски в столбце `rating` мы обозначим как неизвестное значение: <a id='korr'></a>"
   ]
  },
  {
   "cell_type": "code",
   "execution_count": 9,
   "metadata": {},
   "outputs": [],
   "source": [
    "games['rating'] = games['rating'].fillna('unknown') # замена всех пропусков в столбце rating на 'unknown'"
   ]
  },
  {
   "cell_type": "markdown",
   "metadata": {},
   "source": [
    "Дополнительно проверим нашу таблицу на наличие дубликатов:"
   ]
  },
  {
   "cell_type": "code",
   "execution_count": 11,
   "metadata": {},
   "outputs": [
    {
     "data": {
      "text/plain": [
       "0"
      ]
     },
     "execution_count": 11,
     "metadata": {},
     "output_type": "execute_result"
    }
   ],
   "source": [
    "games.duplicated().sum() # получение кол-ва дубликатов в таблице"
   ]
  },
  {
   "cell_type": "markdown",
   "metadata": {},
   "source": [
    "### Подсчёт суммарных продаж"
   ]
  },
  {
   "cell_type": "markdown",
   "metadata": {},
   "source": [
    "Посчитаем для каждой игры суммарные продажи во всех регионах:"
   ]
  },
  {
   "cell_type": "code",
   "execution_count": 12,
   "metadata": {
    "scrolled": true
   },
   "outputs": [],
   "source": [
    "# создание столбца sum_sales и сохранение в нём суммы значений na_sales, eu_sales, jp_sales, other_sales\n",
    "games['sum_sales'] = games[['na_sales', 'eu_sales', 'jp_sales', 'other_sales']].sum(axis=1)"
   ]
  },
  {
   "cell_type": "markdown",
   "metadata": {},
   "source": [
    "### Вывод"
   ]
  },
  {
   "cell_type": "markdown",
   "metadata": {},
   "source": [
    "В ходе предобработки данных мы: \n",
    "- скорректировали наименования столбцов, \n",
    "- привели столбец `user_score` в рабочий вид, \n",
    "- удалили пару совсем бесполезных строк,\n",
    "- приняли решение сохранить пропуски в столбцах с оценками и годом релиза,\n",
    "- заменили пропуски в `rating` на \"unknown\",\n",
    "- посчитали суммарные продажи по всем регионам."
   ]
  },
  {
   "cell_type": "markdown",
   "metadata": {},
   "source": [
    "## Исследовательский анализ данных"
   ]
  },
  {
   "cell_type": "markdown",
   "metadata": {},
   "source": [
    "### Анализ игр по годам выпуска"
   ]
  },
  {
   "cell_type": "markdown",
   "metadata": {},
   "source": [
    "В течение года одна игра может выходить на нескольких разных платформах, например:"
   ]
  },
  {
   "cell_type": "code",
   "execution_count": 13,
   "metadata": {},
   "outputs": [
    {
     "data": {
      "text/html": [
       "<div>\n",
       "<style scoped>\n",
       "    .dataframe tbody tr th:only-of-type {\n",
       "        vertical-align: middle;\n",
       "    }\n",
       "\n",
       "    .dataframe tbody tr th {\n",
       "        vertical-align: top;\n",
       "    }\n",
       "\n",
       "    .dataframe thead th {\n",
       "        text-align: right;\n",
       "    }\n",
       "</style>\n",
       "<table border=\"1\" class=\"dataframe\">\n",
       "  <thead>\n",
       "    <tr style=\"text-align: right;\">\n",
       "      <th></th>\n",
       "      <th>name</th>\n",
       "      <th>platform</th>\n",
       "      <th>year_of_release</th>\n",
       "      <th>genre</th>\n",
       "      <th>na_sales</th>\n",
       "      <th>eu_sales</th>\n",
       "      <th>jp_sales</th>\n",
       "      <th>other_sales</th>\n",
       "      <th>critic_score</th>\n",
       "      <th>user_score</th>\n",
       "      <th>rating</th>\n",
       "      <th>sum_sales</th>\n",
       "    </tr>\n",
       "  </thead>\n",
       "  <tbody>\n",
       "    <tr>\n",
       "      <td>649</td>\n",
       "      <td>pro evolution soccer 2011</td>\n",
       "      <td>PS3</td>\n",
       "      <td>2010.0</td>\n",
       "      <td>Sports</td>\n",
       "      <td>0.29</td>\n",
       "      <td>1.17</td>\n",
       "      <td>0.54</td>\n",
       "      <td>0.41</td>\n",
       "      <td>77.0</td>\n",
       "      <td>6.8</td>\n",
       "      <td>E</td>\n",
       "      <td>2.41</td>\n",
       "    </tr>\n",
       "    <tr>\n",
       "      <td>2583</td>\n",
       "      <td>pro evolution soccer 2011</td>\n",
       "      <td>PSP</td>\n",
       "      <td>2010.0</td>\n",
       "      <td>Sports</td>\n",
       "      <td>0.05</td>\n",
       "      <td>0.30</td>\n",
       "      <td>0.29</td>\n",
       "      <td>0.16</td>\n",
       "      <td>74.0</td>\n",
       "      <td>5.8</td>\n",
       "      <td>E</td>\n",
       "      <td>0.80</td>\n",
       "    </tr>\n",
       "    <tr>\n",
       "      <td>3304</td>\n",
       "      <td>pro evolution soccer 2011</td>\n",
       "      <td>X360</td>\n",
       "      <td>2010.0</td>\n",
       "      <td>Sports</td>\n",
       "      <td>0.09</td>\n",
       "      <td>0.44</td>\n",
       "      <td>0.00</td>\n",
       "      <td>0.07</td>\n",
       "      <td>79.0</td>\n",
       "      <td>5.9</td>\n",
       "      <td>E</td>\n",
       "      <td>0.60</td>\n",
       "    </tr>\n",
       "    <tr>\n",
       "      <td>4664</td>\n",
       "      <td>pro evolution soccer 2011</td>\n",
       "      <td>PS2</td>\n",
       "      <td>2010.0</td>\n",
       "      <td>Sports</td>\n",
       "      <td>0.04</td>\n",
       "      <td>0.21</td>\n",
       "      <td>0.05</td>\n",
       "      <td>0.11</td>\n",
       "      <td>NaN</td>\n",
       "      <td>6.7</td>\n",
       "      <td>E</td>\n",
       "      <td>0.41</td>\n",
       "    </tr>\n",
       "    <tr>\n",
       "      <td>7149</td>\n",
       "      <td>pro evolution soccer 2011</td>\n",
       "      <td>Wii</td>\n",
       "      <td>2010.0</td>\n",
       "      <td>Sports</td>\n",
       "      <td>0.07</td>\n",
       "      <td>0.10</td>\n",
       "      <td>0.03</td>\n",
       "      <td>0.02</td>\n",
       "      <td>78.0</td>\n",
       "      <td>5.4</td>\n",
       "      <td>E</td>\n",
       "      <td>0.22</td>\n",
       "    </tr>\n",
       "    <tr>\n",
       "      <td>12648</td>\n",
       "      <td>pro evolution soccer 2011</td>\n",
       "      <td>PC</td>\n",
       "      <td>2010.0</td>\n",
       "      <td>Sports</td>\n",
       "      <td>0.00</td>\n",
       "      <td>0.05</td>\n",
       "      <td>0.00</td>\n",
       "      <td>0.01</td>\n",
       "      <td>79.0</td>\n",
       "      <td>NaN</td>\n",
       "      <td>unknown</td>\n",
       "      <td>0.06</td>\n",
       "    </tr>\n",
       "  </tbody>\n",
       "</table>\n",
       "</div>"
      ],
      "text/plain": [
       "                            name platform  year_of_release   genre  na_sales  \\\n",
       "649    pro evolution soccer 2011      PS3           2010.0  Sports      0.29   \n",
       "2583   pro evolution soccer 2011      PSP           2010.0  Sports      0.05   \n",
       "3304   pro evolution soccer 2011     X360           2010.0  Sports      0.09   \n",
       "4664   pro evolution soccer 2011      PS2           2010.0  Sports      0.04   \n",
       "7149   pro evolution soccer 2011      Wii           2010.0  Sports      0.07   \n",
       "12648  pro evolution soccer 2011       PC           2010.0  Sports      0.00   \n",
       "\n",
       "       eu_sales  jp_sales  other_sales  critic_score  user_score   rating  \\\n",
       "649        1.17      0.54         0.41          77.0         6.8        E   \n",
       "2583       0.30      0.29         0.16          74.0         5.8        E   \n",
       "3304       0.44      0.00         0.07          79.0         5.9        E   \n",
       "4664       0.21      0.05         0.11           NaN         6.7        E   \n",
       "7149       0.10      0.03         0.02          78.0         5.4        E   \n",
       "12648      0.05      0.00         0.01          79.0         NaN  unknown   \n",
       "\n",
       "       sum_sales  \n",
       "649         2.41  \n",
       "2583        0.80  \n",
       "3304        0.60  \n",
       "4664        0.41  \n",
       "7149        0.22  \n",
       "12648       0.06  "
      ]
     },
     "execution_count": 13,
     "metadata": {},
     "output_type": "execute_result"
    }
   ],
   "source": [
    "games[games['name'] == 'pro evolution soccer 2011'] # получение среза таблицы по одной игре"
   ]
  },
  {
   "cell_type": "markdown",
   "metadata": {},
   "source": [
    "Представленные на примере шесть строк значат, что вышла **одна** игра на шести разных платформах. Поэтому для анализа количества релизов по годам, сначала посчитаем, сколько именно игр (уникальных наименований) вышло в каждый год:"
   ]
  },
  {
   "cell_type": "code",
   "execution_count": 14,
   "metadata": {},
   "outputs": [
    {
     "data": {
      "text/html": [
       "<div>\n",
       "<style scoped>\n",
       "    .dataframe tbody tr th:only-of-type {\n",
       "        vertical-align: middle;\n",
       "    }\n",
       "\n",
       "    .dataframe tbody tr th {\n",
       "        vertical-align: top;\n",
       "    }\n",
       "\n",
       "    .dataframe thead th {\n",
       "        text-align: right;\n",
       "    }\n",
       "</style>\n",
       "<table border=\"1\" class=\"dataframe\">\n",
       "  <thead>\n",
       "    <tr style=\"text-align: right;\">\n",
       "      <th></th>\n",
       "      <th>year_of_release</th>\n",
       "      <th>name</th>\n",
       "    </tr>\n",
       "  </thead>\n",
       "  <tbody>\n",
       "    <tr>\n",
       "      <td>0</td>\n",
       "      <td>1980.0</td>\n",
       "      <td>9</td>\n",
       "    </tr>\n",
       "    <tr>\n",
       "      <td>1</td>\n",
       "      <td>1981.0</td>\n",
       "      <td>46</td>\n",
       "    </tr>\n",
       "    <tr>\n",
       "      <td>2</td>\n",
       "      <td>1982.0</td>\n",
       "      <td>36</td>\n",
       "    </tr>\n",
       "    <tr>\n",
       "      <td>3</td>\n",
       "      <td>1983.0</td>\n",
       "      <td>17</td>\n",
       "    </tr>\n",
       "    <tr>\n",
       "      <td>4</td>\n",
       "      <td>1984.0</td>\n",
       "      <td>14</td>\n",
       "    </tr>\n",
       "  </tbody>\n",
       "</table>\n",
       "</div>"
      ],
      "text/plain": [
       "   year_of_release  name\n",
       "0           1980.0     9\n",
       "1           1981.0    46\n",
       "2           1982.0    36\n",
       "3           1983.0    17\n",
       "4           1984.0    14"
      ]
     },
     "execution_count": 14,
     "metadata": {},
     "output_type": "execute_result"
    }
   ],
   "source": [
    "# сгруппируем games по столбцам year_of_release и name, далее снова сгруппируем по году релиза и посчитаем кол-во name\n",
    "games_per_years = (games.groupby(['year_of_release','name']).count().reset_index()).groupby('year_of_release')['name'].count().reset_index()\n",
    "games_per_years.head() # получение первых 5 строк таблицы"
   ]
  },
  {
   "cell_type": "markdown",
   "metadata": {},
   "source": [
    "Теперь, когда у нас есть данные о количестве выпущенных игр по годам, изучим их на графике:"
   ]
  },
  {
   "cell_type": "code",
   "execution_count": 15,
   "metadata": {},
   "outputs": [
    {
     "data": {
      "text/plain": [
       "Text(0, 0.5, 'Количество релизов')"
      ]
     },
     "execution_count": 15,
     "metadata": {},
     "output_type": "execute_result"
    },
    {
     "data": {
      "image/png": "[encoded data removed]",
      "text/plain": [
       "<Figure size 576x360 with 1 Axes>"
      ]
     },
     "metadata": {
      "needs_background": "light"
     },
     "output_type": "display_data"
    }
   ],
   "source": [
    "# построение графика по games_per_years\n",
    "games_per_years.plot(x='year_of_release', figsize=(8, 5), title='Динамика количества новых игр по годам' + \"\\n\", grid=True, legend=False)\n",
    "plt.xlabel('Год') # присвоение имени оси x \n",
    "plt.ylabel('Количество релизов') # присвоение имени оси y"
   ]
  },
  {
   "cell_type": "markdown",
   "metadata": {},
   "source": [
    "На графике мы видим, что индустрия компьютерных игр начинает стремительно развиваться с 1990 года и достигает своего пика в 2008-2009г. Далее ежегодные показатели количества релизов падают вниз, в 2013-2014г. сравнявшись с уровнём 2000г."
   ]
  },
  {
   "cell_type": "markdown",
   "metadata": {},
   "source": [
    "### Анализ продаж по платформам"
   ]
  },
  {
   "cell_type": "markdown",
   "metadata": {},
   "source": [
    "Посмотрим, как с течением времени менялись продажи у самых популярных платформ. \n",
    "\n",
    "Сначала найдём пять платформ с наибольшими суммарными продажами:"
   ]
  },
  {
   "cell_type": "code",
   "execution_count": 16,
   "metadata": {},
   "outputs": [
    {
     "data": {
      "text/html": [
       "<div>\n",
       "<style scoped>\n",
       "    .dataframe tbody tr th:only-of-type {\n",
       "        vertical-align: middle;\n",
       "    }\n",
       "\n",
       "    .dataframe tbody tr th {\n",
       "        vertical-align: top;\n",
       "    }\n",
       "\n",
       "    .dataframe thead th {\n",
       "        text-align: right;\n",
       "    }\n",
       "</style>\n",
       "<table border=\"1\" class=\"dataframe\">\n",
       "  <thead>\n",
       "    <tr style=\"text-align: right;\">\n",
       "      <th></th>\n",
       "      <th>platform</th>\n",
       "      <th>sum_sales</th>\n",
       "    </tr>\n",
       "  </thead>\n",
       "  <tbody>\n",
       "    <tr>\n",
       "      <td>0</td>\n",
       "      <td>PS2</td>\n",
       "      <td>1255.77</td>\n",
       "    </tr>\n",
       "    <tr>\n",
       "      <td>1</td>\n",
       "      <td>X360</td>\n",
       "      <td>971.42</td>\n",
       "    </tr>\n",
       "    <tr>\n",
       "      <td>2</td>\n",
       "      <td>PS3</td>\n",
       "      <td>939.65</td>\n",
       "    </tr>\n",
       "    <tr>\n",
       "      <td>3</td>\n",
       "      <td>Wii</td>\n",
       "      <td>907.51</td>\n",
       "    </tr>\n",
       "    <tr>\n",
       "      <td>4</td>\n",
       "      <td>DS</td>\n",
       "      <td>806.12</td>\n",
       "    </tr>\n",
       "  </tbody>\n",
       "</table>\n",
       "</div>"
      ],
      "text/plain": [
       "  platform  sum_sales\n",
       "0      PS2    1255.77\n",
       "1     X360     971.42\n",
       "2      PS3     939.65\n",
       "3      Wii     907.51\n",
       "4       DS     806.12"
      ]
     },
     "execution_count": 16,
     "metadata": {},
     "output_type": "execute_result"
    }
   ],
   "source": [
    "# группировка games по платформам, подсчет суммы продаж для каждой платформы,\n",
    "# далее получение пяти первых строк отсортированной по убыванию таблицы \n",
    "games.groupby('platform')['sum_sales'].sum().reset_index().sort_values(by='sum_sales', ascending=False).reset_index(drop=True).head()"
   ]
  },
  {
   "cell_type": "markdown",
   "metadata": {},
   "source": [
    "Итак, мы имеем список платформ с самыми большими суммарными продажами:"
   ]
  },
  {
   "cell_type": "code",
   "execution_count": 17,
   "metadata": {},
   "outputs": [],
   "source": [
    "top_platforms = ['PS2', 'X360', 'Wii', 'PS3', 'DS'] # создание списка top_platforms и сохранение в нём пяти наименований"
   ]
  },
  {
   "cell_type": "markdown",
   "metadata": {},
   "source": [
    "Теперь построим график, который будет отражать для этих пяти платформ динамику продаж по годам:"
   ]
  },
  {
   "cell_type": "code",
   "execution_count": 18,
   "metadata": {
    "scrolled": false
   },
   "outputs": [
    {
     "data": {
      "text/plain": [
       "Text(0, 0.5, 'Объём продаж (в миллионах проданных копий)')"
      ]
     },
     "execution_count": 18,
     "metadata": {},
     "output_type": "execute_result"
    },
    {
     "data": {
      "image/png": "[encoded data removed]",
      "text/plain": [
       "<Figure size 1080x360 with 1 Axes>"
      ]
     },
     "metadata": {
      "needs_background": "light"
     },
     "output_type": "display_data"
    }
   ],
   "source": [
    "# методом query() получение среза games по платформам из списка top_platforms, \n",
    "# методом pivot_table() формирование сводной таблицы по суммам продаж по каждой платформе с течением времени,\n",
    "# построение барплот по полученным данным\n",
    "(\n",
    "    games.query('platform in @top_platforms')\n",
    "    .pivot_table(index='year_of_release', columns='platform', values='sum_sales', aggfunc='sum')\n",
    "    .plot(kind='bar', figsize=(15,5), grid=True, legend=True, title='Ежегодная динамика объёмов продаж по пяти самым популярным платформам' + '\\n')\n",
    ")\n",
    "\n",
    "plt.xlabel('Год') # присвоение имени оси x \n",
    "plt.ylabel('Объём продаж (в миллионах проданных копий)') # присвоение имени оси y"
   ]
  },
  {
   "cell_type": "markdown",
   "metadata": {},
   "source": [
    "Перед нами на графике обнажилась очевидная закономерность: **платформы живут около 10 лет, а их расцвет не длится более 5-6 лет**. Также наблюдается следующая тенденция: **достаточно стремительный рост продаж у новых платформ - в течение 1-2 лет**."
   ]
  },
  {
   "cell_type": "markdown",
   "metadata": {},
   "source": [
    "Мы планируем кампанию на 2017-й год, соответственно нам интересны лишь те платформы, которые переживают в данный момент времени расцвет или только набирают обороты популярности. По этой причине **анализировать платформы до 2011-го года не имеет смысла, как устаревшие или устаревающие**:"
   ]
  },
  {
   "cell_type": "code",
   "execution_count": 19,
   "metadata": {},
   "outputs": [
    {
     "data": {
      "text/plain": [
       "Text(0, 0.5, 'Объём продаж (в миллионах проданных копий)')"
      ]
     },
     "execution_count": 19,
     "metadata": {},
     "output_type": "execute_result"
    },
    {
     "data": {
      "image/png": "[encoded data removed]",
      "text/plain": [
       "<Figure size 1296x576 with 1 Axes>"
      ]
     },
     "metadata": {
      "needs_background": "light"
     },
     "output_type": "display_data"
    }
   ],
   "source": [
    "# методом query() получение среза games по годам релиза не старше 2011 года, \n",
    "# методом pivot_table() формирование сводной таблицы по суммам продаж по каждой платформе с течением времени,\n",
    "# построение барплот по полученным данным\n",
    "(\n",
    "    games.query('year_of_release >= 2011')\n",
    "    .pivot_table(index='year_of_release', columns='platform', values='sum_sales', aggfunc='sum')\n",
    "    .plot(kind='bar', figsize=(18,8), grid=True, legend=True, title='Ежегодная динамика объёмов продаж по платформам' + '\\n')\n",
    ")\n",
    "\n",
    "plt.xlabel('Год') # присвоение имени оси x \n",
    "plt.ylabel('Объём продаж (в миллионах проданных копий)') # присвоение имени оси y"
   ]
  },
  {
   "cell_type": "markdown",
   "metadata": {},
   "source": [
    "До 2014-го года лидерами с самыми высокими продажами были X360 и PS3, но в 2014-2015г. их сменили **PS4 и XOne**. \n",
    "\n",
    "Как показывает выявленная нами тенденция динамики развития платформ, очевидно, продажи **PS4 и XOne** будут расти ещё, как минимум, пару лет. \n",
    "\n",
    "Данные за 2016 год могут быть неполными, поэтому не стоит считать, что в 2016-м продажи PS4 и XOne рухнули.\n",
    "\n",
    "У **3DS** наблюдается падение продаж, но не столь стремительное, как у PS3, поэтому, вероятно, эта платформа будет востребована ещё хотя бы год.\n",
    "\n",
    "Дополнительно стоит сделать ставку на **PC**, как на самую стабильную в распространённости платформу, имеющую своего постоянного пользователя. "
   ]
  },
  {
   "cell_type": "code",
   "execution_count": 21,
   "metadata": {},
   "outputs": [],
   "source": [
    "games = games.query('year_of_release >= 2011')"
   ]
  },
  {
   "cell_type": "code",
   "execution_count": 22,
   "metadata": {},
   "outputs": [
    {
     "data": {
      "text/plain": [
       "Text(0, 0.5, 'Объём продаж (в миллионах проданных копий)')"
      ]
     },
     "execution_count": 22,
     "metadata": {},
     "output_type": "execute_result"
    },
    {
     "data": {
      "image/png": "[encoded data removed]",
      "text/plain": [
       "<Figure size 1296x576 with 1 Axes>"
      ]
     },
     "metadata": {
      "needs_background": "light"
     },
     "output_type": "display_data"
    }
   ],
   "source": [
    "warnings.filterwarnings('ignore')\n",
    "\n",
    "# методом pivot_table() формирование сводной таблицы по суммам продаж по каждой платформе с течением времени,\n",
    "# построение диаграммы размаха по полученным данным\n",
    "(\n",
    "    games.pivot_table(index='year_of_release', columns='platform', values='sum_sales', aggfunc='sum')\n",
    "    .boxplot(figsize=(18,8))\n",
    ")\n",
    "plt.title('Диаграмма размаха по продажам игр на разных платформах'+'\\n') # присвоение имение графику\n",
    "plt.xlabel('Название платформы') # присвоение имени оси x \n",
    "plt.ylabel('Объём продаж (в миллионах проданных копий)') # присвоение имени оси y"
   ]
  },
  {
   "cell_type": "markdown",
   "metadata": {},
   "source": [
    "Диаграмма размаха демонстрирует нам, что по продажам в топе `PS3, PS4, X360` с медианными показателями выше 50млн.\n",
    "\n",
    "Точками на графике отображены аномальные для платформы и рассматриваемого периода значения: то есть в некоторый год *(на гистограмме с динамикой мы видим, что в 2011-м)* платформа **Wii** собрала чрезмерно большой для себя объём продаж в 60 млн, а **WiiU** в какой-то год *(на гистограмме с динамикой - 2016-й)* имела слишком низкие продажи. "
   ]
  },
  {
   "cell_type": "markdown",
   "metadata": {},
   "source": [
    "На примере лидера `PS3` посмотрим, как влияют на продажи внутри одной платформы отзывы пользователей и критиков."
   ]
  },
  {
   "cell_type": "code",
   "execution_count": 23,
   "metadata": {},
   "outputs": [
    {
     "name": "stdout",
     "output_type": "stream",
     "text": [
      "Зависимость продаж на платформе PS3 от оценок критиков: 0.38011114718290767\n",
      "Зависимость продаж на платформе PS3 от оценок пользователей: 0.014089348308019395\n"
     ]
    },
    {
     "data": {
      "image/png": "[encoded data removed]",
      "text/plain": [
       "<Figure size 432x288 with 1 Axes>"
      ]
     },
     "metadata": {
      "needs_background": "light"
     },
     "output_type": "display_data"
    },
    {
     "data": {
      "image/png": "[encoded data removed]",
      "text/plain": [
       "<Figure size 432x288 with 1 Axes>"
      ]
     },
     "metadata": {
      "needs_background": "light"
     },
     "output_type": "display_data"
    }
   ],
   "source": [
    "# методом query() получение среза только по \"PS3\", построение диаграммы рассеяния по суммам продаж и оценкам критиков\n",
    "games.query('platform == \"PS3\"').plot(x='sum_sales', y='critic_score', kind='scatter') \n",
    "plt.title('Взаимосвязь продаж на платформе PS3 и оценок критиков'+'\\n') # присвоение имение графику\n",
    "plt.xlabel('Объём продаж (в млн проданных копий)') # присвоение имени оси x \n",
    "plt.ylabel('Оценка критиков (от 0 до 100)') # присвоение имени оси y\n",
    "\n",
    "# методом query() получение среза только по \"PS3\", построение диаграммы рассеяния по суммам продаж и оценкам пользователей\n",
    "games.query('platform == \"PS3\"').plot(x='sum_sales', y='user_score', kind='scatter') \n",
    "plt.title('Взаимосвязь продаж на платформе PS3 и оценок пользователей'+'\\n') # присвоение имение графику\n",
    "plt.xlabel('Объём продаж (в млн проданных копий)') # присвоение имени оси x \n",
    "plt.ylabel('Оценка пользователей (от 0 до 10)') # присвоение имени оси y\n",
    "\n",
    "# получение коэффициента корреляции между суммами продаж и оценками критиков\n",
    "print('Зависимость продаж на платформе PS3 от оценок критиков:', games.query('platform == \"PS3\"')['sum_sales'].corr(games.query('platform == \"PS3\"')['critic_score']))\n",
    "      \n",
    "# получение коэффициента корреляции между суммами продаж и оценками пользователей\n",
    "print('Зависимость продаж на платформе PS3 от оценок пользователей:', games.query('platform == \"PS3\"')['sum_sales'].corr(games.query('platform == \"PS3\"')['user_score']))"
   ]
  },
  {
   "cell_type": "markdown",
   "metadata": {},
   "source": [
    "Итак, на продажи PS3 оказывают некоторое влияние оценки критиков. Оценки пользователей на продажах почти никак не сказываются.\n",
    "\n",
    "Оценим, какова ситуация на всех остальных платформах:"
   ]
  },
  {
   "cell_type": "code",
   "execution_count": 24,
   "metadata": {},
   "outputs": [
    {
     "name": "stdout",
     "output_type": "stream",
     "text": [
      "Зависимость продаж от оценок критиков (исключая PS3): 0.3175859131847344\n",
      "Зависимость продаж от оценок пользователей (исключая PS3): 0.038434918431186085\n"
     ]
    },
    {
     "data": {
      "image/png": "[encoded data removed]",
      "text/plain": [
       "<Figure size 432x288 with 1 Axes>"
      ]
     },
     "metadata": {
      "needs_background": "light"
     },
     "output_type": "display_data"
    },
    {
     "data": {
      "image/png": "[encoded data removed]",
      "text/plain": [
       "<Figure size 432x288 with 1 Axes>"
      ]
     },
     "metadata": {
      "needs_background": "light"
     },
     "output_type": "display_data"
    }
   ],
   "source": [
    "# методом query() получение среза, исключающего \"PS3\", построение диаграммы рассеяния по суммам продаж и оценкам критиков\n",
    "games.query('platform != \"PS3\"').plot(x='sum_sales', y='critic_score', kind='scatter') \n",
    "plt.title('Взаимосвязь продаж и оценок критиков (исключая PS3)'+'\\n') # присвоение имение графику\n",
    "plt.xlabel('Объём продаж (в млн проданных копий)') # присвоение имени оси x \n",
    "plt.ylabel('Оценка критиков (от 0 до 100)') # присвоение имени оси y\n",
    "\n",
    "# методом query() получение среза, исключающего \"PS3\", построение диаграммы рассеяния по суммам продаж и оценкам пользователей\n",
    "games.query('platform != \"PS3\"').plot(x='sum_sales', y='user_score', kind='scatter') \n",
    "plt.title('Взаимосвязь продаж и оценок пользователей (исключая PS3)'+'\\n') # присвоение имение графику\n",
    "plt.xlabel('Объём продаж (в млн проданных копий)') # присвоение имени оси x \n",
    "plt.ylabel('Оценка пользователей (от 0 до 10)') # присвоение имени оси y\n",
    "\n",
    "# получение коэффициента корреляции между суммами продаж и оценками критиков\n",
    "print('Зависимость продаж от оценок критиков (исключая PS3):', games.query('platform != \"PS3\"')['sum_sales'].corr(games.query('platform != \"PS3\"')['critic_score']))\n",
    "      \n",
    "# получение коэффициента корреляции между суммами продаж и оценками пользователей\n",
    "print('Зависимость продаж от оценок пользователей (исключая PS3):', games.query('platform != \"PS3\"')['sum_sales'].corr(games.query('platform != \"PS3\"')['user_score']))"
   ]
  },
  {
   "cell_type": "markdown",
   "metadata": {},
   "source": [
    "Ситуация на остальных платформ фактически идентичная, из чего мы делаем вывод, что **для продаж игр на всех платформах стоит ориентироваться на оценки критиков**."
   ]
  },
  {
   "cell_type": "markdown",
   "metadata": {},
   "source": [
    "### Анализ продаж по жанрам"
   ]
  },
  {
   "cell_type": "markdown",
   "metadata": {},
   "source": [
    "Ситуация с платформами нам более-менее понятна, проанализируем теперь средние объёмы продаж по всем регионам для каждого жанра:"
   ]
  },
  {
   "cell_type": "code",
   "execution_count": 25,
   "metadata": {},
   "outputs": [
    {
     "data": {
      "text/plain": [
       "Text(0, 0.5, 'Средний объём продаж (в млн проданных копий)')"
      ]
     },
     "execution_count": 25,
     "metadata": {},
     "output_type": "execute_result"
    },
    {
     "data": {
      "image/png": "[encoded data removed]",
      "text/plain": [
       "<Figure size 720x360 with 1 Axes>"
      ]
     },
     "metadata": {
      "needs_background": "light"
     },
     "output_type": "display_data"
    }
   ],
   "source": [
    "# методом pivot_table() формирование сводной таблицы по средним объёмам продаж по каждому жанру и построение графика по полученным данным\n",
    "(\n",
    "    games.pivot_table(index='genre', values='sum_sales')\n",
    "    .sort_values(by='sum_sales', ascending=False)\n",
    "    .plot(kind='bar', title='Распределение средних объёмов продаж по жанрам' + '\\n', figsize=(10,5), legend=False)\n",
    ")\n",
    "\n",
    "plt.xlabel('Название жанра') # присвоение имени оси x \n",
    "plt.ylabel('Средний объём продаж (в млн проданных копий)') # присвоение имени оси y"
   ]
  },
  {
   "cell_type": "markdown",
   "metadata": {},
   "source": [
    "**Получается, что самые высокие средние объёмы продаж у игр жанра Shooter.** У остальных жанров разница в этом показателе не очень существенна. "
   ]
  },
  {
   "cell_type": "markdown",
   "metadata": {},
   "source": [
    "### Вывод"
   ]
  },
  {
   "cell_type": "markdown",
   "metadata": {},
   "source": [
    "В ходе исследовательного анализа мы пришли к следующим выводам:\n",
    "- активное развитие рынка компьютерных игр началось в 1990 году и достигло максимальных показателей в 2008-2009г, далее ежегодное количество выпускаемых игр стало снижаться;\n",
    "- наибольшие суммарные продажи за весь период данных имеют следующие платформы: `PS2, X360, Wii, PS3, DS`.\n",
    "- жизнь игровой платформы не превышает 10 лет, а её прибыльность привлекательна только 5-6 лет, поэтому оценивать потенциал платформы можно только на основании данных за последние годы;\n",
    "- по состоянию на 2016-й год самый высокий потенциал у **PS4, XOne, 3DS и PC**;\n",
    "- объёмы продаж достаточно чувствительны к оценкам критиков, поэтому при оценке перспективности той или иной платформы необходимо также ориентироваться на рейтинги специалистов;\n",
    "- самые высокие средние объёмы продаж у игр жанра **Shooter**."
   ]
  },
  {
   "cell_type": "markdown",
   "metadata": {},
   "source": [
    "## Портрет пользователя каждого региона"
   ]
  },
  {
   "cell_type": "markdown",
   "metadata": {},
   "source": [
    "Оценим разницу вкусов и привычек пользователей из разных регионов - Северная Америка, Европа и Япония."
   ]
  },
  {
   "cell_type": "markdown",
   "metadata": {},
   "source": [
    "### По платформам"
   ]
  },
  {
   "cell_type": "markdown",
   "metadata": {},
   "source": [
    "**Топ-5 популярных платформ в Северной Америке:**"
   ]
  },
  {
   "cell_type": "code",
   "execution_count": 26,
   "metadata": {},
   "outputs": [
    {
     "data": {
      "text/html": [
       "<div>\n",
       "<style scoped>\n",
       "    .dataframe tbody tr th:only-of-type {\n",
       "        vertical-align: middle;\n",
       "    }\n",
       "\n",
       "    .dataframe tbody tr th {\n",
       "        vertical-align: top;\n",
       "    }\n",
       "\n",
       "    .dataframe thead th {\n",
       "        text-align: right;\n",
       "    }\n",
       "</style>\n",
       "<table border=\"1\" class=\"dataframe\">\n",
       "  <thead>\n",
       "    <tr style=\"text-align: right;\">\n",
       "      <th></th>\n",
       "      <th>na_sales</th>\n",
       "    </tr>\n",
       "    <tr>\n",
       "      <th>platform</th>\n",
       "      <th></th>\n",
       "    </tr>\n",
       "  </thead>\n",
       "  <tbody>\n",
       "    <tr>\n",
       "      <td>X360</td>\n",
       "      <td>226.80</td>\n",
       "    </tr>\n",
       "    <tr>\n",
       "      <td>PS3</td>\n",
       "      <td>168.26</td>\n",
       "    </tr>\n",
       "    <tr>\n",
       "      <td>PS4</td>\n",
       "      <td>108.74</td>\n",
       "    </tr>\n",
       "    <tr>\n",
       "      <td>XOne</td>\n",
       "      <td>93.12</td>\n",
       "    </tr>\n",
       "    <tr>\n",
       "      <td>3DS</td>\n",
       "      <td>82.65</td>\n",
       "    </tr>\n",
       "  </tbody>\n",
       "</table>\n",
       "</div>"
      ],
      "text/plain": [
       "          na_sales\n",
       "platform          \n",
       "X360        226.80\n",
       "PS3         168.26\n",
       "PS4         108.74\n",
       "XOne         93.12\n",
       "3DS          82.65"
      ]
     },
     "execution_count": 26,
     "metadata": {},
     "output_type": "execute_result"
    }
   ],
   "source": [
    "games.pivot_table(index='platform', values='na_sales', aggfunc='sum').sort_values(by='na_sales', ascending=False).head()"
   ]
  },
  {
   "cell_type": "markdown",
   "metadata": {},
   "source": [
    "**Топ-5 популярных платформ в Европе:**"
   ]
  },
  {
   "cell_type": "code",
   "execution_count": 27,
   "metadata": {},
   "outputs": [
    {
     "data": {
      "text/html": [
       "<div>\n",
       "<style scoped>\n",
       "    .dataframe tbody tr th:only-of-type {\n",
       "        vertical-align: middle;\n",
       "    }\n",
       "\n",
       "    .dataframe tbody tr th {\n",
       "        vertical-align: top;\n",
       "    }\n",
       "\n",
       "    .dataframe thead th {\n",
       "        text-align: right;\n",
       "    }\n",
       "</style>\n",
       "<table border=\"1\" class=\"dataframe\">\n",
       "  <thead>\n",
       "    <tr style=\"text-align: right;\">\n",
       "      <th></th>\n",
       "      <th>eu_sales</th>\n",
       "    </tr>\n",
       "    <tr>\n",
       "      <th>platform</th>\n",
       "      <th></th>\n",
       "    </tr>\n",
       "  </thead>\n",
       "  <tbody>\n",
       "    <tr>\n",
       "      <td>PS3</td>\n",
       "      <td>163.10</td>\n",
       "    </tr>\n",
       "    <tr>\n",
       "      <td>PS4</td>\n",
       "      <td>141.09</td>\n",
       "    </tr>\n",
       "    <tr>\n",
       "      <td>X360</td>\n",
       "      <td>117.10</td>\n",
       "    </tr>\n",
       "    <tr>\n",
       "      <td>3DS</td>\n",
       "      <td>61.27</td>\n",
       "    </tr>\n",
       "    <tr>\n",
       "      <td>PC</td>\n",
       "      <td>56.70</td>\n",
       "    </tr>\n",
       "  </tbody>\n",
       "</table>\n",
       "</div>"
      ],
      "text/plain": [
       "          eu_sales\n",
       "platform          \n",
       "PS3         163.10\n",
       "PS4         141.09\n",
       "X360        117.10\n",
       "3DS          61.27\n",
       "PC           56.70"
      ]
     },
     "execution_count": 27,
     "metadata": {},
     "output_type": "execute_result"
    }
   ],
   "source": [
    "games.pivot_table(index='platform', values='eu_sales', aggfunc='sum').sort_values(by='eu_sales', ascending=False).head()"
   ]
  },
  {
   "cell_type": "markdown",
   "metadata": {},
   "source": [
    "**Топ-5 популярных платформ в Японии:**"
   ]
  },
  {
   "cell_type": "code",
   "execution_count": 28,
   "metadata": {},
   "outputs": [
    {
     "data": {
      "text/html": [
       "<div>\n",
       "<style scoped>\n",
       "    .dataframe tbody tr th:only-of-type {\n",
       "        vertical-align: middle;\n",
       "    }\n",
       "\n",
       "    .dataframe tbody tr th {\n",
       "        vertical-align: top;\n",
       "    }\n",
       "\n",
       "    .dataframe thead th {\n",
       "        text-align: right;\n",
       "    }\n",
       "</style>\n",
       "<table border=\"1\" class=\"dataframe\">\n",
       "  <thead>\n",
       "    <tr style=\"text-align: right;\">\n",
       "      <th></th>\n",
       "      <th>jp_sales</th>\n",
       "    </tr>\n",
       "    <tr>\n",
       "      <th>platform</th>\n",
       "      <th></th>\n",
       "    </tr>\n",
       "  </thead>\n",
       "  <tbody>\n",
       "    <tr>\n",
       "      <td>3DS</td>\n",
       "      <td>100.62</td>\n",
       "    </tr>\n",
       "    <tr>\n",
       "      <td>PS3</td>\n",
       "      <td>49.39</td>\n",
       "    </tr>\n",
       "    <tr>\n",
       "      <td>PSP</td>\n",
       "      <td>24.04</td>\n",
       "    </tr>\n",
       "    <tr>\n",
       "      <td>PSV</td>\n",
       "      <td>21.84</td>\n",
       "    </tr>\n",
       "    <tr>\n",
       "      <td>PS4</td>\n",
       "      <td>15.96</td>\n",
       "    </tr>\n",
       "  </tbody>\n",
       "</table>\n",
       "</div>"
      ],
      "text/plain": [
       "          jp_sales\n",
       "platform          \n",
       "3DS         100.62\n",
       "PS3          49.39\n",
       "PSP          24.04\n",
       "PSV          21.84\n",
       "PS4          15.96"
      ]
     },
     "execution_count": 28,
     "metadata": {},
     "output_type": "execute_result"
    }
   ],
   "source": [
    "games.pivot_table(index='platform', values='jp_sales', aggfunc='sum').sort_values(by='jp_sales', ascending=False).head()"
   ]
  },
  {
   "cell_type": "markdown",
   "metadata": {},
   "source": [
    "Мы видим, насколько схоже потребительское поведение у европейцев и американцев - топ-5 платформ (`3DS, PS3, PS4, X360`) у них отличается только одной позицией (в Америке - `XOne`, а в Европе - `PC`). \n",
    "\n",
    "В Японии же, помимо востребованных в Америке и Европе `3DS, PS3 и PS4`, в топ-5 также попали платформы `PSP и PSV`, которые менее интересны на Западе. "
   ]
  },
  {
   "cell_type": "markdown",
   "metadata": {},
   "source": [
    "### По жанрам"
   ]
  },
  {
   "cell_type": "markdown",
   "metadata": {},
   "source": [
    "**Топ-5 популярных игровых жанров в Северной Америке:**"
   ]
  },
  {
   "cell_type": "code",
   "execution_count": 29,
   "metadata": {},
   "outputs": [
    {
     "data": {
      "text/html": [
       "<div>\n",
       "<style scoped>\n",
       "    .dataframe tbody tr th:only-of-type {\n",
       "        vertical-align: middle;\n",
       "    }\n",
       "\n",
       "    .dataframe tbody tr th {\n",
       "        vertical-align: top;\n",
       "    }\n",
       "\n",
       "    .dataframe thead th {\n",
       "        text-align: right;\n",
       "    }\n",
       "</style>\n",
       "<table border=\"1\" class=\"dataframe\">\n",
       "  <thead>\n",
       "    <tr style=\"text-align: right;\">\n",
       "      <th></th>\n",
       "      <th>na_sales</th>\n",
       "    </tr>\n",
       "    <tr>\n",
       "      <th>genre</th>\n",
       "      <th></th>\n",
       "    </tr>\n",
       "  </thead>\n",
       "  <tbody>\n",
       "    <tr>\n",
       "      <td>Action</td>\n",
       "      <td>230.92</td>\n",
       "    </tr>\n",
       "    <tr>\n",
       "      <td>Shooter</td>\n",
       "      <td>194.43</td>\n",
       "    </tr>\n",
       "    <tr>\n",
       "      <td>Sports</td>\n",
       "      <td>108.70</td>\n",
       "    </tr>\n",
       "    <tr>\n",
       "      <td>Role-Playing</td>\n",
       "      <td>83.78</td>\n",
       "    </tr>\n",
       "    <tr>\n",
       "      <td>Misc</td>\n",
       "      <td>69.69</td>\n",
       "    </tr>\n",
       "  </tbody>\n",
       "</table>\n",
       "</div>"
      ],
      "text/plain": [
       "              na_sales\n",
       "genre                 \n",
       "Action          230.92\n",
       "Shooter         194.43\n",
       "Sports          108.70\n",
       "Role-Playing     83.78\n",
       "Misc             69.69"
      ]
     },
     "execution_count": 29,
     "metadata": {},
     "output_type": "execute_result"
    }
   ],
   "source": [
    "games.pivot_table(index='genre', values='na_sales', aggfunc='sum').sort_values(by='na_sales', ascending=False).head()"
   ]
  },
  {
   "cell_type": "markdown",
   "metadata": {},
   "source": [
    "**Топ-5 популярных игровых жанров в Европе:**"
   ]
  },
  {
   "cell_type": "code",
   "execution_count": 30,
   "metadata": {},
   "outputs": [
    {
     "data": {
      "text/html": [
       "<div>\n",
       "<style scoped>\n",
       "    .dataframe tbody tr th:only-of-type {\n",
       "        vertical-align: middle;\n",
       "    }\n",
       "\n",
       "    .dataframe tbody tr th {\n",
       "        vertical-align: top;\n",
       "    }\n",
       "\n",
       "    .dataframe thead th {\n",
       "        text-align: right;\n",
       "    }\n",
       "</style>\n",
       "<table border=\"1\" class=\"dataframe\">\n",
       "  <thead>\n",
       "    <tr style=\"text-align: right;\">\n",
       "      <th></th>\n",
       "      <th>eu_sales</th>\n",
       "    </tr>\n",
       "    <tr>\n",
       "      <th>genre</th>\n",
       "      <th></th>\n",
       "    </tr>\n",
       "  </thead>\n",
       "  <tbody>\n",
       "    <tr>\n",
       "      <td>Action</td>\n",
       "      <td>199.12</td>\n",
       "    </tr>\n",
       "    <tr>\n",
       "      <td>Shooter</td>\n",
       "      <td>148.02</td>\n",
       "    </tr>\n",
       "    <tr>\n",
       "      <td>Sports</td>\n",
       "      <td>88.48</td>\n",
       "    </tr>\n",
       "    <tr>\n",
       "      <td>Role-Playing</td>\n",
       "      <td>62.30</td>\n",
       "    </tr>\n",
       "    <tr>\n",
       "      <td>Racing</td>\n",
       "      <td>40.58</td>\n",
       "    </tr>\n",
       "  </tbody>\n",
       "</table>\n",
       "</div>"
      ],
      "text/plain": [
       "              eu_sales\n",
       "genre                 \n",
       "Action          199.12\n",
       "Shooter         148.02\n",
       "Sports           88.48\n",
       "Role-Playing     62.30\n",
       "Racing           40.58"
      ]
     },
     "execution_count": 30,
     "metadata": {},
     "output_type": "execute_result"
    }
   ],
   "source": [
    "games.pivot_table(index='genre', values='eu_sales', aggfunc='sum').sort_values(by='eu_sales', ascending=False).head()"
   ]
  },
  {
   "cell_type": "markdown",
   "metadata": {},
   "source": [
    "**Топ-5 популярных игровых жанров в Японии:**"
   ]
  },
  {
   "cell_type": "code",
   "execution_count": 31,
   "metadata": {},
   "outputs": [
    {
     "data": {
      "text/html": [
       "<div>\n",
       "<style scoped>\n",
       "    .dataframe tbody tr th:only-of-type {\n",
       "        vertical-align: middle;\n",
       "    }\n",
       "\n",
       "    .dataframe tbody tr th {\n",
       "        vertical-align: top;\n",
       "    }\n",
       "\n",
       "    .dataframe thead th {\n",
       "        text-align: right;\n",
       "    }\n",
       "</style>\n",
       "<table border=\"1\" class=\"dataframe\">\n",
       "  <thead>\n",
       "    <tr style=\"text-align: right;\">\n",
       "      <th></th>\n",
       "      <th>jp_sales</th>\n",
       "    </tr>\n",
       "    <tr>\n",
       "      <th>genre</th>\n",
       "      <th></th>\n",
       "    </tr>\n",
       "  </thead>\n",
       "  <tbody>\n",
       "    <tr>\n",
       "      <td>Role-Playing</td>\n",
       "      <td>79.87</td>\n",
       "    </tr>\n",
       "    <tr>\n",
       "      <td>Action</td>\n",
       "      <td>63.62</td>\n",
       "    </tr>\n",
       "    <tr>\n",
       "      <td>Misc</td>\n",
       "      <td>17.60</td>\n",
       "    </tr>\n",
       "    <tr>\n",
       "      <td>Fighting</td>\n",
       "      <td>12.38</td>\n",
       "    </tr>\n",
       "    <tr>\n",
       "      <td>Platform</td>\n",
       "      <td>12.13</td>\n",
       "    </tr>\n",
       "  </tbody>\n",
       "</table>\n",
       "</div>"
      ],
      "text/plain": [
       "              jp_sales\n",
       "genre                 \n",
       "Role-Playing     79.87\n",
       "Action           63.62\n",
       "Misc             17.60\n",
       "Fighting         12.38\n",
       "Platform         12.13"
      ]
     },
     "execution_count": 31,
     "metadata": {},
     "output_type": "execute_result"
    }
   ],
   "source": [
    "games.pivot_table(index='genre', values='jp_sales', aggfunc='sum').sort_values(by='jp_sales', ascending=False).head()"
   ]
  },
  {
   "cell_type": "markdown",
   "metadata": {},
   "source": [
    "И снова вкусы европейцев и американцев почти совпадают: топ-5 их любимых жанров (`Action, Shooter, Sports, Role-Playing`) отличаются на одну позицию (в Америке - `Misc`, в Европе - `Racing`).\n",
    "\n",
    "В Японии топ-5 жанров несколько отличается: помимо популярных на Западе `Action и Role-Playing`, а также востребованного в Америке `Misc`, японцы ценят такие жанры, как `Fighting и Platform`."
   ]
  },
  {
   "cell_type": "markdown",
   "metadata": {},
   "source": [
    "### По рейтингу ESRB "
   ]
  },
  {
   "cell_type": "markdown",
   "metadata": {},
   "source": [
    "**Топ-5 по рейтингу ESRB в Северной Америке:**"
   ]
  },
  {
   "cell_type": "code",
   "execution_count": 32,
   "metadata": {},
   "outputs": [
    {
     "data": {
      "text/html": [
       "<div>\n",
       "<style scoped>\n",
       "    .dataframe tbody tr th:only-of-type {\n",
       "        vertical-align: middle;\n",
       "    }\n",
       "\n",
       "    .dataframe tbody tr th {\n",
       "        vertical-align: top;\n",
       "    }\n",
       "\n",
       "    .dataframe thead th {\n",
       "        text-align: right;\n",
       "    }\n",
       "</style>\n",
       "<table border=\"1\" class=\"dataframe\">\n",
       "  <thead>\n",
       "    <tr style=\"text-align: right;\">\n",
       "      <th></th>\n",
       "      <th>na_sales</th>\n",
       "    </tr>\n",
       "    <tr>\n",
       "      <th>rating</th>\n",
       "      <th></th>\n",
       "    </tr>\n",
       "  </thead>\n",
       "  <tbody>\n",
       "    <tr>\n",
       "      <td>M</td>\n",
       "      <td>308.45</td>\n",
       "    </tr>\n",
       "    <tr>\n",
       "      <td>E</td>\n",
       "      <td>170.17</td>\n",
       "    </tr>\n",
       "    <tr>\n",
       "      <td>unknown</td>\n",
       "      <td>123.69</td>\n",
       "    </tr>\n",
       "    <tr>\n",
       "      <td>E10+</td>\n",
       "      <td>117.72</td>\n",
       "    </tr>\n",
       "    <tr>\n",
       "      <td>T</td>\n",
       "      <td>109.31</td>\n",
       "    </tr>\n",
       "  </tbody>\n",
       "</table>\n",
       "</div>"
      ],
      "text/plain": [
       "         na_sales\n",
       "rating           \n",
       "M          308.45\n",
       "E          170.17\n",
       "unknown    123.69\n",
       "E10+       117.72\n",
       "T          109.31"
      ]
     },
     "execution_count": 32,
     "metadata": {},
     "output_type": "execute_result"
    }
   ],
   "source": [
    "games.pivot_table(index='rating', values='na_sales', aggfunc='sum').sort_values(by='na_sales', ascending=False).head()"
   ]
  },
  {
   "cell_type": "markdown",
   "metadata": {},
   "source": [
    "**Топ-5 по рейтингу ESRB в Европе:**"
   ]
  },
  {
   "cell_type": "code",
   "execution_count": 33,
   "metadata": {
    "scrolled": true
   },
   "outputs": [
    {
     "data": {
      "text/html": [
       "<div>\n",
       "<style scoped>\n",
       "    .dataframe tbody tr th:only-of-type {\n",
       "        vertical-align: middle;\n",
       "    }\n",
       "\n",
       "    .dataframe tbody tr th {\n",
       "        vertical-align: top;\n",
       "    }\n",
       "\n",
       "    .dataframe thead th {\n",
       "        text-align: right;\n",
       "    }\n",
       "</style>\n",
       "<table border=\"1\" class=\"dataframe\">\n",
       "  <thead>\n",
       "    <tr style=\"text-align: right;\">\n",
       "      <th></th>\n",
       "      <th>eu_sales</th>\n",
       "    </tr>\n",
       "    <tr>\n",
       "      <th>rating</th>\n",
       "      <th></th>\n",
       "    </tr>\n",
       "  </thead>\n",
       "  <tbody>\n",
       "    <tr>\n",
       "      <td>M</td>\n",
       "      <td>250.26</td>\n",
       "    </tr>\n",
       "    <tr>\n",
       "      <td>E</td>\n",
       "      <td>141.73</td>\n",
       "    </tr>\n",
       "    <tr>\n",
       "      <td>unknown</td>\n",
       "      <td>116.61</td>\n",
       "    </tr>\n",
       "    <tr>\n",
       "      <td>T</td>\n",
       "      <td>83.16</td>\n",
       "    </tr>\n",
       "    <tr>\n",
       "      <td>E10+</td>\n",
       "      <td>78.00</td>\n",
       "    </tr>\n",
       "  </tbody>\n",
       "</table>\n",
       "</div>"
      ],
      "text/plain": [
       "         eu_sales\n",
       "rating           \n",
       "M          250.26\n",
       "E          141.73\n",
       "unknown    116.61\n",
       "T           83.16\n",
       "E10+        78.00"
      ]
     },
     "execution_count": 33,
     "metadata": {},
     "output_type": "execute_result"
    }
   ],
   "source": [
    "games.pivot_table(index='rating', values='eu_sales', aggfunc='sum').sort_values(by='eu_sales', ascending=False).head()"
   ]
  },
  {
   "cell_type": "markdown",
   "metadata": {},
   "source": [
    "**Топ-5 по рейтингу ESRB в Японии:**"
   ]
  },
  {
   "cell_type": "code",
   "execution_count": 34,
   "metadata": {},
   "outputs": [
    {
     "data": {
      "text/html": [
       "<div>\n",
       "<style scoped>\n",
       "    .dataframe tbody tr th:only-of-type {\n",
       "        vertical-align: middle;\n",
       "    }\n",
       "\n",
       "    .dataframe tbody tr th {\n",
       "        vertical-align: top;\n",
       "    }\n",
       "\n",
       "    .dataframe thead th {\n",
       "        text-align: right;\n",
       "    }\n",
       "</style>\n",
       "<table border=\"1\" class=\"dataframe\">\n",
       "  <thead>\n",
       "    <tr style=\"text-align: right;\">\n",
       "      <th></th>\n",
       "      <th>jp_sales</th>\n",
       "    </tr>\n",
       "    <tr>\n",
       "      <th>rating</th>\n",
       "      <th></th>\n",
       "    </tr>\n",
       "  </thead>\n",
       "  <tbody>\n",
       "    <tr>\n",
       "      <td>unknown</td>\n",
       "      <td>138.21</td>\n",
       "    </tr>\n",
       "    <tr>\n",
       "      <td>E</td>\n",
       "      <td>36.68</td>\n",
       "    </tr>\n",
       "    <tr>\n",
       "      <td>T</td>\n",
       "      <td>33.39</td>\n",
       "    </tr>\n",
       "    <tr>\n",
       "      <td>M</td>\n",
       "      <td>26.14</td>\n",
       "    </tr>\n",
       "    <tr>\n",
       "      <td>E10+</td>\n",
       "      <td>11.23</td>\n",
       "    </tr>\n",
       "  </tbody>\n",
       "</table>\n",
       "</div>"
      ],
      "text/plain": [
       "         jp_sales\n",
       "rating           \n",
       "unknown    138.21\n",
       "E           36.68\n",
       "T           33.39\n",
       "M           26.14\n",
       "E10+        11.23"
      ]
     },
     "execution_count": 34,
     "metadata": {},
     "output_type": "execute_result"
    }
   ],
   "source": [
    "games.pivot_table(index='rating', values='jp_sales', aggfunc='sum').sort_values(by='jp_sales', ascending=False).head()"
   ]
  },
  {
   "cell_type": "markdown",
   "metadata": {},
   "source": [
    "В Европе и Америке с большим отрывом вперёд выбиваются игры для взрослых с рейтингом \"M\".\n",
    "\n",
    "В Японии опережают игры для всех (рейтинг \"E\") и для подростков (рейтинг \"T\"). \n",
    "\n",
    "В топ всех регионов попали объёмы продаж игр, рейтинг которых которых неизвестен. Таким образом, сказывается нехватка данных по этому критерию."
   ]
  },
  {
   "cell_type": "markdown",
   "metadata": {},
   "source": [
    "### Вывод"
   ]
  },
  {
   "cell_type": "markdown",
   "metadata": {},
   "source": [
    "Мы проанализировали потребительское поведение в трёх разных регионах (Северная Америка, Европа и Япония) и пришли к следующим выводам:\n",
    "- вкусы американцев и европейцев схожи между собой, в то время как у японцев есть некоторые характерные предпочтения, которые выбиваются из общей тенденции;\n",
    "- в Америке и Европе пользуются одними и теми же платформами (`3DS, PS3, PS4, X360`), топ-5 у них отличаются только на одну позицию (в Америке - `XOne`, в Европе - `PC`);\n",
    "- в Японии же среди пяти популярных платформ (вдобавок к `3DS, PS3 и PS4`) оказались `PSP и PSV`, которые мало интересны на Западе;\n",
    "- вкусы к игровым жанрам у американцев и европейцев также почти полностью совпадают (`Action, Shooter, Sports, Role-Playing`), их топ-5 имеет различие в одну позицию (в Америке - `Misc`, в Европе - `Racing`);\n",
    "- в Японии, помимо популярных на Западе `Action и Role-Playing`, а также востребованного в Америке `Misc`, ценят такие жанры, как `Fighting и Platform`;\n",
    "- по рейтингу ESRB на Западе более востребованы игры для взрослых с рейтингом \"M\", а в Японии - игры для всех (рейтинг \"E\") и для подростков (рейтинг \"T\")."
   ]
  },
  {
   "cell_type": "markdown",
   "metadata": {},
   "source": [
    "## Проверка гипотез"
   ]
  },
  {
   "cell_type": "markdown",
   "metadata": {},
   "source": [
    "Сравним средние пользовательские рейтинги платформ Xbox One и PC и рейтинги жанров Action и Sports.\n",
    "\n",
    "Но прежде чем перейти к проверке гипотез, удалим пропуски в столбце `user_score`:"
   ]
  },
  {
   "cell_type": "code",
   "execution_count": 35,
   "metadata": {},
   "outputs": [],
   "source": [
    "games.dropna(subset = ['user_score'], inplace = True) # удаление всех строк, в которых есть пропуск в столбце user_score"
   ]
  },
  {
   "cell_type": "markdown",
   "metadata": {},
   "source": [
    "### Средние пользовательские рейтинги платформ Xbox One и PC одинаковые"
   ]
  },
  {
   "cell_type": "markdown",
   "metadata": {},
   "source": [
    "Перед нами стоит задача проверить гипотезу о равенстве среднего двух независимых друг от друга генеральных совокупностей по взятым из них выборкам. Соответственно, мы будем использовать `scipy.stats.ttest_ind()`.\n",
    "\n",
    "**Нулевая гипотеза в данном случае будет звучать так: \"Средний пользовательский рейтинг платформы Xbox One равен среднему пользовательскому рейтингу платформы PC\".**\n",
    "\n",
    "Альтернативная гипотеза: \"Средний пользовательский рейтинг платформы Xbox One не равен среднему пользовательскому рейтингу платформы PC\"."
   ]
  },
  {
   "cell_type": "code",
   "execution_count": 36,
   "metadata": {
    "scrolled": true
   },
   "outputs": [
    {
     "name": "stdout",
     "output_type": "stream",
     "text": [
      "p-значение: 0.6267602271422398\n",
      "Не получилось отвергнуть нулевую гипотезу\n"
     ]
    }
   ],
   "source": [
    "# объявление критического уровня статистической значимости в 5%\n",
    "alpha = 0.05 \n",
    "\n",
    "# методу scipy.stats.ttest_ind() в качестве параметров передадим массивы, содержащие выборки по рейтингам обоих платформ\n",
    "result = st.ttest_ind(games[games['platform'] == 'XOne']['user_score'], games[games['platform'] == 'PC']['user_score'])\n",
    "print('p-значение:', result.pvalue)\n",
    "\n",
    "# сравнение полученного уровня значимости с установленным критическим\n",
    "if (result.pvalue < alpha):\n",
    "    print(\"Отвергаем нулевую гипотезу\")\n",
    "else:\n",
    "    print(\"Не получилось отвергнуть нулевую гипотезу\")"
   ]
  },
  {
   "cell_type": "markdown",
   "metadata": {},
   "source": [
    "**Следовательно, сформулированная нами нулевая гипотеза не может быть отвергнута: средние пользовательские рейтинги \"Xbox One\" и \"PC\" близки друг другу.**"
   ]
  },
  {
   "cell_type": "markdown",
   "metadata": {},
   "source": [
    "### Средние пользовательские рейтинги жанров Action и Sports разные"
   ]
  },
  {
   "cell_type": "markdown",
   "metadata": {},
   "source": [
    "**В данном случае нулевая гипотеза такая: \"Средний пользовательский рейтинг жанра Action равен среднему пользовательскому рейтингу жанра Sports\"**.\n",
    "\n",
    "Следовательно альтернативная гипотеза такова: \"Средний пользовательский рейтинг жанра Action не равен среднему пользовательскому рейтингу жанра Sports\"."
   ]
  },
  {
   "cell_type": "code",
   "execution_count": 37,
   "metadata": {},
   "outputs": [
    {
     "name": "stdout",
     "output_type": "stream",
     "text": [
      "p-значение: 5.1974550252152054e-24\n",
      "Отвергаем нулевую гипотезу\n"
     ]
    }
   ],
   "source": [
    "# методу scipy.stats.ttest_ind() в качестве параметров передадим массивы, содержащие выборки по рейтингам обоих жанров\n",
    "result_tariffs = st.ttest_ind(games[games['genre'] == 'Action']['user_score'], games[games['genre'] == 'Sports']['user_score'])\n",
    "print('p-значение:', result_tariffs.pvalue)\n",
    "\n",
    "# сравнение полученного уровня значимости с установленным критическим\n",
    "if (result_tariffs.pvalue < alpha):\n",
    "    print(\"Отвергаем нулевую гипотезу\")\n",
    "else:\n",
    "    print(\"Не получилось отвергнуть нулевую гипотезу\")"
   ]
  },
  {
   "cell_type": "markdown",
   "metadata": {},
   "source": [
    "**В этой ситуации нулевая гипотеза отвергнута, а это значит, что средние пользовательские рейтинги жанров Action и Sports отличаются друг от друга.**"
   ]
  },
  {
   "cell_type": "markdown",
   "metadata": {},
   "source": [
    "### Вывод"
   ]
  },
  {
   "cell_type": "markdown",
   "metadata": {},
   "source": [
    "Мы проверили две волнующие нас гипотезы и пришли к следующим выводам:\n",
    "- средние пользовательские рейтинги `Xbox One и PC` близки друг другу;\n",
    "- средние пользовательские рейтинги жанров `Action и Sports` имеют между собой существенную разницу. Посмотрим, какой жанр игроки оценивают выше:"
   ]
  },
  {
   "cell_type": "code",
   "execution_count": 38,
   "metadata": {},
   "outputs": [
    {
     "name": "stdout",
     "output_type": "stream",
     "text": [
      "Средняя пользовательская оценка жанра Action: 6.775903614457831\n",
      "Средняя пользовательская оценка жанра Sports: 5.650813008130081\n"
     ]
    }
   ],
   "source": [
    "print('Средняя пользовательская оценка жанра Action:', games[games['genre'] == 'Action']['user_score'].mean())\n",
    "print('Средняя пользовательская оценка жанра Sports:', games[games['genre'] == 'Sports']['user_score'].mean())"
   ]
  },
  {
   "cell_type": "markdown",
   "metadata": {},
   "source": [
    "## Общий вывод"
   ]
  },
  {
   "cell_type": "markdown",
   "metadata": {},
   "source": [
    "Мы произвели анализ данных о продажах игр до 2016-го года и пришли к следующим выводам:\n",
    "- активное развитие индустрии компьютерных игр началось в 1990 году и достигло максимальных показателей в 2008-2009г, далее ежегодное количество выпускаемых игр стало снижаться;\n",
    "- самые большие объёмы продаж у данных платформ: `PS2, X360, Wii, PS3, DS`;\n",
    "- существование игровой платформы не длится более 10 лет, а её активная жизнь ограничена рамками в 5-6 лет. Чтобы не сделать ставку на устаревшую или устаревающую платформу, нужно оценивать её потенциал только на основании актуальных данных за последние годы;\n",
    "- потребительское поведение в Северной Америке и Европе почти идентично, при ориентировании на японский рынок стоит обращать внимание на некоторые выделяющиеся особенности, нехарактерные западному клиенту.\n",
    "\n",
    "**Нами обнаружены некоторые тенденции, которые позволяют выявить потенциально популярный в 2017-м году продукт:**\n",
    "- среди игровых платформ, предположительно, самый высокий потенциал **PS4 и XOne**, дополнительно стоит взять в расчёт такие платформы, как **3DS и PC**;\n",
    "- мы выявили, что **на объёмы продаж влияют оценки критиков**, так что для выделенных нами платформ также необходимо ориентироваться на рейтинги для корректировки рекламных кампаний;\n",
    "- как показала проверка гипотезы, средние пользовательские рейтинги **Xbox One и PC** близки друг другу, это говорит о схожей потребительской востребованности консоли и персонального компьютера - значит, можно уверенно делать ставку на продукты обеих платформ; \n",
    "- в Америке и Европе самые востребованные платформы - **X360, PS3 и PS4**, в Японии - **3DS, PS3, PSP и PSV**;\n",
    "- самые популярные жанры в Америке и Европе - **Action, Shooter, Sports**, в Японии - **Role-Playing, Action и Misc**;\n",
    "- проверка гипотезы показала нам, что игроки оценивают жанры **Action и Sports** не одинаково - средняя пользовательская оценка у игр Action выше, чем у Sports;\n",
    "- самые высокие средние объёмы продаж у игр жанра **Shooter**;\n",
    "- по рейтингу ESRB на Западе более востребованы игры для взрослых с рейтингом \"M\", а в Японии - игры без ограничений по возрасту (рейтинг \"E\") и для подростков (рейтинг \"T\")."
   ]
  }
 ],
 "metadata": {
  "ExecuteTimeLog": [
   {
    "duration": 552,
    "start_time": "2021-12-27T10:18:10.855Z"
   },
   {
    "duration": 56,
    "start_time": "2021-12-27T10:18:11.409Z"
   },
   {
    "duration": 9,
    "start_time": "2021-12-27T10:18:11.467Z"
   },
   {
    "duration": 9,
    "start_time": "2021-12-27T10:18:11.478Z"
   },
   {
    "duration": 27,
    "start_time": "2021-12-27T10:18:11.488Z"
   },
   {
    "duration": 15,
    "start_time": "2021-12-27T10:18:11.516Z"
   },
   {
    "duration": 525,
    "start_time": "2021-12-27T10:23:37.439Z"
   },
   {
    "duration": 8,
    "start_time": "2021-12-27T10:24:33.972Z"
   },
   {
    "duration": 262,
    "start_time": "2021-12-27T10:25:43.696Z"
   },
   {
    "duration": 264,
    "start_time": "2021-12-27T10:26:02.046Z"
   },
   {
    "duration": 135,
    "start_time": "2021-12-27T10:26:54.172Z"
   },
   {
    "duration": 25392,
    "start_time": "2021-12-27T10:27:02.351Z"
   },
   {
    "duration": 138,
    "start_time": "2021-12-27T10:31:21.162Z"
   },
   {
    "duration": 3,
    "start_time": "2021-12-27T10:33:25.909Z"
   },
   {
    "duration": 35,
    "start_time": "2021-12-27T10:33:38.358Z"
   },
   {
    "duration": 150,
    "start_time": "2021-12-27T10:34:12.009Z"
   },
   {
    "duration": 3,
    "start_time": "2021-12-27T10:34:37.853Z"
   },
   {
    "duration": 60,
    "start_time": "2021-12-27T10:34:37.858Z"
   },
   {
    "duration": 12,
    "start_time": "2021-12-27T10:34:37.920Z"
   },
   {
    "duration": 22,
    "start_time": "2021-12-27T10:34:37.934Z"
   },
   {
    "duration": 27,
    "start_time": "2021-12-27T10:34:37.958Z"
   },
   {
    "duration": 18,
    "start_time": "2021-12-27T10:34:37.987Z"
   },
   {
    "duration": 172,
    "start_time": "2021-12-27T10:34:38.007Z"
   },
   {
    "duration": 33,
    "start_time": "2021-12-27T10:35:11.895Z"
   },
   {
    "duration": 34,
    "start_time": "2021-12-27T10:35:50.255Z"
   },
   {
    "duration": 179,
    "start_time": "2021-12-27T10:36:22.783Z"
   },
   {
    "duration": 21,
    "start_time": "2021-12-27T10:36:27.623Z"
   },
   {
    "duration": 22,
    "start_time": "2021-12-27T10:36:59.938Z"
   },
   {
    "duration": 141,
    "start_time": "2021-12-27T10:39:18.275Z"
   },
   {
    "duration": 142,
    "start_time": "2021-12-27T10:39:40.031Z"
   },
   {
    "duration": 135,
    "start_time": "2021-12-27T10:39:50.004Z"
   },
   {
    "duration": 139,
    "start_time": "2021-12-27T10:39:58.582Z"
   },
   {
    "duration": 118,
    "start_time": "2021-12-27T10:40:18.847Z"
   },
   {
    "duration": 41,
    "start_time": "2021-12-27T10:41:07.619Z"
   },
   {
    "duration": 138,
    "start_time": "2021-12-27T10:42:33.290Z"
   },
   {
    "duration": 149,
    "start_time": "2021-12-27T10:42:40.720Z"
   },
   {
    "duration": 146,
    "start_time": "2021-12-27T10:44:09.473Z"
   },
   {
    "duration": 140,
    "start_time": "2021-12-27T10:44:33.087Z"
   },
   {
    "duration": 151,
    "start_time": "2021-12-27T10:44:45.654Z"
   },
   {
    "duration": 156,
    "start_time": "2021-12-27T10:44:54.193Z"
   },
   {
    "duration": 22,
    "start_time": "2021-12-27T10:45:41.351Z"
   },
   {
    "duration": 152,
    "start_time": "2021-12-27T10:45:50.119Z"
   },
   {
    "duration": 151,
    "start_time": "2021-12-27T10:45:56.998Z"
   },
   {
    "duration": 150,
    "start_time": "2021-12-27T10:46:04.614Z"
   },
   {
    "duration": 22,
    "start_time": "2021-12-27T10:46:11.229Z"
   },
   {
    "duration": 22,
    "start_time": "2021-12-27T10:46:16.326Z"
   },
   {
    "duration": 1043,
    "start_time": "2021-12-27T10:46:39.207Z"
   },
   {
    "duration": 152,
    "start_time": "2021-12-27T10:47:03.142Z"
   },
   {
    "duration": 19,
    "start_time": "2021-12-27T10:47:17.623Z"
   },
   {
    "duration": 24,
    "start_time": "2021-12-27T10:47:25.582Z"
   },
   {
    "duration": 40,
    "start_time": "2021-12-27T10:48:01.263Z"
   },
   {
    "duration": 8,
    "start_time": "2021-12-27T10:48:30.712Z"
   },
   {
    "duration": 7,
    "start_time": "2021-12-27T10:49:24.367Z"
   },
   {
    "duration": 35,
    "start_time": "2021-12-27T10:50:07.191Z"
   },
   {
    "duration": 23,
    "start_time": "2021-12-27T10:50:38.792Z"
   },
   {
    "duration": 36,
    "start_time": "2021-12-27T10:51:00.542Z"
   },
   {
    "duration": 22,
    "start_time": "2021-12-27T10:51:25.747Z"
   },
   {
    "duration": 8,
    "start_time": "2021-12-27T10:52:04.831Z"
   },
   {
    "duration": 8,
    "start_time": "2021-12-27T10:53:31.786Z"
   },
   {
    "duration": 23,
    "start_time": "2021-12-27T10:53:39.414Z"
   },
   {
    "duration": 7,
    "start_time": "2021-12-27T10:53:51.615Z"
   },
   {
    "duration": 20,
    "start_time": "2021-12-27T10:54:03.135Z"
   },
   {
    "duration": 8,
    "start_time": "2021-12-27T10:54:19.055Z"
   },
   {
    "duration": 5,
    "start_time": "2021-12-27T10:55:04.483Z"
   },
   {
    "duration": 4,
    "start_time": "2021-12-27T10:55:09.600Z"
   },
   {
    "duration": 5,
    "start_time": "2021-12-27T10:55:18.280Z"
   },
   {
    "duration": 23,
    "start_time": "2021-12-27T10:55:24.823Z"
   },
   {
    "duration": 35,
    "start_time": "2021-12-27T10:55:46.970Z"
   },
   {
    "duration": 20,
    "start_time": "2021-12-27T10:56:38.279Z"
   },
   {
    "duration": 23,
    "start_time": "2021-12-27T10:56:42.655Z"
   },
   {
    "duration": 1107,
    "start_time": "2021-12-27T10:56:56.257Z"
   },
   {
    "duration": 23,
    "start_time": "2021-12-27T10:57:03.469Z"
   },
   {
    "duration": 21,
    "start_time": "2021-12-27T10:57:48.624Z"
   },
   {
    "duration": 23,
    "start_time": "2021-12-27T10:57:51.284Z"
   },
   {
    "duration": 8,
    "start_time": "2021-12-27T10:58:20.231Z"
   },
   {
    "duration": 29,
    "start_time": "2021-12-27T11:00:02.903Z"
   },
   {
    "duration": 21,
    "start_time": "2021-12-27T11:00:10.231Z"
   },
   {
    "duration": 7,
    "start_time": "2021-12-27T11:00:26.097Z"
   },
   {
    "duration": 8,
    "start_time": "2021-12-27T11:07:29.323Z"
   },
   {
    "duration": 8,
    "start_time": "2021-12-27T11:07:48.752Z"
   },
   {
    "duration": 6,
    "start_time": "2021-12-27T11:08:10.069Z"
   },
   {
    "duration": 9,
    "start_time": "2021-12-27T11:08:47.161Z"
   },
   {
    "duration": 6,
    "start_time": "2021-12-27T11:08:58.048Z"
   },
   {
    "duration": 12,
    "start_time": "2021-12-27T11:09:04.184Z"
   },
   {
    "duration": 4,
    "start_time": "2021-12-27T11:09:08.809Z"
   },
   {
    "duration": 195,
    "start_time": "2021-12-27T11:09:21.642Z"
   },
   {
    "duration": 7,
    "start_time": "2021-12-27T11:09:27.899Z"
   },
   {
    "duration": 9,
    "start_time": "2021-12-27T11:25:17.343Z"
   },
   {
    "duration": 183,
    "start_time": "2021-12-27T11:25:25.895Z"
   },
   {
    "duration": 10,
    "start_time": "2021-12-27T11:25:30.518Z"
   },
   {
    "duration": 8,
    "start_time": "2021-12-27T11:25:51.221Z"
   },
   {
    "duration": 7,
    "start_time": "2021-12-27T11:25:53.549Z"
   },
   {
    "duration": 6,
    "start_time": "2021-12-27T11:25:59.868Z"
   },
   {
    "duration": 178,
    "start_time": "2021-12-27T11:28:32.261Z"
   },
   {
    "duration": 11,
    "start_time": "2021-12-27T11:28:45.599Z"
   },
   {
    "duration": 154,
    "start_time": "2021-12-27T11:29:05.632Z"
   },
   {
    "duration": 10,
    "start_time": "2021-12-27T11:29:10.465Z"
   },
   {
    "duration": 12,
    "start_time": "2021-12-27T11:29:33.021Z"
   },
   {
    "duration": 11,
    "start_time": "2021-12-27T11:29:44.061Z"
   },
   {
    "duration": 152,
    "start_time": "2021-12-27T11:30:26.637Z"
   },
   {
    "duration": 6,
    "start_time": "2021-12-27T11:30:54.989Z"
   },
   {
    "duration": 6,
    "start_time": "2021-12-27T11:31:11.125Z"
   },
   {
    "duration": 6,
    "start_time": "2021-12-27T11:31:38.909Z"
   },
   {
    "duration": 9,
    "start_time": "2021-12-27T11:42:12.303Z"
   },
   {
    "duration": 8,
    "start_time": "2021-12-27T11:42:16.380Z"
   },
   {
    "duration": 9,
    "start_time": "2021-12-27T11:42:20.534Z"
   },
   {
    "duration": 12,
    "start_time": "2021-12-27T11:42:34.384Z"
   },
   {
    "duration": 8,
    "start_time": "2021-12-27T11:42:48.812Z"
   },
   {
    "duration": 134,
    "start_time": "2021-12-27T11:44:00.459Z"
   },
   {
    "duration": 152,
    "start_time": "2021-12-27T11:44:49.839Z"
   },
   {
    "duration": 11,
    "start_time": "2021-12-27T11:45:06.076Z"
   },
   {
    "duration": 37,
    "start_time": "2021-12-27T11:46:15.435Z"
   },
   {
    "duration": 9,
    "start_time": "2021-12-27T11:48:15.975Z"
   },
   {
    "duration": 6,
    "start_time": "2021-12-27T11:48:28.872Z"
   },
   {
    "duration": 10,
    "start_time": "2021-12-27T11:48:40.194Z"
   },
   {
    "duration": 9,
    "start_time": "2021-12-27T11:49:30.147Z"
   },
   {
    "duration": 9,
    "start_time": "2021-12-27T11:49:34.701Z"
   },
   {
    "duration": 7,
    "start_time": "2021-12-27T11:49:58.604Z"
   },
   {
    "duration": 132,
    "start_time": "2021-12-27T11:50:31.269Z"
   },
   {
    "duration": 482,
    "start_time": "2021-12-27T11:50:37.452Z"
   },
   {
    "duration": 12,
    "start_time": "2021-12-27T11:50:43.131Z"
   },
   {
    "duration": 126,
    "start_time": "2021-12-27T11:51:32.294Z"
   },
   {
    "duration": 12,
    "start_time": "2021-12-27T11:52:12.946Z"
   },
   {
    "duration": 262,
    "start_time": "2021-12-27T11:52:39.019Z"
   },
   {
    "duration": 4,
    "start_time": "2021-12-27T11:52:46.811Z"
   },
   {
    "duration": 10,
    "start_time": "2021-12-27T11:53:41.238Z"
   },
   {
    "duration": 8,
    "start_time": "2021-12-27T11:53:54.971Z"
   },
   {
    "duration": 6,
    "start_time": "2021-12-27T11:54:16.868Z"
   },
   {
    "duration": 8,
    "start_time": "2021-12-27T11:54:19.987Z"
   },
   {
    "duration": 6,
    "start_time": "2021-12-27T11:54:37.515Z"
   },
   {
    "duration": 8,
    "start_time": "2021-12-27T11:54:42.582Z"
   },
   {
    "duration": 7,
    "start_time": "2021-12-27T11:55:02.859Z"
   },
   {
    "duration": 13,
    "start_time": "2021-12-27T11:55:20.082Z"
   },
   {
    "duration": 8,
    "start_time": "2021-12-27T11:55:32.554Z"
   },
   {
    "duration": 44,
    "start_time": "2021-12-27T11:57:23.027Z"
   },
   {
    "duration": 18,
    "start_time": "2021-12-27T11:57:31.869Z"
   },
   {
    "duration": 17,
    "start_time": "2021-12-27T11:57:38.012Z"
   },
   {
    "duration": 16,
    "start_time": "2021-12-27T11:57:46.771Z"
   },
   {
    "duration": 4,
    "start_time": "2021-12-27T12:08:22.331Z"
   },
   {
    "duration": 5,
    "start_time": "2021-12-27T12:08:35.092Z"
   },
   {
    "duration": 149,
    "start_time": "2021-12-27T12:09:25.149Z"
   },
   {
    "duration": 9,
    "start_time": "2021-12-27T12:09:42.508Z"
   },
   {
    "duration": 5,
    "start_time": "2021-12-27T12:09:50.196Z"
   },
   {
    "duration": 8,
    "start_time": "2021-12-27T12:10:05.699Z"
   },
   {
    "duration": 3526,
    "start_time": "2021-12-27T12:10:14.726Z"
   },
   {
    "duration": 11,
    "start_time": "2021-12-27T12:10:21.556Z"
   },
   {
    "duration": 7,
    "start_time": "2021-12-27T12:10:30.196Z"
   },
   {
    "duration": 8,
    "start_time": "2021-12-27T12:10:37.014Z"
   },
   {
    "duration": 7,
    "start_time": "2021-12-27T12:10:58.340Z"
   },
   {
    "duration": 134,
    "start_time": "2021-12-27T12:11:15.147Z"
   },
   {
    "duration": 172,
    "start_time": "2021-12-27T12:11:48.005Z"
   },
   {
    "duration": 142,
    "start_time": "2021-12-27T12:11:52.155Z"
   },
   {
    "duration": 12,
    "start_time": "2021-12-27T12:12:04.788Z"
   },
   {
    "duration": 8,
    "start_time": "2021-12-27T12:12:20.403Z"
   },
   {
    "duration": 10,
    "start_time": "2021-12-27T12:12:27.476Z"
   },
   {
    "duration": 9,
    "start_time": "2021-12-27T12:12:44.996Z"
   },
   {
    "duration": 12,
    "start_time": "2021-12-27T12:12:59.955Z"
   },
   {
    "duration": 13,
    "start_time": "2021-12-27T12:13:05.316Z"
   },
   {
    "duration": 127,
    "start_time": "2021-12-27T12:13:34.923Z"
   },
   {
    "duration": 13,
    "start_time": "2021-12-27T12:13:40.092Z"
   },
   {
    "duration": 9,
    "start_time": "2021-12-27T12:14:50.237Z"
   },
   {
    "duration": 9,
    "start_time": "2021-12-27T12:14:58.923Z"
   },
   {
    "duration": 9,
    "start_time": "2021-12-27T12:15:25.548Z"
   },
   {
    "duration": 12,
    "start_time": "2021-12-27T12:15:32.308Z"
   },
   {
    "duration": 10,
    "start_time": "2021-12-27T12:15:51.836Z"
   },
   {
    "duration": 13,
    "start_time": "2021-12-27T12:15:54.339Z"
   },
   {
    "duration": 142,
    "start_time": "2021-12-27T12:20:43.519Z"
   },
   {
    "duration": 146,
    "start_time": "2021-12-27T12:20:46.389Z"
   },
   {
    "duration": 18,
    "start_time": "2021-12-27T12:20:51.299Z"
   },
   {
    "duration": 17,
    "start_time": "2021-12-27T12:21:05.620Z"
   },
   {
    "duration": 17,
    "start_time": "2021-12-27T12:21:10.916Z"
   },
   {
    "duration": 13,
    "start_time": "2021-12-27T12:21:33.164Z"
   },
   {
    "duration": 9,
    "start_time": "2021-12-27T12:21:47.325Z"
   },
   {
    "duration": 55,
    "start_time": "2021-12-27T12:22:16.581Z"
   },
   {
    "duration": 47,
    "start_time": "2021-12-27T12:22:25.476Z"
   },
   {
    "duration": 3524,
    "start_time": "2021-12-27T12:22:52.076Z"
   },
   {
    "duration": 3207,
    "start_time": "2021-12-27T12:23:01.262Z"
   },
   {
    "duration": 3,
    "start_time": "2021-12-27T12:23:24.327Z"
   },
   {
    "duration": 53,
    "start_time": "2021-12-27T12:23:24.332Z"
   },
   {
    "duration": 10,
    "start_time": "2021-12-27T12:23:24.387Z"
   },
   {
    "duration": 3,
    "start_time": "2021-12-27T12:23:24.399Z"
   },
   {
    "duration": 17,
    "start_time": "2021-12-27T12:23:24.404Z"
   },
   {
    "duration": 30,
    "start_time": "2021-12-27T12:23:24.423Z"
   },
   {
    "duration": 37,
    "start_time": "2021-12-27T12:23:39.414Z"
   },
   {
    "duration": 17,
    "start_time": "2021-12-27T12:23:50.796Z"
   },
   {
    "duration": 14,
    "start_time": "2021-12-27T12:31:30.916Z"
   },
   {
    "duration": 3,
    "start_time": "2021-12-27T12:31:35.631Z"
   },
   {
    "duration": 48,
    "start_time": "2021-12-27T12:31:35.636Z"
   },
   {
    "duration": 9,
    "start_time": "2021-12-27T12:31:35.685Z"
   },
   {
    "duration": 3,
    "start_time": "2021-12-27T12:31:35.696Z"
   },
   {
    "duration": 17,
    "start_time": "2021-12-27T12:31:35.700Z"
   },
   {
    "duration": 37,
    "start_time": "2021-12-27T12:31:35.718Z"
   },
   {
    "duration": 36,
    "start_time": "2021-12-27T12:31:35.756Z"
   },
   {
    "duration": 38,
    "start_time": "2021-12-27T12:31:35.795Z"
   },
   {
    "duration": 10,
    "start_time": "2021-12-27T12:31:35.834Z"
   },
   {
    "duration": 13,
    "start_time": "2021-12-27T12:31:35.845Z"
   },
   {
    "duration": 35,
    "start_time": "2021-12-27T12:31:35.860Z"
   },
   {
    "duration": 157,
    "start_time": "2021-12-27T12:31:53.461Z"
   },
   {
    "duration": 13,
    "start_time": "2021-12-27T12:32:00.371Z"
   },
   {
    "duration": 27,
    "start_time": "2021-12-27T12:35:18.605Z"
   },
   {
    "duration": 32,
    "start_time": "2021-12-27T12:35:28.455Z"
   },
   {
    "duration": 4,
    "start_time": "2021-12-27T12:37:03.144Z"
   },
   {
    "duration": 49,
    "start_time": "2021-12-27T12:37:03.150Z"
   },
   {
    "duration": 9,
    "start_time": "2021-12-27T12:37:03.201Z"
   },
   {
    "duration": 2,
    "start_time": "2021-12-27T12:37:03.212Z"
   },
   {
    "duration": 15,
    "start_time": "2021-12-27T12:37:03.216Z"
   },
   {
    "duration": 39,
    "start_time": "2021-12-27T12:37:13.637Z"
   },
   {
    "duration": 26,
    "start_time": "2021-12-27T12:37:28.036Z"
   },
   {
    "duration": 17,
    "start_time": "2021-12-27T12:38:02.487Z"
   },
   {
    "duration": 3,
    "start_time": "2021-12-27T12:38:54.716Z"
   },
   {
    "duration": 55,
    "start_time": "2021-12-27T12:38:54.721Z"
   },
   {
    "duration": 8,
    "start_time": "2021-12-27T12:38:54.778Z"
   },
   {
    "duration": 25,
    "start_time": "2021-12-27T12:38:54.788Z"
   },
   {
    "duration": 37,
    "start_time": "2021-12-27T12:38:54.815Z"
   },
   {
    "duration": 26,
    "start_time": "2021-12-27T12:38:54.853Z"
   },
   {
    "duration": 15,
    "start_time": "2021-12-27T12:38:54.881Z"
   },
   {
    "duration": 132,
    "start_time": "2021-12-27T12:38:57.396Z"
   },
   {
    "duration": 36,
    "start_time": "2021-12-27T12:39:00.975Z"
   },
   {
    "duration": 33,
    "start_time": "2021-12-27T12:39:08.941Z"
   },
   {
    "duration": 3,
    "start_time": "2021-12-27T12:43:32.985Z"
   },
   {
    "duration": 64,
    "start_time": "2021-12-27T12:43:32.990Z"
   },
   {
    "duration": 14,
    "start_time": "2021-12-27T12:43:33.057Z"
   },
   {
    "duration": 3,
    "start_time": "2021-12-27T12:43:33.074Z"
   },
   {
    "duration": 32,
    "start_time": "2021-12-27T12:43:33.079Z"
   },
   {
    "duration": 21,
    "start_time": "2021-12-27T12:43:33.113Z"
   },
   {
    "duration": 24,
    "start_time": "2021-12-27T12:43:33.136Z"
   },
   {
    "duration": 215,
    "start_time": "2021-12-27T12:44:12.809Z"
   },
   {
    "duration": 7,
    "start_time": "2021-12-27T12:46:06.701Z"
   },
   {
    "duration": 61,
    "start_time": "2021-12-27T12:46:06.711Z"
   },
   {
    "duration": 12,
    "start_time": "2021-12-27T12:46:06.774Z"
   },
   {
    "duration": 5,
    "start_time": "2021-12-27T12:46:06.787Z"
   },
   {
    "duration": 23,
    "start_time": "2021-12-27T12:46:06.794Z"
   },
   {
    "duration": 16,
    "start_time": "2021-12-27T12:46:06.819Z"
   },
   {
    "duration": 33,
    "start_time": "2021-12-27T12:46:06.838Z"
   },
   {
    "duration": 61,
    "start_time": "2021-12-27T12:46:06.873Z"
   },
   {
    "duration": 254,
    "start_time": "2021-12-27T12:46:06.937Z"
   },
   {
    "duration": 233,
    "start_time": "2021-12-27T12:46:16.831Z"
   },
   {
    "duration": 191,
    "start_time": "2021-12-27T12:47:46.708Z"
   },
   {
    "duration": 229,
    "start_time": "2021-12-27T12:47:54.886Z"
   },
   {
    "duration": 187,
    "start_time": "2021-12-27T12:48:16.043Z"
   },
   {
    "duration": 198,
    "start_time": "2021-12-27T12:48:23.220Z"
   },
   {
    "duration": 310,
    "start_time": "2021-12-27T12:51:04.684Z"
   },
   {
    "duration": 214,
    "start_time": "2021-12-27T12:51:52.062Z"
   },
   {
    "duration": 207,
    "start_time": "2021-12-27T12:52:12.647Z"
   },
   {
    "duration": 194,
    "start_time": "2021-12-27T12:52:29.836Z"
   },
   {
    "duration": 149,
    "start_time": "2021-12-27T12:53:31.499Z"
   },
   {
    "duration": 3,
    "start_time": "2021-12-27T12:54:12.621Z"
   },
   {
    "duration": 57,
    "start_time": "2021-12-27T12:54:12.627Z"
   },
   {
    "duration": 10,
    "start_time": "2021-12-27T12:54:12.685Z"
   },
   {
    "duration": 31,
    "start_time": "2021-12-27T12:54:12.697Z"
   },
   {
    "duration": 30,
    "start_time": "2021-12-27T12:54:12.730Z"
   },
   {
    "duration": 42,
    "start_time": "2021-12-27T12:54:12.762Z"
   },
   {
    "duration": 30,
    "start_time": "2021-12-27T12:54:12.806Z"
   },
   {
    "duration": 64,
    "start_time": "2021-12-27T12:54:12.838Z"
   },
   {
    "duration": 206,
    "start_time": "2021-12-27T12:54:12.904Z"
   },
   {
    "duration": 206,
    "start_time": "2021-12-27T12:54:13.112Z"
   },
   {
    "duration": 147,
    "start_time": "2021-12-27T12:54:13.320Z"
   },
   {
    "duration": 224,
    "start_time": "2021-12-27T12:54:42.813Z"
   },
   {
    "duration": 34,
    "start_time": "2021-12-27T12:55:03.756Z"
   },
   {
    "duration": 12,
    "start_time": "2021-12-27T13:01:45.276Z"
   },
   {
    "duration": 12,
    "start_time": "2021-12-27T13:02:16.316Z"
   },
   {
    "duration": 13,
    "start_time": "2021-12-27T13:02:26.206Z"
   },
   {
    "duration": 12,
    "start_time": "2021-12-27T13:02:45.591Z"
   },
   {
    "duration": 130,
    "start_time": "2021-12-27T13:02:48.788Z"
   },
   {
    "duration": 13,
    "start_time": "2021-12-27T13:02:54.452Z"
   },
   {
    "duration": 133,
    "start_time": "2021-12-27T13:03:24.165Z"
   },
   {
    "duration": 12,
    "start_time": "2021-12-27T13:04:12.044Z"
   },
   {
    "duration": 11,
    "start_time": "2021-12-27T13:05:14.128Z"
   },
   {
    "duration": 12,
    "start_time": "2021-12-27T13:06:12.396Z"
   },
   {
    "duration": 149,
    "start_time": "2021-12-27T13:06:41.316Z"
   },
   {
    "duration": 52,
    "start_time": "2021-12-27T13:06:55.884Z"
   },
   {
    "duration": 141,
    "start_time": "2021-12-27T13:06:58.923Z"
   },
   {
    "duration": 9,
    "start_time": "2021-12-27T13:07:12.811Z"
   },
   {
    "duration": 12,
    "start_time": "2021-12-27T13:07:26.556Z"
   },
   {
    "duration": 7,
    "start_time": "2021-12-27T13:07:36.382Z"
   },
   {
    "duration": 7,
    "start_time": "2021-12-27T13:07:42.196Z"
   },
   {
    "duration": 13,
    "start_time": "2021-12-27T13:08:19.491Z"
   },
   {
    "duration": 724,
    "start_time": "2021-12-27T13:10:32.923Z"
   },
   {
    "duration": 253,
    "start_time": "2021-12-27T13:10:50.819Z"
   },
   {
    "duration": 250,
    "start_time": "2021-12-27T13:11:33.260Z"
   },
   {
    "duration": 269,
    "start_time": "2021-12-27T13:15:06.812Z"
   },
   {
    "duration": 291,
    "start_time": "2021-12-27T13:15:12.107Z"
   },
   {
    "duration": 228,
    "start_time": "2021-12-27T13:15:19.790Z"
   },
   {
    "duration": 217,
    "start_time": "2021-12-27T13:16:07.103Z"
   },
   {
    "duration": 282,
    "start_time": "2021-12-27T13:16:52.724Z"
   },
   {
    "duration": 136,
    "start_time": "2021-12-27T13:17:47.875Z"
   },
   {
    "duration": 338,
    "start_time": "2021-12-27T13:18:52.858Z"
   },
   {
    "duration": 24929,
    "start_time": "2021-12-27T13:19:02.549Z"
   },
   {
    "duration": 23326,
    "start_time": "2021-12-27T13:20:44.942Z"
   },
   {
    "duration": 209,
    "start_time": "2021-12-27T13:21:41.779Z"
   },
   {
    "duration": 216,
    "start_time": "2021-12-27T13:22:13.466Z"
   },
   {
    "duration": 24949,
    "start_time": "2021-12-27T13:22:27.243Z"
   },
   {
    "duration": 25909,
    "start_time": "2021-12-27T13:24:04.330Z"
   },
   {
    "duration": 15,
    "start_time": "2021-12-27T13:25:26.785Z"
   },
   {
    "duration": 245,
    "start_time": "2021-12-27T13:25:49.335Z"
   },
   {
    "duration": 251,
    "start_time": "2021-12-27T13:26:04.359Z"
   },
   {
    "duration": 251,
    "start_time": "2021-12-27T13:26:10.098Z"
   },
   {
    "duration": 251,
    "start_time": "2021-12-27T13:28:50.702Z"
   },
   {
    "duration": 244,
    "start_time": "2021-12-27T13:28:58.767Z"
   },
   {
    "duration": 53,
    "start_time": "2021-12-27T13:31:02.570Z"
   },
   {
    "duration": 45,
    "start_time": "2021-12-27T13:31:34.403Z"
   },
   {
    "duration": 52,
    "start_time": "2021-12-27T13:32:37.112Z"
   },
   {
    "duration": 38,
    "start_time": "2021-12-27T13:32:42.563Z"
   },
   {
    "duration": 28,
    "start_time": "2021-12-27T13:34:56.357Z"
   },
   {
    "duration": 25,
    "start_time": "2021-12-27T13:35:31.371Z"
   },
   {
    "duration": 29,
    "start_time": "2021-12-27T13:35:41.620Z"
   },
   {
    "duration": 234,
    "start_time": "2021-12-27T13:36:12.426Z"
   },
   {
    "duration": 447,
    "start_time": "2021-12-27T13:36:23.117Z"
   },
   {
    "duration": 522,
    "start_time": "2021-12-27T13:36:57.805Z"
   },
   {
    "duration": 420,
    "start_time": "2021-12-27T13:37:46.526Z"
   },
   {
    "duration": 524,
    "start_time": "2021-12-27T13:37:57.122Z"
   },
   {
    "duration": 396,
    "start_time": "2021-12-27T13:38:41.362Z"
   },
   {
    "duration": 416,
    "start_time": "2021-12-27T13:38:52.756Z"
   },
   {
    "duration": 386,
    "start_time": "2021-12-27T13:38:55.755Z"
   },
   {
    "duration": 514,
    "start_time": "2021-12-27T13:38:59.196Z"
   },
   {
    "duration": 479,
    "start_time": "2021-12-27T13:39:57.307Z"
   },
   {
    "duration": 756,
    "start_time": "2021-12-27T14:03:18.412Z"
   },
   {
    "duration": 814,
    "start_time": "2021-12-27T14:03:55.292Z"
   },
   {
    "duration": 867,
    "start_time": "2021-12-27T14:04:07.860Z"
   },
   {
    "duration": 700,
    "start_time": "2021-12-27T14:05:16.499Z"
   },
   {
    "duration": 637,
    "start_time": "2021-12-27T14:08:00.815Z"
   },
   {
    "duration": 568,
    "start_time": "2021-12-27T14:10:33.002Z"
   },
   {
    "duration": 478,
    "start_time": "2021-12-27T14:10:40.901Z"
   },
   {
    "duration": 633,
    "start_time": "2021-12-27T14:10:52.395Z"
   },
   {
    "duration": 662,
    "start_time": "2021-12-27T16:25:43.285Z"
   },
   {
    "duration": 355,
    "start_time": "2021-12-27T16:26:20.411Z"
   },
   {
    "duration": 463,
    "start_time": "2021-12-27T16:50:45.802Z"
   },
   {
    "duration": 645,
    "start_time": "2021-12-27T16:52:41.810Z"
   },
   {
    "duration": 144,
    "start_time": "2021-12-27T16:54:31.922Z"
   },
   {
    "duration": 306,
    "start_time": "2021-12-27T16:54:58.254Z"
   },
   {
    "duration": 47,
    "start_time": "2021-12-27T16:57:50.961Z"
   },
   {
    "duration": 305,
    "start_time": "2021-12-27T16:58:03.546Z"
   },
   {
    "duration": 12,
    "start_time": "2021-12-27T16:58:51.562Z"
   },
   {
    "duration": 140,
    "start_time": "2021-12-27T17:04:10.361Z"
   },
   {
    "duration": 223,
    "start_time": "2021-12-27T17:09:02.784Z"
   },
   {
    "duration": 208783,
    "start_time": "2021-12-27T17:10:37.620Z"
   },
   {
    "duration": 212,
    "start_time": "2021-12-27T17:25:09.108Z"
   },
   {
    "duration": 15,
    "start_time": "2021-12-27T17:25:24.715Z"
   },
   {
    "duration": 227,
    "start_time": "2021-12-27T17:25:36.713Z"
   },
   {
    "duration": 141,
    "start_time": "2021-12-27T17:29:25.026Z"
   },
   {
    "duration": 231,
    "start_time": "2021-12-27T17:29:41.350Z"
   },
   {
    "duration": 217,
    "start_time": "2021-12-27T17:29:58.228Z"
   },
   {
    "duration": 792,
    "start_time": "2021-12-28T06:02:42.926Z"
   },
   {
    "duration": 77,
    "start_time": "2021-12-28T06:02:43.720Z"
   },
   {
    "duration": 16,
    "start_time": "2021-12-28T06:02:43.801Z"
   },
   {
    "duration": 4,
    "start_time": "2021-12-28T06:02:43.820Z"
   },
   {
    "duration": 53,
    "start_time": "2021-12-28T06:02:43.827Z"
   },
   {
    "duration": 27,
    "start_time": "2021-12-28T06:02:43.883Z"
   },
   {
    "duration": 55,
    "start_time": "2021-12-28T06:02:43.912Z"
   },
   {
    "duration": 49,
    "start_time": "2021-12-28T06:02:43.971Z"
   },
   {
    "duration": 438,
    "start_time": "2021-12-28T06:02:44.023Z"
   },
   {
    "duration": 857,
    "start_time": "2021-12-28T06:02:44.467Z"
   },
   {
    "duration": 1177,
    "start_time": "2021-12-28T06:02:45.326Z"
   },
   {
    "duration": 1163,
    "start_time": "2021-12-28T06:02:46.506Z"
   },
   {
    "duration": 437,
    "start_time": "2021-12-28T06:02:47.672Z"
   },
   {
    "duration": 14,
    "start_time": "2021-12-28T06:02:48.112Z"
   },
   {
    "duration": 4,
    "start_time": "2021-12-28T06:02:48.128Z"
   },
   {
    "duration": 384,
    "start_time": "2021-12-28T06:02:48.134Z"
   },
   {
    "duration": 388,
    "start_time": "2021-12-28T06:02:48.520Z"
   },
   {
    "duration": 403,
    "start_time": "2021-12-28T06:03:29.529Z"
   },
   {
    "duration": 21,
    "start_time": "2021-12-28T06:04:03.792Z"
   },
   {
    "duration": 34,
    "start_time": "2021-12-28T06:04:45.211Z"
   },
   {
    "duration": 363,
    "start_time": "2021-12-28T06:05:03.570Z"
   },
   {
    "duration": 10,
    "start_time": "2021-12-28T06:05:17.578Z"
   },
   {
    "duration": 316,
    "start_time": "2021-12-28T06:06:25.994Z"
   },
   {
    "duration": 342,
    "start_time": "2021-12-28T06:06:32.001Z"
   },
   {
    "duration": 345,
    "start_time": "2021-12-28T06:06:48.434Z"
   },
   {
    "duration": 430,
    "start_time": "2021-12-28T06:08:39.960Z"
   },
   {
    "duration": 10,
    "start_time": "2021-12-28T06:08:54.528Z"
   },
   {
    "duration": 354,
    "start_time": "2021-12-28T06:10:09.442Z"
   },
   {
    "duration": 26,
    "start_time": "2021-12-28T06:10:50.221Z"
   },
   {
    "duration": 10,
    "start_time": "2021-12-28T06:11:17.581Z"
   },
   {
    "duration": 8,
    "start_time": "2021-12-28T06:11:21.377Z"
   },
   {
    "duration": 10,
    "start_time": "2021-12-28T06:11:40.877Z"
   },
   {
    "duration": 33,
    "start_time": "2021-12-28T06:13:08.880Z"
   },
   {
    "duration": 10,
    "start_time": "2021-12-28T06:13:31.961Z"
   },
   {
    "duration": 9,
    "start_time": "2021-12-28T06:13:57.312Z"
   },
   {
    "duration": 13,
    "start_time": "2021-12-28T06:14:08.056Z"
   },
   {
    "duration": 10,
    "start_time": "2021-12-28T06:14:16.777Z"
   },
   {
    "duration": 329,
    "start_time": "2021-12-28T06:14:29.409Z"
   },
   {
    "duration": 69,
    "start_time": "2021-12-28T06:15:45.456Z"
   },
   {
    "duration": 54,
    "start_time": "2021-12-28T06:16:26.145Z"
   },
   {
    "duration": 319,
    "start_time": "2021-12-28T06:16:54.779Z"
   },
   {
    "duration": 63,
    "start_time": "2021-12-28T06:17:05.748Z"
   },
   {
    "duration": 57,
    "start_time": "2021-12-28T06:17:39.322Z"
   },
   {
    "duration": 35,
    "start_time": "2021-12-28T06:17:58.546Z"
   },
   {
    "duration": 716,
    "start_time": "2021-12-28T06:18:23.290Z"
   },
   {
    "duration": 6302,
    "start_time": "2021-12-28T06:18:53.241Z"
   },
   {
    "duration": 36,
    "start_time": "2021-12-28T06:19:51.265Z"
   },
   {
    "duration": 344,
    "start_time": "2021-12-28T06:20:00.048Z"
   },
   {
    "duration": 36,
    "start_time": "2021-12-28T06:20:03.081Z"
   },
   {
    "duration": 795,
    "start_time": "2021-12-28T06:20:17.662Z"
   },
   {
    "duration": 830,
    "start_time": "2021-12-28T06:20:20.905Z"
   },
   {
    "duration": 1055,
    "start_time": "2021-12-28T06:20:48.092Z"
   },
   {
    "duration": 824,
    "start_time": "2021-12-28T06:21:00.152Z"
   },
   {
    "duration": 1130,
    "start_time": "2021-12-28T06:21:13.728Z"
   },
   {
    "duration": 1036,
    "start_time": "2021-12-28T06:25:09.736Z"
   },
   {
    "duration": 23,
    "start_time": "2021-12-28T06:29:11.163Z"
   },
   {
    "duration": 365,
    "start_time": "2021-12-28T06:30:28.330Z"
   },
   {
    "duration": 23,
    "start_time": "2021-12-28T06:30:37.753Z"
   },
   {
    "duration": 22,
    "start_time": "2021-12-28T06:31:14.843Z"
   },
   {
    "duration": 21,
    "start_time": "2021-12-28T06:32:48.425Z"
   },
   {
    "duration": 23,
    "start_time": "2021-12-28T06:33:26.314Z"
   },
   {
    "duration": 353,
    "start_time": "2021-12-28T06:34:11.689Z"
   },
   {
    "duration": 386,
    "start_time": "2021-12-28T06:34:38.465Z"
   },
   {
    "duration": 369,
    "start_time": "2021-12-28T06:35:08.337Z"
   },
   {
    "duration": 553,
    "start_time": "2021-12-28T06:35:20.601Z"
   },
   {
    "duration": 638,
    "start_time": "2021-12-28T06:36:12.929Z"
   },
   {
    "duration": 957,
    "start_time": "2021-12-28T06:36:51.964Z"
   },
   {
    "duration": 1272,
    "start_time": "2021-12-28T06:37:56.274Z"
   },
   {
    "duration": 23,
    "start_time": "2021-12-28T06:38:45.521Z"
   },
   {
    "duration": 17,
    "start_time": "2021-12-28T06:39:15.578Z"
   },
   {
    "duration": 16,
    "start_time": "2021-12-28T06:39:23.800Z"
   },
   {
    "duration": 4,
    "start_time": "2021-12-28T06:40:53.222Z"
   },
   {
    "duration": 71,
    "start_time": "2021-12-28T06:40:53.228Z"
   },
   {
    "duration": 14,
    "start_time": "2021-12-28T06:40:53.302Z"
   },
   {
    "duration": 9,
    "start_time": "2021-12-28T06:40:53.319Z"
   },
   {
    "duration": 42,
    "start_time": "2021-12-28T06:40:53.331Z"
   },
   {
    "duration": 24,
    "start_time": "2021-12-28T06:40:53.375Z"
   },
   {
    "duration": 24,
    "start_time": "2021-12-28T06:40:53.402Z"
   },
   {
    "duration": 77,
    "start_time": "2021-12-28T06:40:53.430Z"
   },
   {
    "duration": 336,
    "start_time": "2021-12-28T06:40:53.510Z"
   },
   {
    "duration": 775,
    "start_time": "2021-12-28T06:40:53.848Z"
   },
   {
    "duration": 1050,
    "start_time": "2021-12-28T06:40:54.625Z"
   },
   {
    "duration": 1056,
    "start_time": "2021-12-28T06:40:55.677Z"
   },
   {
    "duration": 575,
    "start_time": "2021-12-28T06:40:56.735Z"
   },
   {
    "duration": 14,
    "start_time": "2021-12-28T06:40:57.312Z"
   },
   {
    "duration": 7,
    "start_time": "2021-12-28T06:40:57.329Z"
   },
   {
    "duration": 374,
    "start_time": "2021-12-28T06:40:57.338Z"
   },
   {
    "duration": 354,
    "start_time": "2021-12-28T06:40:57.715Z"
   },
   {
    "duration": 1038,
    "start_time": "2021-12-28T06:40:58.072Z"
   },
   {
    "duration": 21,
    "start_time": "2021-12-28T06:40:59.112Z"
   },
   {
    "duration": 43,
    "start_time": "2021-12-28T06:40:59.136Z"
   },
   {
    "duration": 16,
    "start_time": "2021-12-28T06:40:59.181Z"
   },
   {
    "duration": 16,
    "start_time": "2021-12-28T06:40:59.199Z"
   },
   {
    "duration": 4,
    "start_time": "2021-12-28T06:40:59.220Z"
   },
   {
    "duration": 49,
    "start_time": "2021-12-28T06:40:59.226Z"
   },
   {
    "duration": 45,
    "start_time": "2021-12-28T06:42:25.136Z"
   },
   {
    "duration": 21,
    "start_time": "2021-12-28T06:44:27.932Z"
   },
   {
    "duration": 17,
    "start_time": "2021-12-28T06:44:27.955Z"
   },
   {
    "duration": 13,
    "start_time": "2021-12-28T06:44:27.975Z"
   },
   {
    "duration": 14,
    "start_time": "2021-12-28T06:44:27.991Z"
   },
   {
    "duration": 2,
    "start_time": "2021-12-28T06:44:28.008Z"
   },
   {
    "duration": 17,
    "start_time": "2021-12-28T06:44:28.013Z"
   },
   {
    "duration": 57,
    "start_time": "2021-12-28T06:44:28.033Z"
   },
   {
    "duration": 775,
    "start_time": "2021-12-28T06:45:18.992Z"
   },
   {
    "duration": 735,
    "start_time": "2021-12-28T06:45:26.465Z"
   },
   {
    "duration": 1040,
    "start_time": "2021-12-28T06:45:37.760Z"
   },
   {
    "duration": 1039,
    "start_time": "2021-12-28T06:46:01.224Z"
   },
   {
    "duration": 19,
    "start_time": "2021-12-28T06:52:19.944Z"
   },
   {
    "duration": 22,
    "start_time": "2021-12-28T06:52:40.330Z"
   },
   {
    "duration": 20,
    "start_time": "2021-12-28T06:52:48.376Z"
   },
   {
    "duration": 22,
    "start_time": "2021-12-28T06:53:15.456Z"
   },
   {
    "duration": 22,
    "start_time": "2021-12-28T06:53:34.561Z"
   },
   {
    "duration": 14,
    "start_time": "2021-12-28T06:54:00.411Z"
   },
   {
    "duration": 908,
    "start_time": "2021-12-28T06:54:16.218Z"
   },
   {
    "duration": 1191,
    "start_time": "2021-12-28T06:55:10.007Z"
   },
   {
    "duration": 345,
    "start_time": "2021-12-28T07:07:22.113Z"
   },
   {
    "duration": 14,
    "start_time": "2021-12-28T07:07:50.456Z"
   },
   {
    "duration": 21,
    "start_time": "2021-12-28T07:07:56.440Z"
   },
   {
    "duration": 26,
    "start_time": "2021-12-28T07:08:59.360Z"
   },
   {
    "duration": 20,
    "start_time": "2021-12-28T07:09:09.802Z"
   },
   {
    "duration": 304,
    "start_time": "2021-12-28T07:09:15.776Z"
   },
   {
    "duration": 21,
    "start_time": "2021-12-28T07:09:19.119Z"
   },
   {
    "duration": 41,
    "start_time": "2021-12-28T07:11:09.548Z"
   },
   {
    "duration": 23,
    "start_time": "2021-12-28T07:13:37.824Z"
   },
   {
    "duration": 22,
    "start_time": "2021-12-28T07:13:54.816Z"
   },
   {
    "duration": 297,
    "start_time": "2021-12-28T07:16:13.492Z"
   },
   {
    "duration": 22,
    "start_time": "2021-12-28T07:16:17.737Z"
   },
   {
    "duration": 22,
    "start_time": "2021-12-28T07:17:10.383Z"
   },
   {
    "duration": 22,
    "start_time": "2021-12-28T07:17:23.784Z"
   },
   {
    "duration": 441,
    "start_time": "2021-12-28T07:22:24.444Z"
   },
   {
    "duration": 62,
    "start_time": "2021-12-28T07:22:24.887Z"
   },
   {
    "duration": 18,
    "start_time": "2021-12-28T07:22:24.951Z"
   },
   {
    "duration": 9,
    "start_time": "2021-12-28T07:22:24.972Z"
   },
   {
    "duration": 24,
    "start_time": "2021-12-28T07:22:24.983Z"
   },
   {
    "duration": 24,
    "start_time": "2021-12-28T07:22:25.009Z"
   },
   {
    "duration": 51,
    "start_time": "2021-12-28T07:22:25.036Z"
   },
   {
    "duration": 48,
    "start_time": "2021-12-28T07:22:25.091Z"
   },
   {
    "duration": 459,
    "start_time": "2021-12-28T07:22:25.143Z"
   },
   {
    "duration": 819,
    "start_time": "2021-12-28T07:22:25.604Z"
   },
   {
    "duration": 1535,
    "start_time": "2021-12-28T07:22:26.426Z"
   },
   {
    "duration": 1073,
    "start_time": "2021-12-28T07:22:27.967Z"
   },
   {
    "duration": 505,
    "start_time": "2021-12-28T07:22:29.042Z"
   },
   {
    "duration": 40,
    "start_time": "2021-12-28T07:22:29.550Z"
   },
   {
    "duration": 4,
    "start_time": "2021-12-28T07:22:29.593Z"
   },
   {
    "duration": 767,
    "start_time": "2021-12-28T07:22:29.600Z"
   },
   {
    "duration": 340,
    "start_time": "2021-12-28T07:22:30.369Z"
   },
   {
    "duration": 1072,
    "start_time": "2021-12-28T07:22:30.711Z"
   },
   {
    "duration": 15,
    "start_time": "2021-12-28T07:22:31.786Z"
   },
   {
    "duration": 17,
    "start_time": "2021-12-28T07:22:31.803Z"
   },
   {
    "duration": 47,
    "start_time": "2021-12-28T07:22:31.823Z"
   },
   {
    "duration": 16,
    "start_time": "2021-12-28T07:22:31.873Z"
   },
   {
    "duration": 1064,
    "start_time": "2021-12-28T07:22:31.893Z"
   },
   {
    "duration": 23,
    "start_time": "2021-12-28T07:22:32.967Z"
   },
   {
    "duration": 28,
    "start_time": "2021-12-28T07:22:32.992Z"
   },
   {
    "duration": 19,
    "start_time": "2021-12-28T07:22:33.022Z"
   },
   {
    "duration": 763,
    "start_time": "2021-12-28T07:22:33.068Z"
   },
   {
    "duration": 45,
    "start_time": "2021-12-28T07:22:33.833Z"
   },
   {
    "duration": 20,
    "start_time": "2021-12-28T07:22:33.881Z"
   },
   {
    "duration": 1260,
    "start_time": "2021-12-28T07:38:29.167Z"
   },
   {
    "duration": 71,
    "start_time": "2021-12-28T07:38:30.430Z"
   },
   {
    "duration": 14,
    "start_time": "2021-12-28T07:38:30.504Z"
   },
   {
    "duration": 15,
    "start_time": "2021-12-28T07:38:30.521Z"
   },
   {
    "duration": 1298,
    "start_time": "2021-12-28T07:38:30.538Z"
   },
   {
    "duration": 1170,
    "start_time": "2021-12-28T07:39:02.571Z"
   },
   {
    "duration": 64,
    "start_time": "2021-12-28T07:44:10.403Z"
   },
   {
    "duration": 60,
    "start_time": "2021-12-28T07:44:17.388Z"
   },
   {
    "duration": 7179,
    "start_time": "2021-12-28T07:49:22.938Z"
   },
   {
    "duration": 4,
    "start_time": "2021-12-28T07:50:01.086Z"
   },
   {
    "duration": 72,
    "start_time": "2021-12-28T07:50:01.097Z"
   },
   {
    "duration": 14,
    "start_time": "2021-12-28T07:50:01.171Z"
   },
   {
    "duration": 16,
    "start_time": "2021-12-28T07:50:01.188Z"
   },
   {
    "duration": 19,
    "start_time": "2021-12-28T07:50:01.207Z"
   },
   {
    "duration": 319,
    "start_time": "2021-12-28T08:01:04.554Z"
   },
   {
    "duration": 8,
    "start_time": "2021-12-28T08:01:11.203Z"
   },
   {
    "duration": 4,
    "start_time": "2021-12-28T08:03:08.956Z"
   },
   {
    "duration": 68,
    "start_time": "2021-12-28T08:03:08.963Z"
   },
   {
    "duration": 15,
    "start_time": "2021-12-28T08:03:09.034Z"
   },
   {
    "duration": 5,
    "start_time": "2021-12-28T08:03:09.051Z"
   },
   {
    "duration": 16,
    "start_time": "2021-12-28T08:03:09.058Z"
   },
   {
    "duration": 14,
    "start_time": "2021-12-28T08:03:57.090Z"
   },
   {
    "duration": 9,
    "start_time": "2021-12-28T08:04:26.610Z"
   },
   {
    "duration": 4,
    "start_time": "2021-12-28T08:11:28.478Z"
   },
   {
    "duration": 66,
    "start_time": "2021-12-28T08:11:28.485Z"
   },
   {
    "duration": 17,
    "start_time": "2021-12-28T08:11:28.554Z"
   },
   {
    "duration": 3,
    "start_time": "2021-12-28T08:11:28.574Z"
   },
   {
    "duration": 10,
    "start_time": "2021-12-28T08:11:28.580Z"
   },
   {
    "duration": 12,
    "start_time": "2021-12-28T08:11:28.592Z"
   },
   {
    "duration": 288,
    "start_time": "2021-12-28T08:11:28.607Z"
   },
   {
    "duration": 22,
    "start_time": "2021-12-28T08:12:05.226Z"
   },
   {
    "duration": 20,
    "start_time": "2021-12-28T08:13:27.317Z"
   },
   {
    "duration": 18,
    "start_time": "2021-12-28T08:13:29.882Z"
   },
   {
    "duration": 300,
    "start_time": "2021-12-28T08:13:44.900Z"
   },
   {
    "duration": 22,
    "start_time": "2021-12-28T08:13:50.157Z"
   },
   {
    "duration": 25,
    "start_time": "2021-12-28T08:14:18.649Z"
   },
   {
    "duration": 4,
    "start_time": "2021-12-28T08:24:14.711Z"
   },
   {
    "duration": 70,
    "start_time": "2021-12-28T08:24:14.718Z"
   },
   {
    "duration": 15,
    "start_time": "2021-12-28T08:24:14.791Z"
   },
   {
    "duration": 7,
    "start_time": "2021-12-28T08:24:14.809Z"
   },
   {
    "duration": 341,
    "start_time": "2021-12-28T08:24:14.818Z"
   },
   {
    "duration": 289,
    "start_time": "2021-12-28T08:24:23.378Z"
   },
   {
    "duration": 7354,
    "start_time": "2021-12-28T08:24:35.474Z"
   },
   {
    "duration": 9327,
    "start_time": "2021-12-28T08:25:07.026Z"
   },
   {
    "duration": 290,
    "start_time": "2021-12-28T08:25:21.107Z"
   },
   {
    "duration": 13,
    "start_time": "2021-12-28T08:25:39.274Z"
   },
   {
    "duration": 4,
    "start_time": "2021-12-28T08:27:52.346Z"
   },
   {
    "duration": 68,
    "start_time": "2021-12-28T08:27:52.353Z"
   },
   {
    "duration": 15,
    "start_time": "2021-12-28T08:27:52.424Z"
   },
   {
    "duration": 5,
    "start_time": "2021-12-28T08:27:52.441Z"
   },
   {
    "duration": 8,
    "start_time": "2021-12-28T08:27:52.467Z"
   },
   {
    "duration": 13,
    "start_time": "2021-12-28T08:27:52.477Z"
   },
   {
    "duration": 26,
    "start_time": "2021-12-28T08:27:52.493Z"
   },
   {
    "duration": 54,
    "start_time": "2021-12-28T08:27:52.523Z"
   },
   {
    "duration": 25,
    "start_time": "2021-12-28T08:27:52.581Z"
   },
   {
    "duration": 4,
    "start_time": "2021-12-28T08:35:31.991Z"
   },
   {
    "duration": 64,
    "start_time": "2021-12-28T08:35:31.999Z"
   },
   {
    "duration": 15,
    "start_time": "2021-12-28T08:35:32.066Z"
   },
   {
    "duration": 4,
    "start_time": "2021-12-28T08:35:32.084Z"
   },
   {
    "duration": 10,
    "start_time": "2021-12-28T08:35:32.091Z"
   },
   {
    "duration": 12,
    "start_time": "2021-12-28T08:35:32.104Z"
   },
   {
    "duration": 67,
    "start_time": "2021-12-28T08:35:32.118Z"
   },
   {
    "duration": 21,
    "start_time": "2021-12-28T08:35:32.190Z"
   },
   {
    "duration": 55,
    "start_time": "2021-12-28T08:35:32.214Z"
   },
   {
    "duration": 20,
    "start_time": "2021-12-28T08:35:32.272Z"
   },
   {
    "duration": 281,
    "start_time": "2021-12-28T08:35:41.732Z"
   },
   {
    "duration": 10,
    "start_time": "2021-12-28T08:42:06.646Z"
   },
   {
    "duration": 942,
    "start_time": "2021-12-28T15:59:28.878Z"
   },
   {
    "duration": 53,
    "start_time": "2021-12-28T15:59:29.822Z"
   },
   {
    "duration": 11,
    "start_time": "2021-12-28T15:59:29.877Z"
   },
   {
    "duration": 3,
    "start_time": "2021-12-28T15:59:29.890Z"
   },
   {
    "duration": 10,
    "start_time": "2021-12-28T15:59:29.895Z"
   },
   {
    "duration": 9,
    "start_time": "2021-12-28T15:59:29.907Z"
   },
   {
    "duration": 42,
    "start_time": "2021-12-28T15:59:29.918Z"
   },
   {
    "duration": 16,
    "start_time": "2021-12-28T15:59:29.963Z"
   },
   {
    "duration": 17,
    "start_time": "2021-12-28T15:59:29.981Z"
   },
   {
    "duration": 10,
    "start_time": "2021-12-28T15:59:30.000Z"
   },
   {
    "duration": 56,
    "start_time": "2021-12-28T15:59:30.012Z"
   },
   {
    "duration": 483,
    "start_time": "2021-12-28T16:00:06.411Z"
   },
   {
    "duration": 234,
    "start_time": "2021-12-28T16:00:11.987Z"
   },
   {
    "duration": 32,
    "start_time": "2021-12-28T16:00:35.338Z"
   },
   {
    "duration": 213,
    "start_time": "2021-12-28T16:01:46.171Z"
   },
   {
    "duration": 33,
    "start_time": "2021-12-28T16:01:50.386Z"
   },
   {
    "duration": 331,
    "start_time": "2021-12-28T16:05:01.291Z"
   },
   {
    "duration": 190,
    "start_time": "2021-12-28T16:05:06.530Z"
   },
   {
    "duration": 186,
    "start_time": "2021-12-28T16:05:10.394Z"
   },
   {
    "duration": 207,
    "start_time": "2021-12-28T16:06:43.098Z"
   },
   {
    "duration": 218,
    "start_time": "2021-12-28T16:09:00.082Z"
   },
   {
    "duration": 528,
    "start_time": "2021-12-28T16:09:59.746Z"
   },
   {
    "duration": 463,
    "start_time": "2021-12-28T16:10:19.337Z"
   },
   {
    "duration": 456,
    "start_time": "2021-12-28T16:10:44.209Z"
   },
   {
    "duration": 561,
    "start_time": "2021-12-28T16:11:11.691Z"
   },
   {
    "duration": 504,
    "start_time": "2021-12-28T16:11:28.258Z"
   },
   {
    "duration": 3,
    "start_time": "2021-12-28T16:11:55.115Z"
   },
   {
    "duration": 50,
    "start_time": "2021-12-28T16:11:55.120Z"
   },
   {
    "duration": 9,
    "start_time": "2021-12-28T16:11:55.172Z"
   },
   {
    "duration": 17,
    "start_time": "2021-12-28T16:11:55.183Z"
   },
   {
    "duration": 8,
    "start_time": "2021-12-28T16:11:55.202Z"
   },
   {
    "duration": 35,
    "start_time": "2021-12-28T16:11:55.212Z"
   },
   {
    "duration": 33,
    "start_time": "2021-12-28T16:11:55.249Z"
   },
   {
    "duration": 20,
    "start_time": "2021-12-28T16:11:55.284Z"
   },
   {
    "duration": 20,
    "start_time": "2021-12-28T16:11:55.307Z"
   },
   {
    "duration": 5,
    "start_time": "2021-12-28T16:11:55.329Z"
   },
   {
    "duration": 44,
    "start_time": "2021-12-28T16:11:55.336Z"
   },
   {
    "duration": 33,
    "start_time": "2021-12-28T16:11:55.382Z"
   },
   {
    "duration": 214,
    "start_time": "2021-12-28T16:11:57.243Z"
   },
   {
    "duration": 217,
    "start_time": "2021-12-28T16:12:20.569Z"
   },
   {
    "duration": 199,
    "start_time": "2021-12-28T16:13:32.625Z"
   },
   {
    "duration": 11,
    "start_time": "2021-12-28T16:41:14.248Z"
   },
   {
    "duration": 11,
    "start_time": "2021-12-28T16:41:47.753Z"
   },
   {
    "duration": 271,
    "start_time": "2021-12-28T16:41:58.824Z"
   },
   {
    "duration": 11,
    "start_time": "2021-12-28T16:42:04.104Z"
   },
   {
    "duration": 2,
    "start_time": "2021-12-28T16:45:38.632Z"
   },
   {
    "duration": 3,
    "start_time": "2021-12-28T16:48:20.123Z"
   },
   {
    "duration": 286,
    "start_time": "2021-12-28T16:49:06.448Z"
   },
   {
    "duration": 458,
    "start_time": "2021-12-28T16:49:16.089Z"
   },
   {
    "duration": 71,
    "start_time": "2021-12-28T16:53:56.728Z"
   },
   {
    "duration": 437,
    "start_time": "2021-12-28T16:54:11.962Z"
   },
   {
    "duration": 472,
    "start_time": "2021-12-28T16:54:35.208Z"
   },
   {
    "duration": 545,
    "start_time": "2021-12-28T16:55:47.047Z"
   },
   {
    "duration": 463,
    "start_time": "2021-12-28T16:55:57.623Z"
   },
   {
    "duration": 601,
    "start_time": "2021-12-28T17:09:49.656Z"
   },
   {
    "duration": 484,
    "start_time": "2021-12-28T17:09:57.920Z"
   },
   {
    "duration": 549,
    "start_time": "2021-12-28T17:29:40.623Z"
   },
   {
    "duration": 541,
    "start_time": "2021-12-28T17:31:30.343Z"
   },
   {
    "duration": 717,
    "start_time": "2021-12-28T17:32:27.056Z"
   },
   {
    "duration": 481,
    "start_time": "2021-12-28T17:32:36.815Z"
   },
   {
    "duration": 486,
    "start_time": "2021-12-28T17:35:05.374Z"
   },
   {
    "duration": 472,
    "start_time": "2021-12-28T17:35:11.814Z"
   },
   {
    "duration": 87,
    "start_time": "2021-12-28T17:35:54.841Z"
   },
   {
    "duration": 67,
    "start_time": "2021-12-28T17:36:16.790Z"
   },
   {
    "duration": 553,
    "start_time": "2021-12-28T17:36:24.757Z"
   },
   {
    "duration": 690,
    "start_time": "2021-12-28T17:38:13.182Z"
   },
   {
    "duration": 208,
    "start_time": "2021-12-28T18:01:57.846Z"
   },
   {
    "duration": 726,
    "start_time": "2021-12-28T18:02:09.207Z"
   },
   {
    "duration": 477,
    "start_time": "2021-12-28T18:15:17.199Z"
   },
   {
    "duration": 721,
    "start_time": "2021-12-28T18:15:31.097Z"
   },
   {
    "duration": 733,
    "start_time": "2021-12-28T18:15:45.197Z"
   },
   {
    "duration": 999,
    "start_time": "2021-12-28T18:16:11.444Z"
   },
   {
    "duration": 294,
    "start_time": "2021-12-28T18:19:56.661Z"
   },
   {
    "duration": 747,
    "start_time": "2021-12-28T18:20:25.421Z"
   },
   {
    "duration": 255,
    "start_time": "2021-12-28T18:21:08.539Z"
   },
   {
    "duration": 265,
    "start_time": "2021-12-28T18:21:20.080Z"
   },
   {
    "duration": 735,
    "start_time": "2021-12-28T18:21:33.343Z"
   },
   {
    "duration": 41,
    "start_time": "2021-12-28T18:21:49.886Z"
   },
   {
    "duration": 22,
    "start_time": "2021-12-28T18:22:02.449Z"
   },
   {
    "duration": 840,
    "start_time": "2021-12-28T18:22:13.541Z"
   },
   {
    "duration": 727,
    "start_time": "2021-12-28T18:22:34.996Z"
   },
   {
    "duration": 514,
    "start_time": "2021-12-28T18:54:33.340Z"
   },
   {
    "duration": 16,
    "start_time": "2021-12-28T18:59:25.316Z"
   },
   {
    "duration": 17,
    "start_time": "2021-12-28T18:59:59.132Z"
   },
   {
    "duration": 797,
    "start_time": "2021-12-28T19:00:14.768Z"
   },
   {
    "duration": 933,
    "start_time": "2021-12-28T19:01:00.755Z"
   },
   {
    "duration": 490,
    "start_time": "2021-12-28T19:01:09.060Z"
   },
   {
    "duration": 723,
    "start_time": "2021-12-28T19:05:03.662Z"
   },
   {
    "duration": 70,
    "start_time": "2021-12-28T19:07:05.173Z"
   },
   {
    "duration": 589,
    "start_time": "2021-12-28T19:07:27.101Z"
   },
   {
    "duration": 583,
    "start_time": "2021-12-28T19:12:06.541Z"
   },
   {
    "duration": 779,
    "start_time": "2021-12-28T19:12:47.112Z"
   },
   {
    "duration": 814,
    "start_time": "2021-12-28T19:19:13.661Z"
   },
   {
    "duration": 656,
    "start_time": "2021-12-28T19:20:54.004Z"
   },
   {
    "duration": 5319,
    "start_time": "2021-12-28T19:26:08.566Z"
   },
   {
    "duration": 231,
    "start_time": "2021-12-28T19:30:05.563Z"
   },
   {
    "duration": 216,
    "start_time": "2021-12-28T19:30:32.219Z"
   },
   {
    "duration": 208,
    "start_time": "2021-12-28T19:31:42.107Z"
   },
   {
    "duration": 227,
    "start_time": "2021-12-28T19:32:15.611Z"
   },
   {
    "duration": 245,
    "start_time": "2021-12-28T19:32:50.333Z"
   },
   {
    "duration": 251,
    "start_time": "2021-12-28T19:33:37.356Z"
   },
   {
    "duration": 264,
    "start_time": "2021-12-28T19:33:50.123Z"
   },
   {
    "duration": 244,
    "start_time": "2021-12-28T19:33:59.322Z"
   },
   {
    "duration": 250,
    "start_time": "2021-12-28T19:34:06.087Z"
   },
   {
    "duration": 230,
    "start_time": "2021-12-28T19:34:17.667Z"
   },
   {
    "duration": 242,
    "start_time": "2021-12-28T19:34:53.979Z"
   },
   {
    "duration": 551,
    "start_time": "2021-12-28T19:40:57.365Z"
   },
   {
    "duration": 15,
    "start_time": "2021-12-28T20:08:20.651Z"
   },
   {
    "duration": 221,
    "start_time": "2021-12-28T20:08:50.876Z"
   },
   {
    "duration": 15,
    "start_time": "2021-12-28T20:08:58.570Z"
   },
   {
    "duration": 10,
    "start_time": "2021-12-28T20:09:22.218Z"
   },
   {
    "duration": 15,
    "start_time": "2021-12-28T20:09:35.212Z"
   },
   {
    "duration": 184,
    "start_time": "2021-12-28T20:10:49.868Z"
   },
   {
    "duration": 608,
    "start_time": "2021-12-28T20:12:02.338Z"
   },
   {
    "duration": 551,
    "start_time": "2021-12-28T20:13:24.821Z"
   },
   {
    "duration": 552,
    "start_time": "2021-12-28T20:16:19.411Z"
   },
   {
    "duration": 537,
    "start_time": "2021-12-28T20:16:27.791Z"
   },
   {
    "duration": 710,
    "start_time": "2021-12-28T20:16:43.650Z"
   },
   {
    "duration": 14,
    "start_time": "2021-12-28T20:21:25.882Z"
   },
   {
    "duration": 217,
    "start_time": "2021-12-28T20:21:38.124Z"
   },
   {
    "duration": 14,
    "start_time": "2021-12-28T20:21:46.243Z"
   },
   {
    "duration": 438,
    "start_time": "2021-12-28T20:24:43.891Z"
   },
   {
    "duration": 15,
    "start_time": "2021-12-28T20:30:41.945Z"
   },
   {
    "duration": 13,
    "start_time": "2021-12-28T20:41:58.473Z"
   },
   {
    "duration": 17,
    "start_time": "2021-12-28T20:42:01.536Z"
   },
   {
    "duration": 16,
    "start_time": "2021-12-28T20:48:12.281Z"
   },
   {
    "duration": 377,
    "start_time": "2021-12-28T20:49:02.321Z"
   },
   {
    "duration": 539,
    "start_time": "2021-12-28T20:53:39.200Z"
   },
   {
    "duration": 361,
    "start_time": "2021-12-28T20:57:38.810Z"
   },
   {
    "duration": 10,
    "start_time": "2021-12-28T21:16:39.896Z"
   },
   {
    "duration": 9,
    "start_time": "2021-12-28T21:21:59.072Z"
   },
   {
    "duration": 384,
    "start_time": "2021-12-29T06:45:05.883Z"
   },
   {
    "duration": 1459,
    "start_time": "2021-12-29T06:45:10.806Z"
   },
   {
    "duration": 67,
    "start_time": "2021-12-29T06:45:12.268Z"
   },
   {
    "duration": 14,
    "start_time": "2021-12-29T06:45:12.338Z"
   },
   {
    "duration": 31,
    "start_time": "2021-12-29T06:45:12.355Z"
   },
   {
    "duration": 21,
    "start_time": "2021-12-29T06:45:12.389Z"
   },
   {
    "duration": 18,
    "start_time": "2021-12-29T06:45:12.412Z"
   },
   {
    "duration": 28,
    "start_time": "2021-12-29T06:45:12.432Z"
   },
   {
    "duration": 19,
    "start_time": "2021-12-29T06:45:12.464Z"
   },
   {
    "duration": 39,
    "start_time": "2021-12-29T06:45:12.487Z"
   },
   {
    "duration": 7,
    "start_time": "2021-12-29T06:45:12.528Z"
   },
   {
    "duration": 32,
    "start_time": "2021-12-29T06:45:12.537Z"
   },
   {
    "duration": 70,
    "start_time": "2021-12-29T06:45:12.571Z"
   },
   {
    "duration": 352,
    "start_time": "2021-12-29T06:45:12.643Z"
   },
   {
    "duration": 25,
    "start_time": "2021-12-29T06:45:12.997Z"
   },
   {
    "duration": 4,
    "start_time": "2021-12-29T06:45:13.025Z"
   },
   {
    "duration": 923,
    "start_time": "2021-12-29T06:45:13.031Z"
   },
   {
    "duration": 962,
    "start_time": "2021-12-29T06:45:13.956Z"
   },
   {
    "duration": 1306,
    "start_time": "2021-12-29T06:45:14.920Z"
   },
   {
    "duration": 943,
    "start_time": "2021-12-29T06:45:16.228Z"
   },
   {
    "duration": 1367,
    "start_time": "2021-12-29T06:45:17.175Z"
   },
   {
    "duration": 416,
    "start_time": "2021-12-29T06:45:18.545Z"
   },
   {
    "duration": 923,
    "start_time": "2021-12-29T06:45:18.965Z"
   },
   {
    "duration": 1022,
    "start_time": "2021-12-29T06:45:19.892Z"
   },
   {
    "duration": 718,
    "start_time": "2021-12-29T06:45:20.918Z"
   },
   {
    "duration": 640,
    "start_time": "2021-12-29T06:45:21.639Z"
   },
   {
    "duration": 14,
    "start_time": "2021-12-29T06:45:27.395Z"
   },
   {
    "duration": 402,
    "start_time": "2021-12-29T06:45:32.113Z"
   },
   {
    "duration": 6,
    "start_time": "2021-12-29T06:46:04.803Z"
   },
   {
    "duration": 13,
    "start_time": "2021-12-29T06:46:14.121Z"
   },
   {
    "duration": 9,
    "start_time": "2021-12-29T06:46:48.330Z"
   },
   {
    "duration": 12,
    "start_time": "2021-12-29T06:46:51.018Z"
   },
   {
    "duration": 11,
    "start_time": "2021-12-29T06:49:00.145Z"
   },
   {
    "duration": 4,
    "start_time": "2021-12-29T06:49:19.216Z"
   },
   {
    "duration": 99,
    "start_time": "2021-12-29T06:49:19.223Z"
   },
   {
    "duration": 19,
    "start_time": "2021-12-29T06:49:19.326Z"
   },
   {
    "duration": 6,
    "start_time": "2021-12-29T06:49:19.348Z"
   },
   {
    "duration": 10,
    "start_time": "2021-12-29T06:49:19.356Z"
   },
   {
    "duration": 54,
    "start_time": "2021-12-29T06:49:19.369Z"
   },
   {
    "duration": 32,
    "start_time": "2021-12-29T06:49:19.428Z"
   },
   {
    "duration": 57,
    "start_time": "2021-12-29T06:49:19.464Z"
   },
   {
    "duration": 22,
    "start_time": "2021-12-29T06:49:19.523Z"
   },
   {
    "duration": 5,
    "start_time": "2021-12-29T06:49:19.548Z"
   },
   {
    "duration": 28,
    "start_time": "2021-12-29T06:49:19.555Z"
   },
   {
    "duration": 46,
    "start_time": "2021-12-29T06:49:19.617Z"
   },
   {
    "duration": 362,
    "start_time": "2021-12-29T06:49:19.665Z"
   },
   {
    "duration": 16,
    "start_time": "2021-12-29T06:49:20.030Z"
   },
   {
    "duration": 3,
    "start_time": "2021-12-29T06:49:20.049Z"
   },
   {
    "duration": 825,
    "start_time": "2021-12-29T06:49:20.055Z"
   },
   {
    "duration": 946,
    "start_time": "2021-12-29T06:49:20.882Z"
   },
   {
    "duration": 1243,
    "start_time": "2021-12-29T06:49:21.830Z"
   },
   {
    "duration": 1102,
    "start_time": "2021-12-29T06:49:23.077Z"
   },
   {
    "duration": 1336,
    "start_time": "2021-12-29T06:49:24.181Z"
   },
   {
    "duration": 559,
    "start_time": "2021-12-29T06:49:25.520Z"
   },
   {
    "duration": 1176,
    "start_time": "2021-12-29T06:49:26.082Z"
   },
   {
    "duration": 1257,
    "start_time": "2021-12-29T06:49:27.260Z"
   },
   {
    "duration": 727,
    "start_time": "2021-12-29T06:49:28.520Z"
   },
   {
    "duration": 641,
    "start_time": "2021-12-29T06:49:29.251Z"
   },
   {
    "duration": 23,
    "start_time": "2021-12-29T06:49:29.896Z"
   },
   {
    "duration": 12,
    "start_time": "2021-12-29T06:49:29.922Z"
   },
   {
    "duration": 13,
    "start_time": "2021-12-29T06:49:29.936Z"
   },
   {
    "duration": 14,
    "start_time": "2021-12-29T06:49:55.521Z"
   },
   {
    "duration": 9,
    "start_time": "2021-12-29T06:52:41.196Z"
   },
   {
    "duration": 33,
    "start_time": "2021-12-29T06:53:16.873Z"
   },
   {
    "duration": 11,
    "start_time": "2021-12-29T06:55:28.004Z"
   },
   {
    "duration": 12,
    "start_time": "2021-12-29T06:56:30.003Z"
   },
   {
    "duration": 7,
    "start_time": "2021-12-29T06:57:00.850Z"
   },
   {
    "duration": 16,
    "start_time": "2021-12-29T06:57:14.317Z"
   },
   {
    "duration": 19,
    "start_time": "2021-12-29T06:57:44.058Z"
   },
   {
    "duration": 11,
    "start_time": "2021-12-29T07:00:56.724Z"
   },
   {
    "duration": 11,
    "start_time": "2021-12-29T07:01:08.875Z"
   },
   {
    "duration": 22,
    "start_time": "2021-12-29T07:19:04.170Z"
   },
   {
    "duration": 1545,
    "start_time": "2021-12-29T08:30:08.495Z"
   },
   {
    "duration": 92,
    "start_time": "2021-12-29T08:30:10.043Z"
   },
   {
    "duration": 22,
    "start_time": "2021-12-29T08:30:10.140Z"
   },
   {
    "duration": 5,
    "start_time": "2021-12-29T08:30:10.165Z"
   },
   {
    "duration": 14,
    "start_time": "2021-12-29T08:30:10.172Z"
   },
   {
    "duration": 42,
    "start_time": "2021-12-29T08:30:10.189Z"
   },
   {
    "duration": 32,
    "start_time": "2021-12-29T08:30:10.234Z"
   },
   {
    "duration": 63,
    "start_time": "2021-12-29T08:30:10.271Z"
   },
   {
    "duration": 23,
    "start_time": "2021-12-29T08:30:10.337Z"
   },
   {
    "duration": 7,
    "start_time": "2021-12-29T08:30:10.363Z"
   },
   {
    "duration": 68,
    "start_time": "2021-12-29T08:30:10.372Z"
   },
   {
    "duration": 47,
    "start_time": "2021-12-29T08:30:10.443Z"
   },
   {
    "duration": 382,
    "start_time": "2021-12-29T08:30:10.493Z"
   },
   {
    "duration": 16,
    "start_time": "2021-12-29T08:30:10.877Z"
   },
   {
    "duration": 23,
    "start_time": "2021-12-29T08:30:10.895Z"
   },
   {
    "duration": 929,
    "start_time": "2021-12-29T08:30:10.923Z"
   },
   {
    "duration": 953,
    "start_time": "2021-12-29T08:30:11.855Z"
   },
   {
    "duration": 1366,
    "start_time": "2021-12-29T08:30:12.819Z"
   },
   {
    "duration": 1006,
    "start_time": "2021-12-29T08:30:14.188Z"
   },
   {
    "duration": 1417,
    "start_time": "2021-12-29T08:30:15.197Z"
   },
   {
    "duration": 441,
    "start_time": "2021-12-29T08:30:16.617Z"
   },
   {
    "duration": 1116,
    "start_time": "2021-12-29T08:30:17.061Z"
   },
   {
    "duration": 1191,
    "start_time": "2021-12-29T08:30:18.181Z"
   },
   {
    "duration": 773,
    "start_time": "2021-12-29T08:30:19.374Z"
   },
   {
    "duration": 692,
    "start_time": "2021-12-29T08:30:20.150Z"
   },
   {
    "duration": 10,
    "start_time": "2021-12-29T08:30:20.847Z"
   },
   {
    "duration": 12,
    "start_time": "2021-12-29T08:30:20.860Z"
   },
   {
    "duration": 46,
    "start_time": "2021-12-29T08:30:20.875Z"
   },
   {
    "duration": 1309,
    "start_time": "2021-12-30T07:03:47.595Z"
   },
   {
    "duration": 71,
    "start_time": "2021-12-30T07:03:48.906Z"
   },
   {
    "duration": 15,
    "start_time": "2021-12-30T07:03:48.980Z"
   },
   {
    "duration": 4,
    "start_time": "2021-12-30T07:03:48.998Z"
   },
   {
    "duration": 10,
    "start_time": "2021-12-30T07:03:49.004Z"
   },
   {
    "duration": 44,
    "start_time": "2021-12-30T07:03:49.017Z"
   },
   {
    "duration": 22,
    "start_time": "2021-12-30T07:03:49.063Z"
   },
   {
    "duration": 18,
    "start_time": "2021-12-30T07:03:49.088Z"
   },
   {
    "duration": 51,
    "start_time": "2021-12-30T07:03:49.109Z"
   },
   {
    "duration": 6,
    "start_time": "2021-12-30T07:03:49.163Z"
   },
   {
    "duration": 25,
    "start_time": "2021-12-30T07:03:49.172Z"
   },
   {
    "duration": 69,
    "start_time": "2021-12-30T07:03:49.199Z"
   },
   {
    "duration": 341,
    "start_time": "2021-12-30T07:03:49.271Z"
   },
   {
    "duration": 16,
    "start_time": "2021-12-30T07:03:49.614Z"
   },
   {
    "duration": 3,
    "start_time": "2021-12-30T07:03:49.632Z"
   },
   {
    "duration": 843,
    "start_time": "2021-12-30T07:03:49.637Z"
   },
   {
    "duration": 858,
    "start_time": "2021-12-30T07:03:50.484Z"
   },
   {
    "duration": 1302,
    "start_time": "2021-12-30T07:03:51.345Z"
   },
   {
    "duration": 975,
    "start_time": "2021-12-30T07:03:52.650Z"
   },
   {
    "duration": 1259,
    "start_time": "2021-12-30T07:03:53.628Z"
   },
   {
    "duration": 401,
    "start_time": "2021-12-30T07:03:54.889Z"
   },
   {
    "duration": 931,
    "start_time": "2021-12-30T07:03:55.293Z"
   },
   {
    "duration": 1018,
    "start_time": "2021-12-30T07:03:56.229Z"
   },
   {
    "duration": 775,
    "start_time": "2021-12-30T07:03:57.249Z"
   },
   {
    "duration": 643,
    "start_time": "2021-12-30T07:03:58.027Z"
   },
   {
    "duration": 9,
    "start_time": "2021-12-30T07:03:58.672Z"
   },
   {
    "duration": 12,
    "start_time": "2021-12-30T07:03:58.683Z"
   },
   {
    "duration": 12,
    "start_time": "2021-12-30T07:03:58.698Z"
   },
   {
    "duration": 627,
    "start_time": "2021-12-30T07:07:32.985Z"
   },
   {
    "duration": 41,
    "start_time": "2021-12-30T07:07:42.488Z"
   },
   {
    "duration": 34,
    "start_time": "2021-12-30T07:08:39.558Z"
   },
   {
    "duration": 450,
    "start_time": "2022-01-02T12:14:16.369Z"
   },
   {
    "duration": 1459,
    "start_time": "2022-01-02T12:14:27.379Z"
   },
   {
    "duration": 65,
    "start_time": "2022-01-02T12:14:28.841Z"
   },
   {
    "duration": 15,
    "start_time": "2022-01-02T12:14:28.909Z"
   },
   {
    "duration": 4,
    "start_time": "2022-01-02T12:14:28.927Z"
   },
   {
    "duration": 35,
    "start_time": "2022-01-02T12:14:28.934Z"
   },
   {
    "duration": 10,
    "start_time": "2022-01-02T12:14:28.972Z"
   },
   {
    "duration": 25,
    "start_time": "2022-01-02T12:14:28.985Z"
   },
   {
    "duration": 62,
    "start_time": "2022-01-02T12:14:29.014Z"
   },
   {
    "duration": 28,
    "start_time": "2022-01-02T12:14:31.742Z"
   },
   {
    "duration": 4,
    "start_time": "2022-01-02T12:39:59.409Z"
   },
   {
    "duration": 66,
    "start_time": "2022-01-02T12:39:59.417Z"
   },
   {
    "duration": 15,
    "start_time": "2022-01-02T12:39:59.485Z"
   },
   {
    "duration": 4,
    "start_time": "2022-01-02T12:39:59.503Z"
   },
   {
    "duration": 10,
    "start_time": "2022-01-02T12:39:59.510Z"
   },
   {
    "duration": 46,
    "start_time": "2022-01-02T12:39:59.523Z"
   },
   {
    "duration": 22,
    "start_time": "2022-01-02T12:39:59.571Z"
   },
   {
    "duration": 23,
    "start_time": "2022-01-02T12:39:59.595Z"
   },
   {
    "duration": 61,
    "start_time": "2022-01-02T12:39:59.620Z"
   },
   {
    "duration": 30,
    "start_time": "2022-01-02T12:39:59.685Z"
   },
   {
    "duration": 9,
    "start_time": "2022-01-02T12:39:59.719Z"
   },
   {
    "duration": 59,
    "start_time": "2022-01-02T12:39:59.731Z"
   },
   {
    "duration": 47,
    "start_time": "2022-01-02T12:39:59.792Z"
   },
   {
    "duration": 374,
    "start_time": "2022-01-02T12:39:59.867Z"
   },
   {
    "duration": 24,
    "start_time": "2022-01-02T12:40:00.244Z"
   },
   {
    "duration": 4,
    "start_time": "2022-01-02T12:40:24.244Z"
   },
   {
    "duration": 62,
    "start_time": "2022-01-02T12:40:24.251Z"
   },
   {
    "duration": 17,
    "start_time": "2022-01-02T12:40:24.317Z"
   },
   {
    "duration": 5,
    "start_time": "2022-01-02T12:40:24.367Z"
   },
   {
    "duration": 10,
    "start_time": "2022-01-02T12:40:24.375Z"
   },
   {
    "duration": 13,
    "start_time": "2022-01-02T12:40:24.387Z"
   },
   {
    "duration": 20,
    "start_time": "2022-01-02T12:40:24.404Z"
   },
   {
    "duration": 55,
    "start_time": "2022-01-02T12:40:24.427Z"
   },
   {
    "duration": 22,
    "start_time": "2022-01-02T12:40:24.484Z"
   },
   {
    "duration": 24,
    "start_time": "2022-01-02T12:40:24.510Z"
   },
   {
    "duration": 8,
    "start_time": "2022-01-02T12:40:24.567Z"
   },
   {
    "duration": 25,
    "start_time": "2022-01-02T12:40:24.578Z"
   },
   {
    "duration": 73,
    "start_time": "2022-01-02T12:40:24.606Z"
   },
   {
    "duration": 348,
    "start_time": "2022-01-02T12:40:24.681Z"
   },
   {
    "duration": 15,
    "start_time": "2022-01-02T12:40:25.032Z"
   },
   {
    "duration": 19,
    "start_time": "2022-01-02T12:40:25.049Z"
   },
   {
    "duration": 842,
    "start_time": "2022-01-02T12:40:25.070Z"
   },
   {
    "duration": 4,
    "start_time": "2022-01-02T12:43:29.934Z"
   },
   {
    "duration": 69,
    "start_time": "2022-01-02T12:43:29.941Z"
   },
   {
    "duration": 15,
    "start_time": "2022-01-02T12:43:30.014Z"
   },
   {
    "duration": 4,
    "start_time": "2022-01-02T12:43:30.032Z"
   },
   {
    "duration": 34,
    "start_time": "2022-01-02T12:43:30.039Z"
   },
   {
    "duration": 17,
    "start_time": "2022-01-02T12:43:30.076Z"
   },
   {
    "duration": 21,
    "start_time": "2022-01-02T12:43:30.097Z"
   },
   {
    "duration": 52,
    "start_time": "2022-01-02T12:43:30.121Z"
   },
   {
    "duration": 22,
    "start_time": "2022-01-02T12:43:30.176Z"
   },
   {
    "duration": 29,
    "start_time": "2022-01-02T12:43:30.200Z"
   },
   {
    "duration": 7,
    "start_time": "2022-01-02T12:43:30.231Z"
   },
   {
    "duration": 27,
    "start_time": "2022-01-02T12:43:30.268Z"
   },
   {
    "duration": 76,
    "start_time": "2022-01-02T12:43:30.298Z"
   },
   {
    "duration": 359,
    "start_time": "2022-01-02T12:43:30.376Z"
   },
   {
    "duration": 29,
    "start_time": "2022-01-02T12:43:30.738Z"
   },
   {
    "duration": 3,
    "start_time": "2022-01-02T12:43:30.769Z"
   },
   {
    "duration": 855,
    "start_time": "2022-01-02T12:43:30.775Z"
   },
   {
    "duration": 895,
    "start_time": "2022-01-02T12:43:31.632Z"
   },
   {
    "duration": 10,
    "start_time": "2022-01-02T12:59:28.280Z"
   },
   {
    "duration": 4,
    "start_time": "2022-01-02T13:26:10.350Z"
   },
   {
    "duration": 67,
    "start_time": "2022-01-02T13:26:10.358Z"
   },
   {
    "duration": 15,
    "start_time": "2022-01-02T13:26:10.428Z"
   },
   {
    "duration": 5,
    "start_time": "2022-01-02T13:26:10.467Z"
   },
   {
    "duration": 10,
    "start_time": "2022-01-02T13:26:10.474Z"
   },
   {
    "duration": 12,
    "start_time": "2022-01-02T13:26:10.487Z"
   },
   {
    "duration": 25,
    "start_time": "2022-01-02T13:26:10.502Z"
   },
   {
    "duration": 53,
    "start_time": "2022-01-02T13:26:10.531Z"
   },
   {
    "duration": 23,
    "start_time": "2022-01-02T13:26:10.587Z"
   },
   {
    "duration": 124,
    "start_time": "2022-01-02T13:26:10.613Z"
   },
   {
    "duration": 8,
    "start_time": "2022-01-02T13:26:10.740Z"
   },
   {
    "duration": 38,
    "start_time": "2022-01-02T13:26:10.750Z"
   },
   {
    "duration": 46,
    "start_time": "2022-01-02T13:26:10.791Z"
   },
   {
    "duration": 384,
    "start_time": "2022-01-02T13:26:10.840Z"
   },
   {
    "duration": 17,
    "start_time": "2022-01-02T13:26:11.227Z"
   },
   {
    "duration": 20,
    "start_time": "2022-01-02T13:26:11.247Z"
   },
   {
    "duration": 858,
    "start_time": "2022-01-02T13:26:11.271Z"
   },
   {
    "duration": 888,
    "start_time": "2022-01-02T13:26:12.131Z"
   },
   {
    "duration": 63,
    "start_time": "2022-01-02T13:26:13.021Z"
   },
   {
    "duration": 8,
    "start_time": "2022-01-02T13:26:13.086Z"
   },
   {
    "duration": 804,
    "start_time": "2022-01-02T13:26:13.097Z"
   },
   {
    "duration": 851,
    "start_time": "2022-01-02T13:26:13.904Z"
   },
   {
    "duration": 934,
    "start_time": "2022-01-02T13:26:14.760Z"
   },
   {
    "duration": 421,
    "start_time": "2022-01-02T13:26:15.697Z"
   },
   {
    "duration": 1041,
    "start_time": "2022-01-02T13:26:16.121Z"
   },
   {
    "duration": 707,
    "start_time": "2022-01-02T13:26:17.167Z"
   },
   {
    "duration": 750,
    "start_time": "2022-01-02T13:26:17.877Z"
   },
   {
    "duration": 627,
    "start_time": "2022-01-02T13:26:18.631Z"
   },
   {
    "duration": 12,
    "start_time": "2022-01-02T13:26:19.261Z"
   },
   {
    "duration": 17,
    "start_time": "2022-01-02T13:26:19.275Z"
   },
   {
    "duration": 12,
    "start_time": "2022-01-02T13:26:19.295Z"
   },
   {
    "duration": 4,
    "start_time": "2022-01-02T13:28:01.830Z"
   },
   {
    "duration": 65,
    "start_time": "2022-01-02T13:28:01.837Z"
   },
   {
    "duration": 13,
    "start_time": "2022-01-02T13:28:01.905Z"
   },
   {
    "duration": 4,
    "start_time": "2022-01-02T13:28:01.921Z"
   },
   {
    "duration": 41,
    "start_time": "2022-01-02T13:28:01.928Z"
   },
   {
    "duration": 9,
    "start_time": "2022-01-02T13:28:01.971Z"
   },
   {
    "duration": 27,
    "start_time": "2022-01-02T13:28:01.983Z"
   },
   {
    "duration": 26,
    "start_time": "2022-01-02T13:28:02.013Z"
   },
   {
    "duration": 43,
    "start_time": "2022-01-02T13:28:02.042Z"
   },
   {
    "duration": 33,
    "start_time": "2022-01-02T13:28:02.088Z"
   },
   {
    "duration": 7,
    "start_time": "2022-01-02T13:28:02.123Z"
   },
   {
    "duration": 45,
    "start_time": "2022-01-02T13:28:02.132Z"
   },
   {
    "duration": 45,
    "start_time": "2022-01-02T13:28:02.180Z"
   },
   {
    "duration": 365,
    "start_time": "2022-01-02T13:28:02.228Z"
   },
   {
    "duration": 16,
    "start_time": "2022-01-02T13:28:02.595Z"
   },
   {
    "duration": 4,
    "start_time": "2022-01-02T13:28:02.613Z"
   },
   {
    "duration": 957,
    "start_time": "2022-01-02T13:28:02.619Z"
   },
   {
    "duration": 969,
    "start_time": "2022-01-02T13:28:03.579Z"
   },
   {
    "duration": 54,
    "start_time": "2022-01-02T13:28:04.551Z"
   },
   {
    "duration": 7,
    "start_time": "2022-01-02T13:28:04.607Z"
   },
   {
    "duration": 879,
    "start_time": "2022-01-02T13:28:04.616Z"
   },
   {
    "duration": 899,
    "start_time": "2022-01-02T13:28:24.230Z"
   },
   {
    "duration": 824,
    "start_time": "2022-01-02T13:29:49.432Z"
   },
   {
    "duration": 934,
    "start_time": "2022-01-02T13:30:32.213Z"
   },
   {
    "duration": 778,
    "start_time": "2022-01-02T13:31:11.470Z"
   },
   {
    "duration": 966,
    "start_time": "2022-01-02T13:31:16.362Z"
   },
   {
    "duration": 15,
    "start_time": "2022-01-02T13:45:49.119Z"
   },
   {
    "duration": 4,
    "start_time": "2022-01-02T13:45:57.605Z"
   },
   {
    "duration": 69,
    "start_time": "2022-01-02T13:45:57.612Z"
   },
   {
    "duration": 15,
    "start_time": "2022-01-02T13:45:57.684Z"
   },
   {
    "duration": 4,
    "start_time": "2022-01-02T13:45:57.702Z"
   },
   {
    "duration": 18,
    "start_time": "2022-01-02T13:45:57.709Z"
   },
   {
    "duration": 40,
    "start_time": "2022-01-02T13:45:57.730Z"
   },
   {
    "duration": 21,
    "start_time": "2022-01-02T13:45:57.774Z"
   },
   {
    "duration": 20,
    "start_time": "2022-01-02T13:45:57.798Z"
   },
   {
    "duration": 59,
    "start_time": "2022-01-02T13:45:57.821Z"
   },
   {
    "duration": 28,
    "start_time": "2022-01-02T13:45:57.882Z"
   },
   {
    "duration": 7,
    "start_time": "2022-01-02T13:45:57.913Z"
   },
   {
    "duration": 62,
    "start_time": "2022-01-02T13:45:57.923Z"
   },
   {
    "duration": 45,
    "start_time": "2022-01-02T13:45:57.988Z"
   },
   {
    "duration": 381,
    "start_time": "2022-01-02T13:45:58.037Z"
   },
   {
    "duration": 17,
    "start_time": "2022-01-02T13:45:58.420Z"
   },
   {
    "duration": 29,
    "start_time": "2022-01-02T13:45:58.439Z"
   },
   {
    "duration": 853,
    "start_time": "2022-01-02T13:45:58.471Z"
   },
   {
    "duration": 974,
    "start_time": "2022-01-02T13:45:59.326Z"
   },
   {
    "duration": 52,
    "start_time": "2022-01-02T13:46:00.303Z"
   },
   {
    "duration": 11,
    "start_time": "2022-01-02T13:46:00.357Z"
   },
   {
    "duration": 1007,
    "start_time": "2022-01-02T13:46:00.371Z"
   },
   {
    "duration": 16,
    "start_time": "2022-01-02T13:46:05.045Z"
   },
   {
    "duration": 470,
    "start_time": "2022-01-02T13:46:19.672Z"
   },
   {
    "duration": 37,
    "start_time": "2022-01-02T13:46:24.928Z"
   },
   {
    "duration": 30,
    "start_time": "2022-01-02T13:46:44.614Z"
   },
   {
    "duration": 23,
    "start_time": "2022-01-02T14:04:16.172Z"
   },
   {
    "duration": 350,
    "start_time": "2022-01-02T14:05:04.448Z"
   },
   {
    "duration": 21,
    "start_time": "2022-01-02T14:05:10.190Z"
   },
   {
    "duration": 22,
    "start_time": "2022-01-02T14:05:45.637Z"
   },
   {
    "duration": 21,
    "start_time": "2022-01-02T14:13:53.789Z"
   },
   {
    "duration": 22,
    "start_time": "2022-01-02T14:14:23.982Z"
   },
   {
    "duration": 21,
    "start_time": "2022-01-02T14:14:48.434Z"
   },
   {
    "duration": 5,
    "start_time": "2022-01-02T14:32:06.861Z"
   },
   {
    "duration": 13,
    "start_time": "2022-01-02T14:32:19.454Z"
   },
   {
    "duration": 4,
    "start_time": "2022-01-02T14:33:03.742Z"
   },
   {
    "duration": 74,
    "start_time": "2022-01-02T14:33:03.748Z"
   },
   {
    "duration": 15,
    "start_time": "2022-01-02T14:33:03.824Z"
   },
   {
    "duration": 5,
    "start_time": "2022-01-02T14:33:03.866Z"
   },
   {
    "duration": 12,
    "start_time": "2022-01-02T14:33:03.874Z"
   },
   {
    "duration": 16,
    "start_time": "2022-01-02T14:33:03.888Z"
   },
   {
    "duration": 22,
    "start_time": "2022-01-02T14:33:03.910Z"
   },
   {
    "duration": 21,
    "start_time": "2022-01-02T14:33:03.966Z"
   },
   {
    "duration": 6,
    "start_time": "2022-01-02T14:33:03.989Z"
   },
   {
    "duration": 28,
    "start_time": "2022-01-02T14:33:03.997Z"
   },
   {
    "duration": 57,
    "start_time": "2022-01-02T14:33:04.028Z"
   },
   {
    "duration": 7,
    "start_time": "2022-01-02T14:33:04.087Z"
   },
   {
    "duration": 24,
    "start_time": "2022-01-02T14:33:04.097Z"
   },
   {
    "duration": 79,
    "start_time": "2022-01-02T14:33:04.123Z"
   },
   {
    "duration": 434,
    "start_time": "2022-01-02T14:33:04.204Z"
   },
   {
    "duration": 27,
    "start_time": "2022-01-02T14:33:04.640Z"
   },
   {
    "duration": 3,
    "start_time": "2022-01-02T14:33:04.670Z"
   },
   {
    "duration": 851,
    "start_time": "2022-01-02T14:33:04.676Z"
   },
   {
    "duration": 891,
    "start_time": "2022-01-02T14:33:05.532Z"
   },
   {
    "duration": 67,
    "start_time": "2022-01-02T14:33:06.426Z"
   },
   {
    "duration": 8,
    "start_time": "2022-01-02T14:33:06.495Z"
   },
   {
    "duration": 822,
    "start_time": "2022-01-02T14:33:06.506Z"
   },
   {
    "duration": 890,
    "start_time": "2022-01-02T14:33:07.331Z"
   },
   {
    "duration": 1024,
    "start_time": "2022-01-02T14:33:08.224Z"
   },
   {
    "duration": 405,
    "start_time": "2022-01-02T14:33:09.250Z"
   },
   {
    "duration": 948,
    "start_time": "2022-01-02T14:33:09.658Z"
   },
   {
    "duration": 20,
    "start_time": "2022-01-02T14:33:10.609Z"
   },
   {
    "duration": 44,
    "start_time": "2022-01-02T14:33:10.631Z"
   },
   {
    "duration": 23,
    "start_time": "2022-01-02T14:33:10.678Z"
   },
   {
    "duration": 22,
    "start_time": "2022-01-02T14:33:10.704Z"
   },
   {
    "duration": 58,
    "start_time": "2022-01-02T14:33:10.729Z"
   },
   {
    "duration": 22,
    "start_time": "2022-01-02T14:33:10.790Z"
   },
   {
    "duration": 668,
    "start_time": "2022-01-02T14:33:10.814Z"
   },
   {
    "duration": 9,
    "start_time": "2022-01-02T14:33:11.485Z"
   },
   {
    "duration": 13,
    "start_time": "2022-01-02T14:33:11.497Z"
   },
   {
    "duration": 14,
    "start_time": "2022-01-02T14:33:11.512Z"
   },
   {
    "duration": 21,
    "start_time": "2022-01-02T14:39:20.132Z"
   },
   {
    "duration": 20,
    "start_time": "2022-01-02T14:39:29.132Z"
   },
   {
    "duration": 20,
    "start_time": "2022-01-02T14:40:28.175Z"
   },
   {
    "duration": 21,
    "start_time": "2022-01-02T14:42:13.200Z"
   },
   {
    "duration": 21,
    "start_time": "2022-01-02T14:42:51.997Z"
   },
   {
    "duration": 21,
    "start_time": "2022-01-02T14:50:36.863Z"
   },
   {
    "duration": 22,
    "start_time": "2022-01-02T14:50:43.443Z"
   },
   {
    "duration": 22,
    "start_time": "2022-01-02T14:51:40.064Z"
   },
   {
    "duration": 21,
    "start_time": "2022-01-02T14:51:43.892Z"
   },
   {
    "duration": 8,
    "start_time": "2022-01-02T14:59:40.555Z"
   },
   {
    "duration": 8,
    "start_time": "2022-01-02T14:59:48.236Z"
   },
   {
    "duration": 9,
    "start_time": "2022-01-02T15:00:29.340Z"
   },
   {
    "duration": 8,
    "start_time": "2022-01-02T15:00:31.697Z"
   },
   {
    "duration": 97,
    "start_time": "2022-01-02T15:22:33.395Z"
   },
   {
    "duration": 162,
    "start_time": "2022-01-02T15:22:44.251Z"
   },
   {
    "duration": 11,
    "start_time": "2022-01-02T15:22:50.867Z"
   },
   {
    "duration": 383,
    "start_time": "2022-01-02T15:37:10.284Z"
   },
   {
    "duration": 1207,
    "start_time": "2022-01-02T15:37:32.900Z"
   },
   {
    "duration": 513,
    "start_time": "2022-01-02T15:43:47.454Z"
   },
   {
    "duration": 21,
    "start_time": "2022-01-02T15:45:21.028Z"
   },
   {
    "duration": 21,
    "start_time": "2022-01-02T15:45:31.387Z"
   },
   {
    "duration": 19,
    "start_time": "2022-01-02T15:45:42.979Z"
   },
   {
    "duration": 20,
    "start_time": "2022-01-02T15:45:50.595Z"
   },
   {
    "duration": 1056,
    "start_time": "2022-01-02T15:55:39.171Z"
   },
   {
    "duration": 417,
    "start_time": "2022-01-02T16:05:56.636Z"
   },
   {
    "duration": 426,
    "start_time": "2022-01-02T16:07:21.930Z"
   },
   {
    "duration": 1417,
    "start_time": "2022-01-02T16:19:23.790Z"
   },
   {
    "duration": 67,
    "start_time": "2022-01-02T16:19:25.209Z"
   },
   {
    "duration": 15,
    "start_time": "2022-01-02T16:19:25.278Z"
   },
   {
    "duration": 4,
    "start_time": "2022-01-02T16:19:25.296Z"
   },
   {
    "duration": 9,
    "start_time": "2022-01-02T16:19:25.302Z"
   },
   {
    "duration": 10,
    "start_time": "2022-01-02T16:19:25.313Z"
   },
   {
    "duration": 60,
    "start_time": "2022-01-02T16:19:25.326Z"
   },
   {
    "duration": 20,
    "start_time": "2022-01-02T16:19:25.390Z"
   },
   {
    "duration": 6,
    "start_time": "2022-01-02T16:19:25.413Z"
   },
   {
    "duration": 62,
    "start_time": "2022-01-02T16:19:25.421Z"
   },
   {
    "duration": 22,
    "start_time": "2022-01-02T16:19:25.485Z"
   },
   {
    "duration": 7,
    "start_time": "2022-01-02T16:19:25.509Z"
   },
   {
    "duration": 53,
    "start_time": "2022-01-02T16:19:25.518Z"
   },
   {
    "duration": 45,
    "start_time": "2022-01-02T16:19:25.574Z"
   },
   {
    "duration": 385,
    "start_time": "2022-01-02T16:19:25.622Z"
   },
   {
    "duration": 16,
    "start_time": "2022-01-02T16:19:26.009Z"
   },
   {
    "duration": 3,
    "start_time": "2022-01-02T16:19:26.028Z"
   },
   {
    "duration": 859,
    "start_time": "2022-01-02T16:19:26.033Z"
   },
   {
    "duration": 891,
    "start_time": "2022-01-02T16:19:26.895Z"
   },
   {
    "duration": 48,
    "start_time": "2022-01-02T16:19:27.789Z"
   },
   {
    "duration": 30,
    "start_time": "2022-01-02T16:19:27.840Z"
   },
   {
    "duration": 805,
    "start_time": "2022-01-02T16:19:27.872Z"
   },
   {
    "duration": 851,
    "start_time": "2022-01-02T16:19:28.682Z"
   },
   {
    "duration": 1019,
    "start_time": "2022-01-02T16:19:29.536Z"
   },
   {
    "duration": 486,
    "start_time": "2022-01-02T16:19:30.558Z"
   },
   {
    "duration": 29,
    "start_time": "2022-01-02T16:19:31.046Z"
   },
   {
    "duration": 34,
    "start_time": "2022-01-02T16:19:31.078Z"
   },
   {
    "duration": 24,
    "start_time": "2022-01-02T16:19:31.115Z"
   },
   {
    "duration": 33,
    "start_time": "2022-01-02T16:19:31.142Z"
   },
   {
    "duration": 30,
    "start_time": "2022-01-02T16:19:31.177Z"
   },
   {
    "duration": 21,
    "start_time": "2022-01-02T16:19:31.209Z"
   },
   {
    "duration": 51,
    "start_time": "2022-01-02T16:19:31.233Z"
   },
   {
    "duration": 32,
    "start_time": "2022-01-02T16:19:31.287Z"
   },
   {
    "duration": 45,
    "start_time": "2022-01-02T16:19:31.322Z"
   },
   {
    "duration": 18,
    "start_time": "2022-01-02T16:19:31.370Z"
   },
   {
    "duration": 25,
    "start_time": "2022-01-02T16:19:31.391Z"
   },
   {
    "duration": 22,
    "start_time": "2022-01-02T16:19:31.419Z"
   },
   {
    "duration": 39,
    "start_time": "2022-01-02T16:19:31.444Z"
   },
   {
    "duration": 1421,
    "start_time": "2022-01-03T13:44:51.321Z"
   },
   {
    "duration": 73,
    "start_time": "2022-01-03T13:44:52.745Z"
   },
   {
    "duration": 15,
    "start_time": "2022-01-03T13:44:52.821Z"
   },
   {
    "duration": 4,
    "start_time": "2022-01-03T13:44:52.839Z"
   },
   {
    "duration": 28,
    "start_time": "2022-01-03T13:44:52.845Z"
   },
   {
    "duration": 11,
    "start_time": "2022-01-03T13:44:52.875Z"
   },
   {
    "duration": 24,
    "start_time": "2022-01-03T13:44:52.889Z"
   },
   {
    "duration": 62,
    "start_time": "2022-01-03T13:44:52.916Z"
   },
   {
    "duration": 6,
    "start_time": "2022-01-03T13:44:52.981Z"
   },
   {
    "duration": 27,
    "start_time": "2022-01-03T13:44:52.990Z"
   },
   {
    "duration": 52,
    "start_time": "2022-01-03T13:44:53.020Z"
   },
   {
    "duration": 7,
    "start_time": "2022-01-03T13:44:53.076Z"
   },
   {
    "duration": 26,
    "start_time": "2022-01-03T13:44:53.085Z"
   },
   {
    "duration": 74,
    "start_time": "2022-01-03T13:44:53.113Z"
   },
   {
    "duration": 354,
    "start_time": "2022-01-03T13:44:53.190Z"
   },
   {
    "duration": 25,
    "start_time": "2022-01-03T13:44:53.546Z"
   },
   {
    "duration": 3,
    "start_time": "2022-01-03T13:44:53.573Z"
   },
   {
    "duration": 858,
    "start_time": "2022-01-03T13:44:53.579Z"
   },
   {
    "duration": 891,
    "start_time": "2022-01-03T13:44:54.440Z"
   },
   {
    "duration": 59,
    "start_time": "2022-01-03T13:44:55.335Z"
   },
   {
    "duration": 8,
    "start_time": "2022-01-03T13:44:55.397Z"
   },
   {
    "duration": 791,
    "start_time": "2022-01-03T13:44:55.408Z"
   },
   {
    "duration": 819,
    "start_time": "2022-01-03T13:45:03.251Z"
   },
   {
    "duration": 742,
    "start_time": "2022-01-03T13:46:21.205Z"
   }
  ],
  "kernelspec": {
   "display_name": "Python 3 (ipykernel)",
   "language": "python",
   "name": "python3"
  },
  "language_info": {
   "codemirror_mode": {
    "name": "ipython",
    "version": 3
   },
   "file_extension": ".py",
   "mimetype": "text/x-python",
   "name": "python",
   "nbconvert_exporter": "python",
   "pygments_lexer": "ipython3",
   "version": "3.9.7"
  },
  "toc": {
   "base_numbering": 1,
   "nav_menu": {},
   "number_sections": true,
   "sideBar": true,
   "skip_h1_title": true,
   "title_cell": "Оглавление",
   "title_sidebar": "Оглавление",
   "toc_cell": true,
   "toc_position": {
    "height": "calc(100% - 180px)",
    "left": "10px",
    "top": "150px",
    "width": "293px"
   },
   "toc_section_display": true,
   "toc_window_display": true
  }
 },
 "nbformat": 4,
 "nbformat_minor": 2
}
