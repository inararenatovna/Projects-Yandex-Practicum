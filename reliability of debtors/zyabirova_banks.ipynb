{
 "cells": [
  {
   "cell_type": "markdown",
   "metadata": {
    "toc": true
   },
   "source": [
    "<h1>Оглавление<span class=\"tocSkip\"></span></h1>\n",
    "<div class=\"toc\"><ul class=\"toc-item\"><li><span><a href=\"#Изучение-общей-информации\" data-toc-modified-id=\"Изучение-общей-информации-1\"><span class=\"toc-item-num\">1&nbsp;&nbsp;</span>Изучение общей информации</a></span></li><li><span><a href=\"#Предобработка-данных\" data-toc-modified-id=\"Предобработка-данных-2\"><span class=\"toc-item-num\">2&nbsp;&nbsp;</span>Предобработка данных</a></span><ul class=\"toc-item\"><li><span><a href=\"#Обработка-пропусков\" data-toc-modified-id=\"Обработка-пропусков-2.1\"><span class=\"toc-item-num\">2.1&nbsp;&nbsp;</span>Обработка пропусков</a></span></li><li><span><a href=\"#Замена-типа-данных\" data-toc-modified-id=\"Замена-типа-данных-2.2\"><span class=\"toc-item-num\">2.2&nbsp;&nbsp;</span>Замена типа данных</a></span></li><li><span><a href=\"#Обработка-дубликатов\" data-toc-modified-id=\"Обработка-дубликатов-2.3\"><span class=\"toc-item-num\">2.3&nbsp;&nbsp;</span>Обработка дубликатов</a></span></li><li><span><a href=\"#Лемматизация\" data-toc-modified-id=\"Лемматизация-2.4\"><span class=\"toc-item-num\">2.4&nbsp;&nbsp;</span>Лемматизация</a></span></li><li><span><a href=\"#Категоризация-данных\" data-toc-modified-id=\"Категоризация-данных-2.5\"><span class=\"toc-item-num\">2.5&nbsp;&nbsp;</span>Категоризация данных</a></span></li></ul></li><li><span><a href=\"#Ответим-на-вопросы:\" data-toc-modified-id=\"Ответим-на-вопросы:-3\"><span class=\"toc-item-num\">3&nbsp;&nbsp;</span>Ответим на вопросы:</a></span></li><li><span><a href=\"#Общий-вывод\" data-toc-modified-id=\"Общий-вывод-4\"><span class=\"toc-item-num\">4&nbsp;&nbsp;</span>Общий вывод</a></span></li></ul></div>"
   ]
  },
  {
   "cell_type": "markdown",
   "metadata": {},
   "source": [
    "# Исследование надёжности заёмщиков\n",
    "\n",
    "Заказчик — кредитный отдел банка. Нужно разобраться, влияет ли семейное положение и количество детей клиента на факт погашения кредита в срок. Входные данные от банка — статистика о платёжеспособности клиентов.\n",
    "\n",
    "Результаты исследования будут учтены при построении модели **кредитного скоринга** — специальной системы, которая оценивает способность потенциального заёмщика вернуть кредит банку."
   ]
  },
  {
   "cell_type": "markdown",
   "metadata": {},
   "source": [
    "## Изучение общей информации"
   ]
  },
  {
   "cell_type": "code",
   "execution_count": 1,
   "metadata": {
    "scrolled": false
   },
   "outputs": [
    {
     "data": {
      "text/html": [
       "<div>\n",
       "<style scoped>\n",
       "    .dataframe tbody tr th:only-of-type {\n",
       "        vertical-align: middle;\n",
       "    }\n",
       "\n",
       "    .dataframe tbody tr th {\n",
       "        vertical-align: top;\n",
       "    }\n",
       "\n",
       "    .dataframe thead th {\n",
       "        text-align: right;\n",
       "    }\n",
       "</style>\n",
       "<table border=\"1\" class=\"dataframe\">\n",
       "  <thead>\n",
       "    <tr style=\"text-align: right;\">\n",
       "      <th></th>\n",
       "      <th>children</th>\n",
       "      <th>days_employed</th>\n",
       "      <th>dob_years</th>\n",
       "      <th>education</th>\n",
       "      <th>education_id</th>\n",
       "      <th>family_status</th>\n",
       "      <th>family_status_id</th>\n",
       "      <th>gender</th>\n",
       "      <th>income_type</th>\n",
       "      <th>debt</th>\n",
       "      <th>total_income</th>\n",
       "      <th>purpose</th>\n",
       "    </tr>\n",
       "  </thead>\n",
       "  <tbody>\n",
       "    <tr>\n",
       "      <td>0</td>\n",
       "      <td>1</td>\n",
       "      <td>-8437.673028</td>\n",
       "      <td>42</td>\n",
       "      <td>высшее</td>\n",
       "      <td>0</td>\n",
       "      <td>женат / замужем</td>\n",
       "      <td>0</td>\n",
       "      <td>F</td>\n",
       "      <td>сотрудник</td>\n",
       "      <td>0</td>\n",
       "      <td>253875.639453</td>\n",
       "      <td>покупка жилья</td>\n",
       "    </tr>\n",
       "    <tr>\n",
       "      <td>1</td>\n",
       "      <td>1</td>\n",
       "      <td>-4024.803754</td>\n",
       "      <td>36</td>\n",
       "      <td>среднее</td>\n",
       "      <td>1</td>\n",
       "      <td>женат / замужем</td>\n",
       "      <td>0</td>\n",
       "      <td>F</td>\n",
       "      <td>сотрудник</td>\n",
       "      <td>0</td>\n",
       "      <td>112080.014102</td>\n",
       "      <td>приобретение автомобиля</td>\n",
       "    </tr>\n",
       "    <tr>\n",
       "      <td>2</td>\n",
       "      <td>0</td>\n",
       "      <td>-5623.422610</td>\n",
       "      <td>33</td>\n",
       "      <td>Среднее</td>\n",
       "      <td>1</td>\n",
       "      <td>женат / замужем</td>\n",
       "      <td>0</td>\n",
       "      <td>M</td>\n",
       "      <td>сотрудник</td>\n",
       "      <td>0</td>\n",
       "      <td>145885.952297</td>\n",
       "      <td>покупка жилья</td>\n",
       "    </tr>\n",
       "    <tr>\n",
       "      <td>3</td>\n",
       "      <td>3</td>\n",
       "      <td>-4124.747207</td>\n",
       "      <td>32</td>\n",
       "      <td>среднее</td>\n",
       "      <td>1</td>\n",
       "      <td>женат / замужем</td>\n",
       "      <td>0</td>\n",
       "      <td>M</td>\n",
       "      <td>сотрудник</td>\n",
       "      <td>0</td>\n",
       "      <td>267628.550329</td>\n",
       "      <td>дополнительное образование</td>\n",
       "    </tr>\n",
       "    <tr>\n",
       "      <td>4</td>\n",
       "      <td>0</td>\n",
       "      <td>340266.072047</td>\n",
       "      <td>53</td>\n",
       "      <td>среднее</td>\n",
       "      <td>1</td>\n",
       "      <td>гражданский брак</td>\n",
       "      <td>1</td>\n",
       "      <td>F</td>\n",
       "      <td>пенсионер</td>\n",
       "      <td>0</td>\n",
       "      <td>158616.077870</td>\n",
       "      <td>сыграть свадьбу</td>\n",
       "    </tr>\n",
       "    <tr>\n",
       "      <td>5</td>\n",
       "      <td>0</td>\n",
       "      <td>-926.185831</td>\n",
       "      <td>27</td>\n",
       "      <td>высшее</td>\n",
       "      <td>0</td>\n",
       "      <td>гражданский брак</td>\n",
       "      <td>1</td>\n",
       "      <td>M</td>\n",
       "      <td>компаньон</td>\n",
       "      <td>0</td>\n",
       "      <td>255763.565419</td>\n",
       "      <td>покупка жилья</td>\n",
       "    </tr>\n",
       "    <tr>\n",
       "      <td>6</td>\n",
       "      <td>0</td>\n",
       "      <td>-2879.202052</td>\n",
       "      <td>43</td>\n",
       "      <td>высшее</td>\n",
       "      <td>0</td>\n",
       "      <td>женат / замужем</td>\n",
       "      <td>0</td>\n",
       "      <td>F</td>\n",
       "      <td>компаньон</td>\n",
       "      <td>0</td>\n",
       "      <td>240525.971920</td>\n",
       "      <td>операции с жильем</td>\n",
       "    </tr>\n",
       "    <tr>\n",
       "      <td>7</td>\n",
       "      <td>0</td>\n",
       "      <td>-152.779569</td>\n",
       "      <td>50</td>\n",
       "      <td>СРЕДНЕЕ</td>\n",
       "      <td>1</td>\n",
       "      <td>женат / замужем</td>\n",
       "      <td>0</td>\n",
       "      <td>M</td>\n",
       "      <td>сотрудник</td>\n",
       "      <td>0</td>\n",
       "      <td>135823.934197</td>\n",
       "      <td>образование</td>\n",
       "    </tr>\n",
       "    <tr>\n",
       "      <td>8</td>\n",
       "      <td>2</td>\n",
       "      <td>-6929.865299</td>\n",
       "      <td>35</td>\n",
       "      <td>ВЫСШЕЕ</td>\n",
       "      <td>0</td>\n",
       "      <td>гражданский брак</td>\n",
       "      <td>1</td>\n",
       "      <td>F</td>\n",
       "      <td>сотрудник</td>\n",
       "      <td>0</td>\n",
       "      <td>95856.832424</td>\n",
       "      <td>на проведение свадьбы</td>\n",
       "    </tr>\n",
       "    <tr>\n",
       "      <td>9</td>\n",
       "      <td>0</td>\n",
       "      <td>-2188.756445</td>\n",
       "      <td>41</td>\n",
       "      <td>среднее</td>\n",
       "      <td>1</td>\n",
       "      <td>женат / замужем</td>\n",
       "      <td>0</td>\n",
       "      <td>M</td>\n",
       "      <td>сотрудник</td>\n",
       "      <td>0</td>\n",
       "      <td>144425.938277</td>\n",
       "      <td>покупка жилья для семьи</td>\n",
       "    </tr>\n",
       "  </tbody>\n",
       "</table>\n",
       "</div>"
      ],
      "text/plain": [
       "   children  days_employed  dob_years education  education_id  \\\n",
       "0         1   -8437.673028         42    высшее             0   \n",
       "1         1   -4024.803754         36   среднее             1   \n",
       "2         0   -5623.422610         33   Среднее             1   \n",
       "3         3   -4124.747207         32   среднее             1   \n",
       "4         0  340266.072047         53   среднее             1   \n",
       "5         0    -926.185831         27    высшее             0   \n",
       "6         0   -2879.202052         43    высшее             0   \n",
       "7         0    -152.779569         50   СРЕДНЕЕ             1   \n",
       "8         2   -6929.865299         35    ВЫСШЕЕ             0   \n",
       "9         0   -2188.756445         41   среднее             1   \n",
       "\n",
       "      family_status  family_status_id gender income_type  debt   total_income  \\\n",
       "0   женат / замужем                 0      F   сотрудник     0  253875.639453   \n",
       "1   женат / замужем                 0      F   сотрудник     0  112080.014102   \n",
       "2   женат / замужем                 0      M   сотрудник     0  145885.952297   \n",
       "3   женат / замужем                 0      M   сотрудник     0  267628.550329   \n",
       "4  гражданский брак                 1      F   пенсионер     0  158616.077870   \n",
       "5  гражданский брак                 1      M   компаньон     0  255763.565419   \n",
       "6   женат / замужем                 0      F   компаньон     0  240525.971920   \n",
       "7   женат / замужем                 0      M   сотрудник     0  135823.934197   \n",
       "8  гражданский брак                 1      F   сотрудник     0   95856.832424   \n",
       "9   женат / замужем                 0      M   сотрудник     0  144425.938277   \n",
       "\n",
       "                      purpose  \n",
       "0               покупка жилья  \n",
       "1     приобретение автомобиля  \n",
       "2               покупка жилья  \n",
       "3  дополнительное образование  \n",
       "4             сыграть свадьбу  \n",
       "5               покупка жилья  \n",
       "6           операции с жильем  \n",
       "7                 образование  \n",
       "8       на проведение свадьбы  \n",
       "9     покупка жилья для семьи  "
      ]
     },
     "execution_count": 1,
     "metadata": {},
     "output_type": "execute_result"
    }
   ],
   "source": [
    "import pandas as pd # импорт библиотеки pandas\n",
    "bc = pd.read_csv('/datasets/data.csv') # чтение файла с данными и сохранение в bc (bank_customers или bank_clients)\n",
    "bc.head(10) # получение первых 10 строк таблицы"
   ]
  },
  {
   "cell_type": "code",
   "execution_count": 2,
   "metadata": {},
   "outputs": [
    {
     "name": "stdout",
     "output_type": "stream",
     "text": [
      "<class 'pandas.core.frame.DataFrame'>\n",
      "RangeIndex: 21525 entries, 0 to 21524\n",
      "Data columns (total 12 columns):\n",
      "children            21525 non-null int64\n",
      "days_employed       19351 non-null float64\n",
      "dob_years           21525 non-null int64\n",
      "education           21525 non-null object\n",
      "education_id        21525 non-null int64\n",
      "family_status       21525 non-null object\n",
      "family_status_id    21525 non-null int64\n",
      "gender              21525 non-null object\n",
      "income_type         21525 non-null object\n",
      "debt                21525 non-null int64\n",
      "total_income        19351 non-null float64\n",
      "purpose             21525 non-null object\n",
      "dtypes: float64(2), int64(5), object(5)\n",
      "memory usage: 2.0+ MB\n"
     ]
    }
   ],
   "source": [
    "bc.info() # получение общей информации о данных в таблице"
   ]
  },
  {
   "cell_type": "markdown",
   "metadata": {},
   "source": [
    "**Вывод**"
   ]
  },
  {
   "cell_type": "markdown",
   "metadata": {},
   "source": [
    "В таблице 12 столбцов и 21525 строк.\n",
    "\n",
    "Столбцы содержат типы данных `float, int, oblect`. Наименования столбцов корректны и единообразны.\n",
    "\n",
    "При первоначальном ознакомлении с таблицей и информацией о ней обнаружены следующие проблемы: \n",
    "- отрицательные показатели в столбце `days_employed`. В нём содержится количество дней трудового стажа, которое не может быть меньше ноля - соответственно, минусы перед числом, скорее всего, являются технической ошибкой, и их можно отбросить;\n",
    "- отсутствие единообразия в содержании столбца `education` - данные зафиксированы разным регистром, что может спровоцировать проблемы в дальнейшей работе с таблицей (например, при попытке выявления явных дубликатов);\n",
    "- наличие пропусков в столбцах `days_employed` и `total_income`; \n",
    "- информация в столбцах `days_employed` и `total_income` имеет тип данных `float` с шестью знаками после запятой - они не содержат принципиально важной и полезной информации и усложняют визуальную работу с таблицей.\n",
    "\n",
    "\n",
    "Все перечисленные проблемы будем решать на этапе предобработки данных."
   ]
  },
  {
   "cell_type": "markdown",
   "metadata": {},
   "source": [
    "## Предобработка данных"
   ]
  },
  {
   "cell_type": "markdown",
   "metadata": {},
   "source": [
    "### Обработка пропусков"
   ]
  },
  {
   "cell_type": "markdown",
   "metadata": {},
   "source": [
    "При знакомстве с информацией о таблице нами обнаружено, что в столбцах `days_employed` и `total_income` имеются пропущенные значения. Но прежде чем заняться заменой пропусков, отработаем артефакты в столбце `days_employed`."
   ]
  },
  {
   "cell_type": "code",
   "execution_count": 3,
   "metadata": {},
   "outputs": [
    {
     "data": {
      "text/html": [
       "<div>\n",
       "<style scoped>\n",
       "    .dataframe tbody tr th:only-of-type {\n",
       "        vertical-align: middle;\n",
       "    }\n",
       "\n",
       "    .dataframe tbody tr th {\n",
       "        vertical-align: top;\n",
       "    }\n",
       "\n",
       "    .dataframe thead th {\n",
       "        text-align: right;\n",
       "    }\n",
       "</style>\n",
       "<table border=\"1\" class=\"dataframe\">\n",
       "  <thead>\n",
       "    <tr style=\"text-align: right;\">\n",
       "      <th></th>\n",
       "      <th>children</th>\n",
       "      <th>days_employed</th>\n",
       "      <th>dob_years</th>\n",
       "      <th>education</th>\n",
       "      <th>education_id</th>\n",
       "      <th>family_status</th>\n",
       "      <th>family_status_id</th>\n",
       "      <th>gender</th>\n",
       "      <th>income_type</th>\n",
       "      <th>debt</th>\n",
       "      <th>total_income</th>\n",
       "      <th>purpose</th>\n",
       "    </tr>\n",
       "  </thead>\n",
       "  <tbody>\n",
       "    <tr>\n",
       "      <td>0</td>\n",
       "      <td>1</td>\n",
       "      <td>8437.673028</td>\n",
       "      <td>42</td>\n",
       "      <td>высшее</td>\n",
       "      <td>0</td>\n",
       "      <td>женат / замужем</td>\n",
       "      <td>0</td>\n",
       "      <td>F</td>\n",
       "      <td>сотрудник</td>\n",
       "      <td>0</td>\n",
       "      <td>253875.639453</td>\n",
       "      <td>покупка жилья</td>\n",
       "    </tr>\n",
       "    <tr>\n",
       "      <td>1</td>\n",
       "      <td>1</td>\n",
       "      <td>4024.803754</td>\n",
       "      <td>36</td>\n",
       "      <td>среднее</td>\n",
       "      <td>1</td>\n",
       "      <td>женат / замужем</td>\n",
       "      <td>0</td>\n",
       "      <td>F</td>\n",
       "      <td>сотрудник</td>\n",
       "      <td>0</td>\n",
       "      <td>112080.014102</td>\n",
       "      <td>приобретение автомобиля</td>\n",
       "    </tr>\n",
       "    <tr>\n",
       "      <td>2</td>\n",
       "      <td>0</td>\n",
       "      <td>5623.422610</td>\n",
       "      <td>33</td>\n",
       "      <td>Среднее</td>\n",
       "      <td>1</td>\n",
       "      <td>женат / замужем</td>\n",
       "      <td>0</td>\n",
       "      <td>M</td>\n",
       "      <td>сотрудник</td>\n",
       "      <td>0</td>\n",
       "      <td>145885.952297</td>\n",
       "      <td>покупка жилья</td>\n",
       "    </tr>\n",
       "    <tr>\n",
       "      <td>3</td>\n",
       "      <td>3</td>\n",
       "      <td>4124.747207</td>\n",
       "      <td>32</td>\n",
       "      <td>среднее</td>\n",
       "      <td>1</td>\n",
       "      <td>женат / замужем</td>\n",
       "      <td>0</td>\n",
       "      <td>M</td>\n",
       "      <td>сотрудник</td>\n",
       "      <td>0</td>\n",
       "      <td>267628.550329</td>\n",
       "      <td>дополнительное образование</td>\n",
       "    </tr>\n",
       "    <tr>\n",
       "      <td>4</td>\n",
       "      <td>0</td>\n",
       "      <td>340266.072047</td>\n",
       "      <td>53</td>\n",
       "      <td>среднее</td>\n",
       "      <td>1</td>\n",
       "      <td>гражданский брак</td>\n",
       "      <td>1</td>\n",
       "      <td>F</td>\n",
       "      <td>пенсионер</td>\n",
       "      <td>0</td>\n",
       "      <td>158616.077870</td>\n",
       "      <td>сыграть свадьбу</td>\n",
       "    </tr>\n",
       "  </tbody>\n",
       "</table>\n",
       "</div>"
      ],
      "text/plain": [
       "   children  days_employed  dob_years education  education_id  \\\n",
       "0         1    8437.673028         42    высшее             0   \n",
       "1         1    4024.803754         36   среднее             1   \n",
       "2         0    5623.422610         33   Среднее             1   \n",
       "3         3    4124.747207         32   среднее             1   \n",
       "4         0  340266.072047         53   среднее             1   \n",
       "\n",
       "      family_status  family_status_id gender income_type  debt   total_income  \\\n",
       "0   женат / замужем                 0      F   сотрудник     0  253875.639453   \n",
       "1   женат / замужем                 0      F   сотрудник     0  112080.014102   \n",
       "2   женат / замужем                 0      M   сотрудник     0  145885.952297   \n",
       "3   женат / замужем                 0      M   сотрудник     0  267628.550329   \n",
       "4  гражданский брак                 1      F   пенсионер     0  158616.077870   \n",
       "\n",
       "                      purpose  \n",
       "0               покупка жилья  \n",
       "1     приобретение автомобиля  \n",
       "2               покупка жилья  \n",
       "3  дополнительное образование  \n",
       "4             сыграть свадьбу  "
      ]
     },
     "execution_count": 3,
     "metadata": {},
     "output_type": "execute_result"
    }
   ],
   "source": [
    "bc['days_employed'] = bc['days_employed'].abs() # получение модуля числа и сохранение в столбце days_employed\n",
    "bc.head() # получение первых 5 строк таблицы"
   ]
  },
  {
   "cell_type": "markdown",
   "metadata": {},
   "source": [
    "Теперь, когда в нашей таблице нет значений, не отражающих действительность, можно приступить к работе с пропусками.\n",
    "\n",
    "Итак, столбец `days_employed` содержит в себе информацию об общем трудовом стаже в днях, в столбце `total_income` зафиксированы данные о ежемесячном доходе клиентов. Учитывая, что перед нами статистика от кредитного отдела банка, вряд ли пропуски связаны с личным нежеланием клиентов указывать о себе эту информацию, так как она является обязательной для запроса кредита. По этой же причине очевидно, что отсутствующие значения не значат \"0\". К тому же подобные пропуски есть в строках с информацией о взрослых и пожилых клиентах, чей трудовой стаж не может быть равен нулю. \n",
    "Можно предположить, что данные о стаже и ежемесячном доходе отсутствуют в тех случаях, когда они не подтверждены документально (трудовой книжкой, справкой 2-НДФЛ или выпиской из банка). \n",
    "\n",
    "Таким образом, в обоих столбцах мы имеем дело с количественными переменными. Поэтому пропуски будем заменять медианными значениями, как наиболее объективными в сравнении со средними значениями."
   ]
  },
  {
   "cell_type": "code",
   "execution_count": 4,
   "metadata": {},
   "outputs": [
    {
     "name": "stdout",
     "output_type": "stream",
     "text": [
      "<class 'pandas.core.frame.DataFrame'>\n",
      "RangeIndex: 21525 entries, 0 to 21524\n",
      "Data columns (total 12 columns):\n",
      "children            21525 non-null int64\n",
      "days_employed       21525 non-null float64\n",
      "dob_years           21525 non-null int64\n",
      "education           21525 non-null object\n",
      "education_id        21525 non-null int64\n",
      "family_status       21525 non-null object\n",
      "family_status_id    21525 non-null int64\n",
      "gender              21525 non-null object\n",
      "income_type         21525 non-null object\n",
      "debt                21525 non-null int64\n",
      "total_income        21525 non-null float64\n",
      "purpose             21525 non-null object\n",
      "dtypes: float64(2), int64(5), object(5)\n",
      "memory usage: 2.0+ MB\n"
     ]
    }
   ],
   "source": [
    "bc['days_employed'] = bc['days_employed'].fillna(bc['days_employed'].median()) # замена пропусков в days_employed на медианное значение по столбцу\n",
    "bc ['total_income'] = bc['total_income'].fillna(bc['total_income'].median()) # замена пропусков в total_income на медианное значение по столбцу\n",
    "bc.info() # получение информации об обновленной таблице для проверки"
   ]
  },
  {
   "cell_type": "markdown",
   "metadata": {},
   "source": [
    "**Вывод**"
   ]
  },
  {
   "cell_type": "markdown",
   "metadata": {},
   "source": [
    "Теперь в нашей таблице нет пропусков и артефактов, но остались цифры с длинными и ненужными \"хвостами\" после запятой. Нам необходимо преобразовать `float` в `int`, поэтому будем использовать метод `astype()`."
   ]
  },
  {
   "cell_type": "markdown",
   "metadata": {},
   "source": [
    "### Замена типа данных"
   ]
  },
  {
   "cell_type": "code",
   "execution_count": 5,
   "metadata": {},
   "outputs": [
    {
     "name": "stdout",
     "output_type": "stream",
     "text": [
      "<class 'pandas.core.frame.DataFrame'>\n",
      "RangeIndex: 21525 entries, 0 to 21524\n",
      "Data columns (total 12 columns):\n",
      "children            21525 non-null int64\n",
      "days_employed       21525 non-null int64\n",
      "dob_years           21525 non-null int64\n",
      "education           21525 non-null object\n",
      "education_id        21525 non-null int64\n",
      "family_status       21525 non-null object\n",
      "family_status_id    21525 non-null int64\n",
      "gender              21525 non-null object\n",
      "income_type         21525 non-null object\n",
      "debt                21525 non-null int64\n",
      "total_income        21525 non-null int64\n",
      "purpose             21525 non-null object\n",
      "dtypes: int64(7), object(5)\n",
      "memory usage: 2.0+ MB\n"
     ]
    }
   ],
   "source": [
    "bc[['days_employed', 'total_income']] = bc[['days_employed', 'total_income']].astype(int) # изменение типа данных на int в столбцах days_employed и total_income\n",
    "bc.info() # получение информации об обновленной таблице для проверки"
   ]
  },
  {
   "cell_type": "markdown",
   "metadata": {},
   "source": [
    "**Вывод**"
   ]
  },
  {
   "cell_type": "markdown",
   "metadata": {},
   "source": [
    "Согласно полученной информации о таблице, теперь все столбцы имеют типы `int` и `object` - наша задача по замене `float` выполнена."
   ]
  },
  {
   "cell_type": "markdown",
   "metadata": {},
   "source": [
    "### Обработка дубликатов"
   ]
  },
  {
   "cell_type": "markdown",
   "metadata": {},
   "source": [
    "В процессе знакомства с таблицой мы обнаружили, что в столбце `education` данные зафиксированы разным регистром. Этот факт может помешать нам при выявлении явных дубликатов, поэтому приведём все значения в столбце к единому строчному регистру. "
   ]
  },
  {
   "cell_type": "code",
   "execution_count": 6,
   "metadata": {},
   "outputs": [],
   "source": [
    "bc['education'] = bc['education'].str.lower() # приведение строк в столбце education к нижнему регистру"
   ]
  },
  {
   "cell_type": "markdown",
   "metadata": {},
   "source": [
    "Теперь, когда все строки в колонке `education` приведены к единому регистру, информация о наличии дубликатов будет более корректна. Метод `duplicated()` укажет нам только на наличие либо отсутствие дубликатов, поэтому посчитаем общее количество имеющихся дубликатов, добавив метод `sum()`."
   ]
  },
  {
   "cell_type": "code",
   "execution_count": 7,
   "metadata": {
    "scrolled": true
   },
   "outputs": [
    {
     "data": {
      "text/plain": [
       "71"
      ]
     },
     "execution_count": 7,
     "metadata": {},
     "output_type": "execute_result"
    }
   ],
   "source": [
    "bc.duplicated().sum() # подсчёт явных дубликатов"
   ]
  },
  {
   "cell_type": "markdown",
   "metadata": {},
   "source": [
    "71 дубликат из 21525 - не так много, удалим их методом `drop_duplicates()`, также удалив старые индексы и сформировав новые."
   ]
  },
  {
   "cell_type": "code",
   "execution_count": 8,
   "metadata": {},
   "outputs": [
    {
     "data": {
      "text/plain": [
       "0"
      ]
     },
     "execution_count": 8,
     "metadata": {},
     "output_type": "execute_result"
    }
   ],
   "source": [
    "bc = bc.drop_duplicates().reset_index(drop=True) # удаление явных дубликатов (с удалением старых индексов и формированием новых)\n",
    "bc.duplicated().sum() # проверка на отсутствие дубликатов"
   ]
  },
  {
   "cell_type": "markdown",
   "metadata": {},
   "source": [
    "**Вывод**"
   ]
  },
  {
   "cell_type": "markdown",
   "metadata": {},
   "source": [
    "Дубликаты удалены. Их возникновение может быть связано с подачей одним клиентом заявлений в несколько отделений банка либо же с какими-то техническими причинами, ошибками."
   ]
  },
  {
   "cell_type": "markdown",
   "metadata": {},
   "source": [
    "### Лемматизация"
   ]
  },
  {
   "cell_type": "code",
   "execution_count": 9,
   "metadata": {},
   "outputs": [
    {
     "data": {
      "text/plain": [
       "'покупка жилья приобретение автомобиля дополнительное образование сыграть свадьбу операции с жильем образование на проведение свадьбы покупка жилья для семьи покупка недвижимости покупка коммерческой недвижимости покупка жилой недвижимости строительство собственной недвижимости недвижимость строительство недвижимости на покупку подержанного автомобиля на покупку своего автомобиля операции с коммерческой недвижимостью строительство жилой недвижимости жилье операции со своей недвижимостью автомобили заняться образованием сделка с подержанным автомобилем получение образования автомобиль свадьба получение дополнительного образования покупка своего жилья операции с недвижимостью получение высшего образования свой автомобиль сделка с автомобилем профильное образование высшее образование покупка жилья для сдачи на покупку автомобиля ремонт жилью заняться высшим образованием'"
      ]
     },
     "execution_count": 9,
     "metadata": {},
     "output_type": "execute_result"
    }
   ],
   "source": [
    "from pymystem3 import Mystem\n",
    "m = Mystem() # импорт библиотеки pymystem3 \n",
    "purposes = ' '.join(bc['purpose'].unique()) \n",
    "# получение уникальных значений столбца purpose, объединение их в строку методом join(), сохранение в переменную purposes\n",
    "purposes"
   ]
  },
  {
   "cell_type": "code",
   "execution_count": 10,
   "metadata": {
    "scrolled": true
   },
   "outputs": [
    {
     "data": {
      "text/plain": [
       "['покупка',\n",
       " ' ',\n",
       " 'жилье',\n",
       " ' ',\n",
       " 'приобретение',\n",
       " ' ',\n",
       " 'автомобиль',\n",
       " ' ',\n",
       " 'дополнительный',\n",
       " ' ',\n",
       " 'образование',\n",
       " ' ',\n",
       " 'сыграть',\n",
       " ' ',\n",
       " 'свадьба',\n",
       " ' ',\n",
       " 'операция',\n",
       " ' ',\n",
       " 'с',\n",
       " ' ',\n",
       " 'жилье',\n",
       " ' ',\n",
       " 'образование',\n",
       " ' ',\n",
       " 'на',\n",
       " ' ',\n",
       " 'проведение',\n",
       " ' ',\n",
       " 'свадьба',\n",
       " ' ',\n",
       " 'покупка',\n",
       " ' ',\n",
       " 'жилье',\n",
       " ' ',\n",
       " 'для',\n",
       " ' ',\n",
       " 'семья',\n",
       " ' ',\n",
       " 'покупка',\n",
       " ' ',\n",
       " 'недвижимость',\n",
       " ' ',\n",
       " 'покупка',\n",
       " ' ',\n",
       " 'коммерческий',\n",
       " ' ',\n",
       " 'недвижимость',\n",
       " ' ',\n",
       " 'покупка',\n",
       " ' ',\n",
       " 'жилой',\n",
       " ' ',\n",
       " 'недвижимость',\n",
       " ' ',\n",
       " 'строительство',\n",
       " ' ',\n",
       " 'собственный',\n",
       " ' ',\n",
       " 'недвижимость',\n",
       " ' ',\n",
       " 'недвижимость',\n",
       " ' ',\n",
       " 'строительство',\n",
       " ' ',\n",
       " 'недвижимость',\n",
       " ' ',\n",
       " 'на',\n",
       " ' ',\n",
       " 'покупка',\n",
       " ' ',\n",
       " 'подержать',\n",
       " ' ',\n",
       " 'автомобиль',\n",
       " ' ',\n",
       " 'на',\n",
       " ' ',\n",
       " 'покупка',\n",
       " ' ',\n",
       " 'свой',\n",
       " ' ',\n",
       " 'автомобиль',\n",
       " ' ',\n",
       " 'операция',\n",
       " ' ',\n",
       " 'с',\n",
       " ' ',\n",
       " 'коммерческий',\n",
       " ' ',\n",
       " 'недвижимость',\n",
       " ' ',\n",
       " 'строительство',\n",
       " ' ',\n",
       " 'жилой',\n",
       " ' ',\n",
       " 'недвижимость',\n",
       " ' ',\n",
       " 'жилье',\n",
       " ' ',\n",
       " 'операция',\n",
       " ' ',\n",
       " 'со',\n",
       " ' ',\n",
       " 'свой',\n",
       " ' ',\n",
       " 'недвижимость',\n",
       " ' ',\n",
       " 'автомобиль',\n",
       " ' ',\n",
       " 'заниматься',\n",
       " ' ',\n",
       " 'образование',\n",
       " ' ',\n",
       " 'сделка',\n",
       " ' ',\n",
       " 'с',\n",
       " ' ',\n",
       " 'подержать',\n",
       " ' ',\n",
       " 'автомобиль',\n",
       " ' ',\n",
       " 'получение',\n",
       " ' ',\n",
       " 'образование',\n",
       " ' ',\n",
       " 'автомобиль',\n",
       " ' ',\n",
       " 'свадьба',\n",
       " ' ',\n",
       " 'получение',\n",
       " ' ',\n",
       " 'дополнительный',\n",
       " ' ',\n",
       " 'образование',\n",
       " ' ',\n",
       " 'покупка',\n",
       " ' ',\n",
       " 'свой',\n",
       " ' ',\n",
       " 'жилье',\n",
       " ' ',\n",
       " 'операция',\n",
       " ' ',\n",
       " 'с',\n",
       " ' ',\n",
       " 'недвижимость',\n",
       " ' ',\n",
       " 'получение',\n",
       " ' ',\n",
       " 'высокий',\n",
       " ' ',\n",
       " 'образование',\n",
       " ' ',\n",
       " 'свой',\n",
       " ' ',\n",
       " 'автомобиль',\n",
       " ' ',\n",
       " 'сделка',\n",
       " ' ',\n",
       " 'с',\n",
       " ' ',\n",
       " 'автомобиль',\n",
       " ' ',\n",
       " 'профильный',\n",
       " ' ',\n",
       " 'образование',\n",
       " ' ',\n",
       " 'высокий',\n",
       " ' ',\n",
       " 'образование',\n",
       " ' ',\n",
       " 'покупка',\n",
       " ' ',\n",
       " 'жилье',\n",
       " ' ',\n",
       " 'для',\n",
       " ' ',\n",
       " 'сдача',\n",
       " ' ',\n",
       " 'на',\n",
       " ' ',\n",
       " 'покупка',\n",
       " ' ',\n",
       " 'автомобиль',\n",
       " ' ',\n",
       " 'ремонт',\n",
       " ' ',\n",
       " 'жилье',\n",
       " ' ',\n",
       " 'заниматься',\n",
       " ' ',\n",
       " 'высокий',\n",
       " ' ',\n",
       " 'образование',\n",
       " '\\n']"
      ]
     },
     "execution_count": 10,
     "metadata": {},
     "output_type": "execute_result"
    }
   ],
   "source": [
    "lemmas = m.lemmatize(purposes) # лемматизация слов в строке purposes\n",
    "lemmas # выведение лемм на экран"
   ]
  },
  {
   "cell_type": "code",
   "execution_count": 11,
   "metadata": {
    "scrolled": true
   },
   "outputs": [
    {
     "name": "stdout",
     "output_type": "stream",
     "text": [
      "Counter({' ': 96, 'покупка': 10, 'недвижимость': 10, 'автомобиль': 9, 'образование': 9, 'жилье': 7, 'с': 5, 'операция': 4, 'на': 4, 'свой': 4, 'свадьба': 3, 'строительство': 3, 'получение': 3, 'высокий': 3, 'дополнительный': 2, 'для': 2, 'коммерческий': 2, 'жилой': 2, 'подержать': 2, 'заниматься': 2, 'сделка': 2, 'приобретение': 1, 'сыграть': 1, 'проведение': 1, 'семья': 1, 'собственный': 1, 'со': 1, 'профильный': 1, 'сдача': 1, 'ремонт': 1, '\\n': 1})\n"
     ]
    }
   ],
   "source": [
    "from collections import Counter # импорт контейнера Counter из модуля collections\n",
    "print(Counter(lemmas)) # подсчет числа упоминаний лемм"
   ]
  },
  {
   "cell_type": "markdown",
   "metadata": {},
   "source": [
    "**Вывод**"
   ]
  },
  {
   "cell_type": "markdown",
   "metadata": {},
   "source": [
    "По результатам лемматизации слов в колонке purpose мы можем определить, что цели, указанные для получения кредита, делятся на четыре основные группы: \n",
    "- операции с недвижимостью (жилой/коммерческой) - покупка/ремонт/строительство,\n",
    "- приобретение автомобиля,\n",
    "- траты на образование,\n",
    "- расходы на свадьбу.\n",
    "\n",
    "[Четвертый вопрос исследования](#4?) запрашивает наличие зависимости между целями кредита и возвратом кредита в срок, поэтому сразу категоризируем данные по этому признаку. "
   ]
  },
  {
   "cell_type": "markdown",
   "metadata": {},
   "source": [
    "### Категоризация данных"
   ]
  },
  {
   "cell_type": "markdown",
   "metadata": {},
   "source": [
    "**2.5.1 Категоризация по целям кредита**"
   ]
  },
  {
   "cell_type": "code",
   "execution_count": 12,
   "metadata": {},
   "outputs": [],
   "source": [
    "# объявление функции categories_of_purposes_def() с параметром purpose, которая возвращает категорию цели кредита в зависимости от слов в purpose\n",
    "def categories_of_purposes_def(purpose):\n",
    "    if 'жил' in purpose or 'недвижим' in purpose:\n",
    "        return 'недвижимость'\n",
    "    if 'образован' in purpose:\n",
    "        return 'образование'\n",
    "    if 'автомобил' in purpose:\n",
    "        return 'автомобиль'\n",
    "    if 'свадьб' in purpose:\n",
    "        return 'свадьба'\n",
    "    \n",
    "bc['categories_of_purposes'] = bc['purpose'].apply(categories_of_purposes_def) \n",
    "# создание нового столбца categories_of_purposes и сохранение в нём методом apply() результатов работы функции categories_of_purposes_def() для столбца purpose"
   ]
  },
  {
   "cell_type": "markdown",
   "metadata": {},
   "source": [
    "Остальные вопросы исследования также требуют категоризации данных по разным признакам.\n",
    "\n",
    "Для работой над [первым вопросом исследования](#1?) разделим всех клиентов банка по наличию/отсутствию детей."
   ]
  },
  {
   "cell_type": "markdown",
   "metadata": {},
   "source": [
    "**2.5.2 Категоризация по количеству детей** <a id='categories'></a>"
   ]
  },
  {
   "cell_type": "code",
   "execution_count": 13,
   "metadata": {},
   "outputs": [
    {
     "data": {
      "text/plain": [
       "array([ 1,  0,  3,  2, -1,  4, 20,  5])"
      ]
     },
     "execution_count": 13,
     "metadata": {},
     "output_type": "execute_result"
    }
   ],
   "source": [
    "bc['children'].unique() # получение уникальных значений столбца children"
   ]
  },
  {
   "cell_type": "markdown",
   "metadata": {},
   "source": [
    "При знакомстве с уникальными значениями столбца `children` обнаружены артефакты - отрицательное значение (-1) и чрезмерно высокий показатель (20). Вероятнее всего, в значении \"20\" ошибочно указан лишний ноль. \n",
    "\n",
    "Исправим значения в колонке `children`:"
   ]
  },
  {
   "cell_type": "code",
   "execution_count": 14,
   "metadata": {
    "scrolled": true
   },
   "outputs": [
    {
     "name": "stdout",
     "output_type": "stream",
     "text": [
      "0.0021907336627202388\n"
     ]
    },
    {
     "data": {
      "text/plain": [
       "0.003542462943973152"
      ]
     },
     "execution_count": 14,
     "metadata": {},
     "output_type": "execute_result"
    }
   ],
   "source": [
    "print(bc[bc['children'] == -1]['children'].count() / len(bc))\n",
    "bc[bc['children'] == 20]['children'].count() / len(bc)"
   ]
  },
  {
   "cell_type": "code",
   "execution_count": 15,
   "metadata": {},
   "outputs": [
    {
     "data": {
      "text/plain": [
       "array([1, 0, 3, 2, 4, 5])"
      ]
     },
     "execution_count": 15,
     "metadata": {},
     "output_type": "execute_result"
    }
   ],
   "source": [
    "bc['children'] = bc['children'].abs() # получение модуля числа и сохранение в столбце children\n",
    "bc['children'] = bc['children'].replace(20, 2) # замена в столбце children значений \"20\" на \"2\"\n",
    "bc['children'].unique() # получение уникальных значений обновленного столбца children"
   ]
  },
  {
   "cell_type": "markdown",
   "metadata": {},
   "source": [
    "Итак, среди клиентов банка есть:\n",
    "- люди без детей,\n",
    "- люди, имеющие одного или два ребёнка,\n",
    "- люди, имеющие трёх или более детей (на территории России такие семьи считаются многодетными).\n",
    "\n",
    "На эти категории и разделим клиентов банка:"
   ]
  },
  {
   "cell_type": "code",
   "execution_count": 16,
   "metadata": {},
   "outputs": [],
   "source": [
    "# объявление функции having_children_def() с параметром children, которая возвращает категорию наличия/отсутствия детей в зависимости от количества детей \n",
    "def having_children_def(children):\n",
    "    if children == 0:\n",
    "        return 'бездетный'\n",
    "    if children == 1 or children == 2:\n",
    "        return 'один/два ребёнка'\n",
    "    if children >= 3:\n",
    "        return 'многодетный'\n",
    "    \n",
    "bc['having_children'] = bc['children'].apply(having_children_def)\n",
    "# создание нового столбца having_children и сохранение в нём методом apply() результатов работы функции having_children_def() для столбца children"
   ]
  },
  {
   "cell_type": "markdown",
   "metadata": {},
   "source": [
    "**2.5.3 Категоризация по семейному положению**"
   ]
  },
  {
   "cell_type": "markdown",
   "metadata": {},
   "source": [
    "Чтобы ответить на [второй вопрос исследования](#2?), нам необходимо работать с семейным положением клиентов. Посмотрим, какие вообще статусы зафиксированы в нашей таблице в колонке `family_status`:"
   ]
  },
  {
   "cell_type": "code",
   "execution_count": 17,
   "metadata": {
    "scrolled": false
   },
   "outputs": [
    {
     "data": {
      "text/plain": [
       "array(['женат / замужем', 'гражданский брак', 'вдовец / вдова',\n",
       "       'в разводе', 'Не женат / не замужем'], dtype=object)"
      ]
     },
     "execution_count": 17,
     "metadata": {},
     "output_type": "execute_result"
    }
   ],
   "source": [
    "bc['family_status'].unique() # получение уникальных значений столбца family_status"
   ]
  },
  {
   "cell_type": "markdown",
   "metadata": {},
   "source": [
    "Итак, клиентам банка в анкете предлагается пять вариантов определения своего семейного положения, но по большому счёту все они отображают только два свойства - состоит человек в браке или нет. Поэтому для упрощения анализа объединим клиентов в две большие группы:"
   ]
  },
  {
   "cell_type": "code",
   "execution_count": 18,
   "metadata": {},
   "outputs": [],
   "source": [
    "# объявление функции having_family_def() с параметром status, которая возвращает категорию нахождения в браке в зависимости от количества семейного статуса \n",
    "def having_family_def(status):\n",
    "    if status == 'женат / замужем':\n",
    "        return 'состоит в браке'\n",
    "    else:\n",
    "        return 'не состоит в браке'\n",
    "    \n",
    "bc['having_family'] = bc['family_status'].apply(having_family_def)\n",
    "# создание нового столбца having_family и сохранение в нём методом apply() результатов работы функции having_family_def() для столбца family_status"
   ]
  },
  {
   "cell_type": "markdown",
   "metadata": {},
   "source": [
    "**2.5.4 Категоризация по уровню дохода**"
   ]
  },
  {
   "cell_type": "markdown",
   "metadata": {},
   "source": [
    "Чтобы найти ответ на [третий вопрос исследования](#3?), нам необходимо разделить клиентов банка по уровню их достатка. Определим три группы ежемесячного дохода: средний, ниже среднего, высокий. \n",
    "\n",
    "Здесь необходимо отметить, что категоризация будет вестись только исходя из данных клиентов банка, а не согласно информации Росстата о средних доходах россиян или жителей конкретного населённого пункта."
   ]
  },
  {
   "cell_type": "code",
   "execution_count": 19,
   "metadata": {},
   "outputs": [],
   "source": [
    "# объявление функции monthly_income_def() с параметром income, которая возвращает категорию уровня дохода в зависимости от суммы ежемесячного дохода \n",
    "def monthly_income_def(income):\n",
    "    if bc['total_income'].min() <= income < (bc['total_income'].min() + bc['total_income'].mean()) / 2:\n",
    "        return 'ниже среднего'\n",
    "    if (bc['total_income'].min() + bc['total_income'].mean()) / 2 <= income < (bc['total_income'].max() + bc['total_income'].mean()) / 2:\n",
    "        return 'средний'\n",
    "    if (bc['total_income'].max() + bc['total_income'].mean()) / 2 <= income <= bc['total_income'].max():\n",
    "        return 'высокий'\n",
    "\n",
    "bc['monthly_income'] = bc['total_income'].apply(monthly_income_def)\n",
    "# создание нового столбца monthly_income и сохранение в нём методом apply() результатов работы функции monthly_income_def() для столбца total_income"
   ]
  },
  {
   "cell_type": "markdown",
   "metadata": {},
   "source": [
    "**Вывод**"
   ]
  },
  {
   "cell_type": "markdown",
   "metadata": {},
   "source": [
    "Мы категоризировали данные по нескольким разным признакам в зависимости от целей исследования и стоящими перед нами вопросами."
   ]
  },
  {
   "cell_type": "markdown",
   "metadata": {},
   "source": [
    "## Ответим на вопросы:"
   ]
  },
  {
   "cell_type": "markdown",
   "metadata": {},
   "source": [
    "**- Есть ли зависимость между наличием детей и возвратом кредита в срок? <a id='1?'></a>**"
   ]
  },
  {
   "cell_type": "code",
   "execution_count": 20,
   "metadata": {
    "scrolled": false
   },
   "outputs": [
    {
     "data": {
      "text/plain": [
       "array([0, 1])"
      ]
     },
     "execution_count": 20,
     "metadata": {},
     "output_type": "execute_result"
    }
   ],
   "source": [
    "bc['debt'].unique() # получение уникальных значений столбца debt"
   ]
  },
  {
   "cell_type": "markdown",
   "metadata": {},
   "source": [
    "В колонке debt есть только два значения: \"1\" - если клиент имел задолженность по возврату кредитов; \"0\" - если задолженностей нет. Соответственно сумма значений в колонке debt равна количеству людей, имеющих долги.\n",
    "\n",
    "[Категории по наличию/отсутствию детей](#categories) мы уже сформировали.\n",
    "Выясним количество должников в каждой категории и определим их долю в категории."
   ]
  },
  {
   "cell_type": "code",
   "execution_count": 21,
   "metadata": {
    "scrolled": false
   },
   "outputs": [
    {
     "data": {
      "text/plain": [
       "having_children\n",
       "бездетный           0.075438\n",
       "многодетный         0.081579\n",
       "один/два ребёнка    0.092654\n",
       "dtype: float64"
      ]
     },
     "execution_count": 21,
     "metadata": {},
     "output_type": "execute_result"
    }
   ],
   "source": [
    "bc.groupby('having_children')['debt'].sum() / bc.groupby('having_children')['children'].count()\n",
    "# деление суммы значений debt в группировке по having_children на количество значений в той же группировке"
   ]
  },
  {
   "cell_type": "markdown",
   "metadata": {},
   "source": [
    "На первый взгляд непонятно: 7% и 9% - это мало или много? Посмотрим, какую долю все должники составляю от общего количества клиентов."
   ]
  },
  {
   "cell_type": "code",
   "execution_count": 22,
   "metadata": {},
   "outputs": [
    {
     "data": {
      "text/plain": [
       "0.08115036822970076"
      ]
     },
     "execution_count": 22,
     "metadata": {},
     "output_type": "execute_result"
    }
   ],
   "source": [
    "bc['debt'].sum() / len(bc) # деление суммы значений debt в таблице на длину всей таблицы"
   ]
  },
  {
   "cell_type": "markdown",
   "metadata": {},
   "source": [
    "**Вывод**"
   ]
  },
  {
   "cell_type": "markdown",
   "metadata": {},
   "source": [
    "Среди клиентов, не имеющих детей, меньше всего должников по кредитам. \n",
    "У клиентов с одним или двумя детьми этот показатель выше, чем у остальных категорий. \n",
    "При этом среди многодетных клиентов количество людей с задолженностями на превышает общий показатель по всем клиентам, то есть находится в рамках \"нормы\"."
   ]
  },
  {
   "cell_type": "markdown",
   "metadata": {},
   "source": [
    "**- Есть ли зависимость между семейным положением и возвратом кредита в срок? <a id='2?'></a>**"
   ]
  },
  {
   "cell_type": "code",
   "execution_count": 23,
   "metadata": {},
   "outputs": [
    {
     "data": {
      "text/plain": [
       "having_family\n",
       "не состоит в браке    0.088865\n",
       "состоит в браке       0.075452\n",
       "dtype: float64"
      ]
     },
     "execution_count": 23,
     "metadata": {},
     "output_type": "execute_result"
    }
   ],
   "source": [
    "bc.groupby('having_family')['debt'].sum() / bc.groupby('having_family')['having_family'].count()\n",
    "# деление суммы значений debt в группировке по having_family на количество значений в той же группировке"
   ]
  },
  {
   "cell_type": "markdown",
   "metadata": {},
   "source": [
    "**Вывод**"
   ]
  },
  {
   "cell_type": "markdown",
   "metadata": {},
   "source": [
    "Клиенты, состоящие в браке, имеют меньше задолженностей по кредитам, чем те, кто в браке не состоит."
   ]
  },
  {
   "cell_type": "markdown",
   "metadata": {},
   "source": [
    "**- Есть ли зависимость между уровнем дохода и возвратом кредита в срок? <a id='3?'></a>**"
   ]
  },
  {
   "cell_type": "code",
   "execution_count": 24,
   "metadata": {},
   "outputs": [
    {
     "data": {
      "text/plain": [
       "monthly_income\n",
       "высокий          0.076923\n",
       "ниже среднего    0.079343\n",
       "средний          0.081525\n",
       "dtype: float64"
      ]
     },
     "execution_count": 24,
     "metadata": {},
     "output_type": "execute_result"
    }
   ],
   "source": [
    "bc.groupby('monthly_income')['debt'].sum() / bc.groupby('monthly_income')['monthly_income'].count()\n",
    "# деление суммы значений debt в группировке по monthly_income на количество значений в той же группировке"
   ]
  },
  {
   "cell_type": "markdown",
   "metadata": {},
   "source": [
    "**Вывод**"
   ]
  },
  {
   "cell_type": "markdown",
   "metadata": {},
   "source": [
    "Среди людей с разным уровнем дохода примерно равное количество клиентов, имеющих долги по кредитам - разница в долях весьма несущественна. Но клиенты с высоким уровнем ежемесячного дохода реже остальных допускают задолженности по кредитам. "
   ]
  },
  {
   "cell_type": "markdown",
   "metadata": {},
   "source": [
    "**- Как разные цели кредита влияют на его возврат в срок? <a id='4?'></a>**"
   ]
  },
  {
   "cell_type": "code",
   "execution_count": 25,
   "metadata": {},
   "outputs": [
    {
     "data": {
      "text/plain": [
       "categories_of_purposes\n",
       "автомобиль      0.093590\n",
       "недвижимость    0.072334\n",
       "образование     0.092200\n",
       "свадьба         0.080034\n",
       "dtype: float64"
      ]
     },
     "execution_count": 25,
     "metadata": {},
     "output_type": "execute_result"
    }
   ],
   "source": [
    "bc.groupby('categories_of_purposes')['debt'].sum() / bc.groupby('categories_of_purposes')['categories_of_purposes'].count()\n",
    "# деление суммы значений debt в группировке по categories_of_purposes на количество значений в той же группировке"
   ]
  },
  {
   "cell_type": "markdown",
   "metadata": {},
   "source": [
    "**Вывод**"
   ]
  },
  {
   "cell_type": "markdown",
   "metadata": {},
   "source": [
    "Клиенты, берущие кредит на покупку автомобиля, больше остальных имеют задолженности по кредитам. У тех, кто запрашивает кредит на оплату образования, этот показатель также высок. Меньше всего должников среди клиентов, которым кредит требуется для операций с недвижимостью."
   ]
  },
  {
   "cell_type": "markdown",
   "metadata": {},
   "source": [
    "## Общий вывод"
   ]
  },
  {
   "cell_type": "markdown",
   "metadata": {},
   "source": [
    "Мы ответили на четыре вопроса и установили:\n",
    "\n",
    "1. Зависимость между наличием детей и возвратом кредита в срок есть, но она не принципиальна: клиенты без детей действительно реже остальных пропускают платежи по кредитам, но при этом показатели многодетных клиентов ненамного хуже.\n",
    "\n",
    "2. Выявлена зависимость между семейным положением и возвратом кредита в срок - клиенты, состоящие в браке, имеют меньше задолженностей по кредитам, чем те, кто в браке не состоит.\n",
    "\n",
    "3. Зависимость между уровнем дохода и возвратом кредита в срок не имеет большого значения - клиенты с разным уровнем ежемесячного дохода примерно в равной степени допускают задолженности по кредитам.\n",
    "\n",
    "4. Обнаружена зависимость между целями кредита и возвратом кредита в срок: при покупке автомобиля или оплате образования чаще всего нарушаются сроки оплаты кредита; самые дисциплинированные - клиенты, запрашивающие кредит на операции с недвижимостью.\n",
    "\n",
    "**Резюмируя всё вышесказанное, \"идеальный\" клиент банка - бездетный семьянин с высоким уровнем дохода, запрашивающий кредит на недвижимость.**"
   ]
  }
 ],
 "metadata": {
  "ExecuteTimeLog": [
   {
    "duration": 609,
    "start_time": "2021-11-19T09:40:42.392Z"
   },
   {
    "duration": 70,
    "start_time": "2021-11-19T09:40:50.584Z"
   },
   {
    "duration": 11,
    "start_time": "2021-11-19T09:43:00.954Z"
   },
   {
    "duration": 17,
    "start_time": "2021-11-19T09:55:31.094Z"
   },
   {
    "duration": 242,
    "start_time": "2021-11-19T09:56:45.376Z"
   },
   {
    "duration": 6,
    "start_time": "2021-11-19T09:56:58.608Z"
   },
   {
    "duration": 10,
    "start_time": "2021-11-19T09:59:39.025Z"
   },
   {
    "duration": 9,
    "start_time": "2021-11-19T10:00:20.481Z"
   },
   {
    "duration": 6,
    "start_time": "2021-11-19T10:01:20.083Z"
   },
   {
    "duration": 9,
    "start_time": "2021-11-19T10:01:34.073Z"
   },
   {
    "duration": 5,
    "start_time": "2021-11-19T10:01:43.657Z"
   },
   {
    "duration": 8,
    "start_time": "2021-11-19T10:01:52.802Z"
   },
   {
    "duration": 166,
    "start_time": "2021-11-19T10:02:01.138Z"
   },
   {
    "duration": 8,
    "start_time": "2021-11-19T10:02:58.233Z"
   },
   {
    "duration": 9,
    "start_time": "2021-11-19T10:03:20.482Z"
   },
   {
    "duration": 13,
    "start_time": "2021-11-19T10:15:25.269Z"
   },
   {
    "duration": 27,
    "start_time": "2021-11-19T10:15:41.419Z"
   },
   {
    "duration": 13,
    "start_time": "2021-11-19T10:16:35.364Z"
   },
   {
    "duration": 12,
    "start_time": "2021-11-19T10:27:48.906Z"
   },
   {
    "duration": 20,
    "start_time": "2021-11-19T10:28:00.643Z"
   },
   {
    "duration": 16,
    "start_time": "2021-11-19T10:28:32.196Z"
   },
   {
    "duration": 168,
    "start_time": "2021-11-19T10:32:38.259Z"
   },
   {
    "duration": 18,
    "start_time": "2021-11-19T10:34:36.803Z"
   },
   {
    "duration": 14,
    "start_time": "2021-11-19T10:34:42.313Z"
   },
   {
    "duration": 21,
    "start_time": "2021-11-19T10:39:28.169Z"
   },
   {
    "duration": 24,
    "start_time": "2021-11-19T10:39:31.402Z"
   },
   {
    "duration": 28,
    "start_time": "2021-11-19T10:40:23.841Z"
   },
   {
    "duration": 30,
    "start_time": "2021-11-19T10:40:46.513Z"
   },
   {
    "duration": 33,
    "start_time": "2021-11-19T10:41:01.889Z"
   },
   {
    "duration": 193,
    "start_time": "2021-11-19T10:48:59.844Z"
   },
   {
    "duration": 187,
    "start_time": "2021-11-19T10:50:00.826Z"
   },
   {
    "duration": 7,
    "start_time": "2021-11-19T10:51:50.185Z"
   },
   {
    "duration": 166,
    "start_time": "2021-11-19T10:52:18.208Z"
   },
   {
    "duration": 6,
    "start_time": "2021-11-19T10:52:27.728Z"
   },
   {
    "duration": 1087,
    "start_time": "2021-11-19T10:57:24.662Z"
   },
   {
    "duration": 6,
    "start_time": "2021-11-19T11:00:50.545Z"
   },
   {
    "duration": 173,
    "start_time": "2021-11-19T11:01:49.304Z"
   },
   {
    "duration": 61,
    "start_time": "2021-11-19T11:03:28.114Z"
   },
   {
    "duration": 666,
    "start_time": "2021-11-19T11:03:57.404Z"
   },
   {
    "duration": 3,
    "start_time": "2021-11-19T11:05:17.443Z"
   },
   {
    "duration": 14,
    "start_time": "2021-11-19T11:19:51.532Z"
   },
   {
    "duration": 14,
    "start_time": "2021-11-19T11:20:45.131Z"
   },
   {
    "duration": 24,
    "start_time": "2021-11-19T11:20:57.415Z"
   },
   {
    "duration": 22,
    "start_time": "2021-11-19T11:21:39.868Z"
   },
   {
    "duration": 26,
    "start_time": "2021-11-19T11:21:47.662Z"
   },
   {
    "duration": 24,
    "start_time": "2021-11-19T11:23:54.068Z"
   },
   {
    "duration": 5,
    "start_time": "2021-11-19T11:32:00.378Z"
   },
   {
    "duration": 7,
    "start_time": "2021-11-19T11:34:41.189Z"
   },
   {
    "duration": 19,
    "start_time": "2021-11-19T11:35:36.796Z"
   },
   {
    "duration": 7,
    "start_time": "2021-11-19T11:35:57.635Z"
   },
   {
    "duration": 11,
    "start_time": "2021-11-19T11:36:57.596Z"
   },
   {
    "duration": 7,
    "start_time": "2021-11-19T11:37:04.778Z"
   },
   {
    "duration": 5,
    "start_time": "2021-11-19T11:37:13.360Z"
   },
   {
    "duration": 8,
    "start_time": "2021-11-19T11:37:33.475Z"
   },
   {
    "duration": 8,
    "start_time": "2021-11-19T11:37:46.731Z"
   },
   {
    "duration": 13,
    "start_time": "2021-11-19T11:38:02.693Z"
   },
   {
    "duration": 8,
    "start_time": "2021-11-19T11:38:09.179Z"
   },
   {
    "duration": 6,
    "start_time": "2021-11-19T11:38:46.579Z"
   },
   {
    "duration": 4255,
    "start_time": "2021-11-19T11:38:52.756Z"
   },
   {
    "duration": -1043,
    "start_time": "2021-11-19T11:39:12.400Z"
   },
   {
    "duration": 73,
    "start_time": "2021-11-19T11:39:25.363Z"
   },
   {
    "duration": 65,
    "start_time": "2021-11-19T11:39:36.674Z"
   },
   {
    "duration": 9,
    "start_time": "2021-11-19T11:39:36.742Z"
   },
   {
    "duration": 10,
    "start_time": "2021-11-19T11:39:36.753Z"
   },
   {
    "duration": 49,
    "start_time": "2021-11-19T11:39:36.765Z"
   },
   {
    "duration": 13,
    "start_time": "2021-11-19T11:39:36.815Z"
   },
   {
    "duration": 15,
    "start_time": "2021-11-19T11:39:36.829Z"
   },
   {
    "duration": 51,
    "start_time": "2021-11-19T11:39:36.846Z"
   },
   {
    "duration": 9,
    "start_time": "2021-11-19T11:39:36.899Z"
   },
   {
    "duration": 669,
    "start_time": "2021-11-19T11:39:36.911Z"
   },
   {
    "duration": 10,
    "start_time": "2021-11-19T11:39:37.582Z"
   },
   {
    "duration": 8,
    "start_time": "2021-11-19T11:39:37.595Z"
   },
   {
    "duration": 9,
    "start_time": "2021-11-19T11:39:37.605Z"
   },
   {
    "duration": 5,
    "start_time": "2021-11-19T11:42:47.275Z"
   },
   {
    "duration": 5,
    "start_time": "2021-11-19T11:42:50.275Z"
   },
   {
    "duration": 5,
    "start_time": "2021-11-19T11:42:52.495Z"
   },
   {
    "duration": 307,
    "start_time": "2021-11-19T11:44:00.383Z"
   },
   {
    "duration": 17,
    "start_time": "2021-11-19T11:44:32.020Z"
   },
   {
    "duration": 11,
    "start_time": "2021-11-19T11:54:51.130Z"
   },
   {
    "duration": 5,
    "start_time": "2021-11-19T11:56:16.638Z"
   },
   {
    "duration": 13,
    "start_time": "2021-11-19T11:59:15.883Z"
   },
   {
    "duration": 16,
    "start_time": "2021-11-19T11:59:25.017Z"
   },
   {
    "duration": 7,
    "start_time": "2021-11-19T11:59:32.690Z"
   },
   {
    "duration": 16,
    "start_time": "2021-11-19T11:59:41.361Z"
   },
   {
    "duration": 196,
    "start_time": "2021-11-19T12:04:43.577Z"
   },
   {
    "duration": 10,
    "start_time": "2021-11-19T12:04:53.410Z"
   },
   {
    "duration": 11,
    "start_time": "2021-11-19T12:05:00.856Z"
   },
   {
    "duration": 5,
    "start_time": "2021-11-19T12:07:15.152Z"
   },
   {
    "duration": 13,
    "start_time": "2021-11-19T12:07:20.032Z"
   },
   {
    "duration": 15,
    "start_time": "2021-11-19T12:07:33.292Z"
   },
   {
    "duration": 10,
    "start_time": "2021-11-19T12:07:39.776Z"
   },
   {
    "duration": 8,
    "start_time": "2021-11-19T12:12:15.704Z"
   },
   {
    "duration": 12,
    "start_time": "2021-11-19T12:12:43.481Z"
   },
   {
    "duration": 11,
    "start_time": "2021-11-19T12:28:30.425Z"
   },
   {
    "duration": 5,
    "start_time": "2021-11-19T12:36:58.768Z"
   },
   {
    "duration": 11,
    "start_time": "2021-11-19T12:38:31.319Z"
   },
   {
    "duration": 18,
    "start_time": "2021-11-19T12:41:40.501Z"
   },
   {
    "duration": 20,
    "start_time": "2021-11-19T12:42:24.311Z"
   },
   {
    "duration": 10,
    "start_time": "2021-11-19T12:43:13.528Z"
   },
   {
    "duration": -1051,
    "start_time": "2021-11-19T12:43:29.119Z"
   },
   {
    "duration": 4872,
    "start_time": "2021-11-19T12:43:33.936Z"
   },
   {
    "duration": 4701,
    "start_time": "2021-11-19T12:43:54.176Z"
   },
   {
    "duration": 5425,
    "start_time": "2021-11-19T12:46:06.218Z"
   },
   {
    "duration": 5248,
    "start_time": "2021-11-19T12:46:33.019Z"
   },
   {
    "duration": 4589,
    "start_time": "2021-11-19T12:47:10.738Z"
   },
   {
    "duration": 4898,
    "start_time": "2021-11-19T12:47:20.745Z"
   },
   {
    "duration": 5469,
    "start_time": "2021-11-19T12:48:45.955Z"
   },
   {
    "duration": 4931,
    "start_time": "2021-11-19T12:49:48.603Z"
   },
   {
    "duration": 76,
    "start_time": "2021-11-19T12:50:21.169Z"
   },
   {
    "duration": 9,
    "start_time": "2021-11-19T12:50:21.247Z"
   },
   {
    "duration": 11,
    "start_time": "2021-11-19T12:50:21.258Z"
   },
   {
    "duration": 37,
    "start_time": "2021-11-19T12:50:21.291Z"
   },
   {
    "duration": 12,
    "start_time": "2021-11-19T12:50:21.330Z"
   },
   {
    "duration": 14,
    "start_time": "2021-11-19T12:50:21.344Z"
   },
   {
    "duration": 64,
    "start_time": "2021-11-19T12:50:21.359Z"
   },
   {
    "duration": 20,
    "start_time": "2021-11-19T12:50:21.426Z"
   },
   {
    "duration": 800,
    "start_time": "2021-11-19T12:50:21.447Z"
   },
   {
    "duration": 4,
    "start_time": "2021-11-19T12:50:22.248Z"
   },
   {
    "duration": 7,
    "start_time": "2021-11-19T12:50:22.254Z"
   },
   {
    "duration": 9,
    "start_time": "2021-11-19T12:50:22.263Z"
   },
   {
    "duration": 30,
    "start_time": "2021-11-19T12:50:22.274Z"
   },
   {
    "duration": 6,
    "start_time": "2021-11-19T12:50:22.306Z"
   },
   {
    "duration": 17,
    "start_time": "2021-11-19T12:50:22.314Z"
   },
   {
    "duration": 25,
    "start_time": "2021-11-19T12:50:22.332Z"
   },
   {
    "duration": 7,
    "start_time": "2021-11-19T12:50:51.027Z"
   },
   {
    "duration": 183,
    "start_time": "2021-11-19T12:52:04.334Z"
   },
   {
    "duration": 12,
    "start_time": "2021-11-19T12:52:15.211Z"
   },
   {
    "duration": 18,
    "start_time": "2021-11-19T12:52:27.155Z"
   },
   {
    "duration": 19,
    "start_time": "2021-11-19T12:52:46.900Z"
   },
   {
    "duration": 11,
    "start_time": "2021-11-19T12:53:27.855Z"
   },
   {
    "duration": 5,
    "start_time": "2021-11-19T12:57:30.325Z"
   },
   {
    "duration": 5,
    "start_time": "2021-11-19T12:58:09.149Z"
   },
   {
    "duration": 8,
    "start_time": "2021-11-19T12:59:57.620Z"
   },
   {
    "duration": 6,
    "start_time": "2021-11-19T13:00:46.620Z"
   },
   {
    "duration": 6,
    "start_time": "2021-11-19T13:01:07.550Z"
   },
   {
    "duration": 78,
    "start_time": "2021-11-19T13:01:19.012Z"
   },
   {
    "duration": 5,
    "start_time": "2021-11-19T13:01:24.517Z"
   },
   {
    "duration": 7,
    "start_time": "2021-11-19T13:02:14.185Z"
   },
   {
    "duration": 179,
    "start_time": "2021-11-19T13:14:01.278Z"
   },
   {
    "duration": 6,
    "start_time": "2021-11-19T13:15:20.984Z"
   },
   {
    "duration": 4,
    "start_time": "2021-11-19T13:15:32.878Z"
   },
   {
    "duration": 6,
    "start_time": "2021-11-19T13:15:36.302Z"
   },
   {
    "duration": 4,
    "start_time": "2021-11-19T13:16:08.371Z"
   },
   {
    "duration": 4,
    "start_time": "2021-11-19T13:16:11.542Z"
   },
   {
    "duration": 10232,
    "start_time": "2021-11-19T13:19:42.708Z"
   },
   {
    "duration": 15,
    "start_time": "2021-11-19T13:20:04.268Z"
   },
   {
    "duration": 11,
    "start_time": "2021-11-19T13:20:58.651Z"
   },
   {
    "duration": 5572,
    "start_time": "2021-11-19T13:35:42.575Z"
   },
   {
    "duration": 43,
    "start_time": "2021-11-19T13:37:13.191Z"
   },
   {
    "duration": 183,
    "start_time": "2021-11-19T13:37:24.615Z"
   },
   {
    "duration": 169,
    "start_time": "2021-11-19T13:37:57.722Z"
   },
   {
    "duration": 4,
    "start_time": "2021-11-19T13:39:27.483Z"
   },
   {
    "duration": 11,
    "start_time": "2021-11-19T13:39:29.728Z"
   },
   {
    "duration": 329,
    "start_time": "2021-11-19T13:40:35.514Z"
   },
   {
    "duration": 18,
    "start_time": "2021-11-19T13:41:46.726Z"
   },
   {
    "duration": 197,
    "start_time": "2021-11-19T13:42:44.951Z"
   },
   {
    "duration": 24,
    "start_time": "2021-11-19T13:42:54.313Z"
   },
   {
    "duration": 23,
    "start_time": "2021-11-19T13:51:24.937Z"
   },
   {
    "duration": 640,
    "start_time": "2021-11-20T08:02:55.496Z"
   },
   {
    "duration": 12,
    "start_time": "2021-11-20T08:03:17.047Z"
   },
   {
    "duration": 214,
    "start_time": "2021-11-20T08:46:27.844Z"
   },
   {
    "duration": 56,
    "start_time": "2021-11-20T08:46:35.883Z"
   },
   {
    "duration": 11,
    "start_time": "2021-11-20T08:46:40.675Z"
   },
   {
    "duration": 16,
    "start_time": "2021-11-20T08:46:43.596Z"
   },
   {
    "duration": 183,
    "start_time": "2021-11-20T09:06:24.669Z"
   },
   {
    "duration": 214,
    "start_time": "2021-11-20T09:07:10.797Z"
   },
   {
    "duration": 26,
    "start_time": "2021-11-20T09:07:27.329Z"
   },
   {
    "duration": 14,
    "start_time": "2021-11-20T09:08:27.758Z"
   },
   {
    "duration": 14,
    "start_time": "2021-11-20T09:21:20.828Z"
   },
   {
    "duration": 17,
    "start_time": "2021-11-20T09:23:44.028Z"
   },
   {
    "duration": 15,
    "start_time": "2021-11-20T10:02:43.896Z"
   },
   {
    "duration": 31,
    "start_time": "2021-11-20T10:02:46.279Z"
   },
   {
    "duration": 21,
    "start_time": "2021-11-20T12:07:06.165Z"
   },
   {
    "duration": 12,
    "start_time": "2021-11-20T12:07:49.027Z"
   },
   {
    "duration": 17,
    "start_time": "2021-11-20T12:07:51.334Z"
   },
   {
    "duration": 15,
    "start_time": "2021-11-20T12:08:03.918Z"
   },
   {
    "duration": 15,
    "start_time": "2021-11-20T12:09:46.504Z"
   },
   {
    "duration": 29,
    "start_time": "2021-11-20T12:09:52.285Z"
   },
   {
    "duration": 14,
    "start_time": "2021-11-20T12:10:09.798Z"
   },
   {
    "duration": 14,
    "start_time": "2021-11-20T12:10:15.616Z"
   },
   {
    "duration": 55,
    "start_time": "2021-11-20T12:10:20.471Z"
   },
   {
    "duration": 9,
    "start_time": "2021-11-20T12:10:20.528Z"
   },
   {
    "duration": 11,
    "start_time": "2021-11-20T12:10:20.539Z"
   },
   {
    "duration": 12,
    "start_time": "2021-11-20T12:10:20.552Z"
   },
   {
    "duration": 38,
    "start_time": "2021-11-20T12:10:20.565Z"
   },
   {
    "duration": 2,
    "start_time": "2021-11-20T12:10:20.604Z"
   },
   {
    "duration": 20,
    "start_time": "2021-11-20T12:10:20.608Z"
   },
   {
    "duration": 27,
    "start_time": "2021-11-20T12:10:20.630Z"
   },
   {
    "duration": 36,
    "start_time": "2021-11-20T12:10:20.658Z"
   },
   {
    "duration": 622,
    "start_time": "2021-11-20T12:10:20.695Z"
   },
   {
    "duration": 3,
    "start_time": "2021-11-20T12:10:21.318Z"
   },
   {
    "duration": 25,
    "start_time": "2021-11-20T12:10:21.323Z"
   },
   {
    "duration": 45,
    "start_time": "2021-11-20T12:10:21.350Z"
   },
   {
    "duration": 8,
    "start_time": "2021-11-20T12:10:21.397Z"
   },
   {
    "duration": 7,
    "start_time": "2021-11-20T12:10:21.407Z"
   },
   {
    "duration": 15,
    "start_time": "2021-11-20T12:10:21.415Z"
   },
   {
    "duration": 10,
    "start_time": "2021-11-20T12:10:21.431Z"
   },
   {
    "duration": 18,
    "start_time": "2021-11-20T12:10:21.442Z"
   },
   {
    "duration": 18581,
    "start_time": "2021-11-20T12:10:21.462Z"
   },
   {
    "duration": 14,
    "start_time": "2021-11-20T12:10:40.045Z"
   },
   {
    "duration": 30,
    "start_time": "2021-11-20T12:10:40.060Z"
   },
   {
    "duration": 754,
    "start_time": "2021-11-20T12:10:40.092Z"
   },
   {
    "duration": 23,
    "start_time": "2021-11-20T12:10:40.848Z"
   },
   {
    "duration": 11,
    "start_time": "2021-11-20T12:13:15.636Z"
   },
   {
    "duration": 17,
    "start_time": "2021-11-20T12:13:18.944Z"
   },
   {
    "duration": 18,
    "start_time": "2021-11-20T12:16:05.114Z"
   },
   {
    "duration": 28,
    "start_time": "2021-11-20T12:16:08.392Z"
   },
   {
    "duration": 34,
    "start_time": "2021-11-20T12:16:19.882Z"
   },
   {
    "duration": 15,
    "start_time": "2021-11-20T12:18:04.997Z"
   },
   {
    "duration": 34,
    "start_time": "2021-11-20T12:18:07.175Z"
   },
   {
    "duration": 423,
    "start_time": "2021-11-20T12:18:14.904Z"
   },
   {
    "duration": 16,
    "start_time": "2021-11-20T12:18:15.329Z"
   },
   {
    "duration": 15,
    "start_time": "2021-11-20T12:18:15.347Z"
   },
   {
    "duration": 35,
    "start_time": "2021-11-20T12:18:15.364Z"
   },
   {
    "duration": 15,
    "start_time": "2021-11-20T12:18:15.400Z"
   },
   {
    "duration": 3,
    "start_time": "2021-11-20T12:18:15.417Z"
   },
   {
    "duration": 21,
    "start_time": "2021-11-20T12:18:15.422Z"
   },
   {
    "duration": 54,
    "start_time": "2021-11-20T12:18:15.446Z"
   },
   {
    "duration": 22,
    "start_time": "2021-11-20T12:18:15.502Z"
   },
   {
    "duration": 799,
    "start_time": "2021-11-20T12:18:15.526Z"
   },
   {
    "duration": 3,
    "start_time": "2021-11-20T12:18:16.327Z"
   },
   {
    "duration": 11,
    "start_time": "2021-11-20T12:18:16.332Z"
   },
   {
    "duration": 11,
    "start_time": "2021-11-20T12:18:16.345Z"
   },
   {
    "duration": 8,
    "start_time": "2021-11-20T12:18:16.358Z"
   },
   {
    "duration": 3,
    "start_time": "2021-11-20T12:18:16.368Z"
   },
   {
    "duration": 27,
    "start_time": "2021-11-20T12:18:16.372Z"
   },
   {
    "duration": 10,
    "start_time": "2021-11-20T12:18:16.400Z"
   },
   {
    "duration": 13,
    "start_time": "2021-11-20T12:18:16.412Z"
   },
   {
    "duration": 18355,
    "start_time": "2021-11-20T12:18:16.427Z"
   },
   {
    "duration": 14,
    "start_time": "2021-11-20T12:18:34.784Z"
   },
   {
    "duration": 3,
    "start_time": "2021-11-20T12:18:34.799Z"
   },
   {
    "duration": 20,
    "start_time": "2021-11-20T12:18:34.804Z"
   },
   {
    "duration": 17,
    "start_time": "2021-11-20T12:18:34.826Z"
   },
   {
    "duration": 405,
    "start_time": "2021-11-21T06:02:31.292Z"
   },
   {
    "duration": 916,
    "start_time": "2021-11-21T06:02:38.104Z"
   },
   {
    "duration": 17,
    "start_time": "2021-11-21T06:02:39.024Z"
   },
   {
    "duration": 18,
    "start_time": "2021-11-21T06:02:39.044Z"
   },
   {
    "duration": 46,
    "start_time": "2021-11-21T06:02:39.065Z"
   },
   {
    "duration": 19,
    "start_time": "2021-11-21T06:02:39.113Z"
   },
   {
    "duration": 18,
    "start_time": "2021-11-21T06:02:39.135Z"
   },
   {
    "duration": 64,
    "start_time": "2021-11-21T06:02:39.155Z"
   },
   {
    "duration": 45,
    "start_time": "2021-11-21T06:02:39.224Z"
   },
   {
    "duration": 368,
    "start_time": "2021-11-21T06:02:39.273Z"
   },
   {
    "duration": -516,
    "start_time": "2021-11-21T06:02:40.161Z"
   },
   {
    "duration": -516,
    "start_time": "2021-11-21T06:02:40.163Z"
   },
   {
    "duration": -517,
    "start_time": "2021-11-21T06:02:40.165Z"
   },
   {
    "duration": -517,
    "start_time": "2021-11-21T06:02:40.167Z"
   },
   {
    "duration": -517,
    "start_time": "2021-11-21T06:02:40.169Z"
   },
   {
    "duration": -517,
    "start_time": "2021-11-21T06:02:40.171Z"
   },
   {
    "duration": -527,
    "start_time": "2021-11-21T06:02:40.183Z"
   },
   {
    "duration": -533,
    "start_time": "2021-11-21T06:02:40.191Z"
   },
   {
    "duration": -534,
    "start_time": "2021-11-21T06:02:40.194Z"
   },
   {
    "duration": -534,
    "start_time": "2021-11-21T06:02:40.196Z"
   },
   {
    "duration": -534,
    "start_time": "2021-11-21T06:02:40.198Z"
   },
   {
    "duration": -533,
    "start_time": "2021-11-21T06:02:40.199Z"
   },
   {
    "duration": -533,
    "start_time": "2021-11-21T06:02:40.201Z"
   },
   {
    "duration": -540,
    "start_time": "2021-11-21T06:02:40.210Z"
   },
   {
    "duration": 27,
    "start_time": "2021-11-21T06:03:12.263Z"
   },
   {
    "duration": 37,
    "start_time": "2021-11-21T06:03:13.308Z"
   },
   {
    "duration": 30,
    "start_time": "2021-11-21T06:03:16.333Z"
   },
   {
    "duration": 76,
    "start_time": "2021-11-21T06:03:27.019Z"
   },
   {
    "duration": 14,
    "start_time": "2021-11-21T06:03:27.097Z"
   },
   {
    "duration": 19,
    "start_time": "2021-11-21T06:03:27.114Z"
   },
   {
    "duration": 20,
    "start_time": "2021-11-21T06:03:27.135Z"
   },
   {
    "duration": 56,
    "start_time": "2021-11-21T06:03:27.158Z"
   },
   {
    "duration": 16,
    "start_time": "2021-11-21T06:03:27.216Z"
   },
   {
    "duration": 30,
    "start_time": "2021-11-21T06:03:27.234Z"
   },
   {
    "duration": 71,
    "start_time": "2021-11-21T06:03:27.266Z"
   },
   {
    "duration": 337,
    "start_time": "2021-11-21T06:03:27.341Z"
   },
   {
    "duration": -518,
    "start_time": "2021-11-21T06:03:28.199Z"
   },
   {
    "duration": -519,
    "start_time": "2021-11-21T06:03:28.201Z"
   },
   {
    "duration": -529,
    "start_time": "2021-11-21T06:03:28.212Z"
   },
   {
    "duration": -530,
    "start_time": "2021-11-21T06:03:28.214Z"
   },
   {
    "duration": -531,
    "start_time": "2021-11-21T06:03:28.216Z"
   },
   {
    "duration": -531,
    "start_time": "2021-11-21T06:03:28.217Z"
   },
   {
    "duration": -531,
    "start_time": "2021-11-21T06:03:28.219Z"
   },
   {
    "duration": -532,
    "start_time": "2021-11-21T06:03:28.221Z"
   },
   {
    "duration": -532,
    "start_time": "2021-11-21T06:03:28.222Z"
   },
   {
    "duration": -533,
    "start_time": "2021-11-21T06:03:28.224Z"
   },
   {
    "duration": -533,
    "start_time": "2021-11-21T06:03:28.226Z"
   },
   {
    "duration": -552,
    "start_time": "2021-11-21T06:03:28.246Z"
   },
   {
    "duration": -552,
    "start_time": "2021-11-21T06:03:28.247Z"
   },
   {
    "duration": -553,
    "start_time": "2021-11-21T06:03:28.249Z"
   },
   {
    "duration": 52,
    "start_time": "2021-11-21T06:04:07.429Z"
   },
   {
    "duration": 43,
    "start_time": "2021-11-21T06:06:18.324Z"
   },
   {
    "duration": 8,
    "start_time": "2021-11-21T06:12:57.492Z"
   },
   {
    "duration": 377,
    "start_time": "2021-11-21T06:18:12.364Z"
   },
   {
    "duration": 339,
    "start_time": "2021-11-21T06:23:34.544Z"
   },
   {
    "duration": 335,
    "start_time": "2021-11-21T06:24:25.205Z"
   },
   {
    "duration": 334,
    "start_time": "2021-11-21T06:24:32.439Z"
   },
   {
    "duration": 8,
    "start_time": "2021-11-21T06:25:48.988Z"
   },
   {
    "duration": 8,
    "start_time": "2021-11-21T06:29:55.772Z"
   },
   {
    "duration": 9,
    "start_time": "2021-11-21T06:30:02.124Z"
   },
   {
    "duration": 6,
    "start_time": "2021-11-21T06:32:45.156Z"
   },
   {
    "duration": 6,
    "start_time": "2021-11-21T06:32:49.149Z"
   },
   {
    "duration": 8,
    "start_time": "2021-11-21T06:32:56.028Z"
   },
   {
    "duration": 8,
    "start_time": "2021-11-21T06:33:25.516Z"
   },
   {
    "duration": 8,
    "start_time": "2021-11-21T06:33:28.644Z"
   },
   {
    "duration": 966,
    "start_time": "2021-11-21T06:34:07.052Z"
   },
   {
    "duration": 988,
    "start_time": "2021-11-21T06:34:16.805Z"
   },
   {
    "duration": 33,
    "start_time": "2021-11-21T06:35:44.772Z"
   },
   {
    "duration": 11,
    "start_time": "2021-11-21T06:35:53.708Z"
   },
   {
    "duration": 950,
    "start_time": "2021-11-21T06:36:37.532Z"
   },
   {
    "duration": 12,
    "start_time": "2021-11-21T06:39:09.350Z"
   },
   {
    "duration": 5,
    "start_time": "2021-11-21T06:41:06.781Z"
   },
   {
    "duration": 1019,
    "start_time": "2021-11-21T06:54:00.181Z"
   },
   {
    "duration": 210,
    "start_time": "2021-11-21T06:54:21.615Z"
   },
   {
    "duration": 18,
    "start_time": "2021-11-21T06:58:49.358Z"
   },
   {
    "duration": 16,
    "start_time": "2021-11-21T06:58:56.413Z"
   },
   {
    "duration": 527,
    "start_time": "2021-11-21T06:59:20.406Z"
   },
   {
    "duration": 14,
    "start_time": "2021-11-21T07:04:15.398Z"
   },
   {
    "duration": 7,
    "start_time": "2021-11-21T07:16:31.925Z"
   },
   {
    "duration": 9,
    "start_time": "2021-11-21T07:24:43.617Z"
   },
   {
    "duration": 8,
    "start_time": "2021-11-21T07:35:33.686Z"
   },
   {
    "duration": 11,
    "start_time": "2021-11-21T07:45:30.288Z"
   },
   {
    "duration": 131,
    "start_time": "2021-11-21T08:06:03.104Z"
   },
   {
    "duration": 390,
    "start_time": "2021-11-21T08:06:13.087Z"
   },
   {
    "duration": 337,
    "start_time": "2021-11-21T08:06:29.006Z"
   },
   {
    "duration": 85,
    "start_time": "2021-11-21T08:06:46.611Z"
   },
   {
    "duration": 16,
    "start_time": "2021-11-21T08:06:46.701Z"
   },
   {
    "duration": 18,
    "start_time": "2021-11-21T08:06:46.720Z"
   },
   {
    "duration": 18,
    "start_time": "2021-11-21T08:06:46.741Z"
   },
   {
    "duration": 55,
    "start_time": "2021-11-21T08:06:46.761Z"
   },
   {
    "duration": 17,
    "start_time": "2021-11-21T08:06:46.818Z"
   },
   {
    "duration": 31,
    "start_time": "2021-11-21T08:06:46.838Z"
   },
   {
    "duration": 71,
    "start_time": "2021-11-21T08:06:46.871Z"
   },
   {
    "duration": 30,
    "start_time": "2021-11-21T08:06:46.946Z"
   },
   {
    "duration": 987,
    "start_time": "2021-11-21T08:06:46.979Z"
   },
   {
    "duration": 5,
    "start_time": "2021-11-21T08:06:47.969Z"
   },
   {
    "duration": 36,
    "start_time": "2021-11-21T08:06:47.976Z"
   },
   {
    "duration": 9,
    "start_time": "2021-11-21T08:06:48.015Z"
   },
   {
    "duration": 10,
    "start_time": "2021-11-21T08:06:48.026Z"
   },
   {
    "duration": 17,
    "start_time": "2021-11-21T08:06:48.039Z"
   },
   {
    "duration": 49,
    "start_time": "2021-11-21T08:06:48.059Z"
   },
   {
    "duration": 15,
    "start_time": "2021-11-21T08:06:48.112Z"
   },
   {
    "duration": 738,
    "start_time": "2021-11-21T08:06:48.131Z"
   },
   {
    "duration": -478,
    "start_time": "2021-11-21T08:06:49.349Z"
   },
   {
    "duration": -481,
    "start_time": "2021-11-21T08:06:49.353Z"
   },
   {
    "duration": -489,
    "start_time": "2021-11-21T08:06:49.363Z"
   },
   {
    "duration": -491,
    "start_time": "2021-11-21T08:06:49.366Z"
   },
   {
    "duration": -491,
    "start_time": "2021-11-21T08:06:49.368Z"
   },
   {
    "duration": 16,
    "start_time": "2021-11-21T08:07:33.335Z"
   },
   {
    "duration": 398,
    "start_time": "2021-11-21T08:07:37.768Z"
   },
   {
    "duration": 392,
    "start_time": "2021-11-21T08:08:07.564Z"
   },
   {
    "duration": 342,
    "start_time": "2021-11-21T08:08:16.841Z"
   },
   {
    "duration": 11,
    "start_time": "2021-11-21T08:08:40.015Z"
   },
   {
    "duration": 324,
    "start_time": "2021-11-21T08:08:44.050Z"
   },
   {
    "duration": 7,
    "start_time": "2021-11-21T08:11:39.703Z"
   },
   {
    "duration": 25,
    "start_time": "2021-11-21T09:32:31.394Z"
   },
   {
    "duration": 370,
    "start_time": "2021-11-21T09:32:50.781Z"
   },
   {
    "duration": 14,
    "start_time": "2021-11-21T09:32:57.522Z"
   },
   {
    "duration": 126,
    "start_time": "2021-11-21T09:33:52.322Z"
   },
   {
    "duration": 382,
    "start_time": "2021-11-21T09:33:55.850Z"
   },
   {
    "duration": 80,
    "start_time": "2021-11-21T09:34:16.444Z"
   },
   {
    "duration": 14,
    "start_time": "2021-11-21T09:34:16.526Z"
   },
   {
    "duration": 18,
    "start_time": "2021-11-21T09:34:16.543Z"
   },
   {
    "duration": 43,
    "start_time": "2021-11-21T09:34:16.564Z"
   },
   {
    "duration": 19,
    "start_time": "2021-11-21T09:34:16.609Z"
   },
   {
    "duration": 16,
    "start_time": "2021-11-21T09:34:16.631Z"
   },
   {
    "duration": 56,
    "start_time": "2021-11-21T09:34:16.649Z"
   },
   {
    "duration": 43,
    "start_time": "2021-11-21T09:34:16.707Z"
   },
   {
    "duration": 55,
    "start_time": "2021-11-21T09:34:16.754Z"
   },
   {
    "duration": 973,
    "start_time": "2021-11-21T09:34:16.812Z"
   },
   {
    "duration": 16,
    "start_time": "2021-11-21T09:34:17.788Z"
   },
   {
    "duration": 24,
    "start_time": "2021-11-21T09:34:17.807Z"
   },
   {
    "duration": 8,
    "start_time": "2021-11-21T09:34:17.834Z"
   },
   {
    "duration": 11,
    "start_time": "2021-11-21T09:34:17.846Z"
   },
   {
    "duration": 12,
    "start_time": "2021-11-21T09:34:17.901Z"
   },
   {
    "duration": 17,
    "start_time": "2021-11-21T09:34:17.916Z"
   },
   {
    "duration": 12,
    "start_time": "2021-11-21T09:34:17.935Z"
   },
   {
    "duration": 439,
    "start_time": "2021-11-21T09:34:17.949Z"
   },
   {
    "duration": -456,
    "start_time": "2021-11-21T09:34:18.847Z"
   },
   {
    "duration": -459,
    "start_time": "2021-11-21T09:34:18.851Z"
   },
   {
    "duration": -466,
    "start_time": "2021-11-21T09:34:18.860Z"
   },
   {
    "duration": -468,
    "start_time": "2021-11-21T09:34:18.863Z"
   },
   {
    "duration": -469,
    "start_time": "2021-11-21T09:34:18.865Z"
   },
   {
    "duration": -470,
    "start_time": "2021-11-21T09:34:18.867Z"
   },
   {
    "duration": 354,
    "start_time": "2021-11-21T09:34:33.363Z"
   },
   {
    "duration": 334,
    "start_time": "2021-11-21T09:34:55.404Z"
   },
   {
    "duration": 100,
    "start_time": "2021-11-21T09:36:49.705Z"
   },
   {
    "duration": 17,
    "start_time": "2021-11-21T09:36:49.809Z"
   },
   {
    "duration": 21,
    "start_time": "2021-11-21T09:36:49.830Z"
   },
   {
    "duration": 60,
    "start_time": "2021-11-21T09:36:49.855Z"
   },
   {
    "duration": 21,
    "start_time": "2021-11-21T09:36:49.918Z"
   },
   {
    "duration": 16,
    "start_time": "2021-11-21T09:36:49.942Z"
   },
   {
    "duration": 63,
    "start_time": "2021-11-21T09:36:49.961Z"
   },
   {
    "duration": 45,
    "start_time": "2021-11-21T09:36:50.026Z"
   },
   {
    "duration": 52,
    "start_time": "2021-11-21T09:36:50.076Z"
   },
   {
    "duration": 1091,
    "start_time": "2021-11-21T09:36:50.131Z"
   },
   {
    "duration": 5,
    "start_time": "2021-11-21T09:36:51.224Z"
   },
   {
    "duration": 22,
    "start_time": "2021-11-21T09:36:51.231Z"
   },
   {
    "duration": 10,
    "start_time": "2021-11-21T09:36:51.255Z"
   },
   {
    "duration": 38,
    "start_time": "2021-11-21T09:36:51.267Z"
   },
   {
    "duration": 12,
    "start_time": "2021-11-21T09:36:51.308Z"
   },
   {
    "duration": 15,
    "start_time": "2021-11-21T09:36:51.323Z"
   },
   {
    "duration": 12,
    "start_time": "2021-11-21T09:36:51.341Z"
   },
   {
    "duration": 404,
    "start_time": "2021-11-21T09:36:51.355Z"
   },
   {
    "duration": -731,
    "start_time": "2021-11-21T09:36:52.493Z"
   },
   {
    "duration": -734,
    "start_time": "2021-11-21T09:36:52.497Z"
   },
   {
    "duration": -734,
    "start_time": "2021-11-21T09:36:52.499Z"
   },
   {
    "duration": -736,
    "start_time": "2021-11-21T09:36:52.502Z"
   },
   {
    "duration": -736,
    "start_time": "2021-11-21T09:36:52.504Z"
   },
   {
    "duration": -740,
    "start_time": "2021-11-21T09:36:52.509Z"
   },
   {
    "duration": 82,
    "start_time": "2021-11-21T09:37:09.440Z"
   },
   {
    "duration": 15,
    "start_time": "2021-11-21T09:37:09.524Z"
   },
   {
    "duration": 18,
    "start_time": "2021-11-21T09:37:09.542Z"
   },
   {
    "duration": 44,
    "start_time": "2021-11-21T09:37:09.563Z"
   },
   {
    "duration": 19,
    "start_time": "2021-11-21T09:37:09.609Z"
   },
   {
    "duration": 17,
    "start_time": "2021-11-21T09:37:09.631Z"
   },
   {
    "duration": 55,
    "start_time": "2021-11-21T09:37:09.650Z"
   },
   {
    "duration": 43,
    "start_time": "2021-11-21T09:37:09.708Z"
   },
   {
    "duration": 63,
    "start_time": "2021-11-21T09:37:09.755Z"
   },
   {
    "duration": 1071,
    "start_time": "2021-11-21T09:37:09.821Z"
   },
   {
    "duration": 6,
    "start_time": "2021-11-21T09:37:10.899Z"
   },
   {
    "duration": 24,
    "start_time": "2021-11-21T09:37:10.907Z"
   },
   {
    "duration": 8,
    "start_time": "2021-11-21T09:37:10.933Z"
   },
   {
    "duration": 9,
    "start_time": "2021-11-21T09:37:10.944Z"
   },
   {
    "duration": 46,
    "start_time": "2021-11-21T09:37:10.956Z"
   },
   {
    "duration": 9,
    "start_time": "2021-11-21T09:37:11.005Z"
   },
   {
    "duration": 12,
    "start_time": "2021-11-21T09:37:11.017Z"
   },
   {
    "duration": 407,
    "start_time": "2021-11-21T09:37:11.033Z"
   },
   {
    "duration": -734,
    "start_time": "2021-11-21T09:37:12.177Z"
   },
   {
    "duration": -734,
    "start_time": "2021-11-21T09:37:12.180Z"
   },
   {
    "duration": -734,
    "start_time": "2021-11-21T09:37:12.182Z"
   },
   {
    "duration": -734,
    "start_time": "2021-11-21T09:37:12.184Z"
   },
   {
    "duration": -735,
    "start_time": "2021-11-21T09:37:12.187Z"
   },
   {
    "duration": -739,
    "start_time": "2021-11-21T09:37:12.193Z"
   },
   {
    "duration": 11,
    "start_time": "2021-11-21T09:37:28.939Z"
   },
   {
    "duration": 336,
    "start_time": "2021-11-21T09:38:02.706Z"
   },
   {
    "duration": 362,
    "start_time": "2021-11-21T09:38:08.388Z"
   },
   {
    "duration": 22,
    "start_time": "2021-11-21T09:38:11.554Z"
   },
   {
    "duration": 332,
    "start_time": "2021-11-21T09:38:32.664Z"
   },
   {
    "duration": 1758,
    "start_time": "2021-11-21T09:38:42.832Z"
   },
   {
    "duration": 1676,
    "start_time": "2021-11-21T09:39:01.035Z"
   },
   {
    "duration": 324,
    "start_time": "2021-11-21T09:39:44.607Z"
   },
   {
    "duration": 14,
    "start_time": "2021-11-21T09:40:35.978Z"
   },
   {
    "duration": 342,
    "start_time": "2021-11-21T09:40:38.154Z"
   },
   {
    "duration": 9,
    "start_time": "2021-11-21T09:40:59.779Z"
   },
   {
    "duration": 1990,
    "start_time": "2021-11-21T09:41:11.203Z"
   },
   {
    "duration": 80,
    "start_time": "2021-11-21T09:42:06.781Z"
   },
   {
    "duration": 19,
    "start_time": "2021-11-21T09:42:06.864Z"
   },
   {
    "duration": 18,
    "start_time": "2021-11-21T09:42:06.899Z"
   },
   {
    "duration": 17,
    "start_time": "2021-11-21T09:42:06.920Z"
   },
   {
    "duration": 19,
    "start_time": "2021-11-21T09:42:06.939Z"
   },
   {
    "duration": 53,
    "start_time": "2021-11-21T09:42:06.961Z"
   },
   {
    "duration": 28,
    "start_time": "2021-11-21T09:42:07.018Z"
   },
   {
    "duration": 60,
    "start_time": "2021-11-21T09:42:07.049Z"
   },
   {
    "duration": 36,
    "start_time": "2021-11-21T09:42:07.111Z"
   },
   {
    "duration": 1001,
    "start_time": "2021-11-21T09:42:07.149Z"
   },
   {
    "duration": 6,
    "start_time": "2021-11-21T09:42:08.153Z"
   },
   {
    "duration": 40,
    "start_time": "2021-11-21T09:42:08.161Z"
   },
   {
    "duration": 6,
    "start_time": "2021-11-21T09:42:08.204Z"
   },
   {
    "duration": 11,
    "start_time": "2021-11-21T09:42:08.213Z"
   },
   {
    "duration": 12,
    "start_time": "2021-11-21T09:42:08.226Z"
   },
   {
    "duration": 12,
    "start_time": "2021-11-21T09:42:08.241Z"
   },
   {
    "duration": 48,
    "start_time": "2021-11-21T09:42:08.256Z"
   },
   {
    "duration": 18542,
    "start_time": "2021-11-21T09:42:08.308Z"
   },
   {
    "duration": 6,
    "start_time": "2021-11-21T09:42:26.853Z"
   },
   {
    "duration": 44,
    "start_time": "2021-11-21T09:42:26.861Z"
   },
   {
    "duration": 6,
    "start_time": "2021-11-21T09:42:26.907Z"
   },
   {
    "duration": 15,
    "start_time": "2021-11-21T09:42:26.918Z"
   },
   {
    "duration": 402,
    "start_time": "2021-11-21T09:42:26.935Z"
   },
   {
    "duration": -728,
    "start_time": "2021-11-21T09:42:28.068Z"
   },
   {
    "duration": 341,
    "start_time": "2021-11-21T09:44:52.013Z"
   },
   {
    "duration": 6,
    "start_time": "2021-11-21T09:45:02.091Z"
   },
   {
    "duration": 329,
    "start_time": "2021-11-21T09:48:53.177Z"
   },
   {
    "duration": 78,
    "start_time": "2021-11-21T09:49:20.942Z"
   },
   {
    "duration": 20,
    "start_time": "2021-11-21T09:49:21.023Z"
   },
   {
    "duration": 19,
    "start_time": "2021-11-21T09:49:21.046Z"
   },
   {
    "duration": 42,
    "start_time": "2021-11-21T09:49:21.068Z"
   },
   {
    "duration": 18,
    "start_time": "2021-11-21T09:49:21.113Z"
   },
   {
    "duration": 16,
    "start_time": "2021-11-21T09:49:21.133Z"
   },
   {
    "duration": 56,
    "start_time": "2021-11-21T09:49:21.151Z"
   },
   {
    "duration": 43,
    "start_time": "2021-11-21T09:49:21.210Z"
   },
   {
    "duration": 53,
    "start_time": "2021-11-21T09:49:21.257Z"
   },
   {
    "duration": 1419,
    "start_time": "2021-11-21T09:49:21.313Z"
   },
   {
    "duration": 9,
    "start_time": "2021-11-21T09:49:22.736Z"
   },
   {
    "duration": 16,
    "start_time": "2021-11-21T09:49:22.748Z"
   },
   {
    "duration": 35,
    "start_time": "2021-11-21T09:49:22.767Z"
   },
   {
    "duration": 10,
    "start_time": "2021-11-21T09:49:22.805Z"
   },
   {
    "duration": 12,
    "start_time": "2021-11-21T09:49:22.818Z"
   },
   {
    "duration": 12,
    "start_time": "2021-11-21T09:49:22.832Z"
   },
   {
    "duration": 13,
    "start_time": "2021-11-21T09:49:22.847Z"
   },
   {
    "duration": 19688,
    "start_time": "2021-11-21T09:49:22.903Z"
   },
   {
    "duration": 8,
    "start_time": "2021-11-21T09:49:42.594Z"
   },
   {
    "duration": 22,
    "start_time": "2021-11-21T09:49:42.605Z"
   },
   {
    "duration": 6,
    "start_time": "2021-11-21T09:49:42.629Z"
   },
   {
    "duration": 17,
    "start_time": "2021-11-21T09:49:42.637Z"
   },
   {
    "duration": 366,
    "start_time": "2021-11-21T09:49:42.656Z"
   },
   {
    "duration": -749,
    "start_time": "2021-11-21T09:49:43.773Z"
   },
   {
    "duration": 15,
    "start_time": "2021-11-21T10:04:53.290Z"
   },
   {
    "duration": 20,
    "start_time": "2021-11-21T10:13:16.659Z"
   },
   {
    "duration": 111,
    "start_time": "2021-11-21T11:05:02.363Z"
   },
   {
    "duration": 15,
    "start_time": "2021-11-21T11:05:02.476Z"
   },
   {
    "duration": 32,
    "start_time": "2021-11-21T11:05:02.494Z"
   },
   {
    "duration": 19,
    "start_time": "2021-11-21T11:05:02.645Z"
   },
   {
    "duration": 18,
    "start_time": "2021-11-21T11:05:02.667Z"
   },
   {
    "duration": 19,
    "start_time": "2021-11-21T11:05:02.689Z"
   },
   {
    "duration": 35,
    "start_time": "2021-11-21T11:05:02.714Z"
   },
   {
    "duration": 49,
    "start_time": "2021-11-21T11:05:02.935Z"
   },
   {
    "duration": 43,
    "start_time": "2021-11-21T11:05:02.988Z"
   },
   {
    "duration": 1022,
    "start_time": "2021-11-21T11:05:03.035Z"
   },
   {
    "duration": 5,
    "start_time": "2021-11-21T11:05:04.060Z"
   },
   {
    "duration": 38,
    "start_time": "2021-11-21T11:05:04.067Z"
   },
   {
    "duration": 8,
    "start_time": "2021-11-21T11:05:04.109Z"
   },
   {
    "duration": 15,
    "start_time": "2021-11-21T11:05:04.121Z"
   },
   {
    "duration": 15,
    "start_time": "2021-11-21T11:05:04.139Z"
   },
   {
    "duration": 15,
    "start_time": "2021-11-21T11:05:04.156Z"
   },
   {
    "duration": 47,
    "start_time": "2021-11-21T11:05:04.173Z"
   },
   {
    "duration": 18674,
    "start_time": "2021-11-21T11:05:04.223Z"
   },
   {
    "duration": 8,
    "start_time": "2021-11-21T11:05:22.901Z"
   },
   {
    "duration": 24,
    "start_time": "2021-11-21T11:05:22.914Z"
   },
   {
    "duration": 6,
    "start_time": "2021-11-21T11:05:22.942Z"
   },
   {
    "duration": 58,
    "start_time": "2021-11-21T11:05:22.951Z"
   },
   {
    "duration": 14,
    "start_time": "2021-11-21T11:05:23.014Z"
   },
   {
    "duration": 15,
    "start_time": "2021-11-21T11:05:23.030Z"
   },
   {
    "duration": 88,
    "start_time": "2021-11-21T11:07:45.320Z"
   },
   {
    "duration": 14,
    "start_time": "2021-11-21T11:07:45.410Z"
   },
   {
    "duration": 19,
    "start_time": "2021-11-21T11:07:45.427Z"
   },
   {
    "duration": 19,
    "start_time": "2021-11-21T11:07:45.449Z"
   },
   {
    "duration": 46,
    "start_time": "2021-11-21T11:07:45.470Z"
   },
   {
    "duration": 17,
    "start_time": "2021-11-21T11:07:45.518Z"
   },
   {
    "duration": 29,
    "start_time": "2021-11-21T11:07:45.537Z"
   },
   {
    "duration": 83,
    "start_time": "2021-11-21T11:07:45.568Z"
   },
   {
    "duration": 55,
    "start_time": "2021-11-21T11:07:45.655Z"
   },
   {
    "duration": 990,
    "start_time": "2021-11-21T11:07:45.713Z"
   },
   {
    "duration": 5,
    "start_time": "2021-11-21T11:07:46.706Z"
   },
   {
    "duration": 20,
    "start_time": "2021-11-21T11:07:46.714Z"
   },
   {
    "duration": 7,
    "start_time": "2021-11-21T11:07:46.736Z"
   },
   {
    "duration": 8,
    "start_time": "2021-11-21T11:07:46.746Z"
   },
   {
    "duration": 55,
    "start_time": "2021-11-21T11:07:46.757Z"
   },
   {
    "duration": 12,
    "start_time": "2021-11-21T11:07:46.814Z"
   },
   {
    "duration": 12,
    "start_time": "2021-11-21T11:07:46.828Z"
   },
   {
    "duration": 81,
    "start_time": "2021-11-21T11:08:15.925Z"
   },
   {
    "duration": 14,
    "start_time": "2021-11-21T11:08:16.009Z"
   },
   {
    "duration": 18,
    "start_time": "2021-11-21T11:08:16.026Z"
   },
   {
    "duration": 18,
    "start_time": "2021-11-21T11:08:16.047Z"
   },
   {
    "duration": 49,
    "start_time": "2021-11-21T11:08:16.067Z"
   },
   {
    "duration": 17,
    "start_time": "2021-11-21T11:08:16.118Z"
   },
   {
    "duration": 28,
    "start_time": "2021-11-21T11:08:16.137Z"
   },
   {
    "duration": 75,
    "start_time": "2021-11-21T11:08:16.168Z"
   },
   {
    "duration": 54,
    "start_time": "2021-11-21T11:08:16.247Z"
   },
   {
    "duration": 978,
    "start_time": "2021-11-21T11:08:16.304Z"
   },
   {
    "duration": 4,
    "start_time": "2021-11-21T11:08:17.285Z"
   },
   {
    "duration": 16,
    "start_time": "2021-11-21T11:08:17.299Z"
   },
   {
    "duration": 12,
    "start_time": "2021-11-21T11:08:17.318Z"
   },
   {
    "duration": 12,
    "start_time": "2021-11-21T11:08:17.332Z"
   },
   {
    "duration": 12,
    "start_time": "2021-11-21T11:08:17.346Z"
   },
   {
    "duration": 43,
    "start_time": "2021-11-21T11:08:17.361Z"
   },
   {
    "duration": 16,
    "start_time": "2021-11-21T11:08:17.407Z"
   },
   {
    "duration": 18816,
    "start_time": "2021-11-21T11:08:17.426Z"
   },
   {
    "duration": 6,
    "start_time": "2021-11-21T11:08:36.244Z"
   },
   {
    "duration": 48,
    "start_time": "2021-11-21T11:08:36.253Z"
   },
   {
    "duration": 9,
    "start_time": "2021-11-21T11:08:36.304Z"
   },
   {
    "duration": 34,
    "start_time": "2021-11-21T11:08:36.315Z"
   },
   {
    "duration": 16,
    "start_time": "2021-11-21T11:08:36.352Z"
   },
   {
    "duration": 30,
    "start_time": "2021-11-21T11:08:36.370Z"
   },
   {
    "duration": 85,
    "start_time": "2021-11-21T11:24:02.247Z"
   },
   {
    "duration": 18,
    "start_time": "2021-11-21T11:24:02.335Z"
   },
   {
    "duration": 47,
    "start_time": "2021-11-21T11:24:02.357Z"
   },
   {
    "duration": 61,
    "start_time": "2021-11-21T11:24:02.407Z"
   },
   {
    "duration": 20,
    "start_time": "2021-11-21T11:24:02.470Z"
   },
   {
    "duration": 20,
    "start_time": "2021-11-21T11:24:02.493Z"
   },
   {
    "duration": 31,
    "start_time": "2021-11-21T11:24:02.517Z"
   },
   {
    "duration": 84,
    "start_time": "2021-11-21T11:24:02.553Z"
   },
   {
    "duration": 37,
    "start_time": "2021-11-21T11:24:02.640Z"
   },
   {
    "duration": 1068,
    "start_time": "2021-11-21T11:24:02.680Z"
   },
   {
    "duration": 5,
    "start_time": "2021-11-21T11:24:03.751Z"
   },
   {
    "duration": 45,
    "start_time": "2021-11-21T11:24:03.759Z"
   },
   {
    "duration": 7,
    "start_time": "2021-11-21T11:24:03.807Z"
   },
   {
    "duration": 11,
    "start_time": "2021-11-21T11:24:03.818Z"
   },
   {
    "duration": 11,
    "start_time": "2021-11-21T11:24:03.835Z"
   },
   {
    "duration": 18,
    "start_time": "2021-11-21T11:24:03.849Z"
   },
   {
    "duration": 39,
    "start_time": "2021-11-21T11:24:03.869Z"
   },
   {
    "duration": 20571,
    "start_time": "2021-11-21T11:24:03.912Z"
   },
   {
    "duration": 18,
    "start_time": "2021-11-21T11:24:24.486Z"
   },
   {
    "duration": 28,
    "start_time": "2021-11-21T11:24:24.507Z"
   },
   {
    "duration": 6,
    "start_time": "2021-11-21T11:24:24.538Z"
   },
   {
    "duration": 16,
    "start_time": "2021-11-21T11:24:24.546Z"
   },
   {
    "duration": 48,
    "start_time": "2021-11-21T11:24:24.566Z"
   },
   {
    "duration": 15,
    "start_time": "2021-11-21T11:24:24.616Z"
   },
   {
    "duration": 1007,
    "start_time": "2021-11-21T11:25:14.297Z"
   },
   {
    "duration": 19,
    "start_time": "2021-11-21T11:25:15.307Z"
   },
   {
    "duration": 21,
    "start_time": "2021-11-21T11:25:15.330Z"
   },
   {
    "duration": 55,
    "start_time": "2021-11-21T11:25:15.354Z"
   },
   {
    "duration": 21,
    "start_time": "2021-11-21T11:25:15.413Z"
   },
   {
    "duration": 18,
    "start_time": "2021-11-21T11:25:15.437Z"
   },
   {
    "duration": 62,
    "start_time": "2021-11-21T11:25:15.457Z"
   },
   {
    "duration": 45,
    "start_time": "2021-11-21T11:25:15.523Z"
   },
   {
    "duration": 35,
    "start_time": "2021-11-21T11:25:15.571Z"
   },
   {
    "duration": 1402,
    "start_time": "2021-11-21T11:25:15.609Z"
   },
   {
    "duration": 7,
    "start_time": "2021-11-21T11:25:17.014Z"
   },
   {
    "duration": 21,
    "start_time": "2021-11-21T11:25:17.023Z"
   },
   {
    "duration": 6,
    "start_time": "2021-11-21T11:25:17.047Z"
   },
   {
    "duration": 8,
    "start_time": "2021-11-21T11:25:17.055Z"
   },
   {
    "duration": 15,
    "start_time": "2021-11-21T11:25:17.102Z"
   },
   {
    "duration": 9,
    "start_time": "2021-11-21T11:25:17.119Z"
   },
   {
    "duration": 12,
    "start_time": "2021-11-21T11:25:17.131Z"
   },
   {
    "duration": 18739,
    "start_time": "2021-11-21T11:25:17.145Z"
   },
   {
    "duration": 14,
    "start_time": "2021-11-21T11:25:35.886Z"
   },
   {
    "duration": 38,
    "start_time": "2021-11-21T11:25:35.903Z"
   },
   {
    "duration": 6,
    "start_time": "2021-11-21T11:25:35.944Z"
   },
   {
    "duration": 25,
    "start_time": "2021-11-21T11:25:35.953Z"
   },
   {
    "duration": 30,
    "start_time": "2021-11-21T11:25:35.983Z"
   },
   {
    "duration": 25,
    "start_time": "2021-11-21T11:25:36.016Z"
   },
   {
    "duration": 704,
    "start_time": "2021-11-21T15:33:22.422Z"
   },
   {
    "duration": 10,
    "start_time": "2021-11-21T15:33:23.127Z"
   },
   {
    "duration": 12,
    "start_time": "2021-11-21T15:33:23.139Z"
   },
   {
    "duration": 13,
    "start_time": "2021-11-21T15:33:23.154Z"
   },
   {
    "duration": 14,
    "start_time": "2021-11-21T15:33:23.169Z"
   },
   {
    "duration": 11,
    "start_time": "2021-11-21T15:33:23.184Z"
   },
   {
    "duration": 18,
    "start_time": "2021-11-21T15:33:23.197Z"
   },
   {
    "duration": 53,
    "start_time": "2021-11-21T15:33:23.217Z"
   },
   {
    "duration": 7,
    "start_time": "2021-11-21T15:33:23.273Z"
   },
   {
    "duration": 774,
    "start_time": "2021-11-21T15:33:23.282Z"
   },
   {
    "duration": 3,
    "start_time": "2021-11-21T15:33:24.058Z"
   },
   {
    "duration": 10,
    "start_time": "2021-11-21T15:33:24.063Z"
   },
   {
    "duration": 4,
    "start_time": "2021-11-21T15:33:24.075Z"
   },
   {
    "duration": 6,
    "start_time": "2021-11-21T15:33:24.081Z"
   },
   {
    "duration": 8,
    "start_time": "2021-11-21T15:33:24.088Z"
   },
   {
    "duration": 8,
    "start_time": "2021-11-21T15:33:24.097Z"
   },
   {
    "duration": 40,
    "start_time": "2021-11-21T15:33:24.106Z"
   },
   {
    "duration": 8752,
    "start_time": "2021-11-21T15:33:24.148Z"
   },
   {
    "duration": 4,
    "start_time": "2021-11-21T15:33:32.901Z"
   },
   {
    "duration": 22,
    "start_time": "2021-11-21T15:33:32.907Z"
   },
   {
    "duration": 4,
    "start_time": "2021-11-21T15:33:32.931Z"
   },
   {
    "duration": 11,
    "start_time": "2021-11-21T15:33:32.944Z"
   },
   {
    "duration": 9,
    "start_time": "2021-11-21T15:33:32.957Z"
   },
   {
    "duration": 10,
    "start_time": "2021-11-21T15:33:32.968Z"
   },
   {
    "duration": 14,
    "start_time": "2021-11-21T15:37:24.217Z"
   },
   {
    "duration": 498,
    "start_time": "2021-11-23T12:16:51.074Z"
   },
   {
    "duration": 349,
    "start_time": "2021-11-23T12:16:59.907Z"
   },
   {
    "duration": 851,
    "start_time": "2021-11-23T12:17:06.743Z"
   },
   {
    "duration": 16,
    "start_time": "2021-11-23T12:17:07.596Z"
   },
   {
    "duration": 20,
    "start_time": "2021-11-23T12:17:07.615Z"
   },
   {
    "duration": 422,
    "start_time": "2021-11-23T12:17:07.637Z"
   },
   {
    "duration": -291,
    "start_time": "2021-11-23T12:17:08.353Z"
   },
   {
    "duration": -308,
    "start_time": "2021-11-23T12:17:08.371Z"
   },
   {
    "duration": -309,
    "start_time": "2021-11-23T12:17:08.374Z"
   },
   {
    "duration": -310,
    "start_time": "2021-11-23T12:17:08.376Z"
   },
   {
    "duration": -311,
    "start_time": "2021-11-23T12:17:08.378Z"
   },
   {
    "duration": -312,
    "start_time": "2021-11-23T12:17:08.381Z"
   },
   {
    "duration": -317,
    "start_time": "2021-11-23T12:17:08.387Z"
   },
   {
    "duration": -318,
    "start_time": "2021-11-23T12:17:08.389Z"
   },
   {
    "duration": -318,
    "start_time": "2021-11-23T12:17:08.391Z"
   },
   {
    "duration": -319,
    "start_time": "2021-11-23T12:17:08.393Z"
   },
   {
    "duration": -320,
    "start_time": "2021-11-23T12:17:08.396Z"
   },
   {
    "duration": -321,
    "start_time": "2021-11-23T12:17:08.398Z"
   },
   {
    "duration": -322,
    "start_time": "2021-11-23T12:17:08.400Z"
   },
   {
    "duration": -322,
    "start_time": "2021-11-23T12:17:08.402Z"
   },
   {
    "duration": -326,
    "start_time": "2021-11-23T12:17:08.408Z"
   },
   {
    "duration": -328,
    "start_time": "2021-11-23T12:17:08.411Z"
   },
   {
    "duration": -330,
    "start_time": "2021-11-23T12:17:08.414Z"
   },
   {
    "duration": -331,
    "start_time": "2021-11-23T12:17:08.417Z"
   },
   {
    "duration": -333,
    "start_time": "2021-11-23T12:17:08.420Z"
   },
   {
    "duration": -335,
    "start_time": "2021-11-23T12:17:08.423Z"
   },
   {
    "duration": -339,
    "start_time": "2021-11-23T12:17:08.429Z"
   },
   {
    "duration": 22,
    "start_time": "2021-11-23T12:17:39.948Z"
   },
   {
    "duration": 125,
    "start_time": "2021-11-23T12:18:17.509Z"
   },
   {
    "duration": 19,
    "start_time": "2021-11-23T12:18:44.508Z"
   },
   {
    "duration": 20,
    "start_time": "2021-11-23T12:18:52.603Z"
   },
   {
    "duration": 115,
    "start_time": "2021-11-23T12:19:43.388Z"
   },
   {
    "duration": 19,
    "start_time": "2021-11-23T12:20:57.804Z"
   },
   {
    "duration": 78,
    "start_time": "2021-11-23T12:25:27.396Z"
   },
   {
    "duration": 36,
    "start_time": "2021-11-23T12:25:27.476Z"
   },
   {
    "duration": 19,
    "start_time": "2021-11-23T12:25:27.516Z"
   },
   {
    "duration": 23,
    "start_time": "2021-11-23T12:25:27.538Z"
   },
   {
    "duration": 50,
    "start_time": "2021-11-23T12:25:27.564Z"
   },
   {
    "duration": 16,
    "start_time": "2021-11-23T12:25:27.617Z"
   },
   {
    "duration": 32,
    "start_time": "2021-11-23T12:25:27.636Z"
   },
   {
    "duration": 45,
    "start_time": "2021-11-23T12:25:27.701Z"
   },
   {
    "duration": 12,
    "start_time": "2021-11-23T12:25:27.749Z"
   },
   {
    "duration": 981,
    "start_time": "2021-11-23T12:25:27.764Z"
   },
   {
    "duration": 5,
    "start_time": "2021-11-23T12:25:28.748Z"
   },
   {
    "duration": 18,
    "start_time": "2021-11-23T12:25:28.755Z"
   },
   {
    "duration": 28,
    "start_time": "2021-11-23T12:25:28.776Z"
   },
   {
    "duration": 12,
    "start_time": "2021-11-23T12:25:28.806Z"
   },
   {
    "duration": 12,
    "start_time": "2021-11-23T12:25:28.821Z"
   },
   {
    "duration": 14,
    "start_time": "2021-11-23T12:25:28.836Z"
   },
   {
    "duration": 16,
    "start_time": "2021-11-23T12:25:28.852Z"
   },
   {
    "duration": 17853,
    "start_time": "2021-11-23T12:25:28.870Z"
   },
   {
    "duration": 5,
    "start_time": "2021-11-23T12:25:46.726Z"
   },
   {
    "duration": 30,
    "start_time": "2021-11-23T12:25:46.733Z"
   },
   {
    "duration": 6,
    "start_time": "2021-11-23T12:25:46.765Z"
   },
   {
    "duration": 15,
    "start_time": "2021-11-23T12:25:46.800Z"
   },
   {
    "duration": 14,
    "start_time": "2021-11-23T12:25:46.819Z"
   },
   {
    "duration": 16,
    "start_time": "2021-11-23T12:25:46.836Z"
   },
   {
    "duration": 59,
    "start_time": "2021-11-23T12:25:46.855Z"
   },
   {
    "duration": 9,
    "start_time": "2021-11-23T12:27:20.372Z"
   },
   {
    "duration": 13,
    "start_time": "2021-11-23T12:27:32.333Z"
   },
   {
    "duration": 8,
    "start_time": "2021-11-23T12:27:50.911Z"
   },
   {
    "duration": 7,
    "start_time": "2021-11-23T12:28:17.860Z"
   },
   {
    "duration": 6,
    "start_time": "2021-11-23T12:28:28.608Z"
   },
   {
    "duration": 8,
    "start_time": "2021-11-23T12:28:31.964Z"
   },
   {
    "duration": 7,
    "start_time": "2021-11-23T12:28:35.934Z"
   },
   {
    "duration": 80,
    "start_time": "2021-11-23T12:28:49.470Z"
   },
   {
    "duration": 15,
    "start_time": "2021-11-23T12:28:49.553Z"
   },
   {
    "duration": 42,
    "start_time": "2021-11-23T12:28:49.571Z"
   },
   {
    "duration": 22,
    "start_time": "2021-11-23T12:28:49.616Z"
   },
   {
    "duration": 18,
    "start_time": "2021-11-23T12:28:49.640Z"
   },
   {
    "duration": 44,
    "start_time": "2021-11-23T12:28:49.661Z"
   },
   {
    "duration": 29,
    "start_time": "2021-11-23T12:28:49.708Z"
   },
   {
    "duration": 62,
    "start_time": "2021-11-23T12:28:49.740Z"
   },
   {
    "duration": 29,
    "start_time": "2021-11-23T12:28:49.807Z"
   },
   {
    "duration": 969,
    "start_time": "2021-11-23T12:28:49.840Z"
   },
   {
    "duration": 5,
    "start_time": "2021-11-23T12:28:50.812Z"
   },
   {
    "duration": 19,
    "start_time": "2021-11-23T12:28:50.819Z"
   },
   {
    "duration": 7,
    "start_time": "2021-11-23T12:28:50.840Z"
   },
   {
    "duration": 51,
    "start_time": "2021-11-23T12:28:50.849Z"
   },
   {
    "duration": 10,
    "start_time": "2021-11-23T12:28:50.903Z"
   },
   {
    "duration": 11,
    "start_time": "2021-11-23T12:28:50.916Z"
   },
   {
    "duration": 13,
    "start_time": "2021-11-23T12:28:50.929Z"
   },
   {
    "duration": 8,
    "start_time": "2021-11-23T12:28:50.944Z"
   },
   {
    "duration": 53,
    "start_time": "2021-11-23T12:28:50.954Z"
   },
   {
    "duration": 18446,
    "start_time": "2021-11-23T12:28:51.009Z"
   },
   {
    "duration": 6,
    "start_time": "2021-11-23T12:29:09.457Z"
   },
   {
    "duration": 40,
    "start_time": "2021-11-23T12:29:09.466Z"
   },
   {
    "duration": 7,
    "start_time": "2021-11-23T12:29:09.509Z"
   },
   {
    "duration": 25,
    "start_time": "2021-11-23T12:29:09.518Z"
   },
   {
    "duration": 14,
    "start_time": "2021-11-23T12:29:09.545Z"
   },
   {
    "duration": 51,
    "start_time": "2021-11-23T12:29:09.561Z"
   },
   {
    "duration": 21,
    "start_time": "2021-11-23T12:29:09.616Z"
   },
   {
    "duration": 97,
    "start_time": "2021-11-23T12:29:20.528Z"
   },
   {
    "duration": 24,
    "start_time": "2021-11-23T12:29:20.628Z"
   },
   {
    "duration": 43,
    "start_time": "2021-11-23T12:29:20.657Z"
   },
   {
    "duration": 18,
    "start_time": "2021-11-23T12:29:20.703Z"
   },
   {
    "duration": 18,
    "start_time": "2021-11-23T12:29:20.723Z"
   },
   {
    "duration": 19,
    "start_time": "2021-11-23T12:29:20.744Z"
   },
   {
    "duration": 59,
    "start_time": "2021-11-23T12:29:20.765Z"
   },
   {
    "duration": 73,
    "start_time": "2021-11-23T12:29:20.826Z"
   },
   {
    "duration": 30,
    "start_time": "2021-11-23T12:29:20.903Z"
   },
   {
    "duration": 1007,
    "start_time": "2021-11-23T12:29:20.936Z"
   },
   {
    "duration": 5,
    "start_time": "2021-11-23T12:29:21.947Z"
   },
   {
    "duration": 21,
    "start_time": "2021-11-23T12:29:21.955Z"
   },
   {
    "duration": 8,
    "start_time": "2021-11-23T12:29:22.000Z"
   },
   {
    "duration": 13,
    "start_time": "2021-11-23T12:29:22.011Z"
   },
   {
    "duration": 8,
    "start_time": "2021-11-23T12:29:22.027Z"
   },
   {
    "duration": 10,
    "start_time": "2021-11-23T12:29:22.037Z"
   },
   {
    "duration": 53,
    "start_time": "2021-11-23T12:29:22.050Z"
   },
   {
    "duration": 17,
    "start_time": "2021-11-23T12:29:22.106Z"
   },
   {
    "duration": 11,
    "start_time": "2021-11-23T12:29:22.125Z"
   },
   {
    "duration": 91,
    "start_time": "2021-11-23T12:29:40.532Z"
   },
   {
    "duration": 18,
    "start_time": "2021-11-23T12:29:40.626Z"
   },
   {
    "duration": 55,
    "start_time": "2021-11-23T12:29:40.647Z"
   },
   {
    "duration": 18,
    "start_time": "2021-11-23T12:29:40.705Z"
   },
   {
    "duration": 18,
    "start_time": "2021-11-23T12:29:40.725Z"
   },
   {
    "duration": 16,
    "start_time": "2021-11-23T12:29:40.746Z"
   },
   {
    "duration": 57,
    "start_time": "2021-11-23T12:29:40.764Z"
   },
   {
    "duration": 45,
    "start_time": "2021-11-23T12:29:40.823Z"
   },
   {
    "duration": 53,
    "start_time": "2021-11-23T12:29:40.870Z"
   },
   {
    "duration": 960,
    "start_time": "2021-11-23T12:29:40.926Z"
   },
   {
    "duration": 15,
    "start_time": "2021-11-23T12:29:41.888Z"
   },
   {
    "duration": 23,
    "start_time": "2021-11-23T12:29:41.905Z"
   },
   {
    "duration": 12,
    "start_time": "2021-11-23T12:29:41.931Z"
   },
   {
    "duration": 15,
    "start_time": "2021-11-23T12:29:41.946Z"
   },
   {
    "duration": 10,
    "start_time": "2021-11-23T12:29:41.963Z"
   },
   {
    "duration": 7,
    "start_time": "2021-11-23T12:29:42.002Z"
   },
   {
    "duration": 24,
    "start_time": "2021-11-23T12:29:42.012Z"
   },
   {
    "duration": 12,
    "start_time": "2021-11-23T12:29:42.038Z"
   },
   {
    "duration": 11,
    "start_time": "2021-11-23T12:29:42.052Z"
   },
   {
    "duration": 18650,
    "start_time": "2021-11-23T12:29:42.065Z"
   },
   {
    "duration": 7,
    "start_time": "2021-11-23T12:30:00.717Z"
   },
   {
    "duration": 39,
    "start_time": "2021-11-23T12:30:00.727Z"
   },
   {
    "duration": 9,
    "start_time": "2021-11-23T12:30:00.769Z"
   },
   {
    "duration": 31,
    "start_time": "2021-11-23T12:30:00.780Z"
   },
   {
    "duration": 15,
    "start_time": "2021-11-23T12:30:00.814Z"
   },
   {
    "duration": 57,
    "start_time": "2021-11-23T12:30:00.831Z"
   },
   {
    "duration": 44,
    "start_time": "2021-11-23T12:30:00.891Z"
   },
   {
    "duration": 9,
    "start_time": "2021-11-23T12:30:46.284Z"
   },
   {
    "duration": 84,
    "start_time": "2021-11-23T12:30:49.998Z"
   },
   {
    "duration": 15,
    "start_time": "2021-11-23T12:30:50.100Z"
   },
   {
    "duration": 19,
    "start_time": "2021-11-23T12:30:50.119Z"
   },
   {
    "duration": 19,
    "start_time": "2021-11-23T12:30:50.141Z"
   },
   {
    "duration": 54,
    "start_time": "2021-11-23T12:30:50.162Z"
   },
   {
    "duration": 17,
    "start_time": "2021-11-23T12:30:50.219Z"
   },
   {
    "duration": 34,
    "start_time": "2021-11-23T12:30:50.238Z"
   },
   {
    "duration": 47,
    "start_time": "2021-11-23T12:30:50.301Z"
   },
   {
    "duration": 51,
    "start_time": "2021-11-23T12:30:50.351Z"
   },
   {
    "duration": 953,
    "start_time": "2021-11-23T12:30:50.404Z"
   },
   {
    "duration": 5,
    "start_time": "2021-11-23T12:30:51.360Z"
   },
   {
    "duration": 36,
    "start_time": "2021-11-23T12:30:51.367Z"
   },
   {
    "duration": 7,
    "start_time": "2021-11-23T12:30:51.406Z"
   },
   {
    "duration": 17,
    "start_time": "2021-11-23T12:30:51.416Z"
   },
   {
    "duration": 8,
    "start_time": "2021-11-23T12:30:51.436Z"
   },
   {
    "duration": 10,
    "start_time": "2021-11-23T12:30:51.447Z"
   },
   {
    "duration": 49,
    "start_time": "2021-11-23T12:30:51.460Z"
   },
   {
    "duration": 30,
    "start_time": "2021-11-23T12:30:51.512Z"
   },
   {
    "duration": 19,
    "start_time": "2021-11-23T12:30:51.544Z"
   },
   {
    "duration": 18501,
    "start_time": "2021-11-23T12:30:51.566Z"
   },
   {
    "duration": 8,
    "start_time": "2021-11-23T12:31:10.070Z"
   },
   {
    "duration": 37,
    "start_time": "2021-11-23T12:31:10.080Z"
   },
   {
    "duration": 7,
    "start_time": "2021-11-23T12:31:10.121Z"
   },
   {
    "duration": 35,
    "start_time": "2021-11-23T12:31:10.130Z"
   },
   {
    "duration": 35,
    "start_time": "2021-11-23T12:31:10.167Z"
   },
   {
    "duration": 15,
    "start_time": "2021-11-23T12:31:10.204Z"
   },
   {
    "duration": 21,
    "start_time": "2021-11-23T12:31:10.221Z"
   },
   {
    "duration": 78,
    "start_time": "2021-11-23T12:31:11.010Z"
   },
   {
    "duration": 14,
    "start_time": "2021-11-23T12:31:11.101Z"
   },
   {
    "duration": 20,
    "start_time": "2021-11-23T12:31:11.118Z"
   },
   {
    "duration": 18,
    "start_time": "2021-11-23T12:31:11.141Z"
   },
   {
    "duration": 51,
    "start_time": "2021-11-23T12:31:11.162Z"
   },
   {
    "duration": 17,
    "start_time": "2021-11-23T12:31:11.215Z"
   },
   {
    "duration": 28,
    "start_time": "2021-11-23T12:31:11.235Z"
   },
   {
    "duration": 76,
    "start_time": "2021-11-23T12:31:11.267Z"
   },
   {
    "duration": 29,
    "start_time": "2021-11-23T12:31:11.346Z"
   },
   {
    "duration": 977,
    "start_time": "2021-11-23T12:31:11.378Z"
   },
   {
    "duration": 5,
    "start_time": "2021-11-23T12:31:12.358Z"
   },
   {
    "duration": 38,
    "start_time": "2021-11-23T12:31:12.365Z"
   },
   {
    "duration": 6,
    "start_time": "2021-11-23T12:31:12.406Z"
   },
   {
    "duration": 19,
    "start_time": "2021-11-23T12:31:12.414Z"
   },
   {
    "duration": 8,
    "start_time": "2021-11-23T12:31:12.435Z"
   },
   {
    "duration": 7,
    "start_time": "2021-11-23T12:31:12.445Z"
   },
   {
    "duration": 53,
    "start_time": "2021-11-23T12:31:12.454Z"
   },
   {
    "duration": 7,
    "start_time": "2021-11-23T12:31:12.509Z"
   },
   {
    "duration": 13,
    "start_time": "2021-11-23T12:31:12.519Z"
   },
   {
    "duration": 18503,
    "start_time": "2021-11-23T12:31:12.535Z"
   },
   {
    "duration": 5,
    "start_time": "2021-11-23T12:31:31.041Z"
   },
   {
    "duration": 53,
    "start_time": "2021-11-23T12:31:31.048Z"
   },
   {
    "duration": 5,
    "start_time": "2021-11-23T12:31:31.106Z"
   },
   {
    "duration": 36,
    "start_time": "2021-11-23T12:31:31.113Z"
   },
   {
    "duration": 19,
    "start_time": "2021-11-23T12:31:31.151Z"
   },
   {
    "duration": 51,
    "start_time": "2021-11-23T12:31:31.172Z"
   },
   {
    "duration": 85,
    "start_time": "2021-11-23T12:31:31.225Z"
   },
   {
    "duration": 111,
    "start_time": "2021-11-23T12:39:44.100Z"
   },
   {
    "duration": 980,
    "start_time": "2021-11-23T12:44:44.666Z"
   },
   {
    "duration": 16,
    "start_time": "2021-11-23T12:44:45.649Z"
   },
   {
    "duration": 36,
    "start_time": "2021-11-23T12:44:45.668Z"
   },
   {
    "duration": 19,
    "start_time": "2021-11-23T12:44:45.707Z"
   },
   {
    "duration": 19,
    "start_time": "2021-11-23T12:44:45.729Z"
   },
   {
    "duration": 16,
    "start_time": "2021-11-23T12:44:45.750Z"
   },
   {
    "duration": 26,
    "start_time": "2021-11-23T12:44:45.801Z"
   },
   {
    "duration": 47,
    "start_time": "2021-11-23T12:44:45.829Z"
   },
   {
    "duration": 14,
    "start_time": "2021-11-23T12:44:45.903Z"
   },
   {
    "duration": 975,
    "start_time": "2021-11-23T12:44:45.920Z"
   },
   {
    "duration": 4,
    "start_time": "2021-11-23T12:44:46.901Z"
   },
   {
    "duration": 19,
    "start_time": "2021-11-23T12:44:46.908Z"
   },
   {
    "duration": 6,
    "start_time": "2021-11-23T12:44:46.929Z"
   },
   {
    "duration": 19,
    "start_time": "2021-11-23T12:44:46.937Z"
   },
   {
    "duration": 45,
    "start_time": "2021-11-23T12:44:46.958Z"
   },
   {
    "duration": 12,
    "start_time": "2021-11-23T12:44:47.006Z"
   },
   {
    "duration": 17,
    "start_time": "2021-11-23T12:44:47.020Z"
   },
   {
    "duration": 10,
    "start_time": "2021-11-23T12:44:47.040Z"
   },
   {
    "duration": 19347,
    "start_time": "2021-11-23T12:44:47.053Z"
   },
   {
    "duration": 6,
    "start_time": "2021-11-23T12:45:06.402Z"
   },
   {
    "duration": 42,
    "start_time": "2021-11-23T12:45:06.410Z"
   },
   {
    "duration": 10,
    "start_time": "2021-11-23T12:45:06.454Z"
   },
   {
    "duration": 53,
    "start_time": "2021-11-23T12:45:06.466Z"
   },
   {
    "duration": 36,
    "start_time": "2021-11-23T12:45:06.521Z"
   },
   {
    "duration": 35,
    "start_time": "2021-11-23T12:45:06.560Z"
   },
   {
    "duration": 53,
    "start_time": "2021-11-23T12:45:06.599Z"
   }
  ],
  "kernelspec": {
   "display_name": "Python 3 (ipykernel)",
   "language": "python",
   "name": "python3"
  },
  "language_info": {
   "codemirror_mode": {
    "name": "ipython",
    "version": 3
   },
   "file_extension": ".py",
   "mimetype": "text/x-python",
   "name": "python",
   "nbconvert_exporter": "python",
   "pygments_lexer": "ipython3",
   "version": "3.9.7"
  },
  "toc": {
   "base_numbering": 1,
   "nav_menu": {},
   "number_sections": true,
   "sideBar": true,
   "skip_h1_title": true,
   "title_cell": "Оглавление",
   "title_sidebar": "Оглавление",
   "toc_cell": true,
   "toc_position": {},
   "toc_section_display": true,
   "toc_window_display": true
  }
 },
 "nbformat": 4,
 "nbformat_minor": 2
}
