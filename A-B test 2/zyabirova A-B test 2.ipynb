{
 "cells": [
  {
   "cell_type": "markdown",
   "metadata": {},
   "source": [
    "# Приоритизация гипотез и анализ результатов А/B-теста"
   ]
  },
  {
   "cell_type": "markdown",
   "metadata": {
    "toc": true
   },
   "source": [
    "<h1>Оглавление<span class=\"tocSkip\"></span></h1>\n",
    "<div class=\"toc\"><ul class=\"toc-item\"><li><span><a href=\"#Предобработка-данных\" data-toc-modified-id=\"Предобработка-данных-1\"><span class=\"toc-item-num\">1&nbsp;&nbsp;</span>Предобработка данных</a></span></li><li><span><a href=\"#Приоритизация-гипотез\" data-toc-modified-id=\"Приоритизация-гипотез-2\"><span class=\"toc-item-num\">2&nbsp;&nbsp;</span>Приоритизация гипотез</a></span></li><li><span><a href=\"#Анализ-A/B-теста\" data-toc-modified-id=\"Анализ-A/B-теста-3\"><span class=\"toc-item-num\">3&nbsp;&nbsp;</span>Анализ A/B-теста</a></span><ul class=\"toc-item\"><li><span><a href=\"#Анализ-кумулятивной-выручки-по-группам\" data-toc-modified-id=\"Анализ-кумулятивной-выручки-по-группам-3.1\"><span class=\"toc-item-num\">3.1&nbsp;&nbsp;</span>Анализ кумулятивной выручки по группам</a></span></li><li><span><a href=\"#Анализ-кумулятивного-среднего-чека-по-группам\" data-toc-modified-id=\"Анализ-кумулятивного-среднего-чека-по-группам-3.2\"><span class=\"toc-item-num\">3.2&nbsp;&nbsp;</span>Анализ кумулятивного среднего чека по группам</a></span></li><li><span><a href=\"#Анализ-кумулятивной-конверсии-по-группам\" data-toc-modified-id=\"Анализ-кумулятивной-конверсии-по-группам-3.3\"><span class=\"toc-item-num\">3.3&nbsp;&nbsp;</span>Анализ кумулятивной конверсии по группам</a></span></li><li><span><a href=\"#Анализ-выбросов-и-всплесков\" data-toc-modified-id=\"Анализ-выбросов-и-всплесков-3.4\"><span class=\"toc-item-num\">3.4&nbsp;&nbsp;</span>Анализ выбросов и всплесков</a></span></li><li><span><a href=\"#Анализ-статистической-значимости-различий-в-конверсии-и-в-среднем-чеке\" data-toc-modified-id=\"Анализ-статистической-значимости-различий-в-конверсии-и-в-среднем-чеке-3.5\"><span class=\"toc-item-num\">3.5&nbsp;&nbsp;</span>Анализ статистической значимости различий в конверсии и в среднем чеке</a></span></li></ul></li><li><span><a href=\"#Решение-по-результатам-теста\" data-toc-modified-id=\"Решение-по-результатам-теста-4\"><span class=\"toc-item-num\">4&nbsp;&nbsp;</span>Решение по результатам теста</a></span></li><li><span><a href=\"#Общий-вывод-по-проекту\" data-toc-modified-id=\"Общий-вывод-по-проекту-5\"><span class=\"toc-item-num\">5&nbsp;&nbsp;</span>Общий вывод по проекту</a></span></li></ul></div>"
   ]
  },
  {
   "cell_type": "markdown",
   "metadata": {},
   "source": [
    "**Вместе с отделом маркетинга нами подготовлен список гипотез для увеличения выручки.\n",
    "Приоритизируем гипотезы, запустим A/B-тест и проанализируем результаты.**"
   ]
  },
  {
   "cell_type": "markdown",
   "metadata": {},
   "source": [
    "## Предобработка данных"
   ]
  },
  {
   "cell_type": "markdown",
   "metadata": {},
   "source": [
    "Для начала импортируем все библиотеки, которые потребуются нам в дальнейшей работе:"
   ]
  },
  {
   "cell_type": "code",
   "execution_count": 1,
   "metadata": {},
   "outputs": [],
   "source": [
    "import pandas as pd \n",
    "import datetime as dt \n",
    "import numpy as np \n",
    "import matplotlib.pyplot as plt \n",
    "from pandas.plotting import register_matplotlib_converters \n",
    "import warnings \n",
    "register_matplotlib_converters() \n",
    "from matplotlib.pyplot import figure \n",
    "import scipy.stats as stats"
   ]
  },
  {
   "cell_type": "markdown",
   "metadata": {},
   "source": [
    "Прочитаем файл с гипотезами по увеличению выручки нашего интернет-магазина:"
   ]
  },
  {
   "cell_type": "code",
   "execution_count": 2,
   "metadata": {},
   "outputs": [
    {
     "name": "stderr",
     "output_type": "stream",
     "text": [
      "/tmp/ipykernel_230/3747691890.py:2: FutureWarning: Passing a negative integer is deprecated in version 1.0 and will not be supported in future version. Instead, use None to not limit the column width.\n",
      "  pd.set_option('max_colwidth', -1) # отображение не усеченной формы каждого столбца\n"
     ]
    },
    {
     "data": {
      "text/html": [
       "<div>\n",
       "<style scoped>\n",
       "    .dataframe tbody tr th:only-of-type {\n",
       "        vertical-align: middle;\n",
       "    }\n",
       "\n",
       "    .dataframe tbody tr th {\n",
       "        vertical-align: top;\n",
       "    }\n",
       "\n",
       "    .dataframe thead th {\n",
       "        text-align: right;\n",
       "    }\n",
       "</style>\n",
       "<table border=\"1\" class=\"dataframe\">\n",
       "  <thead>\n",
       "    <tr style=\"text-align: right;\">\n",
       "      <th></th>\n",
       "      <th>Hypothesis</th>\n",
       "      <th>Reach</th>\n",
       "      <th>Impact</th>\n",
       "      <th>Confidence</th>\n",
       "      <th>Efforts</th>\n",
       "    </tr>\n",
       "  </thead>\n",
       "  <tbody>\n",
       "    <tr>\n",
       "      <th>0</th>\n",
       "      <td>Добавить два новых канала привлечения трафика, что позволит привлекать на 30% больше пользователей</td>\n",
       "      <td>3</td>\n",
       "      <td>10</td>\n",
       "      <td>8</td>\n",
       "      <td>6</td>\n",
       "    </tr>\n",
       "    <tr>\n",
       "      <th>1</th>\n",
       "      <td>Запустить собственную службу доставки, что сократит срок доставки заказов</td>\n",
       "      <td>2</td>\n",
       "      <td>5</td>\n",
       "      <td>4</td>\n",
       "      <td>10</td>\n",
       "    </tr>\n",
       "    <tr>\n",
       "      <th>2</th>\n",
       "      <td>Добавить блоки рекомендаций товаров на сайт интернет магазина, чтобы повысить конверсию и средний чек заказа</td>\n",
       "      <td>8</td>\n",
       "      <td>3</td>\n",
       "      <td>7</td>\n",
       "      <td>3</td>\n",
       "    </tr>\n",
       "    <tr>\n",
       "      <th>3</th>\n",
       "      <td>Изменить структура категорий, что увеличит конверсию, т.к. пользователи быстрее найдут нужный товар</td>\n",
       "      <td>8</td>\n",
       "      <td>3</td>\n",
       "      <td>3</td>\n",
       "      <td>8</td>\n",
       "    </tr>\n",
       "    <tr>\n",
       "      <th>4</th>\n",
       "      <td>Изменить цвет фона главной страницы, чтобы увеличить вовлеченность пользователей</td>\n",
       "      <td>3</td>\n",
       "      <td>1</td>\n",
       "      <td>1</td>\n",
       "      <td>1</td>\n",
       "    </tr>\n",
       "    <tr>\n",
       "      <th>5</th>\n",
       "      <td>Добавить страницу отзывов клиентов о магазине, что позволит увеличить количество заказов</td>\n",
       "      <td>3</td>\n",
       "      <td>2</td>\n",
       "      <td>2</td>\n",
       "      <td>3</td>\n",
       "    </tr>\n",
       "    <tr>\n",
       "      <th>6</th>\n",
       "      <td>Показать на главной странице баннеры с актуальными акциями и распродажами, чтобы увеличить конверсию</td>\n",
       "      <td>5</td>\n",
       "      <td>3</td>\n",
       "      <td>8</td>\n",
       "      <td>3</td>\n",
       "    </tr>\n",
       "    <tr>\n",
       "      <th>7</th>\n",
       "      <td>Добавить форму подписки на все основные страницы, чтобы собрать базу клиентов для email-рассылок</td>\n",
       "      <td>10</td>\n",
       "      <td>7</td>\n",
       "      <td>8</td>\n",
       "      <td>5</td>\n",
       "    </tr>\n",
       "    <tr>\n",
       "      <th>8</th>\n",
       "      <td>Запустить акцию, дающую скидку на товар в день рождения</td>\n",
       "      <td>1</td>\n",
       "      <td>9</td>\n",
       "      <td>9</td>\n",
       "      <td>5</td>\n",
       "    </tr>\n",
       "  </tbody>\n",
       "</table>\n",
       "</div>"
      ],
      "text/plain": [
       "                                                                                                     Hypothesis  \\\n",
       "0  Добавить два новых канала привлечения трафика, что позволит привлекать на 30% больше пользователей             \n",
       "1  Запустить собственную службу доставки, что сократит срок доставки заказов                                      \n",
       "2  Добавить блоки рекомендаций товаров на сайт интернет магазина, чтобы повысить конверсию и средний чек заказа   \n",
       "3  Изменить структура категорий, что увеличит конверсию, т.к. пользователи быстрее найдут нужный товар            \n",
       "4  Изменить цвет фона главной страницы, чтобы увеличить вовлеченность пользователей                               \n",
       "5  Добавить страницу отзывов клиентов о магазине, что позволит увеличить количество заказов                       \n",
       "6  Показать на главной странице баннеры с актуальными акциями и распродажами, чтобы увеличить конверсию           \n",
       "7  Добавить форму подписки на все основные страницы, чтобы собрать базу клиентов для email-рассылок               \n",
       "8  Запустить акцию, дающую скидку на товар в день рождения                                                        \n",
       "\n",
       "   Reach  Impact  Confidence  Efforts  \n",
       "0  3      10      8           6        \n",
       "1  2      5       4           10       \n",
       "2  8      3       7           3        \n",
       "3  8      3       3           8        \n",
       "4  3      1       1           1        \n",
       "5  3      2       2           3        \n",
       "6  5      3       8           3        \n",
       "7  10     7       8           5        \n",
       "8  1      9       9           5        "
      ]
     },
     "execution_count": 2,
     "metadata": {},
     "output_type": "execute_result"
    }
   ],
   "source": [
    "hypothesis = pd.read_csv('/datasets/hypothesis.csv') # чтение файла с данными и сохранение в hypothesis\n",
    "pd.set_option('max_colwidth', -1) # отображение не усеченной формы каждого столбца\n",
    "hypothesis"
   ]
  },
  {
   "cell_type": "markdown",
   "metadata": {},
   "source": [
    "Для предстоящего знакомства с двумя более крупными файлами объявим функцию `data_info()`, которая будет включать запрос информации о таблице (`info()`), вывод первых пяти её строк (`head()`) и количества в ней дубликатов (`duplicated().sum()`):"
   ]
  },
  {
   "cell_type": "code",
   "execution_count": 3,
   "metadata": {},
   "outputs": [],
   "source": [
    "# объявление функции data_info() принимающей в качестве параметра таблицу data\n",
    "def data_info(data):\n",
    "    head = display(data.head())   # получение первых 5 строк таблицы\n",
    "    info = data.info()   # получение информации о данных в таблице \n",
    "    duplicates = print('\\n' + 'Количество дубликатов:', data.duplicated().sum())   # получение кол-ва дубликатов в таблице\n",
    "    return data, head, info, duplicates"
   ]
  },
  {
   "cell_type": "code",
   "execution_count": 4,
   "metadata": {},
   "outputs": [
    {
     "data": {
      "text/html": [
       "<div>\n",
       "<style scoped>\n",
       "    .dataframe tbody tr th:only-of-type {\n",
       "        vertical-align: middle;\n",
       "    }\n",
       "\n",
       "    .dataframe tbody tr th {\n",
       "        vertical-align: top;\n",
       "    }\n",
       "\n",
       "    .dataframe thead th {\n",
       "        text-align: right;\n",
       "    }\n",
       "</style>\n",
       "<table border=\"1\" class=\"dataframe\">\n",
       "  <thead>\n",
       "    <tr style=\"text-align: right;\">\n",
       "      <th></th>\n",
       "      <th>transactionId</th>\n",
       "      <th>visitorId</th>\n",
       "      <th>date</th>\n",
       "      <th>revenue</th>\n",
       "      <th>group</th>\n",
       "    </tr>\n",
       "  </thead>\n",
       "  <tbody>\n",
       "    <tr>\n",
       "      <th>0</th>\n",
       "      <td>3667963787</td>\n",
       "      <td>3312258926</td>\n",
       "      <td>2019-08-15</td>\n",
       "      <td>1650</td>\n",
       "      <td>B</td>\n",
       "    </tr>\n",
       "    <tr>\n",
       "      <th>1</th>\n",
       "      <td>2804400009</td>\n",
       "      <td>3642806036</td>\n",
       "      <td>2019-08-15</td>\n",
       "      <td>730</td>\n",
       "      <td>B</td>\n",
       "    </tr>\n",
       "    <tr>\n",
       "      <th>2</th>\n",
       "      <td>2961555356</td>\n",
       "      <td>4069496402</td>\n",
       "      <td>2019-08-15</td>\n",
       "      <td>400</td>\n",
       "      <td>A</td>\n",
       "    </tr>\n",
       "    <tr>\n",
       "      <th>3</th>\n",
       "      <td>3797467345</td>\n",
       "      <td>1196621759</td>\n",
       "      <td>2019-08-15</td>\n",
       "      <td>9759</td>\n",
       "      <td>B</td>\n",
       "    </tr>\n",
       "    <tr>\n",
       "      <th>4</th>\n",
       "      <td>2282983706</td>\n",
       "      <td>2322279887</td>\n",
       "      <td>2019-08-15</td>\n",
       "      <td>2308</td>\n",
       "      <td>B</td>\n",
       "    </tr>\n",
       "  </tbody>\n",
       "</table>\n",
       "</div>"
      ],
      "text/plain": [
       "   transactionId   visitorId        date  revenue group\n",
       "0  3667963787     3312258926  2019-08-15  1650     B   \n",
       "1  2804400009     3642806036  2019-08-15  730      B   \n",
       "2  2961555356     4069496402  2019-08-15  400      A   \n",
       "3  3797467345     1196621759  2019-08-15  9759     B   \n",
       "4  2282983706     2322279887  2019-08-15  2308     B   "
      ]
     },
     "metadata": {},
     "output_type": "display_data"
    },
    {
     "name": "stdout",
     "output_type": "stream",
     "text": [
      "<class 'pandas.core.frame.DataFrame'>\n",
      "RangeIndex: 1197 entries, 0 to 1196\n",
      "Data columns (total 5 columns):\n",
      " #   Column         Non-Null Count  Dtype \n",
      "---  ------         --------------  ----- \n",
      " 0   transactionId  1197 non-null   int64 \n",
      " 1   visitorId      1197 non-null   int64 \n",
      " 2   date           1197 non-null   object\n",
      " 3   revenue        1197 non-null   int64 \n",
      " 4   group          1197 non-null   object\n",
      "dtypes: int64(3), object(2)\n",
      "memory usage: 46.9+ KB\n",
      "\n",
      "Количество дубликатов: 0\n"
     ]
    }
   ],
   "source": [
    "orders = pd.read_csv('/datasets/orders.csv') # чтение файла с данными и сохранение в orders\n",
    "\n",
    "orders, head, info, duplicates = data_info(orders) # передача функции data_info() orders в качестве аргумента"
   ]
  },
  {
   "cell_type": "code",
   "execution_count": 5,
   "metadata": {},
   "outputs": [
    {
     "data": {
      "text/html": [
       "<div>\n",
       "<style scoped>\n",
       "    .dataframe tbody tr th:only-of-type {\n",
       "        vertical-align: middle;\n",
       "    }\n",
       "\n",
       "    .dataframe tbody tr th {\n",
       "        vertical-align: top;\n",
       "    }\n",
       "\n",
       "    .dataframe thead th {\n",
       "        text-align: right;\n",
       "    }\n",
       "</style>\n",
       "<table border=\"1\" class=\"dataframe\">\n",
       "  <thead>\n",
       "    <tr style=\"text-align: right;\">\n",
       "      <th></th>\n",
       "      <th>date</th>\n",
       "      <th>group</th>\n",
       "      <th>visitors</th>\n",
       "    </tr>\n",
       "  </thead>\n",
       "  <tbody>\n",
       "    <tr>\n",
       "      <th>0</th>\n",
       "      <td>2019-08-01</td>\n",
       "      <td>A</td>\n",
       "      <td>719</td>\n",
       "    </tr>\n",
       "    <tr>\n",
       "      <th>1</th>\n",
       "      <td>2019-08-02</td>\n",
       "      <td>A</td>\n",
       "      <td>619</td>\n",
       "    </tr>\n",
       "    <tr>\n",
       "      <th>2</th>\n",
       "      <td>2019-08-03</td>\n",
       "      <td>A</td>\n",
       "      <td>507</td>\n",
       "    </tr>\n",
       "    <tr>\n",
       "      <th>3</th>\n",
       "      <td>2019-08-04</td>\n",
       "      <td>A</td>\n",
       "      <td>717</td>\n",
       "    </tr>\n",
       "    <tr>\n",
       "      <th>4</th>\n",
       "      <td>2019-08-05</td>\n",
       "      <td>A</td>\n",
       "      <td>756</td>\n",
       "    </tr>\n",
       "  </tbody>\n",
       "</table>\n",
       "</div>"
      ],
      "text/plain": [
       "         date group  visitors\n",
       "0  2019-08-01  A     719     \n",
       "1  2019-08-02  A     619     \n",
       "2  2019-08-03  A     507     \n",
       "3  2019-08-04  A     717     \n",
       "4  2019-08-05  A     756     "
      ]
     },
     "metadata": {},
     "output_type": "display_data"
    },
    {
     "name": "stdout",
     "output_type": "stream",
     "text": [
      "<class 'pandas.core.frame.DataFrame'>\n",
      "RangeIndex: 62 entries, 0 to 61\n",
      "Data columns (total 3 columns):\n",
      " #   Column    Non-Null Count  Dtype \n",
      "---  ------    --------------  ----- \n",
      " 0   date      62 non-null     object\n",
      " 1   group     62 non-null     object\n",
      " 2   visitors  62 non-null     int64 \n",
      "dtypes: int64(1), object(2)\n",
      "memory usage: 1.6+ KB\n",
      "\n",
      "Количество дубликатов: 0\n"
     ]
    }
   ],
   "source": [
    "visitors = pd.read_csv('/datasets/visitors.csv') # чтение файла с данными и сохранение в visitors\n",
    "\n",
    "visitors, head, info, duplicates = data_info(visitors) # передача функции data_info() visitors в качестве аргумента"
   ]
  },
  {
   "cell_type": "code",
   "execution_count": 6,
   "metadata": {},
   "outputs": [
    {
     "data": {
      "text/html": [
       "<div>\n",
       "<style scoped>\n",
       "    .dataframe tbody tr th:only-of-type {\n",
       "        vertical-align: middle;\n",
       "    }\n",
       "\n",
       "    .dataframe tbody tr th {\n",
       "        vertical-align: top;\n",
       "    }\n",
       "\n",
       "    .dataframe thead th {\n",
       "        text-align: right;\n",
       "    }\n",
       "</style>\n",
       "<table border=\"1\" class=\"dataframe\">\n",
       "  <thead>\n",
       "    <tr style=\"text-align: right;\">\n",
       "      <th></th>\n",
       "      <th>date</th>\n",
       "      <th>group</th>\n",
       "      <th>visitors</th>\n",
       "    </tr>\n",
       "  </thead>\n",
       "  <tbody>\n",
       "    <tr>\n",
       "      <th>31</th>\n",
       "      <td>2019-08-01</td>\n",
       "      <td>B</td>\n",
       "      <td>713</td>\n",
       "    </tr>\n",
       "  </tbody>\n",
       "</table>\n",
       "</div>"
      ],
      "text/plain": [
       "          date group  visitors\n",
       "31  2019-08-01  B     713     "
      ]
     },
     "execution_count": 6,
     "metadata": {},
     "output_type": "execute_result"
    }
   ],
   "source": [
    "visitors.query('group == \"B\" and date == \"2019-08-01\"')"
   ]
  },
  {
   "cell_type": "markdown",
   "metadata": {},
   "source": [
    "Из обнаруженных проблем: \n",
    "- некорректные наименования у столбцов `transactionId` и `visitorId` в таблице `orders`; \n",
    "- колонки с датами `date` в обеих таблицах имеют тип данных `object`. \n",
    "\n",
    "Приведём названия столбцов к змеиному регистру и изменим тип данных в `date` на `datetime`:"
   ]
  },
  {
   "cell_type": "code",
   "execution_count": 7,
   "metadata": {},
   "outputs": [],
   "source": [
    "orders = orders.rename(columns={'transactionId': 'transaction_id', 'visitorId': 'visitor_id'})\n",
    "orders['date'] = pd.to_datetime(orders['date'])\n",
    "visitors['date'] = pd.to_datetime(visitors['date'])"
   ]
  },
  {
   "cell_type": "code",
   "execution_count": 8,
   "metadata": {},
   "outputs": [
    {
     "data": {
      "text/plain": [
       "58"
      ]
     },
     "execution_count": 8,
     "metadata": {},
     "output_type": "execute_result"
    }
   ],
   "source": [
    "orders_A = orders[orders['group'] == 'A']  # создание таблицы с клиентами группы А\n",
    "orders_B = orders[orders['group'] == 'B'] # создание таблицы с клиентами группы В\n",
    "orders_AB = orders_A.merge(orders_B, on='visitor_id', how='inner') # объединение таблиц по общему visitor_id\n",
    "orders_AB['visitor_id'].nunique() # подсчет кол-ва уникальных значений visitor_id"
   ]
  },
  {
   "cell_type": "code",
   "execution_count": 9,
   "metadata": {},
   "outputs": [],
   "source": [
    "orders_AB = orders_AB['visitor_id'].unique() # создание списка уникальных наименований visitor_id из orders_AB\n",
    "orders = orders.query('visitor_id not in @orders_AB').reset_index(drop=True) # исключение этих клиентов из orders"
   ]
  },
  {
   "cell_type": "code",
   "execution_count": 10,
   "metadata": {},
   "outputs": [
    {
     "name": "stdout",
     "output_type": "stream",
     "text": [
      "Количество пользователей в группе А: 445\n",
      "Количество пользователей в группе В: 528\n"
     ]
    }
   ],
   "source": [
    "print('Количество пользователей в группе А:', orders[orders['group'] == 'A']['visitor_id'].nunique())\n",
    "print('Количество пользователей в группе В:', orders[orders['group'] == 'B']['visitor_id'].nunique())"
   ]
  },
  {
   "cell_type": "markdown",
   "metadata": {},
   "source": [
    "## Приоритизация гипотез"
   ]
  },
  {
   "cell_type": "markdown",
   "metadata": {},
   "source": [
    "Теперь посчитаем приоритеты по гипотезам на основании имеющихся оценок параметров. Определим ICE:"
   ]
  },
  {
   "cell_type": "code",
   "execution_count": 11,
   "metadata": {},
   "outputs": [
    {
     "data": {
      "text/html": [
       "<style  type=\"text/css\" >\n",
       "</style><table id=\"T_e08e2_\" ><thead>    <tr>        <th class=\"blank level0\" ></th>        <th class=\"col_heading level0 col0\" >Hypothesis</th>        <th class=\"col_heading level0 col1\" >ICE</th>    </tr></thead><tbody>\n",
       "                <tr>\n",
       "                        <th id=\"T_e08e2_level0_row0\" class=\"row_heading level0 row0\" >0</th>\n",
       "                        <td id=\"T_e08e2_row0_col0\" class=\"data row0 col0\" >Запустить акцию, дающую скидку на товар в день рождения</td>\n",
       "                        <td id=\"T_e08e2_row0_col1\" class=\"data row0 col1\" >16.20</td>\n",
       "            </tr>\n",
       "            <tr>\n",
       "                        <th id=\"T_e08e2_level0_row1\" class=\"row_heading level0 row1\" >1</th>\n",
       "                        <td id=\"T_e08e2_row1_col0\" class=\"data row1 col0\" >Добавить два новых канала привлечения трафика, что позволит привлекать на 30% больше пользователей</td>\n",
       "                        <td id=\"T_e08e2_row1_col1\" class=\"data row1 col1\" >13.33</td>\n",
       "            </tr>\n",
       "            <tr>\n",
       "                        <th id=\"T_e08e2_level0_row2\" class=\"row_heading level0 row2\" >2</th>\n",
       "                        <td id=\"T_e08e2_row2_col0\" class=\"data row2 col0\" >Добавить форму подписки на все основные страницы, чтобы собрать базу клиентов для email-рассылок</td>\n",
       "                        <td id=\"T_e08e2_row2_col1\" class=\"data row2 col1\" >11.20</td>\n",
       "            </tr>\n",
       "            <tr>\n",
       "                        <th id=\"T_e08e2_level0_row3\" class=\"row_heading level0 row3\" >3</th>\n",
       "                        <td id=\"T_e08e2_row3_col0\" class=\"data row3 col0\" >Показать на главной странице баннеры с актуальными акциями и распродажами, чтобы увеличить конверсию</td>\n",
       "                        <td id=\"T_e08e2_row3_col1\" class=\"data row3 col1\" >8.00</td>\n",
       "            </tr>\n",
       "            <tr>\n",
       "                        <th id=\"T_e08e2_level0_row4\" class=\"row_heading level0 row4\" >4</th>\n",
       "                        <td id=\"T_e08e2_row4_col0\" class=\"data row4 col0\" >Добавить блоки рекомендаций товаров на сайт интернет магазина, чтобы повысить конверсию и средний чек заказа</td>\n",
       "                        <td id=\"T_e08e2_row4_col1\" class=\"data row4 col1\" >7.00</td>\n",
       "            </tr>\n",
       "            <tr>\n",
       "                        <th id=\"T_e08e2_level0_row5\" class=\"row_heading level0 row5\" >5</th>\n",
       "                        <td id=\"T_e08e2_row5_col0\" class=\"data row5 col0\" >Запустить собственную службу доставки, что сократит срок доставки заказов</td>\n",
       "                        <td id=\"T_e08e2_row5_col1\" class=\"data row5 col1\" >2.00</td>\n",
       "            </tr>\n",
       "            <tr>\n",
       "                        <th id=\"T_e08e2_level0_row6\" class=\"row_heading level0 row6\" >6</th>\n",
       "                        <td id=\"T_e08e2_row6_col0\" class=\"data row6 col0\" >Добавить страницу отзывов клиентов о магазине, что позволит увеличить количество заказов</td>\n",
       "                        <td id=\"T_e08e2_row6_col1\" class=\"data row6 col1\" >1.33</td>\n",
       "            </tr>\n",
       "            <tr>\n",
       "                        <th id=\"T_e08e2_level0_row7\" class=\"row_heading level0 row7\" >7</th>\n",
       "                        <td id=\"T_e08e2_row7_col0\" class=\"data row7 col0\" >Изменить структура категорий, что увеличит конверсию, т.к. пользователи быстрее найдут нужный товар</td>\n",
       "                        <td id=\"T_e08e2_row7_col1\" class=\"data row7 col1\" >1.12</td>\n",
       "            </tr>\n",
       "            <tr>\n",
       "                        <th id=\"T_e08e2_level0_row8\" class=\"row_heading level0 row8\" >8</th>\n",
       "                        <td id=\"T_e08e2_row8_col0\" class=\"data row8 col0\" >Изменить цвет фона главной страницы, чтобы увеличить вовлеченность пользователей</td>\n",
       "                        <td id=\"T_e08e2_row8_col1\" class=\"data row8 col1\" >1.00</td>\n",
       "            </tr>\n",
       "    </tbody></table>"
      ],
      "text/plain": [
       "<pandas.io.formats.style.Styler at 0x7f4d53b08c70>"
      ]
     },
     "execution_count": 11,
     "metadata": {},
     "output_type": "execute_result"
    }
   ],
   "source": [
    "# создание столбца ICE с результатами расчётов по каждой гипотезе\n",
    "hypothesis['ICE'] = hypothesis['Impact'] * hypothesis['Confidence'] / hypothesis['Efforts']\n",
    "hypothesis[['Hypothesis', 'ICE']].sort_values(by='ICE', ascending=False).reset_index(drop=True).style.format({'ICE': '{:.2f}'})"
   ]
  },
  {
   "cell_type": "markdown",
   "metadata": {},
   "source": [
    "Согласно расчета `ICE`, самые перспективные гипотезы: \n",
    "- Запустить акцию, дающую скидку на товар в день рождения,\n",
    "- Добавить два новых канала привлечения трафика,\n",
    "- Добавить форму подписки на все основные страницы, чтобы собрать базу клиентов для email-рассылок.\n",
    "\n",
    "Теперь посчитаем `RICE`:"
   ]
  },
  {
   "cell_type": "code",
   "execution_count": 12,
   "metadata": {},
   "outputs": [
    {
     "data": {
      "text/html": [
       "<div>\n",
       "<style scoped>\n",
       "    .dataframe tbody tr th:only-of-type {\n",
       "        vertical-align: middle;\n",
       "    }\n",
       "\n",
       "    .dataframe tbody tr th {\n",
       "        vertical-align: top;\n",
       "    }\n",
       "\n",
       "    .dataframe thead th {\n",
       "        text-align: right;\n",
       "    }\n",
       "</style>\n",
       "<table border=\"1\" class=\"dataframe\">\n",
       "  <thead>\n",
       "    <tr style=\"text-align: right;\">\n",
       "      <th></th>\n",
       "      <th>Hypothesis</th>\n",
       "      <th>RICE</th>\n",
       "    </tr>\n",
       "  </thead>\n",
       "  <tbody>\n",
       "    <tr>\n",
       "      <th>0</th>\n",
       "      <td>Добавить форму подписки на все основные страницы, чтобы собрать базу клиентов для email-рассылок</td>\n",
       "      <td>112.0</td>\n",
       "    </tr>\n",
       "    <tr>\n",
       "      <th>1</th>\n",
       "      <td>Добавить блоки рекомендаций товаров на сайт интернет магазина, чтобы повысить конверсию и средний чек заказа</td>\n",
       "      <td>56.0</td>\n",
       "    </tr>\n",
       "    <tr>\n",
       "      <th>2</th>\n",
       "      <td>Добавить два новых канала привлечения трафика, что позволит привлекать на 30% больше пользователей</td>\n",
       "      <td>40.0</td>\n",
       "    </tr>\n",
       "    <tr>\n",
       "      <th>3</th>\n",
       "      <td>Показать на главной странице баннеры с актуальными акциями и распродажами, чтобы увеличить конверсию</td>\n",
       "      <td>40.0</td>\n",
       "    </tr>\n",
       "    <tr>\n",
       "      <th>4</th>\n",
       "      <td>Запустить акцию, дающую скидку на товар в день рождения</td>\n",
       "      <td>16.2</td>\n",
       "    </tr>\n",
       "    <tr>\n",
       "      <th>5</th>\n",
       "      <td>Изменить структура категорий, что увеличит конверсию, т.к. пользователи быстрее найдут нужный товар</td>\n",
       "      <td>9.0</td>\n",
       "    </tr>\n",
       "    <tr>\n",
       "      <th>6</th>\n",
       "      <td>Запустить собственную службу доставки, что сократит срок доставки заказов</td>\n",
       "      <td>4.0</td>\n",
       "    </tr>\n",
       "    <tr>\n",
       "      <th>7</th>\n",
       "      <td>Добавить страницу отзывов клиентов о магазине, что позволит увеличить количество заказов</td>\n",
       "      <td>4.0</td>\n",
       "    </tr>\n",
       "    <tr>\n",
       "      <th>8</th>\n",
       "      <td>Изменить цвет фона главной страницы, чтобы увеличить вовлеченность пользователей</td>\n",
       "      <td>3.0</td>\n",
       "    </tr>\n",
       "  </tbody>\n",
       "</table>\n",
       "</div>"
      ],
      "text/plain": [
       "                                                                                                     Hypothesis  \\\n",
       "0  Добавить форму подписки на все основные страницы, чтобы собрать базу клиентов для email-рассылок               \n",
       "1  Добавить блоки рекомендаций товаров на сайт интернет магазина, чтобы повысить конверсию и средний чек заказа   \n",
       "2  Добавить два новых канала привлечения трафика, что позволит привлекать на 30% больше пользователей             \n",
       "3  Показать на главной странице баннеры с актуальными акциями и распродажами, чтобы увеличить конверсию           \n",
       "4  Запустить акцию, дающую скидку на товар в день рождения                                                        \n",
       "5  Изменить структура категорий, что увеличит конверсию, т.к. пользователи быстрее найдут нужный товар            \n",
       "6  Запустить собственную службу доставки, что сократит срок доставки заказов                                      \n",
       "7  Добавить страницу отзывов клиентов о магазине, что позволит увеличить количество заказов                       \n",
       "8  Изменить цвет фона главной страницы, чтобы увеличить вовлеченность пользователей                               \n",
       "\n",
       "    RICE  \n",
       "0  112.0  \n",
       "1  56.0   \n",
       "2  40.0   \n",
       "3  40.0   \n",
       "4  16.2   \n",
       "5  9.0    \n",
       "6  4.0    \n",
       "7  4.0    \n",
       "8  3.0    "
      ]
     },
     "execution_count": 12,
     "metadata": {},
     "output_type": "execute_result"
    }
   ],
   "source": [
    "# создание столбца RICE с результатами расчётов по каждой гипотезе\n",
    "hypothesis['RICE'] = hypothesis['Reach'] * hypothesis['Impact'] * hypothesis['Confidence'] / hypothesis['Efforts']\n",
    "hypothesis[['Hypothesis', 'RICE']].sort_values(by='RICE', ascending=False).reset_index(drop=True)"
   ]
  },
  {
   "cell_type": "code",
   "execution_count": 13,
   "metadata": {},
   "outputs": [
    {
     "data": {
      "text/html": [
       "<style  type=\"text/css\" >\n",
       "#T_8469f_row0_col1,#T_8469f_row4_col2{\n",
       "            color: white;\n",
       "            background-color: darkblue;\n",
       "        }</style><table id=\"T_8469f_\" ><thead>    <tr>        <th class=\"blank level0\" ></th>        <th class=\"col_heading level0 col0\" >Hypothesis</th>        <th class=\"col_heading level0 col1\" >RICE</th>        <th class=\"col_heading level0 col2\" >ICE</th>    </tr></thead><tbody>\n",
       "                <tr>\n",
       "                        <th id=\"T_8469f_level0_row0\" class=\"row_heading level0 row0\" >0</th>\n",
       "                        <td id=\"T_8469f_row0_col0\" class=\"data row0 col0\" >Добавить форму подписки на все основные страницы, чтобы собрать базу клиентов для email-рассылок</td>\n",
       "                        <td id=\"T_8469f_row0_col1\" class=\"data row0 col1\" >112.000000</td>\n",
       "                        <td id=\"T_8469f_row0_col2\" class=\"data row0 col2\" >11.20</td>\n",
       "            </tr>\n",
       "            <tr>\n",
       "                        <th id=\"T_8469f_level0_row1\" class=\"row_heading level0 row1\" >1</th>\n",
       "                        <td id=\"T_8469f_row1_col0\" class=\"data row1 col0\" >Добавить блоки рекомендаций товаров на сайт интернет магазина, чтобы повысить конверсию и средний чек заказа</td>\n",
       "                        <td id=\"T_8469f_row1_col1\" class=\"data row1 col1\" >56.000000</td>\n",
       "                        <td id=\"T_8469f_row1_col2\" class=\"data row1 col2\" >7.00</td>\n",
       "            </tr>\n",
       "            <tr>\n",
       "                        <th id=\"T_8469f_level0_row2\" class=\"row_heading level0 row2\" >2</th>\n",
       "                        <td id=\"T_8469f_row2_col0\" class=\"data row2 col0\" >Добавить два новых канала привлечения трафика, что позволит привлекать на 30% больше пользователей</td>\n",
       "                        <td id=\"T_8469f_row2_col1\" class=\"data row2 col1\" >40.000000</td>\n",
       "                        <td id=\"T_8469f_row2_col2\" class=\"data row2 col2\" >13.33</td>\n",
       "            </tr>\n",
       "            <tr>\n",
       "                        <th id=\"T_8469f_level0_row3\" class=\"row_heading level0 row3\" >3</th>\n",
       "                        <td id=\"T_8469f_row3_col0\" class=\"data row3 col0\" >Показать на главной странице баннеры с актуальными акциями и распродажами, чтобы увеличить конверсию</td>\n",
       "                        <td id=\"T_8469f_row3_col1\" class=\"data row3 col1\" >40.000000</td>\n",
       "                        <td id=\"T_8469f_row3_col2\" class=\"data row3 col2\" >8.00</td>\n",
       "            </tr>\n",
       "            <tr>\n",
       "                        <th id=\"T_8469f_level0_row4\" class=\"row_heading level0 row4\" >4</th>\n",
       "                        <td id=\"T_8469f_row4_col0\" class=\"data row4 col0\" >Запустить акцию, дающую скидку на товар в день рождения</td>\n",
       "                        <td id=\"T_8469f_row4_col1\" class=\"data row4 col1\" >16.200000</td>\n",
       "                        <td id=\"T_8469f_row4_col2\" class=\"data row4 col2\" >16.20</td>\n",
       "            </tr>\n",
       "            <tr>\n",
       "                        <th id=\"T_8469f_level0_row5\" class=\"row_heading level0 row5\" >5</th>\n",
       "                        <td id=\"T_8469f_row5_col0\" class=\"data row5 col0\" >Изменить структура категорий, что увеличит конверсию, т.к. пользователи быстрее найдут нужный товар</td>\n",
       "                        <td id=\"T_8469f_row5_col1\" class=\"data row5 col1\" >9.000000</td>\n",
       "                        <td id=\"T_8469f_row5_col2\" class=\"data row5 col2\" >1.12</td>\n",
       "            </tr>\n",
       "            <tr>\n",
       "                        <th id=\"T_8469f_level0_row6\" class=\"row_heading level0 row6\" >6</th>\n",
       "                        <td id=\"T_8469f_row6_col0\" class=\"data row6 col0\" >Запустить собственную службу доставки, что сократит срок доставки заказов</td>\n",
       "                        <td id=\"T_8469f_row6_col1\" class=\"data row6 col1\" >4.000000</td>\n",
       "                        <td id=\"T_8469f_row6_col2\" class=\"data row6 col2\" >2.00</td>\n",
       "            </tr>\n",
       "            <tr>\n",
       "                        <th id=\"T_8469f_level0_row7\" class=\"row_heading level0 row7\" >7</th>\n",
       "                        <td id=\"T_8469f_row7_col0\" class=\"data row7 col0\" >Добавить страницу отзывов клиентов о магазине, что позволит увеличить количество заказов</td>\n",
       "                        <td id=\"T_8469f_row7_col1\" class=\"data row7 col1\" >4.000000</td>\n",
       "                        <td id=\"T_8469f_row7_col2\" class=\"data row7 col2\" >1.33</td>\n",
       "            </tr>\n",
       "            <tr>\n",
       "                        <th id=\"T_8469f_level0_row8\" class=\"row_heading level0 row8\" >8</th>\n",
       "                        <td id=\"T_8469f_row8_col0\" class=\"data row8 col0\" >Изменить цвет фона главной страницы, чтобы увеличить вовлеченность пользователей</td>\n",
       "                        <td id=\"T_8469f_row8_col1\" class=\"data row8 col1\" >3.000000</td>\n",
       "                        <td id=\"T_8469f_row8_col2\" class=\"data row8 col2\" >1.00</td>\n",
       "            </tr>\n",
       "    </tbody></table>"
      ],
      "text/plain": [
       "<pandas.io.formats.style.Styler at 0x7f4d538f1ca0>"
      ]
     },
     "execution_count": 13,
     "metadata": {},
     "output_type": "execute_result"
    }
   ],
   "source": [
    "def highlight_max(s, props=''):\n",
    "    return np.where(s == np.nanmax(s.values), props, '')\n",
    "hypothesis[['Hypothesis', 'RICE', 'ICE']].sort_values(by='RICE', ascending=False).reset_index(drop=True).style.format({'ICE': '{:.2f}'}).apply(highlight_max, props='color:white;background-color:darkblue', axis=0, subset=['RICE', 'ICE'])"
   ]
  },
  {
   "cell_type": "markdown",
   "metadata": {},
   "source": [
    "По результатам `RICE` дальше всех вперёд выбивается гипотеза **\"Добавить форму подписки на все основные страницы, чтобы собрать базу клиентов для email-рассылок\"**, что логично - показатель `Reach` равен 10, так как изменение затронет всех пользователей нашего интернет-магазина. `Impact` и `Confidence` у этой гипотезы тоже выше среднего, а траты на её тестирование не столь высоки.\n",
    "\n",
    "А вот лидер `ICE` **\"Запустить акцию, дающую скидку на товар в день рождения\"** при подсчете `RICE` сильно потерял свои позиции, так как имеет минимальный показатель `Reach` - это нововведение коснётся лишь небольшого процента именинников и при остальных преимуществах (высокие `Impact` и `Confidence`) не столь целесообразно."
   ]
  },
  {
   "cell_type": "markdown",
   "metadata": {},
   "source": [
    "## Анализ A/B-теста"
   ]
  },
  {
   "cell_type": "markdown",
   "metadata": {},
   "source": [
    "Проанализируем имеющиеся у нас результаты A/B-теста."
   ]
  },
  {
   "cell_type": "markdown",
   "metadata": {},
   "source": [
    "### Анализ кумулятивной выручки по группам"
   ]
  },
  {
   "cell_type": "markdown",
   "metadata": {},
   "source": [
    "Оценим кумулятивную (накапливаемую) выручку по обеим группам. Для этого сначала соберём кумулятивные данные в таблицу `cumulativeData`:"
   ]
  },
  {
   "cell_type": "code",
   "execution_count": 14,
   "metadata": {},
   "outputs": [
    {
     "data": {
      "text/html": [
       "<div>\n",
       "<style scoped>\n",
       "    .dataframe tbody tr th:only-of-type {\n",
       "        vertical-align: middle;\n",
       "    }\n",
       "\n",
       "    .dataframe tbody tr th {\n",
       "        vertical-align: top;\n",
       "    }\n",
       "\n",
       "    .dataframe thead th {\n",
       "        text-align: right;\n",
       "    }\n",
       "</style>\n",
       "<table border=\"1\" class=\"dataframe\">\n",
       "  <thead>\n",
       "    <tr style=\"text-align: right;\">\n",
       "      <th></th>\n",
       "      <th>date</th>\n",
       "      <th>group</th>\n",
       "      <th>orders</th>\n",
       "      <th>buyers</th>\n",
       "      <th>revenue</th>\n",
       "      <th>visitors</th>\n",
       "    </tr>\n",
       "  </thead>\n",
       "  <tbody>\n",
       "    <tr>\n",
       "      <th>0</th>\n",
       "      <td>2019-08-01</td>\n",
       "      <td>A</td>\n",
       "      <td>23</td>\n",
       "      <td>19</td>\n",
       "      <td>142779</td>\n",
       "      <td>719</td>\n",
       "    </tr>\n",
       "    <tr>\n",
       "      <th>1</th>\n",
       "      <td>2019-08-01</td>\n",
       "      <td>B</td>\n",
       "      <td>17</td>\n",
       "      <td>17</td>\n",
       "      <td>59758</td>\n",
       "      <td>713</td>\n",
       "    </tr>\n",
       "    <tr>\n",
       "      <th>2</th>\n",
       "      <td>2019-08-02</td>\n",
       "      <td>A</td>\n",
       "      <td>42</td>\n",
       "      <td>36</td>\n",
       "      <td>234381</td>\n",
       "      <td>1338</td>\n",
       "    </tr>\n",
       "    <tr>\n",
       "      <th>3</th>\n",
       "      <td>2019-08-02</td>\n",
       "      <td>B</td>\n",
       "      <td>40</td>\n",
       "      <td>39</td>\n",
       "      <td>221801</td>\n",
       "      <td>1294</td>\n",
       "    </tr>\n",
       "    <tr>\n",
       "      <th>4</th>\n",
       "      <td>2019-08-03</td>\n",
       "      <td>A</td>\n",
       "      <td>66</td>\n",
       "      <td>60</td>\n",
       "      <td>346854</td>\n",
       "      <td>1845</td>\n",
       "    </tr>\n",
       "  </tbody>\n",
       "</table>\n",
       "</div>"
      ],
      "text/plain": [
       "        date group  orders  buyers  revenue  visitors\n",
       "0 2019-08-01  A     23      19      142779   719     \n",
       "1 2019-08-01  B     17      17      59758    713     \n",
       "2 2019-08-02  A     42      36      234381   1338    \n",
       "3 2019-08-02  B     40      39      221801   1294    \n",
       "4 2019-08-03  A     66      60      346854   1845    "
      ]
     },
     "execution_count": 14,
     "metadata": {},
     "output_type": "execute_result"
    }
   ],
   "source": [
    "# создание уникальных пар дата-группа\n",
    "datesGroups = orders[['date', 'group']].drop_duplicates()\n",
    "\n",
    "# получение агрегированных кумулятивных данных о заказах по дням\n",
    "ordersAggregated = datesGroups.apply(lambda x: orders[np.logical_and(orders['date'] <= x['date'], orders['group'] == x['group'])].agg({'date' : 'max', 'group' : 'max', 'transaction_id' : 'nunique', 'visitor_id' : 'nunique', 'revenue' : 'sum'}), axis=1).sort_values(by=['date','group'])\n",
    "\n",
    "# получение агрегированных кумулятивных данных о посетителях по дням\n",
    "visitorsAggregated = datesGroups.apply(lambda x: visitors[np.logical_and(visitors['date'] <= x['date'], visitors['group'] == x['group'])].agg({'date' : 'max', 'group' : 'max', 'visitors' : 'sum'}), axis=1).sort_values(by=['date','group'])\n",
    "\n",
    "# объединение ordersAggregated и visitorsAggregated\n",
    "cumulativeData = ordersAggregated.merge(visitorsAggregated, on=['date','group'])\n",
    "\n",
    "# переименование столбцов\n",
    "cumulativeData.columns = ['date', 'group', 'orders', 'buyers', 'revenue', 'visitors']\n",
    "cumulativeData.head()"
   ]
  },
  {
   "cell_type": "markdown",
   "metadata": {},
   "source": [
    "Теперь, когда кумулятивные данные собраны в одной таблице, можно переходить к анализу выручки по группам A/B-тестирования. Выделим в отдельные датафреймы данные с кумулятивным количеством заказов и кумулятивной выручкой в каждой группе:"
   ]
  },
  {
   "cell_type": "code",
   "execution_count": 15,
   "metadata": {},
   "outputs": [],
   "source": [
    "cumulativeRevenueA = cumulativeData[cumulativeData['group']=='A'][['date','revenue', 'orders']]\n",
    "cumulativeRevenueB = cumulativeData[cumulativeData['group']=='B'][['date','revenue', 'orders']]"
   ]
  },
  {
   "cell_type": "markdown",
   "metadata": {},
   "source": [
    "Построим графики кумулятивной выручки обеих групп:"
   ]
  },
  {
   "cell_type": "code",
   "execution_count": 16,
   "metadata": {},
   "outputs": [
    {
     "data": {
      "image/png": "[encoded data removed]",
      "text/plain": [
       "<Figure size 720x360 with 1 Axes>"
      ]
     },
     "metadata": {
      "needs_background": "light"
     },
     "output_type": "display_data"
    }
   ],
   "source": [
    "plt.figure(figsize=(10,5))\n",
    "plt.plot(cumulativeRevenueA['date'], cumulativeRevenueA['revenue'], label='группа A')\n",
    "plt.plot(cumulativeRevenueB['date'], cumulativeRevenueB['revenue'], label='группа Б')\n",
    "plt.xlabel('Дата')\n",
    "plt.ylabel('Объём кумулятивной выручки')\n",
    "plt.title('Кумулятивная выручка А/Б групп' + '\\n')\n",
    "plt.annotate('скачок', xy=('2019-08-17', 2800000), xytext=('2019-08-10', 3500000),\n",
    "            arrowprops=dict(facecolor='g'))\n",
    "plt.annotate('отрыв', xy=('2019-08-05', 800000), xytext=('2019-08-05', 2000000),\n",
    "            arrowprops=dict(facecolor='g'))\n",
    "plt.legend();"
   ]
  },
  {
   "cell_type": "markdown",
   "metadata": {},
   "source": [
    "Первые несколько дней кумулятивная выручка обеих групп увеличивалась равномерно, далее выручка группы \"В\" начала расти увереннее, чем у группы \"А\", а **19-го августа выручка группы \"В\" сделала резкий скачок** и, таким образом, в дальнейшем существенно опередила группу \"А\". Это может говорить нам о всплеске числа заказов в группе \"В\", либо о наличии в выборке очень дорогих заказов.\n",
    "\n",
    "С 5 августа у группы \"А\" наблюдается небольшой спад и последовавший за ним некоторый всплеск 13-го августа."
   ]
  },
  {
   "cell_type": "markdown",
   "metadata": {},
   "source": [
    "### Анализ кумулятивного среднего чека по группам"
   ]
  },
  {
   "cell_type": "markdown",
   "metadata": {},
   "source": [
    "Посмотрим, как обстоят дела с кумулятивным средним чеком:"
   ]
  },
  {
   "cell_type": "code",
   "execution_count": 17,
   "metadata": {
    "scrolled": true
   },
   "outputs": [
    {
     "data": {
      "image/png": "[encoded data removed]",
      "text/plain": [
       "<Figure size 720x360 with 1 Axes>"
      ]
     },
     "metadata": {
      "needs_background": "light"
     },
     "output_type": "display_data"
    }
   ],
   "source": [
    "plt.figure(figsize=(10,5))\n",
    "plt.plot(cumulativeRevenueA['date'], cumulativeRevenueA['revenue']/cumulativeRevenueA['orders'], label='группа A')\n",
    "plt.plot(cumulativeRevenueB['date'], cumulativeRevenueB['revenue']/cumulativeRevenueB['orders'], label='группа Б')\n",
    "plt.xlabel('Дата')\n",
    "plt.ylabel('Кумулятивный средний чек')\n",
    "plt.title('Кумулятивный средний чек А/Б групп' + '\\n')\n",
    "plt.annotate('скачок', xy=('2019-08-17', 9000), xytext=('2019-08-10', 9500),\n",
    "            arrowprops=dict(facecolor='g'))\n",
    "plt.annotate('скачок', xy=('2019-08-13', 7500), xytext=('2019-08-10', 9500),\n",
    "            arrowprops=dict(facecolor='g'))\n",
    "plt.legend();"
   ]
  },
  {
   "cell_type": "markdown",
   "metadata": {},
   "source": [
    "Здесь мы тоже наблюдаем, что 19-го августа в группе \"В\" произошла аномально дорогостоящая покупка, после чего средний чек постепенно выравнивается. Уровень среднего чека для группы \"А\" установился уже с 14-го августа, после скачка от 13-го августа."
   ]
  },
  {
   "cell_type": "markdown",
   "metadata": {},
   "source": [
    "Оценим **относительное изменение кумулятивного среднего чека группы \"B\" к группе \"A\"**. Для этого соберем данные в одном датафрейме `mergedCumulativeRevenue`, объединив `cumulativeRevenueA` и `cumulativeRevenueB` и добавив наименованиям столбцов соответствующие суффиксы:"
   ]
  },
  {
   "cell_type": "code",
   "execution_count": 18,
   "metadata": {},
   "outputs": [],
   "source": [
    "mergedCumulativeRevenue = cumulativeRevenueA.merge(cumulativeRevenueB, on='date', suffixes=['A', 'B'])"
   ]
  },
  {
   "cell_type": "markdown",
   "metadata": {},
   "source": [
    "Теперь построим график относительного различия для среднего чека: "
   ]
  },
  {
   "cell_type": "code",
   "execution_count": 19,
   "metadata": {},
   "outputs": [
    {
     "data": {
      "image/png": "[encoded data removed]",
      "text/plain": [
       "<Figure size 720x360 with 1 Axes>"
      ]
     },
     "metadata": {
      "needs_background": "light"
     },
     "output_type": "display_data"
    }
   ],
   "source": [
    "plt.figure(figsize=(10,5))\n",
    "plt.plot(mergedCumulativeRevenue['date'], (mergedCumulativeRevenue['revenueB']/mergedCumulativeRevenue['ordersB'])/(mergedCumulativeRevenue['revenueA']/mergedCumulativeRevenue['ordersA'])-1)\n",
    "plt.title(\"Относительный прирост среднего чека группы Б относительно группы A\" + '\\n')\n",
    "plt.axhline(y=0, color='black', linestyle='--');"
   ]
  },
  {
   "cell_type": "markdown",
   "metadata": {},
   "source": [
    "В выборке очевидны выбросы и аномалии, так как график различия между сегментами резко «скачет» в нескольких местах."
   ]
  },
  {
   "cell_type": "markdown",
   "metadata": {},
   "source": [
    "### Анализ кумулятивной конверсии по группам"
   ]
  },
  {
   "cell_type": "markdown",
   "metadata": {},
   "source": [
    "Аналогичным образом проанализируем кумулятивную конверсию по группам. Поэтому в нашей основной таблице `cumulativeData` создадим столбец `conversion` с показателем конверсии и получившийся датафрейм разделим на две таблицы с данными по каждой группе:"
   ]
  },
  {
   "cell_type": "code",
   "execution_count": 20,
   "metadata": {},
   "outputs": [],
   "source": [
    "cumulativeData['conversion'] = cumulativeData['orders'] / cumulativeData['visitors']\n",
    "cumulativeDataA = cumulativeData[cumulativeData['group']=='A']\n",
    "cumulativeDataB = cumulativeData[cumulativeData['group']=='B']"
   ]
  },
  {
   "cell_type": "markdown",
   "metadata": {},
   "source": [
    "Построим график:"
   ]
  },
  {
   "cell_type": "code",
   "execution_count": 21,
   "metadata": {},
   "outputs": [
    {
     "data": {
      "image/png": "[encoded data removed]",
      "text/plain": [
       "<Figure size 720x360 with 1 Axes>"
      ]
     },
     "metadata": {
      "needs_background": "light"
     },
     "output_type": "display_data"
    }
   ],
   "source": [
    "plt.figure(figsize=(10,5))\n",
    "plt.plot(cumulativeDataA['date'], cumulativeDataA['conversion'], label='группа A')\n",
    "plt.plot(cumulativeDataB['date'], cumulativeDataB['conversion'], label='группа Б')\n",
    "plt.legend()\n",
    "plt.axis([dt.datetime(2019, 8, 1), dt.datetime(2019, 8, 31), 0, 0.05])\n",
    "plt.title(\"Кумулятивная конверсия А/Б групп\" + '\\n')\n",
    "plt.annotate('отрыв', xy=('2019-08-06', 0.032), xytext=('2019-08-06', 0.042),\n",
    "            arrowprops=dict(facecolor='g'))\n",
    "plt.xlabel('Дата')\n",
    "plt.ylabel('Уровень кумулятивной конверсии');"
   ]
  },
  {
   "cell_type": "markdown",
   "metadata": {},
   "source": [
    "Первые несколько дней конверсия группы \"А\" была лучше, но 6 августа конверсия группы \"В\" вырвалась вперёд и зафиксировалась, а конверсия группы \"А\" просела и также зафиксировалась."
   ]
  },
  {
   "cell_type": "markdown",
   "metadata": {},
   "source": [
    "Посмотрим на **относительное изменение кумулятивной конверсии группы \"B\" к группе \"A\"**. Сначала объединим `cumulativeDataA` и `cumulativeDataB` в датафрейм `mergedCumulativeConversions`:"
   ]
  },
  {
   "cell_type": "code",
   "execution_count": 22,
   "metadata": {},
   "outputs": [],
   "source": [
    "mergedCumulativeConversions = (\n",
    "    cumulativeDataA[['date','conversion']]\n",
    "    .merge(cumulativeDataB[['date','conversion']], left_on='date', right_on='date', how='left', suffixes=['A', 'B'])\n",
    ")"
   ]
  },
  {
   "cell_type": "markdown",
   "metadata": {},
   "source": [
    "И изучим информацию на графике:"
   ]
  },
  {
   "cell_type": "code",
   "execution_count": 23,
   "metadata": {},
   "outputs": [
    {
     "data": {
      "image/png": "[encoded data removed]",
      "text/plain": [
       "<Figure size 720x360 with 1 Axes>"
      ]
     },
     "metadata": {
      "needs_background": "light"
     },
     "output_type": "display_data"
    }
   ],
   "source": [
    "plt.figure(figsize=(10,5))\n",
    "plt.plot(mergedCumulativeConversions['date'], mergedCumulativeConversions['conversionB']/mergedCumulativeConversions['conversionA']-1)\n",
    "plt.title(\"Относительный прирост конверсии группы Б относительно группы A\" + '\\n')\n",
    "plt.axhline(y=0, color='black', linestyle='--')\n",
    "plt.axhline(y=0.2, color='grey', linestyle='--')\n",
    "plt.axis([\"2019-08-01\", '2019-08-31', -0.2, 0.3]);"
   ]
  },
  {
   "cell_type": "markdown",
   "metadata": {},
   "source": [
    "Конверсия группы \"B\" несколько проигрывала группе \"A\" только до 6 августа, затем вырвалась вперёд и неизменно удерживалась \"в плюсе\" относительно группы \"А\"."
   ]
  },
  {
   "cell_type": "markdown",
   "metadata": {},
   "source": [
    "### Анализ выбросов и всплесков"
   ]
  },
  {
   "cell_type": "markdown",
   "metadata": {},
   "source": [
    "Уже изученные нами графики продемонстрировали, что в выборке есть аномалии и выбросы. Посмотрим, сколько заказов приходится на одного клиента, для этого сгруппируем таблицу `orders` следующим образом:"
   ]
  },
  {
   "cell_type": "code",
   "execution_count": 24,
   "metadata": {},
   "outputs": [],
   "source": [
    "ordersByUsers = orders.groupby('visitor_id', as_index=False).agg({'transaction_id': pd.Series.nunique})\n",
    "ordersByUsers.columns = ['visitor_id', 'orders']"
   ]
  },
  {
   "cell_type": "markdown",
   "metadata": {},
   "source": [
    "Построим точечную диаграмму числа заказов на одного пользователя:"
   ]
  },
  {
   "cell_type": "code",
   "execution_count": 25,
   "metadata": {},
   "outputs": [
    {
     "data": {
      "image/png": "[encoded data removed]",
      "text/plain": [
       "<Figure size 720x360 with 1 Axes>"
      ]
     },
     "metadata": {
      "needs_background": "light"
     },
     "output_type": "display_data"
    }
   ],
   "source": [
    "plt.figure(figsize=(10,5))\n",
    "x_values = pd.Series(range(0, len(ordersByUsers)))\n",
    "y_values = ordersByUsers['orders']\n",
    "plt.scatter(x_values, y_values)\n",
    "plt.yticks([1, 2, 3])\n",
    "plt.title(\"Диаграмма рассеяния числа заказов на одного пользователя\" + '\\n')\n",
    "plt.ylabel('Количество заказов');"
   ]
  },
  {
   "cell_type": "markdown",
   "metadata": {},
   "source": [
    "На диаграмме видно, что чаще всего клиенты делают от 1 заказ, реже - 2, ещё реже - 3. Посчитаем выборочные перцентили количества заказов на одного пользователя:"
   ]
  },
  {
   "cell_type": "code",
   "execution_count": 26,
   "metadata": {},
   "outputs": [
    {
     "data": {
      "text/plain": [
       "array([1., 2.])"
      ]
     },
     "execution_count": 26,
     "metadata": {},
     "output_type": "execute_result"
    }
   ],
   "source": [
    "np.percentile(ordersByUsers['orders'], [95, 99])"
   ]
  },
  {
   "cell_type": "markdown",
   "metadata": {},
   "source": [
    "**Итак, не более 1% пользователей оформляли больше двух заказов.**"
   ]
  },
  {
   "cell_type": "markdown",
   "metadata": {},
   "source": [
    "Поищем выбросы в стоимости заказов. Посмотрим на распределение стоимости заказов на точечной диаграмме:"
   ]
  },
  {
   "cell_type": "code",
   "execution_count": 27,
   "metadata": {},
   "outputs": [
    {
     "data": {
      "image/png": "[encoded data removed]",
      "text/plain": [
       "<Figure size 720x360 with 1 Axes>"
      ]
     },
     "metadata": {
      "needs_background": "light"
     },
     "output_type": "display_data"
    }
   ],
   "source": [
    "x_values = pd.Series(range(0, len(orders['revenue'])))\n",
    "plt.figure(figsize=(10,5))\n",
    "plt.scatter(x_values, orders['revenue'])\n",
    "plt.title(\"Диаграмма рассеяния стоимости заказов\" + '\\n')\n",
    "plt.ylabel('Стоимость заказа');"
   ]
  },
  {
   "cell_type": "markdown",
   "metadata": {},
   "source": [
    "Вот и обнаружилась та самая дорогостоящая покупка (дороже 1.2 млн рублей!), которая провоцировала скачки на графиках анализа кумулятивных данных. Основная же часть заказов обходится нашим клиентам до 100 000 рублей. Посчитаем 95-й и 99-й выборочные перцентили выручки:"
   ]
  },
  {
   "cell_type": "code",
   "execution_count": 28,
   "metadata": {},
   "outputs": [
    {
     "data": {
      "text/plain": [
       "array([26785., 53904.])"
      ]
     },
     "execution_count": 28,
     "metadata": {},
     "output_type": "execute_result"
    }
   ],
   "source": [
    "np.percentile(orders['revenue'], [95, 99])"
   ]
  },
  {
   "cell_type": "markdown",
   "metadata": {},
   "source": [
    "Так и есть - только 1 процент клиентов покупают что-то дороже 54 000 рублей. **Базовый, нормальный показатель выручки - до 30 000 рублей.**"
   ]
  },
  {
   "cell_type": "markdown",
   "metadata": {},
   "source": [
    "### Анализ статистической значимости различий в конверсии и в среднем чеке"
   ]
  },
  {
   "cell_type": "markdown",
   "metadata": {},
   "source": [
    "Для начала оценим статистическую значимость различий в конверсии и в среднем чеке по \"сырым\" данным.\n",
    "\n",
    "Соберем сводную таблицу `data` со всеми необходимыми данными:"
   ]
  },
  {
   "cell_type": "code",
   "execution_count": 29,
   "metadata": {
    "scrolled": true
   },
   "outputs": [
    {
     "data": {
      "text/html": [
       "<div>\n",
       "<style scoped>\n",
       "    .dataframe tbody tr th:only-of-type {\n",
       "        vertical-align: middle;\n",
       "    }\n",
       "\n",
       "    .dataframe tbody tr th {\n",
       "        vertical-align: top;\n",
       "    }\n",
       "\n",
       "    .dataframe thead th {\n",
       "        text-align: right;\n",
       "    }\n",
       "</style>\n",
       "<table border=\"1\" class=\"dataframe\">\n",
       "  <thead>\n",
       "    <tr style=\"text-align: right;\">\n",
       "      <th></th>\n",
       "      <th>date</th>\n",
       "      <th>ordersPerDateA</th>\n",
       "      <th>revenuePerDateA</th>\n",
       "      <th>ordersPerDateB</th>\n",
       "      <th>revenuePerDateB</th>\n",
       "      <th>ordersCummulativeA</th>\n",
       "      <th>revenueCummulativeA</th>\n",
       "      <th>ordersCummulativeB</th>\n",
       "      <th>revenueCummulativeB</th>\n",
       "      <th>visitorsPerDateA</th>\n",
       "      <th>visitorsPerDateB</th>\n",
       "      <th>visitorsCummulativeA</th>\n",
       "      <th>visitorsCummulativeB</th>\n",
       "    </tr>\n",
       "  </thead>\n",
       "  <tbody>\n",
       "    <tr>\n",
       "      <th>0</th>\n",
       "      <td>2019-08-01</td>\n",
       "      <td>23</td>\n",
       "      <td>142779</td>\n",
       "      <td>17</td>\n",
       "      <td>59758</td>\n",
       "      <td>23</td>\n",
       "      <td>142779</td>\n",
       "      <td>17</td>\n",
       "      <td>59758</td>\n",
       "      <td>719</td>\n",
       "      <td>713</td>\n",
       "      <td>719</td>\n",
       "      <td>713</td>\n",
       "    </tr>\n",
       "    <tr>\n",
       "      <th>1</th>\n",
       "      <td>2019-08-02</td>\n",
       "      <td>19</td>\n",
       "      <td>91602</td>\n",
       "      <td>23</td>\n",
       "      <td>162043</td>\n",
       "      <td>42</td>\n",
       "      <td>234381</td>\n",
       "      <td>40</td>\n",
       "      <td>221801</td>\n",
       "      <td>619</td>\n",
       "      <td>581</td>\n",
       "      <td>1338</td>\n",
       "      <td>1294</td>\n",
       "    </tr>\n",
       "    <tr>\n",
       "      <th>2</th>\n",
       "      <td>2019-08-03</td>\n",
       "      <td>24</td>\n",
       "      <td>112473</td>\n",
       "      <td>14</td>\n",
       "      <td>67049</td>\n",
       "      <td>66</td>\n",
       "      <td>346854</td>\n",
       "      <td>54</td>\n",
       "      <td>288850</td>\n",
       "      <td>507</td>\n",
       "      <td>509</td>\n",
       "      <td>1845</td>\n",
       "      <td>1803</td>\n",
       "    </tr>\n",
       "    <tr>\n",
       "      <th>3</th>\n",
       "      <td>2019-08-04</td>\n",
       "      <td>11</td>\n",
       "      <td>41176</td>\n",
       "      <td>14</td>\n",
       "      <td>96890</td>\n",
       "      <td>77</td>\n",
       "      <td>388030</td>\n",
       "      <td>68</td>\n",
       "      <td>385740</td>\n",
       "      <td>717</td>\n",
       "      <td>770</td>\n",
       "      <td>2562</td>\n",
       "      <td>2573</td>\n",
       "    </tr>\n",
       "    <tr>\n",
       "      <th>4</th>\n",
       "      <td>2019-08-05</td>\n",
       "      <td>22</td>\n",
       "      <td>86383</td>\n",
       "      <td>21</td>\n",
       "      <td>89908</td>\n",
       "      <td>99</td>\n",
       "      <td>474413</td>\n",
       "      <td>89</td>\n",
       "      <td>475648</td>\n",
       "      <td>756</td>\n",
       "      <td>707</td>\n",
       "      <td>3318</td>\n",
       "      <td>3280</td>\n",
       "    </tr>\n",
       "  </tbody>\n",
       "</table>\n",
       "</div>"
      ],
      "text/plain": [
       "        date  ordersPerDateA  revenuePerDateA  ordersPerDateB  \\\n",
       "0 2019-08-01  23              142779           17               \n",
       "1 2019-08-02  19              91602            23               \n",
       "2 2019-08-03  24              112473           14               \n",
       "3 2019-08-04  11              41176            14               \n",
       "4 2019-08-05  22              86383            21               \n",
       "\n",
       "   revenuePerDateB  ordersCummulativeA  revenueCummulativeA  \\\n",
       "0  59758            23                  142779                \n",
       "1  162043           42                  234381                \n",
       "2  67049            66                  346854                \n",
       "3  96890            77                  388030                \n",
       "4  89908            99                  474413                \n",
       "\n",
       "   ordersCummulativeB  revenueCummulativeB  visitorsPerDateA  \\\n",
       "0  17                  59758                719                \n",
       "1  40                  221801               619                \n",
       "2  54                  288850               507                \n",
       "3  68                  385740               717                \n",
       "4  89                  475648               756                \n",
       "\n",
       "   visitorsPerDateB  visitorsCummulativeA  visitorsCummulativeB  \n",
       "0  713               719                   713                   \n",
       "1  581               1338                  1294                  \n",
       "2  509               1845                  1803                  \n",
       "3  770               2562                  2573                  \n",
       "4  707               3318                  3280                  "
      ]
     },
     "execution_count": 29,
     "metadata": {},
     "output_type": "execute_result"
    }
   ],
   "source": [
    "visitorsADaily = visitors[visitors['group'] == 'A'][['date', 'visitors']]\n",
    "visitorsADaily.columns = ['date', 'visitorsPerDateA']\n",
    "\n",
    "visitorsACummulative = visitorsADaily.apply(\n",
    "    lambda x: visitorsADaily[visitorsADaily['date'] <= x['date']].agg(\n",
    "        {'date': 'max', 'visitorsPerDateA': 'sum'}\n",
    "    ),\n",
    "    axis=1,\n",
    ")\n",
    "visitorsACummulative.columns = ['date', 'visitorsCummulativeA']\n",
    "\n",
    "visitorsBDaily = visitors[visitors['group'] == 'B'][['date', 'visitors']]\n",
    "visitorsBDaily.columns = ['date', 'visitorsPerDateB']\n",
    "\n",
    "visitorsBCummulative = visitorsBDaily.apply(\n",
    "    lambda x: visitorsBDaily[visitorsBDaily['date'] <= x['date']].agg(\n",
    "        {'date': 'max', 'visitorsPerDateB': 'sum'}\n",
    "    ),\n",
    "    axis=1,\n",
    ")\n",
    "visitorsBCummulative.columns = ['date', 'visitorsCummulativeB']\n",
    "\n",
    "ordersADaily = (\n",
    "    orders[orders['group'] == 'A'][['date', 'transaction_id', 'visitor_id', 'revenue']]\n",
    "    .groupby('date', as_index=False)\n",
    "    .agg({'transaction_id': pd.Series.nunique, 'revenue': 'sum'})\n",
    ")\n",
    "ordersADaily.columns = ['date', 'ordersPerDateA', 'revenuePerDateA']\n",
    "\n",
    "ordersACummulative = ordersADaily.apply(\n",
    "    lambda x: ordersADaily[ordersADaily['date'] <= x['date']].agg(\n",
    "        {'date': 'max', 'ordersPerDateA': 'sum', 'revenuePerDateA': 'sum'}\n",
    "    ),\n",
    "    axis=1,\n",
    ").sort_values(by=['date'])\n",
    "ordersACummulative.columns = [\n",
    "    'date',\n",
    "    'ordersCummulativeA',\n",
    "    'revenueCummulativeA',\n",
    "]\n",
    "\n",
    "ordersBDaily = (\n",
    "    orders[orders['group'] == 'B'][['date', 'transaction_id', 'visitor_id', 'revenue']]\n",
    "    .groupby('date', as_index=False)\n",
    "    .agg({'transaction_id': pd.Series.nunique, 'revenue': 'sum'})\n",
    ")\n",
    "ordersBDaily.columns = ['date', 'ordersPerDateB', 'revenuePerDateB']\n",
    "\n",
    "ordersBCummulative = ordersBDaily.apply(\n",
    "    lambda x: ordersBDaily[ordersBDaily['date'] <= x['date']].agg(\n",
    "        {'date': 'max', 'ordersPerDateB': 'sum', 'revenuePerDateB': 'sum'}\n",
    "    ),\n",
    "    axis=1,\n",
    ").sort_values(by=['date'])\n",
    "ordersBCummulative.columns = [\n",
    "    'date',\n",
    "    'ordersCummulativeB',\n",
    "    'revenueCummulativeB',\n",
    "]\n",
    "\n",
    "data = (\n",
    "    ordersADaily.merge(\n",
    "        ordersBDaily, left_on='date', right_on='date', how='left'\n",
    "    )\n",
    "    .merge(ordersACummulative, left_on='date', right_on='date', how='left')\n",
    "    .merge(ordersBCummulative, left_on='date', right_on='date', how='left')\n",
    "    .merge(visitorsADaily, left_on='date', right_on='date', how='left')\n",
    "    .merge(visitorsBDaily, left_on='date', right_on='date', how='left')\n",
    "    .merge(visitorsACummulative, left_on='date', right_on='date', how='left')\n",
    "    .merge(visitorsBCummulative, left_on='date', right_on='date', how='left')\n",
    ")\n",
    "\n",
    "data.head(5)"
   ]
  },
  {
   "cell_type": "markdown",
   "metadata": {},
   "source": [
    "Создадим переменные `ordersByUsersA` и `ordersByUsersB` - в них для пользователей, которые заказывали хотя бы 1 раз, укажем число совершённых заказов:"
   ]
  },
  {
   "cell_type": "code",
   "execution_count": 30,
   "metadata": {},
   "outputs": [],
   "source": [
    "ordersByUsersA = (\n",
    "    orders[orders['group'] == 'A']\n",
    "    .groupby('visitor_id', as_index=False)\n",
    "    .agg({'transaction_id': pd.Series.nunique})\n",
    ")\n",
    "ordersByUsersA.columns = ['visitor_id', 'orders']\n",
    "\n",
    "ordersByUsersB = (\n",
    "    orders[orders['group'] == 'B']\n",
    "    .groupby('visitor_id', as_index=False)\n",
    "    .agg({'transaction_id': pd.Series.nunique})\n",
    ")\n",
    "ordersByUsersB.columns = ['visitor_id', 'orders'] "
   ]
  },
  {
   "cell_type": "markdown",
   "metadata": {},
   "source": [
    "Объявим переменные `sampleA` и `sampleB`, в которых пользователям из разных групп будет соответствовать количество заказов. Тем, кто ничего не заказал, будут соответствовать нули:"
   ]
  },
  {
   "cell_type": "code",
   "execution_count": 31,
   "metadata": {},
   "outputs": [],
   "source": [
    "sampleA = pd.concat([ordersByUsersA['orders'],pd.Series(0, index=np.arange(data['visitorsPerDateA'].sum() - len(ordersByUsersA['orders'])), name='orders')],axis=0)\n",
    "\n",
    "sampleB = pd.concat([ordersByUsersB['orders'],pd.Series(0, index=np.arange(data['visitorsPerDateB'].sum() - len(ordersByUsersB['orders'])), name='orders')],axis=0)"
   ]
  },
  {
   "cell_type": "markdown",
   "metadata": {},
   "source": [
    "Перед нами стоит задача проверить гипотезу о равенстве конверсий двух групп в \"сырых\" данных.\n",
    "\n",
    "**Нулевая гипотеза в данном случае будет звучать так: \"Конверсия группы А равна конверсии группы В\".**\n",
    "\n",
    "Альтернативная гипотеза: \"Конверсия группы А не равна конверсии группы В\".\n",
    "\n",
    "Применив тест Манна-Уитни, посчитаем статистическую значимость различия конверсий:"
   ]
  },
  {
   "cell_type": "code",
   "execution_count": 32,
   "metadata": {},
   "outputs": [
    {
     "name": "stdout",
     "output_type": "stream",
     "text": [
      "Статистическая значимость различия конверсий по \"сырым\" данным:  0.011\n",
      "Отвергаем нулевую гипотезу\n"
     ]
    }
   ],
   "source": [
    "alpha = 0.05  # задаём критический уровень статистической значимости\n",
    "\n",
    "print('Статистическая значимость различия конверсий по \"сырым\" данным: ', '{0:.3f}'.format(stats.mannwhitneyu(sampleA, sampleB)[1]))\n",
    "\n",
    "if (stats.mannwhitneyu(sampleA, sampleB)[1] < alpha):\n",
    "    print(\"Отвергаем нулевую гипотезу\")\n",
    "else:\n",
    "    print(\"Не получилось отвергнуть нулевую гипотезу\")"
   ]
  },
  {
   "cell_type": "markdown",
   "metadata": {},
   "source": [
    "**В конверсии между группами присутствуют статистически значимые различия**. "
   ]
  },
  {
   "cell_type": "markdown",
   "metadata": {},
   "source": [
    "Выведем относительный прирост конверсии группы B:"
   ]
  },
  {
   "cell_type": "code",
   "execution_count": 33,
   "metadata": {},
   "outputs": [
    {
     "name": "stdout",
     "output_type": "stream",
     "text": [
      "Относительный прирост конверсии группы B в \"сырых\" данных: 0.16\n"
     ]
    }
   ],
   "source": [
    "print('Относительный прирост конверсии группы B в \"сырых\" данных:', '{0:.2f}'.format(sampleB.mean() / sampleA.mean() - 1))"
   ]
  },
  {
   "cell_type": "markdown",
   "metadata": {},
   "source": [
    "**Относительный выигрыш группы \"B\" равен 16%.**"
   ]
  },
  {
   "cell_type": "markdown",
   "metadata": {},
   "source": [
    "Теперь проверим гипотезу о равенстве средних чеков двух групп.\n",
    "\n",
    "**Нулевая гипотеза такова: \"Средний чек пользователей группы А равен среднему чеку пользователей группы В\".**\n",
    "\n",
    "Альтернативная гипотеза: \"Средний чек пользователей группы А не равен среднему чеку пользователей группы В\".\n",
    "\n",
    "Рассчитаем статистическую значимость различий в среднем чеке между сегментами:"
   ]
  },
  {
   "cell_type": "code",
   "execution_count": 34,
   "metadata": {},
   "outputs": [
    {
     "name": "stdout",
     "output_type": "stream",
     "text": [
      "Статистическая значимость различий в среднем чеке в \"сырых\" данных:  0.829\n",
      "Не получилось отвергнуть нулевую гипотезу\n"
     ]
    }
   ],
   "source": [
    "print('Статистическая значимость различий в среднем чеке в \"сырых\" данных: ', '{0:.3f}'.format(stats.mannwhitneyu(orders[orders['group']=='A']['revenue'], orders[orders['group']=='B']['revenue'])[1]))\n",
    "\n",
    "if (stats.mannwhitneyu(orders[orders['group']=='A']['revenue'], orders[orders['group']=='B']['revenue'])[1] < alpha):\n",
    "    print(\"Отвергаем нулевую гипотезу\")\n",
    "else:\n",
    "    print(\"Не получилось отвергнуть нулевую гипотезу\")"
   ]
  },
  {
   "cell_type": "markdown",
   "metadata": {},
   "source": [
    "**Причин отвергать нулевую гипотезу и считать, что в среднем чеке есть различия, нет.** "
   ]
  },
  {
   "cell_type": "markdown",
   "metadata": {},
   "source": [
    "Найдём относительные различия в среднем чеке между группами:"
   ]
  },
  {
   "cell_type": "code",
   "execution_count": 35,
   "metadata": {},
   "outputs": [
    {
     "name": "stdout",
     "output_type": "stream",
     "text": [
      "Относительные различия в среднем чеке между группами по \"сырым\" данным: 0.287\n"
     ]
    }
   ],
   "source": [
    "print('Относительные различия в среднем чеке между группами по \"сырым\" данным:', '{0:.3f}'.format(orders[orders['group']=='B']['revenue'].mean()/orders[orders['group']=='A']['revenue'].mean()-1))"
   ]
  },
  {
   "cell_type": "markdown",
   "metadata": {},
   "source": [
    "**Средний чек группы \"B\" значительно выше среднего чека группы \"A\"** - очевидно, из-за известной нам дорогой покупки за пределами миллиона рублей."
   ]
  },
  {
   "cell_type": "markdown",
   "metadata": {},
   "source": [
    "Теперь исключим выбросы и оценим статистическую значимость различий в конверсии и в среднем чеке уже по \"очищенным\" данным. Примем за аномальных пользователей тех, кто совершил от 2 заказов или совершил заказ дороже 30 000 рублей. Так мы уберём от 1% до 5% пользователей с наибольшим числом заказов и самыми дорогими покупками. \n",
    "\n",
    "Сделаем срезы пользователей с числом заказов больше 2 в `usersWithManyOrders` и пользователей, совершивших заказы дороже 30 000, в `usersWithExpensiveOrders`. Объединим их в таблице `abnormalUsers`:"
   ]
  },
  {
   "cell_type": "code",
   "execution_count": 36,
   "metadata": {},
   "outputs": [],
   "source": [
    "usersWithManyOrders = pd.concat(\n",
    "    [\n",
    "        ordersByUsersA[ordersByUsersA['orders'] > 2]['visitor_id'],\n",
    "        ordersByUsersB[ordersByUsersB['orders'] > 2]['visitor_id'],\n",
    "    ],\n",
    "    axis=0,\n",
    ")\n",
    "usersWithExpensiveOrders = orders[orders['revenue'] > 30000]['visitor_id']\n",
    "abnormalUsers = (\n",
    "    pd.concat([usersWithManyOrders, usersWithExpensiveOrders], axis=0)\n",
    "    .drop_duplicates()\n",
    "    .sort_values()\n",
    ")"
   ]
  },
  {
   "cell_type": "markdown",
   "metadata": {},
   "source": [
    "Создадим переменные `sampleAFiltered` и `sampleBFiltered`, в которых сохраним очищенные данные о заказах, не включая аномальных пользователей:"
   ]
  },
  {
   "cell_type": "code",
   "execution_count": 37,
   "metadata": {},
   "outputs": [],
   "source": [
    "sampleAFiltered = pd.concat(\n",
    "    [\n",
    "        ordersByUsersA[\n",
    "            np.logical_not(ordersByUsersA['visitor_id'].isin(abnormalUsers))\n",
    "        ]['orders'],\n",
    "        pd.Series(\n",
    "            0,\n",
    "            index=np.arange(\n",
    "                data['visitorsPerDateA'].sum() - len(ordersByUsersA['orders'])\n",
    "            ),\n",
    "            name='orders',\n",
    "        ),\n",
    "    ],\n",
    "    axis=0,\n",
    ")\n",
    "\n",
    "sampleBFiltered = pd.concat(\n",
    "    [\n",
    "        ordersByUsersB[\n",
    "            np.logical_not(ordersByUsersB['visitor_id'].isin(abnormalUsers))\n",
    "        ]['orders'],\n",
    "        pd.Series(\n",
    "            0,\n",
    "            index=np.arange(\n",
    "                data['visitorsPerDateB'].sum() - len(ordersByUsersB['orders'])\n",
    "            ),\n",
    "            name='orders',\n",
    "        ),\n",
    "    ],\n",
    "    axis=0,\n",
    ")"
   ]
  },
  {
   "cell_type": "markdown",
   "metadata": {},
   "source": [
    "Посмотрим на статистическую значимость различия конверсии в \"очищенных\" данных.\n",
    "\n",
    "Напомним, что нулевая гипотеза звучит следующим образом: **\"Конверсия группы А равна конверсии группы В\".**\n",
    "\n",
    "Альтернативная: \"Конверсия группы А не равна конверсии группы В\"."
   ]
  },
  {
   "cell_type": "code",
   "execution_count": 38,
   "metadata": {},
   "outputs": [
    {
     "name": "stdout",
     "output_type": "stream",
     "text": [
      "Статистическая значимость различия конверсий в \"очищенных\" данных:  0.010\n",
      "Отвергаем нулевую гипотезу\n"
     ]
    }
   ],
   "source": [
    "print('Статистическая значимость различия конверсий в \"очищенных\" данных: ', '{0:.3f}'.format(stats.mannwhitneyu(sampleAFiltered, sampleBFiltered)[1]))\n",
    "\n",
    "if (stats.mannwhitneyu(sampleAFiltered, sampleBFiltered)[1] < alpha):\n",
    "    print(\"Отвергаем нулевую гипотезу\")\n",
    "else:\n",
    "    print(\"Не получилось отвергнуть нулевую гипотезу\")"
   ]
  },
  {
   "cell_type": "markdown",
   "metadata": {},
   "source": [
    "В \"сырых\" данных было 0.006 - значение почти не изменилось. Нулевая гипотеза отвергнута и **в конверсии между группами есть существенные различия**. "
   ]
  },
  {
   "cell_type": "code",
   "execution_count": 39,
   "metadata": {},
   "outputs": [
    {
     "name": "stdout",
     "output_type": "stream",
     "text": [
      "Относительный прирост конверсии группы \"B\" в \"очищенных\" данных: 0.187\n"
     ]
    }
   ],
   "source": [
    "print('Относительный прирост конверсии группы \"B\" в \"очищенных\" данных:', '{0:.3f}'.format(sampleBFiltered.mean()/sampleAFiltered.mean()-1))"
   ]
  },
  {
   "cell_type": "markdown",
   "metadata": {},
   "source": [
    "Прирост 18.7% (в \"сырых\" - 16%)"
   ]
  },
  {
   "cell_type": "markdown",
   "metadata": {},
   "source": [
    "Посчитаем статистическую значимость различия средних чеков после удаления аномальных пользователей.\n",
    "\n",
    "**Нулевая гипотеза: \"Средний чек пользователей группы А равен среднему чеку пользователей группы В\".**\n",
    "\n",
    "Альтернативная: \"Средний чек пользователей группы А не равен среднему чеку пользователей группы В\"."
   ]
  },
  {
   "cell_type": "code",
   "execution_count": 40,
   "metadata": {},
   "outputs": [
    {
     "name": "stdout",
     "output_type": "stream",
     "text": [
      "Статистическая значимость различий в среднем чеке по \"очищенным\" данным:  0.741\n",
      "Не получилось отвергнуть нулевую гипотезу\n"
     ]
    }
   ],
   "source": [
    "result = stats.mannwhitneyu(\n",
    "        orders[\n",
    "            np.logical_and(\n",
    "                orders['group'] == 'A',\n",
    "                np.logical_not(orders['visitor_id'].isin(abnormalUsers)),\n",
    "            )\n",
    "        ]['revenue'],\n",
    "        orders[\n",
    "            np.logical_and(\n",
    "                orders['group'] == 'B',\n",
    "                np.logical_not(orders['visitor_id'].isin(abnormalUsers)),\n",
    "            )\n",
    "        ]['revenue'],\n",
    "    )[1]\n",
    "\n",
    "print('Статистическая значимость различий в среднем чеке по \"очищенным\" данным: ', '{0:.3f}'.format(result))\n",
    "if (result < alpha):\n",
    "    print(\"Отвергаем нулевую гипотезу\")\n",
    "else:\n",
    "    print(\"Не получилось отвергнуть нулевую гипотезу\")"
   ]
  },
  {
   "cell_type": "markdown",
   "metadata": {},
   "source": [
    "\n",
    "**Нулевую гипотезу отвергать нельзя - в среднем чеке различий нет.**"
   ]
  },
  {
   "cell_type": "markdown",
   "metadata": {},
   "source": [
    "Выведем относительный прирост среднего чека очищенной группы \"B\":"
   ]
  },
  {
   "cell_type": "code",
   "execution_count": 41,
   "metadata": {},
   "outputs": [
    {
     "name": "stdout",
     "output_type": "stream",
     "text": [
      "Относительный прирост конверсии группы B по \"очищенным\" данным: -0.027\n"
     ]
    }
   ],
   "source": [
    "print('Относительный прирост конверсии группы B по \"очищенным\" данным:', '{0:.3f}'.format(\n",
    "    orders[\n",
    "        np.logical_and(\n",
    "            orders['group'] == 'B',\n",
    "            np.logical_not(orders['visitor_id'].isin(abnormalUsers)),\n",
    "        )\n",
    "    ]['revenue'].mean()\n",
    "    / orders[\n",
    "        np.logical_and(\n",
    "            orders['group'] == 'A',\n",
    "            np.logical_not(orders['visitor_id'].isin(abnormalUsers)),\n",
    "        )\n",
    "    ]['revenue'].mean()\n",
    "    - 1\n",
    "))"
   ]
  },
  {
   "cell_type": "markdown",
   "metadata": {},
   "source": [
    "До \"очищения\" данных средний чек группы \"B\" был выше среднего чека группы \"A\" почти на 29%. **После того, как мы отбросили аномально большие значения, средние чеки групп практически уровнялись.**"
   ]
  },
  {
   "cell_type": "markdown",
   "metadata": {},
   "source": [
    "## Решение по результатам теста"
   ]
  },
  {
   "cell_type": "markdown",
   "metadata": {},
   "source": [
    "По проведённому тесту мы можем сделать следующие выводы:\n",
    "- по конверсии между группами обнаружены статистически значимые различия как по «сырым» данным, так и по данным после исключения аномалий;\n",
    "- нет статистически значимого различия по среднему чеку между группами ни по «сырым», ни по данным после фильтрации аномалий;\n",
    "- график различия конверсии между группами сообщает, что результаты группы \"B\" стабильно лучше группы \"A\";\n",
    "- график различия среднего чека колеблется из-за имеющихся аномалий. Сделать из этого графика определённые выводы нельзя.\n",
    "\n",
    "**Исходя из обнаруженных фактов, тест следует остановить и признать его успешным в пользу группы \"В\".**\n",
    "Хоть показатели среднего чека у обеих групп не отличаются, группа \"В\" демонстрирует лучшую конверсию."
   ]
  },
  {
   "cell_type": "markdown",
   "metadata": {},
   "source": [
    "## Общий вывод по проекту"
   ]
  },
  {
   "cell_type": "markdown",
   "metadata": {},
   "source": [
    "**В ходе работы мы приоритизировали имеющиеся гипотезы, проанализировали результаты A/B-теста и пришли к следующим выводам:**\n",
    "- на этапе предобработки данных было обнаружено **58 пользователей, которые вошли одновременно в обе группы тестирования** - для корректности результатов, информация по этим клиентам не была включена в анализ, данное обстоятельство стоит учесть при проведении A/B-тестов в будущем;\n",
    "- также выявлено, что **в группах не равное количество пользователей** - в будущих A/В-тестах стоит обратить на это внимание;\n",
    "- процесс приоритизации гипотез методом RICE показал, что среди гипотез самая перспективная - **\"Добавить форму подписки на все основные страницы, чтобы собрать базу клиентов для email-рассылок\"** с высокими показателями охвата, влияния и уверенности в эффекте;\n",
    "- в ходе исследования результатов А/В-теста мы произвели анализ кумулятивной выручки по группам, кумулятивного среднего чека, кумулятивной конверсии, статистической значимости различий в конверсии и среднем чеке, а также выявили и исключили из выборки выбросы и аномалии. Проведённая работа показала **успех в пользу группы В**: средние чеки в обеих группах приблизительно равны, но конверсия среди пользователей группы В стабильно лучше группы A. Эти выводы позволяют утверждать, что тест успешен, и его можно остановить."
   ]
  }
 ],
 "metadata": {
  "ExecuteTimeLog": [
   {
    "duration": 264,
    "start_time": "2022-02-22T08:45:44.747Z"
   },
   {
    "duration": 203,
    "start_time": "2022-02-22T08:45:47.867Z"
   },
   {
    "duration": 638,
    "start_time": "2022-02-22T08:46:08.160Z"
   },
   {
    "duration": 31,
    "start_time": "2022-02-22T08:46:10.432Z"
   },
   {
    "duration": 18,
    "start_time": "2022-02-22T08:46:44.617Z"
   },
   {
    "duration": 17,
    "start_time": "2022-02-22T08:49:28.202Z"
   },
   {
    "duration": 241,
    "start_time": "2022-02-22T08:49:41.265Z"
   },
   {
    "duration": 18,
    "start_time": "2022-02-22T08:49:48.251Z"
   },
   {
    "duration": 208,
    "start_time": "2022-02-22T08:53:16.610Z"
   },
   {
    "duration": 63,
    "start_time": "2022-02-22T08:53:57.391Z"
   },
   {
    "duration": 13,
    "start_time": "2022-02-22T08:54:00.868Z"
   },
   {
    "duration": 203,
    "start_time": "2022-02-22T08:55:24.372Z"
   },
   {
    "duration": 13,
    "start_time": "2022-02-22T08:55:27.104Z"
   },
   {
    "duration": 13,
    "start_time": "2022-02-22T08:55:46.570Z"
   },
   {
    "duration": 11,
    "start_time": "2022-02-22T08:56:36.552Z"
   },
   {
    "duration": 304,
    "start_time": "2022-02-22T09:01:52.273Z"
   },
   {
    "duration": 5,
    "start_time": "2022-02-22T09:02:02.122Z"
   },
   {
    "duration": 33,
    "start_time": "2022-02-22T09:02:04.137Z"
   },
   {
    "duration": 24,
    "start_time": "2022-02-22T09:02:06.800Z"
   },
   {
    "duration": 3,
    "start_time": "2022-02-22T09:02:30.606Z"
   },
   {
    "duration": 27,
    "start_time": "2022-02-22T09:02:30.611Z"
   },
   {
    "duration": 22,
    "start_time": "2022-02-22T09:02:30.640Z"
   },
   {
    "duration": 25,
    "start_time": "2022-02-22T09:02:30.664Z"
   },
   {
    "duration": 8,
    "start_time": "2022-02-22T09:02:30.691Z"
   },
   {
    "duration": 50,
    "start_time": "2022-02-22T09:02:30.702Z"
   },
   {
    "duration": 23,
    "start_time": "2022-02-22T09:02:30.754Z"
   },
   {
    "duration": 21,
    "start_time": "2022-02-22T09:03:14.882Z"
   },
   {
    "duration": 6,
    "start_time": "2022-02-22T09:04:16.361Z"
   },
   {
    "duration": 6,
    "start_time": "2022-02-22T09:04:32.298Z"
   },
   {
    "duration": 7,
    "start_time": "2022-02-22T09:04:42.706Z"
   },
   {
    "duration": 8,
    "start_time": "2022-02-22T09:04:48.696Z"
   },
   {
    "duration": 3,
    "start_time": "2022-02-22T09:07:36.783Z"
   },
   {
    "duration": 30,
    "start_time": "2022-02-22T09:07:36.788Z"
   },
   {
    "duration": 21,
    "start_time": "2022-02-22T09:07:36.821Z"
   },
   {
    "duration": 14,
    "start_time": "2022-02-22T09:07:36.844Z"
   },
   {
    "duration": 7,
    "start_time": "2022-02-22T09:07:36.860Z"
   },
   {
    "duration": 38,
    "start_time": "2022-02-22T09:07:36.869Z"
   },
   {
    "duration": 5,
    "start_time": "2022-02-22T09:07:36.910Z"
   },
   {
    "duration": 9,
    "start_time": "2022-02-22T09:07:36.917Z"
   },
   {
    "duration": 26,
    "start_time": "2022-02-22T09:07:36.928Z"
   },
   {
    "duration": 5,
    "start_time": "2022-02-22T09:07:36.956Z"
   },
   {
    "duration": 423,
    "start_time": "2022-02-22T09:28:29.649Z"
   },
   {
    "duration": 3,
    "start_time": "2022-02-22T09:28:37.287Z"
   },
   {
    "duration": 25,
    "start_time": "2022-02-22T09:28:37.292Z"
   },
   {
    "duration": 17,
    "start_time": "2022-02-22T09:28:37.321Z"
   },
   {
    "duration": 37,
    "start_time": "2022-02-22T09:28:37.341Z"
   },
   {
    "duration": 5,
    "start_time": "2022-02-22T09:28:37.380Z"
   },
   {
    "duration": 14,
    "start_time": "2022-02-22T09:28:37.387Z"
   },
   {
    "duration": 38,
    "start_time": "2022-02-22T09:28:37.403Z"
   },
   {
    "duration": 13,
    "start_time": "2022-02-22T09:28:37.443Z"
   },
   {
    "duration": 15,
    "start_time": "2022-02-22T09:28:37.458Z"
   },
   {
    "duration": 26,
    "start_time": "2022-02-22T09:28:37.475Z"
   },
   {
    "duration": 421,
    "start_time": "2022-02-22T09:28:37.503Z"
   },
   {
    "duration": 249,
    "start_time": "2022-02-22T09:34:49.955Z"
   },
   {
    "duration": 96,
    "start_time": "2022-02-22T09:35:15.553Z"
   },
   {
    "duration": 256,
    "start_time": "2022-02-22T09:35:19.175Z"
   },
   {
    "duration": 234,
    "start_time": "2022-02-22T09:35:45.864Z"
   },
   {
    "duration": 221,
    "start_time": "2022-02-22T09:36:46.920Z"
   },
   {
    "duration": 285,
    "start_time": "2022-02-22T09:36:53.483Z"
   },
   {
    "duration": 240,
    "start_time": "2022-02-22T09:36:59.577Z"
   },
   {
    "duration": 298,
    "start_time": "2022-02-22T09:37:55.818Z"
   },
   {
    "duration": 4,
    "start_time": "2022-02-22T09:38:28.921Z"
   },
   {
    "duration": 444,
    "start_time": "2022-02-22T09:38:46.898Z"
   },
   {
    "duration": 399,
    "start_time": "2022-02-22T09:39:22.832Z"
   },
   {
    "duration": 412,
    "start_time": "2022-02-22T09:39:50.019Z"
   },
   {
    "duration": 222,
    "start_time": "2022-02-22T09:39:58.823Z"
   },
   {
    "duration": 205,
    "start_time": "2022-02-22T09:40:16.288Z"
   },
   {
    "duration": 217,
    "start_time": "2022-02-22T09:40:21.776Z"
   },
   {
    "duration": 245,
    "start_time": "2022-02-22T09:44:36.524Z"
   },
   {
    "duration": 335,
    "start_time": "2022-02-22T09:44:47.791Z"
   },
   {
    "duration": 400,
    "start_time": "2022-02-22T09:46:08.344Z"
   },
   {
    "duration": 208,
    "start_time": "2022-02-22T09:49:44.422Z"
   },
   {
    "duration": 200,
    "start_time": "2022-02-22T09:49:57.242Z"
   },
   {
    "duration": 251,
    "start_time": "2022-02-22T09:51:26.089Z"
   },
   {
    "duration": 505,
    "start_time": "2022-02-22T09:52:18.856Z"
   },
   {
    "duration": 406,
    "start_time": "2022-02-22T09:54:05.737Z"
   },
   {
    "duration": 464,
    "start_time": "2022-02-22T09:54:15.777Z"
   },
   {
    "duration": 427,
    "start_time": "2022-02-22T09:54:26.561Z"
   },
   {
    "duration": 203,
    "start_time": "2022-02-22T09:54:38.561Z"
   },
   {
    "duration": 427,
    "start_time": "2022-02-22T09:54:53.519Z"
   },
   {
    "duration": 370,
    "start_time": "2022-02-22T10:00:36.154Z"
   },
   {
    "duration": 576,
    "start_time": "2022-02-22T10:00:56.890Z"
   },
   {
    "duration": 459,
    "start_time": "2022-02-22T10:01:02.522Z"
   },
   {
    "duration": 404,
    "start_time": "2022-02-22T10:01:29.064Z"
   },
   {
    "duration": 584,
    "start_time": "2022-02-22T10:22:17.068Z"
   },
   {
    "duration": 414,
    "start_time": "2022-02-22T10:22:26.401Z"
   },
   {
    "duration": 368,
    "start_time": "2022-02-22T10:22:31.642Z"
   },
   {
    "duration": 236,
    "start_time": "2022-02-22T10:32:20.753Z"
   },
   {
    "duration": 316,
    "start_time": "2022-02-22T10:32:50.744Z"
   },
   {
    "duration": 304,
    "start_time": "2022-02-22T10:32:57.865Z"
   },
   {
    "duration": 416,
    "start_time": "2022-02-22T10:33:24.735Z"
   },
   {
    "duration": 410,
    "start_time": "2022-02-22T10:33:28.304Z"
   },
   {
    "duration": 9,
    "start_time": "2022-02-22T10:41:05.104Z"
   },
   {
    "duration": 5,
    "start_time": "2022-02-22T10:42:04.521Z"
   },
   {
    "duration": 219,
    "start_time": "2022-02-22T10:43:30.783Z"
   },
   {
    "duration": 319,
    "start_time": "2022-02-22T10:43:34.233Z"
   },
   {
    "duration": 9,
    "start_time": "2022-02-22T10:43:54.105Z"
   },
   {
    "duration": 67,
    "start_time": "2022-02-22T10:50:14.601Z"
   },
   {
    "duration": 325,
    "start_time": "2022-02-22T10:50:17.800Z"
   },
   {
    "duration": 350,
    "start_time": "2022-02-22T10:57:18.584Z"
   },
   {
    "duration": 5588,
    "start_time": "2022-02-22T10:58:16.226Z"
   },
   {
    "duration": 5359,
    "start_time": "2022-02-22T10:58:38.932Z"
   },
   {
    "duration": 471,
    "start_time": "2022-02-22T10:59:26.842Z"
   },
   {
    "duration": 273,
    "start_time": "2022-02-22T11:04:25.192Z"
   },
   {
    "duration": 452,
    "start_time": "2022-02-22T11:04:42.812Z"
   },
   {
    "duration": 3,
    "start_time": "2022-02-22T11:04:45.207Z"
   },
   {
    "duration": 34,
    "start_time": "2022-02-22T11:04:45.213Z"
   },
   {
    "duration": 9,
    "start_time": "2022-02-22T11:04:45.250Z"
   },
   {
    "duration": 44,
    "start_time": "2022-02-22T11:04:45.262Z"
   },
   {
    "duration": 5,
    "start_time": "2022-02-22T11:04:45.308Z"
   },
   {
    "duration": 10,
    "start_time": "2022-02-22T11:04:45.315Z"
   },
   {
    "duration": 21,
    "start_time": "2022-02-22T11:04:45.335Z"
   },
   {
    "duration": 14,
    "start_time": "2022-02-22T11:04:45.359Z"
   },
   {
    "duration": 16,
    "start_time": "2022-02-22T11:04:45.375Z"
   },
   {
    "duration": 20,
    "start_time": "2022-02-22T11:04:45.393Z"
   },
   {
    "duration": 427,
    "start_time": "2022-02-22T11:04:45.415Z"
   },
   {
    "duration": 248,
    "start_time": "2022-02-22T11:04:45.844Z"
   },
   {
    "duration": 228,
    "start_time": "2022-02-22T11:04:46.095Z"
   },
   {
    "duration": 329,
    "start_time": "2022-02-22T11:04:46.325Z"
   },
   {
    "duration": 226,
    "start_time": "2022-02-22T11:04:46.657Z"
   },
   {
    "duration": 375,
    "start_time": "2022-02-22T11:04:46.885Z"
   },
   {
    "duration": 431,
    "start_time": "2022-02-22T11:04:47.262Z"
   },
   {
    "duration": 16,
    "start_time": "2022-02-22T11:04:47.695Z"
   },
   {
    "duration": 327,
    "start_time": "2022-02-22T11:04:47.713Z"
   },
   {
    "duration": 6,
    "start_time": "2022-02-22T11:04:48.042Z"
   },
   {
    "duration": 668,
    "start_time": "2022-02-22T11:04:48.050Z"
   },
   {
    "duration": 264,
    "start_time": "2022-02-22T11:04:48.721Z"
   },
   {
    "duration": 19,
    "start_time": "2022-02-22T11:04:48.989Z"
   },
   {
    "duration": 33,
    "start_time": "2022-02-22T11:04:49.010Z"
   },
   {
    "duration": 12,
    "start_time": "2022-02-22T11:12:08.977Z"
   },
   {
    "duration": 5599,
    "start_time": "2022-02-22T11:22:29.937Z"
   },
   {
    "duration": 4,
    "start_time": "2022-02-22T11:25:42.828Z"
   },
   {
    "duration": 23,
    "start_time": "2022-02-22T11:25:42.834Z"
   },
   {
    "duration": 10,
    "start_time": "2022-02-22T11:25:42.859Z"
   },
   {
    "duration": 52,
    "start_time": "2022-02-22T11:25:42.872Z"
   },
   {
    "duration": 6,
    "start_time": "2022-02-22T11:25:42.926Z"
   },
   {
    "duration": 33,
    "start_time": "2022-02-22T11:25:42.934Z"
   },
   {
    "duration": 52,
    "start_time": "2022-02-22T11:25:42.969Z"
   },
   {
    "duration": 4,
    "start_time": "2022-02-22T11:25:43.025Z"
   },
   {
    "duration": 19,
    "start_time": "2022-02-22T11:25:43.032Z"
   },
   {
    "duration": 17,
    "start_time": "2022-02-22T11:25:43.053Z"
   },
   {
    "duration": 429,
    "start_time": "2022-02-22T11:25:43.072Z"
   },
   {
    "duration": 226,
    "start_time": "2022-02-22T11:25:43.508Z"
   },
   {
    "duration": 225,
    "start_time": "2022-02-22T11:25:43.736Z"
   },
   {
    "duration": 322,
    "start_time": "2022-02-22T11:25:43.963Z"
   },
   {
    "duration": 223,
    "start_time": "2022-02-22T11:25:44.287Z"
   },
   {
    "duration": 373,
    "start_time": "2022-02-22T11:25:44.512Z"
   },
   {
    "duration": 434,
    "start_time": "2022-02-22T11:25:44.887Z"
   },
   {
    "duration": 6,
    "start_time": "2022-02-22T11:25:45.322Z"
   },
   {
    "duration": 302,
    "start_time": "2022-02-22T11:25:45.330Z"
   },
   {
    "duration": 6,
    "start_time": "2022-02-22T11:25:45.634Z"
   },
   {
    "duration": 318,
    "start_time": "2022-02-22T11:25:45.642Z"
   },
   {
    "duration": 132,
    "start_time": "2022-02-22T11:25:45.962Z"
   },
   {
    "duration": 9,
    "start_time": "2022-02-22T11:25:46.098Z"
   },
   {
    "duration": 16,
    "start_time": "2022-02-22T11:25:46.110Z"
   },
   {
    "duration": 15,
    "start_time": "2022-02-22T11:25:46.128Z"
   },
   {
    "duration": 31,
    "start_time": "2022-02-22T11:25:46.146Z"
   },
   {
    "duration": 16,
    "start_time": "2022-02-22T11:33:05.336Z"
   },
   {
    "duration": 212,
    "start_time": "2022-02-22T11:47:57.113Z"
   },
   {
    "duration": 216,
    "start_time": "2022-02-22T11:48:04.784Z"
   },
   {
    "duration": 22,
    "start_time": "2022-02-22T11:48:10.024Z"
   },
   {
    "duration": 22,
    "start_time": "2022-02-22T11:48:37.680Z"
   },
   {
    "duration": 4,
    "start_time": "2022-02-22T11:53:27.064Z"
   },
   {
    "duration": 22,
    "start_time": "2022-02-22T11:53:27.071Z"
   },
   {
    "duration": 13,
    "start_time": "2022-02-22T11:53:27.096Z"
   },
   {
    "duration": 53,
    "start_time": "2022-02-22T11:53:27.111Z"
   },
   {
    "duration": 1201,
    "start_time": "2022-02-22T11:53:40.713Z"
   },
   {
    "duration": 27,
    "start_time": "2022-02-22T11:53:41.916Z"
   },
   {
    "duration": 8,
    "start_time": "2022-02-22T11:53:41.946Z"
   },
   {
    "duration": 38,
    "start_time": "2022-02-22T11:53:41.956Z"
   },
   {
    "duration": 7,
    "start_time": "2022-02-22T12:02:20.514Z"
   },
   {
    "duration": 22,
    "start_time": "2022-02-22T12:02:58.042Z"
   },
   {
    "duration": 8,
    "start_time": "2022-02-22T12:04:37.672Z"
   },
   {
    "duration": 18,
    "start_time": "2022-02-22T12:06:38.870Z"
   },
   {
    "duration": 18,
    "start_time": "2022-02-22T12:06:41.326Z"
   },
   {
    "duration": 8,
    "start_time": "2022-02-22T12:13:46.721Z"
   },
   {
    "duration": 14,
    "start_time": "2022-02-22T12:13:57.420Z"
   },
   {
    "duration": 15,
    "start_time": "2022-02-22T12:14:00.686Z"
   },
   {
    "duration": 488,
    "start_time": "2022-02-22T12:15:09.703Z"
   },
   {
    "duration": 326,
    "start_time": "2022-02-22T12:15:28.663Z"
   },
   {
    "duration": 11,
    "start_time": "2022-02-22T12:16:51.965Z"
   },
   {
    "duration": 418,
    "start_time": "2022-02-22T13:38:22.375Z"
   },
   {
    "duration": 8,
    "start_time": "2022-02-22T13:44:00.949Z"
   },
   {
    "duration": 243,
    "start_time": "2022-02-22T13:44:59.000Z"
   },
   {
    "duration": 268,
    "start_time": "2022-02-22T13:45:25.561Z"
   },
   {
    "duration": 260,
    "start_time": "2022-02-22T13:45:37.645Z"
   },
   {
    "duration": 268,
    "start_time": "2022-02-22T13:49:09.253Z"
   },
   {
    "duration": 349,
    "start_time": "2022-02-22T13:49:16.202Z"
   },
   {
    "duration": 598,
    "start_time": "2022-02-22T13:49:28.784Z"
   },
   {
    "duration": 252,
    "start_time": "2022-02-22T13:49:47.733Z"
   },
   {
    "duration": 564,
    "start_time": "2022-02-22T13:49:56.276Z"
   },
   {
    "duration": 496,
    "start_time": "2022-02-22T13:52:07.444Z"
   },
   {
    "duration": 471,
    "start_time": "2022-02-22T13:52:15.015Z"
   },
   {
    "duration": 514,
    "start_time": "2022-02-22T13:53:08.630Z"
   },
   {
    "duration": 451,
    "start_time": "2022-02-22T13:53:53.893Z"
   },
   {
    "duration": 466,
    "start_time": "2022-02-22T13:55:04.973Z"
   },
   {
    "duration": 498,
    "start_time": "2022-02-22T13:56:33.852Z"
   },
   {
    "duration": 206,
    "start_time": "2022-02-22T13:56:37.569Z"
   },
   {
    "duration": 251,
    "start_time": "2022-02-22T13:56:46.564Z"
   },
   {
    "duration": 458,
    "start_time": "2022-02-22T13:56:52.500Z"
   },
   {
    "duration": 502,
    "start_time": "2022-02-22T13:57:48.911Z"
   },
   {
    "duration": 299,
    "start_time": "2022-02-22T13:58:01.373Z"
   },
   {
    "duration": 449,
    "start_time": "2022-02-22T13:58:50.300Z"
   },
   {
    "duration": 350,
    "start_time": "2022-02-22T13:58:55.157Z"
   },
   {
    "duration": 304,
    "start_time": "2022-02-22T14:03:49.029Z"
   },
   {
    "duration": 268,
    "start_time": "2022-02-22T14:04:15.608Z"
   },
   {
    "duration": 442,
    "start_time": "2022-02-22T14:04:36.628Z"
   },
   {
    "duration": 267,
    "start_time": "2022-02-22T14:04:41.790Z"
   },
   {
    "duration": 281,
    "start_time": "2022-02-22T14:05:44.772Z"
   },
   {
    "duration": 7,
    "start_time": "2022-02-22T14:39:59.424Z"
   },
   {
    "duration": 435,
    "start_time": "2022-02-22T14:43:25.008Z"
   },
   {
    "duration": 351,
    "start_time": "2022-02-22T14:44:00.944Z"
   },
   {
    "duration": 7,
    "start_time": "2022-02-22T14:52:10.774Z"
   },
   {
    "duration": 259,
    "start_time": "2022-02-22T14:53:16.604Z"
   },
   {
    "duration": 255,
    "start_time": "2022-02-22T14:53:40.206Z"
   },
   {
    "duration": 356,
    "start_time": "2022-02-22T14:53:46.645Z"
   },
   {
    "duration": 12,
    "start_time": "2022-02-22T15:03:43.987Z"
   },
   {
    "duration": 462,
    "start_time": "2022-02-22T15:04:15.715Z"
   },
   {
    "duration": 341,
    "start_time": "2022-02-22T15:04:22.644Z"
   },
   {
    "duration": 366,
    "start_time": "2022-02-22T15:06:16.772Z"
   },
   {
    "duration": 150,
    "start_time": "2022-02-22T15:27:37.843Z"
   },
   {
    "duration": 343,
    "start_time": "2022-02-22T15:29:31.810Z"
   },
   {
    "duration": 316,
    "start_time": "2022-02-22T15:31:37.846Z"
   },
   {
    "duration": 381,
    "start_time": "2022-02-22T15:32:04.490Z"
   },
   {
    "duration": 364,
    "start_time": "2022-02-22T15:32:21.907Z"
   },
   {
    "duration": 395,
    "start_time": "2022-02-22T15:32:48.875Z"
   },
   {
    "duration": 477,
    "start_time": "2022-02-22T15:33:00.876Z"
   },
   {
    "duration": 443,
    "start_time": "2022-02-22T15:33:05.299Z"
   },
   {
    "duration": 332,
    "start_time": "2022-02-22T15:33:26.633Z"
   },
   {
    "duration": 239,
    "start_time": "2022-02-22T15:36:45.707Z"
   },
   {
    "duration": 631,
    "start_time": "2022-02-22T15:37:12.963Z"
   },
   {
    "duration": 316,
    "start_time": "2022-02-22T15:37:31.742Z"
   },
   {
    "duration": 355,
    "start_time": "2022-02-22T15:37:45.669Z"
   },
   {
    "duration": 334,
    "start_time": "2022-02-22T15:38:51.467Z"
   },
   {
    "duration": 513,
    "start_time": "2022-02-22T15:40:18.797Z"
   },
   {
    "duration": 432,
    "start_time": "2022-02-22T15:40:36.523Z"
   },
   {
    "duration": 336,
    "start_time": "2022-02-22T15:40:43.635Z"
   },
   {
    "duration": 361,
    "start_time": "2022-02-22T15:50:06.635Z"
   },
   {
    "duration": 11,
    "start_time": "2022-02-22T15:52:44.685Z"
   },
   {
    "duration": 6,
    "start_time": "2022-02-22T15:56:25.187Z"
   },
   {
    "duration": 229,
    "start_time": "2022-02-22T16:18:17.620Z"
   },
   {
    "duration": 5,
    "start_time": "2022-02-22T16:18:27.667Z"
   },
   {
    "duration": 25,
    "start_time": "2022-02-22T16:18:27.675Z"
   },
   {
    "duration": 7,
    "start_time": "2022-02-22T16:18:27.702Z"
   },
   {
    "duration": 38,
    "start_time": "2022-02-22T16:18:27.712Z"
   },
   {
    "duration": 21,
    "start_time": "2022-02-22T16:18:27.753Z"
   },
   {
    "duration": 8,
    "start_time": "2022-02-22T16:18:27.776Z"
   },
   {
    "duration": 26,
    "start_time": "2022-02-22T16:18:27.786Z"
   },
   {
    "duration": 14,
    "start_time": "2022-02-22T16:18:27.815Z"
   },
   {
    "duration": 418,
    "start_time": "2022-02-22T16:18:27.832Z"
   },
   {
    "duration": 8,
    "start_time": "2022-02-22T16:18:28.252Z"
   },
   {
    "duration": 276,
    "start_time": "2022-02-22T16:18:28.262Z"
   },
   {
    "duration": 267,
    "start_time": "2022-02-22T16:18:28.540Z"
   },
   {
    "duration": 7,
    "start_time": "2022-02-22T16:18:28.809Z"
   },
   {
    "duration": 368,
    "start_time": "2022-02-22T16:18:28.818Z"
   },
   {
    "duration": 7,
    "start_time": "2022-02-22T16:18:29.188Z"
   },
   {
    "duration": 256,
    "start_time": "2022-02-22T16:18:29.197Z"
   },
   {
    "duration": 10,
    "start_time": "2022-02-22T16:18:29.455Z"
   },
   {
    "duration": 463,
    "start_time": "2022-02-22T16:18:29.467Z"
   },
   {
    "duration": 149,
    "start_time": "2022-02-22T16:18:29.933Z"
   },
   {
    "duration": 356,
    "start_time": "2022-02-22T16:18:30.084Z"
   },
   {
    "duration": 5,
    "start_time": "2022-02-22T16:18:30.442Z"
   },
   {
    "duration": 388,
    "start_time": "2022-02-22T16:18:30.450Z"
   },
   {
    "duration": 5,
    "start_time": "2022-02-22T16:18:30.842Z"
   },
   {
    "duration": 374,
    "start_time": "2022-02-22T16:18:30.850Z"
   },
   {
    "duration": 128,
    "start_time": "2022-02-22T16:18:31.227Z"
   },
   {
    "duration": 8,
    "start_time": "2022-02-22T16:18:31.357Z"
   },
   {
    "duration": 55,
    "start_time": "2022-02-22T16:18:31.367Z"
   },
   {
    "duration": 6,
    "start_time": "2022-02-22T16:23:16.766Z"
   },
   {
    "duration": 12,
    "start_time": "2022-02-22T16:31:24.556Z"
   },
   {
    "duration": 9,
    "start_time": "2022-02-22T16:38:00.555Z"
   },
   {
    "duration": 10,
    "start_time": "2022-02-22T16:40:57.255Z"
   },
   {
    "duration": 9,
    "start_time": "2022-02-22T16:41:49.994Z"
   },
   {
    "duration": 6,
    "start_time": "2022-02-22T16:43:06.178Z"
   },
   {
    "duration": 13,
    "start_time": "2022-02-22T16:46:05.194Z"
   },
   {
    "duration": 12,
    "start_time": "2022-02-22T16:51:40.770Z"
   },
   {
    "duration": 1013,
    "start_time": "2022-02-22T19:13:09.897Z"
   },
   {
    "duration": 19,
    "start_time": "2022-02-22T19:13:10.912Z"
   },
   {
    "duration": 5,
    "start_time": "2022-02-22T19:13:10.933Z"
   },
   {
    "duration": 32,
    "start_time": "2022-02-22T19:13:10.939Z"
   },
   {
    "duration": 18,
    "start_time": "2022-02-22T19:13:10.972Z"
   },
   {
    "duration": 6,
    "start_time": "2022-02-22T19:13:10.992Z"
   },
   {
    "duration": 1166,
    "start_time": "2022-02-22T19:13:11.000Z"
   },
   {
    "duration": 13,
    "start_time": "2022-02-22T19:13:12.169Z"
   },
   {
    "duration": 347,
    "start_time": "2022-02-22T19:13:12.184Z"
   },
   {
    "duration": 6,
    "start_time": "2022-02-22T19:13:12.532Z"
   },
   {
    "duration": 233,
    "start_time": "2022-02-22T19:13:12.540Z"
   },
   {
    "duration": 221,
    "start_time": "2022-02-22T19:13:12.775Z"
   },
   {
    "duration": 6,
    "start_time": "2022-02-22T19:13:12.998Z"
   },
   {
    "duration": 407,
    "start_time": "2022-02-22T19:13:13.005Z"
   },
   {
    "duration": 7,
    "start_time": "2022-02-22T19:13:13.414Z"
   },
   {
    "duration": 215,
    "start_time": "2022-02-22T19:13:13.431Z"
   },
   {
    "duration": 8,
    "start_time": "2022-02-22T19:13:13.648Z"
   },
   {
    "duration": 311,
    "start_time": "2022-02-22T19:13:13.658Z"
   },
   {
    "duration": 120,
    "start_time": "2022-02-22T19:13:13.971Z"
   },
   {
    "duration": 282,
    "start_time": "2022-02-22T19:13:14.093Z"
   },
   {
    "duration": 5,
    "start_time": "2022-02-22T19:13:14.376Z"
   },
   {
    "duration": 373,
    "start_time": "2022-02-22T19:13:14.382Z"
   },
   {
    "duration": 4,
    "start_time": "2022-02-22T19:13:14.760Z"
   },
   {
    "duration": 298,
    "start_time": "2022-02-22T19:13:14.767Z"
   },
   {
    "duration": 122,
    "start_time": "2022-02-22T19:13:15.066Z"
   },
   {
    "duration": 7,
    "start_time": "2022-02-22T19:13:15.190Z"
   },
   {
    "duration": 14,
    "start_time": "2022-02-22T19:13:15.198Z"
   },
   {
    "duration": 4,
    "start_time": "2022-02-22T19:13:15.213Z"
   },
   {
    "duration": 18,
    "start_time": "2022-02-22T19:13:15.219Z"
   },
   {
    "duration": 7,
    "start_time": "2022-02-22T19:13:15.238Z"
   },
   {
    "duration": 8,
    "start_time": "2022-02-22T19:13:15.246Z"
   },
   {
    "duration": 7,
    "start_time": "2022-02-22T19:13:15.255Z"
   },
   {
    "duration": 6,
    "start_time": "2022-02-22T19:13:15.264Z"
   },
   {
    "duration": 3,
    "start_time": "2022-02-22T19:13:15.272Z"
   },
   {
    "duration": 9,
    "start_time": "2022-02-22T19:13:15.277Z"
   },
   {
    "duration": 47,
    "start_time": "2022-02-22T19:13:15.287Z"
   },
   {
    "duration": 938,
    "start_time": "2022-02-23T09:18:14.458Z"
   },
   {
    "duration": 34,
    "start_time": "2022-02-23T09:18:15.398Z"
   },
   {
    "duration": 4,
    "start_time": "2022-02-23T09:18:15.434Z"
   },
   {
    "duration": 47,
    "start_time": "2022-02-23T09:18:15.440Z"
   },
   {
    "duration": 22,
    "start_time": "2022-02-23T09:18:15.488Z"
   },
   {
    "duration": 6,
    "start_time": "2022-02-23T09:18:15.512Z"
   },
   {
    "duration": 312,
    "start_time": "2022-02-23T09:18:18.210Z"
   },
   {
    "duration": 267,
    "start_time": "2022-02-23T09:18:30.714Z"
   },
   {
    "duration": 6,
    "start_time": "2022-02-23T09:20:13.804Z"
   },
   {
    "duration": 80,
    "start_time": "2022-02-23T09:22:32.186Z"
   },
   {
    "duration": 307,
    "start_time": "2022-02-23T09:22:52.591Z"
   },
   {
    "duration": 16,
    "start_time": "2022-02-23T09:23:13.459Z"
   },
   {
    "duration": 14,
    "start_time": "2022-02-23T09:23:45.529Z"
   },
   {
    "duration": 245,
    "start_time": "2022-02-23T09:26:15.187Z"
   },
   {
    "duration": 257,
    "start_time": "2022-02-23T09:26:39.227Z"
   },
   {
    "duration": 15,
    "start_time": "2022-02-23T09:27:32.171Z"
   },
   {
    "duration": 15,
    "start_time": "2022-02-23T09:27:36.853Z"
   },
   {
    "duration": 4,
    "start_time": "2022-02-23T09:27:42.476Z"
   },
   {
    "duration": 24,
    "start_time": "2022-02-23T09:27:42.481Z"
   },
   {
    "duration": 3,
    "start_time": "2022-02-23T09:27:42.507Z"
   },
   {
    "duration": 47,
    "start_time": "2022-02-23T09:27:42.512Z"
   },
   {
    "duration": 21,
    "start_time": "2022-02-23T09:27:42.560Z"
   },
   {
    "duration": 6,
    "start_time": "2022-02-23T09:27:42.583Z"
   },
   {
    "duration": 17,
    "start_time": "2022-02-23T09:27:42.590Z"
   },
   {
    "duration": 95,
    "start_time": "2022-02-23T09:28:40.044Z"
   },
   {
    "duration": 54,
    "start_time": "2022-02-23T09:28:49.996Z"
   },
   {
    "duration": 54,
    "start_time": "2022-02-23T09:29:03.873Z"
   },
   {
    "duration": 250,
    "start_time": "2022-02-23T09:29:17.225Z"
   },
   {
    "duration": 9,
    "start_time": "2022-02-23T09:30:27.378Z"
   },
   {
    "duration": 8,
    "start_time": "2022-02-23T09:31:33.627Z"
   },
   {
    "duration": 237,
    "start_time": "2022-02-23T09:31:36.977Z"
   },
   {
    "duration": 241,
    "start_time": "2022-02-23T09:33:48.385Z"
   },
   {
    "duration": 8,
    "start_time": "2022-02-23T09:34:03.107Z"
   },
   {
    "duration": 1222,
    "start_time": "2022-02-23T09:35:40.595Z"
   },
   {
    "duration": 740,
    "start_time": "2022-02-23T09:35:44.485Z"
   },
   {
    "duration": 125,
    "start_time": "2022-02-23T09:37:07.419Z"
   },
   {
    "duration": 356,
    "start_time": "2022-02-23T09:37:57.487Z"
   },
   {
    "duration": 369,
    "start_time": "2022-02-23T09:38:01.555Z"
   },
   {
    "duration": 243,
    "start_time": "2022-02-23T09:39:41.381Z"
   },
   {
    "duration": 3,
    "start_time": "2022-02-23T09:39:55.781Z"
   },
   {
    "duration": 20,
    "start_time": "2022-02-23T09:39:55.786Z"
   },
   {
    "duration": 4,
    "start_time": "2022-02-23T09:39:55.808Z"
   },
   {
    "duration": 44,
    "start_time": "2022-02-23T09:39:55.813Z"
   },
   {
    "duration": 22,
    "start_time": "2022-02-23T09:39:55.858Z"
   },
   {
    "duration": 11,
    "start_time": "2022-02-23T09:39:55.881Z"
   },
   {
    "duration": 247,
    "start_time": "2022-02-23T09:39:55.893Z"
   },
   {
    "duration": 8,
    "start_time": "2022-02-23T09:40:01.879Z"
   },
   {
    "duration": 10,
    "start_time": "2022-02-23T09:40:45.360Z"
   },
   {
    "duration": 9,
    "start_time": "2022-02-23T09:40:56.713Z"
   },
   {
    "duration": 22,
    "start_time": "2022-02-23T09:41:37.674Z"
   },
   {
    "duration": 10,
    "start_time": "2022-02-23T09:42:51.444Z"
   },
   {
    "duration": 10,
    "start_time": "2022-02-23T09:43:45.252Z"
   },
   {
    "duration": 21,
    "start_time": "2022-02-23T09:43:57.529Z"
   },
   {
    "duration": 321,
    "start_time": "2022-02-23T09:53:00.360Z"
   },
   {
    "duration": 4,
    "start_time": "2022-02-23T09:53:10.346Z"
   },
   {
    "duration": 5,
    "start_time": "2022-02-23T09:53:30.494Z"
   },
   {
    "duration": 4,
    "start_time": "2022-02-23T09:53:41.617Z"
   },
   {
    "duration": 245,
    "start_time": "2022-02-23T09:54:21.276Z"
   },
   {
    "duration": 7,
    "start_time": "2022-02-23T09:54:24.451Z"
   },
   {
    "duration": 4,
    "start_time": "2022-02-23T09:54:27.208Z"
   },
   {
    "duration": 4,
    "start_time": "2022-02-23T09:54:44.582Z"
   },
   {
    "duration": 251,
    "start_time": "2022-02-23T10:01:49.009Z"
   },
   {
    "duration": 3,
    "start_time": "2022-02-23T10:02:08.609Z"
   },
   {
    "duration": 43,
    "start_time": "2022-02-23T10:02:12.848Z"
   },
   {
    "duration": 5,
    "start_time": "2022-02-23T10:02:38.952Z"
   },
   {
    "duration": 11,
    "start_time": "2022-02-23T10:06:18.564Z"
   },
   {
    "duration": 3,
    "start_time": "2022-02-23T10:28:01.387Z"
   },
   {
    "duration": 24,
    "start_time": "2022-02-23T10:28:01.392Z"
   },
   {
    "duration": 3,
    "start_time": "2022-02-23T10:28:01.418Z"
   },
   {
    "duration": 46,
    "start_time": "2022-02-23T10:28:01.423Z"
   },
   {
    "duration": 22,
    "start_time": "2022-02-23T10:28:01.470Z"
   },
   {
    "duration": 6,
    "start_time": "2022-02-23T10:28:01.493Z"
   },
   {
    "duration": 18,
    "start_time": "2022-02-23T10:28:01.501Z"
   },
   {
    "duration": 1,
    "start_time": "2022-02-23T10:28:01.521Z"
   },
   {
    "duration": 6,
    "start_time": "2022-02-23T10:28:01.524Z"
   },
   {
    "duration": 393,
    "start_time": "2022-02-23T10:28:01.531Z"
   },
   {
    "duration": 13,
    "start_time": "2022-02-23T10:28:01.926Z"
   },
   {
    "duration": 327,
    "start_time": "2022-02-23T10:28:01.941Z"
   },
   {
    "duration": 6,
    "start_time": "2022-02-23T10:28:02.269Z"
   },
   {
    "duration": 218,
    "start_time": "2022-02-23T10:28:02.277Z"
   },
   {
    "duration": 211,
    "start_time": "2022-02-23T10:28:02.496Z"
   },
   {
    "duration": 5,
    "start_time": "2022-02-23T10:28:02.709Z"
   },
   {
    "duration": 387,
    "start_time": "2022-02-23T10:28:02.716Z"
   },
   {
    "duration": 6,
    "start_time": "2022-02-23T10:28:03.105Z"
   },
   {
    "duration": 198,
    "start_time": "2022-02-23T10:28:03.114Z"
   },
   {
    "duration": 8,
    "start_time": "2022-02-23T10:28:03.314Z"
   },
   {
    "duration": 355,
    "start_time": "2022-02-23T10:28:03.323Z"
   },
   {
    "duration": 105,
    "start_time": "2022-02-23T10:28:03.680Z"
   },
   {
    "duration": 261,
    "start_time": "2022-02-23T10:28:03.787Z"
   },
   {
    "duration": 4,
    "start_time": "2022-02-23T10:28:04.050Z"
   },
   {
    "duration": 291,
    "start_time": "2022-02-23T10:28:04.057Z"
   },
   {
    "duration": 5,
    "start_time": "2022-02-23T10:28:04.350Z"
   },
   {
    "duration": 264,
    "start_time": "2022-02-23T10:28:04.356Z"
   },
   {
    "duration": 118,
    "start_time": "2022-02-23T10:28:04.621Z"
   },
   {
    "duration": 6,
    "start_time": "2022-02-23T10:28:04.741Z"
   },
   {
    "duration": 9,
    "start_time": "2022-02-23T10:28:04.748Z"
   },
   {
    "duration": 4,
    "start_time": "2022-02-23T10:28:04.758Z"
   },
   {
    "duration": 8,
    "start_time": "2022-02-23T10:28:04.764Z"
   },
   {
    "duration": 7,
    "start_time": "2022-02-23T10:28:04.773Z"
   },
   {
    "duration": 7,
    "start_time": "2022-02-23T10:28:04.781Z"
   },
   {
    "duration": 5,
    "start_time": "2022-02-23T10:28:09.736Z"
   },
   {
    "duration": 4,
    "start_time": "2022-02-23T10:28:23.832Z"
   },
   {
    "duration": 8,
    "start_time": "2022-02-23T10:28:37.967Z"
   },
   {
    "duration": 253,
    "start_time": "2022-02-23T10:30:46.128Z"
   },
   {
    "duration": 249,
    "start_time": "2022-02-23T10:30:59.119Z"
   },
   {
    "duration": 234,
    "start_time": "2022-02-23T10:31:29.057Z"
   },
   {
    "duration": 249,
    "start_time": "2022-02-23T10:31:32.471Z"
   },
   {
    "duration": 268,
    "start_time": "2022-02-23T10:32:59.983Z"
   },
   {
    "duration": 243,
    "start_time": "2022-02-23T10:33:07.632Z"
   },
   {
    "duration": 347,
    "start_time": "2022-02-23T10:33:17.500Z"
   },
   {
    "duration": 1016,
    "start_time": "2022-02-23T10:35:04.743Z"
   },
   {
    "duration": 684,
    "start_time": "2022-02-23T10:35:23.401Z"
   },
   {
    "duration": 3,
    "start_time": "2022-02-23T10:35:39.536Z"
   },
   {
    "duration": 45,
    "start_time": "2022-02-23T10:35:39.543Z"
   },
   {
    "duration": 3,
    "start_time": "2022-02-23T10:35:39.590Z"
   },
   {
    "duration": 47,
    "start_time": "2022-02-23T10:35:39.595Z"
   },
   {
    "duration": 24,
    "start_time": "2022-02-23T10:35:39.643Z"
   },
   {
    "duration": 6,
    "start_time": "2022-02-23T10:35:39.669Z"
   },
   {
    "duration": 13,
    "start_time": "2022-02-23T10:35:39.677Z"
   },
   {
    "duration": 5,
    "start_time": "2022-02-23T10:35:41.963Z"
   },
   {
    "duration": 292,
    "start_time": "2022-02-23T10:35:54.874Z"
   },
   {
    "duration": 252,
    "start_time": "2022-02-23T10:36:49.783Z"
   },
   {
    "duration": 257,
    "start_time": "2022-02-23T10:37:03.311Z"
   },
   {
    "duration": 237,
    "start_time": "2022-02-23T10:37:15.191Z"
   },
   {
    "duration": 4,
    "start_time": "2022-02-23T10:37:20.006Z"
   },
   {
    "duration": 24,
    "start_time": "2022-02-23T10:37:20.011Z"
   },
   {
    "duration": 7,
    "start_time": "2022-02-23T10:37:20.037Z"
   },
   {
    "duration": 49,
    "start_time": "2022-02-23T10:37:20.045Z"
   },
   {
    "duration": 23,
    "start_time": "2022-02-23T10:37:20.096Z"
   },
   {
    "duration": 10,
    "start_time": "2022-02-23T10:37:20.121Z"
   },
   {
    "duration": 11,
    "start_time": "2022-02-23T10:37:20.133Z"
   },
   {
    "duration": 4,
    "start_time": "2022-02-23T10:37:20.146Z"
   },
   {
    "duration": 277,
    "start_time": "2022-02-23T10:39:04.191Z"
   },
   {
    "duration": 257,
    "start_time": "2022-02-23T10:39:11.449Z"
   },
   {
    "duration": 4,
    "start_time": "2022-02-23T10:39:15.752Z"
   },
   {
    "duration": 59,
    "start_time": "2022-02-23T10:39:15.757Z"
   },
   {
    "duration": 17,
    "start_time": "2022-02-23T10:39:15.819Z"
   },
   {
    "duration": 63,
    "start_time": "2022-02-23T10:39:15.838Z"
   },
   {
    "duration": 22,
    "start_time": "2022-02-23T10:39:15.903Z"
   },
   {
    "duration": 22,
    "start_time": "2022-02-23T10:39:15.926Z"
   },
   {
    "duration": 23,
    "start_time": "2022-02-23T10:39:15.949Z"
   },
   {
    "duration": 4,
    "start_time": "2022-02-23T10:39:15.974Z"
   },
   {
    "duration": 15,
    "start_time": "2022-02-23T10:39:15.980Z"
   },
   {
    "duration": 3322,
    "start_time": "2022-02-23T10:39:44.033Z"
   },
   {
    "duration": 3,
    "start_time": "2022-02-23T10:40:15.837Z"
   },
   {
    "duration": 20,
    "start_time": "2022-02-23T10:40:15.869Z"
   },
   {
    "duration": 3,
    "start_time": "2022-02-23T10:40:15.890Z"
   },
   {
    "duration": 43,
    "start_time": "2022-02-23T10:40:15.895Z"
   },
   {
    "duration": 21,
    "start_time": "2022-02-23T10:40:15.940Z"
   },
   {
    "duration": 8,
    "start_time": "2022-02-23T10:40:15.962Z"
   },
   {
    "duration": 20,
    "start_time": "2022-02-23T10:40:15.971Z"
   },
   {
    "duration": 6,
    "start_time": "2022-02-23T10:40:15.993Z"
   },
   {
    "duration": 302,
    "start_time": "2022-02-23T10:40:44.937Z"
   },
   {
    "duration": 240,
    "start_time": "2022-02-23T10:46:57.864Z"
   },
   {
    "duration": 4,
    "start_time": "2022-02-23T10:47:08.200Z"
   },
   {
    "duration": 31,
    "start_time": "2022-02-23T10:47:08.206Z"
   },
   {
    "duration": 4,
    "start_time": "2022-02-23T10:47:08.239Z"
   },
   {
    "duration": 47,
    "start_time": "2022-02-23T10:47:08.244Z"
   },
   {
    "duration": 22,
    "start_time": "2022-02-23T10:47:08.292Z"
   },
   {
    "duration": 6,
    "start_time": "2022-02-23T10:47:08.316Z"
   },
   {
    "duration": 10,
    "start_time": "2022-02-23T10:47:08.324Z"
   },
   {
    "duration": 4,
    "start_time": "2022-02-23T10:47:08.336Z"
   },
   {
    "duration": 5,
    "start_time": "2022-02-23T10:47:11.766Z"
   },
   {
    "duration": 9,
    "start_time": "2022-02-23T10:47:21.599Z"
   },
   {
    "duration": 3,
    "start_time": "2022-02-23T10:49:40.567Z"
   },
   {
    "duration": 37,
    "start_time": "2022-02-23T10:49:40.572Z"
   },
   {
    "duration": 14,
    "start_time": "2022-02-23T10:49:40.611Z"
   },
   {
    "duration": 57,
    "start_time": "2022-02-23T10:49:40.626Z"
   },
   {
    "duration": 29,
    "start_time": "2022-02-23T10:49:40.684Z"
   },
   {
    "duration": 9,
    "start_time": "2022-02-23T10:49:40.715Z"
   },
   {
    "duration": 20,
    "start_time": "2022-02-23T10:49:40.725Z"
   },
   {
    "duration": 3,
    "start_time": "2022-02-23T10:49:40.746Z"
   },
   {
    "duration": 9,
    "start_time": "2022-02-23T10:49:40.751Z"
   },
   {
    "duration": 3,
    "start_time": "2022-02-23T10:50:11.573Z"
   },
   {
    "duration": 21,
    "start_time": "2022-02-23T10:50:11.578Z"
   },
   {
    "duration": 3,
    "start_time": "2022-02-23T10:50:11.601Z"
   },
   {
    "duration": 47,
    "start_time": "2022-02-23T10:50:11.605Z"
   },
   {
    "duration": 21,
    "start_time": "2022-02-23T10:50:11.654Z"
   },
   {
    "duration": 6,
    "start_time": "2022-02-23T10:50:11.676Z"
   },
   {
    "duration": 15,
    "start_time": "2022-02-23T10:50:11.683Z"
   },
   {
    "duration": 10,
    "start_time": "2022-02-23T10:50:49.865Z"
   },
   {
    "duration": 3,
    "start_time": "2022-02-23T10:51:32.668Z"
   },
   {
    "duration": 22,
    "start_time": "2022-02-23T10:51:32.673Z"
   },
   {
    "duration": 5,
    "start_time": "2022-02-23T10:51:32.697Z"
   },
   {
    "duration": 49,
    "start_time": "2022-02-23T10:51:32.703Z"
   },
   {
    "duration": 23,
    "start_time": "2022-02-23T10:51:32.754Z"
   },
   {
    "duration": 7,
    "start_time": "2022-02-23T10:51:32.778Z"
   },
   {
    "duration": 11,
    "start_time": "2022-02-23T10:51:32.787Z"
   },
   {
    "duration": 9,
    "start_time": "2022-02-23T10:51:32.800Z"
   },
   {
    "duration": 6,
    "start_time": "2022-02-23T10:54:18.282Z"
   },
   {
    "duration": 6,
    "start_time": "2022-02-23T10:55:01.130Z"
   },
   {
    "duration": 9,
    "start_time": "2022-02-23T10:58:03.879Z"
   },
   {
    "duration": 267,
    "start_time": "2022-02-23T11:01:37.751Z"
   },
   {
    "duration": 3,
    "start_time": "2022-02-23T11:01:42.113Z"
   },
   {
    "duration": 21,
    "start_time": "2022-02-23T11:01:42.121Z"
   },
   {
    "duration": 3,
    "start_time": "2022-02-23T11:01:42.144Z"
   },
   {
    "duration": 53,
    "start_time": "2022-02-23T11:01:42.149Z"
   },
   {
    "duration": 22,
    "start_time": "2022-02-23T11:01:42.204Z"
   },
   {
    "duration": 6,
    "start_time": "2022-02-23T11:01:42.227Z"
   },
   {
    "duration": 11,
    "start_time": "2022-02-23T11:01:42.235Z"
   },
   {
    "duration": 6,
    "start_time": "2022-02-23T11:01:42.247Z"
   },
   {
    "duration": 7,
    "start_time": "2022-02-23T11:01:42.254Z"
   },
   {
    "duration": 382,
    "start_time": "2022-02-23T11:17:34.761Z"
   },
   {
    "duration": 4,
    "start_time": "2022-02-23T11:17:39.459Z"
   },
   {
    "duration": 54,
    "start_time": "2022-02-23T11:17:39.465Z"
   },
   {
    "duration": 16,
    "start_time": "2022-02-23T11:17:39.521Z"
   },
   {
    "duration": 93,
    "start_time": "2022-02-23T11:17:39.538Z"
   },
   {
    "duration": 45,
    "start_time": "2022-02-23T11:17:39.632Z"
   },
   {
    "duration": 33,
    "start_time": "2022-02-23T11:17:39.679Z"
   },
   {
    "duration": 27,
    "start_time": "2022-02-23T11:17:39.714Z"
   },
   {
    "duration": 27,
    "start_time": "2022-02-23T11:17:39.743Z"
   },
   {
    "duration": 20,
    "start_time": "2022-02-23T11:17:39.772Z"
   },
   {
    "duration": 40,
    "start_time": "2022-02-23T11:17:39.794Z"
   },
   {
    "duration": 34,
    "start_time": "2022-02-23T11:17:39.836Z"
   },
   {
    "duration": 24,
    "start_time": "2022-02-23T11:17:39.872Z"
   },
   {
    "duration": 12,
    "start_time": "2022-02-23T11:18:00.845Z"
   },
   {
    "duration": 698,
    "start_time": "2022-02-23T11:19:59.663Z"
   },
   {
    "duration": 16,
    "start_time": "2022-02-23T11:20:42.903Z"
   },
   {
    "duration": 732,
    "start_time": "2022-02-23T11:23:01.232Z"
   },
   {
    "duration": 14,
    "start_time": "2022-02-23T11:23:05.152Z"
   },
   {
    "duration": 15,
    "start_time": "2022-02-23T11:24:27.720Z"
   },
   {
    "duration": 348,
    "start_time": "2022-02-23T11:28:39.191Z"
   },
   {
    "duration": 245,
    "start_time": "2022-02-23T11:28:48.506Z"
   },
   {
    "duration": 1552,
    "start_time": "2022-02-23T11:28:57.915Z"
   },
   {
    "duration": 262,
    "start_time": "2022-02-23T11:29:35.975Z"
   },
   {
    "duration": 1454,
    "start_time": "2022-02-23T11:29:41.543Z"
   },
   {
    "duration": 19,
    "start_time": "2022-02-23T11:33:19.920Z"
   },
   {
    "duration": 3,
    "start_time": "2022-02-23T11:33:28.420Z"
   },
   {
    "duration": 22,
    "start_time": "2022-02-23T11:33:28.424Z"
   },
   {
    "duration": 6,
    "start_time": "2022-02-23T11:33:28.448Z"
   },
   {
    "duration": 45,
    "start_time": "2022-02-23T11:33:28.456Z"
   },
   {
    "duration": 22,
    "start_time": "2022-02-23T11:33:28.502Z"
   },
   {
    "duration": 6,
    "start_time": "2022-02-23T11:33:28.525Z"
   },
   {
    "duration": 10,
    "start_time": "2022-02-23T11:33:28.533Z"
   },
   {
    "duration": 4,
    "start_time": "2022-02-23T11:33:28.545Z"
   },
   {
    "duration": 7,
    "start_time": "2022-02-23T11:33:28.551Z"
   },
   {
    "duration": 9,
    "start_time": "2022-02-23T11:33:28.559Z"
   },
   {
    "duration": 12,
    "start_time": "2022-02-23T11:33:28.569Z"
   },
   {
    "duration": 21,
    "start_time": "2022-02-23T11:33:28.583Z"
   },
   {
    "duration": 15,
    "start_time": "2022-02-23T11:34:23.968Z"
   },
   {
    "duration": 1138,
    "start_time": "2022-02-26T15:20:44.628Z"
   },
   {
    "duration": 81,
    "start_time": "2022-02-26T15:20:45.769Z"
   },
   {
    "duration": 3,
    "start_time": "2022-02-26T15:20:45.852Z"
   },
   {
    "duration": 143,
    "start_time": "2022-02-26T15:20:45.857Z"
   },
   {
    "duration": 61,
    "start_time": "2022-02-26T15:20:46.001Z"
   },
   {
    "duration": 7,
    "start_time": "2022-02-26T15:20:46.064Z"
   },
   {
    "duration": 14,
    "start_time": "2022-02-26T15:20:46.080Z"
   },
   {
    "duration": 9,
    "start_time": "2022-02-26T15:20:46.097Z"
   },
   {
    "duration": 8,
    "start_time": "2022-02-26T15:20:46.108Z"
   },
   {
    "duration": 593,
    "start_time": "2022-02-26T15:20:46.118Z"
   },
   {
    "duration": 13,
    "start_time": "2022-02-26T15:20:46.713Z"
   },
   {
    "duration": 21,
    "start_time": "2022-02-26T15:20:46.727Z"
   },
   {
    "duration": 341,
    "start_time": "2022-02-26T15:21:02.868Z"
   },
   {
    "duration": 8,
    "start_time": "2022-02-26T15:21:06.213Z"
   },
   {
    "duration": 248,
    "start_time": "2022-02-26T15:40:08.599Z"
   },
   {
    "duration": 259,
    "start_time": "2022-02-26T15:41:55.248Z"
   },
   {
    "duration": 353,
    "start_time": "2022-02-26T15:43:10.031Z"
   },
   {
    "duration": 360,
    "start_time": "2022-02-26T15:52:34.929Z"
   },
   {
    "duration": 260,
    "start_time": "2022-02-26T15:59:21.037Z"
   },
   {
    "duration": 305,
    "start_time": "2022-02-26T15:59:36.994Z"
   },
   {
    "duration": 401,
    "start_time": "2022-02-26T16:02:44.249Z"
   },
   {
    "duration": 304,
    "start_time": "2022-02-26T16:06:09.423Z"
   },
   {
    "duration": 6,
    "start_time": "2022-02-26T16:06:14.950Z"
   },
   {
    "duration": 360,
    "start_time": "2022-02-26T16:06:16.919Z"
   },
   {
    "duration": 6,
    "start_time": "2022-02-26T16:12:46.942Z"
   },
   {
    "duration": 251,
    "start_time": "2022-02-26T16:13:58.920Z"
   },
   {
    "duration": 248,
    "start_time": "2022-02-26T16:14:23.809Z"
   },
   {
    "duration": 314,
    "start_time": "2022-02-26T16:14:32.327Z"
   },
   {
    "duration": 355,
    "start_time": "2022-02-26T16:14:41.710Z"
   },
   {
    "duration": 354,
    "start_time": "2022-02-26T16:14:52.625Z"
   },
   {
    "duration": 293,
    "start_time": "2022-02-26T16:29:14.857Z"
   },
   {
    "duration": 291,
    "start_time": "2022-02-26T16:29:23.461Z"
   },
   {
    "duration": 8,
    "start_time": "2022-02-26T16:29:40.669Z"
   },
   {
    "duration": 359,
    "start_time": "2022-02-26T16:30:23.056Z"
   },
   {
    "duration": 335,
    "start_time": "2022-02-26T16:30:36.848Z"
   },
   {
    "duration": 1455,
    "start_time": "2022-02-26T16:35:30.398Z"
   },
   {
    "duration": 104,
    "start_time": "2022-02-26T16:35:35.294Z"
   },
   {
    "duration": 402,
    "start_time": "2022-02-26T16:35:37.142Z"
   },
   {
    "duration": 5,
    "start_time": "2022-02-26T16:35:57.856Z"
   },
   {
    "duration": 3,
    "start_time": "2022-02-26T16:36:33.151Z"
   },
   {
    "duration": 30,
    "start_time": "2022-02-26T16:36:33.157Z"
   },
   {
    "duration": 6,
    "start_time": "2022-02-26T16:36:33.189Z"
   },
   {
    "duration": 59,
    "start_time": "2022-02-26T16:36:33.197Z"
   },
   {
    "duration": 24,
    "start_time": "2022-02-26T16:36:33.257Z"
   },
   {
    "duration": 7,
    "start_time": "2022-02-26T16:36:33.283Z"
   },
   {
    "duration": 19,
    "start_time": "2022-02-26T16:36:33.293Z"
   },
   {
    "duration": 6,
    "start_time": "2022-02-26T16:36:33.315Z"
   },
   {
    "duration": 9,
    "start_time": "2022-02-26T16:36:33.322Z"
   },
   {
    "duration": 11,
    "start_time": "2022-02-26T16:36:33.333Z"
   },
   {
    "duration": 38,
    "start_time": "2022-02-26T16:36:33.346Z"
   },
   {
    "duration": 22,
    "start_time": "2022-02-26T16:36:33.386Z"
   },
   {
    "duration": 353,
    "start_time": "2022-02-26T16:36:33.410Z"
   },
   {
    "duration": 15,
    "start_time": "2022-02-26T16:36:33.765Z"
   },
   {
    "duration": 346,
    "start_time": "2022-02-26T16:36:33.782Z"
   },
   {
    "duration": 377,
    "start_time": "2022-02-26T16:36:34.130Z"
   },
   {
    "duration": 5,
    "start_time": "2022-02-26T16:36:34.509Z"
   },
   {
    "duration": 347,
    "start_time": "2022-02-26T16:36:34.516Z"
   },
   {
    "duration": 6,
    "start_time": "2022-02-26T16:36:34.865Z"
   },
   {
    "duration": 301,
    "start_time": "2022-02-26T16:36:34.877Z"
   },
   {
    "duration": 7,
    "start_time": "2022-02-26T16:36:35.180Z"
   },
   {
    "duration": 360,
    "start_time": "2022-02-26T16:36:35.189Z"
   },
   {
    "duration": 126,
    "start_time": "2022-02-26T16:36:35.551Z"
   },
   {
    "duration": 367,
    "start_time": "2022-02-26T16:36:35.679Z"
   },
   {
    "duration": 284,
    "start_time": "2022-02-26T16:46:07.419Z"
   },
   {
    "duration": 299,
    "start_time": "2022-02-26T16:47:16.734Z"
   },
   {
    "duration": 278,
    "start_time": "2022-02-26T16:48:00.214Z"
   },
   {
    "duration": 349,
    "start_time": "2022-02-26T16:48:13.758Z"
   },
   {
    "duration": 5,
    "start_time": "2022-02-26T16:50:24.024Z"
   },
   {
    "duration": 355,
    "start_time": "2022-02-26T16:51:17.377Z"
   },
   {
    "duration": 121,
    "start_time": "2022-02-26T16:51:23.830Z"
   },
   {
    "duration": 6,
    "start_time": "2022-02-26T16:51:27.499Z"
   },
   {
    "duration": 239,
    "start_time": "2022-02-26T17:00:29.912Z"
   },
   {
    "duration": 222,
    "start_time": "2022-02-26T17:00:39.224Z"
   },
   {
    "duration": 223,
    "start_time": "2022-02-26T17:01:52.495Z"
   },
   {
    "duration": 74,
    "start_time": "2022-02-26T17:05:21.999Z"
   },
   {
    "duration": 76,
    "start_time": "2022-02-26T17:05:50.478Z"
   },
   {
    "duration": 70,
    "start_time": "2022-02-26T17:06:28.607Z"
   },
   {
    "duration": 69,
    "start_time": "2022-02-26T17:06:49.370Z"
   },
   {
    "duration": 6,
    "start_time": "2022-02-26T17:07:09.452Z"
   },
   {
    "duration": 11,
    "start_time": "2022-02-26T17:14:03.507Z"
   },
   {
    "duration": 10,
    "start_time": "2022-02-26T17:14:37.965Z"
   },
   {
    "duration": 326,
    "start_time": "2022-02-26T17:15:12.710Z"
   },
   {
    "duration": 347,
    "start_time": "2022-02-26T17:15:15.497Z"
   },
   {
    "duration": 332,
    "start_time": "2022-02-26T17:15:20.886Z"
   },
   {
    "duration": 329,
    "start_time": "2022-02-26T17:15:42.253Z"
   },
   {
    "duration": 321,
    "start_time": "2022-02-26T17:15:48.102Z"
   },
   {
    "duration": 322,
    "start_time": "2022-02-26T17:15:56.334Z"
   },
   {
    "duration": 321,
    "start_time": "2022-02-26T17:16:02.423Z"
   },
   {
    "duration": 5,
    "start_time": "2022-02-26T17:16:50.556Z"
   },
   {
    "duration": 4,
    "start_time": "2022-02-26T17:17:01.358Z"
   },
   {
    "duration": 68,
    "start_time": "2022-02-26T17:19:38.094Z"
   },
   {
    "duration": 69,
    "start_time": "2022-02-26T17:19:52.737Z"
   },
   {
    "duration": 12,
    "start_time": "2022-02-26T17:20:14.598Z"
   },
   {
    "duration": 7,
    "start_time": "2022-02-26T17:20:43.128Z"
   },
   {
    "duration": 8,
    "start_time": "2022-02-26T17:21:09.789Z"
   },
   {
    "duration": 8,
    "start_time": "2022-02-26T17:21:12.862Z"
   },
   {
    "duration": 7,
    "start_time": "2022-02-26T17:21:16.957Z"
   },
   {
    "duration": 10,
    "start_time": "2022-02-26T17:22:02.861Z"
   },
   {
    "duration": 11,
    "start_time": "2022-02-26T17:22:27.686Z"
   },
   {
    "duration": 5,
    "start_time": "2022-02-26T17:22:51.334Z"
   },
   {
    "duration": 13,
    "start_time": "2022-02-26T17:23:30.805Z"
   },
   {
    "duration": 70,
    "start_time": "2022-02-26T17:25:18.291Z"
   },
   {
    "duration": 79,
    "start_time": "2022-02-26T17:25:30.605Z"
   },
   {
    "duration": 10,
    "start_time": "2022-02-26T17:25:52.237Z"
   },
   {
    "duration": 5,
    "start_time": "2022-02-26T17:26:18.461Z"
   },
   {
    "duration": 96,
    "start_time": "2022-02-26T17:26:42.285Z"
   },
   {
    "duration": 4,
    "start_time": "2022-02-26T17:26:49.406Z"
   },
   {
    "duration": 4,
    "start_time": "2022-02-26T17:28:03.614Z"
   },
   {
    "duration": 7,
    "start_time": "2022-02-26T17:28:39.470Z"
   },
   {
    "duration": 3,
    "start_time": "2022-02-26T17:29:00.616Z"
   },
   {
    "duration": 8,
    "start_time": "2022-02-26T17:29:10.845Z"
   },
   {
    "duration": 70,
    "start_time": "2022-02-26T17:34:31.352Z"
   },
   {
    "duration": 69,
    "start_time": "2022-02-26T17:34:35.469Z"
   },
   {
    "duration": 9,
    "start_time": "2022-02-26T17:34:39.800Z"
   },
   {
    "duration": 13,
    "start_time": "2022-02-26T17:37:00.773Z"
   },
   {
    "duration": 9,
    "start_time": "2022-02-26T17:55:16.921Z"
   },
   {
    "duration": 8,
    "start_time": "2022-02-26T17:55:33.593Z"
   },
   {
    "duration": 4,
    "start_time": "2022-02-26T17:56:09.265Z"
   },
   {
    "duration": 22,
    "start_time": "2022-02-26T17:56:09.271Z"
   },
   {
    "duration": 5,
    "start_time": "2022-02-26T17:56:09.295Z"
   },
   {
    "duration": 56,
    "start_time": "2022-02-26T17:56:09.302Z"
   },
   {
    "duration": 23,
    "start_time": "2022-02-26T17:56:09.359Z"
   },
   {
    "duration": 6,
    "start_time": "2022-02-26T17:56:09.384Z"
   },
   {
    "duration": 11,
    "start_time": "2022-02-26T17:56:09.394Z"
   },
   {
    "duration": 6,
    "start_time": "2022-02-26T17:56:09.408Z"
   },
   {
    "duration": 13,
    "start_time": "2022-02-26T17:56:09.416Z"
   },
   {
    "duration": 1366,
    "start_time": "2022-02-26T17:56:23.395Z"
   },
   {
    "duration": 26,
    "start_time": "2022-02-26T17:56:24.763Z"
   },
   {
    "duration": 3,
    "start_time": "2022-02-26T17:56:24.792Z"
   },
   {
    "duration": 49,
    "start_time": "2022-02-26T17:56:24.797Z"
   },
   {
    "duration": 24,
    "start_time": "2022-02-26T17:56:24.848Z"
   },
   {
    "duration": 12,
    "start_time": "2022-02-26T17:56:24.873Z"
   },
   {
    "duration": 15,
    "start_time": "2022-02-26T17:56:24.887Z"
   },
   {
    "duration": 6,
    "start_time": "2022-02-26T17:56:24.904Z"
   },
   {
    "duration": 7,
    "start_time": "2022-02-26T17:56:24.912Z"
   },
   {
    "duration": 4,
    "start_time": "2022-02-26T18:00:55.291Z"
   },
   {
    "duration": 24,
    "start_time": "2022-02-26T18:00:55.297Z"
   },
   {
    "duration": 9,
    "start_time": "2022-02-26T18:00:55.323Z"
   },
   {
    "duration": 49,
    "start_time": "2022-02-26T18:00:55.334Z"
   },
   {
    "duration": 24,
    "start_time": "2022-02-26T18:00:55.385Z"
   },
   {
    "duration": 8,
    "start_time": "2022-02-26T18:00:55.411Z"
   },
   {
    "duration": 18,
    "start_time": "2022-02-26T18:00:55.420Z"
   },
   {
    "duration": 7,
    "start_time": "2022-02-26T18:00:55.441Z"
   },
   {
    "duration": 1124,
    "start_time": "2022-02-26T18:18:31.348Z"
   },
   {
    "duration": 28,
    "start_time": "2022-02-26T18:18:32.474Z"
   },
   {
    "duration": 4,
    "start_time": "2022-02-26T18:18:32.504Z"
   },
   {
    "duration": 51,
    "start_time": "2022-02-26T18:18:32.510Z"
   },
   {
    "duration": 27,
    "start_time": "2022-02-26T18:18:32.563Z"
   },
   {
    "duration": 8,
    "start_time": "2022-02-26T18:18:32.592Z"
   },
   {
    "duration": 22,
    "start_time": "2022-02-26T18:18:32.602Z"
   },
   {
    "duration": 7,
    "start_time": "2022-02-26T18:18:32.627Z"
   },
   {
    "duration": 15,
    "start_time": "2022-02-26T18:18:32.636Z"
   },
   {
    "duration": 306,
    "start_time": "2022-02-26T18:18:32.653Z"
   },
   {
    "duration": 15,
    "start_time": "2022-02-26T18:18:32.962Z"
   },
   {
    "duration": 31,
    "start_time": "2022-02-26T18:18:32.979Z"
   },
   {
    "duration": 353,
    "start_time": "2022-02-26T18:18:33.012Z"
   },
   {
    "duration": 11,
    "start_time": "2022-02-26T18:18:33.366Z"
   },
   {
    "duration": 355,
    "start_time": "2022-02-26T18:18:33.379Z"
   },
   {
    "duration": 343,
    "start_time": "2022-02-26T18:18:33.736Z"
   },
   {
    "duration": 7,
    "start_time": "2022-02-26T18:18:34.081Z"
   },
   {
    "duration": 439,
    "start_time": "2022-02-26T18:18:34.089Z"
   },
   {
    "duration": 7,
    "start_time": "2022-02-26T18:18:34.529Z"
   },
   {
    "duration": 300,
    "start_time": "2022-02-26T18:18:34.537Z"
   },
   {
    "duration": 9,
    "start_time": "2022-02-26T18:18:34.838Z"
   },
   {
    "duration": 370,
    "start_time": "2022-02-26T18:18:34.848Z"
   },
   {
    "duration": 102,
    "start_time": "2022-02-26T18:18:35.221Z"
   },
   {
    "duration": 284,
    "start_time": "2022-02-26T18:18:35.325Z"
   },
   {
    "duration": 4,
    "start_time": "2022-02-26T18:18:35.611Z"
   },
   {
    "duration": 431,
    "start_time": "2022-02-26T18:18:35.617Z"
   },
   {
    "duration": 5,
    "start_time": "2022-02-26T18:18:36.050Z"
   },
   {
    "duration": 298,
    "start_time": "2022-02-26T18:18:36.057Z"
   },
   {
    "duration": 129,
    "start_time": "2022-02-26T18:18:36.357Z"
   },
   {
    "duration": 6,
    "start_time": "2022-02-26T18:18:36.488Z"
   },
   {
    "duration": 22,
    "start_time": "2022-02-26T18:18:36.496Z"
   },
   {
    "duration": 36,
    "start_time": "2022-02-26T18:18:36.520Z"
   },
   {
    "duration": 23,
    "start_time": "2022-02-26T18:18:36.558Z"
   },
   {
    "duration": 7,
    "start_time": "2022-02-26T18:18:36.583Z"
   },
   {
    "duration": 33,
    "start_time": "2022-02-26T18:18:36.592Z"
   },
   {
    "duration": 12,
    "start_time": "2022-02-26T18:18:36.627Z"
   },
   {
    "duration": 22,
    "start_time": "2022-02-26T18:18:36.641Z"
   },
   {
    "duration": 4,
    "start_time": "2022-02-26T18:18:36.665Z"
   },
   {
    "duration": 22,
    "start_time": "2022-02-26T18:18:36.671Z"
   },
   {
    "duration": 23,
    "start_time": "2022-02-26T18:18:36.695Z"
   },
   {
    "duration": 1348,
    "start_time": "2022-05-04T09:04:45.532Z"
   },
   {
    "duration": 31,
    "start_time": "2022-05-04T09:04:46.883Z"
   },
   {
    "duration": 4,
    "start_time": "2022-05-04T09:04:46.916Z"
   },
   {
    "duration": 64,
    "start_time": "2022-05-04T09:04:46.922Z"
   },
   {
    "duration": 28,
    "start_time": "2022-05-04T09:04:46.989Z"
   },
   {
    "duration": 13,
    "start_time": "2022-05-04T09:04:47.019Z"
   },
   {
    "duration": 9,
    "start_time": "2022-05-04T09:05:16.567Z"
   },
   {
    "duration": 8,
    "start_time": "2022-05-04T09:05:24.958Z"
   },
   {
    "duration": 1055,
    "start_time": "2022-05-25T14:40:08.230Z"
   },
   {
    "duration": 79,
    "start_time": "2022-05-25T14:40:09.287Z"
   },
   {
    "duration": 4,
    "start_time": "2022-05-25T14:40:09.367Z"
   },
   {
    "duration": 90,
    "start_time": "2022-05-25T14:40:09.374Z"
   },
   {
    "duration": 67,
    "start_time": "2022-05-25T14:40:09.466Z"
   },
   {
    "duration": 10,
    "start_time": "2022-05-25T14:40:09.535Z"
   },
   {
    "duration": 7,
    "start_time": "2022-05-25T14:40:09.546Z"
   },
   {
    "duration": 20,
    "start_time": "2022-05-25T14:40:09.554Z"
   },
   {
    "duration": 6,
    "start_time": "2022-05-25T14:40:09.575Z"
   },
   {
    "duration": 9,
    "start_time": "2022-05-25T14:40:09.584Z"
   },
   {
    "duration": 46,
    "start_time": "2022-05-25T14:40:09.594Z"
   },
   {
    "duration": 14,
    "start_time": "2022-05-25T14:40:09.641Z"
   },
   {
    "duration": 17,
    "start_time": "2022-05-25T14:40:09.657Z"
   },
   {
    "duration": 309,
    "start_time": "2022-05-25T14:40:09.675Z"
   },
   {
    "duration": 8,
    "start_time": "2022-05-25T14:40:09.986Z"
   },
   {
    "duration": 445,
    "start_time": "2022-05-25T14:40:09.996Z"
   },
   {
    "duration": 281,
    "start_time": "2022-05-25T14:40:10.443Z"
   },
   {
    "duration": 6,
    "start_time": "2022-05-25T14:40:10.726Z"
   },
   {
    "duration": 283,
    "start_time": "2022-05-25T14:40:10.733Z"
   },
   {
    "duration": 5,
    "start_time": "2022-05-25T14:40:11.017Z"
   },
   {
    "duration": 251,
    "start_time": "2022-05-25T14:40:11.024Z"
   },
   {
    "duration": 8,
    "start_time": "2022-05-25T14:40:11.277Z"
   },
   {
    "duration": 325,
    "start_time": "2022-05-25T14:40:11.294Z"
   },
   {
    "duration": 136,
    "start_time": "2022-05-25T14:40:11.620Z"
   },
   {
    "duration": 141,
    "start_time": "2022-05-25T14:40:11.757Z"
   },
   {
    "duration": 5,
    "start_time": "2022-05-25T14:40:11.900Z"
   },
   {
    "duration": 150,
    "start_time": "2022-05-25T14:40:11.906Z"
   },
   {
    "duration": 4,
    "start_time": "2022-05-25T14:40:12.060Z"
   },
   {
    "duration": 249,
    "start_time": "2022-05-25T14:40:12.066Z"
   },
   {
    "duration": 128,
    "start_time": "2022-05-25T14:40:12.316Z"
   },
   {
    "duration": 7,
    "start_time": "2022-05-25T14:40:12.446Z"
   },
   {
    "duration": 68,
    "start_time": "2022-05-25T14:40:12.455Z"
   },
   {
    "duration": 4,
    "start_time": "2022-05-25T14:40:12.525Z"
   },
   {
    "duration": 14,
    "start_time": "2022-05-25T14:40:12.531Z"
   },
   {
    "duration": 7,
    "start_time": "2022-05-25T14:40:12.547Z"
   },
   {
    "duration": 10,
    "start_time": "2022-05-25T14:40:12.556Z"
   },
   {
    "duration": 34,
    "start_time": "2022-05-25T14:40:12.567Z"
   },
   {
    "duration": 55,
    "start_time": "2022-05-25T14:40:12.603Z"
   },
   {
    "duration": 4,
    "start_time": "2022-05-25T14:40:12.660Z"
   },
   {
    "duration": 29,
    "start_time": "2022-05-25T14:40:12.666Z"
   },
   {
    "duration": 9,
    "start_time": "2022-05-25T14:40:12.697Z"
   }
  ],
  "kernelspec": {
   "display_name": "Python 3 (ipykernel)",
   "language": "python",
   "name": "python3"
  },
  "language_info": {
   "codemirror_mode": {
    "name": "ipython",
    "version": 3
   },
   "file_extension": ".py",
   "mimetype": "text/x-python",
   "name": "python",
   "nbconvert_exporter": "python",
   "pygments_lexer": "ipython3",
   "version": "3.9.7"
  },
  "toc": {
   "base_numbering": 1,
   "nav_menu": {},
   "number_sections": true,
   "sideBar": true,
   "skip_h1_title": true,
   "title_cell": "Оглавление",
   "title_sidebar": "Оглавление",
   "toc_cell": true,
   "toc_position": {
    "height": "calc(100% - 180px)",
    "left": "10px",
    "top": "150px",
    "width": "366.391px"
   },
   "toc_section_display": true,
   "toc_window_display": true
  }
 },
 "nbformat": 4,
 "nbformat_minor": 2
}
