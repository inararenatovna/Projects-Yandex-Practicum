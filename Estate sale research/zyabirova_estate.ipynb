{
 "cells": [
  {
   "cell_type": "markdown",
   "metadata": {
    "toc": true
   },
   "source": [
    "<h1>Содержание<span class=\"tocSkip\"></span></h1>\n",
    "<div class=\"toc\"><ul class=\"toc-item\"><li><span><a href=\"#Изучение-данных-из-файлов\" data-toc-modified-id=\"Изучение-данных-из-файлов-1\"><span class=\"toc-item-num\">1&nbsp;&nbsp;</span>Изучение данных из файлов</a></span><ul class=\"toc-item\"><li><span><a href=\"#Вывод\" data-toc-modified-id=\"Вывод-1.1\"><span class=\"toc-item-num\">1.1&nbsp;&nbsp;</span>Вывод</a></span></li></ul></li><li><span><a href=\"#Предобработка-данных\" data-toc-modified-id=\"Предобработка-данных-2\"><span class=\"toc-item-num\">2&nbsp;&nbsp;</span>Предобработка данных</a></span><ul class=\"toc-item\"><li><span><a href=\"#Переименование-столбцов\" data-toc-modified-id=\"Переименование-столбцов-2.1\"><span class=\"toc-item-num\">2.1&nbsp;&nbsp;</span>Переименование столбцов</a></span></li><li><span><a href=\"#Обработка-пропусков\" data-toc-modified-id=\"Обработка-пропусков-2.2\"><span class=\"toc-item-num\">2.2&nbsp;&nbsp;</span>Обработка пропусков</a></span></li><li><span><a href=\"#Замена-типа-данных\" data-toc-modified-id=\"Замена-типа-данных-2.3\"><span class=\"toc-item-num\">2.3&nbsp;&nbsp;</span>Замена типа данных</a></span></li><li><span><a href=\"#Вывод\" data-toc-modified-id=\"Вывод-2.4\"><span class=\"toc-item-num\">2.4&nbsp;&nbsp;</span>Вывод</a></span></li></ul></li><li><span><a href=\"#Расчёты-и-добавление-результатов-в-таблицу\" data-toc-modified-id=\"Расчёты-и-добавление-результатов-в-таблицу-3\"><span class=\"toc-item-num\">3&nbsp;&nbsp;</span>Расчёты и добавление результатов в таблицу</a></span><ul class=\"toc-item\"><li><span><a href=\"#Вывод\" data-toc-modified-id=\"Вывод-3.1\"><span class=\"toc-item-num\">3.1&nbsp;&nbsp;</span>Вывод</a></span></li></ul></li><li><span><a href=\"#Исследовательский-анализ-данных\" data-toc-modified-id=\"Исследовательский-анализ-данных-4\"><span class=\"toc-item-num\">4&nbsp;&nbsp;</span>Исследовательский анализ данных</a></span><ul class=\"toc-item\"><li><span><a href=\"#Изучение-параметров\" data-toc-modified-id=\"Изучение-параметров-4.1\"><span class=\"toc-item-num\">4.1&nbsp;&nbsp;</span>Изучение параметров</a></span></li><li><span><a href=\"#Изучение-корреляции-факторов\" data-toc-modified-id=\"Изучение-корреляции-факторов-4.2\"><span class=\"toc-item-num\">4.2&nbsp;&nbsp;</span>Изучение корреляции факторов</a></span></li><li><span><a href=\"#Изучение-стоимости-жилья-в-топ-10-городов\" data-toc-modified-id=\"Изучение-стоимости-жилья-в-топ-10-городов-4.3\"><span class=\"toc-item-num\">4.3&nbsp;&nbsp;</span>Изучение стоимости жилья в топ-10 городов</a></span></li><li><span><a href=\"#Определение-центральной-зоны\" data-toc-modified-id=\"Определение-центральной-зоны-4.4\"><span class=\"toc-item-num\">4.4&nbsp;&nbsp;</span>Определение центральной зоны</a></span></li><li><span><a href=\"#Анализ-квартир-в-центре\" data-toc-modified-id=\"Анализ-квартир-в-центре-4.5\"><span class=\"toc-item-num\">4.5&nbsp;&nbsp;</span>Анализ квартир в центре</a></span></li><li><span><a href=\"#Вывод\" data-toc-modified-id=\"Вывод-4.6\"><span class=\"toc-item-num\">4.6&nbsp;&nbsp;</span>Вывод</a></span></li></ul></li><li><span><a href=\"#Общий-вывод\" data-toc-modified-id=\"Общий-вывод-5\"><span class=\"toc-item-num\">5&nbsp;&nbsp;</span>Общий вывод</a></span></li></ul></div>"
   ]
  },
  {
   "cell_type": "markdown",
   "metadata": {},
   "source": [
    "# Исследование объявлений о продаже квартир\n",
    "\n",
    "В нашем распоряжении данные сервиса Яндекс.Недвижимость — архив объявлений о продаже квартир в Санкт-Петербурге и соседних населённых пунктах за несколько лет. Наша задача — установить параметры рыночной стоимости объектов недвижимости. Это позволит построить автоматизированную систему: она отследит аномалии и мошенническую деятельность. \n",
    "\n",
    "По каждой квартире на продажу доступны два вида данных. Первые вписаны пользователем, вторые получены автоматически на основе картографических данных. Например, расстояние до центра, аэропорта, ближайшего парка и водоёма. "
   ]
  },
  {
   "cell_type": "markdown",
   "metadata": {},
   "source": [
    "## Изучение данных из файлов"
   ]
  },
  {
   "cell_type": "code",
   "execution_count": 1,
   "metadata": {},
   "outputs": [
    {
     "data": {
      "text/html": [
       "<div>\n",
       "<style scoped>\n",
       "    .dataframe tbody tr th:only-of-type {\n",
       "        vertical-align: middle;\n",
       "    }\n",
       "\n",
       "    .dataframe tbody tr th {\n",
       "        vertical-align: top;\n",
       "    }\n",
       "\n",
       "    .dataframe thead th {\n",
       "        text-align: right;\n",
       "    }\n",
       "</style>\n",
       "<table border=\"1\" class=\"dataframe\">\n",
       "  <thead>\n",
       "    <tr style=\"text-align: right;\">\n",
       "      <th></th>\n",
       "      <th>total_images\\tlast_price\\ttotal_area\\tfirst_day_exposition\\trooms\\tceiling_height\\tfloors_total\\tliving_area\\tfloor\\tis_apartment\\tstudio\\topen_plan\\tkitchen_area\\tbalcony\\tlocality_name\\tairports_nearest\\tcityCenters_nearest\\tparks_around3000\\tparks_nearest\\tponds_around3000\\tponds_nearest\\tdays_exposition</th>\n",
       "    </tr>\n",
       "  </thead>\n",
       "  <tbody>\n",
       "    <tr>\n",
       "      <th>0</th>\n",
       "      <td>20\\t13000000.0\\t108.0\\t2019-03-07T00:00:00\\t3\\...</td>\n",
       "    </tr>\n",
       "    <tr>\n",
       "      <th>1</th>\n",
       "      <td>7\\t3350000.0\\t40.4\\t2018-12-04T00:00:00\\t1\\t\\t...</td>\n",
       "    </tr>\n",
       "    <tr>\n",
       "      <th>2</th>\n",
       "      <td>10\\t5196000.0\\t56.0\\t2015-08-20T00:00:00\\t2\\t\\...</td>\n",
       "    </tr>\n",
       "    <tr>\n",
       "      <th>3</th>\n",
       "      <td>0\\t64900000.0\\t159.0\\t2015-07-24T00:00:00\\t3\\t...</td>\n",
       "    </tr>\n",
       "    <tr>\n",
       "      <th>4</th>\n",
       "      <td>2\\t10000000.0\\t100.0\\t2018-06-19T00:00:00\\t2\\t...</td>\n",
       "    </tr>\n",
       "  </tbody>\n",
       "</table>\n",
       "</div>"
      ],
      "text/plain": [
       "  total_images\\tlast_price\\ttotal_area\\tfirst_day_exposition\\trooms\\tceiling_height\\tfloors_total\\tliving_area\\tfloor\\tis_apartment\\tstudio\\topen_plan\\tkitchen_area\\tbalcony\\tlocality_name\\tairports_nearest\\tcityCenters_nearest\\tparks_around3000\\tparks_nearest\\tponds_around3000\\tponds_nearest\\tdays_exposition\n",
       "0  20\\t13000000.0\\t108.0\\t2019-03-07T00:00:00\\t3\\...                                                                                                                                                                                                                                                                  \n",
       "1  7\\t3350000.0\\t40.4\\t2018-12-04T00:00:00\\t1\\t\\t...                                                                                                                                                                                                                                                                  \n",
       "2  10\\t5196000.0\\t56.0\\t2015-08-20T00:00:00\\t2\\t\\...                                                                                                                                                                                                                                                                  \n",
       "3  0\\t64900000.0\\t159.0\\t2015-07-24T00:00:00\\t3\\t...                                                                                                                                                                                                                                                                  \n",
       "4  2\\t10000000.0\\t100.0\\t2018-06-19T00:00:00\\t2\\t...                                                                                                                                                                                                                                                                  "
      ]
     },
     "execution_count": 1,
     "metadata": {},
     "output_type": "execute_result"
    }
   ],
   "source": [
    "import pandas as pd # импорт библиотеки pandas\n",
    "re = pd.read_csv('https://code.s3.yandex.net/datasets/real_estate_data.csv') # чтение файла с данными и сохранение в re (real_estate)\n",
    "re.head() # получение первых 5 строк таблицы"
   ]
  },
  {
   "cell_type": "markdown",
   "metadata": {},
   "source": [
    "Данные не разбиты по колонкам и \"склеены\" в одну строку. Чтобы привести таблицу в порядок, воспользуемся параметром `sep`, который отвечает за разделение колонок:"
   ]
  },
  {
   "cell_type": "code",
   "execution_count": 2,
   "metadata": {
    "scrolled": true
   },
   "outputs": [
    {
     "data": {
      "text/html": [
       "<div>\n",
       "<style scoped>\n",
       "    .dataframe tbody tr th:only-of-type {\n",
       "        vertical-align: middle;\n",
       "    }\n",
       "\n",
       "    .dataframe tbody tr th {\n",
       "        vertical-align: top;\n",
       "    }\n",
       "\n",
       "    .dataframe thead th {\n",
       "        text-align: right;\n",
       "    }\n",
       "</style>\n",
       "<table border=\"1\" class=\"dataframe\">\n",
       "  <thead>\n",
       "    <tr style=\"text-align: right;\">\n",
       "      <th></th>\n",
       "      <th>total_images</th>\n",
       "      <th>last_price</th>\n",
       "      <th>total_area</th>\n",
       "      <th>first_day_exposition</th>\n",
       "      <th>rooms</th>\n",
       "      <th>ceiling_height</th>\n",
       "      <th>floors_total</th>\n",
       "      <th>living_area</th>\n",
       "      <th>floor</th>\n",
       "      <th>is_apartment</th>\n",
       "      <th>...</th>\n",
       "      <th>kitchen_area</th>\n",
       "      <th>balcony</th>\n",
       "      <th>locality_name</th>\n",
       "      <th>airports_nearest</th>\n",
       "      <th>cityCenters_nearest</th>\n",
       "      <th>parks_around3000</th>\n",
       "      <th>parks_nearest</th>\n",
       "      <th>ponds_around3000</th>\n",
       "      <th>ponds_nearest</th>\n",
       "      <th>days_exposition</th>\n",
       "    </tr>\n",
       "  </thead>\n",
       "  <tbody>\n",
       "    <tr>\n",
       "      <th>0</th>\n",
       "      <td>20</td>\n",
       "      <td>13000000.0</td>\n",
       "      <td>108.0</td>\n",
       "      <td>2019-03-07T00:00:00</td>\n",
       "      <td>3</td>\n",
       "      <td>2.70</td>\n",
       "      <td>16.0</td>\n",
       "      <td>51.0</td>\n",
       "      <td>8</td>\n",
       "      <td>NaN</td>\n",
       "      <td>...</td>\n",
       "      <td>25.0</td>\n",
       "      <td>NaN</td>\n",
       "      <td>Санкт-Петербург</td>\n",
       "      <td>18863.0</td>\n",
       "      <td>16028.0</td>\n",
       "      <td>1.0</td>\n",
       "      <td>482.0</td>\n",
       "      <td>2.0</td>\n",
       "      <td>755.0</td>\n",
       "      <td>NaN</td>\n",
       "    </tr>\n",
       "    <tr>\n",
       "      <th>1</th>\n",
       "      <td>7</td>\n",
       "      <td>3350000.0</td>\n",
       "      <td>40.4</td>\n",
       "      <td>2018-12-04T00:00:00</td>\n",
       "      <td>1</td>\n",
       "      <td>NaN</td>\n",
       "      <td>11.0</td>\n",
       "      <td>18.6</td>\n",
       "      <td>1</td>\n",
       "      <td>NaN</td>\n",
       "      <td>...</td>\n",
       "      <td>11.0</td>\n",
       "      <td>2.0</td>\n",
       "      <td>посёлок Шушары</td>\n",
       "      <td>12817.0</td>\n",
       "      <td>18603.0</td>\n",
       "      <td>0.0</td>\n",
       "      <td>NaN</td>\n",
       "      <td>0.0</td>\n",
       "      <td>NaN</td>\n",
       "      <td>81.0</td>\n",
       "    </tr>\n",
       "    <tr>\n",
       "      <th>2</th>\n",
       "      <td>10</td>\n",
       "      <td>5196000.0</td>\n",
       "      <td>56.0</td>\n",
       "      <td>2015-08-20T00:00:00</td>\n",
       "      <td>2</td>\n",
       "      <td>NaN</td>\n",
       "      <td>5.0</td>\n",
       "      <td>34.3</td>\n",
       "      <td>4</td>\n",
       "      <td>NaN</td>\n",
       "      <td>...</td>\n",
       "      <td>8.3</td>\n",
       "      <td>0.0</td>\n",
       "      <td>Санкт-Петербург</td>\n",
       "      <td>21741.0</td>\n",
       "      <td>13933.0</td>\n",
       "      <td>1.0</td>\n",
       "      <td>90.0</td>\n",
       "      <td>2.0</td>\n",
       "      <td>574.0</td>\n",
       "      <td>558.0</td>\n",
       "    </tr>\n",
       "    <tr>\n",
       "      <th>3</th>\n",
       "      <td>0</td>\n",
       "      <td>64900000.0</td>\n",
       "      <td>159.0</td>\n",
       "      <td>2015-07-24T00:00:00</td>\n",
       "      <td>3</td>\n",
       "      <td>NaN</td>\n",
       "      <td>14.0</td>\n",
       "      <td>NaN</td>\n",
       "      <td>9</td>\n",
       "      <td>NaN</td>\n",
       "      <td>...</td>\n",
       "      <td>NaN</td>\n",
       "      <td>0.0</td>\n",
       "      <td>Санкт-Петербург</td>\n",
       "      <td>28098.0</td>\n",
       "      <td>6800.0</td>\n",
       "      <td>2.0</td>\n",
       "      <td>84.0</td>\n",
       "      <td>3.0</td>\n",
       "      <td>234.0</td>\n",
       "      <td>424.0</td>\n",
       "    </tr>\n",
       "    <tr>\n",
       "      <th>4</th>\n",
       "      <td>2</td>\n",
       "      <td>10000000.0</td>\n",
       "      <td>100.0</td>\n",
       "      <td>2018-06-19T00:00:00</td>\n",
       "      <td>2</td>\n",
       "      <td>3.03</td>\n",
       "      <td>14.0</td>\n",
       "      <td>32.0</td>\n",
       "      <td>13</td>\n",
       "      <td>NaN</td>\n",
       "      <td>...</td>\n",
       "      <td>41.0</td>\n",
       "      <td>NaN</td>\n",
       "      <td>Санкт-Петербург</td>\n",
       "      <td>31856.0</td>\n",
       "      <td>8098.0</td>\n",
       "      <td>2.0</td>\n",
       "      <td>112.0</td>\n",
       "      <td>1.0</td>\n",
       "      <td>48.0</td>\n",
       "      <td>121.0</td>\n",
       "    </tr>\n",
       "  </tbody>\n",
       "</table>\n",
       "<p>5 rows × 22 columns</p>\n",
       "</div>"
      ],
      "text/plain": [
       "   total_images  last_price  total_area first_day_exposition  rooms  \\\n",
       "0            20  13000000.0       108.0  2019-03-07T00:00:00      3   \n",
       "1             7   3350000.0        40.4  2018-12-04T00:00:00      1   \n",
       "2            10   5196000.0        56.0  2015-08-20T00:00:00      2   \n",
       "3             0  64900000.0       159.0  2015-07-24T00:00:00      3   \n",
       "4             2  10000000.0       100.0  2018-06-19T00:00:00      2   \n",
       "\n",
       "   ceiling_height  floors_total  living_area  floor is_apartment  ...  \\\n",
       "0            2.70          16.0         51.0      8          NaN  ...   \n",
       "1             NaN          11.0         18.6      1          NaN  ...   \n",
       "2             NaN           5.0         34.3      4          NaN  ...   \n",
       "3             NaN          14.0          NaN      9          NaN  ...   \n",
       "4            3.03          14.0         32.0     13          NaN  ...   \n",
       "\n",
       "   kitchen_area  balcony    locality_name  airports_nearest  \\\n",
       "0          25.0      NaN  Санкт-Петербург           18863.0   \n",
       "1          11.0      2.0   посёлок Шушары           12817.0   \n",
       "2           8.3      0.0  Санкт-Петербург           21741.0   \n",
       "3           NaN      0.0  Санкт-Петербург           28098.0   \n",
       "4          41.0      NaN  Санкт-Петербург           31856.0   \n",
       "\n",
       "  cityCenters_nearest  parks_around3000  parks_nearest  ponds_around3000  \\\n",
       "0             16028.0               1.0          482.0               2.0   \n",
       "1             18603.0               0.0            NaN               0.0   \n",
       "2             13933.0               1.0           90.0               2.0   \n",
       "3              6800.0               2.0           84.0               3.0   \n",
       "4              8098.0               2.0          112.0               1.0   \n",
       "\n",
       "   ponds_nearest  days_exposition  \n",
       "0          755.0              NaN  \n",
       "1            NaN             81.0  \n",
       "2          574.0            558.0  \n",
       "3          234.0            424.0  \n",
       "4           48.0            121.0  \n",
       "\n",
       "[5 rows x 22 columns]"
      ]
     },
     "execution_count": 2,
     "metadata": {},
     "output_type": "execute_result"
    }
   ],
   "source": [
    "# чтение файла с данными, указание в качестве разделителя знака табуляции '\\t' и сохранение в re\n",
    "re = pd.read_csv('https://code.s3.yandex.net/datasets/real_estate_data.csv', sep='\\t')\n",
    "re.head() # получение первых 5 строк таблицы"
   ]
  },
  {
   "cell_type": "code",
   "execution_count": 3,
   "metadata": {
    "scrolled": true
   },
   "outputs": [
    {
     "name": "stdout",
     "output_type": "stream",
     "text": [
      "<class 'pandas.core.frame.DataFrame'>\n",
      "RangeIndex: 23699 entries, 0 to 23698\n",
      "Data columns (total 22 columns):\n",
      " #   Column                Non-Null Count  Dtype  \n",
      "---  ------                --------------  -----  \n",
      " 0   total_images          23699 non-null  int64  \n",
      " 1   last_price            23699 non-null  float64\n",
      " 2   total_area            23699 non-null  float64\n",
      " 3   first_day_exposition  23699 non-null  object \n",
      " 4   rooms                 23699 non-null  int64  \n",
      " 5   ceiling_height        14504 non-null  float64\n",
      " 6   floors_total          23613 non-null  float64\n",
      " 7   living_area           21796 non-null  float64\n",
      " 8   floor                 23699 non-null  int64  \n",
      " 9   is_apartment          2775 non-null   object \n",
      " 10  studio                23699 non-null  bool   \n",
      " 11  open_plan             23699 non-null  bool   \n",
      " 12  kitchen_area          21421 non-null  float64\n",
      " 13  balcony               12180 non-null  float64\n",
      " 14  locality_name         23650 non-null  object \n",
      " 15  airports_nearest      18157 non-null  float64\n",
      " 16  cityCenters_nearest   18180 non-null  float64\n",
      " 17  parks_around3000      18181 non-null  float64\n",
      " 18  parks_nearest         8079 non-null   float64\n",
      " 19  ponds_around3000      18181 non-null  float64\n",
      " 20  ponds_nearest         9110 non-null   float64\n",
      " 21  days_exposition       20518 non-null  float64\n",
      "dtypes: bool(2), float64(14), int64(3), object(3)\n",
      "memory usage: 3.7+ MB\n"
     ]
    }
   ],
   "source": [
    "re.info() # получение общей информации о данных в таблице"
   ]
  },
  {
   "cell_type": "markdown",
   "metadata": {},
   "source": [
    "### Вывод"
   ]
  },
  {
   "cell_type": "markdown",
   "metadata": {},
   "source": [
    "Итак, в нашей таблице 22 столбца и 23699 строк.\n",
    "\n",
    "Столбцы содержат типы данных `float, int, oblect, bool`. \n",
    "\n",
    "При первоначальном ознакомлении с таблицей и информацией о ней обнаружены следующие проблемы: \n",
    "- стилистически некорректное наименование колонки `cityCenters_nearest`: его необходимо привести к \"змеиному\" регистру и сделать все буквы строчными;\n",
    "- наличие пропусков в 14 столбцах; \n",
    "- содержимое 14 колонок имеет тип данных `float`, но в некоторых из них информация после запятой не имеет принципиальной важности (как, например, в данных о расстоянии до аэропорта в метрах) или никакой информации не может содержать вовсе (как, например, в данных о количестве этажей в доме). Также колонка с датой публикации объявления имеет тип `object` и потому - плохо читаемый вид, неудобный для дальнейшей работы.\n",
    "\n",
    "\n",
    "Перечисленные проблемы будем решать на этапе предобработки данных."
   ]
  },
  {
   "cell_type": "markdown",
   "metadata": {},
   "source": [
    "## Предобработка данных"
   ]
  },
  {
   "cell_type": "markdown",
   "metadata": {},
   "source": [
    "### Переименование столбцов"
   ]
  },
  {
   "cell_type": "code",
   "execution_count": 4,
   "metadata": {
    "scrolled": true
   },
   "outputs": [
    {
     "data": {
      "text/plain": [
       "Index(['total_images', 'last_price', 'total_area', 'first_day_exposition',\n",
       "       'rooms', 'ceiling_height', 'floors_total', 'living_area', 'floor',\n",
       "       'is_apartment', 'studio', 'open_plan', 'kitchen_area', 'balcony',\n",
       "       'locality_name', 'airports_nearest', 'city_centers_nearest',\n",
       "       'parks_around3000', 'parks_nearest', 'ponds_around3000',\n",
       "       'ponds_nearest', 'days_exposition'],\n",
       "      dtype='object')"
      ]
     },
     "execution_count": 4,
     "metadata": {},
     "output_type": "execute_result"
    }
   ],
   "source": [
    "# переименование колонки cityCenters_nearest методом rename()\n",
    "re = re.rename(columns={'cityCenters_nearest': 'city_centers_nearest'}) \n",
    "re.columns # вызов наименований всех колонок (заодно проверим, нет ли в заголовках таких неочевидных проблем, как лишние пробелы)"
   ]
  },
  {
   "cell_type": "markdown",
   "metadata": {},
   "source": [
    "### Обработка пропусков"
   ]
  },
  {
   "cell_type": "markdown",
   "metadata": {},
   "source": [
    "Мы определили, что пропущенные значения есть в столбцах с категориальными переменными:\n",
    "- `is_apartment`: апартаменты,\n",
    "- `locality_name`: название населённого пункта, \n",
    "\n",
    "и в следующих столбцах с количественными переменными:\n",
    "- `ceiling_height`: высота потолков (м), \n",
    "- `floors_total`: всего этажей в доме, \n",
    "- `living_area`: жилая площадь в квадратных метрах (м²), \n",
    "- `kitchen_area`: площадь кухни в квадратных метрах (м²), \n",
    "- `balcony`: число балконов, \n",
    "- `airports_nearest`: расстояние до ближайшего аэропорта в метрах (м), \n",
    "- `city_centers_nearest`: расстояние до центра города (м), \n",
    "- `parks_around3000`: число парков в радиусе 3 км, \n",
    "- `parks_nearest`: расстояние до ближайшего парка (м), \n",
    "- `ponds_around3000`: число водоёмов в радиусе 3 км, \n",
    "- `ponds_nearest`: расстояние до ближайшего водоёма (м), \n",
    "- `days_exposition`: сколько дней было размещено объявление (от публикации до снятия).\n",
    "\n",
    "Такое большое количество пропусков может быть связано как с человеческим фактором (незнанием некоторых параметров, нежеланием их указывать или невнимательностью при заполнении анкеты), так и техническим, потому что нам известно, что столбцы с расстояниями (до центра, аэропорта, ближайшего водоёма и ближайшего парка) получены автоматически на основе картографических данных."
   ]
  },
  {
   "cell_type": "markdown",
   "metadata": {},
   "source": [
    "Колонка `is_apartment` содержит в себе информацию, является объект недвижимости апартаментами или нет. То есть ответа может быть только два: да или нет (1 или 0, True или False). Посмотрим, какие уникальные значения есть в этом столбце, воспользовавшись методом `unique()`:"
   ]
  },
  {
   "cell_type": "code",
   "execution_count": 5,
   "metadata": {
    "scrolled": true
   },
   "outputs": [
    {
     "data": {
      "text/plain": [
       "array([nan, False, True], dtype=object)"
      ]
     },
     "execution_count": 5,
     "metadata": {},
     "output_type": "execute_result"
    }
   ],
   "source": [
    "re['is_apartment'].unique() # получение уникальных значений столбца is_apartment"
   ]
  },
  {
   "cell_type": "markdown",
   "metadata": {},
   "source": [
    "Получается, данный столбец должен иметь тип `bool`, а не `object`. Отсутствующие значения в столбце `is_apartment` с большой долей вероятности обозначают \"нет\", поэтому методом `fillna()` заменим их на `False`:"
   ]
  },
  {
   "cell_type": "code",
   "execution_count": 6,
   "metadata": {},
   "outputs": [],
   "source": [
    "re['is_apartment'] = re['is_apartment'].fillna(False) # замена пропусков в is_apartment на False"
   ]
  },
  {
   "cell_type": "markdown",
   "metadata": {},
   "source": [
    "Самое незначительное количество пропусков в столбцах `locality_name` (49 пропусков) и `floors_total` (86 пропусков):"
   ]
  },
  {
   "cell_type": "code",
   "execution_count": 7,
   "metadata": {},
   "outputs": [
    {
     "data": {
      "text/plain": [
       "0.005696442887885565"
      ]
     },
     "execution_count": 7,
     "metadata": {},
     "output_type": "execute_result"
    }
   ],
   "source": [
    "re[['locality_name', 'floors_total']].isna().mean().sum()"
   ]
  },
  {
   "cell_type": "markdown",
   "metadata": {},
   "source": [
    "Даже в сумме это менее одного процента от всего набора данных. Можно отказаться от этих строк, воспользовавшись методом `dropna()`:"
   ]
  },
  {
   "cell_type": "code",
   "execution_count": 8,
   "metadata": {},
   "outputs": [],
   "source": [
    "# удаление строк с пропущенными значениями в столбцах locality_name и floors_total\n",
    "re.dropna(subset=['locality_name', 'floors_total'], inplace=True)"
   ]
  },
  {
   "cell_type": "markdown",
   "metadata": {},
   "source": [
    "Пропуски в колонках с информацией о числе балконов, парков и водоёмов скорее всего говорят об отсутствии этих самых балконов/парков/водоёмов. Заменим пропуски в этих столбцах на ноль, используя метод `fillna()`:"
   ]
  },
  {
   "cell_type": "code",
   "execution_count": 9,
   "metadata": {},
   "outputs": [],
   "source": [
    "re[['balcony', 'parks_around3000', 'ponds_around3000']] = re[['balcony', 'parks_around3000', 'ponds_around3000']].fillna(0) # замена пропусков в трёх столбцах на 0"
   ]
  },
  {
   "cell_type": "markdown",
   "metadata": {},
   "source": [
    "Высота потолков важный момет при покупке недвижимости, но этот показатель не имеет широкого разброса и зачастую ограничен некими стандартными показателями (от 2.5 м в \"хрущёвке\" до 3-5 м в старом фонде), поэтому если в столбце `ceiling_height` пропуски заменить на медианные значения, они не будут сильно отклоняться от действительности:"
   ]
  },
  {
   "cell_type": "code",
   "execution_count": 10,
   "metadata": {},
   "outputs": [],
   "source": [
    "re['ceiling_height'] = re['ceiling_height'].fillna(re['ceiling_height'].median()) # замена пропусков в ceiling_height на медиану"
   ]
  },
  {
   "cell_type": "markdown",
   "metadata": {},
   "source": [
    "Похожая ситуация с пропусками в столбцах с жилой площадью и площадью кухни. Обычно жилая площадь и площадь кухни занимают какую-то часть от общей площади квартиры, которая не сильно отклоняется от общестандартного показателя. Посчитаем эти доли и посмотрим на результаты:"
   ]
  },
  {
   "cell_type": "code",
   "execution_count": 11,
   "metadata": {},
   "outputs": [
    {
     "data": {
      "text/html": [
       "<div>\n",
       "<style scoped>\n",
       "    .dataframe tbody tr th:only-of-type {\n",
       "        vertical-align: middle;\n",
       "    }\n",
       "\n",
       "    .dataframe tbody tr th {\n",
       "        vertical-align: top;\n",
       "    }\n",
       "\n",
       "    .dataframe thead th {\n",
       "        text-align: right;\n",
       "    }\n",
       "</style>\n",
       "<table border=\"1\" class=\"dataframe\">\n",
       "  <thead>\n",
       "    <tr style=\"text-align: right;\">\n",
       "      <th></th>\n",
       "      <th>total_images</th>\n",
       "      <th>last_price</th>\n",
       "      <th>total_area</th>\n",
       "      <th>first_day_exposition</th>\n",
       "      <th>rooms</th>\n",
       "      <th>ceiling_height</th>\n",
       "      <th>floors_total</th>\n",
       "      <th>living_area</th>\n",
       "      <th>floor</th>\n",
       "      <th>is_apartment</th>\n",
       "      <th>...</th>\n",
       "      <th>locality_name</th>\n",
       "      <th>airports_nearest</th>\n",
       "      <th>city_centers_nearest</th>\n",
       "      <th>parks_around3000</th>\n",
       "      <th>parks_nearest</th>\n",
       "      <th>ponds_around3000</th>\n",
       "      <th>ponds_nearest</th>\n",
       "      <th>days_exposition</th>\n",
       "      <th>living_and_total_area_ratio</th>\n",
       "      <th>kitchen_and_total_area_ratio</th>\n",
       "    </tr>\n",
       "  </thead>\n",
       "  <tbody>\n",
       "    <tr>\n",
       "      <th>0</th>\n",
       "      <td>20</td>\n",
       "      <td>13000000.0</td>\n",
       "      <td>108.0</td>\n",
       "      <td>2019-03-07T00:00:00</td>\n",
       "      <td>3</td>\n",
       "      <td>2.70</td>\n",
       "      <td>16.0</td>\n",
       "      <td>51.0</td>\n",
       "      <td>8</td>\n",
       "      <td>False</td>\n",
       "      <td>...</td>\n",
       "      <td>Санкт-Петербург</td>\n",
       "      <td>18863.0</td>\n",
       "      <td>16028.0</td>\n",
       "      <td>1.0</td>\n",
       "      <td>482.0</td>\n",
       "      <td>2.0</td>\n",
       "      <td>755.0</td>\n",
       "      <td>NaN</td>\n",
       "      <td>0.472222</td>\n",
       "      <td>0.231481</td>\n",
       "    </tr>\n",
       "    <tr>\n",
       "      <th>1</th>\n",
       "      <td>7</td>\n",
       "      <td>3350000.0</td>\n",
       "      <td>40.4</td>\n",
       "      <td>2018-12-04T00:00:00</td>\n",
       "      <td>1</td>\n",
       "      <td>2.65</td>\n",
       "      <td>11.0</td>\n",
       "      <td>18.6</td>\n",
       "      <td>1</td>\n",
       "      <td>False</td>\n",
       "      <td>...</td>\n",
       "      <td>посёлок Шушары</td>\n",
       "      <td>12817.0</td>\n",
       "      <td>18603.0</td>\n",
       "      <td>0.0</td>\n",
       "      <td>NaN</td>\n",
       "      <td>0.0</td>\n",
       "      <td>NaN</td>\n",
       "      <td>81.0</td>\n",
       "      <td>0.460396</td>\n",
       "      <td>0.272277</td>\n",
       "    </tr>\n",
       "    <tr>\n",
       "      <th>2</th>\n",
       "      <td>10</td>\n",
       "      <td>5196000.0</td>\n",
       "      <td>56.0</td>\n",
       "      <td>2015-08-20T00:00:00</td>\n",
       "      <td>2</td>\n",
       "      <td>2.65</td>\n",
       "      <td>5.0</td>\n",
       "      <td>34.3</td>\n",
       "      <td>4</td>\n",
       "      <td>False</td>\n",
       "      <td>...</td>\n",
       "      <td>Санкт-Петербург</td>\n",
       "      <td>21741.0</td>\n",
       "      <td>13933.0</td>\n",
       "      <td>1.0</td>\n",
       "      <td>90.0</td>\n",
       "      <td>2.0</td>\n",
       "      <td>574.0</td>\n",
       "      <td>558.0</td>\n",
       "      <td>0.612500</td>\n",
       "      <td>0.148214</td>\n",
       "    </tr>\n",
       "    <tr>\n",
       "      <th>3</th>\n",
       "      <td>0</td>\n",
       "      <td>64900000.0</td>\n",
       "      <td>159.0</td>\n",
       "      <td>2015-07-24T00:00:00</td>\n",
       "      <td>3</td>\n",
       "      <td>2.65</td>\n",
       "      <td>14.0</td>\n",
       "      <td>NaN</td>\n",
       "      <td>9</td>\n",
       "      <td>False</td>\n",
       "      <td>...</td>\n",
       "      <td>Санкт-Петербург</td>\n",
       "      <td>28098.0</td>\n",
       "      <td>6800.0</td>\n",
       "      <td>2.0</td>\n",
       "      <td>84.0</td>\n",
       "      <td>3.0</td>\n",
       "      <td>234.0</td>\n",
       "      <td>424.0</td>\n",
       "      <td>NaN</td>\n",
       "      <td>NaN</td>\n",
       "    </tr>\n",
       "    <tr>\n",
       "      <th>4</th>\n",
       "      <td>2</td>\n",
       "      <td>10000000.0</td>\n",
       "      <td>100.0</td>\n",
       "      <td>2018-06-19T00:00:00</td>\n",
       "      <td>2</td>\n",
       "      <td>3.03</td>\n",
       "      <td>14.0</td>\n",
       "      <td>32.0</td>\n",
       "      <td>13</td>\n",
       "      <td>False</td>\n",
       "      <td>...</td>\n",
       "      <td>Санкт-Петербург</td>\n",
       "      <td>31856.0</td>\n",
       "      <td>8098.0</td>\n",
       "      <td>2.0</td>\n",
       "      <td>112.0</td>\n",
       "      <td>1.0</td>\n",
       "      <td>48.0</td>\n",
       "      <td>121.0</td>\n",
       "      <td>0.320000</td>\n",
       "      <td>0.410000</td>\n",
       "    </tr>\n",
       "  </tbody>\n",
       "</table>\n",
       "<p>5 rows × 24 columns</p>\n",
       "</div>"
      ],
      "text/plain": [
       "   total_images  last_price  total_area first_day_exposition  rooms  \\\n",
       "0            20  13000000.0       108.0  2019-03-07T00:00:00      3   \n",
       "1             7   3350000.0        40.4  2018-12-04T00:00:00      1   \n",
       "2            10   5196000.0        56.0  2015-08-20T00:00:00      2   \n",
       "3             0  64900000.0       159.0  2015-07-24T00:00:00      3   \n",
       "4             2  10000000.0       100.0  2018-06-19T00:00:00      2   \n",
       "\n",
       "   ceiling_height  floors_total  living_area  floor  is_apartment  ...  \\\n",
       "0            2.70          16.0         51.0      8         False  ...   \n",
       "1            2.65          11.0         18.6      1         False  ...   \n",
       "2            2.65           5.0         34.3      4         False  ...   \n",
       "3            2.65          14.0          NaN      9         False  ...   \n",
       "4            3.03          14.0         32.0     13         False  ...   \n",
       "\n",
       "     locality_name  airports_nearest  city_centers_nearest  parks_around3000  \\\n",
       "0  Санкт-Петербург           18863.0               16028.0               1.0   \n",
       "1   посёлок Шушары           12817.0               18603.0               0.0   \n",
       "2  Санкт-Петербург           21741.0               13933.0               1.0   \n",
       "3  Санкт-Петербург           28098.0                6800.0               2.0   \n",
       "4  Санкт-Петербург           31856.0                8098.0               2.0   \n",
       "\n",
       "  parks_nearest  ponds_around3000  ponds_nearest  days_exposition  \\\n",
       "0         482.0               2.0          755.0              NaN   \n",
       "1           NaN               0.0            NaN             81.0   \n",
       "2          90.0               2.0          574.0            558.0   \n",
       "3          84.0               3.0          234.0            424.0   \n",
       "4         112.0               1.0           48.0            121.0   \n",
       "\n",
       "   living_and_total_area_ratio  kitchen_and_total_area_ratio  \n",
       "0                     0.472222                      0.231481  \n",
       "1                     0.460396                      0.272277  \n",
       "2                     0.612500                      0.148214  \n",
       "3                          NaN                           NaN  \n",
       "4                     0.320000                      0.410000  \n",
       "\n",
       "[5 rows x 24 columns]"
      ]
     },
     "execution_count": 11,
     "metadata": {},
     "output_type": "execute_result"
    }
   ],
   "source": [
    "# создание столбца living_and_total_area_ratio и сохранение в нём результата деления living_area на total_area\n",
    "re['living_and_total_area_ratio'] = re['living_area'] / re['total_area']\n",
    "\n",
    "# создание столбца kitchen_and_total_area_ratio и сохранение в нём результата деления kitchen_area на total_area\n",
    "re['kitchen_and_total_area_ratio'] = re['kitchen_area'] / re['total_area']\n",
    "\n",
    "re.head() # получение первых 5 строк таблицы"
   ]
  },
  {
   "cell_type": "markdown",
   "metadata": {},
   "source": [
    "Цифры, конечно, плавающие, но в рамках разумного, поэтому пропуски в столбцах с площадями можно заменить на средний показатель:"
   ]
  },
  {
   "cell_type": "code",
   "execution_count": 12,
   "metadata": {},
   "outputs": [],
   "source": [
    "# замена пропусков в living_area на произведение total_area и среднего показателя living_and_total_area_ratio\n",
    "re['living_area'] = re['living_area'].fillna(re['total_area'] * re['living_and_total_area_ratio'].mean())\n",
    "\n",
    "# замена пропусков в kitchen_area на произведение total_area и среднего показателя kitchen_and_total_area_ratio\n",
    "re['kitchen_area'] = re['kitchen_area'].fillna(re['total_area'] * re['kitchen_and_total_area_ratio'].mean())"
   ]
  },
  {
   "cell_type": "markdown",
   "metadata": {},
   "source": [
    "В столбцах, где зафиксированы расстояния (до центра, аэропорта, ближайшего водоёма и ближайшего парка) очень много пропусков. Если мы заменим их на какое-то одно значение (медианное, среднее или какое-либо другое), это сильно исказит общий вид данных по параметру. А нам ещё предстоит работа с расстоянием для решения последующих задач. Поэтому в указанных столбцах пропуски оставим.\n",
    "\n",
    "Также трудно определить, чем заменить пропуски в столбце `days_exposition`, так что их тоже трогать не станем."
   ]
  },
  {
   "cell_type": "markdown",
   "metadata": {},
   "source": [
    "### Замена типа данных"
   ]
  },
  {
   "cell_type": "markdown",
   "metadata": {},
   "source": [
    "В столбце `is_apartment` мы уже поменяли тип данных с `object` на `bool` в предыдущем шаге. Теперь методом `astype` изменим тип с `float` на `int` в тех колонках, где данные после запятой нам не нужны (например, копейки в стоимости) или их не может быть в принципе (в случае с целочисленными показателями: количество балконов или водоёмов)."
   ]
  },
  {
   "cell_type": "code",
   "execution_count": 13,
   "metadata": {},
   "outputs": [],
   "source": [
    "# создание списка наименований столбцов, в которых потребуется замена типа данных с float на int\n",
    "columns_to_type_replacement = ['last_price', 'floors_total', 'balcony', 'parks_around3000', 'ponds_around3000']\n",
    "\n",
    "# создание цикла, который принимает наименования столбцов из списка columns_to_type_replacement и заменяет тип данных на int \n",
    "for column in columns_to_type_replacement:\n",
    "    re[column] = re[column].astype(int) # изменение типа данных на int в 5 столбцах "
   ]
  },
  {
   "cell_type": "markdown",
   "metadata": {},
   "source": [
    "Изменим вид содержимого столбца `first_day_exposition`: из единой строки сделаем читаемую дату, используя метод `to_datetime`:"
   ]
  },
  {
   "cell_type": "code",
   "execution_count": 14,
   "metadata": {},
   "outputs": [],
   "source": [
    "re['first_day_exposition'] = pd.to_datetime(re['first_day_exposition'], format='%Y-%m-%d') # изменение в столбце first_day_exposition формата отображения даты"
   ]
  },
  {
   "cell_type": "markdown",
   "metadata": {},
   "source": [
    "### Вывод"
   ]
  },
  {
   "cell_type": "code",
   "execution_count": 15,
   "metadata": {},
   "outputs": [
    {
     "name": "stdout",
     "output_type": "stream",
     "text": [
      "<class 'pandas.core.frame.DataFrame'>\n",
      "Int64Index: 23565 entries, 0 to 23698\n",
      "Data columns (total 24 columns):\n",
      " #   Column                        Non-Null Count  Dtype         \n",
      "---  ------                        --------------  -----         \n",
      " 0   total_images                  23565 non-null  int64         \n",
      " 1   last_price                    23565 non-null  int32         \n",
      " 2   total_area                    23565 non-null  float64       \n",
      " 3   first_day_exposition          23565 non-null  datetime64[ns]\n",
      " 4   rooms                         23565 non-null  int64         \n",
      " 5   ceiling_height                23565 non-null  float64       \n",
      " 6   floors_total                  23565 non-null  int32         \n",
      " 7   living_area                   23565 non-null  float64       \n",
      " 8   floor                         23565 non-null  int64         \n",
      " 9   is_apartment                  23565 non-null  bool          \n",
      " 10  studio                        23565 non-null  bool          \n",
      " 11  open_plan                     23565 non-null  bool          \n",
      " 12  kitchen_area                  23565 non-null  float64       \n",
      " 13  balcony                       23565 non-null  int32         \n",
      " 14  locality_name                 23565 non-null  object        \n",
      " 15  airports_nearest              18041 non-null  float64       \n",
      " 16  city_centers_nearest          18064 non-null  float64       \n",
      " 17  parks_around3000              23565 non-null  int32         \n",
      " 18  parks_nearest                 8030 non-null   float64       \n",
      " 19  ponds_around3000              23565 non-null  int32         \n",
      " 20  ponds_nearest                 9036 non-null   float64       \n",
      " 21  days_exposition               20394 non-null  float64       \n",
      " 22  living_and_total_area_ratio   21700 non-null  float64       \n",
      " 23  kitchen_and_total_area_ratio  21343 non-null  float64       \n",
      "dtypes: bool(3), datetime64[ns](1), float64(11), int32(5), int64(3), object(1)\n",
      "memory usage: 3.6+ MB\n",
      "None\n"
     ]
    },
    {
     "data": {
      "text/html": [
       "<div>\n",
       "<style scoped>\n",
       "    .dataframe tbody tr th:only-of-type {\n",
       "        vertical-align: middle;\n",
       "    }\n",
       "\n",
       "    .dataframe tbody tr th {\n",
       "        vertical-align: top;\n",
       "    }\n",
       "\n",
       "    .dataframe thead th {\n",
       "        text-align: right;\n",
       "    }\n",
       "</style>\n",
       "<table border=\"1\" class=\"dataframe\">\n",
       "  <thead>\n",
       "    <tr style=\"text-align: right;\">\n",
       "      <th></th>\n",
       "      <th>total_images</th>\n",
       "      <th>last_price</th>\n",
       "      <th>total_area</th>\n",
       "      <th>first_day_exposition</th>\n",
       "      <th>rooms</th>\n",
       "      <th>ceiling_height</th>\n",
       "      <th>floors_total</th>\n",
       "      <th>living_area</th>\n",
       "      <th>floor</th>\n",
       "      <th>is_apartment</th>\n",
       "      <th>...</th>\n",
       "      <th>locality_name</th>\n",
       "      <th>airports_nearest</th>\n",
       "      <th>city_centers_nearest</th>\n",
       "      <th>parks_around3000</th>\n",
       "      <th>parks_nearest</th>\n",
       "      <th>ponds_around3000</th>\n",
       "      <th>ponds_nearest</th>\n",
       "      <th>days_exposition</th>\n",
       "      <th>living_and_total_area_ratio</th>\n",
       "      <th>kitchen_and_total_area_ratio</th>\n",
       "    </tr>\n",
       "  </thead>\n",
       "  <tbody>\n",
       "    <tr>\n",
       "      <th>0</th>\n",
       "      <td>20</td>\n",
       "      <td>13000000</td>\n",
       "      <td>108.0</td>\n",
       "      <td>2019-03-07</td>\n",
       "      <td>3</td>\n",
       "      <td>2.70</td>\n",
       "      <td>16</td>\n",
       "      <td>51.000000</td>\n",
       "      <td>8</td>\n",
       "      <td>False</td>\n",
       "      <td>...</td>\n",
       "      <td>Санкт-Петербург</td>\n",
       "      <td>18863.0</td>\n",
       "      <td>16028.0</td>\n",
       "      <td>1</td>\n",
       "      <td>482.0</td>\n",
       "      <td>2</td>\n",
       "      <td>755.0</td>\n",
       "      <td>NaN</td>\n",
       "      <td>0.472222</td>\n",
       "      <td>0.231481</td>\n",
       "    </tr>\n",
       "    <tr>\n",
       "      <th>1</th>\n",
       "      <td>7</td>\n",
       "      <td>3350000</td>\n",
       "      <td>40.4</td>\n",
       "      <td>2018-12-04</td>\n",
       "      <td>1</td>\n",
       "      <td>2.65</td>\n",
       "      <td>11</td>\n",
       "      <td>18.600000</td>\n",
       "      <td>1</td>\n",
       "      <td>False</td>\n",
       "      <td>...</td>\n",
       "      <td>посёлок Шушары</td>\n",
       "      <td>12817.0</td>\n",
       "      <td>18603.0</td>\n",
       "      <td>0</td>\n",
       "      <td>NaN</td>\n",
       "      <td>0</td>\n",
       "      <td>NaN</td>\n",
       "      <td>81.0</td>\n",
       "      <td>0.460396</td>\n",
       "      <td>0.272277</td>\n",
       "    </tr>\n",
       "    <tr>\n",
       "      <th>2</th>\n",
       "      <td>10</td>\n",
       "      <td>5196000</td>\n",
       "      <td>56.0</td>\n",
       "      <td>2015-08-20</td>\n",
       "      <td>2</td>\n",
       "      <td>2.65</td>\n",
       "      <td>5</td>\n",
       "      <td>34.300000</td>\n",
       "      <td>4</td>\n",
       "      <td>False</td>\n",
       "      <td>...</td>\n",
       "      <td>Санкт-Петербург</td>\n",
       "      <td>21741.0</td>\n",
       "      <td>13933.0</td>\n",
       "      <td>1</td>\n",
       "      <td>90.0</td>\n",
       "      <td>2</td>\n",
       "      <td>574.0</td>\n",
       "      <td>558.0</td>\n",
       "      <td>0.612500</td>\n",
       "      <td>0.148214</td>\n",
       "    </tr>\n",
       "    <tr>\n",
       "      <th>3</th>\n",
       "      <td>0</td>\n",
       "      <td>64900000</td>\n",
       "      <td>159.0</td>\n",
       "      <td>2015-07-24</td>\n",
       "      <td>3</td>\n",
       "      <td>2.65</td>\n",
       "      <td>14</td>\n",
       "      <td>89.825011</td>\n",
       "      <td>9</td>\n",
       "      <td>False</td>\n",
       "      <td>...</td>\n",
       "      <td>Санкт-Петербург</td>\n",
       "      <td>28098.0</td>\n",
       "      <td>6800.0</td>\n",
       "      <td>2</td>\n",
       "      <td>84.0</td>\n",
       "      <td>3</td>\n",
       "      <td>234.0</td>\n",
       "      <td>424.0</td>\n",
       "      <td>NaN</td>\n",
       "      <td>NaN</td>\n",
       "    </tr>\n",
       "    <tr>\n",
       "      <th>4</th>\n",
       "      <td>2</td>\n",
       "      <td>10000000</td>\n",
       "      <td>100.0</td>\n",
       "      <td>2018-06-19</td>\n",
       "      <td>2</td>\n",
       "      <td>3.03</td>\n",
       "      <td>14</td>\n",
       "      <td>32.000000</td>\n",
       "      <td>13</td>\n",
       "      <td>False</td>\n",
       "      <td>...</td>\n",
       "      <td>Санкт-Петербург</td>\n",
       "      <td>31856.0</td>\n",
       "      <td>8098.0</td>\n",
       "      <td>2</td>\n",
       "      <td>112.0</td>\n",
       "      <td>1</td>\n",
       "      <td>48.0</td>\n",
       "      <td>121.0</td>\n",
       "      <td>0.320000</td>\n",
       "      <td>0.410000</td>\n",
       "    </tr>\n",
       "  </tbody>\n",
       "</table>\n",
       "<p>5 rows × 24 columns</p>\n",
       "</div>"
      ],
      "text/plain": [
       "   total_images  last_price  total_area first_day_exposition  rooms  \\\n",
       "0            20    13000000       108.0           2019-03-07      3   \n",
       "1             7     3350000        40.4           2018-12-04      1   \n",
       "2            10     5196000        56.0           2015-08-20      2   \n",
       "3             0    64900000       159.0           2015-07-24      3   \n",
       "4             2    10000000       100.0           2018-06-19      2   \n",
       "\n",
       "   ceiling_height  floors_total  living_area  floor  is_apartment  ...  \\\n",
       "0            2.70            16    51.000000      8         False  ...   \n",
       "1            2.65            11    18.600000      1         False  ...   \n",
       "2            2.65             5    34.300000      4         False  ...   \n",
       "3            2.65            14    89.825011      9         False  ...   \n",
       "4            3.03            14    32.000000     13         False  ...   \n",
       "\n",
       "     locality_name  airports_nearest  city_centers_nearest  parks_around3000  \\\n",
       "0  Санкт-Петербург           18863.0               16028.0                 1   \n",
       "1   посёлок Шушары           12817.0               18603.0                 0   \n",
       "2  Санкт-Петербург           21741.0               13933.0                 1   \n",
       "3  Санкт-Петербург           28098.0                6800.0                 2   \n",
       "4  Санкт-Петербург           31856.0                8098.0                 2   \n",
       "\n",
       "  parks_nearest  ponds_around3000  ponds_nearest  days_exposition  \\\n",
       "0         482.0                 2          755.0              NaN   \n",
       "1           NaN                 0            NaN             81.0   \n",
       "2          90.0                 2          574.0            558.0   \n",
       "3          84.0                 3          234.0            424.0   \n",
       "4         112.0                 1           48.0            121.0   \n",
       "\n",
       "   living_and_total_area_ratio  kitchen_and_total_area_ratio  \n",
       "0                     0.472222                      0.231481  \n",
       "1                     0.460396                      0.272277  \n",
       "2                     0.612500                      0.148214  \n",
       "3                          NaN                           NaN  \n",
       "4                     0.320000                      0.410000  \n",
       "\n",
       "[5 rows x 24 columns]"
      ]
     },
     "execution_count": 15,
     "metadata": {},
     "output_type": "execute_result"
    }
   ],
   "source": [
    "print(re.info()) # получение информации об обновленной таблице\n",
    "re.head() # получение первых 5 строк обновленной таблицы"
   ]
  },
  {
   "cell_type": "markdown",
   "metadata": {},
   "source": [
    "После замены пропусков в `living_area` и `kitchen_area` через операции с долевыми значениями в этих столбцах выросло количество знаков после запятой. Чтобы эти \"хвосты\" нам не мешали, округлим их:"
   ]
  },
  {
   "cell_type": "code",
   "execution_count": 16,
   "metadata": {},
   "outputs": [],
   "source": [
    "pd.set_option('display.float_format', '{:,.1f}'.format) # приведение показателей с типом float к единому формату с одним знаком после запятой"
   ]
  },
  {
   "cell_type": "markdown",
   "metadata": {},
   "source": [
    "Теперь наша таблица стала существенно удобнее для работы с ней:\n",
    " - Мы отказались от основной массы пропусков. Отсутствующие значения остались только в столбцах с расстояниями и сроком публикации.\n",
    " - В пяти столбцах мы изменили тип данных с `float` на `int`, отбросив лишние для нас цифры после запятой."
   ]
  },
  {
   "cell_type": "markdown",
   "metadata": {},
   "source": [
    "Прежде чем завершить предобработку данных, проверим таблицу на наличие дубликатов:"
   ]
  },
  {
   "cell_type": "code",
   "execution_count": 17,
   "metadata": {},
   "outputs": [
    {
     "data": {
      "text/plain": [
       "0"
      ]
     },
     "execution_count": 17,
     "metadata": {},
     "output_type": "execute_result"
    }
   ],
   "source": [
    "re.duplicated().sum() # подсчёт явных дубликатов"
   ]
  },
  {
   "cell_type": "markdown",
   "metadata": {},
   "source": [
    "## Расчёты и добавление результатов в таблицу"
   ]
  },
  {
   "cell_type": "markdown",
   "metadata": {},
   "source": [
    "На предыдущем этапе мы уже создали новые колонки, в которых зафиксировали доли жилой площади и площади кухни от общей площади объекта недвижимости - `living_and_total_area_ratio` и `kitchen_and_total_area_ratio`.\n",
    "\n",
    "Теперь выделим в отдельный столбец стоимость недвижимости за 1 кв.м. (для этого общую стоимость объекта разделим на его площадь). Результат такого деления будет иметь тип `float`. Нам не столь важно количество копеек в стоимости квадратного метра жилья, поэтому сразу отбросим их, преобразовав конечный результат в `int`."
   ]
  },
  {
   "cell_type": "code",
   "execution_count": 18,
   "metadata": {},
   "outputs": [],
   "source": [
    "# создание столбца price_per_meter и сохранение в нём результата деления last_price на total_area, преобразованного в тип int методом astype()\n",
    "re['price_per_meter'] = (re['last_price'] / re['total_area']).astype(int)"
   ]
  },
  {
   "cell_type": "markdown",
   "metadata": {},
   "source": [
    "Также создадим колонки, в которых будут указаны день недели, месяц и год публикации объявления:"
   ]
  },
  {
   "cell_type": "code",
   "execution_count": 19,
   "metadata": {},
   "outputs": [],
   "source": [
    "# создание столбца date_exposition_weekday и сохранение в нём дня недели из first_day_exposition\n",
    "re['date_exposition_weekday'] = re['first_day_exposition'].dt.weekday \n",
    "\n",
    "# создание столбца date_exposition_month и сохранение в нём числа месяца из first_day_exposition\n",
    "re['date_exposition_month'] = re['first_day_exposition'].dt.month\n",
    "\n",
    "# создание столбца date_exposition_year и сохранение в нём года из first_day_exposition\n",
    "re['date_exposition_year'] = re['first_day_exposition'].dt.year"
   ]
  },
  {
   "cell_type": "markdown",
   "metadata": {},
   "source": [
    "Чтобы поделить этажи на три группы (первый, последний, другой), необходимо категорезировать имеющиеся в столбце `floors_total` данные:"
   ]
  },
  {
   "cell_type": "code",
   "execution_count": 20,
   "metadata": {},
   "outputs": [],
   "source": [
    "# объявление функции number_of_floors() с параметром row, которая возвращает категорию этажа в зависимости от показателя row\n",
    "def number_of_floors(row):\n",
    "    if row['floor'] == 1:\n",
    "        return 'первый'\n",
    "    elif row['floor'] == row['floors_total']:\n",
    "        return 'последний'\n",
    "    else:\n",
    "        return 'другой'\n",
    "\n",
    "# создание нового столбца floor_position и сохранение в нём методом apply() результатов работы функции number_of_floors() к строкам\n",
    "re['floor_position'] = re.apply(number_of_floors, axis=1)"
   ]
  },
  {
   "cell_type": "markdown",
   "metadata": {},
   "source": [
    "### Вывод"
   ]
  },
  {
   "cell_type": "code",
   "execution_count": 21,
   "metadata": {},
   "outputs": [
    {
     "data": {
      "text/html": [
       "<div>\n",
       "<style scoped>\n",
       "    .dataframe tbody tr th:only-of-type {\n",
       "        vertical-align: middle;\n",
       "    }\n",
       "\n",
       "    .dataframe tbody tr th {\n",
       "        vertical-align: top;\n",
       "    }\n",
       "\n",
       "    .dataframe thead th {\n",
       "        text-align: right;\n",
       "    }\n",
       "</style>\n",
       "<table border=\"1\" class=\"dataframe\">\n",
       "  <thead>\n",
       "    <tr style=\"text-align: right;\">\n",
       "      <th></th>\n",
       "      <th>total_images</th>\n",
       "      <th>last_price</th>\n",
       "      <th>total_area</th>\n",
       "      <th>first_day_exposition</th>\n",
       "      <th>rooms</th>\n",
       "      <th>ceiling_height</th>\n",
       "      <th>floors_total</th>\n",
       "      <th>living_area</th>\n",
       "      <th>floor</th>\n",
       "      <th>is_apartment</th>\n",
       "      <th>...</th>\n",
       "      <th>ponds_around3000</th>\n",
       "      <th>ponds_nearest</th>\n",
       "      <th>days_exposition</th>\n",
       "      <th>living_and_total_area_ratio</th>\n",
       "      <th>kitchen_and_total_area_ratio</th>\n",
       "      <th>price_per_meter</th>\n",
       "      <th>date_exposition_weekday</th>\n",
       "      <th>date_exposition_month</th>\n",
       "      <th>date_exposition_year</th>\n",
       "      <th>floor_position</th>\n",
       "    </tr>\n",
       "  </thead>\n",
       "  <tbody>\n",
       "    <tr>\n",
       "      <th>0</th>\n",
       "      <td>20</td>\n",
       "      <td>13000000</td>\n",
       "      <td>108.0</td>\n",
       "      <td>2019-03-07</td>\n",
       "      <td>3</td>\n",
       "      <td>2.7</td>\n",
       "      <td>16</td>\n",
       "      <td>51.0</td>\n",
       "      <td>8</td>\n",
       "      <td>False</td>\n",
       "      <td>...</td>\n",
       "      <td>2</td>\n",
       "      <td>755.0</td>\n",
       "      <td>NaN</td>\n",
       "      <td>0.5</td>\n",
       "      <td>0.2</td>\n",
       "      <td>120370</td>\n",
       "      <td>3</td>\n",
       "      <td>3</td>\n",
       "      <td>2019</td>\n",
       "      <td>другой</td>\n",
       "    </tr>\n",
       "    <tr>\n",
       "      <th>1</th>\n",
       "      <td>7</td>\n",
       "      <td>3350000</td>\n",
       "      <td>40.4</td>\n",
       "      <td>2018-12-04</td>\n",
       "      <td>1</td>\n",
       "      <td>2.6</td>\n",
       "      <td>11</td>\n",
       "      <td>18.6</td>\n",
       "      <td>1</td>\n",
       "      <td>False</td>\n",
       "      <td>...</td>\n",
       "      <td>0</td>\n",
       "      <td>NaN</td>\n",
       "      <td>81.0</td>\n",
       "      <td>0.5</td>\n",
       "      <td>0.3</td>\n",
       "      <td>82920</td>\n",
       "      <td>1</td>\n",
       "      <td>12</td>\n",
       "      <td>2018</td>\n",
       "      <td>первый</td>\n",
       "    </tr>\n",
       "    <tr>\n",
       "      <th>2</th>\n",
       "      <td>10</td>\n",
       "      <td>5196000</td>\n",
       "      <td>56.0</td>\n",
       "      <td>2015-08-20</td>\n",
       "      <td>2</td>\n",
       "      <td>2.6</td>\n",
       "      <td>5</td>\n",
       "      <td>34.3</td>\n",
       "      <td>4</td>\n",
       "      <td>False</td>\n",
       "      <td>...</td>\n",
       "      <td>2</td>\n",
       "      <td>574.0</td>\n",
       "      <td>558.0</td>\n",
       "      <td>0.6</td>\n",
       "      <td>0.1</td>\n",
       "      <td>92785</td>\n",
       "      <td>3</td>\n",
       "      <td>8</td>\n",
       "      <td>2015</td>\n",
       "      <td>другой</td>\n",
       "    </tr>\n",
       "    <tr>\n",
       "      <th>3</th>\n",
       "      <td>0</td>\n",
       "      <td>64900000</td>\n",
       "      <td>159.0</td>\n",
       "      <td>2015-07-24</td>\n",
       "      <td>3</td>\n",
       "      <td>2.6</td>\n",
       "      <td>14</td>\n",
       "      <td>89.8</td>\n",
       "      <td>9</td>\n",
       "      <td>False</td>\n",
       "      <td>...</td>\n",
       "      <td>3</td>\n",
       "      <td>234.0</td>\n",
       "      <td>424.0</td>\n",
       "      <td>NaN</td>\n",
       "      <td>NaN</td>\n",
       "      <td>408176</td>\n",
       "      <td>4</td>\n",
       "      <td>7</td>\n",
       "      <td>2015</td>\n",
       "      <td>другой</td>\n",
       "    </tr>\n",
       "    <tr>\n",
       "      <th>4</th>\n",
       "      <td>2</td>\n",
       "      <td>10000000</td>\n",
       "      <td>100.0</td>\n",
       "      <td>2018-06-19</td>\n",
       "      <td>2</td>\n",
       "      <td>3.0</td>\n",
       "      <td>14</td>\n",
       "      <td>32.0</td>\n",
       "      <td>13</td>\n",
       "      <td>False</td>\n",
       "      <td>...</td>\n",
       "      <td>1</td>\n",
       "      <td>48.0</td>\n",
       "      <td>121.0</td>\n",
       "      <td>0.3</td>\n",
       "      <td>0.4</td>\n",
       "      <td>100000</td>\n",
       "      <td>1</td>\n",
       "      <td>6</td>\n",
       "      <td>2018</td>\n",
       "      <td>другой</td>\n",
       "    </tr>\n",
       "  </tbody>\n",
       "</table>\n",
       "<p>5 rows × 29 columns</p>\n",
       "</div>"
      ],
      "text/plain": [
       "   total_images  last_price  total_area first_day_exposition  rooms  \\\n",
       "0            20    13000000       108.0           2019-03-07      3   \n",
       "1             7     3350000        40.4           2018-12-04      1   \n",
       "2            10     5196000        56.0           2015-08-20      2   \n",
       "3             0    64900000       159.0           2015-07-24      3   \n",
       "4             2    10000000       100.0           2018-06-19      2   \n",
       "\n",
       "   ceiling_height  floors_total  living_area  floor  is_apartment  ...  \\\n",
       "0             2.7            16         51.0      8         False  ...   \n",
       "1             2.6            11         18.6      1         False  ...   \n",
       "2             2.6             5         34.3      4         False  ...   \n",
       "3             2.6            14         89.8      9         False  ...   \n",
       "4             3.0            14         32.0     13         False  ...   \n",
       "\n",
       "   ponds_around3000  ponds_nearest  days_exposition  \\\n",
       "0                 2          755.0              NaN   \n",
       "1                 0            NaN             81.0   \n",
       "2                 2          574.0            558.0   \n",
       "3                 3          234.0            424.0   \n",
       "4                 1           48.0            121.0   \n",
       "\n",
       "   living_and_total_area_ratio kitchen_and_total_area_ratio  price_per_meter  \\\n",
       "0                          0.5                          0.2           120370   \n",
       "1                          0.5                          0.3            82920   \n",
       "2                          0.6                          0.1            92785   \n",
       "3                          NaN                          NaN           408176   \n",
       "4                          0.3                          0.4           100000   \n",
       "\n",
       "   date_exposition_weekday  date_exposition_month  date_exposition_year  \\\n",
       "0                        3                      3                  2019   \n",
       "1                        1                     12                  2018   \n",
       "2                        3                      8                  2015   \n",
       "3                        4                      7                  2015   \n",
       "4                        1                      6                  2018   \n",
       "\n",
       "   floor_position  \n",
       "0          другой  \n",
       "1          первый  \n",
       "2          другой  \n",
       "3          другой  \n",
       "4          другой  \n",
       "\n",
       "[5 rows x 29 columns]"
      ]
     },
     "execution_count": 21,
     "metadata": {},
     "output_type": "execute_result"
    }
   ],
   "source": [
    "re.head() # получение первых 5 строк обновленной таблицы"
   ]
  },
  {
   "cell_type": "markdown",
   "metadata": {},
   "source": [
    "В конечном итоге нами создано семь новых столбцов:\n",
    "- `price_per_meter`: цена квадратного метра\n",
    "- `date_exposition_weekday`: день недели публикации объявления\n",
    "- `date_exposition_month`: месяц публикации объявления\n",
    "- `date_exposition_year`: год публикации объявления\n",
    "- `floor_position`: этаж квартиры (первый, последний или другой)\n",
    "- `living_and_total_area_ratio`: соотношение жилой и общей площади\n",
    "- `kitchen_and_total_area_ratio`: соотношение площади кухни и общей площади"
   ]
  },
  {
   "cell_type": "markdown",
   "metadata": {},
   "source": [
    "## Исследовательский анализ данных"
   ]
  },
  {
   "cell_type": "markdown",
   "metadata": {},
   "source": [
    "### Изучение параметров"
   ]
  },
  {
   "cell_type": "markdown",
   "metadata": {},
   "source": [
    "Изучим параметры представленных объектов недвижимости (площадь, цена, число комнат, высота потолков, время продажи квартиры). Для этого по каждому параметру построим гистограмму:"
   ]
  },
  {
   "cell_type": "code",
   "execution_count": 22,
   "metadata": {},
   "outputs": [
    {
     "data": {
      "image/png": "[encoded data removed]",
      "text/plain": [
       "<Figure size 432x288 with 1 Axes>"
      ]
     },
     "metadata": {
      "needs_background": "light"
     },
     "output_type": "display_data"
    }
   ],
   "source": [
    "# построение гистограммы hist_1 по столбцу total_area\n",
    "hist_1 = re['total_area'].plot(kind='hist', title='Гистограмма по площади объектов недвижимости' + '\\n', grid=True)\n",
    "hist_1.set_ylabel('Количество объектов') # присвоение имени оси y\n",
    "hist_1.set_xlabel('Площадь объектов (в кв.м.)'); # присвоение имени оси x "
   ]
  },
  {
   "cell_type": "code",
   "execution_count": 23,
   "metadata": {},
   "outputs": [
    {
     "data": {
      "image/png": "[encoded data removed]",
      "text/plain": [
       "<Figure size 432x288 with 1 Axes>"
      ]
     },
     "metadata": {
      "needs_background": "light"
     },
     "output_type": "display_data"
    }
   ],
   "source": [
    "# построение гистограммы hist_2 по столбцу last_price\n",
    "hist_2 = re['last_price'].plot(kind='hist', title='Гистограмма по стоимости объектов недвижимости' + '\\n', grid=True)\n",
    "hist_2.set_ylabel('Количество объектов') # присвоение имени оси y\n",
    "hist_2.set_xlabel('Стоимость объектов (в 100 млн рублей)'); # присвоение имени оси x "
   ]
  },
  {
   "cell_type": "code",
   "execution_count": 24,
   "metadata": {},
   "outputs": [
    {
     "data": {
      "image/png": "[encoded data removed]",
      "text/plain": [
       "<Figure size 432x288 with 1 Axes>"
      ]
     },
     "metadata": {
      "needs_background": "light"
     },
     "output_type": "display_data"
    }
   ],
   "source": [
    "# построение гистограммы hist_3 по столбцу rooms\n",
    "hist_3 = re['rooms'].plot(kind='hist', title='Гистограмма по количеству комнат в объектах недвижимости' + '\\n', grid=True, xticks=re['rooms'].unique())\n",
    "hist_3.set_ylabel('Количество объектов') # присвоение имени оси y\n",
    "hist_3.set_xlabel('Количество комнат'); # присвоение имени оси x "
   ]
  },
  {
   "cell_type": "code",
   "execution_count": 25,
   "metadata": {},
   "outputs": [
    {
     "data": {
      "image/png": "[encoded data removed]",
      "text/plain": [
       "<Figure size 432x288 with 1 Axes>"
      ]
     },
     "metadata": {
      "needs_background": "light"
     },
     "output_type": "display_data"
    }
   ],
   "source": [
    "# построение гистограммы hist_4 по столбцу ceiling_height \n",
    "hist_4 = re['ceiling_height'].plot(kind='hist', title='Гистограмма по высоте потолка в объектах недвижимости' + '\\n', grid=True)\n",
    "hist_4.set_ylabel('Количество объектов') # присвоение имени оси y\n",
    "hist_4.set_xlabel('Высота потолка (в метрах)'); # присвоение имени оси x "
   ]
  },
  {
   "cell_type": "code",
   "execution_count": 26,
   "metadata": {},
   "outputs": [
    {
     "data": {
      "image/png": "[encoded data removed]",
      "text/plain": [
       "<Figure size 432x288 with 1 Axes>"
      ]
     },
     "metadata": {
      "needs_background": "light"
     },
     "output_type": "display_data"
    }
   ],
   "source": [
    "# построение гистограммы hist_5 по столбцу days_exposition\n",
    "hist_5 = re['days_exposition'].plot(kind='hist', title='Гистограмма по срокам продажи объектов недвижимости' + '\\n', grid=True)\n",
    "hist_5.set_ylabel('Количество объектов') # присвоение имени оси y\n",
    "hist_5.set_xlabel('Количество дней нахождения объекта в продаже'); # присвоение имени оси x "
   ]
  },
  {
   "cell_type": "code",
   "execution_count": 27,
   "metadata": {
    "scrolled": true
   },
   "outputs": [
    {
     "data": {
      "text/plain": [
       "count   20,394.0\n",
       "mean       180.7\n",
       "std        219.7\n",
       "min          1.0\n",
       "25%         45.0\n",
       "50%         95.0\n",
       "75%        231.0\n",
       "max      1,580.0\n",
       "Name: days_exposition, dtype: float64"
      ]
     },
     "execution_count": 27,
     "metadata": {},
     "output_type": "execute_result"
    }
   ],
   "source": [
    "re['days_exposition'].describe() # получение числового описания данных для колонки days_exposition"
   ]
  },
  {
   "cell_type": "markdown",
   "metadata": {},
   "source": [
    "Числовое описание столбца `days_exposition`, полученное методом `describe()`, показало нам, что средний срок продажи недвижимости - **169 дней** или почти полгода. Медианный показатель по этому критерию - **95 дней**, то есть примерно три месяца, что более похоже на правду.\n",
    "\n",
    "Следовательно, можно сказать, что сроки, лежащие в первом квартиле, то есть **до полутора месяцев - это очень быстрая продажа**, а сроки, лежащие в четвёртом квартиле, то есть **более полугода - это уже затянувшаяся продажа**."
   ]
  },
  {
   "cell_type": "markdown",
   "metadata": {},
   "source": [
    "Гистограммы продемонстрировали нам следующее:\n",
    "- в среднем, площадь квартир на рынке от 10 до 100 кв.м.,\n",
    "- их стоимость, в основном, до 80 млн рублей,\n",
    "- больше всего двух- и трёхкомнатных квартир,\n",
    "- высота потолков до 10 метров,\n",
    "- обычно квартира находится в продаже до 180 дней.\n",
    "\n",
    "Как мы видим, в данный момент гистограммы отображают очень общие и оттого неточные вещи, так как по всем параметрам есть аномальные выбивающиеся значения, которые для дальнейшей работы нам лучше отбросить:\n",
    "- объекты меньше 10 кв.м. и больше 190 кв.м.,\n",
    "- дороже 80 млн рублей,\n",
    "- в которых больше 6 комнат,\n",
    "- с высотой потолков менее 2 м и более 5 м,\n",
    "- которые находились в продаже более 600 дней."
   ]
  },
  {
   "cell_type": "code",
   "execution_count": 28,
   "metadata": {},
   "outputs": [],
   "source": [
    "# сохранение в таблице re только тех строк, которые соответствуют нашим требованиям, изложенным в методе query()\n",
    "re = re.query('10 <= total_area <= 190 and last_price < 80000000 and rooms < 6 and 2 < ceiling_height < 5 and days_exposition < 600')"
   ]
  },
  {
   "cell_type": "markdown",
   "metadata": {},
   "source": [
    "### Изучение корреляции факторов"
   ]
  },
  {
   "cell_type": "markdown",
   "metadata": {},
   "source": [
    "Посмотрим, насколько тесна взаимосвязь стоимости недвижимости с другими факторами. Для этого методом `corr()` посчитаем коэффициент корреляции:"
   ]
  },
  {
   "cell_type": "code",
   "execution_count": 29,
   "metadata": {
    "scrolled": true
   },
   "outputs": [
    {
     "name": "stdout",
     "output_type": "stream",
     "text": [
      "Зависимость цены от площади: 0.7334263580653915\n",
      "Зависимость цены от кол-ва комнат: 0.4257223677976052\n",
      "Зависимость цены от удалённости от центра: -0.3051634714824023\n",
      "Зависимость цены от дня недели размещения объявления: -0.0021765757801039515\n",
      "Зависимость цены от месяца размещения объявления: 0.004545603222314428\n",
      "Зависимость цены от года размещения объявления: -0.051752315723200215\n"
     ]
    }
   ],
   "source": [
    "# получение коэффициента корреляции между стоимостью и площадью\n",
    "print('Зависимость цены от площади:', re['last_price'].corr(re['total_area']))\n",
    "\n",
    "# получение коэффициента корреляции между стоимостью и количеством комнат\n",
    "print('Зависимость цены от кол-ва комнат:', re['last_price'].corr(re['rooms']))\n",
    "\n",
    "# получение коэффициента корреляции между стоимостью и удалённостью от центра\n",
    "print('Зависимость цены от удалённости от центра:', re['last_price'].corr(re['city_centers_nearest']))\n",
    "\n",
    "# получение коэффициента корреляции между стоимостью и днём недели публикации объявления\n",
    "print('Зависимость цены от дня недели размещения объявления:', re['last_price'].corr(re['date_exposition_weekday']))\n",
    "\n",
    "# получение коэффициента корреляции между стоимостью и месяцем публикации объявления\n",
    "print('Зависимость цены от месяца размещения объявления:', re['last_price'].corr(re['date_exposition_month']))\n",
    "\n",
    "# получение коэффициента корреляции между стоимостью и годом публикации объявления\n",
    "print('Зависимость цены от года размещения объявления:', re['last_price'].corr(re['date_exposition_year']))"
   ]
  },
  {
   "cell_type": "code",
   "execution_count": 30,
   "metadata": {
    "scrolled": true
   },
   "outputs": [
    {
     "data": {
      "image/png": "[encoded data removed]",
      "text/plain": [
       "<Figure size 432x288 with 1 Axes>"
      ]
     },
     "metadata": {
      "needs_background": "light"
     },
     "output_type": "display_data"
    }
   ],
   "source": [
    "# методом pivot_table() получение средней стоимости недвижимости в зависимости от этажа расположения квартиры\n",
    "# сортировка значений по убыванию\n",
    "# построение графика plot\n",
    "graph = (re.pivot_table(index='floor_position', values='last_price')\n",
    "         .sort_values(by='last_price', ascending=False)\n",
    "         .plot(kind='bar', title='Сравнение средней стоимости недвижимости в зависимости от этажа' + '\\n', grid=True, legend=False, rot=4)\n",
    "        )\n",
    "graph.set_ylabel('Средняя цена объекта') # присвоение имени оси y\n",
    "graph.set_xlabel('Расположение этажа'); # присвоение имени оси x "
   ]
  },
  {
   "cell_type": "markdown",
   "metadata": {},
   "source": [
    "Итак, мы видим, что самая высокая положительная корреляция между стоимостью недвижимости и её площадью (чем больше площадь, тем выше цена) - что абсолютно логично. \n",
    "\n",
    "Также на цену влияет количество комнат в квартире. Что в принципе совпадает с нашим первым выводом: ведь чаще всего чем больше комнат в квартире, тем больше её площадь (высокая положительная корреляция между площадью и числом комнат).\n",
    "\n",
    "Ожидаемо наблюдается некоторая отрицательная корреляция между удалённостью квартиры от центра и её стоимостью: чем выше показатель удалённости, тем ниже цена.\n",
    "\n",
    "Также на цену влияет этаж нахождения квартиры: если квартира расположена не на первом и не на последнем этаже, её средняя стоимость возрастает. Самая низкая средняя цена у квартир, находящихся на первом этаже. \n",
    "\n",
    "А такие показатели, как день недели, месяц и год размещения почти никаким образом не коррелируют со стоимостью недвижимости."
   ]
  },
  {
   "cell_type": "markdown",
   "metadata": {},
   "source": [
    "### Изучение стоимости жилья в топ-10 городов"
   ]
  },
  {
   "cell_type": "markdown",
   "metadata": {},
   "source": [
    "Проанализируем предложения в десяти населённых пунктов с наибольшим числом объявлений:"
   ]
  },
  {
   "cell_type": "code",
   "execution_count": 31,
   "metadata": {},
   "outputs": [
    {
     "data": {
      "text/html": [
       "<div>\n",
       "<style scoped>\n",
       "    .dataframe tbody tr th:only-of-type {\n",
       "        vertical-align: middle;\n",
       "    }\n",
       "\n",
       "    .dataframe tbody tr th {\n",
       "        vertical-align: top;\n",
       "    }\n",
       "\n",
       "    .dataframe thead th {\n",
       "        text-align: right;\n",
       "    }\n",
       "</style>\n",
       "<table border=\"1\" class=\"dataframe\">\n",
       "  <thead>\n",
       "    <tr style=\"text-align: right;\">\n",
       "      <th></th>\n",
       "      <th>total_images</th>\n",
       "      <th>last_price</th>\n",
       "      <th>total_area</th>\n",
       "      <th>first_day_exposition</th>\n",
       "      <th>rooms</th>\n",
       "      <th>ceiling_height</th>\n",
       "      <th>floors_total</th>\n",
       "      <th>living_area</th>\n",
       "      <th>floor</th>\n",
       "      <th>is_apartment</th>\n",
       "      <th>...</th>\n",
       "      <th>ponds_around3000</th>\n",
       "      <th>ponds_nearest</th>\n",
       "      <th>days_exposition</th>\n",
       "      <th>living_and_total_area_ratio</th>\n",
       "      <th>kitchen_and_total_area_ratio</th>\n",
       "      <th>price_per_meter</th>\n",
       "      <th>date_exposition_weekday</th>\n",
       "      <th>date_exposition_month</th>\n",
       "      <th>date_exposition_year</th>\n",
       "      <th>floor_position</th>\n",
       "    </tr>\n",
       "    <tr>\n",
       "      <th>locality_name</th>\n",
       "      <th></th>\n",
       "      <th></th>\n",
       "      <th></th>\n",
       "      <th></th>\n",
       "      <th></th>\n",
       "      <th></th>\n",
       "      <th></th>\n",
       "      <th></th>\n",
       "      <th></th>\n",
       "      <th></th>\n",
       "      <th></th>\n",
       "      <th></th>\n",
       "      <th></th>\n",
       "      <th></th>\n",
       "      <th></th>\n",
       "      <th></th>\n",
       "      <th></th>\n",
       "      <th></th>\n",
       "      <th></th>\n",
       "      <th></th>\n",
       "      <th></th>\n",
       "    </tr>\n",
       "  </thead>\n",
       "  <tbody>\n",
       "    <tr>\n",
       "      <th>Санкт-Петербург</th>\n",
       "      <td>12517</td>\n",
       "      <td>12517</td>\n",
       "      <td>12517</td>\n",
       "      <td>12517</td>\n",
       "      <td>12517</td>\n",
       "      <td>12517</td>\n",
       "      <td>12517</td>\n",
       "      <td>12517</td>\n",
       "      <td>12517</td>\n",
       "      <td>12517</td>\n",
       "      <td>...</td>\n",
       "      <td>12517</td>\n",
       "      <td>6200</td>\n",
       "      <td>12517</td>\n",
       "      <td>11598</td>\n",
       "      <td>11404</td>\n",
       "      <td>12517</td>\n",
       "      <td>12517</td>\n",
       "      <td>12517</td>\n",
       "      <td>12517</td>\n",
       "      <td>12517</td>\n",
       "    </tr>\n",
       "    <tr>\n",
       "      <th>посёлок Мурино</th>\n",
       "      <td>493</td>\n",
       "      <td>493</td>\n",
       "      <td>493</td>\n",
       "      <td>493</td>\n",
       "      <td>493</td>\n",
       "      <td>493</td>\n",
       "      <td>493</td>\n",
       "      <td>493</td>\n",
       "      <td>493</td>\n",
       "      <td>493</td>\n",
       "      <td>...</td>\n",
       "      <td>493</td>\n",
       "      <td>0</td>\n",
       "      <td>493</td>\n",
       "      <td>438</td>\n",
       "      <td>400</td>\n",
       "      <td>493</td>\n",
       "      <td>493</td>\n",
       "      <td>493</td>\n",
       "      <td>493</td>\n",
       "      <td>493</td>\n",
       "    </tr>\n",
       "    <tr>\n",
       "      <th>посёлок Шушары</th>\n",
       "      <td>393</td>\n",
       "      <td>393</td>\n",
       "      <td>393</td>\n",
       "      <td>393</td>\n",
       "      <td>393</td>\n",
       "      <td>393</td>\n",
       "      <td>393</td>\n",
       "      <td>393</td>\n",
       "      <td>393</td>\n",
       "      <td>393</td>\n",
       "      <td>...</td>\n",
       "      <td>393</td>\n",
       "      <td>134</td>\n",
       "      <td>393</td>\n",
       "      <td>361</td>\n",
       "      <td>355</td>\n",
       "      <td>393</td>\n",
       "      <td>393</td>\n",
       "      <td>393</td>\n",
       "      <td>393</td>\n",
       "      <td>393</td>\n",
       "    </tr>\n",
       "    <tr>\n",
       "      <th>Всеволожск</th>\n",
       "      <td>318</td>\n",
       "      <td>318</td>\n",
       "      <td>318</td>\n",
       "      <td>318</td>\n",
       "      <td>318</td>\n",
       "      <td>318</td>\n",
       "      <td>318</td>\n",
       "      <td>318</td>\n",
       "      <td>318</td>\n",
       "      <td>318</td>\n",
       "      <td>...</td>\n",
       "      <td>318</td>\n",
       "      <td>0</td>\n",
       "      <td>318</td>\n",
       "      <td>293</td>\n",
       "      <td>281</td>\n",
       "      <td>318</td>\n",
       "      <td>318</td>\n",
       "      <td>318</td>\n",
       "      <td>318</td>\n",
       "      <td>318</td>\n",
       "    </tr>\n",
       "    <tr>\n",
       "      <th>Колпино</th>\n",
       "      <td>298</td>\n",
       "      <td>298</td>\n",
       "      <td>298</td>\n",
       "      <td>298</td>\n",
       "      <td>298</td>\n",
       "      <td>298</td>\n",
       "      <td>298</td>\n",
       "      <td>298</td>\n",
       "      <td>298</td>\n",
       "      <td>298</td>\n",
       "      <td>...</td>\n",
       "      <td>298</td>\n",
       "      <td>163</td>\n",
       "      <td>298</td>\n",
       "      <td>288</td>\n",
       "      <td>282</td>\n",
       "      <td>298</td>\n",
       "      <td>298</td>\n",
       "      <td>298</td>\n",
       "      <td>298</td>\n",
       "      <td>298</td>\n",
       "    </tr>\n",
       "    <tr>\n",
       "      <th>посёлок Парголово</th>\n",
       "      <td>292</td>\n",
       "      <td>292</td>\n",
       "      <td>292</td>\n",
       "      <td>292</td>\n",
       "      <td>292</td>\n",
       "      <td>292</td>\n",
       "      <td>292</td>\n",
       "      <td>292</td>\n",
       "      <td>292</td>\n",
       "      <td>292</td>\n",
       "      <td>...</td>\n",
       "      <td>292</td>\n",
       "      <td>51</td>\n",
       "      <td>292</td>\n",
       "      <td>268</td>\n",
       "      <td>256</td>\n",
       "      <td>292</td>\n",
       "      <td>292</td>\n",
       "      <td>292</td>\n",
       "      <td>292</td>\n",
       "      <td>292</td>\n",
       "    </tr>\n",
       "    <tr>\n",
       "      <th>Пушкин</th>\n",
       "      <td>284</td>\n",
       "      <td>284</td>\n",
       "      <td>284</td>\n",
       "      <td>284</td>\n",
       "      <td>284</td>\n",
       "      <td>284</td>\n",
       "      <td>284</td>\n",
       "      <td>284</td>\n",
       "      <td>284</td>\n",
       "      <td>284</td>\n",
       "      <td>...</td>\n",
       "      <td>284</td>\n",
       "      <td>135</td>\n",
       "      <td>284</td>\n",
       "      <td>263</td>\n",
       "      <td>256</td>\n",
       "      <td>284</td>\n",
       "      <td>284</td>\n",
       "      <td>284</td>\n",
       "      <td>284</td>\n",
       "      <td>284</td>\n",
       "    </tr>\n",
       "    <tr>\n",
       "      <th>деревня Кудрово</th>\n",
       "      <td>276</td>\n",
       "      <td>276</td>\n",
       "      <td>276</td>\n",
       "      <td>276</td>\n",
       "      <td>276</td>\n",
       "      <td>276</td>\n",
       "      <td>276</td>\n",
       "      <td>276</td>\n",
       "      <td>276</td>\n",
       "      <td>276</td>\n",
       "      <td>...</td>\n",
       "      <td>276</td>\n",
       "      <td>0</td>\n",
       "      <td>276</td>\n",
       "      <td>242</td>\n",
       "      <td>211</td>\n",
       "      <td>276</td>\n",
       "      <td>276</td>\n",
       "      <td>276</td>\n",
       "      <td>276</td>\n",
       "      <td>276</td>\n",
       "    </tr>\n",
       "    <tr>\n",
       "      <th>Гатчина</th>\n",
       "      <td>249</td>\n",
       "      <td>249</td>\n",
       "      <td>249</td>\n",
       "      <td>249</td>\n",
       "      <td>249</td>\n",
       "      <td>249</td>\n",
       "      <td>249</td>\n",
       "      <td>249</td>\n",
       "      <td>249</td>\n",
       "      <td>249</td>\n",
       "      <td>...</td>\n",
       "      <td>249</td>\n",
       "      <td>0</td>\n",
       "      <td>249</td>\n",
       "      <td>235</td>\n",
       "      <td>237</td>\n",
       "      <td>249</td>\n",
       "      <td>249</td>\n",
       "      <td>249</td>\n",
       "      <td>249</td>\n",
       "      <td>249</td>\n",
       "    </tr>\n",
       "    <tr>\n",
       "      <th>Выборг</th>\n",
       "      <td>194</td>\n",
       "      <td>194</td>\n",
       "      <td>194</td>\n",
       "      <td>194</td>\n",
       "      <td>194</td>\n",
       "      <td>194</td>\n",
       "      <td>194</td>\n",
       "      <td>194</td>\n",
       "      <td>194</td>\n",
       "      <td>194</td>\n",
       "      <td>...</td>\n",
       "      <td>194</td>\n",
       "      <td>0</td>\n",
       "      <td>194</td>\n",
       "      <td>152</td>\n",
       "      <td>158</td>\n",
       "      <td>194</td>\n",
       "      <td>194</td>\n",
       "      <td>194</td>\n",
       "      <td>194</td>\n",
       "      <td>194</td>\n",
       "    </tr>\n",
       "  </tbody>\n",
       "</table>\n",
       "<p>10 rows × 28 columns</p>\n",
       "</div>"
      ],
      "text/plain": [
       "                   total_images  last_price  total_area  first_day_exposition  \\\n",
       "locality_name                                                                   \n",
       "Санкт-Петербург           12517       12517       12517                 12517   \n",
       "посёлок Мурино              493         493         493                   493   \n",
       "посёлок Шушары              393         393         393                   393   \n",
       "Всеволожск                  318         318         318                   318   \n",
       "Колпино                     298         298         298                   298   \n",
       "посёлок Парголово           292         292         292                   292   \n",
       "Пушкин                      284         284         284                   284   \n",
       "деревня Кудрово             276         276         276                   276   \n",
       "Гатчина                     249         249         249                   249   \n",
       "Выборг                      194         194         194                   194   \n",
       "\n",
       "                   rooms  ceiling_height  floors_total  living_area  floor  \\\n",
       "locality_name                                                                \n",
       "Санкт-Петербург    12517           12517         12517        12517  12517   \n",
       "посёлок Мурино       493             493           493          493    493   \n",
       "посёлок Шушары       393             393           393          393    393   \n",
       "Всеволожск           318             318           318          318    318   \n",
       "Колпино              298             298           298          298    298   \n",
       "посёлок Парголово    292             292           292          292    292   \n",
       "Пушкин               284             284           284          284    284   \n",
       "деревня Кудрово      276             276           276          276    276   \n",
       "Гатчина              249             249           249          249    249   \n",
       "Выборг               194             194           194          194    194   \n",
       "\n",
       "                   is_apartment  ...  ponds_around3000  ponds_nearest  \\\n",
       "locality_name                    ...                                    \n",
       "Санкт-Петербург           12517  ...             12517           6200   \n",
       "посёлок Мурино              493  ...               493              0   \n",
       "посёлок Шушары              393  ...               393            134   \n",
       "Всеволожск                  318  ...               318              0   \n",
       "Колпино                     298  ...               298            163   \n",
       "посёлок Парголово           292  ...               292             51   \n",
       "Пушкин                      284  ...               284            135   \n",
       "деревня Кудрово             276  ...               276              0   \n",
       "Гатчина                     249  ...               249              0   \n",
       "Выборг                      194  ...               194              0   \n",
       "\n",
       "                   days_exposition  living_and_total_area_ratio  \\\n",
       "locality_name                                                     \n",
       "Санкт-Петербург              12517                        11598   \n",
       "посёлок Мурино                 493                          438   \n",
       "посёлок Шушары                 393                          361   \n",
       "Всеволожск                     318                          293   \n",
       "Колпино                        298                          288   \n",
       "посёлок Парголово              292                          268   \n",
       "Пушкин                         284                          263   \n",
       "деревня Кудрово                276                          242   \n",
       "Гатчина                        249                          235   \n",
       "Выборг                         194                          152   \n",
       "\n",
       "                   kitchen_and_total_area_ratio  price_per_meter  \\\n",
       "locality_name                                                      \n",
       "Санкт-Петербург                           11404            12517   \n",
       "посёлок Мурино                              400              493   \n",
       "посёлок Шушары                              355              393   \n",
       "Всеволожск                                  281              318   \n",
       "Колпино                                     282              298   \n",
       "посёлок Парголово                           256              292   \n",
       "Пушкин                                      256              284   \n",
       "деревня Кудрово                             211              276   \n",
       "Гатчина                                     237              249   \n",
       "Выборг                                      158              194   \n",
       "\n",
       "                   date_exposition_weekday  date_exposition_month  \\\n",
       "locality_name                                                       \n",
       "Санкт-Петербург                      12517                  12517   \n",
       "посёлок Мурино                         493                    493   \n",
       "посёлок Шушары                         393                    393   \n",
       "Всеволожск                             318                    318   \n",
       "Колпино                                298                    298   \n",
       "посёлок Парголово                      292                    292   \n",
       "Пушкин                                 284                    284   \n",
       "деревня Кудрово                        276                    276   \n",
       "Гатчина                                249                    249   \n",
       "Выборг                                 194                    194   \n",
       "\n",
       "                   date_exposition_year  floor_position  \n",
       "locality_name                                            \n",
       "Санкт-Петербург                   12517           12517  \n",
       "посёлок Мурино                      493             493  \n",
       "посёлок Шушары                      393             393  \n",
       "Всеволожск                          318             318  \n",
       "Колпино                             298             298  \n",
       "посёлок Парголово                   292             292  \n",
       "Пушкин                              284             284  \n",
       "деревня Кудрово                     276             276  \n",
       "Гатчина                             249             249  \n",
       "Выборг                              194             194  \n",
       "\n",
       "[10 rows x 28 columns]"
      ]
     },
     "execution_count": 31,
     "metadata": {},
     "output_type": "execute_result"
    }
   ],
   "source": [
    "# методом groupby() группировка таблицы по населённым пунктам, методом count() подсчет кол-ва объявлений\n",
    "# методов sort_values() сортировка таблицы по убыванию, методом head() получение первых 10 строк\n",
    "re.groupby('locality_name').count().sort_values(by='total_images', ascending=False).head(10)"
   ]
  },
  {
   "cell_type": "code",
   "execution_count": 32,
   "metadata": {
    "scrolled": true
   },
   "outputs": [
    {
     "data": {
      "text/html": [
       "<div>\n",
       "<style scoped>\n",
       "    .dataframe tbody tr th:only-of-type {\n",
       "        vertical-align: middle;\n",
       "    }\n",
       "\n",
       "    .dataframe tbody tr th {\n",
       "        vertical-align: top;\n",
       "    }\n",
       "\n",
       "    .dataframe thead th {\n",
       "        text-align: right;\n",
       "    }\n",
       "</style>\n",
       "<table border=\"1\" class=\"dataframe\">\n",
       "  <thead>\n",
       "    <tr style=\"text-align: right;\">\n",
       "      <th></th>\n",
       "      <th>price_per_meter</th>\n",
       "    </tr>\n",
       "    <tr>\n",
       "      <th>locality_name</th>\n",
       "      <th></th>\n",
       "    </tr>\n",
       "  </thead>\n",
       "  <tbody>\n",
       "    <tr>\n",
       "      <th>Санкт-Петербург</th>\n",
       "      <td>110,183.3</td>\n",
       "    </tr>\n",
       "    <tr>\n",
       "      <th>Сестрорецк</th>\n",
       "      <td>101,953.1</td>\n",
       "    </tr>\n",
       "    <tr>\n",
       "      <th>Пушкин</th>\n",
       "      <td>101,802.7</td>\n",
       "    </tr>\n",
       "    <tr>\n",
       "      <th>посёлок Парголово</th>\n",
       "      <td>89,471.9</td>\n",
       "    </tr>\n",
       "    <tr>\n",
       "      <th>посёлок Мурино</th>\n",
       "      <td>85,856.7</td>\n",
       "    </tr>\n",
       "    <tr>\n",
       "      <th>Петергоф</th>\n",
       "      <td>82,978.0</td>\n",
       "    </tr>\n",
       "    <tr>\n",
       "      <th>посёлок Шушары</th>\n",
       "      <td>77,826.0</td>\n",
       "    </tr>\n",
       "    <tr>\n",
       "      <th>Колпино</th>\n",
       "      <td>74,607.0</td>\n",
       "    </tr>\n",
       "    <tr>\n",
       "      <th>Всеволожск</th>\n",
       "      <td>68,641.2</td>\n",
       "    </tr>\n",
       "    <tr>\n",
       "      <th>Гатчина</th>\n",
       "      <td>68,137.6</td>\n",
       "    </tr>\n",
       "  </tbody>\n",
       "</table>\n",
       "</div>"
      ],
      "text/plain": [
       "                   price_per_meter\n",
       "locality_name                     \n",
       "Санкт-Петербург          110,183.3\n",
       "Сестрорецк               101,953.1\n",
       "Пушкин                   101,802.7\n",
       "посёлок Парголово         89,471.9\n",
       "посёлок Мурино            85,856.7\n",
       "Петергоф                  82,978.0\n",
       "посёлок Шушары            77,826.0\n",
       "Колпино                   74,607.0\n",
       "Всеволожск                68,641.2\n",
       "Гатчина                   68,137.6"
      ]
     },
     "execution_count": 32,
     "metadata": {},
     "output_type": "execute_result"
    }
   ],
   "source": [
    "# сохранение полученных 10 населённых пунктов в список top_cities\n",
    "top_cities = ['Санкт-Петербург', 'Всеволожск', 'Пушкин', 'посёлок Шушары', 'Колпино', 'посёлок Мурино', 'Гатчина', 'посёлок Парголово', 'Петергоф', 'Сестрорецк']\n",
    "\n",
    "# методом query() получение из таблицы re только строк с населёнными пунктами из top_cities\n",
    "# методом pivot_table() получение средних показателей price_per_meter в каждом населённом пункте, сортировка результата методом sort_values()\n",
    "re.query('locality_name in @top_cities').pivot_table(index='locality_name', values='price_per_meter').sort_values(by='price_per_meter', ascending=False)"
   ]
  },
  {
   "cell_type": "markdown",
   "metadata": {},
   "source": [
    "Самая высокая стоимость одного квадратного метра жилья предсказуемо в самом Санкт-Петербурге. Далее в рейтинге - туристический Пушкин и Сестрорецк на берегу Финского залива. \n",
    "\n",
    "Среди представленных десяти населённых пунктов во Всеволожске квадратный метр жилья обойдётся дешевле всего."
   ]
  },
  {
   "cell_type": "markdown",
   "metadata": {},
   "source": [
    "### Определение центральной зоны"
   ]
  },
  {
   "cell_type": "markdown",
   "metadata": {},
   "source": [
    "Удалённость от центра - важный фактор при продаже/приобретении недвижимости. Как мы уже определили при поиске коэффициентов корреляции, он влияет на стоимость жилья. Исходя из этого, постараемся определить радиус центральной зоны.\n",
    "\n",
    "Сначала для этого переведём в километры расстояние удалённости от центра:"
   ]
  },
  {
   "cell_type": "code",
   "execution_count": 33,
   "metadata": {
    "scrolled": true
   },
   "outputs": [],
   "source": [
    "# создание столбца city_centers_nearest_km, сохранение в нём результата деления city_centers_nearest на 1000\n",
    "re['city_centers_nearest_km'] = re['city_centers_nearest'] / 1000\n",
    "# округление до целых значений\n",
    "re['city_centers_nearest_km'] = round(re['city_centers_nearest_km'])"
   ]
  },
  {
   "cell_type": "markdown",
   "metadata": {},
   "source": [
    "Далее посчитаем, сколько стоит 1 км удалённости от центра:"
   ]
  },
  {
   "cell_type": "code",
   "execution_count": 34,
   "metadata": {},
   "outputs": [],
   "source": [
    "# создание столбца price_per_km и сохранение в нём результата деления last_price на city_centers_nearest_km\n",
    "re['price_per_km'] = re['last_price'] / re['city_centers_nearest_km']"
   ]
  },
  {
   "cell_type": "markdown",
   "metadata": {},
   "source": [
    "Методом `pivot_table()` посчитаем средний показатель данного критерия для каждого расстояния и отобразим на графике:"
   ]
  },
  {
   "cell_type": "code",
   "execution_count": 35,
   "metadata": {
    "scrolled": false
   },
   "outputs": [
    {
     "data": {
      "image/png": "[encoded data removed]",
      "text/plain": [
       "<Figure size 1296x432 with 1 Axes>"
      ]
     },
     "metadata": {
      "needs_background": "light"
     },
     "output_type": "display_data"
    }
   ],
   "source": [
    "# построение графика методом plot() по среднему показателю price_per_km \n",
    "graph_2 = (re.pivot_table(index='city_centers_nearest_km', values='price_per_km')\n",
    "      .plot(figsize=(18,6), grid=True, legend=False, title='Зависимость стоимости от удалённости' + '\\n')\n",
    "     )\n",
    "graph_2.set_xticks([7, 10, 20, 30, 40, 50, 60]) # добавление в шаги по оси x \"7\" для лучшей иллюстративности\n",
    "graph_2.set_ylabel('Средняя стоимость одного км удалённости (в рублях)') # присвоение имени оси y\n",
    "graph_2.set_xlabel('Удалённость от центра (в км)'); # присвоение имени оси x "
   ]
  },
  {
   "cell_type": "markdown",
   "metadata": {},
   "source": [
    "На графике мы видим, что чем меньше расстояние до центра, тем выше средняя стоимость за километр удалённости. Начиная с 7-го километра, график останавливает своё интенсивное снижение и далее его показатели не сильно друг от друга отличаются. Поэтому можно сказать, что центральная зона ограничена радиусом 7 км. И это похоже на правду - сюда попадают Василеостровский и Петроградский районы, ближайшие территории за Невой на севере и за Обводным каналом на юге."
   ]
  },
  {
   "cell_type": "markdown",
   "metadata": {},
   "source": [
    "### Анализ квартир в центре"
   ]
  },
  {
   "cell_type": "markdown",
   "metadata": {},
   "source": [
    "Теперь, когда нами определён центр города, можно произвести анализ только по недвижимости этой категории."
   ]
  },
  {
   "cell_type": "code",
   "execution_count": 36,
   "metadata": {},
   "outputs": [],
   "source": [
    "# создание таблицы centers_estate и сохранение в ней из таблицы re только строк с расстоянием до центра не более 7 км\n",
    "centers_estate = re.query('city_centers_nearest_km <= 7')"
   ]
  },
  {
   "cell_type": "code",
   "execution_count": 37,
   "metadata": {},
   "outputs": [
    {
     "data": {
      "image/png": "[encoded data removed]",
      "text/plain": [
       "<Figure size 432x288 with 1 Axes>"
      ]
     },
     "metadata": {
      "needs_background": "light"
     },
     "output_type": "display_data"
    }
   ],
   "source": [
    "# построение гистограммы по столбцу total_area таблицы centers_estate\n",
    "center_hist_1 = centers_estate['total_area'].plot(kind='hist', title='Гистограмма по площади объектов недвижимости в центре' + '\\n', grid=True)\n",
    "center_hist_1.set_ylabel('Количество объектов') # присвоение имени оси y\n",
    "center_hist_1.set_xlabel('Площадь объектов (в кв.м.)'); # присвоение имени оси x "
   ]
  },
  {
   "cell_type": "code",
   "execution_count": 38,
   "metadata": {},
   "outputs": [
    {
     "data": {
      "image/png": "[encoded data removed]",
      "text/plain": [
       "<Figure size 432x288 with 1 Axes>"
      ]
     },
     "metadata": {
      "needs_background": "light"
     },
     "output_type": "display_data"
    }
   ],
   "source": [
    "# построение гистограммы по столбцу last_price таблицы centers_estate\n",
    "center_hist_2 = centers_estate['last_price'].plot(kind='hist', title='Гистограмма по стоимости объектов недвижимости в центре' + '\\n', grid=True)\n",
    "center_hist_2.set_ylabel('Количество объектов') # присвоение имени оси y\n",
    "center_hist_2.set_xlabel('Стоимость объектов (в 100 млн рублей)'); # присвоение имени оси x "
   ]
  },
  {
   "cell_type": "code",
   "execution_count": 39,
   "metadata": {
    "scrolled": true
   },
   "outputs": [
    {
     "data": {
      "image/png": "[encoded data removed]",
      "text/plain": [
       "<Figure size 432x288 with 1 Axes>"
      ]
     },
     "metadata": {
      "needs_background": "light"
     },
     "output_type": "display_data"
    }
   ],
   "source": [
    "# построение гистограммы по столбцу rooms таблицы centers_estate\n",
    "center_hist_3 = centers_estate['rooms'].plot(kind='hist', title='Гистограмма по количеству комнат в объектах недвижимости в центре' + '\\n', grid=True, xticks=re['rooms'].unique())\n",
    "center_hist_3.set_ylabel('Количество объектов') # присвоение имени оси y\n",
    "center_hist_3.set_xlabel('Количество комнат'); # присвоение имени оси x "
   ]
  },
  {
   "cell_type": "code",
   "execution_count": 40,
   "metadata": {
    "scrolled": true
   },
   "outputs": [
    {
     "data": {
      "image/png": "[encoded data removed]",
      "text/plain": [
       "<Figure size 432x288 with 1 Axes>"
      ]
     },
     "metadata": {
      "needs_background": "light"
     },
     "output_type": "display_data"
    }
   ],
   "source": [
    "# построение гистограммы по столбцу ceiling_height таблицы centers_estate\n",
    "center_hist_4 = centers_estate['ceiling_height'].plot(kind='hist', title='Гистограмма по высоте потолка в объектах недвижимости в центре' + '\\n', grid=True)\n",
    "center_hist_4.set_ylabel('Количество объектов') # присвоение имени оси y\n",
    "center_hist_4.set_xlabel('Высота потолка (в метрах)'); # присвоение имени оси x "
   ]
  },
  {
   "cell_type": "markdown",
   "metadata": {},
   "source": [
    "Для квартир, находящихся в центре, также посчитаем коэффициенты корреляции стоимости недвижимости относительно других параметров: "
   ]
  },
  {
   "cell_type": "code",
   "execution_count": 41,
   "metadata": {
    "scrolled": true
   },
   "outputs": [
    {
     "name": "stdout",
     "output_type": "stream",
     "text": [
      "Зависимость цены от площади: 0.677053782642213\n",
      "Зависимость цены от кол-ва комнат: 0.3479921204742497\n",
      "Зависимость цены от удалённости от центра: 0.015656391308249182\n",
      "Зависимость цены от дня недели размещения объявления: 0.01587673089389946\n",
      "Зависимость цены от месяца размещения объявления: -0.010724354544707557\n",
      "Зависимость цены от года размещения объявления: -0.09344029841635687\n"
     ]
    }
   ],
   "source": [
    "# получение коэффициента корреляции между стоимостью и площадью\n",
    "print('Зависимость цены от площади:', centers_estate['last_price'].corr(centers_estate['total_area']))\n",
    "\n",
    "# получение коэффициента корреляции между стоимостью и количеством комнат\n",
    "print('Зависимость цены от кол-ва комнат:', centers_estate['last_price'].corr(centers_estate['rooms']))\n",
    "\n",
    "# получение коэффициента корреляции между стоимостью и удалённостью от центра\n",
    "print('Зависимость цены от удалённости от центра:', centers_estate['last_price'].corr(centers_estate['city_centers_nearest']))\n",
    "\n",
    "# получение коэффициента корреляции между стоимостью и днём недели публикации объявления\n",
    "print('Зависимость цены от дня недели размещения объявления:', centers_estate['last_price'].corr(centers_estate['date_exposition_weekday']))\n",
    "\n",
    "# получение коэффициента корреляции между стоимостью и месяцем публикации объявления\n",
    "print('Зависимость цены от месяца размещения объявления:', centers_estate['last_price'].corr(centers_estate['date_exposition_month']))\n",
    "\n",
    "# получение коэффициента корреляции между стоимостью и годом публикации объявления\n",
    "print('Зависимость цены от года размещения объявления:', centers_estate['last_price'].corr(centers_estate['date_exposition_year']))"
   ]
  },
  {
   "cell_type": "code",
   "execution_count": 42,
   "metadata": {},
   "outputs": [
    {
     "data": {
      "image/png": "[encoded data removed]",
      "text/plain": [
       "<Figure size 432x288 with 1 Axes>"
      ]
     },
     "metadata": {
      "needs_background": "light"
     },
     "output_type": "display_data"
    }
   ],
   "source": [
    "# методом pivot_table() получение средней стоимости недвижимости в зависимости от этажа расположения квартиры\n",
    "# сортировка значений по убыванию\n",
    "# построение графика plot\n",
    "graph_3 = (centers_estate.pivot_table(index='floor_position', values='last_price')\n",
    "         .sort_values(by='last_price', ascending=False)\n",
    "         .plot(kind='bar', title='Сравнение средней стоимости недвижимости в зависимости от этажа' + '\\n', grid=True, legend=False, rot=4)\n",
    "        )\n",
    "graph_3.set_ylabel('Средняя цена объекта') # присвоение имени оси y\n",
    "graph_3.set_xlabel('Расположение этажа'); # присвоение имени оси x "
   ]
  },
  {
   "cell_type": "markdown",
   "metadata": {},
   "source": [
    "### Вывод"
   ]
  },
  {
   "cell_type": "markdown",
   "metadata": {},
   "source": [
    "Гистограммы по квартирам, распложенным в центре, продемонстрировали нам следующее:\n",
    "- в среднем, площадь таких квартир составляет 30-80 кв.м.,\n",
    "- их стоимость, в основном, до 10 млн рублей *(напомним, таблица содержит в себе данные только до 2019-го года)*,\n",
    "- больше всего двухкомнатных квартир,\n",
    "- высота потолков чаще всего составляет примерно 2,8 метров."
   ]
  },
  {
   "cell_type": "markdown",
   "metadata": {},
   "source": [
    "Сравним, насколько отличается корреляция факторов по недвижимости в центре и недвижимости в отдалении от него. "
   ]
  },
  {
   "cell_type": "code",
   "execution_count": 43,
   "metadata": {
    "scrolled": true
   },
   "outputs": [],
   "source": [
    "# создание таблицы not_center_corr, сохранение в ней корреляции всех параметров к столбцу last_price \n",
    "# отфильтрованной таблицы re по расстоянию до центра более 7 км\n",
    "not_center_corr = pd.DataFrame(re.query('city_centers_nearest_km > 7').corr()['last_price'])\n",
    "\n",
    "# переименование единственного столбца \n",
    "not_center_corr = not_center_corr.rename(columns={'last_price': 'Недвижимость вне центра'}) \n",
    "\n",
    "# создание таблицы center_corr, сохранение в ней корреляции всех параметров к столбцу last_price таблицы centers_estate\n",
    "center_corr = pd.DataFrame(centers_estate.corr()['last_price'])\n",
    "\n",
    "# переименование единственного столбца \n",
    "center_corr = center_corr.rename(columns={'last_price': 'Недвижимость в центре'})"
   ]
  },
  {
   "cell_type": "code",
   "execution_count": 44,
   "metadata": {},
   "outputs": [
    {
     "data": {
      "image/png": "[encoded data removed]",
      "text/plain": [
       "<Figure size 1152x432 with 1 Axes>"
      ]
     },
     "metadata": {
      "needs_background": "light"
     },
     "output_type": "display_data"
    }
   ],
   "source": [
    "ax = (not_center_corr.sort_values(by='Недвижимость вне центра', ascending=False)\n",
    "      .plot(kind='bar', y='Недвижимость вне центра', color='green')\n",
    "     ) # построение графика ax по not_center_corr\n",
    "\n",
    "graph_4 = (center_corr.sort_values(by='Недвижимость в центре', ascending=False)\n",
    "           .plot(kind='bar', y='Недвижимость в центре', figsize=(16,6), grid=True, legend=True, title='Сравнение корреляции факторов к стоимости недвижимости, находящейся в центре и за его пределами' + '\\n', ax=ax)\n",
    "          ) # построение графика graph_4 по center_corr с наложением на него графика ax\n",
    "        \n",
    "graph_4.set_ylabel('Показатель корреляции') # присвоение имени оси y\n",
    "graph_4.set_xlabel('Факторы корреляции к стоимости недвижимости'); # присвоение имени оси x "
   ]
  },
  {
   "cell_type": "code",
   "execution_count": 45,
   "metadata": {},
   "outputs": [],
   "source": [
    "# создание нового столбца в center_corr и сохранение в нём значений столбца 'Недвижимость вне центра' таблицы not_center_corr\n",
    "center_corr['Недвижимость вне центра'] = not_center_corr['Недвижимость вне центра']"
   ]
  },
  {
   "cell_type": "code",
   "execution_count": 46,
   "metadata": {},
   "outputs": [
    {
     "data": {
      "image/png": "[encoded data removed]",
      "text/plain": [
       "<Figure size 1152x432 with 1 Axes>"
      ]
     },
     "metadata": {
      "needs_background": "light"
     },
     "output_type": "display_data"
    }
   ],
   "source": [
    "graph_5 = (center_corr.sort_values(by='Недвижимость в центре', ascending=False)\n",
    "           .plot(kind='bar', figsize=(16,6), grid=True, legend=True, title='Сравнение корреляции факторов к стоимости недвижимости, находящейся в центре и за его пределами' +  '\\n')\n",
    "          ) # построение графика по center_corr\n",
    "\n",
    "graph_5.set_ylabel('Показатель корреляции') # присвоение имени оси y\n",
    "graph_5.set_xlabel('Факторы корреляции к стоимости недвижимости'); # присвоение имени оси x "
   ]
  },
  {
   "cell_type": "markdown",
   "metadata": {},
   "source": [
    "Ознакомившись с графиками выше, мы можем прийти к следующим выводам:\n",
    "- для квартир в центре сохраняется зависимость цены от площади (общей, жилой, кухни), но она несколько ниже, чем для жилья вне центра. То есть за пределами центра правило \"чем больше площадь - тем выше цена\" существеннее;\n",
    "- высота потолков у квартир в отдалении от центра значительнее влияет на стоимость жилья, чем в центре. И это объяснимо - вне центра бОльший разброс показателей высоты потолков, в центре (в старом фонде и ЖК премиум-класса) он примерно одинаково привлекательный;\n",
    "- удалённость от центра для жилья за его пределами вполне ожидаемо имеет влияние на стоимость недвижимости. В то время как для жилья в центре этот фактор не особо играет какую-то роль - если квартира находится в центре, то уже не столь важно, в двух или четырёх километрах от Невского проспекта.\n",
    "- количество комнат для жилья за пределами центра также более важный параметр для ценообразования, чем для квартир в центре.\n",
    "- время публикации объявления о продаже (неделя, месяц, год) фактически не коррелирует со стоимостью недвижимости ни для жилья в центре, ни для жилья за его пределами.\n",
    "\n",
    "В целом, можно сказать, главное преимущество недвижимости в центре - это её расположение. На стоимости здесь прямым образом сказывается только площадь помещений. А вот на стоимость недвижимости вне центра влияют гораздо больше факторов - и высота потолков, и количество комнат, и близость к центру и т.д."
   ]
  },
  {
   "cell_type": "markdown",
   "metadata": {},
   "source": [
    "## Общий вывод"
   ]
  },
  {
   "cell_type": "markdown",
   "metadata": {},
   "source": [
    "Мы произвели анализ архива объявлений о продаже квартир в Санкт-Петербурге и соседних населённых пунктах за несколько лет и пришли к следующим выводам:\n",
    "\n",
    "- в изначальных данных очень много пропусков - причиной тому может быть как человеческий, так и технический фактор;\n",
    "- в данных также много аномально выбивающихся значений - это может быть объективный факт (например, гигантская площадь квартиры) или эпизод некорректного заполнения данных пользователем (например, ошибочная постановка запятой при указании высоты потолка);\n",
    "- на стоимость объекта недвижимости влияют площадь, количество комнат, расположение этажа и удалённость от центра города;\n",
    "- диаметр центральной части города составляет примерно 14 км;\n",
    "- самая высокая стоимость 1 кв.м. недвижимости - в пределах Санкт-Петербурга, а также в Пушкине и Сестрорецке;\n",
    "- стандартный срок продажи квартиры - порядка трёх месяцев. До полутора месяцев - удачно состоявшаяся быстрая сделка, более полугода - затянувшаяся процедура продажи;\n",
    "- на стоимость недвижимости за пределами центра влияет больше факторов, чем для недвижимости в центре. "
   ]
  }
 ],
 "metadata": {
  "ExecuteTimeLog": [
   {
    "duration": 836,
    "start_time": "2021-12-02T07:41:53.079Z"
   },
   {
    "duration": 76,
    "start_time": "2021-12-02T07:42:28.631Z"
   },
   {
    "duration": 12,
    "start_time": "2021-12-02T07:43:29.933Z"
   },
   {
    "duration": 76,
    "start_time": "2021-12-02T07:45:34.406Z"
   },
   {
    "duration": 11,
    "start_time": "2021-12-02T07:45:36.891Z"
   },
   {
    "duration": 76,
    "start_time": "2021-12-02T07:46:47.515Z"
   },
   {
    "duration": 78,
    "start_time": "2021-12-02T07:47:45.508Z"
   },
   {
    "duration": 123,
    "start_time": "2021-12-02T07:47:48.942Z"
   },
   {
    "duration": 144,
    "start_time": "2021-12-02T07:47:51.260Z"
   },
   {
    "duration": 77,
    "start_time": "2021-12-02T07:47:55.308Z"
   },
   {
    "duration": 6225,
    "start_time": "2021-12-02T07:48:06.907Z"
   },
   {
    "duration": 76,
    "start_time": "2021-12-02T07:48:17.492Z"
   },
   {
    "duration": 121,
    "start_time": "2021-12-02T07:48:35.875Z"
   },
   {
    "duration": 115,
    "start_time": "2021-12-02T07:55:33.469Z"
   },
   {
    "duration": 15,
    "start_time": "2021-12-02T07:57:15.443Z"
   },
   {
    "duration": 6,
    "start_time": "2021-12-02T08:15:29.120Z"
   },
   {
    "duration": 11,
    "start_time": "2021-12-02T08:52:10.839Z"
   },
   {
    "duration": 8,
    "start_time": "2021-12-02T09:22:23.187Z"
   },
   {
    "duration": 13,
    "start_time": "2021-12-02T09:35:17.065Z"
   },
   {
    "duration": 409,
    "start_time": "2021-12-02T09:35:36.663Z"
   },
   {
    "duration": 7,
    "start_time": "2021-12-02T09:35:42.725Z"
   },
   {
    "duration": 7,
    "start_time": "2021-12-02T09:35:50.148Z"
   },
   {
    "duration": 725,
    "start_time": "2021-12-02T09:36:02.396Z"
   },
   {
    "duration": 481,
    "start_time": "2021-12-02T09:36:20.502Z"
   },
   {
    "duration": 395,
    "start_time": "2021-12-02T09:36:24.093Z"
   },
   {
    "duration": 10,
    "start_time": "2021-12-02T09:36:32.933Z"
   },
   {
    "duration": 8,
    "start_time": "2021-12-02T09:41:04.828Z"
   },
   {
    "duration": 23,
    "start_time": "2021-12-02T09:49:12.848Z"
   },
   {
    "duration": 138,
    "start_time": "2021-12-02T10:15:15.638Z"
   },
   {
    "duration": 130,
    "start_time": "2021-12-02T10:17:03.801Z"
   },
   {
    "duration": 22,
    "start_time": "2021-12-02T10:18:04.828Z"
   },
   {
    "duration": 1046,
    "start_time": "2021-12-02T12:44:45.624Z"
   },
   {
    "duration": 133,
    "start_time": "2021-12-02T12:44:46.674Z"
   },
   {
    "duration": 16,
    "start_time": "2021-12-02T12:44:46.811Z"
   },
   {
    "duration": 40,
    "start_time": "2021-12-02T12:44:46.829Z"
   },
   {
    "duration": 8,
    "start_time": "2021-12-02T12:44:46.872Z"
   },
   {
    "duration": 35,
    "start_time": "2021-12-02T12:44:46.883Z"
   },
   {
    "duration": 519,
    "start_time": "2021-12-02T13:11:53.277Z"
   },
   {
    "duration": 419,
    "start_time": "2021-12-02T13:13:21.421Z"
   },
   {
    "duration": 1947,
    "start_time": "2021-12-02T13:14:34.829Z"
   },
   {
    "duration": 1629,
    "start_time": "2021-12-02T13:16:04.773Z"
   },
   {
    "duration": 2598,
    "start_time": "2021-12-02T13:16:20.981Z"
   },
   {
    "duration": 1764,
    "start_time": "2021-12-02T13:20:39.390Z"
   },
   {
    "duration": 89,
    "start_time": "2021-12-02T13:20:48.392Z"
   },
   {
    "duration": 128,
    "start_time": "2021-12-02T13:20:48.484Z"
   },
   {
    "duration": 16,
    "start_time": "2021-12-02T13:20:48.615Z"
   },
   {
    "duration": 33,
    "start_time": "2021-12-02T13:20:48.634Z"
   },
   {
    "duration": 8,
    "start_time": "2021-12-02T13:20:48.670Z"
   },
   {
    "duration": 27,
    "start_time": "2021-12-02T13:20:48.680Z"
   },
   {
    "duration": 451,
    "start_time": "2021-12-02T13:20:48.709Z"
   },
   {
    "duration": 20,
    "start_time": "2021-12-02T13:21:42.524Z"
   },
   {
    "duration": 527,
    "start_time": "2021-12-02T13:21:45.500Z"
   },
   {
    "duration": 7,
    "start_time": "2021-12-02T13:25:03.852Z"
   },
   {
    "duration": 22,
    "start_time": "2021-12-02T13:33:38.764Z"
   },
   {
    "duration": 9,
    "start_time": "2021-12-02T13:42:28.852Z"
   },
   {
    "duration": 6,
    "start_time": "2021-12-02T13:42:49.907Z"
   },
   {
    "duration": 78,
    "start_time": "2021-12-02T13:43:23.086Z"
   },
   {
    "duration": 111,
    "start_time": "2021-12-02T13:43:23.167Z"
   },
   {
    "duration": 14,
    "start_time": "2021-12-02T13:43:23.281Z"
   },
   {
    "duration": 11,
    "start_time": "2021-12-02T13:43:23.298Z"
   },
   {
    "duration": 9,
    "start_time": "2021-12-02T13:43:23.312Z"
   },
   {
    "duration": 41,
    "start_time": "2021-12-02T13:43:23.324Z"
   },
   {
    "duration": 16,
    "start_time": "2021-12-02T13:43:23.368Z"
   },
   {
    "duration": 18,
    "start_time": "2021-12-02T13:43:23.388Z"
   },
   {
    "duration": 398,
    "start_time": "2021-12-02T13:43:23.408Z"
   },
   {
    "duration": 13,
    "start_time": "2021-12-02T13:44:19.243Z"
   },
   {
    "duration": 10,
    "start_time": "2021-12-02T13:44:35.339Z"
   },
   {
    "duration": 132,
    "start_time": "2021-12-02T13:44:44.941Z"
   },
   {
    "duration": 12,
    "start_time": "2021-12-02T13:44:48.052Z"
   },
   {
    "duration": 18,
    "start_time": "2021-12-02T13:47:38.446Z"
   },
   {
    "duration": 32,
    "start_time": "2021-12-02T13:47:46.700Z"
   },
   {
    "duration": 402,
    "start_time": "2021-12-02T13:48:40.188Z"
   },
   {
    "duration": 23,
    "start_time": "2021-12-02T13:48:54.751Z"
   },
   {
    "duration": 15,
    "start_time": "2021-12-02T13:50:52.076Z"
   },
   {
    "duration": 19,
    "start_time": "2021-12-02T13:55:32.995Z"
   },
   {
    "duration": 415,
    "start_time": "2021-12-02T14:10:38.304Z"
   },
   {
    "duration": 8,
    "start_time": "2021-12-02T14:15:59.316Z"
   },
   {
    "duration": 431,
    "start_time": "2021-12-02T14:35:29.725Z"
   },
   {
    "duration": 11549,
    "start_time": "2021-12-02T14:35:36.091Z"
   },
   {
    "duration": 7,
    "start_time": "2021-12-02T14:36:19.606Z"
   },
   {
    "duration": 10317,
    "start_time": "2021-12-02T14:37:08.703Z"
   },
   {
    "duration": 13018,
    "start_time": "2021-12-02T14:38:09.526Z"
   },
   {
    "duration": 12,
    "start_time": "2021-12-02T14:42:41.916Z"
   },
   {
    "duration": 7,
    "start_time": "2021-12-02T14:44:42.555Z"
   },
   {
    "duration": 9,
    "start_time": "2021-12-02T14:44:57.752Z"
   },
   {
    "duration": 21,
    "start_time": "2021-12-02T14:52:57.667Z"
   },
   {
    "duration": 27,
    "start_time": "2021-12-02T14:59:18.950Z"
   },
   {
    "duration": 399,
    "start_time": "2021-12-02T15:05:52.189Z"
   },
   {
    "duration": 33,
    "start_time": "2021-12-02T15:05:57.493Z"
   },
   {
    "duration": 32,
    "start_time": "2021-12-02T15:06:35.788Z"
   },
   {
    "duration": 19,
    "start_time": "2021-12-02T15:06:46.045Z"
   },
   {
    "duration": 658,
    "start_time": "2021-12-03T09:14:40.927Z"
   },
   {
    "duration": 77,
    "start_time": "2021-12-03T09:14:41.588Z"
   },
   {
    "duration": 10,
    "start_time": "2021-12-03T09:14:41.667Z"
   },
   {
    "duration": 16,
    "start_time": "2021-12-03T09:14:41.679Z"
   },
   {
    "duration": 5,
    "start_time": "2021-12-03T09:14:41.697Z"
   },
   {
    "duration": 7,
    "start_time": "2021-12-03T09:14:41.703Z"
   },
   {
    "duration": 9,
    "start_time": "2021-12-03T09:14:41.712Z"
   },
   {
    "duration": 11,
    "start_time": "2021-12-03T09:14:41.724Z"
   },
   {
    "duration": 5,
    "start_time": "2021-12-03T09:14:41.737Z"
   },
   {
    "duration": 61,
    "start_time": "2021-12-03T09:14:41.745Z"
   },
   {
    "duration": 22,
    "start_time": "2021-12-03T09:14:41.808Z"
   },
   {
    "duration": 20,
    "start_time": "2021-12-03T09:14:41.832Z"
   },
   {
    "duration": 4,
    "start_time": "2021-12-03T09:14:41.854Z"
   },
   {
    "duration": 245,
    "start_time": "2021-12-03T09:29:52.045Z"
   },
   {
    "duration": 187,
    "start_time": "2021-12-03T09:29:59.345Z"
   },
   {
    "duration": 69,
    "start_time": "2021-12-03T09:38:00.611Z"
   },
   {
    "duration": 26,
    "start_time": "2021-12-03T09:38:09.315Z"
   },
   {
    "duration": 11,
    "start_time": "2021-12-03T09:38:24.116Z"
   },
   {
    "duration": 2321,
    "start_time": "2021-12-03T09:39:57.819Z"
   },
   {
    "duration": 60,
    "start_time": "2021-12-03T09:40:42.519Z"
   },
   {
    "duration": 78,
    "start_time": "2021-12-03T09:40:42.580Z"
   },
   {
    "duration": 10,
    "start_time": "2021-12-03T09:40:42.660Z"
   },
   {
    "duration": 29,
    "start_time": "2021-12-03T09:40:42.672Z"
   },
   {
    "duration": 8,
    "start_time": "2021-12-03T09:40:42.704Z"
   },
   {
    "duration": 5,
    "start_time": "2021-12-03T09:40:42.716Z"
   },
   {
    "duration": 8,
    "start_time": "2021-12-03T09:40:42.723Z"
   },
   {
    "duration": 8,
    "start_time": "2021-12-03T09:40:42.733Z"
   },
   {
    "duration": 5,
    "start_time": "2021-12-03T09:40:42.742Z"
   },
   {
    "duration": 54,
    "start_time": "2021-12-03T09:40:42.748Z"
   },
   {
    "duration": 21,
    "start_time": "2021-12-03T09:40:42.804Z"
   },
   {
    "duration": 24,
    "start_time": "2021-12-03T09:40:42.826Z"
   },
   {
    "duration": 44,
    "start_time": "2021-12-03T09:40:42.852Z"
   },
   {
    "duration": 5,
    "start_time": "2021-12-03T09:40:42.898Z"
   },
   {
    "duration": 217,
    "start_time": "2021-12-03T09:40:42.905Z"
   },
   {
    "duration": 23,
    "start_time": "2021-12-03T09:41:19.677Z"
   },
   {
    "duration": 23,
    "start_time": "2021-12-03T09:41:22.485Z"
   },
   {
    "duration": 69,
    "start_time": "2021-12-03T09:41:47.167Z"
   },
   {
    "duration": 88,
    "start_time": "2021-12-03T09:41:47.238Z"
   },
   {
    "duration": 11,
    "start_time": "2021-12-03T09:41:47.328Z"
   },
   {
    "duration": 9,
    "start_time": "2021-12-03T09:41:47.340Z"
   },
   {
    "duration": 5,
    "start_time": "2021-12-03T09:41:47.351Z"
   },
   {
    "duration": 6,
    "start_time": "2021-12-03T09:41:47.357Z"
   },
   {
    "duration": 34,
    "start_time": "2021-12-03T09:41:47.365Z"
   },
   {
    "duration": 11,
    "start_time": "2021-12-03T09:41:47.402Z"
   },
   {
    "duration": 5,
    "start_time": "2021-12-03T09:41:47.415Z"
   },
   {
    "duration": 17,
    "start_time": "2021-12-03T09:41:47.422Z"
   },
   {
    "duration": 53,
    "start_time": "2021-12-03T09:41:47.441Z"
   },
   {
    "duration": 1272,
    "start_time": "2021-12-03T09:41:47.496Z"
   },
   {
    "duration": -1828,
    "start_time": "2021-12-03T09:41:50.598Z"
   },
   {
    "duration": -1831,
    "start_time": "2021-12-03T09:41:50.602Z"
   },
   {
    "duration": -1837,
    "start_time": "2021-12-03T09:41:50.609Z"
   },
   {
    "duration": 24,
    "start_time": "2021-12-03T09:42:01.653Z"
   },
   {
    "duration": 27,
    "start_time": "2021-12-03T09:42:16.100Z"
   },
   {
    "duration": 4,
    "start_time": "2021-12-03T09:42:19.932Z"
   },
   {
    "duration": 189,
    "start_time": "2021-12-03T09:42:29.556Z"
   },
   {
    "duration": 37,
    "start_time": "2021-12-03T09:42:52.573Z"
   },
   {
    "duration": 179,
    "start_time": "2021-12-03T09:45:14.760Z"
   },
   {
    "duration": 32,
    "start_time": "2021-12-03T09:45:37.079Z"
   },
   {
    "duration": 202,
    "start_time": "2021-12-03T09:45:49.103Z"
   },
   {
    "duration": 1736,
    "start_time": "2021-12-03T09:46:11.542Z"
   },
   {
    "duration": 25,
    "start_time": "2021-12-03T09:46:52.799Z"
   },
   {
    "duration": 32,
    "start_time": "2021-12-03T09:47:58.095Z"
   },
   {
    "duration": 21,
    "start_time": "2021-12-03T09:48:04.527Z"
   },
   {
    "duration": 23,
    "start_time": "2021-12-03T09:48:20.439Z"
   },
   {
    "duration": 242,
    "start_time": "2021-12-03T09:49:19.847Z"
   },
   {
    "duration": 1328,
    "start_time": "2021-12-03T09:53:55.865Z"
   },
   {
    "duration": 195,
    "start_time": "2021-12-03T09:54:18.360Z"
   },
   {
    "duration": 189,
    "start_time": "2021-12-03T09:57:56.001Z"
   },
   {
    "duration": 282,
    "start_time": "2021-12-03T09:58:46.026Z"
   },
   {
    "duration": 22,
    "start_time": "2021-12-03T09:59:18.730Z"
   },
   {
    "duration": 32,
    "start_time": "2021-12-03T10:21:12.665Z"
   },
   {
    "duration": 185,
    "start_time": "2021-12-03T10:28:43.242Z"
   },
   {
    "duration": 23,
    "start_time": "2021-12-03T10:33:19.010Z"
   },
   {
    "duration": 5,
    "start_time": "2021-12-03T10:35:24.526Z"
   },
   {
    "duration": 828,
    "start_time": "2021-12-03T10:40:25.491Z"
   },
   {
    "duration": 11,
    "start_time": "2021-12-03T10:42:52.571Z"
   },
   {
    "duration": 26,
    "start_time": "2021-12-03T10:43:07.523Z"
   },
   {
    "duration": 944,
    "start_time": "2021-12-03T10:43:57.364Z"
   },
   {
    "duration": 28,
    "start_time": "2021-12-03T10:44:04.036Z"
   },
   {
    "duration": 28,
    "start_time": "2021-12-03T10:44:46.260Z"
   },
   {
    "duration": 29,
    "start_time": "2021-12-03T10:44:56.676Z"
   },
   {
    "duration": 832,
    "start_time": "2021-12-03T10:45:42.441Z"
   },
   {
    "duration": 73,
    "start_time": "2021-12-03T10:45:52.859Z"
   },
   {
    "duration": 840,
    "start_time": "2021-12-03T10:46:04.667Z"
   },
   {
    "duration": 1016,
    "start_time": "2021-12-03T10:46:13.628Z"
   },
   {
    "duration": 829,
    "start_time": "2021-12-03T10:47:57.341Z"
   },
   {
    "duration": 58,
    "start_time": "2021-12-03T10:48:51.148Z"
   },
   {
    "duration": 66,
    "start_time": "2021-12-03T10:49:07.836Z"
   },
   {
    "duration": 30,
    "start_time": "2021-12-03T10:49:16.301Z"
   },
   {
    "duration": 820,
    "start_time": "2021-12-03T10:56:10.509Z"
   },
   {
    "duration": 875,
    "start_time": "2021-12-03T10:58:12.565Z"
   },
   {
    "duration": 4,
    "start_time": "2021-12-03T10:58:52.860Z"
   },
   {
    "duration": 5,
    "start_time": "2021-12-03T10:59:02.205Z"
   },
   {
    "duration": 76,
    "start_time": "2021-12-03T11:00:25.246Z"
   },
   {
    "duration": 119,
    "start_time": "2021-12-03T11:01:00.870Z"
   },
   {
    "duration": 81,
    "start_time": "2021-12-03T11:02:03.975Z"
   },
   {
    "duration": 89,
    "start_time": "2021-12-03T11:02:36.183Z"
   },
   {
    "duration": 1353,
    "start_time": "2021-12-03T11:03:59.751Z"
   },
   {
    "duration": 90,
    "start_time": "2021-12-03T11:06:43.134Z"
   },
   {
    "duration": 822,
    "start_time": "2021-12-03T11:09:37.258Z"
   },
   {
    "duration": 832,
    "start_time": "2021-12-03T11:09:46.592Z"
   },
   {
    "duration": 874,
    "start_time": "2021-12-03T11:12:14.943Z"
   },
   {
    "duration": 86,
    "start_time": "2021-12-03T11:12:38.216Z"
   },
   {
    "duration": 297,
    "start_time": "2021-12-03T11:13:35.328Z"
   },
   {
    "duration": 61,
    "start_time": "2021-12-03T11:15:30.458Z"
   },
   {
    "duration": 57,
    "start_time": "2021-12-03T11:15:38.494Z"
   },
   {
    "duration": 4510,
    "start_time": "2021-12-03T11:16:16.495Z"
   },
   {
    "duration": 4,
    "start_time": "2021-12-03T11:16:21.241Z"
   },
   {
    "duration": 71,
    "start_time": "2021-12-03T11:25:02.759Z"
   },
   {
    "duration": 3,
    "start_time": "2021-12-03T11:25:17.852Z"
   },
   {
    "duration": 3,
    "start_time": "2021-12-03T11:25:35.188Z"
   },
   {
    "duration": 6,
    "start_time": "2021-12-03T11:25:39.724Z"
   },
   {
    "duration": 6,
    "start_time": "2021-12-03T11:26:32.428Z"
   },
   {
    "duration": 20356,
    "start_time": "2021-12-03T11:27:06.388Z"
   },
   {
    "duration": 19791,
    "start_time": "2021-12-03T11:27:33.567Z"
   },
   {
    "duration": 1432,
    "start_time": "2021-12-03T11:38:27.086Z"
   },
   {
    "duration": 82,
    "start_time": "2021-12-03T11:38:36.963Z"
   },
   {
    "duration": 870,
    "start_time": "2021-12-03T11:38:56.844Z"
   },
   {
    "duration": 32,
    "start_time": "2021-12-03T11:39:07.899Z"
   },
   {
    "duration": 101,
    "start_time": "2021-12-03T11:39:48.672Z"
   },
   {
    "duration": 850,
    "start_time": "2021-12-03T11:40:04.500Z"
   },
   {
    "duration": 950,
    "start_time": "2021-12-03T11:40:10.834Z"
   },
   {
    "duration": 60,
    "start_time": "2021-12-03T11:40:58.780Z"
   },
   {
    "duration": 828,
    "start_time": "2021-12-03T11:41:08.389Z"
   },
   {
    "duration": 71,
    "start_time": "2021-12-03T11:41:25.944Z"
   },
   {
    "duration": 852,
    "start_time": "2021-12-03T11:41:38.325Z"
   },
   {
    "duration": 842,
    "start_time": "2021-12-03T11:42:09.666Z"
   },
   {
    "duration": 62,
    "start_time": "2021-12-03T11:43:21.244Z"
   },
   {
    "duration": 58,
    "start_time": "2021-12-03T11:43:31.930Z"
   },
   {
    "duration": 300,
    "start_time": "2021-12-03T11:44:03.682Z"
   },
   {
    "duration": 30,
    "start_time": "2021-12-03T11:44:27.197Z"
   },
   {
    "duration": 299,
    "start_time": "2021-12-03T11:44:51.923Z"
   },
   {
    "duration": 28,
    "start_time": "2021-12-03T11:45:42.364Z"
   },
   {
    "duration": 769,
    "start_time": "2021-12-03T11:46:24.667Z"
   },
   {
    "duration": 525,
    "start_time": "2021-12-03T11:47:45.062Z"
   },
   {
    "duration": 825,
    "start_time": "2021-12-03T11:48:03.116Z"
   },
   {
    "duration": 4786,
    "start_time": "2021-12-03T11:51:59.444Z"
   },
   {
    "duration": 26,
    "start_time": "2021-12-03T11:52:45.155Z"
   },
   {
    "duration": 1017,
    "start_time": "2021-12-03T11:56:30.966Z"
   },
   {
    "duration": 1125,
    "start_time": "2021-12-03T11:56:52.381Z"
   },
   {
    "duration": 989,
    "start_time": "2021-12-03T11:58:56.243Z"
   },
   {
    "duration": 869,
    "start_time": "2021-12-03T12:04:17.948Z"
   },
   {
    "duration": 1124,
    "start_time": "2021-12-03T12:04:24.463Z"
   },
   {
    "duration": 923,
    "start_time": "2021-12-03T12:05:58.113Z"
   },
   {
    "duration": 912,
    "start_time": "2021-12-03T12:06:45.569Z"
   },
   {
    "duration": 860,
    "start_time": "2021-12-03T12:11:32.059Z"
   },
   {
    "duration": 910,
    "start_time": "2021-12-03T12:11:39.908Z"
   },
   {
    "duration": 4329,
    "start_time": "2021-12-03T12:11:44.706Z"
   },
   {
    "duration": 831,
    "start_time": "2021-12-03T12:12:43.449Z"
   },
   {
    "duration": 68,
    "start_time": "2021-12-03T12:12:51.528Z"
   },
   {
    "duration": 94,
    "start_time": "2021-12-03T12:12:51.599Z"
   },
   {
    "duration": 14,
    "start_time": "2021-12-03T12:12:51.696Z"
   },
   {
    "duration": 14,
    "start_time": "2021-12-03T12:12:51.713Z"
   },
   {
    "duration": 5,
    "start_time": "2021-12-03T12:12:51.729Z"
   },
   {
    "duration": 6,
    "start_time": "2021-12-03T12:12:51.736Z"
   },
   {
    "duration": 12,
    "start_time": "2021-12-03T12:12:51.744Z"
   },
   {
    "duration": 36,
    "start_time": "2021-12-03T12:12:51.758Z"
   },
   {
    "duration": 10,
    "start_time": "2021-12-03T12:12:51.796Z"
   },
   {
    "duration": 18,
    "start_time": "2021-12-03T12:12:51.809Z"
   },
   {
    "duration": 22,
    "start_time": "2021-12-03T12:12:51.829Z"
   },
   {
    "duration": 50,
    "start_time": "2021-12-03T12:12:51.852Z"
   },
   {
    "duration": 21,
    "start_time": "2021-12-03T12:12:51.903Z"
   },
   {
    "duration": 58,
    "start_time": "2021-12-03T12:12:51.925Z"
   },
   {
    "duration": -1857,
    "start_time": "2021-12-03T12:12:53.842Z"
   },
   {
    "duration": -1858,
    "start_time": "2021-12-03T12:12:53.844Z"
   },
   {
    "duration": 65,
    "start_time": "2021-12-03T12:13:07.282Z"
   },
   {
    "duration": 82,
    "start_time": "2021-12-03T12:13:07.349Z"
   },
   {
    "duration": 10,
    "start_time": "2021-12-03T12:13:07.433Z"
   },
   {
    "duration": 29,
    "start_time": "2021-12-03T12:13:07.444Z"
   },
   {
    "duration": 11,
    "start_time": "2021-12-03T12:13:07.474Z"
   },
   {
    "duration": 18,
    "start_time": "2021-12-03T12:13:07.487Z"
   },
   {
    "duration": 30,
    "start_time": "2021-12-03T12:13:07.506Z"
   },
   {
    "duration": 9,
    "start_time": "2021-12-03T12:13:07.538Z"
   },
   {
    "duration": 19,
    "start_time": "2021-12-03T12:13:07.549Z"
   },
   {
    "duration": 21,
    "start_time": "2021-12-03T12:13:07.569Z"
   },
   {
    "duration": 31,
    "start_time": "2021-12-03T12:13:07.593Z"
   },
   {
    "duration": 25,
    "start_time": "2021-12-03T12:13:07.626Z"
   },
   {
    "duration": 40,
    "start_time": "2021-12-03T12:13:07.654Z"
   },
   {
    "duration": 9,
    "start_time": "2021-12-03T12:13:07.697Z"
   },
   {
    "duration": 34,
    "start_time": "2021-12-03T12:13:07.709Z"
   },
   {
    "duration": 859,
    "start_time": "2021-12-03T12:13:07.745Z"
   },
   {
    "duration": 188,
    "start_time": "2021-12-03T12:18:43.777Z"
   },
   {
    "duration": 464,
    "start_time": "2021-12-03T12:19:00.889Z"
   },
   {
    "duration": 878,
    "start_time": "2021-12-03T12:19:40.210Z"
   },
   {
    "duration": 344,
    "start_time": "2021-12-03T12:21:11.209Z"
   },
   {
    "duration": 296,
    "start_time": "2021-12-03T12:21:27.484Z"
   },
   {
    "duration": 373,
    "start_time": "2021-12-03T12:21:34.522Z"
   },
   {
    "duration": 86,
    "start_time": "2021-12-03T12:21:57.394Z"
   },
   {
    "duration": 855,
    "start_time": "2021-12-03T12:22:08.435Z"
   },
   {
    "duration": 901,
    "start_time": "2021-12-03T12:24:58.074Z"
   },
   {
    "duration": 1004,
    "start_time": "2021-12-03T12:26:48.617Z"
   },
   {
    "duration": 6,
    "start_time": "2021-12-03T12:27:25.728Z"
   },
   {
    "duration": 4,
    "start_time": "2021-12-03T12:27:36.378Z"
   },
   {
    "duration": 902,
    "start_time": "2021-12-03T12:27:53.216Z"
   },
   {
    "duration": 1209,
    "start_time": "2021-12-03T12:30:29.575Z"
   },
   {
    "duration": 962,
    "start_time": "2021-12-03T12:30:45.375Z"
   },
   {
    "duration": 75,
    "start_time": "2021-12-03T12:30:52.551Z"
   },
   {
    "duration": 891,
    "start_time": "2021-12-03T12:30:56.696Z"
   },
   {
    "duration": 28,
    "start_time": "2021-12-03T12:31:37.191Z"
   },
   {
    "duration": 30,
    "start_time": "2021-12-03T12:31:52.263Z"
   },
   {
    "duration": 332,
    "start_time": "2021-12-03T12:32:10.650Z"
   },
   {
    "duration": 296,
    "start_time": "2021-12-03T12:33:05.199Z"
   },
   {
    "duration": 316,
    "start_time": "2021-12-03T12:33:39.654Z"
   },
   {
    "duration": 301,
    "start_time": "2021-12-03T12:34:22.398Z"
   },
   {
    "duration": 83,
    "start_time": "2021-12-03T12:34:46.688Z"
   },
   {
    "duration": 1038,
    "start_time": "2021-12-03T12:35:30.095Z"
   },
   {
    "duration": 82,
    "start_time": "2021-12-03T12:35:37.846Z"
   },
   {
    "duration": 841,
    "start_time": "2021-12-03T12:35:51.751Z"
   },
   {
    "duration": 842,
    "start_time": "2021-12-03T12:37:05.847Z"
   },
   {
    "duration": 1014,
    "start_time": "2021-12-03T12:38:04.157Z"
   },
   {
    "duration": 1064,
    "start_time": "2021-12-03T12:38:07.631Z"
   },
   {
    "duration": 1352,
    "start_time": "2021-12-03T12:38:14.070Z"
   },
   {
    "duration": 826,
    "start_time": "2021-12-03T12:38:19.695Z"
   },
   {
    "duration": 949,
    "start_time": "2021-12-03T12:38:22.294Z"
   },
   {
    "duration": 822,
    "start_time": "2021-12-03T12:38:37.887Z"
   },
   {
    "duration": 60,
    "start_time": "2021-12-03T12:38:44.389Z"
   },
   {
    "duration": 1031,
    "start_time": "2021-12-03T12:38:48.663Z"
   },
   {
    "duration": 855,
    "start_time": "2021-12-03T12:39:05.608Z"
   },
   {
    "duration": 837,
    "start_time": "2021-12-03T12:39:08.221Z"
   },
   {
    "duration": 878,
    "start_time": "2021-12-03T12:39:23.318Z"
   },
   {
    "duration": 870,
    "start_time": "2021-12-03T12:39:25.757Z"
   },
   {
    "duration": 827,
    "start_time": "2021-12-03T12:39:31.869Z"
   },
   {
    "duration": 822,
    "start_time": "2021-12-03T12:39:36.821Z"
   },
   {
    "duration": 863,
    "start_time": "2021-12-03T12:39:53.006Z"
   },
   {
    "duration": 834,
    "start_time": "2021-12-03T12:40:20.112Z"
   },
   {
    "duration": 28,
    "start_time": "2021-12-03T12:53:20.597Z"
   },
   {
    "duration": 27,
    "start_time": "2021-12-03T12:53:42.975Z"
   },
   {
    "duration": 26,
    "start_time": "2021-12-03T12:54:12.863Z"
   },
   {
    "duration": 29,
    "start_time": "2021-12-03T12:54:27.197Z"
   },
   {
    "duration": 28,
    "start_time": "2021-12-03T12:54:54.310Z"
   },
   {
    "duration": 63,
    "start_time": "2021-12-03T12:55:31.092Z"
   },
   {
    "duration": 83,
    "start_time": "2021-12-03T12:55:31.157Z"
   },
   {
    "duration": 10,
    "start_time": "2021-12-03T12:55:31.242Z"
   },
   {
    "duration": 31,
    "start_time": "2021-12-03T12:55:31.254Z"
   },
   {
    "duration": 6,
    "start_time": "2021-12-03T12:55:31.287Z"
   },
   {
    "duration": 19,
    "start_time": "2021-12-03T12:55:31.295Z"
   },
   {
    "duration": 12,
    "start_time": "2021-12-03T12:55:31.316Z"
   },
   {
    "duration": 17,
    "start_time": "2021-12-03T12:55:31.331Z"
   },
   {
    "duration": 7,
    "start_time": "2021-12-03T12:55:31.350Z"
   },
   {
    "duration": 18,
    "start_time": "2021-12-03T12:55:31.359Z"
   },
   {
    "duration": 31,
    "start_time": "2021-12-03T12:55:31.379Z"
   },
   {
    "duration": 27,
    "start_time": "2021-12-03T12:55:31.412Z"
   },
   {
    "duration": 52,
    "start_time": "2021-12-03T12:55:31.441Z"
   },
   {
    "duration": 5,
    "start_time": "2021-12-03T12:55:31.495Z"
   },
   {
    "duration": 28,
    "start_time": "2021-12-03T12:55:31.501Z"
   },
   {
    "duration": 28,
    "start_time": "2021-12-03T12:55:31.530Z"
   },
   {
    "duration": 26,
    "start_time": "2021-12-03T12:58:05.367Z"
   },
   {
    "duration": 527,
    "start_time": "2021-12-03T12:58:33.045Z"
   },
   {
    "duration": 29,
    "start_time": "2021-12-03T12:58:50.980Z"
   },
   {
    "duration": 302,
    "start_time": "2021-12-03T12:59:07.359Z"
   },
   {
    "duration": 293,
    "start_time": "2021-12-03T13:01:04.287Z"
   },
   {
    "duration": 35,
    "start_time": "2021-12-03T13:01:25.910Z"
   },
   {
    "duration": 90,
    "start_time": "2021-12-03T13:03:53.535Z"
   },
   {
    "duration": 811,
    "start_time": "2021-12-03T13:04:18.182Z"
   },
   {
    "duration": 808,
    "start_time": "2021-12-03T13:04:34.807Z"
   },
   {
    "duration": 67,
    "start_time": "2021-12-03T13:29:42.178Z"
   },
   {
    "duration": 60,
    "start_time": "2021-12-03T13:30:01.168Z"
   },
   {
    "duration": 422,
    "start_time": "2021-12-03T13:30:17.911Z"
   },
   {
    "duration": 207,
    "start_time": "2021-12-03T13:38:35.694Z"
   },
   {
    "duration": 189,
    "start_time": "2021-12-03T14:23:11.575Z"
   },
   {
    "duration": 30,
    "start_time": "2021-12-03T14:24:39.233Z"
   },
   {
    "duration": 67,
    "start_time": "2021-12-03T14:25:34.689Z"
   },
   {
    "duration": 62,
    "start_time": "2021-12-03T14:26:03.950Z"
   },
   {
    "duration": 303,
    "start_time": "2021-12-03T14:30:49.368Z"
   },
   {
    "duration": 29,
    "start_time": "2021-12-03T14:44:00.849Z"
   },
   {
    "duration": 27,
    "start_time": "2021-12-03T14:49:37.125Z"
   },
   {
    "duration": 65,
    "start_time": "2021-12-03T14:51:05.512Z"
   },
   {
    "duration": 62,
    "start_time": "2021-12-03T14:51:16.835Z"
   },
   {
    "duration": 31,
    "start_time": "2021-12-03T14:54:11.018Z"
   },
   {
    "duration": 26,
    "start_time": "2021-12-03T14:54:34.050Z"
   },
   {
    "duration": 32,
    "start_time": "2021-12-03T14:55:10.801Z"
   },
   {
    "duration": 67,
    "start_time": "2021-12-03T14:55:47.945Z"
   },
   {
    "duration": 72,
    "start_time": "2021-12-03T14:56:01.049Z"
   },
   {
    "duration": 56,
    "start_time": "2021-12-03T14:56:31.480Z"
   },
   {
    "duration": 90,
    "start_time": "2021-12-03T14:56:40.407Z"
   },
   {
    "duration": 33,
    "start_time": "2021-12-03T15:02:37.561Z"
   },
   {
    "duration": 30,
    "start_time": "2021-12-03T15:07:36.113Z"
   },
   {
    "duration": 35,
    "start_time": "2021-12-03T15:08:03.417Z"
   },
   {
    "duration": 36,
    "start_time": "2021-12-03T15:08:41.968Z"
   },
   {
    "duration": 32,
    "start_time": "2021-12-03T15:11:42.375Z"
   },
   {
    "duration": 28,
    "start_time": "2021-12-03T15:15:10.382Z"
   },
   {
    "duration": 27,
    "start_time": "2021-12-03T15:15:32.824Z"
   },
   {
    "duration": 62,
    "start_time": "2021-12-03T15:15:45.621Z"
   },
   {
    "duration": 75,
    "start_time": "2021-12-03T15:15:45.685Z"
   },
   {
    "duration": 10,
    "start_time": "2021-12-03T15:15:45.762Z"
   },
   {
    "duration": 9,
    "start_time": "2021-12-03T15:15:45.774Z"
   },
   {
    "duration": 9,
    "start_time": "2021-12-03T15:15:45.784Z"
   },
   {
    "duration": 5,
    "start_time": "2021-12-03T15:15:45.795Z"
   },
   {
    "duration": 9,
    "start_time": "2021-12-03T15:15:45.802Z"
   },
   {
    "duration": 9,
    "start_time": "2021-12-03T15:15:45.812Z"
   },
   {
    "duration": 6,
    "start_time": "2021-12-03T15:15:45.823Z"
   },
   {
    "duration": 17,
    "start_time": "2021-12-03T15:15:45.830Z"
   },
   {
    "duration": 20,
    "start_time": "2021-12-03T15:15:45.848Z"
   },
   {
    "duration": 32,
    "start_time": "2021-12-03T15:15:45.870Z"
   },
   {
    "duration": 18,
    "start_time": "2021-12-03T15:15:45.904Z"
   },
   {
    "duration": 5,
    "start_time": "2021-12-03T15:15:45.925Z"
   },
   {
    "duration": 39,
    "start_time": "2021-12-03T15:15:45.932Z"
   },
   {
    "duration": 32,
    "start_time": "2021-12-03T15:15:45.972Z"
   },
   {
    "duration": 66,
    "start_time": "2021-12-03T15:18:29.937Z"
   },
   {
    "duration": 65,
    "start_time": "2021-12-03T15:18:35.928Z"
   },
   {
    "duration": 59,
    "start_time": "2021-12-03T15:18:41.624Z"
   },
   {
    "duration": 61,
    "start_time": "2021-12-03T15:19:09.718Z"
   },
   {
    "duration": 290,
    "start_time": "2021-12-03T15:19:17.558Z"
   },
   {
    "duration": 200,
    "start_time": "2021-12-03T15:20:03.553Z"
   },
   {
    "duration": 915,
    "start_time": "2021-12-03T15:20:45.246Z"
   },
   {
    "duration": 1637,
    "start_time": "2021-12-03T15:21:01.799Z"
   },
   {
    "duration": 59,
    "start_time": "2021-12-03T15:25:10.617Z"
   },
   {
    "duration": 3089,
    "start_time": "2021-12-03T15:25:21.495Z"
   },
   {
    "duration": 3535,
    "start_time": "2021-12-03T15:28:34.730Z"
   },
   {
    "duration": 589,
    "start_time": "2021-12-03T15:30:28.999Z"
   },
   {
    "duration": 682,
    "start_time": "2021-12-04T07:59:07.014Z"
   },
   {
    "duration": 73,
    "start_time": "2021-12-04T07:59:07.698Z"
   },
   {
    "duration": 10,
    "start_time": "2021-12-04T07:59:07.773Z"
   },
   {
    "duration": 9,
    "start_time": "2021-12-04T07:59:07.785Z"
   },
   {
    "duration": 5,
    "start_time": "2021-12-04T07:59:07.796Z"
   },
   {
    "duration": 7,
    "start_time": "2021-12-04T07:59:07.803Z"
   },
   {
    "duration": 34,
    "start_time": "2021-12-04T07:59:07.811Z"
   },
   {
    "duration": 12,
    "start_time": "2021-12-04T07:59:07.847Z"
   },
   {
    "duration": 4,
    "start_time": "2021-12-04T07:59:07.861Z"
   },
   {
    "duration": 15,
    "start_time": "2021-12-04T07:59:07.867Z"
   },
   {
    "duration": 19,
    "start_time": "2021-12-04T07:59:07.884Z"
   },
   {
    "duration": 51,
    "start_time": "2021-12-04T07:59:07.904Z"
   },
   {
    "duration": 20,
    "start_time": "2021-12-04T07:59:07.956Z"
   },
   {
    "duration": 4,
    "start_time": "2021-12-04T07:59:07.978Z"
   },
   {
    "duration": 28,
    "start_time": "2021-12-04T07:59:07.983Z"
   },
   {
    "duration": 566,
    "start_time": "2021-12-04T07:59:08.012Z"
   },
   {
    "duration": 11,
    "start_time": "2021-12-04T07:59:55.956Z"
   },
   {
    "duration": 541,
    "start_time": "2021-12-04T07:59:59.827Z"
   },
   {
    "duration": 20,
    "start_time": "2021-12-04T08:02:24.259Z"
   },
   {
    "duration": 4,
    "start_time": "2021-12-04T08:02:36.886Z"
   },
   {
    "duration": 4,
    "start_time": "2021-12-04T08:10:19.189Z"
   },
   {
    "duration": 19,
    "start_time": "2021-12-04T08:10:30.419Z"
   },
   {
    "duration": 381,
    "start_time": "2021-12-04T08:28:01.787Z"
   },
   {
    "duration": 196,
    "start_time": "2021-12-04T08:29:08.636Z"
   },
   {
    "duration": 164,
    "start_time": "2021-12-04T08:29:31.795Z"
   },
   {
    "duration": 158,
    "start_time": "2021-12-04T08:30:07.189Z"
   },
   {
    "duration": 304,
    "start_time": "2021-12-04T08:31:32.411Z"
   },
   {
    "duration": 173,
    "start_time": "2021-12-04T08:31:45.387Z"
   },
   {
    "duration": 182,
    "start_time": "2021-12-04T08:32:11.042Z"
   },
   {
    "duration": 179,
    "start_time": "2021-12-04T08:32:52.453Z"
   },
   {
    "duration": 492,
    "start_time": "2021-12-04T08:32:56.579Z"
   },
   {
    "duration": 183,
    "start_time": "2021-12-04T08:33:08.170Z"
   },
   {
    "duration": 4,
    "start_time": "2021-12-04T08:34:15.099Z"
   },
   {
    "duration": 5,
    "start_time": "2021-12-04T08:34:30.587Z"
   },
   {
    "duration": 92,
    "start_time": "2021-12-04T08:34:51.358Z"
   },
   {
    "duration": 5,
    "start_time": "2021-12-04T08:34:57.335Z"
   },
   {
    "duration": 174,
    "start_time": "2021-12-04T08:35:04.928Z"
   },
   {
    "duration": 186,
    "start_time": "2021-12-04T08:35:28.123Z"
   },
   {
    "duration": 180,
    "start_time": "2021-12-04T08:36:00.851Z"
   },
   {
    "duration": 165,
    "start_time": "2021-12-04T08:36:33.386Z"
   },
   {
    "duration": 180,
    "start_time": "2021-12-04T08:36:50.220Z"
   },
   {
    "duration": 194,
    "start_time": "2021-12-04T08:39:33.882Z"
   },
   {
    "duration": 176,
    "start_time": "2021-12-04T08:40:07.915Z"
   },
   {
    "duration": 25,
    "start_time": "2021-12-04T08:48:26.452Z"
   },
   {
    "duration": 1695,
    "start_time": "2021-12-04T08:49:31.938Z"
   },
   {
    "duration": 1871,
    "start_time": "2021-12-04T08:52:03.054Z"
   },
   {
    "duration": 262,
    "start_time": "2021-12-04T08:52:40.738Z"
   },
   {
    "duration": 267,
    "start_time": "2021-12-04T08:54:09.206Z"
   },
   {
    "duration": 190,
    "start_time": "2021-12-04T08:58:54.283Z"
   },
   {
    "duration": 270,
    "start_time": "2021-12-04T09:00:59.947Z"
   },
   {
    "duration": 198,
    "start_time": "2021-12-04T09:01:03.963Z"
   },
   {
    "duration": 4,
    "start_time": "2021-12-04T09:01:22.100Z"
   },
   {
    "duration": 7,
    "start_time": "2021-12-04T09:01:32.131Z"
   },
   {
    "duration": 9,
    "start_time": "2021-12-04T09:04:48.739Z"
   },
   {
    "duration": 9,
    "start_time": "2021-12-04T09:13:31.315Z"
   },
   {
    "duration": 4,
    "start_time": "2021-12-04T09:17:25.363Z"
   },
   {
    "duration": 4,
    "start_time": "2021-12-04T09:17:29.890Z"
   },
   {
    "duration": 33,
    "start_time": "2021-12-04T09:18:40.603Z"
   },
   {
    "duration": 16,
    "start_time": "2021-12-04T09:19:33.379Z"
   },
   {
    "duration": 41,
    "start_time": "2021-12-04T09:20:52.722Z"
   },
   {
    "duration": 5,
    "start_time": "2021-12-04T09:25:49.171Z"
   },
   {
    "duration": 10,
    "start_time": "2021-12-04T09:28:24.211Z"
   },
   {
    "duration": 17,
    "start_time": "2021-12-04T09:29:44.835Z"
   },
   {
    "duration": 108,
    "start_time": "2021-12-04T09:32:50.922Z"
   },
   {
    "duration": 1056,
    "start_time": "2021-12-04T09:32:54.026Z"
   },
   {
    "duration": 1307,
    "start_time": "2021-12-04T09:35:19.131Z"
   },
   {
    "duration": 34,
    "start_time": "2021-12-04T09:35:35.828Z"
   },
   {
    "duration": 955,
    "start_time": "2021-12-04T09:39:23.613Z"
   },
   {
    "duration": 326,
    "start_time": "2021-12-04T09:39:41.717Z"
   },
   {
    "duration": 572,
    "start_time": "2021-12-04T09:41:55.380Z"
   },
   {
    "duration": 344,
    "start_time": "2021-12-04T09:44:02.797Z"
   },
   {
    "duration": 316,
    "start_time": "2021-12-04T09:44:13.834Z"
   },
   {
    "duration": 323,
    "start_time": "2021-12-04T09:46:01.339Z"
   },
   {
    "duration": 56,
    "start_time": "2021-12-04T09:46:37.251Z"
   },
   {
    "duration": 16,
    "start_time": "2021-12-04T09:47:11.453Z"
   },
   {
    "duration": 14,
    "start_time": "2021-12-04T09:47:14.507Z"
   },
   {
    "duration": 53,
    "start_time": "2021-12-04T09:47:30.524Z"
   },
   {
    "duration": 240,
    "start_time": "2021-12-04T09:47:36.099Z"
   },
   {
    "duration": 66,
    "start_time": "2021-12-04T09:47:55.116Z"
   },
   {
    "duration": 274,
    "start_time": "2021-12-04T09:48:10.957Z"
   },
   {
    "duration": 19,
    "start_time": "2021-12-04T09:48:26.276Z"
   },
   {
    "duration": 239,
    "start_time": "2021-12-04T09:51:47.083Z"
   },
   {
    "duration": 552,
    "start_time": "2021-12-04T09:52:09.783Z"
   },
   {
    "duration": 7408,
    "start_time": "2021-12-04T09:53:22.083Z"
   },
   {
    "duration": 329,
    "start_time": "2021-12-04T09:53:40.972Z"
   },
   {
    "duration": 287,
    "start_time": "2021-12-04T09:54:02.027Z"
   },
   {
    "duration": 20,
    "start_time": "2021-12-04T09:55:00.708Z"
   },
   {
    "duration": 16,
    "start_time": "2021-12-04T09:55:42.399Z"
   },
   {
    "duration": 14,
    "start_time": "2021-12-04T09:55:49.307Z"
   },
   {
    "duration": 7742,
    "start_time": "2021-12-04T09:56:01.455Z"
   },
   {
    "duration": 249,
    "start_time": "2021-12-04T09:56:24.932Z"
   },
   {
    "duration": 27,
    "start_time": "2021-12-04T09:57:52.749Z"
   },
   {
    "duration": 15,
    "start_time": "2021-12-04T09:58:12.811Z"
   },
   {
    "duration": 10,
    "start_time": "2021-12-04T10:01:43.139Z"
   },
   {
    "duration": 191,
    "start_time": "2021-12-04T10:02:01.965Z"
   },
   {
    "duration": 290,
    "start_time": "2021-12-04T10:03:07.395Z"
   },
   {
    "duration": 280,
    "start_time": "2021-12-04T10:04:23.843Z"
   },
   {
    "duration": 273,
    "start_time": "2021-12-04T10:04:55.603Z"
   },
   {
    "duration": 8,
    "start_time": "2021-12-04T10:05:13.706Z"
   },
   {
    "duration": 19,
    "start_time": "2021-12-04T10:05:20.852Z"
   },
   {
    "duration": 6,
    "start_time": "2021-12-04T10:07:10.275Z"
   },
   {
    "duration": 8,
    "start_time": "2021-12-04T10:07:23.484Z"
   },
   {
    "duration": 289,
    "start_time": "2021-12-04T10:08:07.104Z"
   },
   {
    "duration": 273,
    "start_time": "2021-12-04T10:09:03.933Z"
   },
   {
    "duration": 7,
    "start_time": "2021-12-04T10:09:29.068Z"
   },
   {
    "duration": 23,
    "start_time": "2021-12-04T10:13:21.164Z"
   },
   {
    "duration": 22,
    "start_time": "2021-12-04T10:13:39.557Z"
   },
   {
    "duration": 273,
    "start_time": "2021-12-04T10:14:00.237Z"
   },
   {
    "duration": 23,
    "start_time": "2021-12-04T10:14:25.318Z"
   },
   {
    "duration": 36,
    "start_time": "2021-12-04T10:14:52.887Z"
   },
   {
    "duration": 25,
    "start_time": "2021-12-04T10:15:10.084Z"
   },
   {
    "duration": 23,
    "start_time": "2021-12-04T10:15:53.468Z"
   },
   {
    "duration": 25,
    "start_time": "2021-12-04T10:16:50.540Z"
   },
   {
    "duration": 17,
    "start_time": "2021-12-04T10:17:14.061Z"
   },
   {
    "duration": 17,
    "start_time": "2021-12-04T10:17:25.916Z"
   },
   {
    "duration": 298,
    "start_time": "2021-12-04T10:17:51.532Z"
   },
   {
    "duration": 20,
    "start_time": "2021-12-04T10:18:09.620Z"
   },
   {
    "duration": 260,
    "start_time": "2021-12-04T10:19:42.133Z"
   },
   {
    "duration": 13,
    "start_time": "2021-12-04T10:19:52.558Z"
   },
   {
    "duration": 8,
    "start_time": "2021-12-04T10:20:07.892Z"
   },
   {
    "duration": 18,
    "start_time": "2021-12-04T10:21:18.485Z"
   },
   {
    "duration": 6,
    "start_time": "2021-12-04T10:21:55.147Z"
   },
   {
    "duration": 273,
    "start_time": "2021-12-04T10:22:02.541Z"
   },
   {
    "duration": 22,
    "start_time": "2021-12-04T10:22:39.862Z"
   },
   {
    "duration": 7,
    "start_time": "2021-12-04T10:24:34.557Z"
   },
   {
    "duration": 8,
    "start_time": "2021-12-04T10:24:39.291Z"
   },
   {
    "duration": 33,
    "start_time": "2021-12-04T10:25:00.692Z"
   },
   {
    "duration": 276,
    "start_time": "2021-12-04T10:25:54.614Z"
   },
   {
    "duration": 425,
    "start_time": "2021-12-04T10:26:06.486Z"
   },
   {
    "duration": 29,
    "start_time": "2021-12-04T10:28:12.572Z"
   },
   {
    "duration": 21,
    "start_time": "2021-12-04T10:28:25.181Z"
   },
   {
    "duration": 9,
    "start_time": "2021-12-04T10:28:42.302Z"
   },
   {
    "duration": 28,
    "start_time": "2021-12-04T10:28:47.260Z"
   },
   {
    "duration": 12,
    "start_time": "2021-12-04T10:29:39.909Z"
   },
   {
    "duration": 263,
    "start_time": "2021-12-04T10:29:55.925Z"
   },
   {
    "duration": 275,
    "start_time": "2021-12-04T10:30:33.733Z"
   },
   {
    "duration": 25,
    "start_time": "2021-12-04T10:30:38.068Z"
   },
   {
    "duration": 15,
    "start_time": "2021-12-04T10:35:28.063Z"
   },
   {
    "duration": 21,
    "start_time": "2021-12-04T10:36:46.292Z"
   },
   {
    "duration": 281,
    "start_time": "2021-12-04T10:39:38.422Z"
   },
   {
    "duration": 288,
    "start_time": "2021-12-04T10:41:00.861Z"
   },
   {
    "duration": 21,
    "start_time": "2021-12-04T10:41:10.414Z"
   },
   {
    "duration": 20,
    "start_time": "2021-12-04T10:45:06.908Z"
   },
   {
    "duration": 276,
    "start_time": "2021-12-04T10:45:36.301Z"
   },
   {
    "duration": 19,
    "start_time": "2021-12-04T10:45:45.356Z"
   },
   {
    "duration": 18,
    "start_time": "2021-12-04T10:46:04.836Z"
   },
   {
    "duration": 17,
    "start_time": "2021-12-04T12:26:22.860Z"
   },
   {
    "duration": 36,
    "start_time": "2021-12-04T12:35:49.884Z"
   },
   {
    "duration": 22,
    "start_time": "2021-12-04T12:35:52.943Z"
   },
   {
    "duration": 5,
    "start_time": "2021-12-04T12:36:55.046Z"
   },
   {
    "duration": 5,
    "start_time": "2021-12-04T12:37:20.996Z"
   },
   {
    "duration": 6,
    "start_time": "2021-12-04T12:39:26.251Z"
   },
   {
    "duration": 5,
    "start_time": "2021-12-04T12:39:30.091Z"
   },
   {
    "duration": 122,
    "start_time": "2021-12-04T12:39:44.468Z"
   },
   {
    "duration": 6,
    "start_time": "2021-12-04T12:39:48.052Z"
   },
   {
    "duration": 7,
    "start_time": "2021-12-04T12:39:55.770Z"
   },
   {
    "duration": 16,
    "start_time": "2021-12-04T12:41:54.011Z"
   },
   {
    "duration": 19,
    "start_time": "2021-12-04T12:42:22.859Z"
   },
   {
    "duration": 25,
    "start_time": "2021-12-04T12:42:39.358Z"
   },
   {
    "duration": 18,
    "start_time": "2021-12-04T12:42:49.072Z"
   },
   {
    "duration": 25,
    "start_time": "2021-12-04T12:45:16.972Z"
   },
   {
    "duration": 5,
    "start_time": "2021-12-04T12:46:12.091Z"
   },
   {
    "duration": 15,
    "start_time": "2021-12-04T12:48:03.476Z"
   },
   {
    "duration": 914,
    "start_time": "2021-12-04T12:53:29.501Z"
   },
   {
    "duration": 865,
    "start_time": "2021-12-04T12:53:57.948Z"
   },
   {
    "duration": 732,
    "start_time": "2021-12-04T12:54:07.064Z"
   },
   {
    "duration": 27,
    "start_time": "2021-12-04T13:05:34.131Z"
   },
   {
    "duration": 38,
    "start_time": "2021-12-04T13:05:44.189Z"
   },
   {
    "duration": 193,
    "start_time": "2021-12-04T13:06:57.972Z"
   },
   {
    "duration": 257,
    "start_time": "2021-12-04T13:07:33.716Z"
   },
   {
    "duration": 173,
    "start_time": "2021-12-04T13:07:42.171Z"
   },
   {
    "duration": 194,
    "start_time": "2021-12-04T13:08:15.819Z"
   },
   {
    "duration": 316,
    "start_time": "2021-12-04T13:08:46.283Z"
   },
   {
    "duration": 11,
    "start_time": "2021-12-04T13:10:01.668Z"
   },
   {
    "duration": 21,
    "start_time": "2021-12-04T13:11:09.764Z"
   },
   {
    "duration": 101,
    "start_time": "2021-12-04T13:17:28.414Z"
   },
   {
    "duration": 7703,
    "start_time": "2021-12-04T13:42:49.622Z"
   },
   {
    "duration": 65,
    "start_time": "2021-12-04T13:43:02.879Z"
   },
   {
    "duration": 75,
    "start_time": "2021-12-04T13:43:02.946Z"
   },
   {
    "duration": 27,
    "start_time": "2021-12-04T13:43:03.023Z"
   },
   {
    "duration": 7,
    "start_time": "2021-12-04T13:43:03.052Z"
   },
   {
    "duration": 24,
    "start_time": "2021-12-04T13:43:03.061Z"
   },
   {
    "duration": 18,
    "start_time": "2021-12-04T13:43:03.087Z"
   },
   {
    "duration": 18,
    "start_time": "2021-12-04T13:43:03.107Z"
   },
   {
    "duration": 11,
    "start_time": "2021-12-04T13:43:03.127Z"
   },
   {
    "duration": 6,
    "start_time": "2021-12-04T13:43:03.140Z"
   },
   {
    "duration": 20,
    "start_time": "2021-12-04T13:43:03.148Z"
   },
   {
    "duration": 21,
    "start_time": "2021-12-04T13:43:03.170Z"
   },
   {
    "duration": 57,
    "start_time": "2021-12-04T13:43:03.193Z"
   },
   {
    "duration": 22,
    "start_time": "2021-12-04T13:43:03.252Z"
   },
   {
    "duration": 5,
    "start_time": "2021-12-04T13:43:03.276Z"
   },
   {
    "duration": 36,
    "start_time": "2021-12-04T13:43:03.283Z"
   },
   {
    "duration": 587,
    "start_time": "2021-12-04T13:43:03.321Z"
   },
   {
    "duration": 7,
    "start_time": "2021-12-04T13:43:03.910Z"
   },
   {
    "duration": 195,
    "start_time": "2021-12-04T13:43:03.919Z"
   },
   {
    "duration": 310,
    "start_time": "2021-12-04T13:43:04.117Z"
   },
   {
    "duration": 222,
    "start_time": "2021-12-04T13:43:04.429Z"
   },
   {
    "duration": 282,
    "start_time": "2021-12-04T13:43:04.653Z"
   },
   {
    "duration": 332,
    "start_time": "2021-12-04T13:43:04.938Z"
   },
   {
    "duration": 12,
    "start_time": "2021-12-04T13:43:05.274Z"
   },
   {
    "duration": 19,
    "start_time": "2021-12-04T13:43:05.289Z"
   },
   {
    "duration": 40,
    "start_time": "2021-12-04T13:43:05.310Z"
   },
   {
    "duration": 20,
    "start_time": "2021-12-04T13:43:05.353Z"
   },
   {
    "duration": 40,
    "start_time": "2021-12-04T13:43:05.375Z"
   },
   {
    "duration": 50,
    "start_time": "2021-12-04T13:43:05.417Z"
   },
   {
    "duration": 5,
    "start_time": "2021-12-04T13:43:05.470Z"
   },
   {
    "duration": 5,
    "start_time": "2021-12-04T13:43:05.477Z"
   },
   {
    "duration": 1311,
    "start_time": "2021-12-04T13:43:05.484Z"
   },
   {
    "duration": 10,
    "start_time": "2021-12-04T13:43:06.797Z"
   },
   {
    "duration": 322,
    "start_time": "2021-12-04T13:43:06.809Z"
   },
   {
    "duration": 307,
    "start_time": "2021-12-04T13:43:07.134Z"
   },
   {
    "duration": 187,
    "start_time": "2021-12-04T13:43:07.445Z"
   },
   {
    "duration": 197,
    "start_time": "2021-12-04T13:43:07.635Z"
   },
   {
    "duration": 17,
    "start_time": "2021-12-04T13:43:07.834Z"
   },
   {
    "duration": 15,
    "start_time": "2021-12-04T13:43:07.853Z"
   },
   {
    "duration": 7,
    "start_time": "2021-12-04T13:58:54.759Z"
   },
   {
    "duration": 5,
    "start_time": "2021-12-04T13:59:47.773Z"
   },
   {
    "duration": 5,
    "start_time": "2021-12-04T14:00:06.193Z"
   },
   {
    "duration": 8,
    "start_time": "2021-12-04T14:03:46.024Z"
   },
   {
    "duration": 47,
    "start_time": "2021-12-04T14:10:06.692Z"
   },
   {
    "duration": 84,
    "start_time": "2021-12-04T14:10:15.406Z"
   },
   {
    "duration": 83,
    "start_time": "2021-12-04T14:10:15.492Z"
   },
   {
    "duration": 11,
    "start_time": "2021-12-04T14:10:15.577Z"
   },
   {
    "duration": 8,
    "start_time": "2021-12-04T14:10:15.590Z"
   },
   {
    "duration": 9,
    "start_time": "2021-12-04T14:10:15.599Z"
   },
   {
    "duration": 12,
    "start_time": "2021-12-04T14:10:15.609Z"
   },
   {
    "duration": 10,
    "start_time": "2021-12-04T14:10:15.644Z"
   },
   {
    "duration": 9,
    "start_time": "2021-12-04T14:10:15.656Z"
   },
   {
    "duration": 5,
    "start_time": "2021-12-04T14:10:15.668Z"
   },
   {
    "duration": 12,
    "start_time": "2021-12-04T14:10:15.675Z"
   },
   {
    "duration": 11,
    "start_time": "2021-12-04T14:10:15.690Z"
   },
   {
    "duration": 9,
    "start_time": "2021-12-04T14:10:15.745Z"
   },
   {
    "duration": 35,
    "start_time": "2021-12-04T14:10:15.756Z"
   },
   {
    "duration": 20,
    "start_time": "2021-12-04T14:10:15.793Z"
   },
   {
    "duration": 5,
    "start_time": "2021-12-04T14:10:15.845Z"
   },
   {
    "duration": 16,
    "start_time": "2021-12-04T14:10:15.852Z"
   },
   {
    "duration": 588,
    "start_time": "2021-12-04T14:10:15.870Z"
   },
   {
    "duration": 6,
    "start_time": "2021-12-04T14:10:16.460Z"
   },
   {
    "duration": 191,
    "start_time": "2021-12-04T14:10:16.468Z"
   },
   {
    "duration": 208,
    "start_time": "2021-12-04T14:10:16.661Z"
   },
   {
    "duration": 343,
    "start_time": "2021-12-04T14:10:16.871Z"
   },
   {
    "duration": 232,
    "start_time": "2021-12-04T14:10:17.217Z"
   },
   {
    "duration": 222,
    "start_time": "2021-12-04T14:10:17.454Z"
   },
   {
    "duration": 9,
    "start_time": "2021-12-04T14:10:17.678Z"
   },
   {
    "duration": 14,
    "start_time": "2021-12-04T14:10:17.689Z"
   },
   {
    "duration": 41,
    "start_time": "2021-12-04T14:10:17.705Z"
   },
   {
    "duration": 14,
    "start_time": "2021-12-04T14:10:17.748Z"
   },
   {
    "duration": 25,
    "start_time": "2021-12-04T14:10:17.765Z"
   },
   {
    "duration": 22,
    "start_time": "2021-12-04T14:10:17.792Z"
   },
   {
    "duration": 29,
    "start_time": "2021-12-04T14:10:17.816Z"
   },
   {
    "duration": 6,
    "start_time": "2021-12-04T14:10:17.848Z"
   },
   {
    "duration": 799,
    "start_time": "2021-12-04T14:10:17.856Z"
   },
   {
    "duration": 9,
    "start_time": "2021-12-04T14:10:18.657Z"
   },
   {
    "duration": 206,
    "start_time": "2021-12-04T14:10:18.669Z"
   },
   {
    "duration": 197,
    "start_time": "2021-12-04T14:10:18.877Z"
   },
   {
    "duration": 195,
    "start_time": "2021-12-04T14:10:19.076Z"
   },
   {
    "duration": 193,
    "start_time": "2021-12-04T14:10:19.273Z"
   },
   {
    "duration": 11,
    "start_time": "2021-12-04T14:10:19.468Z"
   },
   {
    "duration": 18,
    "start_time": "2021-12-04T14:10:19.482Z"
   },
   {
    "duration": 22,
    "start_time": "2021-12-04T14:39:30.366Z"
   },
   {
    "duration": 464,
    "start_time": "2021-12-04T14:39:44.255Z"
   },
   {
    "duration": 77,
    "start_time": "2021-12-04T14:39:44.721Z"
   },
   {
    "duration": 10,
    "start_time": "2021-12-04T14:39:44.800Z"
   },
   {
    "duration": 7,
    "start_time": "2021-12-04T14:39:44.812Z"
   },
   {
    "duration": 26,
    "start_time": "2021-12-04T14:39:44.821Z"
   },
   {
    "duration": 7,
    "start_time": "2021-12-04T14:39:44.849Z"
   },
   {
    "duration": 9,
    "start_time": "2021-12-04T14:39:44.857Z"
   },
   {
    "duration": 8,
    "start_time": "2021-12-04T14:39:44.869Z"
   },
   {
    "duration": 5,
    "start_time": "2021-12-04T14:39:44.880Z"
   },
   {
    "duration": 11,
    "start_time": "2021-12-04T14:39:44.887Z"
   },
   {
    "duration": 45,
    "start_time": "2021-12-04T14:39:44.900Z"
   },
   {
    "duration": 13,
    "start_time": "2021-12-04T14:39:44.947Z"
   },
   {
    "duration": 29,
    "start_time": "2021-12-04T14:39:44.962Z"
   },
   {
    "duration": 19,
    "start_time": "2021-12-04T14:39:44.993Z"
   },
   {
    "duration": 4,
    "start_time": "2021-12-04T14:39:45.014Z"
   },
   {
    "duration": 36,
    "start_time": "2021-12-04T14:39:45.019Z"
   },
   {
    "duration": 732,
    "start_time": "2021-12-04T14:39:45.057Z"
   },
   {
    "duration": 7,
    "start_time": "2021-12-04T14:39:45.790Z"
   },
   {
    "duration": 20,
    "start_time": "2021-12-04T14:39:45.799Z"
   },
   {
    "duration": 197,
    "start_time": "2021-12-04T14:39:45.821Z"
   },
   {
    "duration": 208,
    "start_time": "2021-12-04T14:39:46.020Z"
   },
   {
    "duration": 247,
    "start_time": "2021-12-04T14:39:46.231Z"
   },
   {
    "duration": 183,
    "start_time": "2021-12-04T14:39:46.483Z"
   },
   {
    "duration": 206,
    "start_time": "2021-12-04T14:39:46.668Z"
   },
   {
    "duration": 9,
    "start_time": "2021-12-04T14:39:46.875Z"
   },
   {
    "duration": 13,
    "start_time": "2021-12-04T14:39:46.886Z"
   },
   {
    "duration": 12,
    "start_time": "2021-12-04T14:39:46.901Z"
   },
   {
    "duration": 43,
    "start_time": "2021-12-04T14:39:46.914Z"
   },
   {
    "duration": 26,
    "start_time": "2021-12-04T14:39:46.959Z"
   },
   {
    "duration": 23,
    "start_time": "2021-12-04T14:39:46.987Z"
   },
   {
    "duration": 33,
    "start_time": "2021-12-04T14:39:47.012Z"
   },
   {
    "duration": 6,
    "start_time": "2021-12-04T14:39:47.047Z"
   },
   {
    "duration": 1019,
    "start_time": "2021-12-04T14:39:47.055Z"
   },
   {
    "duration": 7,
    "start_time": "2021-12-04T14:39:48.076Z"
   },
   {
    "duration": 196,
    "start_time": "2021-12-04T14:39:48.085Z"
   },
   {
    "duration": 195,
    "start_time": "2021-12-04T14:39:48.283Z"
   },
   {
    "duration": 178,
    "start_time": "2021-12-04T14:39:48.480Z"
   },
   {
    "duration": 189,
    "start_time": "2021-12-04T14:39:48.659Z"
   },
   {
    "duration": 9,
    "start_time": "2021-12-04T14:39:48.850Z"
   },
   {
    "duration": 16,
    "start_time": "2021-12-04T14:39:48.861Z"
   },
   {
    "duration": 200,
    "start_time": "2021-12-04T15:14:32.725Z"
   },
   {
    "duration": 61,
    "start_time": "2021-12-04T15:14:41.869Z"
   },
   {
    "duration": 76,
    "start_time": "2021-12-04T15:14:41.932Z"
   },
   {
    "duration": 10,
    "start_time": "2021-12-04T15:14:42.010Z"
   },
   {
    "duration": 29,
    "start_time": "2021-12-04T15:14:42.022Z"
   },
   {
    "duration": 5,
    "start_time": "2021-12-04T15:14:42.053Z"
   },
   {
    "duration": 7,
    "start_time": "2021-12-04T15:14:42.059Z"
   },
   {
    "duration": 8,
    "start_time": "2021-12-04T15:14:42.067Z"
   },
   {
    "duration": 9,
    "start_time": "2021-12-04T15:14:42.077Z"
   },
   {
    "duration": 5,
    "start_time": "2021-12-04T15:14:42.089Z"
   },
   {
    "duration": 48,
    "start_time": "2021-12-04T15:14:42.096Z"
   },
   {
    "duration": 11,
    "start_time": "2021-12-04T15:14:42.146Z"
   },
   {
    "duration": 8,
    "start_time": "2021-12-04T15:14:42.159Z"
   },
   {
    "duration": 31,
    "start_time": "2021-12-04T15:14:42.168Z"
   },
   {
    "duration": 18,
    "start_time": "2021-12-04T15:14:42.201Z"
   },
   {
    "duration": 4,
    "start_time": "2021-12-04T15:14:42.245Z"
   },
   {
    "duration": 15,
    "start_time": "2021-12-04T15:14:42.251Z"
   },
   {
    "duration": 552,
    "start_time": "2021-12-04T15:14:42.267Z"
   },
   {
    "duration": 6,
    "start_time": "2021-12-04T15:14:42.820Z"
   },
   {
    "duration": 29,
    "start_time": "2021-12-04T15:14:42.827Z"
   },
   {
    "duration": 198,
    "start_time": "2021-12-04T15:14:42.858Z"
   },
   {
    "duration": 181,
    "start_time": "2021-12-04T15:14:43.058Z"
   },
   {
    "duration": 184,
    "start_time": "2021-12-04T15:14:43.244Z"
   },
   {
    "duration": 164,
    "start_time": "2021-12-04T15:14:43.431Z"
   },
   {
    "duration": 203,
    "start_time": "2021-12-04T15:14:43.597Z"
   },
   {
    "duration": 8,
    "start_time": "2021-12-04T15:14:43.801Z"
   },
   {
    "duration": 13,
    "start_time": "2021-12-04T15:14:43.811Z"
   },
   {
    "duration": 27,
    "start_time": "2021-12-04T15:14:43.825Z"
   },
   {
    "duration": 13,
    "start_time": "2021-12-04T15:14:43.853Z"
   },
   {
    "duration": 20,
    "start_time": "2021-12-04T15:14:43.868Z"
   },
   {
    "duration": 19,
    "start_time": "2021-12-04T15:14:43.889Z"
   },
   {
    "duration": 35,
    "start_time": "2021-12-04T15:14:43.910Z"
   },
   {
    "duration": 7,
    "start_time": "2021-12-04T15:14:43.946Z"
   },
   {
    "duration": 742,
    "start_time": "2021-12-04T15:14:43.955Z"
   },
   {
    "duration": 8,
    "start_time": "2021-12-04T15:14:44.700Z"
   },
   {
    "duration": 198,
    "start_time": "2021-12-04T15:14:44.710Z"
   },
   {
    "duration": 197,
    "start_time": "2021-12-04T15:14:44.910Z"
   },
   {
    "duration": 187,
    "start_time": "2021-12-04T15:14:45.109Z"
   },
   {
    "duration": 216,
    "start_time": "2021-12-04T15:14:45.298Z"
   },
   {
    "duration": 11,
    "start_time": "2021-12-04T15:14:45.516Z"
   },
   {
    "duration": 19,
    "start_time": "2021-12-04T15:14:45.529Z"
   },
   {
    "duration": 182,
    "start_time": "2021-12-04T15:16:04.005Z"
   },
   {
    "duration": 64,
    "start_time": "2021-12-04T15:16:15.069Z"
   },
   {
    "duration": 74,
    "start_time": "2021-12-04T15:16:15.135Z"
   },
   {
    "duration": 11,
    "start_time": "2021-12-04T15:16:15.211Z"
   },
   {
    "duration": 26,
    "start_time": "2021-12-04T15:16:15.224Z"
   },
   {
    "duration": 6,
    "start_time": "2021-12-04T15:16:15.252Z"
   },
   {
    "duration": 6,
    "start_time": "2021-12-04T15:16:15.261Z"
   },
   {
    "duration": 12,
    "start_time": "2021-12-04T15:16:15.269Z"
   },
   {
    "duration": 9,
    "start_time": "2021-12-04T15:16:15.284Z"
   },
   {
    "duration": 5,
    "start_time": "2021-12-04T15:16:15.295Z"
   },
   {
    "duration": 48,
    "start_time": "2021-12-04T15:16:15.302Z"
   },
   {
    "duration": 195,
    "start_time": "2021-12-04T15:16:15.352Z"
   },
   {
    "duration": 9,
    "start_time": "2021-12-04T15:16:15.549Z"
   },
   {
    "duration": 30,
    "start_time": "2021-12-04T15:16:15.559Z"
   },
   {
    "duration": 22,
    "start_time": "2021-12-04T15:16:15.590Z"
   },
   {
    "duration": 31,
    "start_time": "2021-12-04T15:16:15.614Z"
   },
   {
    "duration": 14,
    "start_time": "2021-12-04T15:16:15.648Z"
   },
   {
    "duration": 573,
    "start_time": "2021-12-04T15:16:15.664Z"
   },
   {
    "duration": 8,
    "start_time": "2021-12-04T15:16:16.239Z"
   },
   {
    "duration": 40,
    "start_time": "2021-12-04T15:16:16.248Z"
   },
   {
    "duration": 182,
    "start_time": "2021-12-04T15:16:16.290Z"
   },
   {
    "duration": 288,
    "start_time": "2021-12-04T15:16:16.474Z"
   },
   {
    "duration": 194,
    "start_time": "2021-12-04T15:16:16.764Z"
   },
   {
    "duration": 189,
    "start_time": "2021-12-04T15:16:16.962Z"
   },
   {
    "duration": 220,
    "start_time": "2021-12-04T15:16:17.154Z"
   },
   {
    "duration": 8,
    "start_time": "2021-12-04T15:16:17.376Z"
   },
   {
    "duration": 116,
    "start_time": "2021-12-04T15:16:17.386Z"
   },
   {
    "duration": -949,
    "start_time": "2021-12-04T15:16:18.453Z"
   },
   {
    "duration": -957,
    "start_time": "2021-12-04T15:16:18.462Z"
   },
   {
    "duration": -961,
    "start_time": "2021-12-04T15:16:18.467Z"
   },
   {
    "duration": -963,
    "start_time": "2021-12-04T15:16:18.470Z"
   },
   {
    "duration": -964,
    "start_time": "2021-12-04T15:16:18.472Z"
   },
   {
    "duration": -965,
    "start_time": "2021-12-04T15:16:18.474Z"
   },
   {
    "duration": -966,
    "start_time": "2021-12-04T15:16:18.476Z"
   },
   {
    "duration": -990,
    "start_time": "2021-12-04T15:16:18.501Z"
   },
   {
    "duration": -992,
    "start_time": "2021-12-04T15:16:18.504Z"
   },
   {
    "duration": -994,
    "start_time": "2021-12-04T15:16:18.507Z"
   },
   {
    "duration": -996,
    "start_time": "2021-12-04T15:16:18.510Z"
   },
   {
    "duration": -997,
    "start_time": "2021-12-04T15:16:18.512Z"
   },
   {
    "duration": -998,
    "start_time": "2021-12-04T15:16:18.514Z"
   },
   {
    "duration": -999,
    "start_time": "2021-12-04T15:16:18.516Z"
   },
   {
    "duration": 193,
    "start_time": "2021-12-04T15:17:46.623Z"
   },
   {
    "duration": 185,
    "start_time": "2021-12-04T15:17:51.749Z"
   },
   {
    "duration": 183,
    "start_time": "2021-12-04T15:17:58.989Z"
   },
   {
    "duration": 13,
    "start_time": "2021-12-04T15:20:31.933Z"
   },
   {
    "duration": 169,
    "start_time": "2021-12-04T15:20:37.189Z"
   },
   {
    "duration": 193,
    "start_time": "2021-12-04T15:21:00.255Z"
   },
   {
    "duration": 11,
    "start_time": "2021-12-04T15:21:17.053Z"
   },
   {
    "duration": 175,
    "start_time": "2021-12-04T15:21:21.661Z"
   },
   {
    "duration": 15,
    "start_time": "2021-12-04T15:21:56.310Z"
   },
   {
    "duration": 172,
    "start_time": "2021-12-04T15:22:01.549Z"
   },
   {
    "duration": 12,
    "start_time": "2021-12-04T15:22:06.174Z"
   },
   {
    "duration": 180,
    "start_time": "2021-12-04T15:22:10.023Z"
   },
   {
    "duration": 161,
    "start_time": "2021-12-04T15:22:11.806Z"
   },
   {
    "duration": 63,
    "start_time": "2021-12-04T15:22:14.561Z"
   },
   {
    "duration": 73,
    "start_time": "2021-12-04T15:22:14.627Z"
   },
   {
    "duration": 10,
    "start_time": "2021-12-04T15:22:14.702Z"
   },
   {
    "duration": 14,
    "start_time": "2021-12-04T15:22:14.714Z"
   },
   {
    "duration": 23,
    "start_time": "2021-12-04T15:22:14.729Z"
   },
   {
    "duration": 48,
    "start_time": "2021-12-04T15:22:14.754Z"
   },
   {
    "duration": 36,
    "start_time": "2021-12-04T15:22:14.803Z"
   },
   {
    "duration": 15,
    "start_time": "2021-12-04T15:22:14.843Z"
   },
   {
    "duration": 25,
    "start_time": "2021-12-04T15:22:14.860Z"
   },
   {
    "duration": 25,
    "start_time": "2021-12-04T15:22:14.887Z"
   },
   {
    "duration": 14,
    "start_time": "2021-12-04T15:22:14.914Z"
   },
   {
    "duration": 37,
    "start_time": "2021-12-04T15:22:14.929Z"
   },
   {
    "duration": 54,
    "start_time": "2021-12-04T15:22:14.967Z"
   },
   {
    "duration": 30,
    "start_time": "2021-12-04T15:22:15.023Z"
   },
   {
    "duration": 11,
    "start_time": "2021-12-04T15:22:15.054Z"
   },
   {
    "duration": 43,
    "start_time": "2021-12-04T15:22:15.067Z"
   },
   {
    "duration": 553,
    "start_time": "2021-12-04T15:22:15.112Z"
   },
   {
    "duration": 5,
    "start_time": "2021-12-04T15:22:15.667Z"
   },
   {
    "duration": 37,
    "start_time": "2021-12-04T15:22:15.674Z"
   },
   {
    "duration": 165,
    "start_time": "2021-12-04T15:22:15.713Z"
   },
   {
    "duration": 191,
    "start_time": "2021-12-04T15:22:15.880Z"
   },
   {
    "duration": 192,
    "start_time": "2021-12-04T15:22:16.073Z"
   },
   {
    "duration": 176,
    "start_time": "2021-12-04T15:22:16.268Z"
   },
   {
    "duration": 212,
    "start_time": "2021-12-04T15:22:16.447Z"
   },
   {
    "duration": 8,
    "start_time": "2021-12-04T15:22:16.661Z"
   },
   {
    "duration": 12,
    "start_time": "2021-12-04T15:22:16.671Z"
   },
   {
    "duration": 9,
    "start_time": "2021-12-04T15:22:16.685Z"
   },
   {
    "duration": 19,
    "start_time": "2021-12-04T15:22:16.696Z"
   },
   {
    "duration": 49,
    "start_time": "2021-12-04T15:22:16.717Z"
   },
   {
    "duration": 19,
    "start_time": "2021-12-04T15:22:16.768Z"
   },
   {
    "duration": 4,
    "start_time": "2021-12-04T15:22:16.789Z"
   },
   {
    "duration": 51,
    "start_time": "2021-12-04T15:22:16.794Z"
   },
   {
    "duration": 1115,
    "start_time": "2021-12-04T15:22:16.847Z"
   },
   {
    "duration": 7,
    "start_time": "2021-12-04T15:22:17.964Z"
   },
   {
    "duration": 190,
    "start_time": "2021-12-04T15:22:17.972Z"
   },
   {
    "duration": 188,
    "start_time": "2021-12-04T15:22:18.164Z"
   },
   {
    "duration": 175,
    "start_time": "2021-12-04T15:22:18.353Z"
   },
   {
    "duration": 174,
    "start_time": "2021-12-04T15:22:18.529Z"
   },
   {
    "duration": 9,
    "start_time": "2021-12-04T15:22:18.704Z"
   },
   {
    "duration": 13,
    "start_time": "2021-12-04T15:22:18.715Z"
   },
   {
    "duration": 178,
    "start_time": "2021-12-04T15:23:08.605Z"
   },
   {
    "duration": 12,
    "start_time": "2021-12-04T15:24:55.291Z"
   },
   {
    "duration": 180,
    "start_time": "2021-12-04T15:25:00.311Z"
   },
   {
    "duration": 164,
    "start_time": "2021-12-04T15:25:18.870Z"
   },
   {
    "duration": 178,
    "start_time": "2021-12-04T15:25:47.509Z"
   },
   {
    "duration": 198,
    "start_time": "2021-12-04T15:25:57.134Z"
   },
   {
    "duration": 37,
    "start_time": "2021-12-04T15:26:30.496Z"
   },
   {
    "duration": 191,
    "start_time": "2021-12-04T15:26:33.647Z"
   },
   {
    "duration": 17,
    "start_time": "2021-12-04T15:26:55.742Z"
   },
   {
    "duration": 192,
    "start_time": "2021-12-04T15:26:59.401Z"
   },
   {
    "duration": 186,
    "start_time": "2021-12-04T15:27:11.645Z"
   },
   {
    "duration": 66,
    "start_time": "2021-12-04T15:27:29.910Z"
   },
   {
    "duration": 97,
    "start_time": "2021-12-04T15:27:29.978Z"
   },
   {
    "duration": 10,
    "start_time": "2021-12-04T15:27:30.078Z"
   },
   {
    "duration": 32,
    "start_time": "2021-12-04T15:27:30.090Z"
   },
   {
    "duration": 9,
    "start_time": "2021-12-04T15:27:30.124Z"
   },
   {
    "duration": 13,
    "start_time": "2021-12-04T15:27:30.135Z"
   },
   {
    "duration": 14,
    "start_time": "2021-12-04T15:27:30.150Z"
   },
   {
    "duration": 8,
    "start_time": "2021-12-04T15:27:30.165Z"
   },
   {
    "duration": 6,
    "start_time": "2021-12-04T15:27:30.176Z"
   },
   {
    "duration": 19,
    "start_time": "2021-12-04T15:27:30.184Z"
   },
   {
    "duration": 12,
    "start_time": "2021-12-04T15:27:30.205Z"
   },
   {
    "duration": 12,
    "start_time": "2021-12-04T15:27:30.218Z"
   },
   {
    "duration": 37,
    "start_time": "2021-12-04T15:27:30.232Z"
   },
   {
    "duration": 22,
    "start_time": "2021-12-04T15:27:30.271Z"
   },
   {
    "duration": 9,
    "start_time": "2021-12-04T15:27:30.294Z"
   },
   {
    "duration": 21,
    "start_time": "2021-12-04T15:27:30.305Z"
   },
   {
    "duration": 571,
    "start_time": "2021-12-04T15:27:30.328Z"
   },
   {
    "duration": 6,
    "start_time": "2021-12-04T15:27:30.901Z"
   },
   {
    "duration": 45,
    "start_time": "2021-12-04T15:27:30.909Z"
   },
   {
    "duration": 166,
    "start_time": "2021-12-04T15:27:30.956Z"
   },
   {
    "duration": 194,
    "start_time": "2021-12-04T15:27:31.124Z"
   },
   {
    "duration": 198,
    "start_time": "2021-12-04T15:27:31.320Z"
   },
   {
    "duration": 181,
    "start_time": "2021-12-04T15:27:31.520Z"
   },
   {
    "duration": 199,
    "start_time": "2021-12-04T15:27:31.703Z"
   },
   {
    "duration": 9,
    "start_time": "2021-12-04T15:27:31.905Z"
   },
   {
    "duration": 29,
    "start_time": "2021-12-04T15:27:31.916Z"
   },
   {
    "duration": 18,
    "start_time": "2021-12-04T15:27:31.950Z"
   },
   {
    "duration": 32,
    "start_time": "2021-12-04T15:27:31.970Z"
   },
   {
    "duration": 32,
    "start_time": "2021-12-04T15:27:32.004Z"
   },
   {
    "duration": 41,
    "start_time": "2021-12-04T15:27:32.038Z"
   },
   {
    "duration": 27,
    "start_time": "2021-12-04T15:27:32.081Z"
   },
   {
    "duration": 24,
    "start_time": "2021-12-04T15:27:32.110Z"
   },
   {
    "duration": 735,
    "start_time": "2021-12-04T15:27:32.136Z"
   },
   {
    "duration": 7,
    "start_time": "2021-12-04T15:27:32.873Z"
   },
   {
    "duration": 194,
    "start_time": "2021-12-04T15:27:32.882Z"
   },
   {
    "duration": 187,
    "start_time": "2021-12-04T15:27:33.078Z"
   },
   {
    "duration": 191,
    "start_time": "2021-12-04T15:27:33.267Z"
   },
   {
    "duration": 186,
    "start_time": "2021-12-04T15:27:33.460Z"
   },
   {
    "duration": 10,
    "start_time": "2021-12-04T15:27:33.648Z"
   },
   {
    "duration": 13,
    "start_time": "2021-12-04T15:27:33.660Z"
   },
   {
    "duration": 62,
    "start_time": "2021-12-04T15:34:17.746Z"
   },
   {
    "duration": 85,
    "start_time": "2021-12-04T15:34:17.810Z"
   },
   {
    "duration": 9,
    "start_time": "2021-12-04T15:34:17.897Z"
   },
   {
    "duration": 9,
    "start_time": "2021-12-04T15:34:17.909Z"
   },
   {
    "duration": 28,
    "start_time": "2021-12-04T15:34:17.919Z"
   },
   {
    "duration": 9,
    "start_time": "2021-12-04T15:34:17.948Z"
   },
   {
    "duration": 11,
    "start_time": "2021-12-04T15:34:17.958Z"
   },
   {
    "duration": 10,
    "start_time": "2021-12-04T15:34:17.972Z"
   },
   {
    "duration": 6,
    "start_time": "2021-12-04T15:34:17.985Z"
   },
   {
    "duration": 12,
    "start_time": "2021-12-04T15:34:17.992Z"
   },
   {
    "duration": 48,
    "start_time": "2021-12-04T15:34:18.006Z"
   },
   {
    "duration": 10,
    "start_time": "2021-12-04T15:34:18.055Z"
   },
   {
    "duration": 30,
    "start_time": "2021-12-04T15:34:18.067Z"
   },
   {
    "duration": 21,
    "start_time": "2021-12-04T15:34:18.099Z"
   },
   {
    "duration": 6,
    "start_time": "2021-12-04T15:34:18.145Z"
   },
   {
    "duration": 17,
    "start_time": "2021-12-04T15:34:18.153Z"
   },
   {
    "duration": 780,
    "start_time": "2021-12-04T15:34:18.172Z"
   },
   {
    "duration": 7,
    "start_time": "2021-12-04T15:34:18.953Z"
   },
   {
    "duration": 22,
    "start_time": "2021-12-04T15:34:18.961Z"
   },
   {
    "duration": 181,
    "start_time": "2021-12-04T15:34:18.985Z"
   },
   {
    "duration": 189,
    "start_time": "2021-12-04T15:34:19.168Z"
   },
   {
    "duration": 205,
    "start_time": "2021-12-04T15:34:19.359Z"
   },
   {
    "duration": 178,
    "start_time": "2021-12-04T15:34:19.568Z"
   },
   {
    "duration": 198,
    "start_time": "2021-12-04T15:34:19.748Z"
   },
   {
    "duration": 8,
    "start_time": "2021-12-04T15:34:19.948Z"
   },
   {
    "duration": 24,
    "start_time": "2021-12-04T15:34:19.958Z"
   },
   {
    "duration": 10,
    "start_time": "2021-12-04T15:34:19.984Z"
   },
   {
    "duration": 28,
    "start_time": "2021-12-04T15:34:19.996Z"
   },
   {
    "duration": 38,
    "start_time": "2021-12-04T15:34:20.026Z"
   },
   {
    "duration": 20,
    "start_time": "2021-12-04T15:34:20.066Z"
   },
   {
    "duration": 10,
    "start_time": "2021-12-04T15:34:20.088Z"
   },
   {
    "duration": 12,
    "start_time": "2021-12-04T15:34:20.099Z"
   },
   {
    "duration": 716,
    "start_time": "2021-12-04T15:34:20.113Z"
   },
   {
    "duration": 16,
    "start_time": "2021-12-04T15:34:20.831Z"
   },
   {
    "duration": 187,
    "start_time": "2021-12-04T15:34:20.849Z"
   },
   {
    "duration": 204,
    "start_time": "2021-12-04T15:34:21.044Z"
   },
   {
    "duration": 239,
    "start_time": "2021-12-04T15:34:21.251Z"
   },
   {
    "duration": 314,
    "start_time": "2021-12-04T15:34:21.545Z"
   },
   {
    "duration": 10,
    "start_time": "2021-12-04T15:34:21.861Z"
   },
   {
    "duration": 14,
    "start_time": "2021-12-04T15:34:21.873Z"
   },
   {
    "duration": 12,
    "start_time": "2021-12-04T15:35:49.758Z"
   },
   {
    "duration": 843,
    "start_time": "2021-12-05T09:02:14.456Z"
   },
   {
    "duration": 84,
    "start_time": "2021-12-05T09:02:15.301Z"
   },
   {
    "duration": 11,
    "start_time": "2021-12-05T09:02:15.387Z"
   },
   {
    "duration": 9,
    "start_time": "2021-12-05T09:02:15.400Z"
   },
   {
    "duration": 6,
    "start_time": "2021-12-05T09:02:15.410Z"
   },
   {
    "duration": 30,
    "start_time": "2021-12-05T09:02:15.417Z"
   },
   {
    "duration": 7,
    "start_time": "2021-12-05T09:02:15.449Z"
   },
   {
    "duration": 10,
    "start_time": "2021-12-05T09:02:15.458Z"
   },
   {
    "duration": 5,
    "start_time": "2021-12-05T09:02:15.470Z"
   },
   {
    "duration": 10,
    "start_time": "2021-12-05T09:02:15.477Z"
   },
   {
    "duration": 13,
    "start_time": "2021-12-05T09:02:15.489Z"
   },
   {
    "duration": 8,
    "start_time": "2021-12-05T09:02:15.503Z"
   },
   {
    "duration": 58,
    "start_time": "2021-12-05T09:02:15.513Z"
   },
   {
    "duration": 18,
    "start_time": "2021-12-05T09:02:15.573Z"
   },
   {
    "duration": 25,
    "start_time": "2021-12-05T09:02:15.593Z"
   },
   {
    "duration": 13,
    "start_time": "2021-12-05T09:02:15.620Z"
   },
   {
    "duration": 569,
    "start_time": "2021-12-05T09:02:15.645Z"
   },
   {
    "duration": 5,
    "start_time": "2021-12-05T09:02:16.216Z"
   },
   {
    "duration": 35,
    "start_time": "2021-12-05T09:02:16.222Z"
   },
   {
    "duration": 291,
    "start_time": "2021-12-05T09:02:16.258Z"
   },
   {
    "duration": 191,
    "start_time": "2021-12-05T09:02:16.550Z"
   },
   {
    "duration": 193,
    "start_time": "2021-12-05T09:02:16.744Z"
   },
   {
    "duration": 171,
    "start_time": "2021-12-05T09:02:16.945Z"
   },
   {
    "duration": 227,
    "start_time": "2021-12-05T09:02:17.117Z"
   },
   {
    "duration": 9,
    "start_time": "2021-12-05T09:02:17.345Z"
   },
   {
    "duration": 16,
    "start_time": "2021-12-05T09:02:17.356Z"
   },
   {
    "duration": 11,
    "start_time": "2021-12-05T09:02:17.374Z"
   },
   {
    "duration": 15,
    "start_time": "2021-12-05T09:02:17.387Z"
   },
   {
    "duration": 61,
    "start_time": "2021-12-05T09:02:17.404Z"
   },
   {
    "duration": 20,
    "start_time": "2021-12-05T09:02:17.467Z"
   },
   {
    "duration": 4,
    "start_time": "2021-12-05T09:02:17.489Z"
   },
   {
    "duration": 11,
    "start_time": "2021-12-05T09:02:17.495Z"
   },
   {
    "duration": 746,
    "start_time": "2021-12-05T09:02:17.508Z"
   },
   {
    "duration": 7,
    "start_time": "2021-12-05T09:02:18.256Z"
   },
   {
    "duration": 185,
    "start_time": "2021-12-05T09:02:18.264Z"
   },
   {
    "duration": 191,
    "start_time": "2021-12-05T09:02:18.450Z"
   },
   {
    "duration": 174,
    "start_time": "2021-12-05T09:02:18.644Z"
   },
   {
    "duration": 182,
    "start_time": "2021-12-05T09:02:18.819Z"
   },
   {
    "duration": 10,
    "start_time": "2021-12-05T09:02:19.003Z"
   },
   {
    "duration": 42,
    "start_time": "2021-12-05T09:02:19.015Z"
   },
   {
    "duration": 123,
    "start_time": "2021-12-05T09:49:36.074Z"
   },
   {
    "duration": 6,
    "start_time": "2021-12-05T09:49:39.884Z"
   },
   {
    "duration": 62,
    "start_time": "2021-12-05T10:58:35.997Z"
   },
   {
    "duration": 69,
    "start_time": "2021-12-05T10:58:36.060Z"
   },
   {
    "duration": 21,
    "start_time": "2021-12-05T10:58:36.131Z"
   },
   {
    "duration": 7,
    "start_time": "2021-12-05T10:58:36.154Z"
   },
   {
    "duration": 38,
    "start_time": "2021-12-05T10:58:36.163Z"
   },
   {
    "duration": 19,
    "start_time": "2021-12-05T10:58:36.203Z"
   },
   {
    "duration": 24,
    "start_time": "2021-12-05T10:58:36.224Z"
   },
   {
    "duration": 16,
    "start_time": "2021-12-05T10:58:36.250Z"
   },
   {
    "duration": 23,
    "start_time": "2021-12-05T10:58:36.269Z"
   },
   {
    "duration": 65,
    "start_time": "2021-12-05T10:58:36.294Z"
   },
   {
    "duration": 9,
    "start_time": "2021-12-05T10:58:36.361Z"
   },
   {
    "duration": 13,
    "start_time": "2021-12-05T10:58:36.372Z"
   },
   {
    "duration": 40,
    "start_time": "2021-12-05T10:58:36.386Z"
   },
   {
    "duration": 22,
    "start_time": "2021-12-05T10:58:36.427Z"
   },
   {
    "duration": 5,
    "start_time": "2021-12-05T10:58:36.450Z"
   },
   {
    "duration": 36,
    "start_time": "2021-12-05T10:58:36.457Z"
   },
   {
    "duration": 551,
    "start_time": "2021-12-05T10:58:36.495Z"
   },
   {
    "duration": 5,
    "start_time": "2021-12-05T10:58:37.047Z"
   },
   {
    "duration": 39,
    "start_time": "2021-12-05T10:58:37.054Z"
   },
   {
    "duration": 154,
    "start_time": "2021-12-05T10:58:37.095Z"
   },
   {
    "duration": 179,
    "start_time": "2021-12-05T10:58:37.251Z"
   },
   {
    "duration": 195,
    "start_time": "2021-12-05T10:58:37.432Z"
   },
   {
    "duration": 167,
    "start_time": "2021-12-05T10:58:37.631Z"
   },
   {
    "duration": 194,
    "start_time": "2021-12-05T10:58:37.801Z"
   },
   {
    "duration": 9,
    "start_time": "2021-12-05T10:58:37.997Z"
   },
   {
    "duration": 34,
    "start_time": "2021-12-05T10:58:38.008Z"
   },
   {
    "duration": 36,
    "start_time": "2021-12-05T10:58:38.044Z"
   },
   {
    "duration": 33,
    "start_time": "2021-12-05T10:58:38.082Z"
   },
   {
    "duration": 50,
    "start_time": "2021-12-05T10:58:38.117Z"
   },
   {
    "duration": 35,
    "start_time": "2021-12-05T10:58:38.169Z"
   },
   {
    "duration": 15,
    "start_time": "2021-12-05T10:58:38.206Z"
   },
   {
    "duration": 19,
    "start_time": "2021-12-05T10:58:38.222Z"
   },
   {
    "duration": 979,
    "start_time": "2021-12-05T10:58:38.243Z"
   },
   {
    "duration": 7,
    "start_time": "2021-12-05T10:58:39.223Z"
   },
   {
    "duration": 186,
    "start_time": "2021-12-05T10:58:39.231Z"
   },
   {
    "duration": 250,
    "start_time": "2021-12-05T10:58:39.419Z"
   },
   {
    "duration": 180,
    "start_time": "2021-12-05T10:58:39.670Z"
   },
   {
    "duration": 184,
    "start_time": "2021-12-05T10:58:39.851Z"
   },
   {
    "duration": 15,
    "start_time": "2021-12-05T10:58:40.036Z"
   },
   {
    "duration": 16,
    "start_time": "2021-12-05T10:58:40.053Z"
   },
   {
    "duration": 651,
    "start_time": "2021-12-05T12:07:47.463Z"
   },
   {
    "duration": 72,
    "start_time": "2021-12-05T12:07:48.116Z"
   },
   {
    "duration": 10,
    "start_time": "2021-12-05T12:07:48.190Z"
   },
   {
    "duration": 8,
    "start_time": "2021-12-05T12:07:48.202Z"
   },
   {
    "duration": 5,
    "start_time": "2021-12-05T12:07:48.212Z"
   },
   {
    "duration": 26,
    "start_time": "2021-12-05T12:07:48.219Z"
   },
   {
    "duration": 9,
    "start_time": "2021-12-05T12:07:48.247Z"
   },
   {
    "duration": 10,
    "start_time": "2021-12-05T12:07:48.258Z"
   },
   {
    "duration": 5,
    "start_time": "2021-12-05T12:07:48.271Z"
   },
   {
    "duration": 11,
    "start_time": "2021-12-05T12:07:48.278Z"
   },
   {
    "duration": 12,
    "start_time": "2021-12-05T12:07:48.291Z"
   },
   {
    "duration": 45,
    "start_time": "2021-12-05T12:07:48.305Z"
   },
   {
    "duration": 29,
    "start_time": "2021-12-05T12:07:48.352Z"
   },
   {
    "duration": 18,
    "start_time": "2021-12-05T12:07:48.383Z"
   },
   {
    "duration": 5,
    "start_time": "2021-12-05T12:07:48.403Z"
   },
   {
    "duration": 42,
    "start_time": "2021-12-05T12:07:48.410Z"
   },
   {
    "duration": 671,
    "start_time": "2021-12-05T12:07:48.454Z"
   },
   {
    "duration": 5,
    "start_time": "2021-12-05T12:07:49.127Z"
   },
   {
    "duration": 27,
    "start_time": "2021-12-05T12:07:49.133Z"
   },
   {
    "duration": 313,
    "start_time": "2021-12-05T12:07:49.161Z"
   },
   {
    "duration": 265,
    "start_time": "2021-12-05T12:07:49.476Z"
   },
   {
    "duration": 197,
    "start_time": "2021-12-05T12:07:49.742Z"
   },
   {
    "duration": 186,
    "start_time": "2021-12-05T12:07:49.941Z"
   },
   {
    "duration": 206,
    "start_time": "2021-12-05T12:07:50.129Z"
   },
   {
    "duration": 13,
    "start_time": "2021-12-05T12:07:50.337Z"
   },
   {
    "duration": 18,
    "start_time": "2021-12-05T12:07:50.352Z"
   },
   {
    "duration": 10,
    "start_time": "2021-12-05T12:07:50.373Z"
   },
   {
    "duration": 13,
    "start_time": "2021-12-05T12:07:50.385Z"
   },
   {
    "duration": 57,
    "start_time": "2021-12-05T12:07:50.400Z"
   },
   {
    "duration": 20,
    "start_time": "2021-12-05T12:07:50.459Z"
   },
   {
    "duration": 4,
    "start_time": "2021-12-05T12:07:50.481Z"
   },
   {
    "duration": 6,
    "start_time": "2021-12-05T12:07:50.487Z"
   },
   {
    "duration": 764,
    "start_time": "2021-12-05T12:07:50.495Z"
   },
   {
    "duration": 8,
    "start_time": "2021-12-05T12:07:51.261Z"
   },
   {
    "duration": 216,
    "start_time": "2021-12-05T12:07:51.271Z"
   },
   {
    "duration": 204,
    "start_time": "2021-12-05T12:07:51.489Z"
   },
   {
    "duration": 295,
    "start_time": "2021-12-05T12:07:51.695Z"
   },
   {
    "duration": 207,
    "start_time": "2021-12-05T12:07:51.992Z"
   },
   {
    "duration": 10,
    "start_time": "2021-12-05T12:07:52.201Z"
   },
   {
    "duration": 38,
    "start_time": "2021-12-05T12:07:52.213Z"
   },
   {
    "duration": 620,
    "start_time": "2021-12-05T18:25:59.577Z"
   },
   {
    "duration": 65,
    "start_time": "2021-12-05T18:26:00.199Z"
   },
   {
    "duration": 22,
    "start_time": "2021-12-05T18:26:00.266Z"
   },
   {
    "duration": 8,
    "start_time": "2021-12-05T18:26:00.289Z"
   },
   {
    "duration": 7,
    "start_time": "2021-12-05T18:26:00.298Z"
   },
   {
    "duration": 8,
    "start_time": "2021-12-05T18:26:00.307Z"
   },
   {
    "duration": 20,
    "start_time": "2021-12-05T18:26:00.317Z"
   },
   {
    "duration": 8,
    "start_time": "2021-12-05T18:26:00.339Z"
   },
   {
    "duration": 4,
    "start_time": "2021-12-05T18:26:00.349Z"
   },
   {
    "duration": 14,
    "start_time": "2021-12-05T18:26:00.355Z"
   },
   {
    "duration": 24,
    "start_time": "2021-12-05T18:26:00.370Z"
   },
   {
    "duration": 7,
    "start_time": "2021-12-05T18:26:00.395Z"
   },
   {
    "duration": 30,
    "start_time": "2021-12-05T18:26:00.404Z"
   },
   {
    "duration": 16,
    "start_time": "2021-12-05T18:26:00.436Z"
   },
   {
    "duration": 4,
    "start_time": "2021-12-05T18:26:00.454Z"
   },
   {
    "duration": 33,
    "start_time": "2021-12-05T18:26:00.459Z"
   },
   {
    "duration": 513,
    "start_time": "2021-12-05T18:26:00.493Z"
   },
   {
    "duration": 4,
    "start_time": "2021-12-05T18:26:01.008Z"
   },
   {
    "duration": 22,
    "start_time": "2021-12-05T18:26:01.014Z"
   },
   {
    "duration": 246,
    "start_time": "2021-12-05T18:26:01.037Z"
   },
   {
    "duration": 169,
    "start_time": "2021-12-05T18:26:01.285Z"
   },
   {
    "duration": 164,
    "start_time": "2021-12-05T18:26:01.455Z"
   },
   {
    "duration": 166,
    "start_time": "2021-12-05T18:26:01.623Z"
   },
   {
    "duration": 176,
    "start_time": "2021-12-05T18:26:01.791Z"
   },
   {
    "duration": 7,
    "start_time": "2021-12-05T18:26:01.968Z"
   },
   {
    "duration": 14,
    "start_time": "2021-12-05T18:26:01.987Z"
   },
   {
    "duration": 13,
    "start_time": "2021-12-05T18:26:02.002Z"
   },
   {
    "duration": 19,
    "start_time": "2021-12-05T18:26:02.016Z"
   },
   {
    "duration": 21,
    "start_time": "2021-12-05T18:26:02.037Z"
   },
   {
    "duration": 35,
    "start_time": "2021-12-05T18:26:02.060Z"
   },
   {
    "duration": 3,
    "start_time": "2021-12-05T18:26:02.096Z"
   },
   {
    "duration": 8,
    "start_time": "2021-12-05T18:26:02.101Z"
   },
   {
    "duration": 680,
    "start_time": "2021-12-05T18:26:02.110Z"
   },
   {
    "duration": 6,
    "start_time": "2021-12-05T18:26:02.791Z"
   },
   {
    "duration": 169,
    "start_time": "2021-12-05T18:26:02.799Z"
   },
   {
    "duration": 167,
    "start_time": "2021-12-05T18:26:02.969Z"
   },
   {
    "duration": 160,
    "start_time": "2021-12-05T18:26:03.137Z"
   },
   {
    "duration": 165,
    "start_time": "2021-12-05T18:26:03.298Z"
   },
   {
    "duration": 10,
    "start_time": "2021-12-05T18:26:03.465Z"
   },
   {
    "duration": 12,
    "start_time": "2021-12-05T18:26:03.488Z"
   },
   {
    "duration": 306,
    "start_time": "2021-12-06T09:12:47.038Z"
   },
   {
    "duration": 659,
    "start_time": "2021-12-06T09:13:52.935Z"
   },
   {
    "duration": 82,
    "start_time": "2021-12-06T09:13:53.596Z"
   },
   {
    "duration": 10,
    "start_time": "2021-12-06T09:13:53.680Z"
   },
   {
    "duration": 11,
    "start_time": "2021-12-06T09:13:53.692Z"
   },
   {
    "duration": 16,
    "start_time": "2021-12-06T09:13:53.704Z"
   },
   {
    "duration": 16,
    "start_time": "2021-12-06T09:13:53.721Z"
   },
   {
    "duration": 9,
    "start_time": "2021-12-06T09:14:00.652Z"
   },
   {
    "duration": 8,
    "start_time": "2021-12-06T09:14:16.477Z"
   },
   {
    "duration": 8,
    "start_time": "2021-12-06T09:16:04.453Z"
   },
   {
    "duration": 8,
    "start_time": "2021-12-06T09:16:07.588Z"
   },
   {
    "duration": 892,
    "start_time": "2021-12-07T14:04:51.783Z"
   },
   {
    "duration": 117,
    "start_time": "2021-12-07T14:04:52.677Z"
   },
   {
    "duration": 15,
    "start_time": "2021-12-07T14:04:52.797Z"
   },
   {
    "duration": 31,
    "start_time": "2021-12-07T14:04:52.815Z"
   },
   {
    "duration": 19,
    "start_time": "2021-12-07T14:04:52.849Z"
   },
   {
    "duration": 8,
    "start_time": "2021-12-07T14:04:52.870Z"
   },
   {
    "duration": 12,
    "start_time": "2021-12-07T14:04:52.881Z"
   },
   {
    "duration": 10,
    "start_time": "2021-12-07T14:04:52.896Z"
   },
   {
    "duration": 13,
    "start_time": "2021-12-07T14:04:52.909Z"
   },
   {
    "duration": 49,
    "start_time": "2021-12-07T14:04:52.924Z"
   },
   {
    "duration": 4,
    "start_time": "2021-12-07T14:04:52.976Z"
   },
   {
    "duration": 115,
    "start_time": "2021-12-07T14:04:52.983Z"
   },
   {
    "duration": 96,
    "start_time": "2021-12-07T14:05:22.947Z"
   },
   {
    "duration": 150,
    "start_time": "2021-12-07T14:05:27.826Z"
   },
   {
    "duration": 96,
    "start_time": "2021-12-07T14:05:34.073Z"
   },
   {
    "duration": 81,
    "start_time": "2021-12-07T14:05:38.613Z"
   },
   {
    "duration": 118,
    "start_time": "2021-12-07T14:05:38.697Z"
   },
   {
    "duration": 15,
    "start_time": "2021-12-07T14:05:38.818Z"
   },
   {
    "duration": 32,
    "start_time": "2021-12-07T14:05:38.836Z"
   },
   {
    "duration": 18,
    "start_time": "2021-12-07T14:05:38.871Z"
   },
   {
    "duration": 22,
    "start_time": "2021-12-07T14:05:38.892Z"
   },
   {
    "duration": 15,
    "start_time": "2021-12-07T14:05:38.916Z"
   },
   {
    "duration": 24,
    "start_time": "2021-12-07T14:05:38.934Z"
   },
   {
    "duration": 30,
    "start_time": "2021-12-07T14:05:38.961Z"
   },
   {
    "duration": 7,
    "start_time": "2021-12-07T14:05:38.994Z"
   },
   {
    "duration": 22,
    "start_time": "2021-12-07T14:05:39.003Z"
   },
   {
    "duration": 92,
    "start_time": "2021-12-07T14:05:45.060Z"
   },
   {
    "duration": 8,
    "start_time": "2021-12-07T14:06:21.313Z"
   },
   {
    "duration": 8,
    "start_time": "2021-12-07T14:06:37.778Z"
   },
   {
    "duration": 43,
    "start_time": "2021-12-07T14:19:29.886Z"
   },
   {
    "duration": 62,
    "start_time": "2021-12-07T14:27:13.112Z"
   },
   {
    "duration": 51,
    "start_time": "2021-12-07T14:28:13.714Z"
   },
   {
    "duration": 37,
    "start_time": "2021-12-07T14:28:28.718Z"
   },
   {
    "duration": 40,
    "start_time": "2021-12-07T14:28:31.418Z"
   },
   {
    "duration": 38,
    "start_time": "2021-12-07T14:28:46.359Z"
   },
   {
    "duration": 116,
    "start_time": "2021-12-07T14:28:55.921Z"
   },
   {
    "duration": 278,
    "start_time": "2021-12-07T14:28:56.041Z"
   },
   {
    "duration": 25,
    "start_time": "2021-12-07T14:28:56.323Z"
   },
   {
    "duration": 31,
    "start_time": "2021-12-07T14:28:56.352Z"
   },
   {
    "duration": 10,
    "start_time": "2021-12-07T14:28:56.386Z"
   },
   {
    "duration": 10,
    "start_time": "2021-12-07T14:28:56.399Z"
   },
   {
    "duration": 55,
    "start_time": "2021-12-07T14:28:56.412Z"
   },
   {
    "duration": 14,
    "start_time": "2021-12-07T14:28:56.472Z"
   },
   {
    "duration": 17,
    "start_time": "2021-12-07T14:28:56.489Z"
   },
   {
    "duration": 10,
    "start_time": "2021-12-07T14:28:56.509Z"
   },
   {
    "duration": 4,
    "start_time": "2021-12-07T14:28:56.522Z"
   },
   {
    "duration": 8,
    "start_time": "2021-12-07T14:28:56.568Z"
   },
   {
    "duration": 58,
    "start_time": "2021-12-07T14:28:58.845Z"
   },
   {
    "duration": 38,
    "start_time": "2021-12-07T14:29:01.847Z"
   },
   {
    "duration": 41,
    "start_time": "2021-12-07T14:29:22.967Z"
   },
   {
    "duration": 9,
    "start_time": "2021-12-07T14:30:45.575Z"
   },
   {
    "duration": 82,
    "start_time": "2021-12-07T14:33:24.266Z"
   },
   {
    "duration": 130,
    "start_time": "2021-12-07T14:33:24.351Z"
   },
   {
    "duration": 16,
    "start_time": "2021-12-07T14:33:24.484Z"
   },
   {
    "duration": 14,
    "start_time": "2021-12-07T14:33:24.502Z"
   },
   {
    "duration": 13,
    "start_time": "2021-12-07T14:33:24.518Z"
   },
   {
    "duration": 38,
    "start_time": "2021-12-07T14:33:24.534Z"
   },
   {
    "duration": 15,
    "start_time": "2021-12-07T14:33:24.575Z"
   },
   {
    "duration": 10,
    "start_time": "2021-12-07T14:33:24.593Z"
   },
   {
    "duration": 12,
    "start_time": "2021-12-07T14:33:24.605Z"
   },
   {
    "duration": 47,
    "start_time": "2021-12-07T14:33:24.620Z"
   },
   {
    "duration": 3,
    "start_time": "2021-12-07T14:33:24.669Z"
   },
   {
    "duration": 11,
    "start_time": "2021-12-07T14:33:24.674Z"
   },
   {
    "duration": 41,
    "start_time": "2021-12-07T14:33:24.688Z"
   },
   {
    "duration": 37,
    "start_time": "2021-12-07T14:33:24.731Z"
   },
   {
    "duration": 376,
    "start_time": "2021-12-07T14:33:24.771Z"
   },
   {
    "duration": -1726,
    "start_time": "2021-12-07T14:33:26.875Z"
   },
   {
    "duration": -1729,
    "start_time": "2021-12-07T14:33:26.880Z"
   },
   {
    "duration": 7,
    "start_time": "2021-12-07T14:43:37.630Z"
   },
   {
    "duration": 297,
    "start_time": "2021-12-07T14:55:59.231Z"
   },
   {
    "duration": 300,
    "start_time": "2021-12-07T14:56:27.038Z"
   },
   {
    "duration": 7,
    "start_time": "2021-12-07T14:58:42.406Z"
   },
   {
    "duration": 11,
    "start_time": "2021-12-07T14:58:47.527Z"
   },
   {
    "duration": 60,
    "start_time": "2021-12-07T14:58:50.916Z"
   },
   {
    "duration": 80,
    "start_time": "2021-12-07T14:59:23.555Z"
   },
   {
    "duration": 131,
    "start_time": "2021-12-07T14:59:23.637Z"
   },
   {
    "duration": 16,
    "start_time": "2021-12-07T14:59:23.771Z"
   },
   {
    "duration": 13,
    "start_time": "2021-12-07T14:59:23.790Z"
   },
   {
    "duration": 7,
    "start_time": "2021-12-07T14:59:23.806Z"
   },
   {
    "duration": 52,
    "start_time": "2021-12-07T14:59:23.816Z"
   },
   {
    "duration": 11,
    "start_time": "2021-12-07T14:59:23.870Z"
   },
   {
    "duration": 15,
    "start_time": "2021-12-07T14:59:23.885Z"
   },
   {
    "duration": 38,
    "start_time": "2021-12-07T14:59:23.903Z"
   },
   {
    "duration": 8,
    "start_time": "2021-12-07T14:59:23.943Z"
   },
   {
    "duration": 10,
    "start_time": "2021-12-07T14:59:23.953Z"
   },
   {
    "duration": 15,
    "start_time": "2021-12-07T14:59:23.968Z"
   },
   {
    "duration": 53,
    "start_time": "2021-12-07T14:59:23.985Z"
   },
   {
    "duration": 9,
    "start_time": "2021-12-07T14:59:24.040Z"
   },
   {
    "duration": 26,
    "start_time": "2021-12-07T14:59:24.051Z"
   },
   {
    "duration": 29,
    "start_time": "2021-12-07T14:59:24.080Z"
   },
   {
    "duration": 77,
    "start_time": "2021-12-07T14:59:26.852Z"
   },
   {
    "duration": 97,
    "start_time": "2021-12-07T15:05:19.414Z"
   },
   {
    "duration": 99,
    "start_time": "2021-12-07T15:08:51.908Z"
   },
   {
    "duration": 287,
    "start_time": "2021-12-07T15:10:54.428Z"
   },
   {
    "duration": 279,
    "start_time": "2021-12-07T15:15:08.624Z"
   },
   {
    "duration": 38,
    "start_time": "2021-12-07T15:21:05.810Z"
   },
   {
    "duration": 39,
    "start_time": "2021-12-07T15:21:23.305Z"
   },
   {
    "duration": 88,
    "start_time": "2021-12-07T15:21:42.567Z"
   },
   {
    "duration": 126,
    "start_time": "2021-12-07T15:21:42.658Z"
   },
   {
    "duration": 16,
    "start_time": "2021-12-07T15:21:42.787Z"
   },
   {
    "duration": 13,
    "start_time": "2021-12-07T15:21:42.806Z"
   },
   {
    "duration": 47,
    "start_time": "2021-12-07T15:21:42.821Z"
   },
   {
    "duration": 7,
    "start_time": "2021-12-07T15:21:42.871Z"
   },
   {
    "duration": 16,
    "start_time": "2021-12-07T15:21:42.881Z"
   },
   {
    "duration": 11,
    "start_time": "2021-12-07T15:21:42.900Z"
   },
   {
    "duration": 54,
    "start_time": "2021-12-07T15:21:42.913Z"
   },
   {
    "duration": 8,
    "start_time": "2021-12-07T15:21:42.969Z"
   },
   {
    "duration": 12,
    "start_time": "2021-12-07T15:21:42.979Z"
   },
   {
    "duration": 16,
    "start_time": "2021-12-07T15:21:42.993Z"
   },
   {
    "duration": 56,
    "start_time": "2021-12-07T15:21:43.011Z"
   },
   {
    "duration": 9,
    "start_time": "2021-12-07T15:21:43.069Z"
   },
   {
    "duration": 19,
    "start_time": "2021-12-07T15:21:43.080Z"
   },
   {
    "duration": 11,
    "start_time": "2021-12-07T15:21:43.102Z"
   },
   {
    "duration": 39,
    "start_time": "2021-12-07T15:21:46.280Z"
   },
   {
    "duration": 38,
    "start_time": "2021-12-07T15:22:34.033Z"
   },
   {
    "duration": 327,
    "start_time": "2021-12-07T15:25:19.667Z"
   },
   {
    "duration": 317,
    "start_time": "2021-12-07T15:25:58.932Z"
   },
   {
    "duration": 83,
    "start_time": "2021-12-07T15:26:25.822Z"
   },
   {
    "duration": 118,
    "start_time": "2021-12-07T15:26:25.908Z"
   },
   {
    "duration": 16,
    "start_time": "2021-12-07T15:26:26.029Z"
   },
   {
    "duration": 34,
    "start_time": "2021-12-07T15:26:26.048Z"
   },
   {
    "duration": 11,
    "start_time": "2021-12-07T15:26:26.084Z"
   },
   {
    "duration": 19,
    "start_time": "2021-12-07T15:26:26.099Z"
   },
   {
    "duration": 22,
    "start_time": "2021-12-07T15:26:26.123Z"
   },
   {
    "duration": 11,
    "start_time": "2021-12-07T15:26:26.170Z"
   },
   {
    "duration": 16,
    "start_time": "2021-12-07T15:26:26.184Z"
   },
   {
    "duration": 15,
    "start_time": "2021-12-07T15:26:26.202Z"
   },
   {
    "duration": 13,
    "start_time": "2021-12-07T15:26:26.220Z"
   },
   {
    "duration": 37,
    "start_time": "2021-12-07T15:26:26.235Z"
   },
   {
    "duration": 46,
    "start_time": "2021-12-07T15:26:26.275Z"
   },
   {
    "duration": 294,
    "start_time": "2021-12-07T15:26:31.680Z"
   },
   {
    "duration": 114,
    "start_time": "2021-12-07T15:26:52.298Z"
   },
   {
    "duration": 10,
    "start_time": "2021-12-07T15:26:56.472Z"
   },
   {
    "duration": 13,
    "start_time": "2021-12-07T15:28:10.352Z"
   },
   {
    "duration": 11,
    "start_time": "2021-12-07T15:28:13.288Z"
   },
   {
    "duration": 51,
    "start_time": "2021-12-07T15:28:16.792Z"
   },
   {
    "duration": 6,
    "start_time": "2021-12-07T15:32:32.097Z"
   },
   {
    "duration": 703,
    "start_time": "2021-12-07T15:58:57.085Z"
   },
   {
    "duration": 418,
    "start_time": "2021-12-07T15:59:28.162Z"
   },
   {
    "duration": 573,
    "start_time": "2021-12-07T16:07:35.282Z"
   },
   {
    "duration": 308,
    "start_time": "2021-12-07T16:07:49.049Z"
   },
   {
    "duration": 457,
    "start_time": "2021-12-07T16:07:59.553Z"
   },
   {
    "duration": 311,
    "start_time": "2021-12-07T16:12:12.320Z"
   },
   {
    "duration": 549,
    "start_time": "2021-12-07T16:12:30.192Z"
   },
   {
    "duration": 337,
    "start_time": "2021-12-07T16:13:00.088Z"
   },
   {
    "duration": 568,
    "start_time": "2021-12-07T16:14:51.264Z"
   },
   {
    "duration": 587,
    "start_time": "2021-12-07T16:15:02.480Z"
   },
   {
    "duration": 332,
    "start_time": "2021-12-07T16:15:22.613Z"
   },
   {
    "duration": 594,
    "start_time": "2021-12-07T16:19:50.939Z"
   },
   {
    "duration": 770,
    "start_time": "2021-12-07T16:21:20.287Z"
   },
   {
    "duration": 673,
    "start_time": "2021-12-07T16:21:31.009Z"
   },
   {
    "duration": 556,
    "start_time": "2021-12-07T16:21:50.036Z"
   },
   {
    "duration": 329,
    "start_time": "2021-12-07T16:24:25.121Z"
   },
   {
    "duration": 364,
    "start_time": "2021-12-07T16:24:37.263Z"
   },
   {
    "duration": 315,
    "start_time": "2021-12-07T16:24:44.319Z"
   },
   {
    "duration": 592,
    "start_time": "2021-12-07T16:26:07.384Z"
   },
   {
    "duration": 717,
    "start_time": "2021-12-07T16:26:29.103Z"
   },
   {
    "duration": 78,
    "start_time": "2021-12-07T16:31:59.633Z"
   },
   {
    "duration": 127,
    "start_time": "2021-12-07T16:31:59.713Z"
   },
   {
    "duration": 28,
    "start_time": "2021-12-07T16:31:59.843Z"
   },
   {
    "duration": 12,
    "start_time": "2021-12-07T16:31:59.873Z"
   },
   {
    "duration": 8,
    "start_time": "2021-12-07T16:31:59.888Z"
   },
   {
    "duration": 10,
    "start_time": "2021-12-07T16:31:59.899Z"
   },
   {
    "duration": 59,
    "start_time": "2021-12-07T16:31:59.912Z"
   },
   {
    "duration": 13,
    "start_time": "2021-12-07T16:31:59.974Z"
   },
   {
    "duration": 18,
    "start_time": "2021-12-07T16:31:59.992Z"
   },
   {
    "duration": 12,
    "start_time": "2021-12-07T16:32:00.014Z"
   },
   {
    "duration": 26,
    "start_time": "2021-12-07T16:32:00.028Z"
   },
   {
    "duration": 9,
    "start_time": "2021-12-07T16:32:00.068Z"
   },
   {
    "duration": 57,
    "start_time": "2021-12-07T16:32:00.079Z"
   },
   {
    "duration": 11,
    "start_time": "2021-12-07T16:32:00.138Z"
   },
   {
    "duration": 23,
    "start_time": "2021-12-07T16:32:00.152Z"
   },
   {
    "duration": 21,
    "start_time": "2021-12-07T16:32:00.178Z"
   },
   {
    "duration": 83,
    "start_time": "2021-12-07T16:32:00.201Z"
   },
   {
    "duration": 7,
    "start_time": "2021-12-07T16:32:00.287Z"
   },
   {
    "duration": 51,
    "start_time": "2021-12-07T16:32:00.297Z"
   },
   {
    "duration": 17,
    "start_time": "2021-12-07T16:32:00.351Z"
   },
   {
    "duration": 45,
    "start_time": "2021-12-07T16:32:00.371Z"
   },
   {
    "duration": 979,
    "start_time": "2021-12-07T16:32:00.418Z"
   },
   {
    "duration": 34,
    "start_time": "2021-12-07T16:32:01.399Z"
   },
   {
    "duration": 3,
    "start_time": "2021-12-07T16:32:01.436Z"
   },
   {
    "duration": 290,
    "start_time": "2021-12-07T16:32:42.511Z"
   },
   {
    "duration": 330,
    "start_time": "2021-12-07T16:35:30.125Z"
   },
   {
    "duration": 395,
    "start_time": "2021-12-07T16:35:39.501Z"
   },
   {
    "duration": 686,
    "start_time": "2021-12-07T16:42:26.037Z"
   },
   {
    "duration": 603,
    "start_time": "2021-12-07T16:42:34.166Z"
   },
   {
    "duration": 579,
    "start_time": "2021-12-07T16:43:28.270Z"
   },
   {
    "duration": 293,
    "start_time": "2021-12-07T16:43:37.614Z"
   },
   {
    "duration": 107,
    "start_time": "2021-12-07T16:44:07.120Z"
   },
   {
    "duration": 307,
    "start_time": "2021-12-07T16:44:12.052Z"
   },
   {
    "duration": 557,
    "start_time": "2021-12-07T16:44:32.413Z"
   },
   {
    "duration": 571,
    "start_time": "2021-12-07T16:44:40.294Z"
   },
   {
    "duration": 289,
    "start_time": "2021-12-07T16:44:57.447Z"
   },
   {
    "duration": 77,
    "start_time": "2021-12-07T16:53:41.557Z"
   },
   {
    "duration": -1680,
    "start_time": "2021-12-07T16:53:43.617Z"
   },
   {
    "duration": -1681,
    "start_time": "2021-12-07T16:53:43.625Z"
   },
   {
    "duration": -1685,
    "start_time": "2021-12-07T16:53:43.631Z"
   },
   {
    "duration": -1687,
    "start_time": "2021-12-07T16:53:43.637Z"
   },
   {
    "duration": -1689,
    "start_time": "2021-12-07T16:53:43.643Z"
   },
   {
    "duration": -1696,
    "start_time": "2021-12-07T16:53:43.654Z"
   },
   {
    "duration": -1697,
    "start_time": "2021-12-07T16:53:43.658Z"
   },
   {
    "duration": -1695,
    "start_time": "2021-12-07T16:53:43.662Z"
   },
   {
    "duration": -1692,
    "start_time": "2021-12-07T16:53:43.665Z"
   },
   {
    "duration": -1691,
    "start_time": "2021-12-07T16:53:43.669Z"
   },
   {
    "duration": -1689,
    "start_time": "2021-12-07T16:53:43.672Z"
   },
   {
    "duration": -1688,
    "start_time": "2021-12-07T16:53:43.675Z"
   },
   {
    "duration": -1693,
    "start_time": "2021-12-07T16:53:43.683Z"
   },
   {
    "duration": -1691,
    "start_time": "2021-12-07T16:53:43.686Z"
   },
   {
    "duration": -1690,
    "start_time": "2021-12-07T16:53:43.689Z"
   },
   {
    "duration": -1689,
    "start_time": "2021-12-07T16:53:43.692Z"
   },
   {
    "duration": -1731,
    "start_time": "2021-12-07T16:53:43.738Z"
   },
   {
    "duration": -1671,
    "start_time": "2021-12-07T16:53:43.741Z"
   },
   {
    "duration": -1697,
    "start_time": "2021-12-07T16:53:43.770Z"
   },
   {
    "duration": -1696,
    "start_time": "2021-12-07T16:53:43.773Z"
   },
   {
    "duration": -1695,
    "start_time": "2021-12-07T16:53:43.776Z"
   },
   {
    "duration": -1759,
    "start_time": "2021-12-07T16:53:43.845Z"
   },
   {
    "duration": -1759,
    "start_time": "2021-12-07T16:53:43.849Z"
   },
   {
    "duration": -1758,
    "start_time": "2021-12-07T16:53:43.852Z"
   },
   {
    "duration": -1757,
    "start_time": "2021-12-07T16:53:43.855Z"
   },
   {
    "duration": -1755,
    "start_time": "2021-12-07T16:53:43.857Z"
   },
   {
    "duration": -1758,
    "start_time": "2021-12-07T16:53:43.930Z"
   },
   {
    "duration": -1757,
    "start_time": "2021-12-07T16:53:43.933Z"
   },
   {
    "duration": -1756,
    "start_time": "2021-12-07T16:53:43.936Z"
   },
   {
    "duration": -1754,
    "start_time": "2021-12-07T16:53:43.939Z"
   },
   {
    "duration": -1753,
    "start_time": "2021-12-07T16:53:43.942Z"
   },
   {
    "duration": -1752,
    "start_time": "2021-12-07T16:53:43.945Z"
   },
   {
    "duration": -1751,
    "start_time": "2021-12-07T16:53:43.949Z"
   },
   {
    "duration": -1771,
    "start_time": "2021-12-07T16:53:43.972Z"
   },
   {
    "duration": -1709,
    "start_time": "2021-12-07T16:53:43.975Z"
   },
   {
    "duration": -1707,
    "start_time": "2021-12-07T16:53:43.978Z"
   },
   {
    "duration": -1706,
    "start_time": "2021-12-07T16:53:43.981Z"
   },
   {
    "duration": -1705,
    "start_time": "2021-12-07T16:53:43.984Z"
   },
   {
    "duration": -1704,
    "start_time": "2021-12-07T16:53:43.987Z"
   },
   {
    "duration": -1703,
    "start_time": "2021-12-07T16:53:43.991Z"
   },
   {
    "duration": -1702,
    "start_time": "2021-12-07T16:53:43.994Z"
   },
   {
    "duration": -1713,
    "start_time": "2021-12-07T16:53:44.010Z"
   },
   {
    "duration": -1712,
    "start_time": "2021-12-07T16:53:44.013Z"
   },
   {
    "duration": -1658,
    "start_time": "2021-12-07T16:53:44.024Z"
   },
   {
    "duration": 85,
    "start_time": "2021-12-07T16:54:02.415Z"
   },
   {
    "duration": 143,
    "start_time": "2021-12-07T16:54:02.504Z"
   },
   {
    "duration": 33,
    "start_time": "2021-12-07T16:54:02.651Z"
   },
   {
    "duration": 15,
    "start_time": "2021-12-07T16:54:02.687Z"
   },
   {
    "duration": 20,
    "start_time": "2021-12-07T16:54:02.704Z"
   },
   {
    "duration": 27,
    "start_time": "2021-12-07T16:54:02.727Z"
   },
   {
    "duration": 25,
    "start_time": "2021-12-07T16:54:02.757Z"
   },
   {
    "duration": 12,
    "start_time": "2021-12-07T16:54:02.786Z"
   },
   {
    "duration": 12,
    "start_time": "2021-12-07T16:54:02.801Z"
   },
   {
    "duration": 8,
    "start_time": "2021-12-07T16:54:02.815Z"
   },
   {
    "duration": 7,
    "start_time": "2021-12-07T16:54:02.825Z"
   },
   {
    "duration": 36,
    "start_time": "2021-12-07T16:54:02.834Z"
   },
   {
    "duration": 39,
    "start_time": "2021-12-07T16:54:02.873Z"
   },
   {
    "duration": 9,
    "start_time": "2021-12-07T16:54:02.914Z"
   },
   {
    "duration": 42,
    "start_time": "2021-12-07T16:54:02.925Z"
   },
   {
    "duration": 12,
    "start_time": "2021-12-07T16:54:02.969Z"
   },
   {
    "duration": 55,
    "start_time": "2021-12-07T16:54:02.983Z"
   },
   {
    "duration": 27,
    "start_time": "2021-12-07T16:54:03.040Z"
   },
   {
    "duration": 38,
    "start_time": "2021-12-07T16:54:03.070Z"
   },
   {
    "duration": 6,
    "start_time": "2021-12-07T16:54:03.110Z"
   },
   {
    "duration": 48,
    "start_time": "2021-12-07T16:54:03.119Z"
   },
   {
    "duration": 977,
    "start_time": "2021-12-07T16:54:03.170Z"
   },
   {
    "duration": 46,
    "start_time": "2021-12-07T16:54:04.153Z"
   },
   {
    "duration": 8,
    "start_time": "2021-12-07T16:54:04.202Z"
   },
   {
    "duration": 315,
    "start_time": "2021-12-07T16:54:04.213Z"
   },
   {
    "duration": 331,
    "start_time": "2021-12-07T16:54:04.531Z"
   },
   {
    "duration": 336,
    "start_time": "2021-12-07T16:54:04.865Z"
   },
   {
    "duration": 300,
    "start_time": "2021-12-07T16:54:05.203Z"
   },
   {
    "duration": 342,
    "start_time": "2021-12-07T16:54:05.506Z"
   },
   {
    "duration": 22,
    "start_time": "2021-12-07T16:54:05.850Z"
   },
   {
    "duration": 21,
    "start_time": "2021-12-07T16:54:05.874Z"
   },
   {
    "duration": 15,
    "start_time": "2021-12-07T16:54:05.897Z"
   },
   {
    "duration": 54,
    "start_time": "2021-12-07T16:54:05.914Z"
   },
   {
    "duration": 37,
    "start_time": "2021-12-07T16:54:05.971Z"
   },
   {
    "duration": 29,
    "start_time": "2021-12-07T16:54:06.010Z"
   },
   {
    "duration": 289,
    "start_time": "2021-12-07T16:54:06.067Z"
   },
   {
    "duration": -1712,
    "start_time": "2021-12-07T16:54:08.070Z"
   },
   {
    "duration": -1714,
    "start_time": "2021-12-07T16:54:08.073Z"
   },
   {
    "duration": -1715,
    "start_time": "2021-12-07T16:54:08.076Z"
   },
   {
    "duration": -1717,
    "start_time": "2021-12-07T16:54:08.079Z"
   },
   {
    "duration": -1718,
    "start_time": "2021-12-07T16:54:08.082Z"
   },
   {
    "duration": -1721,
    "start_time": "2021-12-07T16:54:08.086Z"
   },
   {
    "duration": -1721,
    "start_time": "2021-12-07T16:54:08.088Z"
   },
   {
    "duration": -1724,
    "start_time": "2021-12-07T16:54:08.092Z"
   },
   {
    "duration": -1725,
    "start_time": "2021-12-07T16:54:08.095Z"
   },
   {
    "duration": 603,
    "start_time": "2021-12-07T16:55:49.928Z"
   },
   {
    "duration": 86,
    "start_time": "2021-12-07T16:56:09.439Z"
   },
   {
    "duration": 346,
    "start_time": "2021-12-07T16:56:12.216Z"
   },
   {
    "duration": 355,
    "start_time": "2021-12-07T16:57:12.312Z"
   },
   {
    "duration": 467,
    "start_time": "2021-12-07T16:57:24.846Z"
   },
   {
    "duration": 380,
    "start_time": "2021-12-07T16:58:06.255Z"
   },
   {
    "duration": 369,
    "start_time": "2021-12-07T16:58:10.271Z"
   },
   {
    "duration": 656,
    "start_time": "2021-12-07T16:58:30.111Z"
   },
   {
    "duration": 488,
    "start_time": "2021-12-07T16:59:23.248Z"
   },
   {
    "duration": 350,
    "start_time": "2021-12-07T17:05:05.487Z"
   },
   {
    "duration": 349,
    "start_time": "2021-12-07T17:06:40.704Z"
   },
   {
    "duration": 356,
    "start_time": "2021-12-07T17:07:10.088Z"
   },
   {
    "duration": 342,
    "start_time": "2021-12-07T17:07:17.505Z"
   },
   {
    "duration": 344,
    "start_time": "2021-12-07T17:08:26.015Z"
   },
   {
    "duration": 371,
    "start_time": "2021-12-07T17:08:49.239Z"
   },
   {
    "duration": 356,
    "start_time": "2021-12-07T17:09:01.186Z"
   },
   {
    "duration": 361,
    "start_time": "2021-12-07T17:09:19.888Z"
   },
   {
    "duration": 328,
    "start_time": "2021-12-07T17:10:22.583Z"
   },
   {
    "duration": 353,
    "start_time": "2021-12-07T17:13:50.823Z"
   },
   {
    "duration": 353,
    "start_time": "2021-12-07T17:14:00.107Z"
   },
   {
    "duration": 863,
    "start_time": "2021-12-08T06:48:21.773Z"
   },
   {
    "duration": 110,
    "start_time": "2021-12-08T06:48:22.639Z"
   },
   {
    "duration": 15,
    "start_time": "2021-12-08T06:48:22.752Z"
   },
   {
    "duration": 13,
    "start_time": "2021-12-08T06:48:22.770Z"
   },
   {
    "duration": 36,
    "start_time": "2021-12-08T06:48:22.786Z"
   },
   {
    "duration": 8,
    "start_time": "2021-12-08T06:48:22.825Z"
   },
   {
    "duration": 11,
    "start_time": "2021-12-08T06:48:22.835Z"
   },
   {
    "duration": 10,
    "start_time": "2021-12-08T06:48:22.850Z"
   },
   {
    "duration": 58,
    "start_time": "2021-12-08T06:48:22.863Z"
   },
   {
    "duration": 7,
    "start_time": "2021-12-08T06:48:22.924Z"
   },
   {
    "duration": 5,
    "start_time": "2021-12-08T06:48:22.933Z"
   },
   {
    "duration": 9,
    "start_time": "2021-12-08T06:48:22.941Z"
   },
   {
    "duration": 67,
    "start_time": "2021-12-08T06:48:22.953Z"
   },
   {
    "duration": 8,
    "start_time": "2021-12-08T06:48:23.023Z"
   },
   {
    "duration": 12,
    "start_time": "2021-12-08T06:48:23.033Z"
   },
   {
    "duration": 15,
    "start_time": "2021-12-08T06:48:23.047Z"
   },
   {
    "duration": 84,
    "start_time": "2021-12-08T06:48:23.065Z"
   },
   {
    "duration": 6,
    "start_time": "2021-12-08T06:48:23.151Z"
   },
   {
    "duration": 59,
    "start_time": "2021-12-08T06:48:23.159Z"
   },
   {
    "duration": 6,
    "start_time": "2021-12-08T06:48:23.220Z"
   },
   {
    "duration": 18,
    "start_time": "2021-12-08T06:48:23.228Z"
   },
   {
    "duration": 1204,
    "start_time": "2021-12-08T06:48:23.249Z"
   },
   {
    "duration": 37,
    "start_time": "2021-12-08T06:48:24.459Z"
   },
   {
    "duration": 495,
    "start_time": "2021-12-08T06:48:24.517Z"
   },
   {
    "duration": 343,
    "start_time": "2021-12-08T06:48:25.017Z"
   },
   {
    "duration": 356,
    "start_time": "2021-12-08T06:48:25.363Z"
   },
   {
    "duration": 343,
    "start_time": "2021-12-08T06:48:25.722Z"
   },
   {
    "duration": 341,
    "start_time": "2021-12-08T06:48:26.067Z"
   },
   {
    "duration": 7,
    "start_time": "2021-12-08T06:48:26.411Z"
   },
   {
    "duration": 15,
    "start_time": "2021-12-08T06:48:26.421Z"
   },
   {
    "duration": 4,
    "start_time": "2021-12-08T06:59:59.430Z"
   },
   {
    "duration": 84,
    "start_time": "2021-12-08T07:00:10.955Z"
   },
   {
    "duration": 117,
    "start_time": "2021-12-08T07:00:11.042Z"
   },
   {
    "duration": 18,
    "start_time": "2021-12-08T07:00:11.163Z"
   },
   {
    "duration": 34,
    "start_time": "2021-12-08T07:00:11.184Z"
   },
   {
    "duration": 9,
    "start_time": "2021-12-08T07:00:11.221Z"
   },
   {
    "duration": 10,
    "start_time": "2021-12-08T07:00:11.234Z"
   },
   {
    "duration": 14,
    "start_time": "2021-12-08T07:00:11.247Z"
   },
   {
    "duration": 56,
    "start_time": "2021-12-08T07:00:11.266Z"
   },
   {
    "duration": 12,
    "start_time": "2021-12-08T07:00:11.325Z"
   },
   {
    "duration": 7,
    "start_time": "2021-12-08T07:00:11.339Z"
   },
   {
    "duration": 6,
    "start_time": "2021-12-08T07:00:11.348Z"
   },
   {
    "duration": 9,
    "start_time": "2021-12-08T07:00:11.356Z"
   },
   {
    "duration": 66,
    "start_time": "2021-12-08T07:00:11.368Z"
   },
   {
    "duration": 8,
    "start_time": "2021-12-08T07:00:11.437Z"
   },
   {
    "duration": 10,
    "start_time": "2021-12-08T07:00:11.447Z"
   },
   {
    "duration": 11,
    "start_time": "2021-12-08T07:00:11.460Z"
   },
   {
    "duration": 77,
    "start_time": "2021-12-08T07:00:11.473Z"
   },
   {
    "duration": 4,
    "start_time": "2021-12-08T07:00:11.553Z"
   },
   {
    "duration": 37,
    "start_time": "2021-12-08T07:00:11.559Z"
   },
   {
    "duration": 79,
    "start_time": "2021-12-08T07:02:54.939Z"
   },
   {
    "duration": 110,
    "start_time": "2021-12-08T07:02:55.020Z"
   },
   {
    "duration": 15,
    "start_time": "2021-12-08T07:02:55.133Z"
   },
   {
    "duration": 10,
    "start_time": "2021-12-08T07:02:55.151Z"
   },
   {
    "duration": 7,
    "start_time": "2021-12-08T07:02:55.163Z"
   },
   {
    "duration": 47,
    "start_time": "2021-12-08T07:02:55.173Z"
   },
   {
    "duration": 11,
    "start_time": "2021-12-08T07:02:55.223Z"
   },
   {
    "duration": 10,
    "start_time": "2021-12-08T07:02:55.238Z"
   },
   {
    "duration": 13,
    "start_time": "2021-12-08T07:02:55.253Z"
   },
   {
    "duration": 49,
    "start_time": "2021-12-08T07:02:55.268Z"
   },
   {
    "duration": 4,
    "start_time": "2021-12-08T07:02:55.320Z"
   },
   {
    "duration": 10,
    "start_time": "2021-12-08T07:02:55.327Z"
   },
   {
    "duration": 34,
    "start_time": "2021-12-08T07:02:55.339Z"
   },
   {
    "duration": 46,
    "start_time": "2021-12-08T07:02:55.376Z"
   },
   {
    "duration": 12,
    "start_time": "2021-12-08T07:02:55.425Z"
   },
   {
    "duration": 12,
    "start_time": "2021-12-08T07:02:55.440Z"
   },
   {
    "duration": 77,
    "start_time": "2021-12-08T07:02:55.454Z"
   },
   {
    "duration": 8538,
    "start_time": "2021-12-08T07:06:53.195Z"
   },
   {
    "duration": 89,
    "start_time": "2021-12-08T07:07:10.965Z"
   },
   {
    "duration": 130,
    "start_time": "2021-12-08T07:07:11.058Z"
   },
   {
    "duration": 31,
    "start_time": "2021-12-08T07:07:11.192Z"
   },
   {
    "duration": 12,
    "start_time": "2021-12-08T07:07:11.227Z"
   },
   {
    "duration": 10,
    "start_time": "2021-12-08T07:07:11.241Z"
   },
   {
    "duration": 12,
    "start_time": "2021-12-08T07:07:11.254Z"
   },
   {
    "duration": 48,
    "start_time": "2021-12-08T07:07:11.268Z"
   },
   {
    "duration": 10,
    "start_time": "2021-12-08T07:07:11.321Z"
   },
   {
    "duration": 12,
    "start_time": "2021-12-08T07:07:11.334Z"
   },
   {
    "duration": 7,
    "start_time": "2021-12-08T07:07:11.349Z"
   },
   {
    "duration": 4,
    "start_time": "2021-12-08T07:07:11.359Z"
   },
   {
    "duration": 13,
    "start_time": "2021-12-08T07:07:11.365Z"
   },
   {
    "duration": 63,
    "start_time": "2021-12-08T07:07:11.381Z"
   },
   {
    "duration": 8,
    "start_time": "2021-12-08T07:07:11.446Z"
   },
   {
    "duration": 11,
    "start_time": "2021-12-08T07:07:11.457Z"
   },
   {
    "duration": 12,
    "start_time": "2021-12-08T07:07:11.470Z"
   },
   {
    "duration": 43,
    "start_time": "2021-12-08T07:07:11.518Z"
   },
   {
    "duration": 3,
    "start_time": "2021-12-08T07:07:11.563Z"
   },
   {
    "duration": 67,
    "start_time": "2021-12-08T07:07:11.569Z"
   },
   {
    "duration": 6,
    "start_time": "2021-12-08T07:07:11.638Z"
   },
   {
    "duration": 20,
    "start_time": "2021-12-08T07:07:11.646Z"
   },
   {
    "duration": 955,
    "start_time": "2021-12-08T07:07:11.669Z"
   },
   {
    "duration": 30,
    "start_time": "2021-12-08T07:07:12.629Z"
   },
   {
    "duration": 324,
    "start_time": "2021-12-08T07:07:12.662Z"
   },
   {
    "duration": 347,
    "start_time": "2021-12-08T07:07:12.989Z"
   },
   {
    "duration": 347,
    "start_time": "2021-12-08T07:07:13.338Z"
   },
   {
    "duration": 379,
    "start_time": "2021-12-08T07:07:13.687Z"
   },
   {
    "duration": 350,
    "start_time": "2021-12-08T07:07:14.069Z"
   },
   {
    "duration": 11,
    "start_time": "2021-12-08T07:07:14.422Z"
   },
   {
    "duration": 19,
    "start_time": "2021-12-08T07:07:14.435Z"
   },
   {
    "duration": 15,
    "start_time": "2021-12-08T07:07:14.457Z"
   },
   {
    "duration": 58,
    "start_time": "2021-12-08T07:07:14.474Z"
   },
   {
    "duration": 305,
    "start_time": "2021-12-08T07:07:17.589Z"
   },
   {
    "duration": 362,
    "start_time": "2021-12-08T07:08:44.191Z"
   },
   {
    "duration": 258,
    "start_time": "2021-12-08T07:11:56.639Z"
   },
   {
    "duration": 101,
    "start_time": "2021-12-08T07:12:40.015Z"
   },
   {
    "duration": 295,
    "start_time": "2021-12-08T07:14:42.065Z"
   },
   {
    "duration": 87,
    "start_time": "2021-12-08T07:14:51.384Z"
   },
   {
    "duration": 133,
    "start_time": "2021-12-08T07:14:51.474Z"
   },
   {
    "duration": 20,
    "start_time": "2021-12-08T07:14:51.610Z"
   },
   {
    "duration": 12,
    "start_time": "2021-12-08T07:14:51.633Z"
   },
   {
    "duration": 8,
    "start_time": "2021-12-08T07:14:51.648Z"
   },
   {
    "duration": 31,
    "start_time": "2021-12-08T07:14:51.659Z"
   },
   {
    "duration": 31,
    "start_time": "2021-12-08T07:14:51.693Z"
   },
   {
    "duration": 11,
    "start_time": "2021-12-08T07:14:51.728Z"
   },
   {
    "duration": 21,
    "start_time": "2021-12-08T07:14:51.742Z"
   },
   {
    "duration": 35,
    "start_time": "2021-12-08T07:14:51.766Z"
   },
   {
    "duration": 18,
    "start_time": "2021-12-08T07:14:51.804Z"
   },
   {
    "duration": 28,
    "start_time": "2021-12-08T07:14:51.825Z"
   },
   {
    "duration": 58,
    "start_time": "2021-12-08T07:14:51.855Z"
   },
   {
    "duration": 8,
    "start_time": "2021-12-08T07:14:51.916Z"
   },
   {
    "duration": 28,
    "start_time": "2021-12-08T07:14:51.926Z"
   },
   {
    "duration": 15,
    "start_time": "2021-12-08T07:14:51.957Z"
   },
   {
    "duration": 50,
    "start_time": "2021-12-08T07:14:51.975Z"
   },
   {
    "duration": 4,
    "start_time": "2021-12-08T07:14:52.028Z"
   },
   {
    "duration": 65,
    "start_time": "2021-12-08T07:14:52.034Z"
   },
   {
    "duration": 23,
    "start_time": "2021-12-08T07:14:52.101Z"
   },
   {
    "duration": 33,
    "start_time": "2021-12-08T07:14:52.127Z"
   },
   {
    "duration": 960,
    "start_time": "2021-12-08T07:14:52.163Z"
   },
   {
    "duration": 31,
    "start_time": "2021-12-08T07:14:53.127Z"
   },
   {
    "duration": 321,
    "start_time": "2021-12-08T07:14:53.161Z"
   },
   {
    "duration": 340,
    "start_time": "2021-12-08T07:14:53.485Z"
   },
   {
    "duration": 366,
    "start_time": "2021-12-08T07:14:53.828Z"
   },
   {
    "duration": 297,
    "start_time": "2021-12-08T07:17:22.383Z"
   },
   {
    "duration": 359,
    "start_time": "2021-12-08T07:17:40.737Z"
   },
   {
    "duration": 811,
    "start_time": "2021-12-08T07:18:05.341Z"
   },
   {
    "duration": 274,
    "start_time": "2021-12-08T07:18:15.423Z"
   },
   {
    "duration": 260,
    "start_time": "2021-12-08T07:18:48.975Z"
   },
   {
    "duration": 290,
    "start_time": "2021-12-08T07:18:55.550Z"
   },
   {
    "duration": 25,
    "start_time": "2021-12-08T07:19:48.779Z"
   },
   {
    "duration": 79,
    "start_time": "2021-12-08T07:20:01.368Z"
   },
   {
    "duration": 135,
    "start_time": "2021-12-08T07:20:01.450Z"
   },
   {
    "duration": 29,
    "start_time": "2021-12-08T07:20:01.588Z"
   },
   {
    "duration": 63,
    "start_time": "2021-12-08T07:20:01.620Z"
   },
   {
    "duration": 41,
    "start_time": "2021-12-08T07:20:01.686Z"
   },
   {
    "duration": 26,
    "start_time": "2021-12-08T07:20:01.730Z"
   },
   {
    "duration": 22,
    "start_time": "2021-12-08T07:20:01.759Z"
   },
   {
    "duration": 81,
    "start_time": "2021-12-08T07:20:01.785Z"
   },
   {
    "duration": 68,
    "start_time": "2021-12-08T07:20:01.869Z"
   },
   {
    "duration": 36,
    "start_time": "2021-12-08T07:20:01.940Z"
   },
   {
    "duration": 142,
    "start_time": "2021-12-08T07:20:01.980Z"
   },
   {
    "duration": 61,
    "start_time": "2021-12-08T07:20:02.125Z"
   },
   {
    "duration": 79,
    "start_time": "2021-12-08T07:20:02.188Z"
   },
   {
    "duration": 10,
    "start_time": "2021-12-08T07:20:02.269Z"
   },
   {
    "duration": 58,
    "start_time": "2021-12-08T07:20:02.282Z"
   },
   {
    "duration": 28,
    "start_time": "2021-12-08T07:20:02.342Z"
   },
   {
    "duration": 68,
    "start_time": "2021-12-08T07:20:02.372Z"
   },
   {
    "duration": 3,
    "start_time": "2021-12-08T07:20:02.442Z"
   },
   {
    "duration": 46,
    "start_time": "2021-12-08T07:20:02.448Z"
   },
   {
    "duration": 6,
    "start_time": "2021-12-08T07:20:02.496Z"
   },
   {
    "duration": 18,
    "start_time": "2021-12-08T07:20:02.517Z"
   },
   {
    "duration": 973,
    "start_time": "2021-12-08T07:20:02.538Z"
   },
   {
    "duration": 32,
    "start_time": "2021-12-08T07:20:03.516Z"
   },
   {
    "duration": 330,
    "start_time": "2021-12-08T07:20:03.551Z"
   },
   {
    "duration": 352,
    "start_time": "2021-12-08T07:20:03.883Z"
   },
   {
    "duration": 390,
    "start_time": "2021-12-08T07:20:04.238Z"
   },
   {
    "duration": 420,
    "start_time": "2021-12-08T07:20:04.631Z"
   },
   {
    "duration": 361,
    "start_time": "2021-12-08T07:20:05.053Z"
   },
   {
    "duration": 11,
    "start_time": "2021-12-08T07:20:05.416Z"
   },
   {
    "duration": 20,
    "start_time": "2021-12-08T07:20:05.429Z"
   },
   {
    "duration": 15,
    "start_time": "2021-12-08T07:20:05.451Z"
   },
   {
    "duration": 60,
    "start_time": "2021-12-08T07:20:05.468Z"
   },
   {
    "duration": 269,
    "start_time": "2021-12-08T07:20:22.495Z"
   },
   {
    "duration": 262,
    "start_time": "2021-12-08T07:21:50.079Z"
   },
   {
    "duration": 264,
    "start_time": "2021-12-08T07:22:02.190Z"
   },
   {
    "duration": 255,
    "start_time": "2021-12-08T07:22:36.182Z"
   },
   {
    "duration": 269,
    "start_time": "2021-12-08T07:22:41.200Z"
   },
   {
    "duration": 300,
    "start_time": "2021-12-08T07:24:28.958Z"
   },
   {
    "duration": 281,
    "start_time": "2021-12-08T07:24:45.566Z"
   },
   {
    "duration": 289,
    "start_time": "2021-12-08T07:26:24.262Z"
   },
   {
    "duration": 104,
    "start_time": "2021-12-08T07:26:40.155Z"
   },
   {
    "duration": 284,
    "start_time": "2021-12-08T07:30:40.150Z"
   },
   {
    "duration": 80,
    "start_time": "2021-12-08T07:34:02.898Z"
   },
   {
    "duration": 137,
    "start_time": "2021-12-08T07:34:02.981Z"
   },
   {
    "duration": 17,
    "start_time": "2021-12-08T07:34:03.121Z"
   },
   {
    "duration": 15,
    "start_time": "2021-12-08T07:34:03.141Z"
   },
   {
    "duration": 7,
    "start_time": "2021-12-08T07:34:03.159Z"
   },
   {
    "duration": 50,
    "start_time": "2021-12-08T07:34:03.168Z"
   },
   {
    "duration": 17,
    "start_time": "2021-12-08T07:34:03.220Z"
   },
   {
    "duration": 10,
    "start_time": "2021-12-08T07:34:03.241Z"
   },
   {
    "duration": 13,
    "start_time": "2021-12-08T07:34:03.254Z"
   },
   {
    "duration": 7,
    "start_time": "2021-12-08T07:34:03.269Z"
   },
   {
    "duration": 39,
    "start_time": "2021-12-08T07:34:03.278Z"
   },
   {
    "duration": 12,
    "start_time": "2021-12-08T07:34:03.321Z"
   },
   {
    "duration": 31,
    "start_time": "2021-12-08T07:34:03.336Z"
   },
   {
    "duration": 9,
    "start_time": "2021-12-08T07:34:03.369Z"
   },
   {
    "duration": 37,
    "start_time": "2021-12-08T07:34:03.380Z"
   },
   {
    "duration": 12,
    "start_time": "2021-12-08T07:34:03.420Z"
   },
   {
    "duration": 47,
    "start_time": "2021-12-08T07:34:03.434Z"
   },
   {
    "duration": 3,
    "start_time": "2021-12-08T07:34:03.484Z"
   },
   {
    "duration": 35,
    "start_time": "2021-12-08T07:34:03.517Z"
   },
   {
    "duration": 5,
    "start_time": "2021-12-08T07:34:03.554Z"
   },
   {
    "duration": 26,
    "start_time": "2021-12-08T07:34:03.562Z"
   },
   {
    "duration": 1092,
    "start_time": "2021-12-08T07:34:03.590Z"
   },
   {
    "duration": 42,
    "start_time": "2021-12-08T07:34:04.687Z"
   },
   {
    "duration": 317,
    "start_time": "2021-12-08T07:34:04.733Z"
   },
   {
    "duration": 346,
    "start_time": "2021-12-08T07:34:05.053Z"
   },
   {
    "duration": 394,
    "start_time": "2021-12-08T07:34:05.402Z"
   },
   {
    "duration": 321,
    "start_time": "2021-12-08T07:34:05.799Z"
   },
   {
    "duration": 379,
    "start_time": "2021-12-08T07:34:06.122Z"
   },
   {
    "duration": 22,
    "start_time": "2021-12-08T07:34:06.504Z"
   },
   {
    "duration": 27,
    "start_time": "2021-12-08T07:34:06.529Z"
   },
   {
    "duration": 30,
    "start_time": "2021-12-08T07:34:06.559Z"
   },
   {
    "duration": 290,
    "start_time": "2021-12-08T07:34:06.591Z"
   },
   {
    "duration": 53,
    "start_time": "2021-12-08T07:34:06.884Z"
   },
   {
    "duration": 33,
    "start_time": "2021-12-08T07:34:06.939Z"
   },
   {
    "duration": 5,
    "start_time": "2021-12-08T07:34:06.974Z"
   },
   {
    "duration": 38,
    "start_time": "2021-12-08T07:34:06.981Z"
   },
   {
    "duration": 117571,
    "start_time": "2021-12-08T07:36:03.211Z"
   },
   {
    "duration": 23,
    "start_time": "2021-12-08T07:58:48.157Z"
   },
   {
    "duration": 31,
    "start_time": "2021-12-08T07:59:22.197Z"
   },
   {
    "duration": 89820,
    "start_time": "2021-12-08T08:00:58.255Z"
   },
   {
    "duration": 5,
    "start_time": "2021-12-08T08:02:28.077Z"
   },
   {
    "duration": 6,
    "start_time": "2021-12-08T08:02:31.876Z"
   },
   {
    "duration": 30,
    "start_time": "2021-12-08T08:02:35.012Z"
   },
   {
    "duration": 78,
    "start_time": "2021-12-08T08:02:49.000Z"
   },
   {
    "duration": 138,
    "start_time": "2021-12-08T08:02:49.081Z"
   },
   {
    "duration": 16,
    "start_time": "2021-12-08T08:02:49.222Z"
   },
   {
    "duration": 11,
    "start_time": "2021-12-08T08:02:49.240Z"
   },
   {
    "duration": 13,
    "start_time": "2021-12-08T08:02:49.254Z"
   },
   {
    "duration": 12,
    "start_time": "2021-12-08T08:02:49.269Z"
   },
   {
    "duration": 44,
    "start_time": "2021-12-08T08:02:49.284Z"
   },
   {
    "duration": 12,
    "start_time": "2021-12-08T08:02:49.334Z"
   },
   {
    "duration": 15,
    "start_time": "2021-12-08T08:02:49.350Z"
   },
   {
    "duration": 50,
    "start_time": "2021-12-08T08:02:49.368Z"
   },
   {
    "duration": 4,
    "start_time": "2021-12-08T08:02:49.421Z"
   },
   {
    "duration": 8,
    "start_time": "2021-12-08T08:02:49.428Z"
   },
   {
    "duration": 39,
    "start_time": "2021-12-08T08:02:49.439Z"
   },
   {
    "duration": 8,
    "start_time": "2021-12-08T08:02:49.518Z"
   },
   {
    "duration": 8,
    "start_time": "2021-12-08T08:02:49.529Z"
   },
   {
    "duration": 11,
    "start_time": "2021-12-08T08:02:49.540Z"
   },
   {
    "duration": 74,
    "start_time": "2021-12-08T08:02:49.553Z"
   },
   {
    "duration": 3,
    "start_time": "2021-12-08T08:02:49.629Z"
   },
   {
    "duration": 46,
    "start_time": "2021-12-08T08:02:49.634Z"
   },
   {
    "duration": 5,
    "start_time": "2021-12-08T08:02:49.682Z"
   },
   {
    "duration": 42,
    "start_time": "2021-12-08T08:02:49.690Z"
   },
   {
    "duration": 960,
    "start_time": "2021-12-08T08:02:49.734Z"
   },
   {
    "duration": 35,
    "start_time": "2021-12-08T08:02:50.699Z"
   },
   {
    "duration": 312,
    "start_time": "2021-12-08T08:02:50.737Z"
   },
   {
    "duration": 352,
    "start_time": "2021-12-08T08:02:51.052Z"
   },
   {
    "duration": 365,
    "start_time": "2021-12-08T08:02:51.406Z"
   },
   {
    "duration": 328,
    "start_time": "2021-12-08T08:02:51.773Z"
   },
   {
    "duration": 554,
    "start_time": "2021-12-08T08:02:52.104Z"
   },
   {
    "duration": 12,
    "start_time": "2021-12-08T08:02:52.661Z"
   },
   {
    "duration": 44,
    "start_time": "2021-12-08T08:02:52.675Z"
   },
   {
    "duration": 14,
    "start_time": "2021-12-08T08:02:52.721Z"
   },
   {
    "duration": 305,
    "start_time": "2021-12-08T08:02:52.738Z"
   },
   {
    "duration": 40,
    "start_time": "2021-12-08T08:02:53.046Z"
   },
   {
    "duration": 51,
    "start_time": "2021-12-08T08:02:53.089Z"
   },
   {
    "duration": 6,
    "start_time": "2021-12-08T08:02:53.143Z"
   },
   {
    "duration": 7,
    "start_time": "2021-12-08T08:02:53.152Z"
   },
   {
    "duration": 31,
    "start_time": "2021-12-08T08:02:59.148Z"
   },
   {
    "duration": 330,
    "start_time": "2021-12-08T08:03:13.085Z"
   },
   {
    "duration": 6,
    "start_time": "2021-12-08T08:03:27.492Z"
   },
   {
    "duration": 32,
    "start_time": "2021-12-08T08:03:30.222Z"
   },
   {
    "duration": 321,
    "start_time": "2021-12-08T08:04:08.604Z"
   },
   {
    "duration": 6,
    "start_time": "2021-12-08T08:04:27.670Z"
   },
   {
    "duration": 30,
    "start_time": "2021-12-08T08:04:37.612Z"
   },
   {
    "duration": 5,
    "start_time": "2021-12-08T08:04:50.676Z"
   },
   {
    "duration": 32,
    "start_time": "2021-12-08T08:04:54.030Z"
   },
   {
    "duration": 1170,
    "start_time": "2021-12-08T08:05:10.053Z"
   },
   {
    "duration": 1411,
    "start_time": "2021-12-08T08:05:35.093Z"
   },
   {
    "duration": 466,
    "start_time": "2021-12-08T08:07:55.404Z"
   },
   {
    "duration": 429,
    "start_time": "2021-12-08T08:09:35.902Z"
   },
   {
    "duration": 730,
    "start_time": "2021-12-08T08:10:32.979Z"
   },
   {
    "duration": 168,
    "start_time": "2021-12-08T08:11:21.198Z"
   },
   {
    "duration": 446,
    "start_time": "2021-12-08T08:11:35.797Z"
   },
   {
    "duration": 439,
    "start_time": "2021-12-08T08:12:29.972Z"
   },
   {
    "duration": 464,
    "start_time": "2021-12-08T08:12:57.294Z"
   },
   {
    "duration": 424,
    "start_time": "2021-12-08T08:13:18.980Z"
   },
   {
    "duration": 753,
    "start_time": "2021-12-08T08:16:46.067Z"
   },
   {
    "duration": 862,
    "start_time": "2021-12-08T08:17:14.963Z"
   },
   {
    "duration": 713,
    "start_time": "2021-12-08T08:17:29.275Z"
   },
   {
    "duration": 416,
    "start_time": "2021-12-08T08:22:35.636Z"
   },
   {
    "duration": 433,
    "start_time": "2021-12-08T08:22:46.187Z"
   },
   {
    "duration": 1771,
    "start_time": "2021-12-08T08:23:05.949Z"
   },
   {
    "duration": 407,
    "start_time": "2021-12-08T08:23:23.035Z"
   },
   {
    "duration": 409,
    "start_time": "2021-12-08T08:23:29.691Z"
   },
   {
    "duration": 1865,
    "start_time": "2021-12-08T08:36:38.077Z"
   },
   {
    "duration": 301,
    "start_time": "2021-12-08T08:37:07.907Z"
   },
   {
    "duration": 456,
    "start_time": "2021-12-08T08:37:28.019Z"
   },
   {
    "duration": 91,
    "start_time": "2021-12-08T08:42:43.839Z"
   },
   {
    "duration": 130,
    "start_time": "2021-12-08T08:42:43.933Z"
   },
   {
    "duration": 15,
    "start_time": "2021-12-08T08:42:44.066Z"
   },
   {
    "duration": 37,
    "start_time": "2021-12-08T08:42:44.084Z"
   },
   {
    "duration": 17,
    "start_time": "2021-12-08T08:42:44.124Z"
   },
   {
    "duration": 12,
    "start_time": "2021-12-08T08:42:44.144Z"
   },
   {
    "duration": 21,
    "start_time": "2021-12-08T08:42:44.159Z"
   },
   {
    "duration": 15,
    "start_time": "2021-12-08T08:42:44.184Z"
   },
   {
    "duration": 25,
    "start_time": "2021-12-08T08:42:44.202Z"
   },
   {
    "duration": 27,
    "start_time": "2021-12-08T08:42:44.230Z"
   },
   {
    "duration": 30,
    "start_time": "2021-12-08T08:42:44.260Z"
   },
   {
    "duration": 16,
    "start_time": "2021-12-08T08:42:44.293Z"
   },
   {
    "duration": 43,
    "start_time": "2021-12-08T08:42:44.312Z"
   },
   {
    "duration": 9,
    "start_time": "2021-12-08T08:42:44.358Z"
   },
   {
    "duration": 37,
    "start_time": "2021-12-08T08:42:44.369Z"
   },
   {
    "duration": 25,
    "start_time": "2021-12-08T08:42:44.409Z"
   },
   {
    "duration": 60,
    "start_time": "2021-12-08T08:42:44.436Z"
   },
   {
    "duration": 4,
    "start_time": "2021-12-08T08:42:44.499Z"
   },
   {
    "duration": 57,
    "start_time": "2021-12-08T08:42:44.505Z"
   },
   {
    "duration": 6,
    "start_time": "2021-12-08T08:42:44.564Z"
   },
   {
    "duration": 33,
    "start_time": "2021-12-08T08:42:44.573Z"
   },
   {
    "duration": 988,
    "start_time": "2021-12-08T08:42:44.608Z"
   },
   {
    "duration": 52,
    "start_time": "2021-12-08T08:42:45.604Z"
   },
   {
    "duration": 527,
    "start_time": "2021-12-08T08:42:45.660Z"
   },
   {
    "duration": 552,
    "start_time": "2021-12-08T08:42:46.190Z"
   },
   {
    "duration": 597,
    "start_time": "2021-12-08T08:42:46.746Z"
   },
   {
    "duration": 513,
    "start_time": "2021-12-08T08:42:47.346Z"
   },
   {
    "duration": 364,
    "start_time": "2021-12-08T08:42:47.862Z"
   },
   {
    "duration": 13,
    "start_time": "2021-12-08T08:42:48.229Z"
   },
   {
    "duration": 35,
    "start_time": "2021-12-08T08:42:48.244Z"
   },
   {
    "duration": 37,
    "start_time": "2021-12-08T08:42:48.282Z"
   },
   {
    "duration": 301,
    "start_time": "2021-12-08T08:42:48.322Z"
   },
   {
    "duration": 39,
    "start_time": "2021-12-08T08:42:48.625Z"
   },
   {
    "duration": 58,
    "start_time": "2021-12-08T08:42:48.667Z"
   },
   {
    "duration": 6,
    "start_time": "2021-12-08T08:42:48.727Z"
   },
   {
    "duration": 41,
    "start_time": "2021-12-08T08:42:48.735Z"
   },
   {
    "duration": 454,
    "start_time": "2021-12-08T08:42:48.778Z"
   },
   {
    "duration": 13,
    "start_time": "2021-12-08T08:42:49.235Z"
   },
   {
    "duration": 489,
    "start_time": "2021-12-08T08:42:49.251Z"
   },
   {
    "duration": 518,
    "start_time": "2021-12-08T08:42:49.744Z"
   },
   {
    "duration": 507,
    "start_time": "2021-12-08T08:42:50.265Z"
   },
   {
    "duration": 474,
    "start_time": "2021-12-08T08:42:50.775Z"
   },
   {
    "duration": 18,
    "start_time": "2021-12-08T08:42:51.253Z"
   },
   {
    "duration": 52,
    "start_time": "2021-12-08T08:42:51.274Z"
   },
   {
    "duration": 304,
    "start_time": "2021-12-08T08:47:31.876Z"
   },
   {
    "duration": 311,
    "start_time": "2021-12-08T08:52:07.611Z"
   },
   {
    "duration": 8,
    "start_time": "2021-12-08T08:52:19.131Z"
   },
   {
    "duration": 17,
    "start_time": "2021-12-08T09:06:12.891Z"
   },
   {
    "duration": 322,
    "start_time": "2021-12-08T09:07:06.787Z"
   },
   {
    "duration": 292,
    "start_time": "2021-12-08T09:07:54.595Z"
   },
   {
    "duration": 743,
    "start_time": "2021-12-08T09:14:04.620Z"
   },
   {
    "duration": 723,
    "start_time": "2021-12-08T09:14:22.363Z"
   },
   {
    "duration": 724,
    "start_time": "2021-12-08T09:16:19.069Z"
   },
   {
    "duration": 160,
    "start_time": "2021-12-08T09:21:28.827Z"
   },
   {
    "duration": 595,
    "start_time": "2021-12-08T09:21:35.795Z"
   },
   {
    "duration": 313,
    "start_time": "2021-12-08T09:22:39.939Z"
   },
   {
    "duration": 280,
    "start_time": "2021-12-08T09:22:42.090Z"
   },
   {
    "duration": 628,
    "start_time": "2021-12-08T09:23:08.954Z"
   },
   {
    "duration": 553,
    "start_time": "2021-12-08T09:23:34.994Z"
   },
   {
    "duration": 747,
    "start_time": "2021-12-08T09:23:50.779Z"
   },
   {
    "duration": 549,
    "start_time": "2021-12-08T09:24:05.602Z"
   },
   {
    "duration": 1497,
    "start_time": "2021-12-09T06:23:50.401Z"
   },
   {
    "duration": 100,
    "start_time": "2021-12-09T06:23:51.901Z"
   },
   {
    "duration": 28,
    "start_time": "2021-12-09T06:23:52.004Z"
   },
   {
    "duration": 12,
    "start_time": "2021-12-09T06:23:52.034Z"
   },
   {
    "duration": 8,
    "start_time": "2021-12-09T06:23:52.048Z"
   },
   {
    "duration": 12,
    "start_time": "2021-12-09T06:23:52.059Z"
   },
   {
    "duration": 11,
    "start_time": "2021-12-09T06:23:52.073Z"
   },
   {
    "duration": 42,
    "start_time": "2021-12-09T06:23:52.088Z"
   },
   {
    "duration": 13,
    "start_time": "2021-12-09T06:23:52.133Z"
   },
   {
    "duration": 6,
    "start_time": "2021-12-09T06:23:52.149Z"
   },
   {
    "duration": 5,
    "start_time": "2021-12-09T06:23:52.157Z"
   },
   {
    "duration": 10,
    "start_time": "2021-12-09T06:23:52.164Z"
   },
   {
    "duration": 77,
    "start_time": "2021-12-09T06:23:52.177Z"
   },
   {
    "duration": 9,
    "start_time": "2021-12-09T06:23:52.257Z"
   },
   {
    "duration": 12,
    "start_time": "2021-12-09T06:23:52.268Z"
   },
   {
    "duration": 11,
    "start_time": "2021-12-09T06:23:52.282Z"
   },
   {
    "duration": 73,
    "start_time": "2021-12-09T06:23:52.296Z"
   },
   {
    "duration": 3,
    "start_time": "2021-12-09T06:23:52.372Z"
   },
   {
    "duration": 60,
    "start_time": "2021-12-09T06:23:52.378Z"
   },
   {
    "duration": 6,
    "start_time": "2021-12-09T06:23:52.440Z"
   },
   {
    "duration": 21,
    "start_time": "2021-12-09T06:23:52.448Z"
   },
   {
    "duration": 967,
    "start_time": "2021-12-09T06:23:52.471Z"
   },
   {
    "duration": 29,
    "start_time": "2021-12-09T06:23:53.443Z"
   },
   {
    "duration": 450,
    "start_time": "2021-12-09T06:23:53.475Z"
   },
   {
    "duration": 332,
    "start_time": "2021-12-09T06:23:53.927Z"
   },
   {
    "duration": 362,
    "start_time": "2021-12-09T06:23:54.261Z"
   },
   {
    "duration": 311,
    "start_time": "2021-12-09T06:23:54.625Z"
   },
   {
    "duration": 349,
    "start_time": "2021-12-09T06:23:54.939Z"
   },
   {
    "duration": 12,
    "start_time": "2021-12-09T06:23:55.290Z"
   },
   {
    "duration": 38,
    "start_time": "2021-12-09T06:23:55.305Z"
   },
   {
    "duration": 16,
    "start_time": "2021-12-09T06:23:55.345Z"
   },
   {
    "duration": 288,
    "start_time": "2021-12-09T06:23:55.364Z"
   },
   {
    "duration": 40,
    "start_time": "2021-12-09T06:23:55.655Z"
   },
   {
    "duration": 51,
    "start_time": "2021-12-09T06:23:55.698Z"
   },
   {
    "duration": 7,
    "start_time": "2021-12-09T06:23:55.752Z"
   },
   {
    "duration": 13,
    "start_time": "2021-12-09T06:23:55.762Z"
   },
   {
    "duration": 438,
    "start_time": "2021-12-09T06:23:55.778Z"
   },
   {
    "duration": 13,
    "start_time": "2021-12-09T06:23:56.219Z"
   },
   {
    "duration": 323,
    "start_time": "2021-12-09T06:23:56.235Z"
   },
   {
    "duration": 325,
    "start_time": "2021-12-09T06:23:56.562Z"
   },
   {
    "duration": 376,
    "start_time": "2021-12-09T06:23:56.890Z"
   },
   {
    "duration": 293,
    "start_time": "2021-12-09T06:23:57.269Z"
   },
   {
    "duration": 15,
    "start_time": "2021-12-09T06:23:57.564Z"
   },
   {
    "duration": 349,
    "start_time": "2021-12-09T06:23:57.581Z"
   },
   {
    "duration": 9,
    "start_time": "2021-12-09T06:23:57.933Z"
   },
   {
    "duration": 2695,
    "start_time": "2021-12-09T06:23:57.945Z"
   },
   {
    "duration": 45,
    "start_time": "2021-12-09T06:25:08.053Z"
   },
   {
    "duration": 510,
    "start_time": "2021-12-09T06:25:39.362Z"
   },
   {
    "duration": 18,
    "start_time": "2021-12-09T06:25:49.660Z"
   },
   {
    "duration": 9734,
    "start_time": "2021-12-09T06:28:12.669Z"
   },
   {
    "duration": 4,
    "start_time": "2021-12-09T06:28:25.085Z"
   },
   {
    "duration": 362,
    "start_time": "2021-12-09T06:28:29.620Z"
   },
   {
    "duration": 122,
    "start_time": "2021-12-09T06:31:07.685Z"
   },
   {
    "duration": 134,
    "start_time": "2021-12-09T06:31:18.613Z"
   },
   {
    "duration": 480,
    "start_time": "2021-12-09T06:31:34.271Z"
   },
   {
    "duration": 427,
    "start_time": "2021-12-09T06:32:14.916Z"
   },
   {
    "duration": 422,
    "start_time": "2021-12-09T06:32:59.692Z"
   },
   {
    "duration": 435,
    "start_time": "2021-12-09T06:33:21.683Z"
   },
   {
    "duration": 354,
    "start_time": "2021-12-09T06:33:31.387Z"
   },
   {
    "duration": 296,
    "start_time": "2021-12-09T06:33:58.711Z"
   },
   {
    "duration": 47,
    "start_time": "2021-12-09T06:34:16.557Z"
   },
   {
    "duration": 20,
    "start_time": "2021-12-09T06:34:28.735Z"
   },
   {
    "duration": 458,
    "start_time": "2021-12-09T06:35:43.795Z"
   },
   {
    "duration": 400,
    "start_time": "2021-12-09T06:35:49.148Z"
   },
   {
    "duration": 362,
    "start_time": "2021-12-09T06:36:05.486Z"
   },
   {
    "duration": 20,
    "start_time": "2021-12-09T06:36:49.208Z"
   },
   {
    "duration": 26,
    "start_time": "2021-12-09T06:37:07.892Z"
   },
   {
    "duration": 111,
    "start_time": "2021-12-09T06:37:25.069Z"
   },
   {
    "duration": 292,
    "start_time": "2021-12-09T06:37:27.943Z"
   },
   {
    "duration": 337,
    "start_time": "2021-12-09T06:37:56.517Z"
   },
   {
    "duration": 565,
    "start_time": "2021-12-09T06:38:03.125Z"
   },
   {
    "duration": 721,
    "start_time": "2021-12-09T06:38:57.643Z"
   },
   {
    "duration": 821,
    "start_time": "2021-12-09T06:40:13.604Z"
   },
   {
    "duration": 830,
    "start_time": "2021-12-09T06:41:05.867Z"
   },
   {
    "duration": 326,
    "start_time": "2021-12-09T06:42:07.476Z"
   },
   {
    "duration": 611,
    "start_time": "2021-12-09T06:42:28.726Z"
   },
   {
    "duration": 1155,
    "start_time": "2021-12-09T06:42:46.472Z"
   },
   {
    "duration": 839,
    "start_time": "2021-12-09T06:45:58.564Z"
   },
   {
    "duration": 448,
    "start_time": "2021-12-09T06:46:22.195Z"
   },
   {
    "duration": 845,
    "start_time": "2021-12-09T06:47:05.483Z"
   },
   {
    "duration": 23,
    "start_time": "2021-12-09T06:48:36.190Z"
   },
   {
    "duration": 8,
    "start_time": "2021-12-09T06:48:46.219Z"
   },
   {
    "duration": 27,
    "start_time": "2021-12-09T06:49:34.555Z"
   },
   {
    "duration": 7,
    "start_time": "2021-12-09T06:49:39.931Z"
   },
   {
    "duration": 64,
    "start_time": "2021-12-09T06:49:56.178Z"
   },
   {
    "duration": 8,
    "start_time": "2021-12-09T06:49:58.643Z"
   },
   {
    "duration": 69,
    "start_time": "2021-12-09T06:50:06.715Z"
   },
   {
    "duration": 8,
    "start_time": "2021-12-09T06:50:08.493Z"
   },
   {
    "duration": 70,
    "start_time": "2021-12-09T06:51:35.422Z"
   },
   {
    "duration": 7,
    "start_time": "2021-12-09T06:51:37.562Z"
   },
   {
    "duration": 6,
    "start_time": "2021-12-09T06:51:41.403Z"
   },
   {
    "duration": 62,
    "start_time": "2021-12-09T06:51:57.795Z"
   },
   {
    "duration": 7,
    "start_time": "2021-12-09T06:52:00.134Z"
   },
   {
    "duration": 7,
    "start_time": "2021-12-09T06:52:08.404Z"
   },
   {
    "duration": 14,
    "start_time": "2021-12-09T06:53:43.130Z"
   },
   {
    "duration": 8,
    "start_time": "2021-12-09T06:53:45.154Z"
   },
   {
    "duration": 14,
    "start_time": "2021-12-09T06:54:01.539Z"
   },
   {
    "duration": 22,
    "start_time": "2021-12-09T06:54:03.786Z"
   },
   {
    "duration": 13,
    "start_time": "2021-12-09T06:55:38.011Z"
   },
   {
    "duration": 21,
    "start_time": "2021-12-09T06:55:40.588Z"
   },
   {
    "duration": 15,
    "start_time": "2021-12-09T06:55:46.626Z"
   },
   {
    "duration": 6,
    "start_time": "2021-12-09T06:55:48.932Z"
   },
   {
    "duration": 576,
    "start_time": "2021-12-09T06:58:10.819Z"
   },
   {
    "duration": 64,
    "start_time": "2021-12-09T07:00:34.067Z"
   },
   {
    "duration": 7,
    "start_time": "2021-12-09T07:00:35.892Z"
   },
   {
    "duration": 315,
    "start_time": "2021-12-09T07:01:09.667Z"
   },
   {
    "duration": 69,
    "start_time": "2021-12-09T07:02:47.162Z"
   },
   {
    "duration": 15,
    "start_time": "2021-12-09T07:02:52.818Z"
   },
   {
    "duration": 9,
    "start_time": "2021-12-09T07:02:55.763Z"
   },
   {
    "duration": 66,
    "start_time": "2021-12-09T07:03:06.610Z"
   },
   {
    "duration": 64,
    "start_time": "2021-12-09T07:03:11.701Z"
   },
   {
    "duration": 10,
    "start_time": "2021-12-09T07:03:13.611Z"
   },
   {
    "duration": 271,
    "start_time": "2021-12-09T07:03:52.275Z"
   },
   {
    "duration": 768,
    "start_time": "2021-12-09T07:04:03.265Z"
   },
   {
    "duration": 833,
    "start_time": "2021-12-09T07:04:18.830Z"
   },
   {
    "duration": 80,
    "start_time": "2021-12-09T07:08:15.611Z"
   },
   {
    "duration": 78,
    "start_time": "2021-12-09T07:09:14.348Z"
   },
   {
    "duration": 664,
    "start_time": "2021-12-09T07:09:21.491Z"
   },
   {
    "duration": 83,
    "start_time": "2021-12-09T07:09:31.260Z"
   },
   {
    "duration": 649,
    "start_time": "2021-12-09T07:09:36.026Z"
   },
   {
    "duration": 66,
    "start_time": "2021-12-09T07:10:05.277Z"
   },
   {
    "duration": 646,
    "start_time": "2021-12-09T07:10:08.235Z"
   },
   {
    "duration": 785,
    "start_time": "2021-12-09T07:17:11.963Z"
   },
   {
    "duration": 326,
    "start_time": "2021-12-09T07:17:33.827Z"
   },
   {
    "duration": 798,
    "start_time": "2021-12-09T07:17:42.206Z"
   },
   {
    "duration": 374,
    "start_time": "2021-12-09T07:22:12.008Z"
   },
   {
    "duration": 78,
    "start_time": "2021-12-09T07:23:28.965Z"
   },
   {
    "duration": 140,
    "start_time": "2021-12-09T07:23:29.046Z"
   },
   {
    "duration": 37,
    "start_time": "2021-12-09T07:23:29.189Z"
   },
   {
    "duration": 11,
    "start_time": "2021-12-09T07:23:29.229Z"
   },
   {
    "duration": 8,
    "start_time": "2021-12-09T07:23:29.243Z"
   },
   {
    "duration": 12,
    "start_time": "2021-12-09T07:23:29.253Z"
   },
   {
    "duration": 55,
    "start_time": "2021-12-09T07:23:29.268Z"
   },
   {
    "duration": 11,
    "start_time": "2021-12-09T07:23:29.327Z"
   },
   {
    "duration": 14,
    "start_time": "2021-12-09T07:23:29.341Z"
   },
   {
    "duration": 7,
    "start_time": "2021-12-09T07:23:29.358Z"
   },
   {
    "duration": 6,
    "start_time": "2021-12-09T07:23:29.368Z"
   },
   {
    "duration": 52,
    "start_time": "2021-12-09T07:23:29.376Z"
   },
   {
    "duration": 34,
    "start_time": "2021-12-09T07:23:29.431Z"
   },
   {
    "duration": 9,
    "start_time": "2021-12-09T07:23:29.468Z"
   },
   {
    "duration": 52,
    "start_time": "2021-12-09T07:23:29.480Z"
   },
   {
    "duration": 11,
    "start_time": "2021-12-09T07:23:29.535Z"
   },
   {
    "duration": 81,
    "start_time": "2021-12-09T07:23:29.549Z"
   },
   {
    "duration": 3,
    "start_time": "2021-12-09T07:23:29.633Z"
   },
   {
    "duration": 38,
    "start_time": "2021-12-09T07:23:29.638Z"
   },
   {
    "duration": 7,
    "start_time": "2021-12-09T07:23:29.679Z"
   },
   {
    "duration": 17,
    "start_time": "2021-12-09T07:23:29.724Z"
   },
   {
    "duration": 1152,
    "start_time": "2021-12-09T07:23:29.743Z"
   },
   {
    "duration": 40,
    "start_time": "2021-12-09T07:23:30.900Z"
   },
   {
    "duration": 322,
    "start_time": "2021-12-09T07:23:30.943Z"
   },
   {
    "duration": 347,
    "start_time": "2021-12-09T07:23:31.268Z"
   },
   {
    "duration": 376,
    "start_time": "2021-12-09T07:23:31.622Z"
   },
   {
    "duration": 334,
    "start_time": "2021-12-09T07:23:32.001Z"
   },
   {
    "duration": 377,
    "start_time": "2021-12-09T07:23:32.337Z"
   },
   {
    "duration": 16,
    "start_time": "2021-12-09T07:23:32.716Z"
   },
   {
    "duration": 20,
    "start_time": "2021-12-09T07:23:32.734Z"
   },
   {
    "duration": 16,
    "start_time": "2021-12-09T07:23:32.757Z"
   },
   {
    "duration": 319,
    "start_time": "2021-12-09T07:23:32.776Z"
   },
   {
    "duration": 62,
    "start_time": "2021-12-09T07:23:33.097Z"
   },
   {
    "duration": 35,
    "start_time": "2021-12-09T07:23:33.163Z"
   },
   {
    "duration": 26,
    "start_time": "2021-12-09T07:23:33.201Z"
   },
   {
    "duration": 9,
    "start_time": "2021-12-09T07:23:33.230Z"
   },
   {
    "duration": 426,
    "start_time": "2021-12-09T07:23:33.242Z"
   },
   {
    "duration": 10,
    "start_time": "2021-12-09T07:23:33.670Z"
   },
   {
    "duration": 298,
    "start_time": "2021-12-09T07:23:33.683Z"
   },
   {
    "duration": 335,
    "start_time": "2021-12-09T07:23:33.983Z"
   },
   {
    "duration": 315,
    "start_time": "2021-12-09T07:23:34.324Z"
   },
   {
    "duration": 298,
    "start_time": "2021-12-09T07:23:34.641Z"
   },
   {
    "duration": 16,
    "start_time": "2021-12-09T07:23:34.941Z"
   },
   {
    "duration": 379,
    "start_time": "2021-12-09T07:23:34.959Z"
   },
   {
    "duration": 68,
    "start_time": "2021-12-09T07:23:35.340Z"
   },
   {
    "duration": 120,
    "start_time": "2021-12-09T07:24:05.065Z"
   },
   {
    "duration": 1053,
    "start_time": "2021-12-09T07:24:45.500Z"
   },
   {
    "duration": 79,
    "start_time": "2021-12-09T07:24:53.947Z"
   },
   {
    "duration": 5,
    "start_time": "2021-12-09T07:25:16.202Z"
   },
   {
    "duration": 768,
    "start_time": "2021-12-09T07:25:18.867Z"
   },
   {
    "duration": 12,
    "start_time": "2021-12-09T07:27:15.035Z"
   },
   {
    "duration": 1034,
    "start_time": "2021-12-09T07:53:15.577Z"
   },
   {
    "duration": 101,
    "start_time": "2021-12-09T07:53:36.280Z"
   },
   {
    "duration": 184,
    "start_time": "2021-12-09T07:53:36.385Z"
   },
   {
    "duration": 28,
    "start_time": "2021-12-09T07:53:36.575Z"
   },
   {
    "duration": 15,
    "start_time": "2021-12-09T07:53:36.624Z"
   },
   {
    "duration": 10,
    "start_time": "2021-12-09T07:53:36.641Z"
   },
   {
    "duration": 16,
    "start_time": "2021-12-09T07:53:36.653Z"
   },
   {
    "duration": 14,
    "start_time": "2021-12-09T07:53:36.672Z"
   },
   {
    "duration": 10,
    "start_time": "2021-12-09T07:53:36.726Z"
   },
   {
    "duration": 14,
    "start_time": "2021-12-09T07:53:36.740Z"
   },
   {
    "duration": 7,
    "start_time": "2021-12-09T07:53:36.757Z"
   },
   {
    "duration": 8,
    "start_time": "2021-12-09T07:53:36.767Z"
   },
   {
    "duration": 8,
    "start_time": "2021-12-09T07:53:36.777Z"
   },
   {
    "duration": 62,
    "start_time": "2021-12-09T07:53:36.788Z"
   },
   {
    "duration": 9,
    "start_time": "2021-12-09T07:53:36.852Z"
   },
   {
    "duration": 10,
    "start_time": "2021-12-09T07:53:36.863Z"
   },
   {
    "duration": 47,
    "start_time": "2021-12-09T07:53:36.876Z"
   },
   {
    "duration": 45,
    "start_time": "2021-12-09T07:53:36.927Z"
   },
   {
    "duration": 3,
    "start_time": "2021-12-09T07:53:36.974Z"
   },
   {
    "duration": 77,
    "start_time": "2021-12-09T07:53:36.980Z"
   },
   {
    "duration": 7,
    "start_time": "2021-12-09T07:53:37.059Z"
   },
   {
    "duration": 21,
    "start_time": "2021-12-09T07:53:37.069Z"
   },
   {
    "duration": 1140,
    "start_time": "2021-12-09T07:53:37.093Z"
   },
   {
    "duration": 35,
    "start_time": "2021-12-09T07:53:38.241Z"
   },
   {
    "duration": 397,
    "start_time": "2021-12-09T07:53:38.280Z"
   },
   {
    "duration": 348,
    "start_time": "2021-12-09T07:53:38.679Z"
   },
   {
    "duration": 598,
    "start_time": "2021-12-09T07:53:39.031Z"
   },
   {
    "duration": 347,
    "start_time": "2021-12-09T07:53:39.633Z"
   },
   {
    "duration": 375,
    "start_time": "2021-12-09T07:53:39.983Z"
   },
   {
    "duration": 11,
    "start_time": "2021-12-09T07:53:40.360Z"
   },
   {
    "duration": 24,
    "start_time": "2021-12-09T07:53:40.373Z"
   },
   {
    "duration": 37,
    "start_time": "2021-12-09T07:53:40.400Z"
   },
   {
    "duration": 288,
    "start_time": "2021-12-09T07:53:40.440Z"
   },
   {
    "duration": 41,
    "start_time": "2021-12-09T07:53:40.730Z"
   },
   {
    "duration": 58,
    "start_time": "2021-12-09T07:53:40.774Z"
   },
   {
    "duration": 10,
    "start_time": "2021-12-09T07:53:40.835Z"
   },
   {
    "duration": 21,
    "start_time": "2021-12-09T07:53:40.848Z"
   },
   {
    "duration": 608,
    "start_time": "2021-12-09T07:53:40.872Z"
   },
   {
    "duration": 14,
    "start_time": "2021-12-09T07:53:41.483Z"
   },
   {
    "duration": 309,
    "start_time": "2021-12-09T07:53:41.500Z"
   },
   {
    "duration": 476,
    "start_time": "2021-12-09T07:53:41.812Z"
   },
   {
    "duration": 482,
    "start_time": "2021-12-09T07:53:42.291Z"
   },
   {
    "duration": 300,
    "start_time": "2021-12-09T07:53:42.776Z"
   },
   {
    "duration": 13,
    "start_time": "2021-12-09T07:53:43.079Z"
   },
   {
    "duration": 341,
    "start_time": "2021-12-09T07:53:43.095Z"
   },
   {
    "duration": 93,
    "start_time": "2021-12-09T07:53:43.438Z"
   },
   {
    "duration": 782,
    "start_time": "2021-12-09T07:53:49.257Z"
   },
   {
    "duration": 1048,
    "start_time": "2021-12-09T07:55:44.697Z"
   },
   {
    "duration": 1183,
    "start_time": "2021-12-09T07:56:04.448Z"
   },
   {
    "duration": 8677,
    "start_time": "2021-12-09T08:05:38.829Z"
   },
   {
    "duration": 1353,
    "start_time": "2021-12-09T08:06:25.747Z"
   },
   {
    "duration": 1449,
    "start_time": "2021-12-09T08:07:12.237Z"
   },
   {
    "duration": 86,
    "start_time": "2021-12-09T08:10:31.594Z"
   },
   {
    "duration": 259,
    "start_time": "2021-12-09T08:10:34.041Z"
   },
   {
    "duration": 1097,
    "start_time": "2021-12-09T08:11:04.465Z"
   },
   {
    "duration": 1085,
    "start_time": "2021-12-09T08:12:33.912Z"
   },
   {
    "duration": 1370,
    "start_time": "2021-12-09T08:16:13.323Z"
   },
   {
    "duration": 5,
    "start_time": "2021-12-09T08:16:48.778Z"
   },
   {
    "duration": 784,
    "start_time": "2021-12-09T08:17:43.040Z"
   },
   {
    "duration": 1088,
    "start_time": "2021-12-09T08:20:17.626Z"
   },
   {
    "duration": 853,
    "start_time": "2021-12-09T08:21:04.832Z"
   },
   {
    "duration": 74,
    "start_time": "2021-12-09T08:24:09.902Z"
   },
   {
    "duration": 123,
    "start_time": "2021-12-09T08:24:09.978Z"
   },
   {
    "duration": 27,
    "start_time": "2021-12-09T08:24:10.104Z"
   },
   {
    "duration": 11,
    "start_time": "2021-12-09T08:24:10.135Z"
   },
   {
    "duration": 14,
    "start_time": "2021-12-09T08:24:10.149Z"
   },
   {
    "duration": 17,
    "start_time": "2021-12-09T08:24:10.166Z"
   },
   {
    "duration": 37,
    "start_time": "2021-12-09T08:24:10.186Z"
   },
   {
    "duration": 9,
    "start_time": "2021-12-09T08:24:10.226Z"
   },
   {
    "duration": 15,
    "start_time": "2021-12-09T08:24:10.239Z"
   },
   {
    "duration": 16,
    "start_time": "2021-12-09T08:24:10.257Z"
   },
   {
    "duration": 17,
    "start_time": "2021-12-09T08:24:10.275Z"
   },
   {
    "duration": 23,
    "start_time": "2021-12-09T08:24:10.294Z"
   },
   {
    "duration": 40,
    "start_time": "2021-12-09T08:24:10.320Z"
   },
   {
    "duration": 8,
    "start_time": "2021-12-09T08:24:10.363Z"
   },
   {
    "duration": 14,
    "start_time": "2021-12-09T08:24:10.373Z"
   },
   {
    "duration": 16,
    "start_time": "2021-12-09T08:24:10.390Z"
   },
   {
    "duration": 74,
    "start_time": "2021-12-09T08:24:10.408Z"
   },
   {
    "duration": 4,
    "start_time": "2021-12-09T08:24:10.485Z"
   },
   {
    "duration": 74,
    "start_time": "2021-12-09T08:24:10.493Z"
   },
   {
    "duration": 7,
    "start_time": "2021-12-09T08:24:10.570Z"
   },
   {
    "duration": 23,
    "start_time": "2021-12-09T08:24:10.580Z"
   },
   {
    "duration": 1693,
    "start_time": "2021-12-09T08:24:10.624Z"
   },
   {
    "duration": 44,
    "start_time": "2021-12-09T08:24:12.323Z"
   },
   {
    "duration": 493,
    "start_time": "2021-12-09T08:24:12.369Z"
   },
   {
    "duration": 501,
    "start_time": "2021-12-09T08:24:12.865Z"
   },
   {
    "duration": 513,
    "start_time": "2021-12-09T08:24:13.369Z"
   },
   {
    "duration": 492,
    "start_time": "2021-12-09T08:24:13.890Z"
   },
   {
    "duration": 536,
    "start_time": "2021-12-09T08:24:14.387Z"
   },
   {
    "duration": 13,
    "start_time": "2021-12-09T08:24:14.927Z"
   },
   {
    "duration": 23,
    "start_time": "2021-12-09T08:24:14.943Z"
   },
   {
    "duration": 55,
    "start_time": "2021-12-09T08:24:14.969Z"
   },
   {
    "duration": 290,
    "start_time": "2021-12-09T08:24:15.027Z"
   },
   {
    "duration": 39,
    "start_time": "2021-12-09T08:24:15.323Z"
   },
   {
    "duration": 59,
    "start_time": "2021-12-09T08:24:15.366Z"
   },
   {
    "duration": 8,
    "start_time": "2021-12-09T08:24:15.428Z"
   },
   {
    "duration": 8,
    "start_time": "2021-12-09T08:24:15.438Z"
   },
   {
    "duration": 445,
    "start_time": "2021-12-09T08:24:15.448Z"
   },
   {
    "duration": 10,
    "start_time": "2021-12-09T08:24:15.895Z"
   },
   {
    "duration": 310,
    "start_time": "2021-12-09T08:24:15.907Z"
   },
   {
    "duration": 331,
    "start_time": "2021-12-09T08:24:16.220Z"
   },
   {
    "duration": 321,
    "start_time": "2021-12-09T08:24:16.553Z"
   },
   {
    "duration": 304,
    "start_time": "2021-12-09T08:24:16.877Z"
   },
   {
    "duration": 16,
    "start_time": "2021-12-09T08:24:17.184Z"
   },
   {
    "duration": 284,
    "start_time": "2021-12-09T08:24:17.203Z"
   },
   {
    "duration": 92,
    "start_time": "2021-12-09T08:24:17.489Z"
   },
   {
    "duration": 705,
    "start_time": "2021-12-09T08:24:17.584Z"
   },
   {
    "duration": -3079,
    "start_time": "2021-12-09T08:24:21.370Z"
   },
   {
    "duration": -3083,
    "start_time": "2021-12-09T08:24:21.375Z"
   },
   {
    "duration": 806,
    "start_time": "2021-12-09T08:25:21.625Z"
   },
   {
    "duration": 1829,
    "start_time": "2021-12-09T08:25:39.815Z"
   },
   {
    "duration": 539,
    "start_time": "2021-12-09T08:26:13.386Z"
   },
   {
    "duration": 1157,
    "start_time": "2021-12-09T08:26:21.873Z"
   },
   {
    "duration": 5,
    "start_time": "2021-12-09T08:26:28.064Z"
   },
   {
    "duration": 956,
    "start_time": "2021-12-09T08:26:30.900Z"
   },
   {
    "duration": 1193,
    "start_time": "2021-12-09T08:28:48.807Z"
   },
   {
    "duration": 82,
    "start_time": "2021-12-09T08:29:01.615Z"
   },
   {
    "duration": 130,
    "start_time": "2021-12-09T08:29:01.723Z"
   },
   {
    "duration": 17,
    "start_time": "2021-12-09T08:29:01.855Z"
   },
   {
    "duration": 12,
    "start_time": "2021-12-09T08:29:01.875Z"
   },
   {
    "duration": 38,
    "start_time": "2021-12-09T08:29:01.891Z"
   },
   {
    "duration": 16,
    "start_time": "2021-12-09T08:29:01.933Z"
   },
   {
    "duration": 19,
    "start_time": "2021-12-09T08:29:01.953Z"
   },
   {
    "duration": 50,
    "start_time": "2021-12-09T08:29:01.979Z"
   },
   {
    "duration": 26,
    "start_time": "2021-12-09T08:29:02.032Z"
   },
   {
    "duration": 10,
    "start_time": "2021-12-09T08:29:02.061Z"
   },
   {
    "duration": 8,
    "start_time": "2021-12-09T08:29:02.074Z"
   },
   {
    "duration": 23,
    "start_time": "2021-12-09T08:29:02.084Z"
   },
   {
    "duration": 42,
    "start_time": "2021-12-09T08:29:02.110Z"
   },
   {
    "duration": 8,
    "start_time": "2021-12-09T08:29:02.155Z"
   },
   {
    "duration": 19,
    "start_time": "2021-12-09T08:29:02.166Z"
   },
   {
    "duration": 35,
    "start_time": "2021-12-09T08:29:02.188Z"
   },
   {
    "duration": 48,
    "start_time": "2021-12-09T08:29:02.225Z"
   },
   {
    "duration": 4,
    "start_time": "2021-12-09T08:29:02.275Z"
   },
   {
    "duration": 57,
    "start_time": "2021-12-09T08:29:02.281Z"
   },
   {
    "duration": 6,
    "start_time": "2021-12-09T08:29:02.341Z"
   },
   {
    "duration": 20,
    "start_time": "2021-12-09T08:29:02.350Z"
   },
   {
    "duration": 1004,
    "start_time": "2021-12-09T08:29:02.372Z"
   },
   {
    "duration": 44,
    "start_time": "2021-12-09T08:29:03.381Z"
   },
   {
    "duration": 322,
    "start_time": "2021-12-09T08:29:03.428Z"
   },
   {
    "duration": 343,
    "start_time": "2021-12-09T08:29:03.752Z"
   },
   {
    "duration": 384,
    "start_time": "2021-12-09T08:29:04.097Z"
   },
   {
    "duration": 335,
    "start_time": "2021-12-09T08:29:04.483Z"
   },
   {
    "duration": 386,
    "start_time": "2021-12-09T08:29:04.820Z"
   },
   {
    "duration": 26,
    "start_time": "2021-12-09T08:29:05.209Z"
   },
   {
    "duration": 21,
    "start_time": "2021-12-09T08:29:05.237Z"
   },
   {
    "duration": 16,
    "start_time": "2021-12-09T08:29:05.261Z"
   },
   {
    "duration": 330,
    "start_time": "2021-12-09T08:29:05.279Z"
   },
   {
    "duration": 42,
    "start_time": "2021-12-09T08:29:05.611Z"
   },
   {
    "duration": 29,
    "start_time": "2021-12-09T08:29:05.655Z"
   },
   {
    "duration": 38,
    "start_time": "2021-12-09T08:29:05.686Z"
   },
   {
    "duration": 9,
    "start_time": "2021-12-09T08:29:05.726Z"
   },
   {
    "duration": 442,
    "start_time": "2021-12-09T08:29:05.738Z"
   },
   {
    "duration": 10,
    "start_time": "2021-12-09T08:29:06.182Z"
   },
   {
    "duration": 321,
    "start_time": "2021-12-09T08:29:06.194Z"
   },
   {
    "duration": 332,
    "start_time": "2021-12-09T08:29:06.522Z"
   },
   {
    "duration": 334,
    "start_time": "2021-12-09T08:29:06.857Z"
   },
   {
    "duration": 304,
    "start_time": "2021-12-09T08:29:07.194Z"
   },
   {
    "duration": 31,
    "start_time": "2021-12-09T08:29:07.501Z"
   },
   {
    "duration": 302,
    "start_time": "2021-12-09T08:29:07.535Z"
   },
   {
    "duration": 91,
    "start_time": "2021-12-09T08:29:07.840Z"
   },
   {
    "duration": 1201,
    "start_time": "2021-12-09T08:29:07.933Z"
   },
   {
    "duration": -3086,
    "start_time": "2021-12-09T08:29:12.222Z"
   },
   {
    "duration": -3090,
    "start_time": "2021-12-09T08:29:12.228Z"
   },
   {
    "duration": 1610,
    "start_time": "2021-12-09T08:30:19.568Z"
   },
   {
    "duration": 1454,
    "start_time": "2021-12-09T08:31:24.647Z"
   },
   {
    "duration": 860,
    "start_time": "2021-12-09T08:31:36.263Z"
   },
   {
    "duration": 856,
    "start_time": "2021-12-09T08:31:41.544Z"
   },
   {
    "duration": 6,
    "start_time": "2021-12-09T08:32:21.455Z"
   },
   {
    "duration": 1204,
    "start_time": "2021-12-09T08:32:23.536Z"
   },
   {
    "duration": 876,
    "start_time": "2021-12-09T09:04:57.508Z"
   },
   {
    "duration": 115,
    "start_time": "2021-12-09T09:04:58.387Z"
   },
   {
    "duration": 25,
    "start_time": "2021-12-09T09:04:58.505Z"
   },
   {
    "duration": 13,
    "start_time": "2021-12-09T09:04:58.533Z"
   },
   {
    "duration": 8,
    "start_time": "2021-12-09T09:04:58.548Z"
   },
   {
    "duration": 9,
    "start_time": "2021-12-09T09:04:58.558Z"
   },
   {
    "duration": 11,
    "start_time": "2021-12-09T09:04:58.570Z"
   },
   {
    "duration": 11,
    "start_time": "2021-12-09T09:04:58.624Z"
   },
   {
    "duration": 15,
    "start_time": "2021-12-09T09:04:58.639Z"
   },
   {
    "duration": 8,
    "start_time": "2021-12-09T09:04:58.657Z"
   },
   {
    "duration": 11,
    "start_time": "2021-12-09T09:04:58.667Z"
   },
   {
    "duration": 21,
    "start_time": "2021-12-09T09:04:58.681Z"
   },
   {
    "duration": 43,
    "start_time": "2021-12-09T09:04:58.725Z"
   },
   {
    "duration": 11,
    "start_time": "2021-12-09T09:04:58.771Z"
   },
   {
    "duration": 41,
    "start_time": "2021-12-09T09:04:58.784Z"
   },
   {
    "duration": 32,
    "start_time": "2021-12-09T09:04:58.828Z"
   },
   {
    "duration": 67,
    "start_time": "2021-12-09T09:04:58.863Z"
   },
   {
    "duration": 4,
    "start_time": "2021-12-09T09:04:58.932Z"
   },
   {
    "duration": 44,
    "start_time": "2021-12-09T09:04:58.938Z"
   },
   {
    "duration": 5,
    "start_time": "2021-12-09T09:04:58.985Z"
   },
   {
    "duration": 43,
    "start_time": "2021-12-09T09:04:58.992Z"
   },
   {
    "duration": 951,
    "start_time": "2021-12-09T09:04:59.037Z"
   },
   {
    "duration": 45,
    "start_time": "2021-12-09T09:04:59.990Z"
   },
   {
    "duration": 447,
    "start_time": "2021-12-09T09:05:00.038Z"
   },
   {
    "duration": 471,
    "start_time": "2021-12-09T09:05:00.488Z"
   },
   {
    "duration": 373,
    "start_time": "2021-12-09T09:05:00.962Z"
   },
   {
    "duration": 334,
    "start_time": "2021-12-09T09:05:01.340Z"
   },
   {
    "duration": 364,
    "start_time": "2021-12-09T09:05:01.677Z"
   },
   {
    "duration": 13,
    "start_time": "2021-12-09T09:05:02.043Z"
   },
   {
    "duration": 24,
    "start_time": "2021-12-09T09:05:02.059Z"
   },
   {
    "duration": 50,
    "start_time": "2021-12-09T09:05:02.086Z"
   },
   {
    "duration": 280,
    "start_time": "2021-12-09T09:05:02.139Z"
   },
   {
    "duration": 37,
    "start_time": "2021-12-09T09:05:02.421Z"
   },
   {
    "duration": 28,
    "start_time": "2021-12-09T09:05:02.461Z"
   },
   {
    "duration": 35,
    "start_time": "2021-12-09T09:05:02.491Z"
   },
   {
    "duration": 8,
    "start_time": "2021-12-09T09:05:02.529Z"
   },
   {
    "duration": 511,
    "start_time": "2021-12-09T09:05:02.539Z"
   },
   {
    "duration": 10,
    "start_time": "2021-12-09T09:05:03.052Z"
   },
   {
    "duration": 421,
    "start_time": "2021-12-09T09:05:03.064Z"
   },
   {
    "duration": 319,
    "start_time": "2021-12-09T09:05:03.488Z"
   },
   {
    "duration": 315,
    "start_time": "2021-12-09T09:05:03.811Z"
   },
   {
    "duration": 304,
    "start_time": "2021-12-09T09:05:04.129Z"
   },
   {
    "duration": 16,
    "start_time": "2021-12-09T09:05:04.435Z"
   },
   {
    "duration": 472,
    "start_time": "2021-12-09T09:05:04.454Z"
   },
   {
    "duration": 138,
    "start_time": "2021-12-09T09:05:04.930Z"
   },
   {
    "duration": 837,
    "start_time": "2021-12-09T09:05:05.071Z"
   },
   {
    "duration": 13,
    "start_time": "2021-12-09T09:05:05.911Z"
   },
   {
    "duration": 827,
    "start_time": "2021-12-09T09:05:05.927Z"
   },
   {
    "duration": 344,
    "start_time": "2021-12-09T09:31:35.055Z"
   },
   {
    "duration": 334,
    "start_time": "2021-12-09T09:32:59.467Z"
   },
   {
    "duration": 301,
    "start_time": "2021-12-09T09:35:04.533Z"
   },
   {
    "duration": 325,
    "start_time": "2021-12-09T09:35:07.374Z"
   },
   {
    "duration": 906,
    "start_time": "2021-12-09T09:46:23.386Z"
   },
   {
    "duration": 106,
    "start_time": "2021-12-09T09:46:24.295Z"
   },
   {
    "duration": 22,
    "start_time": "2021-12-09T09:46:24.404Z"
   },
   {
    "duration": 12,
    "start_time": "2021-12-09T09:46:24.429Z"
   },
   {
    "duration": 6,
    "start_time": "2021-12-09T09:46:24.444Z"
   },
   {
    "duration": 7,
    "start_time": "2021-12-09T09:46:24.453Z"
   },
   {
    "duration": 11,
    "start_time": "2021-12-09T09:46:24.462Z"
   },
   {
    "duration": 49,
    "start_time": "2021-12-09T09:46:24.476Z"
   },
   {
    "duration": 15,
    "start_time": "2021-12-09T09:46:24.528Z"
   },
   {
    "duration": 6,
    "start_time": "2021-12-09T09:46:24.546Z"
   },
   {
    "duration": 3,
    "start_time": "2021-12-09T09:46:24.555Z"
   },
   {
    "duration": 9,
    "start_time": "2021-12-09T09:46:24.560Z"
   },
   {
    "duration": 78,
    "start_time": "2021-12-09T09:46:24.571Z"
   },
   {
    "duration": 8,
    "start_time": "2021-12-09T09:46:24.651Z"
   },
   {
    "duration": 12,
    "start_time": "2021-12-09T09:46:24.661Z"
   },
   {
    "duration": 10,
    "start_time": "2021-12-09T09:46:24.676Z"
   },
   {
    "duration": 76,
    "start_time": "2021-12-09T09:46:24.688Z"
   },
   {
    "duration": 4,
    "start_time": "2021-12-09T09:46:24.766Z"
   },
   {
    "duration": 56,
    "start_time": "2021-12-09T09:46:24.772Z"
   },
   {
    "duration": 5,
    "start_time": "2021-12-09T09:46:24.830Z"
   },
   {
    "duration": 19,
    "start_time": "2021-12-09T09:46:24.838Z"
   },
   {
    "duration": 898,
    "start_time": "2021-12-09T09:46:24.859Z"
   },
   {
    "duration": 29,
    "start_time": "2021-12-09T09:46:25.761Z"
   },
   {
    "duration": 448,
    "start_time": "2021-12-09T09:46:25.793Z"
   },
   {
    "duration": 426,
    "start_time": "2021-12-09T09:46:26.243Z"
   },
   {
    "duration": 361,
    "start_time": "2021-12-09T09:46:26.671Z"
   },
   {
    "duration": 302,
    "start_time": "2021-12-09T09:46:27.034Z"
   },
   {
    "duration": 346,
    "start_time": "2021-12-09T09:46:27.338Z"
   },
   {
    "duration": 13,
    "start_time": "2021-12-09T09:46:27.687Z"
   },
   {
    "duration": 24,
    "start_time": "2021-12-09T09:46:27.722Z"
   },
   {
    "duration": 14,
    "start_time": "2021-12-09T09:46:27.749Z"
   },
   {
    "duration": 304,
    "start_time": "2021-12-09T09:46:27.766Z"
   },
   {
    "duration": 52,
    "start_time": "2021-12-09T09:46:28.072Z"
   },
   {
    "duration": 31,
    "start_time": "2021-12-09T09:46:28.126Z"
   },
   {
    "duration": 6,
    "start_time": "2021-12-09T09:46:28.160Z"
   },
   {
    "duration": 8,
    "start_time": "2021-12-09T09:46:28.169Z"
   },
   {
    "duration": 464,
    "start_time": "2021-12-09T09:46:28.180Z"
   },
   {
    "duration": 10,
    "start_time": "2021-12-09T09:46:28.647Z"
   },
   {
    "duration": 347,
    "start_time": "2021-12-09T09:46:28.660Z"
   },
   {
    "duration": 357,
    "start_time": "2021-12-09T09:46:29.009Z"
   },
   {
    "duration": 294,
    "start_time": "2021-12-09T09:46:29.368Z"
   },
   {
    "duration": 321,
    "start_time": "2021-12-09T09:46:29.665Z"
   },
   {
    "duration": 15,
    "start_time": "2021-12-09T09:46:29.989Z"
   },
   {
    "duration": 332,
    "start_time": "2021-12-09T09:46:30.024Z"
   },
   {
    "duration": 90,
    "start_time": "2021-12-09T09:46:30.358Z"
   },
   {
    "duration": 809,
    "start_time": "2021-12-09T09:46:30.450Z"
   },
   {
    "duration": 5,
    "start_time": "2021-12-09T09:46:31.261Z"
   },
   {
    "duration": 834,
    "start_time": "2021-12-09T09:46:31.269Z"
   },
   {
    "duration": 275,
    "start_time": "2021-12-09T17:54:16.805Z"
   },
   {
    "duration": 640,
    "start_time": "2021-12-09T17:54:31.775Z"
   },
   {
    "duration": 304,
    "start_time": "2021-12-09T17:54:43.984Z"
   },
   {
    "duration": 14,
    "start_time": "2021-12-09T17:54:47.601Z"
   },
   {
    "duration": 4,
    "start_time": "2021-12-09T17:54:56.657Z"
   },
   {
    "duration": 5,
    "start_time": "2021-12-09T17:55:02.231Z"
   },
   {
    "duration": 3,
    "start_time": "2021-12-09T17:55:59.136Z"
   },
   {
    "duration": 4,
    "start_time": "2021-12-09T17:55:59.365Z"
   },
   {
    "duration": 6,
    "start_time": "2021-12-09T17:56:00.308Z"
   },
   {
    "duration": 650,
    "start_time": "2021-12-09T17:59:46.599Z"
   },
   {
    "duration": 76,
    "start_time": "2021-12-09T17:59:47.251Z"
   },
   {
    "duration": 12,
    "start_time": "2021-12-09T17:59:47.329Z"
   },
   {
    "duration": 19,
    "start_time": "2021-12-09T17:59:47.343Z"
   },
   {
    "duration": 5,
    "start_time": "2021-12-09T17:59:47.365Z"
   },
   {
    "duration": 7,
    "start_time": "2021-12-09T17:59:47.372Z"
   },
   {
    "duration": 8,
    "start_time": "2021-12-09T17:59:47.381Z"
   },
   {
    "duration": 8,
    "start_time": "2021-12-09T17:59:47.391Z"
   },
   {
    "duration": 10,
    "start_time": "2021-12-09T17:59:47.401Z"
   },
   {
    "duration": 5,
    "start_time": "2021-12-09T17:59:47.414Z"
   },
   {
    "duration": 43,
    "start_time": "2021-12-09T17:59:47.421Z"
   },
   {
    "duration": 7,
    "start_time": "2021-12-09T17:59:47.466Z"
   },
   {
    "duration": 25,
    "start_time": "2021-12-09T17:59:47.475Z"
   },
   {
    "duration": 7,
    "start_time": "2021-12-09T17:59:47.501Z"
   },
   {
    "duration": 11,
    "start_time": "2021-12-09T17:59:47.509Z"
   },
   {
    "duration": 9,
    "start_time": "2021-12-09T17:59:47.521Z"
   },
   {
    "duration": 60,
    "start_time": "2021-12-09T17:59:47.532Z"
   },
   {
    "duration": 2,
    "start_time": "2021-12-09T17:59:47.594Z"
   },
   {
    "duration": 27,
    "start_time": "2021-12-09T17:59:47.598Z"
   },
   {
    "duration": 5,
    "start_time": "2021-12-09T17:59:47.627Z"
   },
   {
    "duration": 38,
    "start_time": "2021-12-09T17:59:47.633Z"
   },
   {
    "duration": 590,
    "start_time": "2021-12-09T17:59:47.673Z"
   },
   {
    "duration": 21,
    "start_time": "2021-12-09T17:59:48.265Z"
   },
   {
    "duration": 330,
    "start_time": "2021-12-09T17:59:48.288Z"
   },
   {
    "duration": 221,
    "start_time": "2021-12-09T17:59:48.621Z"
   },
   {
    "duration": 234,
    "start_time": "2021-12-09T17:59:48.844Z"
   },
   {
    "duration": 210,
    "start_time": "2021-12-09T17:59:49.083Z"
   },
   {
    "duration": 230,
    "start_time": "2021-12-09T17:59:49.295Z"
   },
   {
    "duration": 11,
    "start_time": "2021-12-09T17:59:49.527Z"
   },
   {
    "duration": 33,
    "start_time": "2021-12-09T17:59:49.540Z"
   },
   {
    "duration": 13,
    "start_time": "2021-12-09T17:59:49.575Z"
   },
   {
    "duration": 195,
    "start_time": "2021-12-09T17:59:49.590Z"
   },
   {
    "duration": 27,
    "start_time": "2021-12-09T17:59:49.787Z"
   },
   {
    "duration": 20,
    "start_time": "2021-12-09T17:59:49.816Z"
   },
   {
    "duration": 27,
    "start_time": "2021-12-09T17:59:49.838Z"
   },
   {
    "duration": 5,
    "start_time": "2021-12-09T17:59:49.867Z"
   },
   {
    "duration": 289,
    "start_time": "2021-12-09T17:59:49.874Z"
   },
   {
    "duration": 7,
    "start_time": "2021-12-09T17:59:50.165Z"
   },
   {
    "duration": 223,
    "start_time": "2021-12-09T17:59:50.174Z"
   },
   {
    "duration": 332,
    "start_time": "2021-12-09T17:59:50.398Z"
   },
   {
    "duration": 210,
    "start_time": "2021-12-09T17:59:50.732Z"
   },
   {
    "duration": 222,
    "start_time": "2021-12-09T17:59:50.944Z"
   },
   {
    "duration": 11,
    "start_time": "2021-12-09T17:59:51.169Z"
   },
   {
    "duration": 255,
    "start_time": "2021-12-09T17:59:51.182Z"
   },
   {
    "duration": 72,
    "start_time": "2021-12-09T17:59:51.439Z"
   },
   {
    "duration": 545,
    "start_time": "2021-12-09T17:59:51.513Z"
   },
   {
    "duration": 3,
    "start_time": "2021-12-09T17:59:52.063Z"
   },
   {
    "duration": 530,
    "start_time": "2021-12-09T17:59:52.068Z"
   },
   {
    "duration": 924,
    "start_time": "2021-12-21T08:13:37.530Z"
   },
   {
    "duration": 65,
    "start_time": "2021-12-21T08:25:27.475Z"
   },
   {
    "duration": 104,
    "start_time": "2021-12-21T08:25:27.542Z"
   },
   {
    "duration": 10,
    "start_time": "2021-12-21T08:25:27.648Z"
   },
   {
    "duration": 33,
    "start_time": "2021-12-21T08:25:27.660Z"
   },
   {
    "duration": 5,
    "start_time": "2021-12-21T08:25:27.695Z"
   },
   {
    "duration": 8,
    "start_time": "2021-12-21T08:25:27.701Z"
   },
   {
    "duration": 10,
    "start_time": "2021-12-21T08:25:27.710Z"
   },
   {
    "duration": 6,
    "start_time": "2021-12-21T08:25:27.723Z"
   },
   {
    "duration": 9,
    "start_time": "2021-12-21T08:25:27.731Z"
   },
   {
    "duration": 4,
    "start_time": "2021-12-21T08:25:27.742Z"
   },
   {
    "duration": 2,
    "start_time": "2021-12-21T08:25:27.748Z"
   },
   {
    "duration": 39,
    "start_time": "2021-12-21T08:25:27.752Z"
   },
   {
    "duration": 24,
    "start_time": "2021-12-21T08:25:27.793Z"
   },
   {
    "duration": 6,
    "start_time": "2021-12-21T08:25:27.818Z"
   },
   {
    "duration": 11,
    "start_time": "2021-12-21T08:25:27.825Z"
   },
   {
    "duration": 7,
    "start_time": "2021-12-21T08:25:27.838Z"
   },
   {
    "duration": 60,
    "start_time": "2021-12-21T08:25:27.847Z"
   },
   {
    "duration": 2,
    "start_time": "2021-12-21T08:25:27.909Z"
   },
   {
    "duration": 25,
    "start_time": "2021-12-21T08:25:27.912Z"
   },
   {
    "duration": 3,
    "start_time": "2021-12-21T08:25:27.939Z"
   },
   {
    "duration": 14,
    "start_time": "2021-12-21T08:25:27.944Z"
   },
   {
    "duration": 554,
    "start_time": "2021-12-21T08:25:27.959Z"
   },
   {
    "duration": 17,
    "start_time": "2021-12-21T08:25:28.516Z"
   },
   {
    "duration": 294,
    "start_time": "2021-12-21T08:25:28.535Z"
   },
   {
    "duration": 209,
    "start_time": "2021-12-21T08:25:28.831Z"
   },
   {
    "duration": 232,
    "start_time": "2021-12-21T08:25:29.041Z"
   },
   {
    "duration": 208,
    "start_time": "2021-12-21T08:25:29.275Z"
   },
   {
    "duration": 242,
    "start_time": "2021-12-21T08:25:29.485Z"
   },
   {
    "duration": 9,
    "start_time": "2021-12-21T08:25:29.728Z"
   },
   {
    "duration": 18,
    "start_time": "2021-12-21T08:25:29.738Z"
   },
   {
    "duration": 11,
    "start_time": "2021-12-21T08:25:29.757Z"
   },
   {
    "duration": 185,
    "start_time": "2021-12-21T08:25:29.769Z"
   },
   {
    "duration": 37,
    "start_time": "2021-12-21T08:25:29.956Z"
   },
   {
    "duration": 21,
    "start_time": "2021-12-21T08:25:29.995Z"
   },
   {
    "duration": 10,
    "start_time": "2021-12-21T08:25:30.018Z"
   },
   {
    "duration": 6,
    "start_time": "2021-12-21T08:25:30.029Z"
   },
   {
    "duration": 287,
    "start_time": "2021-12-21T08:25:30.037Z"
   },
   {
    "duration": 8,
    "start_time": "2021-12-21T08:25:30.326Z"
   },
   {
    "duration": 221,
    "start_time": "2021-12-21T08:25:30.335Z"
   },
   {
    "duration": 248,
    "start_time": "2021-12-21T08:25:30.558Z"
   },
   {
    "duration": 212,
    "start_time": "2021-12-21T08:25:30.808Z"
   },
   {
    "duration": 347,
    "start_time": "2021-12-21T08:25:31.022Z"
   },
   {
    "duration": 36,
    "start_time": "2021-12-21T08:25:31.379Z"
   },
   {
    "duration": 261,
    "start_time": "2021-12-21T08:25:31.425Z"
   },
   {
    "duration": 59,
    "start_time": "2021-12-21T08:25:31.691Z"
   },
   {
    "duration": 572,
    "start_time": "2021-12-21T08:25:31.752Z"
   },
   {
    "duration": 4,
    "start_time": "2021-12-21T08:25:32.326Z"
   },
   {
    "duration": 589,
    "start_time": "2021-12-21T08:25:32.332Z"
   }
  ],
  "kernelspec": {
   "display_name": "Python 3 (ipykernel)",
   "language": "python",
   "name": "python3"
  },
  "language_info": {
   "codemirror_mode": {
    "name": "ipython",
    "version": 3
   },
   "file_extension": ".py",
   "mimetype": "text/x-python",
   "name": "python",
   "nbconvert_exporter": "python",
   "pygments_lexer": "ipython3",
   "version": "3.9.7"
  },
  "toc": {
   "base_numbering": 1,
   "nav_menu": {},
   "number_sections": true,
   "sideBar": true,
   "skip_h1_title": true,
   "title_cell": "Содержание",
   "title_sidebar": "Содержание",
   "toc_cell": true,
   "toc_position": {
    "height": "calc(100% - 180px)",
    "left": "10px",
    "top": "150px",
    "width": "384px"
   },
   "toc_section_display": true,
   "toc_window_display": true
  }
 },
 "nbformat": 4,
 "nbformat_minor": 2
}
