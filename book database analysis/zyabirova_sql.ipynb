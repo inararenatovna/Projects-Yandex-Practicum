{
 "cells": [
  {
   "cell_type": "markdown",
   "id": "14923c93",
   "metadata": {
    "toc": true
   },
   "source": [
    "<h1>Оглавление<span class=\"tocSkip\"></span></h1>\n",
    "<div class=\"toc\"><ul class=\"toc-item\"><li><span><a href=\"#Загрузка-данных-и-знакомство-с-ними\" data-toc-modified-id=\"Загрузка-данных-и-знакомство-с-ними-1\"><span class=\"toc-item-num\">1&nbsp;&nbsp;</span>Загрузка данных и знакомство с ними</a></span></li><li><span><a href=\"#Количество-выпущенных-книг-после-01.01.2000г.\" data-toc-modified-id=\"Количество-выпущенных-книг-после-01.01.2000г.-2\"><span class=\"toc-item-num\">2&nbsp;&nbsp;</span>Количество выпущенных книг после 01.01.2000г.</a></span></li><li><span><a href=\"#Количество-обзоров-и-средняя-оценка-для-каждой-книги\" data-toc-modified-id=\"Количество-обзоров-и-средняя-оценка-для-каждой-книги-3\"><span class=\"toc-item-num\">3&nbsp;&nbsp;</span>Количество обзоров и средняя оценка для каждой книги</a></span></li><li><span><a href=\"#Издательство,-выпустившее-наибольшее-количество-книг\" data-toc-modified-id=\"Издательство,-выпустившее-наибольшее-количество-книг-4\"><span class=\"toc-item-num\">4&nbsp;&nbsp;</span>Издательство, выпустившее наибольшее количество книг</a></span></li><li><span><a href=\"#Автор-с-самой-высокой-средней-оценкой-книг\" data-toc-modified-id=\"Автор-с-самой-высокой-средней-оценкой-книг-5\"><span class=\"toc-item-num\">5&nbsp;&nbsp;</span>Автор с самой высокой средней оценкой книг</a></span></li><li><span><a href=\"#Среднее-количество-обзоров-активных-пользователей\" data-toc-modified-id=\"Среднее-количество-обзоров-активных-пользователей-6\"><span class=\"toc-item-num\">6&nbsp;&nbsp;</span>Среднее количество обзоров активных пользователей</a></span></li><li><span><a href=\"#Вывод\" data-toc-modified-id=\"Вывод-7\"><span class=\"toc-item-num\">7&nbsp;&nbsp;</span>Вывод</a></span></li></ul></div>"
   ]
  },
  {
   "cell_type": "markdown",
   "id": "12e92942",
   "metadata": {},
   "source": [
    "# Анализ базы данных сервиса для чтения книг"
   ]
  },
  {
   "cell_type": "markdown",
   "id": "30983e8a",
   "metadata": {},
   "source": [
    "В нашем распоряжении доступ к базе данных сервиса для чтения кинг с информацией о книгах, издательствах, авторах и пользовательских обзорах. На основании анализа этих данных мы сформулируем предложение для нового продукта. Для этого оценим обзоры и оценки по книгам, определим самое продуктивное издательство и самого популярного автора."
   ]
  },
  {
   "cell_type": "markdown",
   "id": "892ed0cb",
   "metadata": {},
   "source": [
    "## Загрузка данных и знакомство с ними"
   ]
  },
  {
   "cell_type": "markdown",
   "id": "df88093a",
   "metadata": {},
   "source": [
    "Для начала импортируем необходимые нам библиотеки и подключимся к базе:"
   ]
  },
  {
   "cell_type": "code",
   "execution_count": 1,
   "id": "aacf508a",
   "metadata": {},
   "outputs": [],
   "source": [
    "import pandas as pd\n",
    "from sqlalchemy import create_engine\n",
    "\n",
    "db_config = {'user': 'praktikum_student', \n",
    "             'pwd': 'Sdf4$2;d-d30pp', \n",
    "             'host': 'rc1b-wcoijxj3yxfsf3fs.mdb.yandexcloud.net',\n",
    "             'port': 6432, \n",
    "             'db': 'data-analyst-final-project-db'} \n",
    "\n",
    "connection_string = 'postgresql://{}:{}@{}:{}/{}'.format(db_config['user'],\n",
    "                                                         db_config['pwd'],\n",
    "                                                         db_config['host'],\n",
    "                                                         db_config['port'],\n",
    "                                                         db_config['db'])\n",
    "\n",
    "engine = create_engine(connection_string, connect_args={'sslmode':'require'})"
   ]
  },
  {
   "cell_type": "markdown",
   "id": "25d5406d",
   "metadata": {},
   "source": [
    "Теперь ознакомимся с содержимым всех пяти таблиц:"
   ]
  },
  {
   "cell_type": "code",
   "execution_count": 2,
   "id": "3e8555b2",
   "metadata": {},
   "outputs": [
    {
     "data": {
      "text/html": [
       "<div>\n",
       "<style scoped>\n",
       "    .dataframe tbody tr th:only-of-type {\n",
       "        vertical-align: middle;\n",
       "    }\n",
       "\n",
       "    .dataframe tbody tr th {\n",
       "        vertical-align: top;\n",
       "    }\n",
       "\n",
       "    .dataframe thead th {\n",
       "        text-align: right;\n",
       "    }\n",
       "</style>\n",
       "<table border=\"1\" class=\"dataframe\">\n",
       "  <thead>\n",
       "    <tr style=\"text-align: right;\">\n",
       "      <th></th>\n",
       "      <th>book_id</th>\n",
       "      <th>author_id</th>\n",
       "      <th>title</th>\n",
       "      <th>num_pages</th>\n",
       "      <th>publication_date</th>\n",
       "      <th>publisher_id</th>\n",
       "    </tr>\n",
       "  </thead>\n",
       "  <tbody>\n",
       "    <tr>\n",
       "      <th>0</th>\n",
       "      <td>1</td>\n",
       "      <td>546</td>\n",
       "      <td>'Salem's Lot</td>\n",
       "      <td>594</td>\n",
       "      <td>2005-11-01</td>\n",
       "      <td>93</td>\n",
       "    </tr>\n",
       "    <tr>\n",
       "      <th>1</th>\n",
       "      <td>2</td>\n",
       "      <td>465</td>\n",
       "      <td>1 000 Places to See Before You Die</td>\n",
       "      <td>992</td>\n",
       "      <td>2003-05-22</td>\n",
       "      <td>336</td>\n",
       "    </tr>\n",
       "    <tr>\n",
       "      <th>2</th>\n",
       "      <td>3</td>\n",
       "      <td>407</td>\n",
       "      <td>13 Little Blue Envelopes (Little Blue Envelope...</td>\n",
       "      <td>322</td>\n",
       "      <td>2010-12-21</td>\n",
       "      <td>135</td>\n",
       "    </tr>\n",
       "    <tr>\n",
       "      <th>3</th>\n",
       "      <td>4</td>\n",
       "      <td>82</td>\n",
       "      <td>1491: New Revelations of the Americas Before C...</td>\n",
       "      <td>541</td>\n",
       "      <td>2006-10-10</td>\n",
       "      <td>309</td>\n",
       "    </tr>\n",
       "    <tr>\n",
       "      <th>4</th>\n",
       "      <td>5</td>\n",
       "      <td>125</td>\n",
       "      <td>1776</td>\n",
       "      <td>386</td>\n",
       "      <td>2006-07-04</td>\n",
       "      <td>268</td>\n",
       "    </tr>\n",
       "  </tbody>\n",
       "</table>\n",
       "</div>"
      ],
      "text/plain": [
       "   book_id  author_id                                              title  \\\n",
       "0        1        546                                       'Salem's Lot   \n",
       "1        2        465                 1 000 Places to See Before You Die   \n",
       "2        3        407  13 Little Blue Envelopes (Little Blue Envelope...   \n",
       "3        4         82  1491: New Revelations of the Americas Before C...   \n",
       "4        5        125                                               1776   \n",
       "\n",
       "   num_pages publication_date  publisher_id  \n",
       "0        594       2005-11-01            93  \n",
       "1        992       2003-05-22           336  \n",
       "2        322       2010-12-21           135  \n",
       "3        541       2006-10-10           309  \n",
       "4        386       2006-07-04           268  "
      ]
     },
     "metadata": {},
     "output_type": "display_data"
    },
    {
     "data": {
      "text/html": [
       "<div>\n",
       "<style scoped>\n",
       "    .dataframe tbody tr th:only-of-type {\n",
       "        vertical-align: middle;\n",
       "    }\n",
       "\n",
       "    .dataframe tbody tr th {\n",
       "        vertical-align: top;\n",
       "    }\n",
       "\n",
       "    .dataframe thead th {\n",
       "        text-align: right;\n",
       "    }\n",
       "</style>\n",
       "<table border=\"1\" class=\"dataframe\">\n",
       "  <thead>\n",
       "    <tr style=\"text-align: right;\">\n",
       "      <th></th>\n",
       "      <th>author_id</th>\n",
       "      <th>author</th>\n",
       "    </tr>\n",
       "  </thead>\n",
       "  <tbody>\n",
       "    <tr>\n",
       "      <th>0</th>\n",
       "      <td>1</td>\n",
       "      <td>A.S. Byatt</td>\n",
       "    </tr>\n",
       "    <tr>\n",
       "      <th>1</th>\n",
       "      <td>2</td>\n",
       "      <td>Aesop/Laura Harris/Laura Gibbs</td>\n",
       "    </tr>\n",
       "    <tr>\n",
       "      <th>2</th>\n",
       "      <td>3</td>\n",
       "      <td>Agatha Christie</td>\n",
       "    </tr>\n",
       "    <tr>\n",
       "      <th>3</th>\n",
       "      <td>4</td>\n",
       "      <td>Alan Brennert</td>\n",
       "    </tr>\n",
       "    <tr>\n",
       "      <th>4</th>\n",
       "      <td>5</td>\n",
       "      <td>Alan Moore/David   Lloyd</td>\n",
       "    </tr>\n",
       "  </tbody>\n",
       "</table>\n",
       "</div>"
      ],
      "text/plain": [
       "   author_id                          author\n",
       "0          1                      A.S. Byatt\n",
       "1          2  Aesop/Laura Harris/Laura Gibbs\n",
       "2          3                 Agatha Christie\n",
       "3          4                   Alan Brennert\n",
       "4          5        Alan Moore/David   Lloyd"
      ]
     },
     "metadata": {},
     "output_type": "display_data"
    },
    {
     "data": {
      "text/html": [
       "<div>\n",
       "<style scoped>\n",
       "    .dataframe tbody tr th:only-of-type {\n",
       "        vertical-align: middle;\n",
       "    }\n",
       "\n",
       "    .dataframe tbody tr th {\n",
       "        vertical-align: top;\n",
       "    }\n",
       "\n",
       "    .dataframe thead th {\n",
       "        text-align: right;\n",
       "    }\n",
       "</style>\n",
       "<table border=\"1\" class=\"dataframe\">\n",
       "  <thead>\n",
       "    <tr style=\"text-align: right;\">\n",
       "      <th></th>\n",
       "      <th>rating_id</th>\n",
       "      <th>book_id</th>\n",
       "      <th>username</th>\n",
       "      <th>rating</th>\n",
       "    </tr>\n",
       "  </thead>\n",
       "  <tbody>\n",
       "    <tr>\n",
       "      <th>0</th>\n",
       "      <td>1</td>\n",
       "      <td>1</td>\n",
       "      <td>ryanfranco</td>\n",
       "      <td>4</td>\n",
       "    </tr>\n",
       "    <tr>\n",
       "      <th>1</th>\n",
       "      <td>2</td>\n",
       "      <td>1</td>\n",
       "      <td>grantpatricia</td>\n",
       "      <td>2</td>\n",
       "    </tr>\n",
       "    <tr>\n",
       "      <th>2</th>\n",
       "      <td>3</td>\n",
       "      <td>1</td>\n",
       "      <td>brandtandrea</td>\n",
       "      <td>5</td>\n",
       "    </tr>\n",
       "    <tr>\n",
       "      <th>3</th>\n",
       "      <td>4</td>\n",
       "      <td>2</td>\n",
       "      <td>lorichen</td>\n",
       "      <td>3</td>\n",
       "    </tr>\n",
       "    <tr>\n",
       "      <th>4</th>\n",
       "      <td>5</td>\n",
       "      <td>2</td>\n",
       "      <td>mariokeller</td>\n",
       "      <td>2</td>\n",
       "    </tr>\n",
       "  </tbody>\n",
       "</table>\n",
       "</div>"
      ],
      "text/plain": [
       "   rating_id  book_id       username  rating\n",
       "0          1        1     ryanfranco       4\n",
       "1          2        1  grantpatricia       2\n",
       "2          3        1   brandtandrea       5\n",
       "3          4        2       lorichen       3\n",
       "4          5        2    mariokeller       2"
      ]
     },
     "metadata": {},
     "output_type": "display_data"
    },
    {
     "data": {
      "text/html": [
       "<div>\n",
       "<style scoped>\n",
       "    .dataframe tbody tr th:only-of-type {\n",
       "        vertical-align: middle;\n",
       "    }\n",
       "\n",
       "    .dataframe tbody tr th {\n",
       "        vertical-align: top;\n",
       "    }\n",
       "\n",
       "    .dataframe thead th {\n",
       "        text-align: right;\n",
       "    }\n",
       "</style>\n",
       "<table border=\"1\" class=\"dataframe\">\n",
       "  <thead>\n",
       "    <tr style=\"text-align: right;\">\n",
       "      <th></th>\n",
       "      <th>review_id</th>\n",
       "      <th>book_id</th>\n",
       "      <th>username</th>\n",
       "      <th>text</th>\n",
       "    </tr>\n",
       "  </thead>\n",
       "  <tbody>\n",
       "    <tr>\n",
       "      <th>0</th>\n",
       "      <td>1</td>\n",
       "      <td>1</td>\n",
       "      <td>brandtandrea</td>\n",
       "      <td>Mention society tell send professor analysis. ...</td>\n",
       "    </tr>\n",
       "    <tr>\n",
       "      <th>1</th>\n",
       "      <td>2</td>\n",
       "      <td>1</td>\n",
       "      <td>ryanfranco</td>\n",
       "      <td>Foot glass pretty audience hit themselves. Amo...</td>\n",
       "    </tr>\n",
       "    <tr>\n",
       "      <th>2</th>\n",
       "      <td>3</td>\n",
       "      <td>2</td>\n",
       "      <td>lorichen</td>\n",
       "      <td>Listen treat keep worry. Miss husband tax but ...</td>\n",
       "    </tr>\n",
       "    <tr>\n",
       "      <th>3</th>\n",
       "      <td>4</td>\n",
       "      <td>3</td>\n",
       "      <td>johnsonamanda</td>\n",
       "      <td>Finally month interesting blue could nature cu...</td>\n",
       "    </tr>\n",
       "    <tr>\n",
       "      <th>4</th>\n",
       "      <td>5</td>\n",
       "      <td>3</td>\n",
       "      <td>scotttamara</td>\n",
       "      <td>Nation purpose heavy give wait song will. List...</td>\n",
       "    </tr>\n",
       "  </tbody>\n",
       "</table>\n",
       "</div>"
      ],
      "text/plain": [
       "   review_id  book_id       username  \\\n",
       "0          1        1   brandtandrea   \n",
       "1          2        1     ryanfranco   \n",
       "2          3        2       lorichen   \n",
       "3          4        3  johnsonamanda   \n",
       "4          5        3    scotttamara   \n",
       "\n",
       "                                                text  \n",
       "0  Mention society tell send professor analysis. ...  \n",
       "1  Foot glass pretty audience hit themselves. Amo...  \n",
       "2  Listen treat keep worry. Miss husband tax but ...  \n",
       "3  Finally month interesting blue could nature cu...  \n",
       "4  Nation purpose heavy give wait song will. List...  "
      ]
     },
     "metadata": {},
     "output_type": "display_data"
    },
    {
     "data": {
      "text/html": [
       "<div>\n",
       "<style scoped>\n",
       "    .dataframe tbody tr th:only-of-type {\n",
       "        vertical-align: middle;\n",
       "    }\n",
       "\n",
       "    .dataframe tbody tr th {\n",
       "        vertical-align: top;\n",
       "    }\n",
       "\n",
       "    .dataframe thead th {\n",
       "        text-align: right;\n",
       "    }\n",
       "</style>\n",
       "<table border=\"1\" class=\"dataframe\">\n",
       "  <thead>\n",
       "    <tr style=\"text-align: right;\">\n",
       "      <th></th>\n",
       "      <th>publisher_id</th>\n",
       "      <th>publisher</th>\n",
       "    </tr>\n",
       "  </thead>\n",
       "  <tbody>\n",
       "    <tr>\n",
       "      <th>0</th>\n",
       "      <td>1</td>\n",
       "      <td>Ace</td>\n",
       "    </tr>\n",
       "    <tr>\n",
       "      <th>1</th>\n",
       "      <td>2</td>\n",
       "      <td>Ace Book</td>\n",
       "    </tr>\n",
       "    <tr>\n",
       "      <th>2</th>\n",
       "      <td>3</td>\n",
       "      <td>Ace Books</td>\n",
       "    </tr>\n",
       "    <tr>\n",
       "      <th>3</th>\n",
       "      <td>4</td>\n",
       "      <td>Ace Hardcover</td>\n",
       "    </tr>\n",
       "    <tr>\n",
       "      <th>4</th>\n",
       "      <td>5</td>\n",
       "      <td>Addison Wesley Publishing Company</td>\n",
       "    </tr>\n",
       "  </tbody>\n",
       "</table>\n",
       "</div>"
      ],
      "text/plain": [
       "   publisher_id                          publisher\n",
       "0             1                                Ace\n",
       "1             2                           Ace Book\n",
       "2             3                          Ace Books\n",
       "3             4                      Ace Hardcover\n",
       "4             5  Addison Wesley Publishing Company"
      ]
     },
     "execution_count": 2,
     "metadata": {},
     "output_type": "execute_result"
    }
   ],
   "source": [
    "query = ''' SELECT *\n",
    "FROM books\n",
    "LIMIT 5'''\n",
    "display(pd.io.sql.read_sql(query, con = engine))\n",
    "\n",
    "query = ''' SELECT *\n",
    "FROM authors\n",
    "LIMIT 5'''\n",
    "display(pd.io.sql.read_sql(query, con = engine))\n",
    "\n",
    "query = ''' SELECT *\n",
    "FROM ratings\n",
    "LIMIT 5'''\n",
    "display(pd.io.sql.read_sql(query, con = engine))\n",
    "\n",
    "query = ''' SELECT *\n",
    "FROM reviews\n",
    "LIMIT 5'''\n",
    "display(pd.io.sql.read_sql(query, con = engine))\n",
    "\n",
    "query = ''' SELECT *\n",
    "FROM publishers\n",
    "LIMIT 5'''\n",
    "pd.io.sql.read_sql(query, con = engine)"
   ]
  },
  {
   "cell_type": "markdown",
   "id": "013b38c7",
   "metadata": {},
   "source": [
    "## Количество выпущенных книг после 01.01.2000г."
   ]
  },
  {
   "cell_type": "markdown",
   "id": "b2806af8",
   "metadata": {},
   "source": [
    "Посчитаем, сколько книг вышло, начиная с 1 января 2000 года:"
   ]
  },
  {
   "cell_type": "code",
   "execution_count": 3,
   "id": "ca2fc7f8",
   "metadata": {},
   "outputs": [
    {
     "data": {
      "text/html": [
       "<div>\n",
       "<style scoped>\n",
       "    .dataframe tbody tr th:only-of-type {\n",
       "        vertical-align: middle;\n",
       "    }\n",
       "\n",
       "    .dataframe tbody tr th {\n",
       "        vertical-align: top;\n",
       "    }\n",
       "\n",
       "    .dataframe thead th {\n",
       "        text-align: right;\n",
       "    }\n",
       "</style>\n",
       "<table border=\"1\" class=\"dataframe\">\n",
       "  <thead>\n",
       "    <tr style=\"text-align: right;\">\n",
       "      <th></th>\n",
       "      <th>count</th>\n",
       "    </tr>\n",
       "  </thead>\n",
       "  <tbody>\n",
       "    <tr>\n",
       "      <th>0</th>\n",
       "      <td>821</td>\n",
       "    </tr>\n",
       "  </tbody>\n",
       "</table>\n",
       "</div>"
      ],
      "text/plain": [
       "   count\n",
       "0    821"
      ]
     },
     "execution_count": 3,
     "metadata": {},
     "output_type": "execute_result"
    }
   ],
   "source": [
    "query = ''' SELECT COUNT(book_id)\n",
    "FROM books\n",
    "WHERE publication_date >= '2000-01-01' '''\n",
    "pd.io.sql.read_sql(query, con = engine)"
   ]
  },
  {
   "cell_type": "markdown",
   "id": "849e6936",
   "metadata": {},
   "source": [
    "Итак, **с 2000-го года была выпущена 821 книга**. "
   ]
  },
  {
   "cell_type": "markdown",
   "id": "43bf92aa",
   "metadata": {},
   "source": [
    "## Количество обзоров и средняя оценка для каждой книги"
   ]
  },
  {
   "cell_type": "markdown",
   "id": "b7db842e",
   "metadata": {},
   "source": [
    "Далее посчитаем для каждой книги количество обзоров и среднюю оценку:"
   ]
  },
  {
   "cell_type": "code",
   "execution_count": 4,
   "id": "4d0670fa",
   "metadata": {},
   "outputs": [
    {
     "data": {
      "text/html": [
       "<div>\n",
       "<style scoped>\n",
       "    .dataframe tbody tr th:only-of-type {\n",
       "        vertical-align: middle;\n",
       "    }\n",
       "\n",
       "    .dataframe tbody tr th {\n",
       "        vertical-align: top;\n",
       "    }\n",
       "\n",
       "    .dataframe thead th {\n",
       "        text-align: right;\n",
       "    }\n",
       "</style>\n",
       "<table border=\"1\" class=\"dataframe\">\n",
       "  <thead>\n",
       "    <tr style=\"text-align: right;\">\n",
       "      <th></th>\n",
       "      <th>title</th>\n",
       "      <th>count_of_reviews</th>\n",
       "      <th>average_rating</th>\n",
       "    </tr>\n",
       "  </thead>\n",
       "  <tbody>\n",
       "    <tr>\n",
       "      <th>0</th>\n",
       "      <td>Twilight (Twilight  #1)</td>\n",
       "      <td>7</td>\n",
       "      <td>3.7</td>\n",
       "    </tr>\n",
       "    <tr>\n",
       "      <th>1</th>\n",
       "      <td>Harry Potter and the Prisoner of Azkaban (Harr...</td>\n",
       "      <td>6</td>\n",
       "      <td>4.4</td>\n",
       "    </tr>\n",
       "    <tr>\n",
       "      <th>2</th>\n",
       "      <td>Harry Potter and the Chamber of Secrets (Harry...</td>\n",
       "      <td>6</td>\n",
       "      <td>4.3</td>\n",
       "    </tr>\n",
       "    <tr>\n",
       "      <th>3</th>\n",
       "      <td>The Book Thief</td>\n",
       "      <td>6</td>\n",
       "      <td>4.3</td>\n",
       "    </tr>\n",
       "    <tr>\n",
       "      <th>4</th>\n",
       "      <td>The Glass Castle</td>\n",
       "      <td>6</td>\n",
       "      <td>4.2</td>\n",
       "    </tr>\n",
       "  </tbody>\n",
       "</table>\n",
       "</div>"
      ],
      "text/plain": [
       "                                               title  count_of_reviews  \\\n",
       "0                            Twilight (Twilight  #1)                 7   \n",
       "1  Harry Potter and the Prisoner of Azkaban (Harr...                 6   \n",
       "2  Harry Potter and the Chamber of Secrets (Harry...                 6   \n",
       "3                                     The Book Thief                 6   \n",
       "4                                   The Glass Castle                 6   \n",
       "\n",
       "   average_rating  \n",
       "0             3.7  \n",
       "1             4.4  \n",
       "2             4.3  \n",
       "3             4.3  \n",
       "4             4.2  "
      ]
     },
     "execution_count": 4,
     "metadata": {},
     "output_type": "execute_result"
    }
   ],
   "source": [
    "query = ''' \n",
    "SELECT b.title, \n",
    "        COUNT(DISTINCT rev.review_id) count_of_reviews, \n",
    "        ROUND(AVG(rat.rating), 1) average_rating\n",
    "FROM books AS b\n",
    "LEFT JOIN reviews AS rev ON b.book_id=rev.book_id\n",
    "LEFT JOIN ratings AS rat ON rev.book_id=rat.book_id\n",
    "GROUP BY b.book_id\n",
    "ORDER BY count_of_reviews DESC,\n",
    "        average_rating DESC\n",
    "LIMIT 5\n",
    "'''\n",
    "pd.io.sql.read_sql(query, con = engine)"
   ]
  },
  {
   "cell_type": "markdown",
   "id": "11f9fe10",
   "metadata": {},
   "source": [
    "**Самое большое количество обзоров и высоких средних оценок у книг \"Сумерки\", \"Книжный вор\", а также у второй и третьей части \"Гарри Поттера\".**"
   ]
  },
  {
   "cell_type": "markdown",
   "id": "623738f8",
   "metadata": {},
   "source": [
    "## Издательство, выпустившее наибольшее количество книг"
   ]
  },
  {
   "cell_type": "markdown",
   "id": "195a0c0a",
   "metadata": {},
   "source": [
    "Определим издательство, которое выпустило наибольшее число книг. Возьмем в анализ только публикации толще 50 страниц."
   ]
  },
  {
   "cell_type": "code",
   "execution_count": 5,
   "id": "89113e7c",
   "metadata": {},
   "outputs": [
    {
     "data": {
      "text/html": [
       "<div>\n",
       "<style scoped>\n",
       "    .dataframe tbody tr th:only-of-type {\n",
       "        vertical-align: middle;\n",
       "    }\n",
       "\n",
       "    .dataframe tbody tr th {\n",
       "        vertical-align: top;\n",
       "    }\n",
       "\n",
       "    .dataframe thead th {\n",
       "        text-align: right;\n",
       "    }\n",
       "</style>\n",
       "<table border=\"1\" class=\"dataframe\">\n",
       "  <thead>\n",
       "    <tr style=\"text-align: right;\">\n",
       "      <th></th>\n",
       "      <th>publisher</th>\n",
       "    </tr>\n",
       "  </thead>\n",
       "  <tbody>\n",
       "    <tr>\n",
       "      <th>0</th>\n",
       "      <td>Penguin Books</td>\n",
       "    </tr>\n",
       "  </tbody>\n",
       "</table>\n",
       "</div>"
      ],
      "text/plain": [
       "       publisher\n",
       "0  Penguin Books"
      ]
     },
     "execution_count": 5,
     "metadata": {},
     "output_type": "execute_result"
    }
   ],
   "source": [
    "query = ''' SELECT pub.publisher\n",
    "FROM publishers AS pub\n",
    "LEFT JOIN books AS b ON pub.publisher_id=b.publisher_id\n",
    "WHERE b.num_pages > 50\n",
    "GROUP BY pub.publisher_id\n",
    "ORDER BY COUNT(b.book_id) DESC\n",
    "LIMIT 1'''\n",
    "pd.io.sql.read_sql(query, con = engine)"
   ]
  },
  {
   "cell_type": "markdown",
   "id": "14e14387",
   "metadata": {},
   "source": [
    "**Самое продуктивное издательство - \"Penguin Books\".**"
   ]
  },
  {
   "cell_type": "markdown",
   "id": "a8eb4d1a",
   "metadata": {},
   "source": [
    "## Автор с самой высокой средней оценкой книг"
   ]
  },
  {
   "cell_type": "markdown",
   "id": "339e2d0f",
   "metadata": {},
   "source": [
    "Определим автора с самой высокой средней оценкой книг. Учитывать будем только книги с 50 и более оценками."
   ]
  },
  {
   "cell_type": "code",
   "execution_count": 9,
   "id": "e488c369",
   "metadata": {},
   "outputs": [
    {
     "data": {
      "text/html": [
       "<div>\n",
       "<style scoped>\n",
       "    .dataframe tbody tr th:only-of-type {\n",
       "        vertical-align: middle;\n",
       "    }\n",
       "\n",
       "    .dataframe tbody tr th {\n",
       "        vertical-align: top;\n",
       "    }\n",
       "\n",
       "    .dataframe thead th {\n",
       "        text-align: right;\n",
       "    }\n",
       "</style>\n",
       "<table border=\"1\" class=\"dataframe\">\n",
       "  <thead>\n",
       "    <tr style=\"text-align: right;\">\n",
       "      <th></th>\n",
       "      <th>author</th>\n",
       "      <th>average_rating</th>\n",
       "    </tr>\n",
       "  </thead>\n",
       "  <tbody>\n",
       "    <tr>\n",
       "      <th>0</th>\n",
       "      <td>Markus Zusak/Cao Xuân Việt Khương</td>\n",
       "      <td>4.3</td>\n",
       "    </tr>\n",
       "    <tr>\n",
       "      <th>1</th>\n",
       "      <td>J.K. Rowling/Mary GrandPré</td>\n",
       "      <td>4.3</td>\n",
       "    </tr>\n",
       "    <tr>\n",
       "      <th>2</th>\n",
       "      <td>J.R.R. Tolkien</td>\n",
       "      <td>4.2</td>\n",
       "    </tr>\n",
       "    <tr>\n",
       "      <th>3</th>\n",
       "      <td>Louisa May Alcott</td>\n",
       "      <td>4.2</td>\n",
       "    </tr>\n",
       "    <tr>\n",
       "      <th>4</th>\n",
       "      <td>Rick Riordan</td>\n",
       "      <td>4.1</td>\n",
       "    </tr>\n",
       "    <tr>\n",
       "      <th>5</th>\n",
       "      <td>William Golding</td>\n",
       "      <td>3.9</td>\n",
       "    </tr>\n",
       "    <tr>\n",
       "      <th>6</th>\n",
       "      <td>Paulo Coelho/Alan R. Clarke/Özdemir İnce</td>\n",
       "      <td>3.8</td>\n",
       "    </tr>\n",
       "    <tr>\n",
       "      <th>7</th>\n",
       "      <td>William Shakespeare/Paul Werstine/Barbara A. M...</td>\n",
       "      <td>3.8</td>\n",
       "    </tr>\n",
       "    <tr>\n",
       "      <th>8</th>\n",
       "      <td>Lois Lowry</td>\n",
       "      <td>3.8</td>\n",
       "    </tr>\n",
       "    <tr>\n",
       "      <th>9</th>\n",
       "      <td>J.D. Salinger</td>\n",
       "      <td>3.8</td>\n",
       "    </tr>\n",
       "    <tr>\n",
       "      <th>10</th>\n",
       "      <td>George Orwell/Boris Grabnar/Peter Škerl</td>\n",
       "      <td>3.7</td>\n",
       "    </tr>\n",
       "    <tr>\n",
       "      <th>11</th>\n",
       "      <td>Dan Brown</td>\n",
       "      <td>3.7</td>\n",
       "    </tr>\n",
       "    <tr>\n",
       "      <th>12</th>\n",
       "      <td>Stephenie Meyer</td>\n",
       "      <td>3.7</td>\n",
       "    </tr>\n",
       "    <tr>\n",
       "      <th>13</th>\n",
       "      <td>John Steinbeck</td>\n",
       "      <td>3.6</td>\n",
       "    </tr>\n",
       "  </tbody>\n",
       "</table>\n",
       "</div>"
      ],
      "text/plain": [
       "                                               author  average_rating\n",
       "0                   Markus Zusak/Cao Xuân Việt Khương             4.3\n",
       "1                          J.K. Rowling/Mary GrandPré             4.3\n",
       "2                                      J.R.R. Tolkien             4.2\n",
       "3                                   Louisa May Alcott             4.2\n",
       "4                                        Rick Riordan             4.1\n",
       "5                                     William Golding             3.9\n",
       "6            Paulo Coelho/Alan R. Clarke/Özdemir İnce             3.8\n",
       "7   William Shakespeare/Paul Werstine/Barbara A. M...             3.8\n",
       "8                                          Lois Lowry             3.8\n",
       "9                                       J.D. Salinger             3.8\n",
       "10            George Orwell/Boris Grabnar/Peter Škerl             3.7\n",
       "11                                          Dan Brown             3.7\n",
       "12                                    Stephenie Meyer             3.7\n",
       "13                                     John Steinbeck             3.6"
      ]
     },
     "execution_count": 9,
     "metadata": {},
     "output_type": "execute_result"
    }
   ],
   "source": [
    "query = ''' \n",
    "SELECT a.author, \n",
    "        ROUND(AVG(rat.rating), 1) average_rating\n",
    "FROM books AS b\n",
    "LEFT JOIN ratings AS rat ON b.book_id=rat.book_id\n",
    "LEFT JOIN authors AS a ON b.author_id=a.author_id\n",
    "WHERE b.book_id IN (SELECT b.book_id\n",
    "FROM books AS b\n",
    "LEFT JOIN ratings AS rat ON b.book_id=rat.book_id\n",
    "GROUP BY b.book_id\n",
    "HAVING COUNT(rat.rating) >= 50)\n",
    "GROUP BY a.author\n",
    "ORDER BY ROUND(AVG(rat.rating), 1) DESC\n",
    "'''\n",
    "pd.io.sql.read_sql(query, con = engine)"
   ]
  },
  {
   "cell_type": "markdown",
   "id": "974c07be",
   "metadata": {},
   "source": [
    "В топе авторов с книгами с самыми высокими средними оценками: **Джоан Роулинг и Маркус Зузак**."
   ]
  },
  {
   "cell_type": "markdown",
   "id": "2e9ca357",
   "metadata": {},
   "source": [
    "## Среднее количество обзоров активных пользователей"
   ]
  },
  {
   "cell_type": "markdown",
   "id": "6052de31",
   "metadata": {},
   "source": [
    "Посчитаем среднее количество обзоров от пользователей, которые поставили более 50 оценок:"
   ]
  },
  {
   "cell_type": "code",
   "execution_count": 8,
   "id": "c23b0fb7",
   "metadata": {},
   "outputs": [
    {
     "data": {
      "text/html": [
       "<div>\n",
       "<style scoped>\n",
       "    .dataframe tbody tr th:only-of-type {\n",
       "        vertical-align: middle;\n",
       "    }\n",
       "\n",
       "    .dataframe tbody tr th {\n",
       "        vertical-align: top;\n",
       "    }\n",
       "\n",
       "    .dataframe thead th {\n",
       "        text-align: right;\n",
       "    }\n",
       "</style>\n",
       "<table border=\"1\" class=\"dataframe\">\n",
       "  <thead>\n",
       "    <tr style=\"text-align: right;\">\n",
       "      <th></th>\n",
       "      <th>mean_count_of_reviews</th>\n",
       "    </tr>\n",
       "  </thead>\n",
       "  <tbody>\n",
       "    <tr>\n",
       "      <th>0</th>\n",
       "      <td>24.0</td>\n",
       "    </tr>\n",
       "  </tbody>\n",
       "</table>\n",
       "</div>"
      ],
      "text/plain": [
       "   mean_count_of_reviews\n",
       "0                   24.0"
      ]
     },
     "execution_count": 8,
     "metadata": {},
     "output_type": "execute_result"
    }
   ],
   "source": [
    "query = ''' SELECT ROUND(AVG(mean_count.count_review)) AS mean_count_of_reviews\n",
    "FROM (SELECT username, COUNT(review_id) AS count_review\n",
    "FROM reviews\n",
    "WHERE username IN (SELECT username\n",
    "FROM ratings \n",
    "GROUP BY username\n",
    "HAVING COUNT(rating_id) > 50)\n",
    "GROUP BY username) AS mean_count\n",
    "'''\n",
    "pd.io.sql.read_sql(query, con = engine)"
   ]
  },
  {
   "cell_type": "markdown",
   "id": "27b484bf",
   "metadata": {},
   "source": [
    "**Таким образом, активные пользователи написали, в среднем, по 24 обзора.**"
   ]
  },
  {
   "cell_type": "markdown",
   "id": "3227daf9",
   "metadata": {},
   "source": [
    "## Вывод"
   ]
  },
  {
   "cell_type": "markdown",
   "id": "e812784f",
   "metadata": {},
   "source": [
    "По итогам анализа мы имеем следующее:\n",
    "- с 2000-го года была выпущена 821 книга;\n",
    "- самое большое количество обзоров и высоких средних оценок у книг \"Сумерки\", \"Книжный вор\", а также у второй и третьей части \"Гарри Поттера\";\n",
    "- в топе авторов с книгами с самыми высокими средними оценками: Джоан Роулинг и Маркус Зузак;\n",
    "- самое продуктивное издательство - \"Penguin Books\";\n",
    "- активные пользователи написали, в среднем, по 24 обзора.\n",
    "\n",
    "Если мы посмотрим на самые высокооценённые позиции, то обратим внимание, что эти книги успешно экранизированы: \"Сумерки\", \"Гарри Поттер\" - это очевидно; произведение \"Книжный вор\" Маркуса Зузака было экранизировано под названием \"Воровка книг\". \n",
    "\n",
    "Вероятно, стоит делать расчёт на успешно экранизированные книги, так как после просмотра зрителям часто хочется обратиться к первоисточнику истории."
   ]
  }
 ],
 "metadata": {
  "ExecuteTimeLog": [
   {
    "duration": 615,
    "start_time": "2022-05-18T18:47:58.690Z"
   },
   {
    "duration": 98,
    "start_time": "2022-05-18T18:47:59.307Z"
   },
   {
    "duration": 9,
    "start_time": "2022-05-18T18:47:59.406Z"
   },
   {
    "duration": 23,
    "start_time": "2022-05-18T18:47:59.417Z"
   },
   {
    "duration": 11,
    "start_time": "2022-05-18T18:47:59.442Z"
   },
   {
    "duration": 14,
    "start_time": "2022-05-18T18:47:59.454Z"
   },
   {
    "duration": 34,
    "start_time": "2022-05-18T18:47:59.469Z"
   },
   {
    "duration": 568,
    "start_time": "2022-05-18T18:50:47.959Z"
   },
   {
    "duration": 87,
    "start_time": "2022-05-18T18:50:48.529Z"
   },
   {
    "duration": 7,
    "start_time": "2022-05-18T18:50:48.618Z"
   },
   {
    "duration": 30,
    "start_time": "2022-05-18T18:50:48.627Z"
   },
   {
    "duration": 9,
    "start_time": "2022-05-18T18:50:48.658Z"
   },
   {
    "duration": 16,
    "start_time": "2022-05-18T18:50:48.669Z"
   },
   {
    "duration": 35,
    "start_time": "2022-05-18T18:50:48.687Z"
   },
   {
    "duration": 17,
    "start_time": "2022-05-18T18:51:14.652Z"
   },
   {
    "duration": 15,
    "start_time": "2022-05-18T18:51:21.924Z"
   },
   {
    "duration": 17,
    "start_time": "2022-05-18T18:51:46.123Z"
   },
   {
    "duration": 17,
    "start_time": "2022-05-18T18:51:59.445Z"
   },
   {
    "duration": 16,
    "start_time": "2022-05-18T18:52:07.728Z"
   },
   {
    "duration": 39,
    "start_time": "2022-05-18T18:54:53.432Z"
   },
   {
    "duration": 57,
    "start_time": "2022-05-18T19:34:03.858Z"
   },
   {
    "duration": 705,
    "start_time": "2022-05-18T19:34:08.330Z"
   },
   {
    "duration": 561,
    "start_time": "2022-05-18T19:34:09.038Z"
   },
   {
    "duration": 67,
    "start_time": "2022-05-18T19:34:09.601Z"
   },
   {
    "duration": 4,
    "start_time": "2022-05-18T19:34:16.386Z"
   },
   {
    "duration": 81,
    "start_time": "2022-05-18T19:34:26.467Z"
   },
   {
    "duration": 71,
    "start_time": "2022-05-18T19:34:47.957Z"
   },
   {
    "duration": 73,
    "start_time": "2022-05-18T19:34:55.836Z"
   },
   {
    "duration": 211,
    "start_time": "2022-05-18T19:35:01.653Z"
   },
   {
    "duration": 186,
    "start_time": "2022-05-18T19:37:37.219Z"
   },
   {
    "duration": 79,
    "start_time": "2022-05-18T19:38:11.979Z"
   },
   {
    "duration": 71,
    "start_time": "2022-05-18T19:41:06.786Z"
   },
   {
    "duration": 72,
    "start_time": "2022-05-18T19:41:16.820Z"
   },
   {
    "duration": 105,
    "start_time": "2022-05-18T19:43:25.779Z"
   },
   {
    "duration": 121,
    "start_time": "2022-05-18T19:47:06.044Z"
   },
   {
    "duration": 148,
    "start_time": "2022-05-18T19:48:16.876Z"
   },
   {
    "duration": 92,
    "start_time": "2022-05-18T19:49:39.372Z"
   },
   {
    "duration": 115,
    "start_time": "2022-05-18T19:52:53.759Z"
   },
   {
    "duration": 123,
    "start_time": "2022-05-18T19:53:23.921Z"
   },
   {
    "duration": 112,
    "start_time": "2022-05-18T19:53:35.744Z"
   },
   {
    "duration": 119,
    "start_time": "2022-05-18T19:53:42.160Z"
   },
   {
    "duration": 82,
    "start_time": "2022-05-18T19:54:26.308Z"
   },
   {
    "duration": 177,
    "start_time": "2022-05-18T19:58:02.448Z"
   },
   {
    "duration": 136,
    "start_time": "2022-05-18T19:58:32.493Z"
   },
   {
    "duration": 74,
    "start_time": "2022-05-18T19:58:50.944Z"
   },
   {
    "duration": 74,
    "start_time": "2022-05-18T19:59:23.563Z"
   },
   {
    "duration": 72,
    "start_time": "2022-05-18T19:59:50.674Z"
   },
   {
    "duration": 89,
    "start_time": "2022-05-18T20:04:13.953Z"
   },
   {
    "duration": 147,
    "start_time": "2022-05-18T20:17:05.481Z"
   },
   {
    "duration": 112,
    "start_time": "2022-05-18T20:17:35.892Z"
   },
   {
    "duration": 119,
    "start_time": "2022-05-18T20:18:15.748Z"
   },
   {
    "duration": 107,
    "start_time": "2022-05-18T20:19:48.888Z"
   },
   {
    "duration": 93,
    "start_time": "2022-05-18T20:19:53.432Z"
   },
   {
    "duration": 94,
    "start_time": "2022-05-18T20:19:57.720Z"
   },
   {
    "duration": 103,
    "start_time": "2022-05-18T20:21:05.607Z"
   },
   {
    "duration": 72,
    "start_time": "2022-05-18T20:21:56.956Z"
   },
   {
    "duration": 76,
    "start_time": "2022-05-18T20:23:17.423Z"
   },
   {
    "duration": 91,
    "start_time": "2022-05-18T20:29:12.067Z"
   },
   {
    "duration": 108,
    "start_time": "2022-05-18T20:30:33.146Z"
   },
   {
    "duration": 104,
    "start_time": "2022-05-18T20:30:52.298Z"
   },
   {
    "duration": 72,
    "start_time": "2022-05-18T20:31:29.663Z"
   },
   {
    "duration": 69,
    "start_time": "2022-05-18T20:33:46.655Z"
   },
   {
    "duration": 71,
    "start_time": "2022-05-18T20:34:35.056Z"
   },
   {
    "duration": 566,
    "start_time": "2022-05-19T14:06:56.118Z"
   },
   {
    "duration": 595,
    "start_time": "2022-05-19T14:06:56.687Z"
   },
   {
    "duration": 81,
    "start_time": "2022-05-19T14:06:57.284Z"
   },
   {
    "duration": 90,
    "start_time": "2022-05-19T14:06:57.367Z"
   },
   {
    "duration": 72,
    "start_time": "2022-05-19T14:06:57.459Z"
   },
   {
    "duration": 75,
    "start_time": "2022-05-19T14:06:57.533Z"
   },
   {
    "duration": 83,
    "start_time": "2022-05-19T14:06:57.610Z"
   },
   {
    "duration": 82,
    "start_time": "2022-05-19T14:06:57.694Z"
   },
   {
    "duration": 79,
    "start_time": "2022-05-19T14:08:46.790Z"
   },
   {
    "duration": 7,
    "start_time": "2022-05-19T14:10:10.684Z"
   }
  ],
  "kernelspec": {
   "display_name": "Python 3 (ipykernel)",
   "language": "python",
   "name": "python3"
  },
  "language_info": {
   "codemirror_mode": {
    "name": "ipython",
    "version": 3
   },
   "file_extension": ".py",
   "mimetype": "text/x-python",
   "name": "python",
   "nbconvert_exporter": "python",
   "pygments_lexer": "ipython3",
   "version": "3.9.7"
  },
  "toc": {
   "base_numbering": 1,
   "nav_menu": {},
   "number_sections": true,
   "sideBar": true,
   "skip_h1_title": true,
   "title_cell": "Оглавление",
   "title_sidebar": "Оглавление",
   "toc_cell": true,
   "toc_position": {
    "height": "calc(100% - 180px)",
    "left": "10px",
    "top": "150px",
    "width": "384px"
   },
   "toc_section_display": true,
   "toc_window_display": false
  }
 },
 "nbformat": 4,
 "nbformat_minor": 5
}
