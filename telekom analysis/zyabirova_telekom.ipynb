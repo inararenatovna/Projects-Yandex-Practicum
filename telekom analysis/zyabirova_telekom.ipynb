{
 "cells": [
  {
   "cell_type": "markdown",
   "metadata": {
    "toc": true
   },
   "source": [
    "<h1>Оглавление<span class=\"tocSkip\"></span></h1>\n",
    "<div class=\"toc\"><ul class=\"toc-item\"><li><span><a href=\"#Изучение-данных-из-файла\" data-toc-modified-id=\"Изучение-данных-из-файла-1\"><span class=\"toc-item-num\">1&nbsp;&nbsp;</span>Изучение данных из файла</a></span><ul class=\"toc-item\"><li><span><a href=\"#Вывод\" data-toc-modified-id=\"Вывод-1.1\"><span class=\"toc-item-num\">1.1&nbsp;&nbsp;</span>Вывод</a></span></li></ul></li><li><span><a href=\"#Предобработка-данных\" data-toc-modified-id=\"Предобработка-данных-2\"><span class=\"toc-item-num\">2&nbsp;&nbsp;</span>Предобработка данных</a></span><ul class=\"toc-item\"><li><span><a href=\"#Вывод\" data-toc-modified-id=\"Вывод-2.1\"><span class=\"toc-item-num\">2.1&nbsp;&nbsp;</span>Вывод</a></span></li></ul></li><li><span><a href=\"#Расчеты,-добавление-результатов,-объединение-таблиц\" data-toc-modified-id=\"Расчеты,-добавление-результатов,-объединение-таблиц-3\"><span class=\"toc-item-num\">3&nbsp;&nbsp;</span>Расчеты, добавление результатов, объединение таблиц</a></span><ul class=\"toc-item\"><li><span><a href=\"#Вывод\" data-toc-modified-id=\"Вывод-3.1\"><span class=\"toc-item-num\">3.1&nbsp;&nbsp;</span>Вывод</a></span></li></ul></li><li><span><a href=\"#Анализ-данных\" data-toc-modified-id=\"Анализ-данных-4\"><span class=\"toc-item-num\">4&nbsp;&nbsp;</span>Анализ данных</a></span><ul class=\"toc-item\"><li><span><a href=\"#Анализ-поведения-клиентов-тарифа-&quot;Смарт&quot;\" data-toc-modified-id=\"Анализ-поведения-клиентов-тарифа-&quot;Смарт&quot;-4.1\"><span class=\"toc-item-num\">4.1&nbsp;&nbsp;</span>Анализ поведения клиентов тарифа \"Смарт\"</a></span></li><li><span><a href=\"#Анализ-поведения-клиентов-тарифа-&quot;Ультра&quot;\" data-toc-modified-id=\"Анализ-поведения-клиентов-тарифа-&quot;Ультра&quot;-4.2\"><span class=\"toc-item-num\">4.2&nbsp;&nbsp;</span>Анализ поведения клиентов тарифа \"Ультра\"</a></span></li><li><span><a href=\"#Сравнение-пользовательской-активности-клиентов-двух-тарифов\" data-toc-modified-id=\"Сравнение-пользовательской-активности-клиентов-двух-тарифов-4.3\"><span class=\"toc-item-num\">4.3&nbsp;&nbsp;</span>Сравнение пользовательской активности клиентов двух тарифов</a></span></li><li><span><a href=\"#Вывод\" data-toc-modified-id=\"Вывод-4.4\"><span class=\"toc-item-num\">4.4&nbsp;&nbsp;</span>Вывод</a></span></li></ul></li><li><span><a href=\"#Проверка-гипотез\" data-toc-modified-id=\"Проверка-гипотез-5\"><span class=\"toc-item-num\">5&nbsp;&nbsp;</span>Проверка гипотез</a></span><ul class=\"toc-item\"><li><span><a href=\"#Гипотеза-&quot;Средняя-выручка-пользователей-тарифов-«Ультра»-и-«Смарт»-различаются&quot;\" data-toc-modified-id=\"Гипотеза-&quot;Средняя-выручка-пользователей-тарифов-«Ультра»-и-«Смарт»-различаются&quot;-5.1\"><span class=\"toc-item-num\">5.1&nbsp;&nbsp;</span>Гипотеза \"Средняя выручка пользователей тарифов «Ультра» и «Смарт» различаются\"</a></span></li><li><span><a href=\"#Гипотеза-&quot;Средняя-выручка-пользователей-из-Москвы-отличается-от-выручки-пользователей-из-других-регионов&quot;\" data-toc-modified-id=\"Гипотеза-&quot;Средняя-выручка-пользователей-из-Москвы-отличается-от-выручки-пользователей-из-других-регионов&quot;-5.2\"><span class=\"toc-item-num\">5.2&nbsp;&nbsp;</span>Гипотеза \"Средняя выручка пользователей из Москвы отличается от выручки пользователей из других регионов\"</a></span></li><li><span><a href=\"#Вывод\" data-toc-modified-id=\"Вывод-5.3\"><span class=\"toc-item-num\">5.3&nbsp;&nbsp;</span>Вывод</a></span></li></ul></li><li><span><a href=\"#Общий-вывод\" data-toc-modified-id=\"Общий-вывод-6\"><span class=\"toc-item-num\">6&nbsp;&nbsp;</span>Общий вывод</a></span></li></ul></div>"
   ]
  },
  {
   "cell_type": "markdown",
   "metadata": {},
   "source": [
    "# Исследование тарифных планов \"Смарт\" и \"Ультра\""
   ]
  },
  {
   "cell_type": "markdown",
   "metadata": {},
   "source": [
    "В нашем распоряжении данные 500 пользователей федерального мобильного оператора «Мегалайн». Чтобы скорректировать рекламный бюджет компании, мы проанализируем имеющиеся данные и постараемся определить, какой тариф приносит больше денег - \"Смарт\" или \"Ультра\"."
   ]
  },
  {
   "cell_type": "markdown",
   "metadata": {},
   "source": [
    "## Изучение данных из файла"
   ]
  },
  {
   "cell_type": "markdown",
   "metadata": {},
   "source": [
    "Импортируем все библиотеки, которые потребуются нам в дальнейшей работе, и прочитаем все необходимые файлы с данными."
   ]
  },
  {
   "cell_type": "code",
   "execution_count": 1,
   "metadata": {},
   "outputs": [],
   "source": [
    "import pandas as pd # импорт библиотеки pandas\n",
    "\n",
    "import numpy as np # импорт библиотеки numpy\n",
    "\n",
    "from matplotlib import pyplot as plt # импорт библиотеки matplotlib\n",
    "\n",
    "from scipy import stats as st # импорт библиотеки scipy "
   ]
  },
  {
   "cell_type": "code",
   "execution_count": 2,
   "metadata": {},
   "outputs": [
    {
     "data": {
      "text/html": [
       "<div>\n",
       "<style scoped>\n",
       "    .dataframe tbody tr th:only-of-type {\n",
       "        vertical-align: middle;\n",
       "    }\n",
       "\n",
       "    .dataframe tbody tr th {\n",
       "        vertical-align: top;\n",
       "    }\n",
       "\n",
       "    .dataframe thead th {\n",
       "        text-align: right;\n",
       "    }\n",
       "</style>\n",
       "<table border=\"1\" class=\"dataframe\">\n",
       "  <thead>\n",
       "    <tr style=\"text-align: right;\">\n",
       "      <th></th>\n",
       "      <th>id</th>\n",
       "      <th>call_date</th>\n",
       "      <th>duration</th>\n",
       "      <th>user_id</th>\n",
       "    </tr>\n",
       "  </thead>\n",
       "  <tbody>\n",
       "    <tr>\n",
       "      <th>0</th>\n",
       "      <td>1000_0</td>\n",
       "      <td>2018-07-25</td>\n",
       "      <td>0.00</td>\n",
       "      <td>1000</td>\n",
       "    </tr>\n",
       "    <tr>\n",
       "      <th>1</th>\n",
       "      <td>1000_1</td>\n",
       "      <td>2018-08-17</td>\n",
       "      <td>0.00</td>\n",
       "      <td>1000</td>\n",
       "    </tr>\n",
       "    <tr>\n",
       "      <th>2</th>\n",
       "      <td>1000_2</td>\n",
       "      <td>2018-06-11</td>\n",
       "      <td>2.85</td>\n",
       "      <td>1000</td>\n",
       "    </tr>\n",
       "    <tr>\n",
       "      <th>3</th>\n",
       "      <td>1000_3</td>\n",
       "      <td>2018-09-21</td>\n",
       "      <td>13.80</td>\n",
       "      <td>1000</td>\n",
       "    </tr>\n",
       "    <tr>\n",
       "      <th>4</th>\n",
       "      <td>1000_4</td>\n",
       "      <td>2018-12-15</td>\n",
       "      <td>5.18</td>\n",
       "      <td>1000</td>\n",
       "    </tr>\n",
       "  </tbody>\n",
       "</table>\n",
       "</div>"
      ],
      "text/plain": [
       "       id   call_date  duration  user_id\n",
       "0  1000_0  2018-07-25      0.00     1000\n",
       "1  1000_1  2018-08-17      0.00     1000\n",
       "2  1000_2  2018-06-11      2.85     1000\n",
       "3  1000_3  2018-09-21     13.80     1000\n",
       "4  1000_4  2018-12-15      5.18     1000"
      ]
     },
     "execution_count": 2,
     "metadata": {},
     "output_type": "execute_result"
    }
   ],
   "source": [
    "calls = pd.read_csv('https://code.s3.yandex.net/datasets/calls.csv') # чтение файла с данными и сохранение в calls\n",
    "calls.head() # получение первых 5 строк таблицы"
   ]
  },
  {
   "cell_type": "code",
   "execution_count": 3,
   "metadata": {},
   "outputs": [
    {
     "name": "stdout",
     "output_type": "stream",
     "text": [
      "<class 'pandas.core.frame.DataFrame'>\n",
      "RangeIndex: 202607 entries, 0 to 202606\n",
      "Data columns (total 4 columns):\n",
      " #   Column     Non-Null Count   Dtype  \n",
      "---  ------     --------------   -----  \n",
      " 0   id         202607 non-null  object \n",
      " 1   call_date  202607 non-null  object \n",
      " 2   duration   202607 non-null  float64\n",
      " 3   user_id    202607 non-null  int64  \n",
      "dtypes: float64(1), int64(1), object(2)\n",
      "memory usage: 6.2+ MB\n"
     ]
    }
   ],
   "source": [
    "calls.info() # получение информации о данных в таблице"
   ]
  },
  {
   "cell_type": "code",
   "execution_count": 4,
   "metadata": {},
   "outputs": [
    {
     "data": {
      "text/html": [
       "<div>\n",
       "<style scoped>\n",
       "    .dataframe tbody tr th:only-of-type {\n",
       "        vertical-align: middle;\n",
       "    }\n",
       "\n",
       "    .dataframe tbody tr th {\n",
       "        vertical-align: top;\n",
       "    }\n",
       "\n",
       "    .dataframe thead th {\n",
       "        text-align: right;\n",
       "    }\n",
       "</style>\n",
       "<table border=\"1\" class=\"dataframe\">\n",
       "  <thead>\n",
       "    <tr style=\"text-align: right;\">\n",
       "      <th></th>\n",
       "      <th>id</th>\n",
       "      <th>mb_used</th>\n",
       "      <th>session_date</th>\n",
       "      <th>user_id</th>\n",
       "    </tr>\n",
       "  </thead>\n",
       "  <tbody>\n",
       "    <tr>\n",
       "      <th>0</th>\n",
       "      <td>1000_0</td>\n",
       "      <td>112.95</td>\n",
       "      <td>2018-11-25</td>\n",
       "      <td>1000</td>\n",
       "    </tr>\n",
       "    <tr>\n",
       "      <th>1</th>\n",
       "      <td>1000_1</td>\n",
       "      <td>1052.81</td>\n",
       "      <td>2018-09-07</td>\n",
       "      <td>1000</td>\n",
       "    </tr>\n",
       "    <tr>\n",
       "      <th>2</th>\n",
       "      <td>1000_2</td>\n",
       "      <td>1197.26</td>\n",
       "      <td>2018-06-25</td>\n",
       "      <td>1000</td>\n",
       "    </tr>\n",
       "    <tr>\n",
       "      <th>3</th>\n",
       "      <td>1000_3</td>\n",
       "      <td>550.27</td>\n",
       "      <td>2018-08-22</td>\n",
       "      <td>1000</td>\n",
       "    </tr>\n",
       "    <tr>\n",
       "      <th>4</th>\n",
       "      <td>1000_4</td>\n",
       "      <td>302.56</td>\n",
       "      <td>2018-09-24</td>\n",
       "      <td>1000</td>\n",
       "    </tr>\n",
       "  </tbody>\n",
       "</table>\n",
       "</div>"
      ],
      "text/plain": [
       "       id  mb_used session_date  user_id\n",
       "0  1000_0   112.95   2018-11-25     1000\n",
       "1  1000_1  1052.81   2018-09-07     1000\n",
       "2  1000_2  1197.26   2018-06-25     1000\n",
       "3  1000_3   550.27   2018-08-22     1000\n",
       "4  1000_4   302.56   2018-09-24     1000"
      ]
     },
     "execution_count": 4,
     "metadata": {},
     "output_type": "execute_result"
    }
   ],
   "source": [
    "internet = pd.read_csv('https://code.s3.yandex.net/datasets/internet.csv', index_col=0) # чтение файла с данными и сохранение в internet\n",
    "internet.head() # получение первых 5 строк таблицы"
   ]
  },
  {
   "cell_type": "code",
   "execution_count": 5,
   "metadata": {},
   "outputs": [
    {
     "name": "stdout",
     "output_type": "stream",
     "text": [
      "<class 'pandas.core.frame.DataFrame'>\n",
      "Int64Index: 149396 entries, 0 to 149395\n",
      "Data columns (total 4 columns):\n",
      " #   Column        Non-Null Count   Dtype  \n",
      "---  ------        --------------   -----  \n",
      " 0   id            149396 non-null  object \n",
      " 1   mb_used       149396 non-null  float64\n",
      " 2   session_date  149396 non-null  object \n",
      " 3   user_id       149396 non-null  int64  \n",
      "dtypes: float64(1), int64(1), object(2)\n",
      "memory usage: 5.7+ MB\n"
     ]
    }
   ],
   "source": [
    "internet.info() # получение информации о данных в таблице"
   ]
  },
  {
   "cell_type": "code",
   "execution_count": 6,
   "metadata": {},
   "outputs": [
    {
     "data": {
      "text/html": [
       "<div>\n",
       "<style scoped>\n",
       "    .dataframe tbody tr th:only-of-type {\n",
       "        vertical-align: middle;\n",
       "    }\n",
       "\n",
       "    .dataframe tbody tr th {\n",
       "        vertical-align: top;\n",
       "    }\n",
       "\n",
       "    .dataframe thead th {\n",
       "        text-align: right;\n",
       "    }\n",
       "</style>\n",
       "<table border=\"1\" class=\"dataframe\">\n",
       "  <thead>\n",
       "    <tr style=\"text-align: right;\">\n",
       "      <th></th>\n",
       "      <th>id</th>\n",
       "      <th>message_date</th>\n",
       "      <th>user_id</th>\n",
       "    </tr>\n",
       "  </thead>\n",
       "  <tbody>\n",
       "    <tr>\n",
       "      <th>0</th>\n",
       "      <td>1000_0</td>\n",
       "      <td>2018-06-27</td>\n",
       "      <td>1000</td>\n",
       "    </tr>\n",
       "    <tr>\n",
       "      <th>1</th>\n",
       "      <td>1000_1</td>\n",
       "      <td>2018-10-08</td>\n",
       "      <td>1000</td>\n",
       "    </tr>\n",
       "    <tr>\n",
       "      <th>2</th>\n",
       "      <td>1000_2</td>\n",
       "      <td>2018-08-04</td>\n",
       "      <td>1000</td>\n",
       "    </tr>\n",
       "    <tr>\n",
       "      <th>3</th>\n",
       "      <td>1000_3</td>\n",
       "      <td>2018-06-16</td>\n",
       "      <td>1000</td>\n",
       "    </tr>\n",
       "    <tr>\n",
       "      <th>4</th>\n",
       "      <td>1000_4</td>\n",
       "      <td>2018-12-05</td>\n",
       "      <td>1000</td>\n",
       "    </tr>\n",
       "  </tbody>\n",
       "</table>\n",
       "</div>"
      ],
      "text/plain": [
       "       id message_date  user_id\n",
       "0  1000_0   2018-06-27     1000\n",
       "1  1000_1   2018-10-08     1000\n",
       "2  1000_2   2018-08-04     1000\n",
       "3  1000_3   2018-06-16     1000\n",
       "4  1000_4   2018-12-05     1000"
      ]
     },
     "execution_count": 6,
     "metadata": {},
     "output_type": "execute_result"
    }
   ],
   "source": [
    "messages = pd.read_csv('https://code.s3.yandex.net/datasets/messages.csv') # чтение файла с данными и сохранение в messages\n",
    "messages.head() # получение первых 5 строк таблицы"
   ]
  },
  {
   "cell_type": "code",
   "execution_count": 7,
   "metadata": {},
   "outputs": [
    {
     "name": "stdout",
     "output_type": "stream",
     "text": [
      "<class 'pandas.core.frame.DataFrame'>\n",
      "RangeIndex: 123036 entries, 0 to 123035\n",
      "Data columns (total 3 columns):\n",
      " #   Column        Non-Null Count   Dtype \n",
      "---  ------        --------------   ----- \n",
      " 0   id            123036 non-null  object\n",
      " 1   message_date  123036 non-null  object\n",
      " 2   user_id       123036 non-null  int64 \n",
      "dtypes: int64(1), object(2)\n",
      "memory usage: 2.8+ MB\n"
     ]
    }
   ],
   "source": [
    "messages.info() # получение информации о данных в таблице"
   ]
  },
  {
   "cell_type": "code",
   "execution_count": 8,
   "metadata": {},
   "outputs": [
    {
     "data": {
      "text/html": [
       "<div>\n",
       "<style scoped>\n",
       "    .dataframe tbody tr th:only-of-type {\n",
       "        vertical-align: middle;\n",
       "    }\n",
       "\n",
       "    .dataframe tbody tr th {\n",
       "        vertical-align: top;\n",
       "    }\n",
       "\n",
       "    .dataframe thead th {\n",
       "        text-align: right;\n",
       "    }\n",
       "</style>\n",
       "<table border=\"1\" class=\"dataframe\">\n",
       "  <thead>\n",
       "    <tr style=\"text-align: right;\">\n",
       "      <th></th>\n",
       "      <th>messages_included</th>\n",
       "      <th>mb_per_month_included</th>\n",
       "      <th>minutes_included</th>\n",
       "      <th>rub_monthly_fee</th>\n",
       "      <th>rub_per_gb</th>\n",
       "      <th>rub_per_message</th>\n",
       "      <th>rub_per_minute</th>\n",
       "      <th>tariff_name</th>\n",
       "    </tr>\n",
       "  </thead>\n",
       "  <tbody>\n",
       "    <tr>\n",
       "      <th>0</th>\n",
       "      <td>50</td>\n",
       "      <td>15360</td>\n",
       "      <td>500</td>\n",
       "      <td>550</td>\n",
       "      <td>200</td>\n",
       "      <td>3</td>\n",
       "      <td>3</td>\n",
       "      <td>smart</td>\n",
       "    </tr>\n",
       "    <tr>\n",
       "      <th>1</th>\n",
       "      <td>1000</td>\n",
       "      <td>30720</td>\n",
       "      <td>3000</td>\n",
       "      <td>1950</td>\n",
       "      <td>150</td>\n",
       "      <td>1</td>\n",
       "      <td>1</td>\n",
       "      <td>ultra</td>\n",
       "    </tr>\n",
       "  </tbody>\n",
       "</table>\n",
       "</div>"
      ],
      "text/plain": [
       "   messages_included  mb_per_month_included  minutes_included  \\\n",
       "0                 50                  15360               500   \n",
       "1               1000                  30720              3000   \n",
       "\n",
       "   rub_monthly_fee  rub_per_gb  rub_per_message  rub_per_minute tariff_name  \n",
       "0              550         200                3               3       smart  \n",
       "1             1950         150                1               1       ultra  "
      ]
     },
     "execution_count": 8,
     "metadata": {},
     "output_type": "execute_result"
    }
   ],
   "source": [
    "tariffs = pd.read_csv('https://code.s3.yandex.net/datasets/tariffs.csv') # чтение файла с данными и сохранение в tariffs\n",
    "tariffs.head() # получение первых 5 строк таблицы"
   ]
  },
  {
   "cell_type": "code",
   "execution_count": 9,
   "metadata": {},
   "outputs": [
    {
     "name": "stdout",
     "output_type": "stream",
     "text": [
      "<class 'pandas.core.frame.DataFrame'>\n",
      "RangeIndex: 2 entries, 0 to 1\n",
      "Data columns (total 8 columns):\n",
      " #   Column                 Non-Null Count  Dtype \n",
      "---  ------                 --------------  ----- \n",
      " 0   messages_included      2 non-null      int64 \n",
      " 1   mb_per_month_included  2 non-null      int64 \n",
      " 2   minutes_included       2 non-null      int64 \n",
      " 3   rub_monthly_fee        2 non-null      int64 \n",
      " 4   rub_per_gb             2 non-null      int64 \n",
      " 5   rub_per_message        2 non-null      int64 \n",
      " 6   rub_per_minute         2 non-null      int64 \n",
      " 7   tariff_name            2 non-null      object\n",
      "dtypes: int64(7), object(1)\n",
      "memory usage: 256.0+ bytes\n"
     ]
    }
   ],
   "source": [
    "tariffs.info() # получение информации о данных в таблице"
   ]
  },
  {
   "cell_type": "code",
   "execution_count": 10,
   "metadata": {},
   "outputs": [
    {
     "data": {
      "text/html": [
       "<div>\n",
       "<style scoped>\n",
       "    .dataframe tbody tr th:only-of-type {\n",
       "        vertical-align: middle;\n",
       "    }\n",
       "\n",
       "    .dataframe tbody tr th {\n",
       "        vertical-align: top;\n",
       "    }\n",
       "\n",
       "    .dataframe thead th {\n",
       "        text-align: right;\n",
       "    }\n",
       "</style>\n",
       "<table border=\"1\" class=\"dataframe\">\n",
       "  <thead>\n",
       "    <tr style=\"text-align: right;\">\n",
       "      <th></th>\n",
       "      <th>user_id</th>\n",
       "      <th>age</th>\n",
       "      <th>churn_date</th>\n",
       "      <th>city</th>\n",
       "      <th>first_name</th>\n",
       "      <th>last_name</th>\n",
       "      <th>reg_date</th>\n",
       "      <th>tariff</th>\n",
       "    </tr>\n",
       "  </thead>\n",
       "  <tbody>\n",
       "    <tr>\n",
       "      <th>0</th>\n",
       "      <td>1000</td>\n",
       "      <td>52</td>\n",
       "      <td>NaN</td>\n",
       "      <td>Краснодар</td>\n",
       "      <td>Рафаил</td>\n",
       "      <td>Верещагин</td>\n",
       "      <td>2018-05-25</td>\n",
       "      <td>ultra</td>\n",
       "    </tr>\n",
       "    <tr>\n",
       "      <th>1</th>\n",
       "      <td>1001</td>\n",
       "      <td>41</td>\n",
       "      <td>NaN</td>\n",
       "      <td>Москва</td>\n",
       "      <td>Иван</td>\n",
       "      <td>Ежов</td>\n",
       "      <td>2018-11-01</td>\n",
       "      <td>smart</td>\n",
       "    </tr>\n",
       "    <tr>\n",
       "      <th>2</th>\n",
       "      <td>1002</td>\n",
       "      <td>59</td>\n",
       "      <td>NaN</td>\n",
       "      <td>Стерлитамак</td>\n",
       "      <td>Евгений</td>\n",
       "      <td>Абрамович</td>\n",
       "      <td>2018-06-17</td>\n",
       "      <td>smart</td>\n",
       "    </tr>\n",
       "    <tr>\n",
       "      <th>3</th>\n",
       "      <td>1003</td>\n",
       "      <td>23</td>\n",
       "      <td>NaN</td>\n",
       "      <td>Москва</td>\n",
       "      <td>Белла</td>\n",
       "      <td>Белякова</td>\n",
       "      <td>2018-08-17</td>\n",
       "      <td>ultra</td>\n",
       "    </tr>\n",
       "    <tr>\n",
       "      <th>4</th>\n",
       "      <td>1004</td>\n",
       "      <td>68</td>\n",
       "      <td>NaN</td>\n",
       "      <td>Новокузнецк</td>\n",
       "      <td>Татьяна</td>\n",
       "      <td>Авдеенко</td>\n",
       "      <td>2018-05-14</td>\n",
       "      <td>ultra</td>\n",
       "    </tr>\n",
       "  </tbody>\n",
       "</table>\n",
       "</div>"
      ],
      "text/plain": [
       "   user_id  age churn_date         city first_name  last_name    reg_date  \\\n",
       "0     1000   52        NaN    Краснодар     Рафаил  Верещагин  2018-05-25   \n",
       "1     1001   41        NaN       Москва       Иван       Ежов  2018-11-01   \n",
       "2     1002   59        NaN  Стерлитамак    Евгений  Абрамович  2018-06-17   \n",
       "3     1003   23        NaN       Москва      Белла   Белякова  2018-08-17   \n",
       "4     1004   68        NaN  Новокузнецк    Татьяна   Авдеенко  2018-05-14   \n",
       "\n",
       "  tariff  \n",
       "0  ultra  \n",
       "1  smart  \n",
       "2  smart  \n",
       "3  ultra  \n",
       "4  ultra  "
      ]
     },
     "execution_count": 10,
     "metadata": {},
     "output_type": "execute_result"
    }
   ],
   "source": [
    "users = pd.read_csv('https://code.s3.yandex.net/datasets/users.csv') # чтение файла с данными и сохранение в users\n",
    "users.head() # получение первых 5 строк таблицы"
   ]
  },
  {
   "cell_type": "code",
   "execution_count": 11,
   "metadata": {},
   "outputs": [
    {
     "name": "stdout",
     "output_type": "stream",
     "text": [
      "<class 'pandas.core.frame.DataFrame'>\n",
      "RangeIndex: 500 entries, 0 to 499\n",
      "Data columns (total 8 columns):\n",
      " #   Column      Non-Null Count  Dtype \n",
      "---  ------      --------------  ----- \n",
      " 0   user_id     500 non-null    int64 \n",
      " 1   age         500 non-null    int64 \n",
      " 2   churn_date  38 non-null     object\n",
      " 3   city        500 non-null    object\n",
      " 4   first_name  500 non-null    object\n",
      " 5   last_name   500 non-null    object\n",
      " 6   reg_date    500 non-null    object\n",
      " 7   tariff      500 non-null    object\n",
      "dtypes: int64(2), object(6)\n",
      "memory usage: 31.4+ KB\n"
     ]
    }
   ],
   "source": [
    "users.info() # получение информации о данных в таблице"
   ]
  },
  {
   "cell_type": "markdown",
   "metadata": {},
   "source": [
    "### Вывод"
   ]
  },
  {
   "cell_type": "markdown",
   "metadata": {},
   "source": [
    "Итак, в нашем распоряжении пять таблиц: одна из них (`users`) хранит данные о 500 клиентах компании, в трёх таблицах (`calls, messages, internet`) содержится информация об использовании этими клиентами услуг мобильной связи (звонки, сообщения, интернет-трафик), ещё в одной таблице (`tariffs`) - перечислены условия тарифов оператора. \n",
    "\n",
    "При первоначальном ознакомлении с таблицами и информацией в них обнаружены следующие моменты: \n",
    "- Пропуски есть только в таблице `users` в столбце `churn_date` (дата прекращения пользования тарифом). Данный факт можем проигнорировать, так как этот критерий на имеет для нас критической важности в дальнейшем исследовании.\n",
    "- Столбцы с датами во всех таблицах имеют тип `object` - соответственно, потребуется скорректировать тип данных на `datetime`.\n",
    "- Столбец `duration` таблицы `calls` имеет тип `float` и содержит точную длительность разговора в минутах с секундами. Нам известно, что мобильный оператор округляет продолжительность разговора до минут в бОльшую сторону, поэтому будем менять тип данных на `int`. \n",
    "- Аналогичная ситуация с `mb_used` таблицы `internet`: данные указаны в мегабайтах и имеют тип `float`, хотя оператор взимает плату за гигабайты. \n",
    "- Колонка `mb_per_month_included` таблицы `tariffs`, хоть и имеет тип `int`, но содержит данные в мегабатайх - значит, потребуется конвертация значений в гигабайты.\n",
    "- Для дальнейшей работы с данными необходимо объединение этих таблиц в одну.\n",
    "\n",
    "Выявленные проблемы и задачи будем решать на этапах предобработки данных и расчетов."
   ]
  },
  {
   "cell_type": "markdown",
   "metadata": {},
   "source": [
    "## Предобработка данных"
   ]
  },
  {
   "cell_type": "markdown",
   "metadata": {},
   "source": [
    "Для начала в столбцах с датами изменим тип данных на `datetime` с помощью метода `to_datetime()`:"
   ]
  },
  {
   "cell_type": "code",
   "execution_count": 12,
   "metadata": {},
   "outputs": [],
   "source": [
    "calls['call_date'] = pd.to_datetime(calls['call_date'], format='%Y-%m-%d') \n",
    "internet['session_date'] = pd.to_datetime(internet['session_date'], format='%Y-%m-%d') \n",
    "messages['message_date'] = pd.to_datetime(messages['message_date'], format='%Y-%m-%d') \n",
    "users['reg_date'] = pd.to_datetime(users['reg_date'], format='%Y-%m-%d') "
   ]
  },
  {
   "cell_type": "markdown",
   "metadata": {},
   "source": [
    "Далее нам известно, что «Мегалайн» округляет продолжительность звонков до минут в бОльшую сторону (даже если звонок длился 1 секунду, он будет засчитан как 1 минута). \n",
    "\n",
    "Также мы видим, что в таблице есть звонки с нулевой продолжительностью. Это пропущенные звонки, поэтому мы не будем их удалять и не будем округлять до 1 минуты (так как звонок не состоялся).\n",
    "\n",
    "Чтобы округлить значения в столбце `duration`, используем метод `ceil` библиотеки `numpy`, затем изменим тип данных на `int`:"
   ]
  },
  {
   "cell_type": "code",
   "execution_count": 13,
   "metadata": {},
   "outputs": [
    {
     "data": {
      "text/html": [
       "<div>\n",
       "<style scoped>\n",
       "    .dataframe tbody tr th:only-of-type {\n",
       "        vertical-align: middle;\n",
       "    }\n",
       "\n",
       "    .dataframe tbody tr th {\n",
       "        vertical-align: top;\n",
       "    }\n",
       "\n",
       "    .dataframe thead th {\n",
       "        text-align: right;\n",
       "    }\n",
       "</style>\n",
       "<table border=\"1\" class=\"dataframe\">\n",
       "  <thead>\n",
       "    <tr style=\"text-align: right;\">\n",
       "      <th></th>\n",
       "      <th>id</th>\n",
       "      <th>call_date</th>\n",
       "      <th>duration</th>\n",
       "      <th>user_id</th>\n",
       "    </tr>\n",
       "  </thead>\n",
       "  <tbody>\n",
       "    <tr>\n",
       "      <th>0</th>\n",
       "      <td>1000_0</td>\n",
       "      <td>2018-07-25</td>\n",
       "      <td>0</td>\n",
       "      <td>1000</td>\n",
       "    </tr>\n",
       "    <tr>\n",
       "      <th>1</th>\n",
       "      <td>1000_1</td>\n",
       "      <td>2018-08-17</td>\n",
       "      <td>0</td>\n",
       "      <td>1000</td>\n",
       "    </tr>\n",
       "    <tr>\n",
       "      <th>2</th>\n",
       "      <td>1000_2</td>\n",
       "      <td>2018-06-11</td>\n",
       "      <td>3</td>\n",
       "      <td>1000</td>\n",
       "    </tr>\n",
       "    <tr>\n",
       "      <th>3</th>\n",
       "      <td>1000_3</td>\n",
       "      <td>2018-09-21</td>\n",
       "      <td>14</td>\n",
       "      <td>1000</td>\n",
       "    </tr>\n",
       "    <tr>\n",
       "      <th>4</th>\n",
       "      <td>1000_4</td>\n",
       "      <td>2018-12-15</td>\n",
       "      <td>6</td>\n",
       "      <td>1000</td>\n",
       "    </tr>\n",
       "  </tbody>\n",
       "</table>\n",
       "</div>"
      ],
      "text/plain": [
       "       id  call_date  duration  user_id\n",
       "0  1000_0 2018-07-25         0     1000\n",
       "1  1000_1 2018-08-17         0     1000\n",
       "2  1000_2 2018-06-11         3     1000\n",
       "3  1000_3 2018-09-21        14     1000\n",
       "4  1000_4 2018-12-15         6     1000"
      ]
     },
     "execution_count": 13,
     "metadata": {},
     "output_type": "execute_result"
    }
   ],
   "source": [
    "# применение к столбцу duration функции np.ceil и изменение типа данных на int\n",
    "calls['duration'] = np.ceil(calls['duration']).astype(int) \n",
    "calls.head() # получение первых 5 строк обновленной таблицы"
   ]
  },
  {
   "cell_type": "markdown",
   "metadata": {},
   "source": [
    "Перейдём к работе с интернет-трафиком. Мобильный оператор округляет потраченные мегабайты до гигабайт в бОльшую сторону:"
   ]
  },
  {
   "cell_type": "code",
   "execution_count": 14,
   "metadata": {},
   "outputs": [],
   "source": [
    "# применение к результату деления mb_used на 1024 функции np.ceil и изменение типа данных на int\n",
    "internet['mb_used'] = np.ceil(internet['mb_used'] / 1024).astype(int) "
   ]
  },
  {
   "cell_type": "markdown",
   "metadata": {},
   "source": [
    "Так как значение столбца `mb_used` переведено в гигабайты, то его наименование уже неактуально. Переименуем:"
   ]
  },
  {
   "cell_type": "code",
   "execution_count": 15,
   "metadata": {},
   "outputs": [
    {
     "data": {
      "text/html": [
       "<div>\n",
       "<style scoped>\n",
       "    .dataframe tbody tr th:only-of-type {\n",
       "        vertical-align: middle;\n",
       "    }\n",
       "\n",
       "    .dataframe tbody tr th {\n",
       "        vertical-align: top;\n",
       "    }\n",
       "\n",
       "    .dataframe thead th {\n",
       "        text-align: right;\n",
       "    }\n",
       "</style>\n",
       "<table border=\"1\" class=\"dataframe\">\n",
       "  <thead>\n",
       "    <tr style=\"text-align: right;\">\n",
       "      <th></th>\n",
       "      <th>id</th>\n",
       "      <th>used_gb</th>\n",
       "      <th>session_date</th>\n",
       "      <th>user_id</th>\n",
       "    </tr>\n",
       "  </thead>\n",
       "  <tbody>\n",
       "    <tr>\n",
       "      <th>0</th>\n",
       "      <td>1000_0</td>\n",
       "      <td>1</td>\n",
       "      <td>2018-11-25</td>\n",
       "      <td>1000</td>\n",
       "    </tr>\n",
       "    <tr>\n",
       "      <th>1</th>\n",
       "      <td>1000_1</td>\n",
       "      <td>2</td>\n",
       "      <td>2018-09-07</td>\n",
       "      <td>1000</td>\n",
       "    </tr>\n",
       "    <tr>\n",
       "      <th>2</th>\n",
       "      <td>1000_2</td>\n",
       "      <td>2</td>\n",
       "      <td>2018-06-25</td>\n",
       "      <td>1000</td>\n",
       "    </tr>\n",
       "    <tr>\n",
       "      <th>3</th>\n",
       "      <td>1000_3</td>\n",
       "      <td>1</td>\n",
       "      <td>2018-08-22</td>\n",
       "      <td>1000</td>\n",
       "    </tr>\n",
       "    <tr>\n",
       "      <th>4</th>\n",
       "      <td>1000_4</td>\n",
       "      <td>1</td>\n",
       "      <td>2018-09-24</td>\n",
       "      <td>1000</td>\n",
       "    </tr>\n",
       "  </tbody>\n",
       "</table>\n",
       "</div>"
      ],
      "text/plain": [
       "       id  used_gb session_date  user_id\n",
       "0  1000_0        1   2018-11-25     1000\n",
       "1  1000_1        2   2018-09-07     1000\n",
       "2  1000_2        2   2018-06-25     1000\n",
       "3  1000_3        1   2018-08-22     1000\n",
       "4  1000_4        1   2018-09-24     1000"
      ]
     },
     "execution_count": 15,
     "metadata": {},
     "output_type": "execute_result"
    }
   ],
   "source": [
    "internet = internet.rename(columns={'mb_used': 'used_gb'}) # переименование колонки mb_used методом rename()\n",
    "internet.head() # получение первых 5 строк обновленной таблицы"
   ]
  },
  {
   "cell_type": "markdown",
   "metadata": {},
   "source": [
    "Теперь переведём в гигабайты значения в `mb_per_month_included` таблицы `tariffs`, просто поделив их на кол-во Мб в 1Гб:"
   ]
  },
  {
   "cell_type": "code",
   "execution_count": 16,
   "metadata": {},
   "outputs": [],
   "source": [
    "tariffs['mb_per_month_included'] = (tariffs['mb_per_month_included'] / 1024).astype(int) "
   ]
  },
  {
   "cell_type": "markdown",
   "metadata": {},
   "source": [
    "Наименование столбца теперь также не соответствует содержанию, поэтому мы его переименуем:"
   ]
  },
  {
   "cell_type": "code",
   "execution_count": 17,
   "metadata": {},
   "outputs": [
    {
     "data": {
      "text/html": [
       "<div>\n",
       "<style scoped>\n",
       "    .dataframe tbody tr th:only-of-type {\n",
       "        vertical-align: middle;\n",
       "    }\n",
       "\n",
       "    .dataframe tbody tr th {\n",
       "        vertical-align: top;\n",
       "    }\n",
       "\n",
       "    .dataframe thead th {\n",
       "        text-align: right;\n",
       "    }\n",
       "</style>\n",
       "<table border=\"1\" class=\"dataframe\">\n",
       "  <thead>\n",
       "    <tr style=\"text-align: right;\">\n",
       "      <th></th>\n",
       "      <th>messages_included</th>\n",
       "      <th>gb_per_month_included</th>\n",
       "      <th>minutes_included</th>\n",
       "      <th>rub_monthly_fee</th>\n",
       "      <th>rub_per_gb</th>\n",
       "      <th>rub_per_message</th>\n",
       "      <th>rub_per_minute</th>\n",
       "      <th>tariff_name</th>\n",
       "    </tr>\n",
       "  </thead>\n",
       "  <tbody>\n",
       "    <tr>\n",
       "      <th>0</th>\n",
       "      <td>50</td>\n",
       "      <td>15</td>\n",
       "      <td>500</td>\n",
       "      <td>550</td>\n",
       "      <td>200</td>\n",
       "      <td>3</td>\n",
       "      <td>3</td>\n",
       "      <td>smart</td>\n",
       "    </tr>\n",
       "    <tr>\n",
       "      <th>1</th>\n",
       "      <td>1000</td>\n",
       "      <td>30</td>\n",
       "      <td>3000</td>\n",
       "      <td>1950</td>\n",
       "      <td>150</td>\n",
       "      <td>1</td>\n",
       "      <td>1</td>\n",
       "      <td>ultra</td>\n",
       "    </tr>\n",
       "  </tbody>\n",
       "</table>\n",
       "</div>"
      ],
      "text/plain": [
       "   messages_included  gb_per_month_included  minutes_included  \\\n",
       "0                 50                     15               500   \n",
       "1               1000                     30              3000   \n",
       "\n",
       "   rub_monthly_fee  rub_per_gb  rub_per_message  rub_per_minute tariff_name  \n",
       "0              550         200                3               3       smart  \n",
       "1             1950         150                1               1       ultra  "
      ]
     },
     "execution_count": 17,
     "metadata": {},
     "output_type": "execute_result"
    }
   ],
   "source": [
    "tariffs = tariffs.rename(columns={'mb_per_month_included': 'gb_per_month_included'}) # переименование колонки mb_per_month_included методом rename()\n",
    "tariffs.head() # получение первых 5 строк обновленной таблицы"
   ]
  },
  {
   "cell_type": "markdown",
   "metadata": {},
   "source": [
    "### Вывод"
   ]
  },
  {
   "cell_type": "markdown",
   "metadata": {},
   "source": [
    "На этапе предобработки мы округлили до минут (в бОльшую сторону) длительность разговоров, перевели мегабайты в гигабайты и изменили все столбцы с датами на корректный тип.\n",
    "\n",
    "Теперь можно переходить к необходимым вычислениям и составлению единой таблицы со всеми нужными данными."
   ]
  },
  {
   "cell_type": "markdown",
   "metadata": {},
   "source": [
    "## Расчеты, добавление результатов, объединение таблиц"
   ]
  },
  {
   "cell_type": "markdown",
   "metadata": {},
   "source": [
    "Посчитаем, для каждого пользователя количество сделанных звонков и израсходованных минут разговора по месяцам. Для этого сначала вычленим из даты звонка только месяц:"
   ]
  },
  {
   "cell_type": "code",
   "execution_count": 18,
   "metadata": {},
   "outputs": [],
   "source": [
    "calls['month'] = calls['call_date'].dt.month # создание столбца month и сохранение в нём числа месяца из call_date"
   ]
  },
  {
   "cell_type": "markdown",
   "metadata": {},
   "source": [
    "Теперь мы можем сгруппировать данные по клиентам и месяцам и посчитать количество звонков:"
   ]
  },
  {
   "cell_type": "code",
   "execution_count": 19,
   "metadata": {},
   "outputs": [],
   "source": [
    "# создание calls_count и сохранение в нём количества duration после группировки по user_id и month\n",
    "calls_count = calls.groupby(['user_id', 'month'])['duration'].count().reset_index()"
   ]
  },
  {
   "cell_type": "markdown",
   "metadata": {},
   "source": [
    "Вот только теперь у нас в колонке `duration` вовсе не продолжительность, а количество. Переименуем:"
   ]
  },
  {
   "cell_type": "code",
   "execution_count": 20,
   "metadata": {},
   "outputs": [
    {
     "data": {
      "text/html": [
       "<div>\n",
       "<style scoped>\n",
       "    .dataframe tbody tr th:only-of-type {\n",
       "        vertical-align: middle;\n",
       "    }\n",
       "\n",
       "    .dataframe tbody tr th {\n",
       "        vertical-align: top;\n",
       "    }\n",
       "\n",
       "    .dataframe thead th {\n",
       "        text-align: right;\n",
       "    }\n",
       "</style>\n",
       "<table border=\"1\" class=\"dataframe\">\n",
       "  <thead>\n",
       "    <tr style=\"text-align: right;\">\n",
       "      <th></th>\n",
       "      <th>user_id</th>\n",
       "      <th>month</th>\n",
       "      <th>calls_count</th>\n",
       "    </tr>\n",
       "  </thead>\n",
       "  <tbody>\n",
       "    <tr>\n",
       "      <th>0</th>\n",
       "      <td>1000</td>\n",
       "      <td>5</td>\n",
       "      <td>22</td>\n",
       "    </tr>\n",
       "    <tr>\n",
       "      <th>1</th>\n",
       "      <td>1000</td>\n",
       "      <td>6</td>\n",
       "      <td>43</td>\n",
       "    </tr>\n",
       "    <tr>\n",
       "      <th>2</th>\n",
       "      <td>1000</td>\n",
       "      <td>7</td>\n",
       "      <td>47</td>\n",
       "    </tr>\n",
       "    <tr>\n",
       "      <th>3</th>\n",
       "      <td>1000</td>\n",
       "      <td>8</td>\n",
       "      <td>52</td>\n",
       "    </tr>\n",
       "    <tr>\n",
       "      <th>4</th>\n",
       "      <td>1000</td>\n",
       "      <td>9</td>\n",
       "      <td>58</td>\n",
       "    </tr>\n",
       "  </tbody>\n",
       "</table>\n",
       "</div>"
      ],
      "text/plain": [
       "   user_id  month  calls_count\n",
       "0     1000      5           22\n",
       "1     1000      6           43\n",
       "2     1000      7           47\n",
       "3     1000      8           52\n",
       "4     1000      9           58"
      ]
     },
     "execution_count": 20,
     "metadata": {},
     "output_type": "execute_result"
    }
   ],
   "source": [
    "# переименование колонки duration методом rename()\n",
    "calls_count = calls_count.rename(columns={'duration': 'calls_count'}) \n",
    "calls_count.head() # получение первых 5 строк новой таблицы"
   ]
  },
  {
   "cell_type": "markdown",
   "metadata": {},
   "source": [
    "По такому же принципу посчитаем для каждого клиента ежемесячное количество израсходованных минут:"
   ]
  },
  {
   "cell_type": "code",
   "execution_count": 21,
   "metadata": {},
   "outputs": [
    {
     "data": {
      "text/html": [
       "<div>\n",
       "<style scoped>\n",
       "    .dataframe tbody tr th:only-of-type {\n",
       "        vertical-align: middle;\n",
       "    }\n",
       "\n",
       "    .dataframe tbody tr th {\n",
       "        vertical-align: top;\n",
       "    }\n",
       "\n",
       "    .dataframe thead th {\n",
       "        text-align: right;\n",
       "    }\n",
       "</style>\n",
       "<table border=\"1\" class=\"dataframe\">\n",
       "  <thead>\n",
       "    <tr style=\"text-align: right;\">\n",
       "      <th></th>\n",
       "      <th>user_id</th>\n",
       "      <th>month</th>\n",
       "      <th>duration</th>\n",
       "    </tr>\n",
       "  </thead>\n",
       "  <tbody>\n",
       "    <tr>\n",
       "      <th>0</th>\n",
       "      <td>1000</td>\n",
       "      <td>5</td>\n",
       "      <td>159</td>\n",
       "    </tr>\n",
       "    <tr>\n",
       "      <th>1</th>\n",
       "      <td>1000</td>\n",
       "      <td>6</td>\n",
       "      <td>172</td>\n",
       "    </tr>\n",
       "    <tr>\n",
       "      <th>2</th>\n",
       "      <td>1000</td>\n",
       "      <td>7</td>\n",
       "      <td>340</td>\n",
       "    </tr>\n",
       "    <tr>\n",
       "      <th>3</th>\n",
       "      <td>1000</td>\n",
       "      <td>8</td>\n",
       "      <td>408</td>\n",
       "    </tr>\n",
       "    <tr>\n",
       "      <th>4</th>\n",
       "      <td>1000</td>\n",
       "      <td>9</td>\n",
       "      <td>466</td>\n",
       "    </tr>\n",
       "  </tbody>\n",
       "</table>\n",
       "</div>"
      ],
      "text/plain": [
       "   user_id  month  duration\n",
       "0     1000      5       159\n",
       "1     1000      6       172\n",
       "2     1000      7       340\n",
       "3     1000      8       408\n",
       "4     1000      9       466"
      ]
     },
     "execution_count": 21,
     "metadata": {},
     "output_type": "execute_result"
    }
   ],
   "source": [
    "# создание calls_sum и сохранение в нём суммы duration после группировки по user_id и month\n",
    "calls_sum = calls.groupby(['user_id', 'month'])['duration'].sum().reset_index()\n",
    "calls_sum.head() # получение первых 5 строк новой таблицы"
   ]
  },
  {
   "cell_type": "markdown",
   "metadata": {},
   "source": [
    "Далее посчитаем для всех клиентов объем израсходованного интернет-трафика по месяцам. Для этого тоже потребуется выделить из даты только показатель месяца:"
   ]
  },
  {
   "cell_type": "code",
   "execution_count": 22,
   "metadata": {},
   "outputs": [
    {
     "data": {
      "text/html": [
       "<div>\n",
       "<style scoped>\n",
       "    .dataframe tbody tr th:only-of-type {\n",
       "        vertical-align: middle;\n",
       "    }\n",
       "\n",
       "    .dataframe tbody tr th {\n",
       "        vertical-align: top;\n",
       "    }\n",
       "\n",
       "    .dataframe thead th {\n",
       "        text-align: right;\n",
       "    }\n",
       "</style>\n",
       "<table border=\"1\" class=\"dataframe\">\n",
       "  <thead>\n",
       "    <tr style=\"text-align: right;\">\n",
       "      <th></th>\n",
       "      <th>user_id</th>\n",
       "      <th>month</th>\n",
       "      <th>used_gb</th>\n",
       "    </tr>\n",
       "  </thead>\n",
       "  <tbody>\n",
       "    <tr>\n",
       "      <th>0</th>\n",
       "      <td>1000</td>\n",
       "      <td>5</td>\n",
       "      <td>4</td>\n",
       "    </tr>\n",
       "    <tr>\n",
       "      <th>1</th>\n",
       "      <td>1000</td>\n",
       "      <td>6</td>\n",
       "      <td>49</td>\n",
       "    </tr>\n",
       "    <tr>\n",
       "      <th>2</th>\n",
       "      <td>1000</td>\n",
       "      <td>7</td>\n",
       "      <td>28</td>\n",
       "    </tr>\n",
       "    <tr>\n",
       "      <th>3</th>\n",
       "      <td>1000</td>\n",
       "      <td>8</td>\n",
       "      <td>27</td>\n",
       "    </tr>\n",
       "    <tr>\n",
       "      <th>4</th>\n",
       "      <td>1000</td>\n",
       "      <td>9</td>\n",
       "      <td>26</td>\n",
       "    </tr>\n",
       "  </tbody>\n",
       "</table>\n",
       "</div>"
      ],
      "text/plain": [
       "   user_id  month  used_gb\n",
       "0     1000      5        4\n",
       "1     1000      6       49\n",
       "2     1000      7       28\n",
       "3     1000      8       27\n",
       "4     1000      9       26"
      ]
     },
     "execution_count": 22,
     "metadata": {},
     "output_type": "execute_result"
    }
   ],
   "source": [
    "# создание столбца month и сохранение в нём числа месяца из session_date\n",
    "internet['month'] = internet['session_date'].dt.month \n",
    "\n",
    "# сохранение в internet суммы used_gb после группировки по user_id и month\n",
    "internet = internet.groupby(['user_id', 'month'])['used_gb'].sum().reset_index()\n",
    "internet.head() # получение первых 5 строк обновлённой таблицы"
   ]
  },
  {
   "cell_type": "markdown",
   "metadata": {},
   "source": [
    "Аналогичным образом определим ежемесячное количество отправленных сообщений."
   ]
  },
  {
   "cell_type": "code",
   "execution_count": 23,
   "metadata": {},
   "outputs": [],
   "source": [
    "# создание столбца month и сохранение в нём числа месяца из message_date\n",
    "messages['month'] = messages['message_date'].dt.month \n",
    "\n",
    "# сохранение в messages количества message_date после группировки по user_id и month\n",
    "messages = messages.groupby(['user_id', 'month'])['message_date'].count().reset_index()"
   ]
  },
  {
   "cell_type": "markdown",
   "metadata": {},
   "source": [
    "Теперь у нас в столбце `message_date` хранится не дата отправки сообщения, а их количество за месяц. Переименуем:"
   ]
  },
  {
   "cell_type": "code",
   "execution_count": 24,
   "metadata": {},
   "outputs": [
    {
     "data": {
      "text/html": [
       "<div>\n",
       "<style scoped>\n",
       "    .dataframe tbody tr th:only-of-type {\n",
       "        vertical-align: middle;\n",
       "    }\n",
       "\n",
       "    .dataframe tbody tr th {\n",
       "        vertical-align: top;\n",
       "    }\n",
       "\n",
       "    .dataframe thead th {\n",
       "        text-align: right;\n",
       "    }\n",
       "</style>\n",
       "<table border=\"1\" class=\"dataframe\">\n",
       "  <thead>\n",
       "    <tr style=\"text-align: right;\">\n",
       "      <th></th>\n",
       "      <th>user_id</th>\n",
       "      <th>month</th>\n",
       "      <th>used_messages</th>\n",
       "    </tr>\n",
       "  </thead>\n",
       "  <tbody>\n",
       "    <tr>\n",
       "      <th>0</th>\n",
       "      <td>1000</td>\n",
       "      <td>5</td>\n",
       "      <td>22</td>\n",
       "    </tr>\n",
       "    <tr>\n",
       "      <th>1</th>\n",
       "      <td>1000</td>\n",
       "      <td>6</td>\n",
       "      <td>60</td>\n",
       "    </tr>\n",
       "    <tr>\n",
       "      <th>2</th>\n",
       "      <td>1000</td>\n",
       "      <td>7</td>\n",
       "      <td>75</td>\n",
       "    </tr>\n",
       "    <tr>\n",
       "      <th>3</th>\n",
       "      <td>1000</td>\n",
       "      <td>8</td>\n",
       "      <td>81</td>\n",
       "    </tr>\n",
       "    <tr>\n",
       "      <th>4</th>\n",
       "      <td>1000</td>\n",
       "      <td>9</td>\n",
       "      <td>57</td>\n",
       "    </tr>\n",
       "  </tbody>\n",
       "</table>\n",
       "</div>"
      ],
      "text/plain": [
       "   user_id  month  used_messages\n",
       "0     1000      5             22\n",
       "1     1000      6             60\n",
       "2     1000      7             75\n",
       "3     1000      8             81\n",
       "4     1000      9             57"
      ]
     },
     "execution_count": 24,
     "metadata": {},
     "output_type": "execute_result"
    }
   ],
   "source": [
    "# переименование колонки message_date методом rename()\n",
    "messages = messages.rename(columns={'message_date': 'used_messages'}) \n",
    "messages.head() # получение первых 5 строк обновлённой таблицы"
   ]
  },
  {
   "cell_type": "markdown",
   "metadata": {},
   "source": [
    "Таблицы, сгруппированные по пользователям и месяцам (`calls_count, calls_sum, internet, messages`), объединим по внешней общей области (методом `outer`):"
   ]
  },
  {
   "cell_type": "code",
   "execution_count": 25,
   "metadata": {
    "scrolled": true
   },
   "outputs": [
    {
     "data": {
      "text/html": [
       "<div>\n",
       "<style scoped>\n",
       "    .dataframe tbody tr th:only-of-type {\n",
       "        vertical-align: middle;\n",
       "    }\n",
       "\n",
       "    .dataframe tbody tr th {\n",
       "        vertical-align: top;\n",
       "    }\n",
       "\n",
       "    .dataframe thead th {\n",
       "        text-align: right;\n",
       "    }\n",
       "</style>\n",
       "<table border=\"1\" class=\"dataframe\">\n",
       "  <thead>\n",
       "    <tr style=\"text-align: right;\">\n",
       "      <th></th>\n",
       "      <th>user_id</th>\n",
       "      <th>month</th>\n",
       "      <th>calls_count</th>\n",
       "      <th>duration</th>\n",
       "      <th>used_gb</th>\n",
       "      <th>used_messages</th>\n",
       "    </tr>\n",
       "  </thead>\n",
       "  <tbody>\n",
       "    <tr>\n",
       "      <th>0</th>\n",
       "      <td>1000</td>\n",
       "      <td>5</td>\n",
       "      <td>22.0</td>\n",
       "      <td>159.0</td>\n",
       "      <td>4.0</td>\n",
       "      <td>22.0</td>\n",
       "    </tr>\n",
       "    <tr>\n",
       "      <th>1</th>\n",
       "      <td>1000</td>\n",
       "      <td>6</td>\n",
       "      <td>43.0</td>\n",
       "      <td>172.0</td>\n",
       "      <td>49.0</td>\n",
       "      <td>60.0</td>\n",
       "    </tr>\n",
       "    <tr>\n",
       "      <th>2</th>\n",
       "      <td>1000</td>\n",
       "      <td>7</td>\n",
       "      <td>47.0</td>\n",
       "      <td>340.0</td>\n",
       "      <td>28.0</td>\n",
       "      <td>75.0</td>\n",
       "    </tr>\n",
       "    <tr>\n",
       "      <th>3</th>\n",
       "      <td>1000</td>\n",
       "      <td>8</td>\n",
       "      <td>52.0</td>\n",
       "      <td>408.0</td>\n",
       "      <td>27.0</td>\n",
       "      <td>81.0</td>\n",
       "    </tr>\n",
       "    <tr>\n",
       "      <th>4</th>\n",
       "      <td>1000</td>\n",
       "      <td>9</td>\n",
       "      <td>58.0</td>\n",
       "      <td>466.0</td>\n",
       "      <td>26.0</td>\n",
       "      <td>57.0</td>\n",
       "    </tr>\n",
       "  </tbody>\n",
       "</table>\n",
       "</div>"
      ],
      "text/plain": [
       "   user_id  month  calls_count  duration  used_gb  used_messages\n",
       "0     1000      5         22.0     159.0      4.0           22.0\n",
       "1     1000      6         43.0     172.0     49.0           60.0\n",
       "2     1000      7         47.0     340.0     28.0           75.0\n",
       "3     1000      8         52.0     408.0     27.0           81.0\n",
       "4     1000      9         58.0     466.0     26.0           57.0"
      ]
     },
     "execution_count": 25,
     "metadata": {},
     "output_type": "execute_result"
    }
   ],
   "source": [
    "# создание general и сохранение в ней calls_count, объединённой с calls_sum по столбцам user_id и month\n",
    "general = calls_count.merge(calls_sum, on = ['user_id', 'month'], how = 'outer')\n",
    "\n",
    "# объединение general с internet по столбцам user_id и month\n",
    "general = general.merge(internet, on = ['user_id', 'month'], how = 'outer')\n",
    "\n",
    "# объединение general с messages по столбцам user_id и month\n",
    "general = general.merge(messages, on = ['user_id', 'month'], how = 'outer')\n",
    "\n",
    "general.head() # получение первых 5 строк объединённой таблицы"
   ]
  },
  {
   "cell_type": "markdown",
   "metadata": {},
   "source": [
    "Теперь добавим к ней данные из таблицы `users` (объединять будем по столбцу `user_id` режимом объединения `left`) и из таблицы `tariffs` по колонке с наименованиями тарифов. Но пока что соответствующие столбцы с тарифами в таблицах `users` и `tariffs` имеют разные названия. Поэтому мы сначала переименуем столбец в одной из таблиц, а потом уже по нему будем объединять: "
   ]
  },
  {
   "cell_type": "code",
   "execution_count": 26,
   "metadata": {},
   "outputs": [
    {
     "data": {
      "text/html": [
       "<div>\n",
       "<style scoped>\n",
       "    .dataframe tbody tr th:only-of-type {\n",
       "        vertical-align: middle;\n",
       "    }\n",
       "\n",
       "    .dataframe tbody tr th {\n",
       "        vertical-align: top;\n",
       "    }\n",
       "\n",
       "    .dataframe thead th {\n",
       "        text-align: right;\n",
       "    }\n",
       "</style>\n",
       "<table border=\"1\" class=\"dataframe\">\n",
       "  <thead>\n",
       "    <tr style=\"text-align: right;\">\n",
       "      <th></th>\n",
       "      <th>user_id</th>\n",
       "      <th>month</th>\n",
       "      <th>calls_count</th>\n",
       "      <th>duration</th>\n",
       "      <th>used_gb</th>\n",
       "      <th>used_messages</th>\n",
       "      <th>age</th>\n",
       "      <th>churn_date</th>\n",
       "      <th>city</th>\n",
       "      <th>first_name</th>\n",
       "      <th>last_name</th>\n",
       "      <th>reg_date</th>\n",
       "      <th>tariff</th>\n",
       "      <th>messages_included</th>\n",
       "      <th>gb_per_month_included</th>\n",
       "      <th>minutes_included</th>\n",
       "      <th>rub_monthly_fee</th>\n",
       "      <th>rub_per_gb</th>\n",
       "      <th>rub_per_message</th>\n",
       "      <th>rub_per_minute</th>\n",
       "    </tr>\n",
       "  </thead>\n",
       "  <tbody>\n",
       "    <tr>\n",
       "      <th>0</th>\n",
       "      <td>1000</td>\n",
       "      <td>5</td>\n",
       "      <td>22.0</td>\n",
       "      <td>159.0</td>\n",
       "      <td>4.0</td>\n",
       "      <td>22.0</td>\n",
       "      <td>52</td>\n",
       "      <td>NaN</td>\n",
       "      <td>Краснодар</td>\n",
       "      <td>Рафаил</td>\n",
       "      <td>Верещагин</td>\n",
       "      <td>2018-05-25</td>\n",
       "      <td>ultra</td>\n",
       "      <td>1000</td>\n",
       "      <td>30</td>\n",
       "      <td>3000</td>\n",
       "      <td>1950</td>\n",
       "      <td>150</td>\n",
       "      <td>1</td>\n",
       "      <td>1</td>\n",
       "    </tr>\n",
       "    <tr>\n",
       "      <th>1</th>\n",
       "      <td>1000</td>\n",
       "      <td>6</td>\n",
       "      <td>43.0</td>\n",
       "      <td>172.0</td>\n",
       "      <td>49.0</td>\n",
       "      <td>60.0</td>\n",
       "      <td>52</td>\n",
       "      <td>NaN</td>\n",
       "      <td>Краснодар</td>\n",
       "      <td>Рафаил</td>\n",
       "      <td>Верещагин</td>\n",
       "      <td>2018-05-25</td>\n",
       "      <td>ultra</td>\n",
       "      <td>1000</td>\n",
       "      <td>30</td>\n",
       "      <td>3000</td>\n",
       "      <td>1950</td>\n",
       "      <td>150</td>\n",
       "      <td>1</td>\n",
       "      <td>1</td>\n",
       "    </tr>\n",
       "    <tr>\n",
       "      <th>2</th>\n",
       "      <td>1000</td>\n",
       "      <td>7</td>\n",
       "      <td>47.0</td>\n",
       "      <td>340.0</td>\n",
       "      <td>28.0</td>\n",
       "      <td>75.0</td>\n",
       "      <td>52</td>\n",
       "      <td>NaN</td>\n",
       "      <td>Краснодар</td>\n",
       "      <td>Рафаил</td>\n",
       "      <td>Верещагин</td>\n",
       "      <td>2018-05-25</td>\n",
       "      <td>ultra</td>\n",
       "      <td>1000</td>\n",
       "      <td>30</td>\n",
       "      <td>3000</td>\n",
       "      <td>1950</td>\n",
       "      <td>150</td>\n",
       "      <td>1</td>\n",
       "      <td>1</td>\n",
       "    </tr>\n",
       "    <tr>\n",
       "      <th>3</th>\n",
       "      <td>1000</td>\n",
       "      <td>8</td>\n",
       "      <td>52.0</td>\n",
       "      <td>408.0</td>\n",
       "      <td>27.0</td>\n",
       "      <td>81.0</td>\n",
       "      <td>52</td>\n",
       "      <td>NaN</td>\n",
       "      <td>Краснодар</td>\n",
       "      <td>Рафаил</td>\n",
       "      <td>Верещагин</td>\n",
       "      <td>2018-05-25</td>\n",
       "      <td>ultra</td>\n",
       "      <td>1000</td>\n",
       "      <td>30</td>\n",
       "      <td>3000</td>\n",
       "      <td>1950</td>\n",
       "      <td>150</td>\n",
       "      <td>1</td>\n",
       "      <td>1</td>\n",
       "    </tr>\n",
       "    <tr>\n",
       "      <th>4</th>\n",
       "      <td>1000</td>\n",
       "      <td>9</td>\n",
       "      <td>58.0</td>\n",
       "      <td>466.0</td>\n",
       "      <td>26.0</td>\n",
       "      <td>57.0</td>\n",
       "      <td>52</td>\n",
       "      <td>NaN</td>\n",
       "      <td>Краснодар</td>\n",
       "      <td>Рафаил</td>\n",
       "      <td>Верещагин</td>\n",
       "      <td>2018-05-25</td>\n",
       "      <td>ultra</td>\n",
       "      <td>1000</td>\n",
       "      <td>30</td>\n",
       "      <td>3000</td>\n",
       "      <td>1950</td>\n",
       "      <td>150</td>\n",
       "      <td>1</td>\n",
       "      <td>1</td>\n",
       "    </tr>\n",
       "  </tbody>\n",
       "</table>\n",
       "</div>"
      ],
      "text/plain": [
       "   user_id  month  calls_count  duration  used_gb  used_messages  age  \\\n",
       "0     1000      5         22.0     159.0      4.0           22.0   52   \n",
       "1     1000      6         43.0     172.0     49.0           60.0   52   \n",
       "2     1000      7         47.0     340.0     28.0           75.0   52   \n",
       "3     1000      8         52.0     408.0     27.0           81.0   52   \n",
       "4     1000      9         58.0     466.0     26.0           57.0   52   \n",
       "\n",
       "  churn_date       city first_name  last_name   reg_date tariff  \\\n",
       "0        NaN  Краснодар     Рафаил  Верещагин 2018-05-25  ultra   \n",
       "1        NaN  Краснодар     Рафаил  Верещагин 2018-05-25  ultra   \n",
       "2        NaN  Краснодар     Рафаил  Верещагин 2018-05-25  ultra   \n",
       "3        NaN  Краснодар     Рафаил  Верещагин 2018-05-25  ultra   \n",
       "4        NaN  Краснодар     Рафаил  Верещагин 2018-05-25  ultra   \n",
       "\n",
       "   messages_included  gb_per_month_included  minutes_included  \\\n",
       "0               1000                     30              3000   \n",
       "1               1000                     30              3000   \n",
       "2               1000                     30              3000   \n",
       "3               1000                     30              3000   \n",
       "4               1000                     30              3000   \n",
       "\n",
       "   rub_monthly_fee  rub_per_gb  rub_per_message  rub_per_minute  \n",
       "0             1950         150                1               1  \n",
       "1             1950         150                1               1  \n",
       "2             1950         150                1               1  \n",
       "3             1950         150                1               1  \n",
       "4             1950         150                1               1  "
      ]
     },
     "execution_count": 26,
     "metadata": {},
     "output_type": "execute_result"
    }
   ],
   "source": [
    "# объединение general с users по столбцу user_id\n",
    "general = general.merge(users, on = 'user_id', how = 'left')\n",
    "\n",
    "# переименование в таблице tariffs колонки tariff_name\n",
    "tariffs = tariffs.rename(columns={'tariff_name': 'tariff'}) \n",
    "\n",
    "# объединение general с tariffs по столбцу tariff\n",
    "general = general.merge(tariffs, on = 'tariff', how = 'left')\n",
    "\n",
    "general.head() # получение первых 5 строк обновлённой объединённой таблицы"
   ]
  },
  {
   "cell_type": "code",
   "execution_count": 27,
   "metadata": {},
   "outputs": [
    {
     "name": "stdout",
     "output_type": "stream",
     "text": [
      "Объединение таблиц проведено успешно!\n"
     ]
    }
   ],
   "source": [
    "if general['duration'].sum() == calls['duration'].sum():\n",
    "    print('Объединение таблиц проведено успешно!')\n",
    "else:\n",
    "    print('Где-то допущена ошибка')"
   ]
  },
  {
   "cell_type": "markdown",
   "metadata": {},
   "source": [
    "Посмотрим, что представляет собой получившаяся таблица:"
   ]
  },
  {
   "cell_type": "code",
   "execution_count": 28,
   "metadata": {
    "scrolled": true
   },
   "outputs": [
    {
     "name": "stdout",
     "output_type": "stream",
     "text": [
      "<class 'pandas.core.frame.DataFrame'>\n",
      "Int64Index: 3214 entries, 0 to 3213\n",
      "Data columns (total 20 columns):\n",
      " #   Column                 Non-Null Count  Dtype         \n",
      "---  ------                 --------------  -----         \n",
      " 0   user_id                3214 non-null   int64         \n",
      " 1   month                  3214 non-null   int64         \n",
      " 2   calls_count            3174 non-null   float64       \n",
      " 3   duration               3174 non-null   float64       \n",
      " 4   used_gb                3203 non-null   float64       \n",
      " 5   used_messages          2717 non-null   float64       \n",
      " 6   age                    3214 non-null   int64         \n",
      " 7   churn_date             187 non-null    object        \n",
      " 8   city                   3214 non-null   object        \n",
      " 9   first_name             3214 non-null   object        \n",
      " 10  last_name              3214 non-null   object        \n",
      " 11  reg_date               3214 non-null   datetime64[ns]\n",
      " 12  tariff                 3214 non-null   object        \n",
      " 13  messages_included      3214 non-null   int64         \n",
      " 14  gb_per_month_included  3214 non-null   int32         \n",
      " 15  minutes_included       3214 non-null   int64         \n",
      " 16  rub_monthly_fee        3214 non-null   int64         \n",
      " 17  rub_per_gb             3214 non-null   int64         \n",
      " 18  rub_per_message        3214 non-null   int64         \n",
      " 19  rub_per_minute         3214 non-null   int64         \n",
      "dtypes: datetime64[ns](1), float64(4), int32(1), int64(9), object(5)\n",
      "memory usage: 514.7+ KB\n"
     ]
    }
   ],
   "source": [
    "general.info()"
   ]
  },
  {
   "cell_type": "markdown",
   "metadata": {},
   "source": [
    "Мы видим, что в результате слияния образовались пропуски в колонках, содержащих важную для нас информацию (количество потраченных минут, сообщений, интернет-трафика). Эти пропуски обозначают, что в какой-то месяц клиент не воспользовался некоторыми услугами, значит мы можем заменить их на ноль: "
   ]
  },
  {
   "cell_type": "code",
   "execution_count": 29,
   "metadata": {},
   "outputs": [],
   "source": [
    "# замена пропусков в четырёх столбцах на \"0\"\n",
    "general[['calls_count', 'duration', 'used_gb', 'used_messages']] = general[['calls_count', 'duration', 'used_gb', 'used_messages']].fillna(0)"
   ]
  },
  {
   "cell_type": "markdown",
   "metadata": {},
   "source": [
    "Теперь посчитаем помесячную выручку с каждого пользователя. \n",
    "\n",
    "Клиенты платят ежемесячную абонентскую плату и оплачивают услуги сверх тарифного пакета. Значит количество свыше тарифа (минут, сообщений или гигабайтов), необходимо умножить на стоимость 1 единицы услуги согласно тарифа (`rub_per_minute, rub_per_message, rub_per_gb`) и прибавить стоимость самого тарифа. \n",
    "\n",
    "Вместо того, чтобы создавать три новых столбца, в которых по каждой услуге будет отражена разница между предоставленным количеством и потраченным, мы будем сравнивать их в функции: "
   ]
  },
  {
   "cell_type": "code",
   "execution_count": 30,
   "metadata": {
    "scrolled": true
   },
   "outputs": [
    {
     "data": {
      "text/html": [
       "<div>\n",
       "<style scoped>\n",
       "    .dataframe tbody tr th:only-of-type {\n",
       "        vertical-align: middle;\n",
       "    }\n",
       "\n",
       "    .dataframe tbody tr th {\n",
       "        vertical-align: top;\n",
       "    }\n",
       "\n",
       "    .dataframe thead th {\n",
       "        text-align: right;\n",
       "    }\n",
       "</style>\n",
       "<table border=\"1\" class=\"dataframe\">\n",
       "  <thead>\n",
       "    <tr style=\"text-align: right;\">\n",
       "      <th></th>\n",
       "      <th>user_id</th>\n",
       "      <th>month</th>\n",
       "      <th>calls_count</th>\n",
       "      <th>duration</th>\n",
       "      <th>used_gb</th>\n",
       "      <th>used_messages</th>\n",
       "      <th>age</th>\n",
       "      <th>churn_date</th>\n",
       "      <th>city</th>\n",
       "      <th>first_name</th>\n",
       "      <th>...</th>\n",
       "      <th>reg_date</th>\n",
       "      <th>tariff</th>\n",
       "      <th>messages_included</th>\n",
       "      <th>gb_per_month_included</th>\n",
       "      <th>minutes_included</th>\n",
       "      <th>rub_monthly_fee</th>\n",
       "      <th>rub_per_gb</th>\n",
       "      <th>rub_per_message</th>\n",
       "      <th>rub_per_minute</th>\n",
       "      <th>income</th>\n",
       "    </tr>\n",
       "  </thead>\n",
       "  <tbody>\n",
       "    <tr>\n",
       "      <th>0</th>\n",
       "      <td>1000</td>\n",
       "      <td>5</td>\n",
       "      <td>22.0</td>\n",
       "      <td>159.0</td>\n",
       "      <td>4.0</td>\n",
       "      <td>22.0</td>\n",
       "      <td>52</td>\n",
       "      <td>NaN</td>\n",
       "      <td>Краснодар</td>\n",
       "      <td>Рафаил</td>\n",
       "      <td>...</td>\n",
       "      <td>2018-05-25</td>\n",
       "      <td>ultra</td>\n",
       "      <td>1000</td>\n",
       "      <td>30</td>\n",
       "      <td>3000</td>\n",
       "      <td>1950</td>\n",
       "      <td>150</td>\n",
       "      <td>1</td>\n",
       "      <td>1</td>\n",
       "      <td>1950.0</td>\n",
       "    </tr>\n",
       "    <tr>\n",
       "      <th>1</th>\n",
       "      <td>1000</td>\n",
       "      <td>6</td>\n",
       "      <td>43.0</td>\n",
       "      <td>172.0</td>\n",
       "      <td>49.0</td>\n",
       "      <td>60.0</td>\n",
       "      <td>52</td>\n",
       "      <td>NaN</td>\n",
       "      <td>Краснодар</td>\n",
       "      <td>Рафаил</td>\n",
       "      <td>...</td>\n",
       "      <td>2018-05-25</td>\n",
       "      <td>ultra</td>\n",
       "      <td>1000</td>\n",
       "      <td>30</td>\n",
       "      <td>3000</td>\n",
       "      <td>1950</td>\n",
       "      <td>150</td>\n",
       "      <td>1</td>\n",
       "      <td>1</td>\n",
       "      <td>4800.0</td>\n",
       "    </tr>\n",
       "    <tr>\n",
       "      <th>2</th>\n",
       "      <td>1000</td>\n",
       "      <td>7</td>\n",
       "      <td>47.0</td>\n",
       "      <td>340.0</td>\n",
       "      <td>28.0</td>\n",
       "      <td>75.0</td>\n",
       "      <td>52</td>\n",
       "      <td>NaN</td>\n",
       "      <td>Краснодар</td>\n",
       "      <td>Рафаил</td>\n",
       "      <td>...</td>\n",
       "      <td>2018-05-25</td>\n",
       "      <td>ultra</td>\n",
       "      <td>1000</td>\n",
       "      <td>30</td>\n",
       "      <td>3000</td>\n",
       "      <td>1950</td>\n",
       "      <td>150</td>\n",
       "      <td>1</td>\n",
       "      <td>1</td>\n",
       "      <td>1950.0</td>\n",
       "    </tr>\n",
       "    <tr>\n",
       "      <th>3</th>\n",
       "      <td>1000</td>\n",
       "      <td>8</td>\n",
       "      <td>52.0</td>\n",
       "      <td>408.0</td>\n",
       "      <td>27.0</td>\n",
       "      <td>81.0</td>\n",
       "      <td>52</td>\n",
       "      <td>NaN</td>\n",
       "      <td>Краснодар</td>\n",
       "      <td>Рафаил</td>\n",
       "      <td>...</td>\n",
       "      <td>2018-05-25</td>\n",
       "      <td>ultra</td>\n",
       "      <td>1000</td>\n",
       "      <td>30</td>\n",
       "      <td>3000</td>\n",
       "      <td>1950</td>\n",
       "      <td>150</td>\n",
       "      <td>1</td>\n",
       "      <td>1</td>\n",
       "      <td>1950.0</td>\n",
       "    </tr>\n",
       "    <tr>\n",
       "      <th>4</th>\n",
       "      <td>1000</td>\n",
       "      <td>9</td>\n",
       "      <td>58.0</td>\n",
       "      <td>466.0</td>\n",
       "      <td>26.0</td>\n",
       "      <td>57.0</td>\n",
       "      <td>52</td>\n",
       "      <td>NaN</td>\n",
       "      <td>Краснодар</td>\n",
       "      <td>Рафаил</td>\n",
       "      <td>...</td>\n",
       "      <td>2018-05-25</td>\n",
       "      <td>ultra</td>\n",
       "      <td>1000</td>\n",
       "      <td>30</td>\n",
       "      <td>3000</td>\n",
       "      <td>1950</td>\n",
       "      <td>150</td>\n",
       "      <td>1</td>\n",
       "      <td>1</td>\n",
       "      <td>1950.0</td>\n",
       "    </tr>\n",
       "  </tbody>\n",
       "</table>\n",
       "<p>5 rows × 21 columns</p>\n",
       "</div>"
      ],
      "text/plain": [
       "   user_id  month  calls_count  duration  used_gb  used_messages  age  \\\n",
       "0     1000      5         22.0     159.0      4.0           22.0   52   \n",
       "1     1000      6         43.0     172.0     49.0           60.0   52   \n",
       "2     1000      7         47.0     340.0     28.0           75.0   52   \n",
       "3     1000      8         52.0     408.0     27.0           81.0   52   \n",
       "4     1000      9         58.0     466.0     26.0           57.0   52   \n",
       "\n",
       "  churn_date       city first_name  ...   reg_date tariff messages_included  \\\n",
       "0        NaN  Краснодар     Рафаил  ... 2018-05-25  ultra              1000   \n",
       "1        NaN  Краснодар     Рафаил  ... 2018-05-25  ultra              1000   \n",
       "2        NaN  Краснодар     Рафаил  ... 2018-05-25  ultra              1000   \n",
       "3        NaN  Краснодар     Рафаил  ... 2018-05-25  ultra              1000   \n",
       "4        NaN  Краснодар     Рафаил  ... 2018-05-25  ultra              1000   \n",
       "\n",
       "   gb_per_month_included  minutes_included  rub_monthly_fee  rub_per_gb  \\\n",
       "0                     30              3000             1950         150   \n",
       "1                     30              3000             1950         150   \n",
       "2                     30              3000             1950         150   \n",
       "3                     30              3000             1950         150   \n",
       "4                     30              3000             1950         150   \n",
       "\n",
       "   rub_per_message  rub_per_minute  income  \n",
       "0                1               1  1950.0  \n",
       "1                1               1  4800.0  \n",
       "2                1               1  1950.0  \n",
       "3                1               1  1950.0  \n",
       "4                1               1  1950.0  \n",
       "\n",
       "[5 rows x 21 columns]"
      ]
     },
     "execution_count": 30,
     "metadata": {},
     "output_type": "execute_result"
    }
   ],
   "source": [
    "# объявление функции compare() с двумя аргументами: used (кол-во потраченных услуг) и limit (кол-во предоставленных услуг)\n",
    "# которая в случае, если used меньше или ровно limit возвращает 0,\n",
    "# а если used больше limit возвращает результат вычитания limit из used\n",
    "\n",
    "def compare(used, limit):\n",
    "    if used <= limit:\n",
    "        return 0\n",
    "    if used > limit:\n",
    "        return used - limit\n",
    "\n",
    "# используем данную функцию для вычисления выручки, передавая в качестве аргумента used значения использованных услуг (duration,\n",
    "# used_messages, used_gb), а аргументу limit - предоставляемых по условиям тарифа (minutes_included, messages_included, gb_per_month_included). \n",
    "# Соответственно если первое меньше второго, ничего не происходит (т.к.возвращается 0), а если больше, \n",
    "# то разница умножается на стоимость единицы услуги по тарифу (rub_per_minute, rub_per_message, rub_per_gb)\n",
    "general['income'] = (general.apply(lambda row: compare(row['duration'], row['minutes_included']), axis=1) * \n",
    "                     general['rub_per_minute'] + \n",
    "                     general.apply(lambda row: compare(row['used_messages'], row['messages_included']), axis=1) * \n",
    "                     general['rub_per_message'] + \n",
    "                     general.apply(lambda row: compare(row['used_gb'], row['gb_per_month_included']), axis=1) * \n",
    "                     general['rub_per_gb'] + \n",
    "                     general['rub_monthly_fee']\n",
    "                    )\n",
    "general.head() # получение первых 5 строк обновлённой таблицы"
   ]
  },
  {
   "cell_type": "markdown",
   "metadata": {},
   "source": [
    "### Вывод"
   ]
  },
  {
   "cell_type": "markdown",
   "metadata": {},
   "source": [
    "На данном этапе мы получили следующую информацию по каждому пользователю:\n",
    "- количество сделанных звонков и израсходованных минут разговора по месяцам;\n",
    "- количество отправленных сообщений по месяцам;\n",
    "- объем израсходованного интернет-трафика по месяцам;\n",
    "- помесячную выручку.\n",
    "\n",
    "А также объединили все эти данные в единую таблицу, которую можно начать анализировать."
   ]
  },
  {
   "cell_type": "markdown",
   "metadata": {},
   "source": [
    "## Анализ данных"
   ]
  },
  {
   "cell_type": "markdown",
   "metadata": {},
   "source": [
    "Проанализируем поведение пользователей разных тарифов: сколько минут разговора, сколько сообщений и какой объём интернет-трафика требуется пользователям каждого тарифа в месяц? \n",
    "Посмотрим на эти значения на гистограммах, а также посчитаем среднее количество, дисперсию и стандартное отклонение."
   ]
  },
  {
   "cell_type": "markdown",
   "metadata": {},
   "source": [
    "### Анализ поведения клиентов тарифа \"Смарт\""
   ]
  },
  {
   "cell_type": "markdown",
   "metadata": {},
   "source": [
    "Для простоты анализа выделим всех пользователей тарифа `smart` в отдельную таблицу:"
   ]
  },
  {
   "cell_type": "code",
   "execution_count": 31,
   "metadata": {},
   "outputs": [
    {
     "data": {
      "text/html": [
       "<div>\n",
       "<style scoped>\n",
       "    .dataframe tbody tr th:only-of-type {\n",
       "        vertical-align: middle;\n",
       "    }\n",
       "\n",
       "    .dataframe tbody tr th {\n",
       "        vertical-align: top;\n",
       "    }\n",
       "\n",
       "    .dataframe thead th {\n",
       "        text-align: right;\n",
       "    }\n",
       "</style>\n",
       "<table border=\"1\" class=\"dataframe\">\n",
       "  <thead>\n",
       "    <tr style=\"text-align: right;\">\n",
       "      <th></th>\n",
       "      <th>user_id</th>\n",
       "      <th>month</th>\n",
       "      <th>calls_count</th>\n",
       "      <th>duration</th>\n",
       "      <th>used_gb</th>\n",
       "      <th>used_messages</th>\n",
       "      <th>age</th>\n",
       "      <th>churn_date</th>\n",
       "      <th>city</th>\n",
       "      <th>first_name</th>\n",
       "      <th>...</th>\n",
       "      <th>reg_date</th>\n",
       "      <th>tariff</th>\n",
       "      <th>messages_included</th>\n",
       "      <th>gb_per_month_included</th>\n",
       "      <th>minutes_included</th>\n",
       "      <th>rub_monthly_fee</th>\n",
       "      <th>rub_per_gb</th>\n",
       "      <th>rub_per_message</th>\n",
       "      <th>rub_per_minute</th>\n",
       "      <th>income</th>\n",
       "    </tr>\n",
       "  </thead>\n",
       "  <tbody>\n",
       "    <tr>\n",
       "      <th>0</th>\n",
       "      <td>1001</td>\n",
       "      <td>11</td>\n",
       "      <td>59.0</td>\n",
       "      <td>430.0</td>\n",
       "      <td>47.0</td>\n",
       "      <td>0.0</td>\n",
       "      <td>41</td>\n",
       "      <td>NaN</td>\n",
       "      <td>Москва</td>\n",
       "      <td>Иван</td>\n",
       "      <td>...</td>\n",
       "      <td>2018-11-01</td>\n",
       "      <td>smart</td>\n",
       "      <td>50</td>\n",
       "      <td>15</td>\n",
       "      <td>500</td>\n",
       "      <td>550</td>\n",
       "      <td>200</td>\n",
       "      <td>3</td>\n",
       "      <td>3</td>\n",
       "      <td>6950.0</td>\n",
       "    </tr>\n",
       "    <tr>\n",
       "      <th>1</th>\n",
       "      <td>1001</td>\n",
       "      <td>12</td>\n",
       "      <td>63.0</td>\n",
       "      <td>414.0</td>\n",
       "      <td>35.0</td>\n",
       "      <td>0.0</td>\n",
       "      <td>41</td>\n",
       "      <td>NaN</td>\n",
       "      <td>Москва</td>\n",
       "      <td>Иван</td>\n",
       "      <td>...</td>\n",
       "      <td>2018-11-01</td>\n",
       "      <td>smart</td>\n",
       "      <td>50</td>\n",
       "      <td>15</td>\n",
       "      <td>500</td>\n",
       "      <td>550</td>\n",
       "      <td>200</td>\n",
       "      <td>3</td>\n",
       "      <td>3</td>\n",
       "      <td>4550.0</td>\n",
       "    </tr>\n",
       "    <tr>\n",
       "      <th>2</th>\n",
       "      <td>1002</td>\n",
       "      <td>6</td>\n",
       "      <td>15.0</td>\n",
       "      <td>117.0</td>\n",
       "      <td>27.0</td>\n",
       "      <td>4.0</td>\n",
       "      <td>59</td>\n",
       "      <td>NaN</td>\n",
       "      <td>Стерлитамак</td>\n",
       "      <td>Евгений</td>\n",
       "      <td>...</td>\n",
       "      <td>2018-06-17</td>\n",
       "      <td>smart</td>\n",
       "      <td>50</td>\n",
       "      <td>15</td>\n",
       "      <td>500</td>\n",
       "      <td>550</td>\n",
       "      <td>200</td>\n",
       "      <td>3</td>\n",
       "      <td>3</td>\n",
       "      <td>2950.0</td>\n",
       "    </tr>\n",
       "    <tr>\n",
       "      <th>3</th>\n",
       "      <td>1002</td>\n",
       "      <td>7</td>\n",
       "      <td>26.0</td>\n",
       "      <td>214.0</td>\n",
       "      <td>45.0</td>\n",
       "      <td>11.0</td>\n",
       "      <td>59</td>\n",
       "      <td>NaN</td>\n",
       "      <td>Стерлитамак</td>\n",
       "      <td>Евгений</td>\n",
       "      <td>...</td>\n",
       "      <td>2018-06-17</td>\n",
       "      <td>smart</td>\n",
       "      <td>50</td>\n",
       "      <td>15</td>\n",
       "      <td>500</td>\n",
       "      <td>550</td>\n",
       "      <td>200</td>\n",
       "      <td>3</td>\n",
       "      <td>3</td>\n",
       "      <td>6550.0</td>\n",
       "    </tr>\n",
       "    <tr>\n",
       "      <th>4</th>\n",
       "      <td>1002</td>\n",
       "      <td>8</td>\n",
       "      <td>42.0</td>\n",
       "      <td>289.0</td>\n",
       "      <td>50.0</td>\n",
       "      <td>13.0</td>\n",
       "      <td>59</td>\n",
       "      <td>NaN</td>\n",
       "      <td>Стерлитамак</td>\n",
       "      <td>Евгений</td>\n",
       "      <td>...</td>\n",
       "      <td>2018-06-17</td>\n",
       "      <td>smart</td>\n",
       "      <td>50</td>\n",
       "      <td>15</td>\n",
       "      <td>500</td>\n",
       "      <td>550</td>\n",
       "      <td>200</td>\n",
       "      <td>3</td>\n",
       "      <td>3</td>\n",
       "      <td>7550.0</td>\n",
       "    </tr>\n",
       "  </tbody>\n",
       "</table>\n",
       "<p>5 rows × 21 columns</p>\n",
       "</div>"
      ],
      "text/plain": [
       "   user_id  month  calls_count  duration  used_gb  used_messages  age  \\\n",
       "0     1001     11         59.0     430.0     47.0            0.0   41   \n",
       "1     1001     12         63.0     414.0     35.0            0.0   41   \n",
       "2     1002      6         15.0     117.0     27.0            4.0   59   \n",
       "3     1002      7         26.0     214.0     45.0           11.0   59   \n",
       "4     1002      8         42.0     289.0     50.0           13.0   59   \n",
       "\n",
       "  churn_date         city first_name  ...   reg_date tariff messages_included  \\\n",
       "0        NaN       Москва       Иван  ... 2018-11-01  smart                50   \n",
       "1        NaN       Москва       Иван  ... 2018-11-01  smart                50   \n",
       "2        NaN  Стерлитамак    Евгений  ... 2018-06-17  smart                50   \n",
       "3        NaN  Стерлитамак    Евгений  ... 2018-06-17  smart                50   \n",
       "4        NaN  Стерлитамак    Евгений  ... 2018-06-17  smart                50   \n",
       "\n",
       "   gb_per_month_included  minutes_included  rub_monthly_fee  rub_per_gb  \\\n",
       "0                     15               500              550         200   \n",
       "1                     15               500              550         200   \n",
       "2                     15               500              550         200   \n",
       "3                     15               500              550         200   \n",
       "4                     15               500              550         200   \n",
       "\n",
       "   rub_per_message  rub_per_minute  income  \n",
       "0                3               3  6950.0  \n",
       "1                3               3  4550.0  \n",
       "2                3               3  2950.0  \n",
       "3                3               3  6550.0  \n",
       "4                3               3  7550.0  \n",
       "\n",
       "[5 rows x 21 columns]"
      ]
     },
     "execution_count": 31,
     "metadata": {},
     "output_type": "execute_result"
    }
   ],
   "source": [
    "smart = general[general['tariff'] == 'smart'].reset_index(drop = True)\n",
    "smart.head()"
   ]
  },
  {
   "cell_type": "code",
   "execution_count": 32,
   "metadata": {
    "scrolled": false
   },
   "outputs": [
    {
     "name": "stdout",
     "output_type": "stream",
     "text": [
      "Данные по использованным за месяц минутам разговора:\n",
      "Среднее количество: 418\n",
      "Дисперсия: 36203\n",
      "Стандартное отклонение: 190\n"
     ]
    },
    {
     "data": {
      "image/png": "[encoded data removed]",
      "text/plain": [
       "<Figure size 432x288 with 1 Axes>"
      ]
     },
     "metadata": {
      "needs_background": "light"
     },
     "output_type": "display_data"
    }
   ],
   "source": [
    "print('Данные по использованным за месяц минутам разговора:')\n",
    "print('Среднее количество:', round(smart['duration'].mean())) # определение среднего значения по столбцу duration\n",
    "print('Дисперсия:', round(np.var(smart['duration']))) # определение дисперсии по столбцу duration\n",
    "print('Стандартное отклонение:', round(np.std(smart['duration']))) # определение стандартного отклонения по столбцу duration\n",
    "\n",
    "# построение гистограммы smart_calls_hist по столбцу duration\n",
    "smart_calls_hist = smart['duration'].plot(kind='hist', title='Гистограмма по количеству использованных минут за месяц' +'\\n', grid=True)\n",
    "smart_calls_hist.set_ylabel('Количество пользователей') # присвоение имени оси y\n",
    "smart_calls_hist.set_xlabel('Количество минут'); # присвоение имени оси x "
   ]
  },
  {
   "cell_type": "code",
   "execution_count": 33,
   "metadata": {},
   "outputs": [
    {
     "name": "stdout",
     "output_type": "stream",
     "text": [
      "Данные по отправленным за месяц сообщениям:\n",
      "Среднее количество: 33\n",
      "Дисперсия: 796\n",
      "Стандартное отклонение: 28\n"
     ]
    },
    {
     "data": {
      "image/png": "[encoded data removed]",
      "text/plain": [
       "<Figure size 432x288 with 1 Axes>"
      ]
     },
     "metadata": {
      "needs_background": "light"
     },
     "output_type": "display_data"
    }
   ],
   "source": [
    "print('Данные по отправленным за месяц сообщениям:')\n",
    "print('Среднее количество:', round(smart['used_messages'].mean())) # определение среднего значения по столбцу used_messages\n",
    "print('Дисперсия:', round(np.var(smart['used_messages']))) # определение дисперсии по столбцу used_messages\n",
    "print('Стандартное отклонение:', round(np.std(smart['used_messages']))) # определение стандартного отклонения по столбцу used_messages\n",
    "\n",
    "# построение гистограммы smart_messages_hist по столбцу used_messages\n",
    "smart_messages_hist = smart['used_messages'].plot(kind='hist', title='Гистограмма по количеству отправленных за месяц сообщений' +'\\n', grid=True)\n",
    "smart_messages_hist.set_ylabel('Количество пользователей') # присвоение имени оси y\n",
    "smart_messages_hist.set_xlabel('Количество сообщений'); # присвоение имени оси x "
   ]
  },
  {
   "cell_type": "code",
   "execution_count": 34,
   "metadata": {},
   "outputs": [
    {
     "name": "stdout",
     "output_type": "stream",
     "text": [
      "Данные по израсходованному за месяц интернет-трафику (в Гб):\n",
      "Среднее количество: 42\n",
      "Дисперсия: 223\n",
      "Стандартное отклонение: 15\n"
     ]
    },
    {
     "data": {
      "image/png": "[encoded data removed]",
      "text/plain": [
       "<Figure size 432x288 with 1 Axes>"
      ]
     },
     "metadata": {
      "needs_background": "light"
     },
     "output_type": "display_data"
    }
   ],
   "source": [
    "print('Данные по израсходованному за месяц интернет-трафику (в Гб):')\n",
    "print('Среднее количество:', round(smart['used_gb'].mean())) # определение среднего значения по столбцу used_gb\n",
    "print('Дисперсия:', round(np.var(smart['used_gb']))) # определение дисперсии по столбцу used_gb\n",
    "print('Стандартное отклонение:', round(np.std(smart['used_gb']))) # определение стандартного отклонения по столбцу used_gb\n",
    "\n",
    "# построение гистограммы smart_gb_hist по столбцу used_gb\n",
    "smart_gb_hist = smart['used_gb'].plot(kind='hist', title='Гистограмма по количеству использованного за месяц интернет-трафика' +'\\n', grid=True)\n",
    "smart_gb_hist.set_ylabel('Количество пользователей') # присвоение имени оси y\n",
    "smart_gb_hist.set_xlabel('Количество использованного интернет-трафика (в Гб)'); # присвоение имени оси x "
   ]
  },
  {
   "cell_type": "markdown",
   "metadata": {},
   "source": [
    "**По пользовательской активности клиентов тарифа \"Смарт\" можно сделать следующие выводы:**\n",
    "- чаще всего их телефонные разговоры составляют **примерно 500 минут в месяц**, но в среднем, они ежемесячно используют порядка 418 минут звонков. Показатели имеют достаточно большой разброс - до 190 минут разницы. График скошен вправо, т.к. есть особенные любители поговорить (до 23 часов в месяц). В тариф \"Смарт\" входит 500 минут, так что основная часть укладывается в этот лимит, но некоторое количество пользователей его превышает.\n",
    "- чаще всего клиентам этого тарифа хватает **до 20 сообщений в месяц, средний показатель - 33**. График скошен вправо, т.к. некоторые пользователи отправляют более 100 сообщений в месяц. Но большинству людей 50 пакетных сообщений в месяц вполне достаточно. \n",
    "- а вот пакетного количества гигабайтов (15Гб) хватает мало кому (не более 100 человек): согласно графика, пользователям обычно требуется **40-50Гб в месяц**. График симметричный, разброс значений не столь высокий."
   ]
  },
  {
   "cell_type": "markdown",
   "metadata": {},
   "source": [
    "### Анализ поведения клиентов тарифа \"Ультра\""
   ]
  },
  {
   "cell_type": "markdown",
   "metadata": {},
   "source": [
    "Проделаем аналогичную процедуру с пользователями тарифа \"Ультра\"."
   ]
  },
  {
   "cell_type": "code",
   "execution_count": 35,
   "metadata": {},
   "outputs": [
    {
     "data": {
      "text/html": [
       "<div>\n",
       "<style scoped>\n",
       "    .dataframe tbody tr th:only-of-type {\n",
       "        vertical-align: middle;\n",
       "    }\n",
       "\n",
       "    .dataframe tbody tr th {\n",
       "        vertical-align: top;\n",
       "    }\n",
       "\n",
       "    .dataframe thead th {\n",
       "        text-align: right;\n",
       "    }\n",
       "</style>\n",
       "<table border=\"1\" class=\"dataframe\">\n",
       "  <thead>\n",
       "    <tr style=\"text-align: right;\">\n",
       "      <th></th>\n",
       "      <th>user_id</th>\n",
       "      <th>month</th>\n",
       "      <th>calls_count</th>\n",
       "      <th>duration</th>\n",
       "      <th>used_gb</th>\n",
       "      <th>used_messages</th>\n",
       "      <th>age</th>\n",
       "      <th>churn_date</th>\n",
       "      <th>city</th>\n",
       "      <th>first_name</th>\n",
       "      <th>...</th>\n",
       "      <th>reg_date</th>\n",
       "      <th>tariff</th>\n",
       "      <th>messages_included</th>\n",
       "      <th>gb_per_month_included</th>\n",
       "      <th>minutes_included</th>\n",
       "      <th>rub_monthly_fee</th>\n",
       "      <th>rub_per_gb</th>\n",
       "      <th>rub_per_message</th>\n",
       "      <th>rub_per_minute</th>\n",
       "      <th>income</th>\n",
       "    </tr>\n",
       "  </thead>\n",
       "  <tbody>\n",
       "    <tr>\n",
       "      <th>0</th>\n",
       "      <td>1000</td>\n",
       "      <td>5</td>\n",
       "      <td>22.0</td>\n",
       "      <td>159.0</td>\n",
       "      <td>4.0</td>\n",
       "      <td>22.0</td>\n",
       "      <td>52</td>\n",
       "      <td>NaN</td>\n",
       "      <td>Краснодар</td>\n",
       "      <td>Рафаил</td>\n",
       "      <td>...</td>\n",
       "      <td>2018-05-25</td>\n",
       "      <td>ultra</td>\n",
       "      <td>1000</td>\n",
       "      <td>30</td>\n",
       "      <td>3000</td>\n",
       "      <td>1950</td>\n",
       "      <td>150</td>\n",
       "      <td>1</td>\n",
       "      <td>1</td>\n",
       "      <td>1950.0</td>\n",
       "    </tr>\n",
       "    <tr>\n",
       "      <th>1</th>\n",
       "      <td>1000</td>\n",
       "      <td>6</td>\n",
       "      <td>43.0</td>\n",
       "      <td>172.0</td>\n",
       "      <td>49.0</td>\n",
       "      <td>60.0</td>\n",
       "      <td>52</td>\n",
       "      <td>NaN</td>\n",
       "      <td>Краснодар</td>\n",
       "      <td>Рафаил</td>\n",
       "      <td>...</td>\n",
       "      <td>2018-05-25</td>\n",
       "      <td>ultra</td>\n",
       "      <td>1000</td>\n",
       "      <td>30</td>\n",
       "      <td>3000</td>\n",
       "      <td>1950</td>\n",
       "      <td>150</td>\n",
       "      <td>1</td>\n",
       "      <td>1</td>\n",
       "      <td>4800.0</td>\n",
       "    </tr>\n",
       "    <tr>\n",
       "      <th>2</th>\n",
       "      <td>1000</td>\n",
       "      <td>7</td>\n",
       "      <td>47.0</td>\n",
       "      <td>340.0</td>\n",
       "      <td>28.0</td>\n",
       "      <td>75.0</td>\n",
       "      <td>52</td>\n",
       "      <td>NaN</td>\n",
       "      <td>Краснодар</td>\n",
       "      <td>Рафаил</td>\n",
       "      <td>...</td>\n",
       "      <td>2018-05-25</td>\n",
       "      <td>ultra</td>\n",
       "      <td>1000</td>\n",
       "      <td>30</td>\n",
       "      <td>3000</td>\n",
       "      <td>1950</td>\n",
       "      <td>150</td>\n",
       "      <td>1</td>\n",
       "      <td>1</td>\n",
       "      <td>1950.0</td>\n",
       "    </tr>\n",
       "    <tr>\n",
       "      <th>3</th>\n",
       "      <td>1000</td>\n",
       "      <td>8</td>\n",
       "      <td>52.0</td>\n",
       "      <td>408.0</td>\n",
       "      <td>27.0</td>\n",
       "      <td>81.0</td>\n",
       "      <td>52</td>\n",
       "      <td>NaN</td>\n",
       "      <td>Краснодар</td>\n",
       "      <td>Рафаил</td>\n",
       "      <td>...</td>\n",
       "      <td>2018-05-25</td>\n",
       "      <td>ultra</td>\n",
       "      <td>1000</td>\n",
       "      <td>30</td>\n",
       "      <td>3000</td>\n",
       "      <td>1950</td>\n",
       "      <td>150</td>\n",
       "      <td>1</td>\n",
       "      <td>1</td>\n",
       "      <td>1950.0</td>\n",
       "    </tr>\n",
       "    <tr>\n",
       "      <th>4</th>\n",
       "      <td>1000</td>\n",
       "      <td>9</td>\n",
       "      <td>58.0</td>\n",
       "      <td>466.0</td>\n",
       "      <td>26.0</td>\n",
       "      <td>57.0</td>\n",
       "      <td>52</td>\n",
       "      <td>NaN</td>\n",
       "      <td>Краснодар</td>\n",
       "      <td>Рафаил</td>\n",
       "      <td>...</td>\n",
       "      <td>2018-05-25</td>\n",
       "      <td>ultra</td>\n",
       "      <td>1000</td>\n",
       "      <td>30</td>\n",
       "      <td>3000</td>\n",
       "      <td>1950</td>\n",
       "      <td>150</td>\n",
       "      <td>1</td>\n",
       "      <td>1</td>\n",
       "      <td>1950.0</td>\n",
       "    </tr>\n",
       "  </tbody>\n",
       "</table>\n",
       "<p>5 rows × 21 columns</p>\n",
       "</div>"
      ],
      "text/plain": [
       "   user_id  month  calls_count  duration  used_gb  used_messages  age  \\\n",
       "0     1000      5         22.0     159.0      4.0           22.0   52   \n",
       "1     1000      6         43.0     172.0     49.0           60.0   52   \n",
       "2     1000      7         47.0     340.0     28.0           75.0   52   \n",
       "3     1000      8         52.0     408.0     27.0           81.0   52   \n",
       "4     1000      9         58.0     466.0     26.0           57.0   52   \n",
       "\n",
       "  churn_date       city first_name  ...   reg_date tariff messages_included  \\\n",
       "0        NaN  Краснодар     Рафаил  ... 2018-05-25  ultra              1000   \n",
       "1        NaN  Краснодар     Рафаил  ... 2018-05-25  ultra              1000   \n",
       "2        NaN  Краснодар     Рафаил  ... 2018-05-25  ultra              1000   \n",
       "3        NaN  Краснодар     Рафаил  ... 2018-05-25  ultra              1000   \n",
       "4        NaN  Краснодар     Рафаил  ... 2018-05-25  ultra              1000   \n",
       "\n",
       "   gb_per_month_included  minutes_included  rub_monthly_fee  rub_per_gb  \\\n",
       "0                     30              3000             1950         150   \n",
       "1                     30              3000             1950         150   \n",
       "2                     30              3000             1950         150   \n",
       "3                     30              3000             1950         150   \n",
       "4                     30              3000             1950         150   \n",
       "\n",
       "   rub_per_message  rub_per_minute  income  \n",
       "0                1               1  1950.0  \n",
       "1                1               1  4800.0  \n",
       "2                1               1  1950.0  \n",
       "3                1               1  1950.0  \n",
       "4                1               1  1950.0  \n",
       "\n",
       "[5 rows x 21 columns]"
      ]
     },
     "execution_count": 35,
     "metadata": {},
     "output_type": "execute_result"
    }
   ],
   "source": [
    "ultra = general[general['tariff'] == 'ultra'].reset_index(drop = True)\n",
    "ultra.head()"
   ]
  },
  {
   "cell_type": "code",
   "execution_count": 36,
   "metadata": {},
   "outputs": [
    {
     "name": "stdout",
     "output_type": "stream",
     "text": [
      "Данные по использованным за месяц минутам разговора:\n",
      "Среднее количество: 527\n",
      "Дисперсия: 100771\n",
      "Стандартное отклонение: 317\n"
     ]
    },
    {
     "data": {
      "image/png": "[encoded data removed]",
      "text/plain": [
       "<Figure size 432x288 with 1 Axes>"
      ]
     },
     "metadata": {
      "needs_background": "light"
     },
     "output_type": "display_data"
    }
   ],
   "source": [
    "print('Данные по использованным за месяц минутам разговора:')\n",
    "print('Среднее количество:', round(ultra['duration'].mean())) # определение среднего значения по столбцу duration\n",
    "print('Дисперсия:', round(np.var(ultra['duration']))) # определение дисперсии по столбцу duration\n",
    "print('Стандартное отклонение:', round(np.std(ultra['duration']))) # определение стандартного отклонения по столбцу duration\n",
    "\n",
    "# построение гистограммы ultra_calls_hist по столбцу duration\n",
    "ultra_calls_hist = ultra['duration'].plot(kind='hist', title='Гистограмма по количеству использованных минут за месяц' + \"\\n\", grid=True)\n",
    "ultra_calls_hist.set_ylabel('Количество пользователей') # присвоение имени оси y\n",
    "ultra_calls_hist.set_xlabel('Количество минут'); # присвоение имени оси x "
   ]
  },
  {
   "cell_type": "code",
   "execution_count": 37,
   "metadata": {},
   "outputs": [
    {
     "name": "stdout",
     "output_type": "stream",
     "text": [
      "Данные по отправленным за месяц сообщениям:\n",
      "Среднее количество: 49\n",
      "Дисперсия: 2283\n",
      "Стандартное отклонение: 48\n"
     ]
    },
    {
     "data": {
      "image/png": "[encoded data removed]",
      "text/plain": [
       "<Figure size 432x288 with 1 Axes>"
      ]
     },
     "metadata": {
      "needs_background": "light"
     },
     "output_type": "display_data"
    }
   ],
   "source": [
    "print('Данные по отправленным за месяц сообщениям:')\n",
    "print('Среднее количество:', round(ultra['used_messages'].mean())) # определение среднего значения по столбцу used_messages\n",
    "print('Дисперсия:', round(np.var(ultra['used_messages']))) # определение дисперсии по столбцу used_messages\n",
    "print('Стандартное отклонение:', round(np.std(ultra['used_messages']))) # определение стандартного отклонения по столбцу used_messages\n",
    "\n",
    "# построение гистограммы ultra_messages_hist по столбцу used_messages\n",
    "ultra_messages_hist = ultra['used_messages'].plot(kind='hist', title='Гистограмма по количеству отправленных за месяц сообщений' + \"\\n\", grid=True)\n",
    "ultra_messages_hist.set_ylabel('Количество пользователей') # присвоение имени оси y\n",
    "ultra_messages_hist.set_xlabel('Количество сообщений'); # присвоение имени оси x "
   ]
  },
  {
   "cell_type": "code",
   "execution_count": 38,
   "metadata": {},
   "outputs": [
    {
     "name": "stdout",
     "output_type": "stream",
     "text": [
      "Данные по израсходованному за месяц интернет-трафику (в Гб):\n",
      "Среднее количество: 38\n",
      "Дисперсия: 382\n",
      "Стандартное отклонение: 20\n"
     ]
    },
    {
     "data": {
      "image/png": "[encoded data removed]",
      "text/plain": [
       "<Figure size 432x288 with 1 Axes>"
      ]
     },
     "metadata": {
      "needs_background": "light"
     },
     "output_type": "display_data"
    }
   ],
   "source": [
    "print('Данные по израсходованному за месяц интернет-трафику (в Гб):')\n",
    "print('Среднее количество:', round(ultra['used_gb'].mean())) # определение среднего значения по столбцу used_gb\n",
    "print('Дисперсия:', round(np.var(ultra['used_gb']))) # определение дисперсии по столбцу used_gb\n",
    "print('Стандартное отклонение:', round(np.std(ultra['used_gb']))) # определение стандартного отклонения по столбцу used_gb\n",
    "\n",
    "# построение гистограммы ultra_gb_hist по столбцу used_gb\n",
    "ultra_gb_hist = ultra['used_gb'].plot(kind='hist', title='Гистограмма по количеству использованного за месяц интернет-трафика' + \"\\n\", grid=True)\n",
    "ultra_gb_hist.set_ylabel('Количество пользователей') # присвоение имени оси y\n",
    "ultra_gb_hist.set_xlabel('Количество использованного интернет-трафика (в Гб)'); # присвоение имени оси x "
   ]
  },
  {
   "cell_type": "markdown",
   "metadata": {},
   "source": [
    "**Показатели пользовательской активности клиентов тарифа \"Ультра\" говорят нам о следующем:**\n",
    "- больше всего клиентов тратят порядка **500-600 минут в месяц**. График скошен вправо, т.к. есть выбросы в бОльшую сторону (до 1700 минут). Но даже несмотря на это, абсолютно все клиенты, попавшие в выборку, не доходят до месячного лимита, предоставляемого оператором, в 3000 минут. \n",
    "- среди клиентов данного тарифа достаточно широкий разброс по отправленным сообщениям (стандартное отклонение - 46): большому количеству людей хватает и **20 сообщений**, незначительное количество людей отправляет более 200 сообщений в месяц, **средний показатель при этом - 49**. Никто из клиентов выборки не тратит даже половину предоставляемого пакета в 1000 сообщений. \n",
    "- гигабайтов в этом тарифе пользователям не хватает так же, как и на \"Смарте\". Многие клиенты тратят ежемесячно **более 30Гб**, включённых в пакет."
   ]
  },
  {
   "cell_type": "markdown",
   "metadata": {},
   "source": [
    "### Сравнение пользовательской активности клиентов двух тарифов"
   ]
  },
  {
   "cell_type": "code",
   "execution_count": 39,
   "metadata": {
    "scrolled": false
   },
   "outputs": [
    {
     "data": {
      "image/png": "[encoded data removed]",
      "text/plain": [
       "<Figure size 720x432 with 1 Axes>"
      ]
     },
     "metadata": {
      "needs_background": "light"
     },
     "output_type": "display_data"
    }
   ],
   "source": [
    "smart['duration'].plot(kind='hist', alpha=0.5, bins=30, figsize=(10, 6))\n",
    "ultra['duration'].plot(kind='hist', alpha=0.5, bins=30, figsize=(10, 6))\n",
    "plt.title('Гистограмма распределения продолжительности звонков по двум тарифам'+ \"\\n\")\n",
    "plt.xlabel('Количество минут')\n",
    "plt.ylabel('Частотность')\n",
    "plt.legend(['smart', 'ultra'])\n",
    "\n",
    "plt.show()"
   ]
  },
  {
   "cell_type": "markdown",
   "metadata": {},
   "source": [
    "В сравнении мы видимо, что пользовательская активность клиентов тарифа \"Смарт\" в основном сконцентрирована **вокруг среднего показателя - от 300 до 600 минут**. \n",
    "\n",
    "Показатели клиентов тарифа \"Ультра\" имеют **широкий разброс** (пиковое значение на 50мин и 550мин, далее весьма крупные значения после 700 мин) и **более равномерное распределение**. \n",
    "\n",
    "Это подтверждает наши расчеты: среднее отклонение по тарифу \"Ультра\" почти вдвое больше, чем по тарифу \"Смарт\"."
   ]
  },
  {
   "cell_type": "code",
   "execution_count": 40,
   "metadata": {},
   "outputs": [
    {
     "data": {
      "image/png": "[encoded data removed]",
      "text/plain": [
       "<Figure size 720x432 with 1 Axes>"
      ]
     },
     "metadata": {
      "needs_background": "light"
     },
     "output_type": "display_data"
    }
   ],
   "source": [
    "smart['used_messages'].plot(kind='hist', alpha=0.5, bins=30, figsize=(10, 6))\n",
    "ultra['used_messages'].plot(kind='hist', alpha=0.5, bins=30, figsize=(10, 6))\n",
    "plt.title('Гистограмма распределения количества сообщений по двум тарифам'+ \"\\n\")\n",
    "plt.xlabel('Количество отправленных сообщений')\n",
    "plt.ylabel('Частотность')\n",
    "plt.legend(['smart', 'ultra'])\n",
    "\n",
    "plt.show()"
   ]
  },
  {
   "cell_type": "markdown",
   "metadata": {},
   "source": [
    "Пользовательская активность под отправке сообщений у клиентов обоих тарифов весьма схожа: пик в начале графика и длинный \"хвост\". "
   ]
  },
  {
   "cell_type": "code",
   "execution_count": 41,
   "metadata": {},
   "outputs": [
    {
     "data": {
      "image/png": "[encoded data removed]",
      "text/plain": [
       "<Figure size 720x432 with 1 Axes>"
      ]
     },
     "metadata": {
      "needs_background": "light"
     },
     "output_type": "display_data"
    }
   ],
   "source": [
    "smart['used_gb'].plot(kind='hist', alpha=0.5, bins=30, figsize=(10, 6))\n",
    "ultra['used_gb'].plot(kind='hist', alpha=0.5, bins=30, figsize=(10, 6))\n",
    "plt.title('Гистограмма распределения количества интернет-трафика по двум тарифам'+ \"\\n\")\n",
    "plt.xlabel('Количество потраченного интернет-трафика (в Гб)')\n",
    "plt.ylabel('Частотность')\n",
    "plt.legend(['smart', 'ultra'])\n",
    "\n",
    "plt.show()"
   ]
  },
  {
   "cell_type": "markdown",
   "metadata": {},
   "source": [
    "В использовании интернет-трафика мы видим, что пользовательская активность клиентов тарифа \"Смарт\" также, как и в звонках, сконцентрирована **вокруг среднего показателя - от 35 до 55 Гб**. \n",
    "\n",
    "График, отражающий пользовательскую активность клиентов тарифа \"Ультра\", более равномерный. "
   ]
  },
  {
   "cell_type": "markdown",
   "metadata": {},
   "source": [
    "### Вывод"
   ]
  },
  {
   "cell_type": "markdown",
   "metadata": {},
   "source": [
    "Сравнивая пользовательскую активность клиентов двух тарифов можем сделать следующие выводы:\n",
    "- потребности обоих групп плюс-минус схожие: в месяц им требуется порядка 500-600 минут телефонных разговоров, 20-30 сообщений и 40-50Гб интернета;\n",
    "- клиенты тарифа \"Ультра\" исчерпывают предоставляемый оператором пакет только по интернет-трафику, в то время как пользователи тарифа \"Смарт\" часто пользуются и другими услугами сверх пакета."
   ]
  },
  {
   "cell_type": "markdown",
   "metadata": {},
   "source": [
    "## Проверка гипотез"
   ]
  },
  {
   "cell_type": "markdown",
   "metadata": {},
   "source": [
    "Сравним среднюю выручку по двум тарифам и выручку по клиентам из Москвы и остальных регионов."
   ]
  },
  {
   "cell_type": "markdown",
   "metadata": {},
   "source": [
    "### Гипотеза \"Средняя выручка пользователей тарифов «Ультра» и «Смарт» различаются\""
   ]
  },
  {
   "cell_type": "markdown",
   "metadata": {},
   "source": [
    "Перед нами стоит задача проверить гипотезу о равенстве среднего двух независимых друг от друга генеральных совокупностей по взятым из них выборкам. Соответственно, мы будем использовать `scipy.stats.ttest_ind()`.\n",
    "\n",
    "**Нулевая гипотеза в данном случае будет звучать так: \"Средняя выручка пользователей тарифа «Ультра» равна средней выручке пользователей тарифа «Смарт»\".**\n",
    "\n",
    "Альтернативная гипотеза: \"Средняя выручка пользователей тарифа «Ультра» не равна средней выручке пользователей тарифа «Смарт»\"."
   ]
  },
  {
   "cell_type": "markdown",
   "metadata": {},
   "source": [
    "При слиянии таблиц у нас возникли пропуски, которые перетянулись в столбец `income`. Чтобы произвести сравнения по имеющимся цифрам, удалим пропуски в столбце: "
   ]
  },
  {
   "cell_type": "code",
   "execution_count": 42,
   "metadata": {},
   "outputs": [
    {
     "name": "stdout",
     "output_type": "stream",
     "text": [
      "p-значение: 2.466455370370206e-111\n",
      "Отвергаем нулевую гипотезу\n"
     ]
    }
   ],
   "source": [
    "# объявление критического уровня статистической значимости в 5%\n",
    "alpha = 0.05 \n",
    "\n",
    "# методу scipy.stats.ttest_ind() в качестве параметров передадим массивы, содержащие выборки по выручкам обоих тарифов\n",
    "result_tariffs = st.ttest_ind(general[general['tariff'] == 'smart']['income'], general[general['tariff'] == 'ultra']['income'])\n",
    "print('p-значение:', result_tariffs.pvalue)\n",
    "\n",
    "# сравнение полученного уровня значимости с установленным критическим\n",
    "if (result_tariffs.pvalue < alpha):\n",
    "    print(\"Отвергаем нулевую гипотезу\")\n",
    "else:\n",
    "    print(\"Не получилось отвергнуть нулевую гипотезу\")"
   ]
  },
  {
   "cell_type": "markdown",
   "metadata": {},
   "source": [
    "**Следовательно, сформулированная нами нулевая гипотеза отвергнута**: средние выручки по двум тарифам не равны между собой и имеют существенную разницу."
   ]
  },
  {
   "cell_type": "markdown",
   "metadata": {},
   "source": [
    "### Гипотеза \"Средняя выручка пользователей из Москвы отличается от выручки пользователей из других регионов\""
   ]
  },
  {
   "cell_type": "markdown",
   "metadata": {},
   "source": [
    "Посмотрим, как обстоят дела с пользователями, проживающими в столице и за её пределами.\n",
    "\n",
    "**Нулевая гипотеза здесь такая: \"Средняя выручка пользователей из Москвы равна средней выручке пользователей из других регионов\"**.\n",
    "\n",
    "Следовательно альтернативная гипотеза такова: \"Средняя выручка пользователей из Москвы не равна средней выручке пользователей из других регионов\"."
   ]
  },
  {
   "cell_type": "code",
   "execution_count": 43,
   "metadata": {},
   "outputs": [
    {
     "name": "stdout",
     "output_type": "stream",
     "text": [
      "p-значение: 0.28336464606572015\n",
      "Не получилось отвергнуть нулевую гипотезу\n"
     ]
    }
   ],
   "source": [
    "# передача методу scipy.stats.ttest_ind() в качестве параметров массивов, содержащих выборки по выручкам в Москве и не в Москве\n",
    "results = st.ttest_ind(general[general['city'] == 'Москва']['income'], general[general['city'] != 'Москва']['income'])\n",
    "print('p-значение:', results.pvalue)\n",
    "\n",
    "# сравнение полученного уровня значимости с установленным критическим\n",
    "if (results.pvalue < alpha):\n",
    "    print(\"Отвергаем нулевую гипотезу\")\n",
    "else:\n",
    "    print(\"Не получилось отвергнуть нулевую гипотезу\")"
   ]
  },
  {
   "cell_type": "markdown",
   "metadata": {},
   "source": [
    "Итак, **нулевую гипотезу отвергнуть не получилось**: показатели средней выручки по Москве и регионам близки друг другу."
   ]
  },
  {
   "cell_type": "markdown",
   "metadata": {},
   "source": [
    "### Вывод"
   ]
  },
  {
   "cell_type": "markdown",
   "metadata": {},
   "source": [
    "Мы проверили две волнующие нас гипотезы и пришли к следующим выводам:\n",
    "- выручка двух тарифов не равна и имеет между собой большую разницу;\n",
    "- выручка фактически не зависит от того, живёт клиент в Москве или другом регионе.\n",
    "\n",
    "Дополнительно проверим наши заключения на простых расчётах:"
   ]
  },
  {
   "cell_type": "code",
   "execution_count": 44,
   "metadata": {},
   "outputs": [
    {
     "name": "stdout",
     "output_type": "stream",
     "text": [
      "Средняя выручка по тарифу \"Смарт\": 6247\n",
      "Средняя выручка по тарифу \"Ультра\": 3844\n",
      "Средняя выручка по клиентам в Москве: 5397\n",
      "Средняя выручка по клиентам в регионах: 5537\n"
     ]
    }
   ],
   "source": [
    "print('Средняя выручка по тарифу \"Смарт\":', round(general[general['tariff'] == 'smart']['income'].mean()))\n",
    "print('Средняя выручка по тарифу \"Ультра\":', round(general[general['tariff'] == 'ultra']['income'].mean()))\n",
    "print('Средняя выручка по клиентам в Москве:', round(general[general['city'] == 'Москва']['income'].mean()))\n",
    "print('Средняя выручка по клиентам в регионах:', round(general[general['city'] != 'Москва']['income'].mean()))"
   ]
  },
  {
   "cell_type": "markdown",
   "metadata": {},
   "source": [
    "## Общий вывод"
   ]
  },
  {
   "cell_type": "markdown",
   "metadata": {},
   "source": [
    "Мы произвели анализ данных 500 пользователей двух тарифных планов (\"Смарт\" и \"Ультра\") мобильного оператора «Мегалайн» и пришли к следующим выводам:\n",
    "- у пользователей обоих тарифов достаточно схожие потребности в объёмах потребляемых услуг, но несколько разное потребительское поведение: поведение клиентов тарифа \"Ультра\" более разнообразное (подтверждается большими показателями стандартного отклонения), частотность малых и высоких показателей у них одинаково возможна;\n",
    "- среди пользователей тарифа \"Смарт\" очень многие превышают предоставляемый оператором лимит;\n",
    "- пользователи тарифа \"Ультра\" превышают предоставляемый оператором лимит только по интернет-трафику. Количество сообщений и минут разговоров в пакете зачастую не израсходуются даже на половину.\n",
    "- средняя выручка по тарифу \"Смарт\" больше, чем по тарифу \"Ультра\";\n",
    "- на показатель средней выручки не влияет, в Москве проживает пользователь или за её пределами."
   ]
  }
 ],
 "metadata": {
  "ExecuteTimeLog": [
   {
    "duration": 920,
    "start_time": "2021-12-21T08:14:17.510Z"
   },
   {
    "duration": 149,
    "start_time": "2021-12-21T08:15:13.649Z"
   },
   {
    "duration": 139,
    "start_time": "2021-12-21T08:15:18.474Z"
   },
   {
    "duration": 92,
    "start_time": "2021-12-21T08:15:21.449Z"
   },
   {
    "duration": 21,
    "start_time": "2021-12-21T08:15:22.465Z"
   },
   {
    "duration": 43,
    "start_time": "2021-12-21T08:15:23.071Z"
   },
   {
    "duration": 1202,
    "start_time": "2021-12-21T08:16:20.085Z"
   },
   {
    "duration": 145,
    "start_time": "2021-12-21T08:16:23.515Z"
   },
   {
    "duration": 22,
    "start_time": "2021-12-21T08:24:30.173Z"
   },
   {
    "duration": 131,
    "start_time": "2021-12-21T08:28:34.046Z"
   },
   {
    "duration": 4,
    "start_time": "2021-12-21T08:29:00.431Z"
   },
   {
    "duration": 10,
    "start_time": "2021-12-21T08:29:08.492Z"
   },
   {
    "duration": 142,
    "start_time": "2021-12-21T08:32:06.301Z"
   },
   {
    "duration": 8,
    "start_time": "2021-12-21T08:32:34.149Z"
   },
   {
    "duration": 131,
    "start_time": "2021-12-21T08:34:03.244Z"
   },
   {
    "duration": 134,
    "start_time": "2021-12-21T08:34:32.404Z"
   },
   {
    "duration": 132,
    "start_time": "2021-12-21T08:34:47.148Z"
   },
   {
    "duration": 8,
    "start_time": "2021-12-21T08:37:01.045Z"
   },
   {
    "duration": 10,
    "start_time": "2021-12-21T08:39:39.260Z"
   },
   {
    "duration": 9,
    "start_time": "2021-12-21T08:40:36.862Z"
   },
   {
    "duration": 136,
    "start_time": "2021-12-21T08:41:40.829Z"
   },
   {
    "duration": 9,
    "start_time": "2021-12-21T08:47:37.125Z"
   },
   {
    "duration": 10,
    "start_time": "2021-12-21T08:47:43.613Z"
   },
   {
    "duration": 9,
    "start_time": "2021-12-21T08:48:50.277Z"
   },
   {
    "duration": 13,
    "start_time": "2021-12-21T08:48:52.341Z"
   },
   {
    "duration": 9,
    "start_time": "2021-12-21T08:48:57.437Z"
   },
   {
    "duration": 9,
    "start_time": "2021-12-21T08:48:58.382Z"
   },
   {
    "duration": 10,
    "start_time": "2021-12-21T08:49:55.829Z"
   },
   {
    "duration": 11,
    "start_time": "2021-12-21T08:53:02.325Z"
   },
   {
    "duration": 9,
    "start_time": "2021-12-21T09:02:40.924Z"
   },
   {
    "duration": 10,
    "start_time": "2021-12-21T09:02:59.107Z"
   },
   {
    "duration": 11,
    "start_time": "2021-12-21T09:03:56.347Z"
   },
   {
    "duration": 10,
    "start_time": "2021-12-21T09:06:10.115Z"
   },
   {
    "duration": 9,
    "start_time": "2021-12-21T09:07:27.499Z"
   },
   {
    "duration": 8,
    "start_time": "2021-12-21T09:07:42.379Z"
   },
   {
    "duration": 7,
    "start_time": "2021-12-21T09:07:56.356Z"
   },
   {
    "duration": 136,
    "start_time": "2021-12-21T09:08:12.447Z"
   },
   {
    "duration": 163,
    "start_time": "2021-12-21T09:08:50.292Z"
   },
   {
    "duration": 7,
    "start_time": "2021-12-21T09:09:15.436Z"
   },
   {
    "duration": 5,
    "start_time": "2021-12-21T09:10:48.980Z"
   },
   {
    "duration": 7,
    "start_time": "2021-12-21T09:11:00.958Z"
   },
   {
    "duration": 162,
    "start_time": "2021-12-21T09:11:46.520Z"
   },
   {
    "duration": 10,
    "start_time": "2021-12-21T09:11:52.114Z"
   },
   {
    "duration": 25,
    "start_time": "2021-12-21T09:12:57.709Z"
   },
   {
    "duration": 19,
    "start_time": "2021-12-21T09:13:35.029Z"
   },
   {
    "duration": 134,
    "start_time": "2021-12-21T09:14:03.036Z"
   },
   {
    "duration": 137,
    "start_time": "2021-12-21T09:14:19.364Z"
   },
   {
    "duration": 143,
    "start_time": "2021-12-21T09:14:27.452Z"
   },
   {
    "duration": 132,
    "start_time": "2021-12-21T09:14:56.781Z"
   },
   {
    "duration": 134,
    "start_time": "2021-12-21T09:15:00.949Z"
   },
   {
    "duration": 127,
    "start_time": "2021-12-21T09:17:44.012Z"
   },
   {
    "duration": 122,
    "start_time": "2021-12-21T09:17:50.091Z"
   },
   {
    "duration": 147,
    "start_time": "2021-12-21T09:20:12.925Z"
   },
   {
    "duration": 24,
    "start_time": "2021-12-21T09:20:13.074Z"
   },
   {
    "duration": 11,
    "start_time": "2021-12-21T09:20:13.101Z"
   },
   {
    "duration": 142,
    "start_time": "2021-12-21T09:20:13.114Z"
   },
   {
    "duration": 299,
    "start_time": "2021-12-21T09:20:12.959Z"
   },
   {
    "duration": 298,
    "start_time": "2021-12-21T09:20:12.961Z"
   },
   {
    "duration": 294,
    "start_time": "2021-12-21T09:20:12.966Z"
   },
   {
    "duration": 293,
    "start_time": "2021-12-21T09:20:12.968Z"
   },
   {
    "duration": 292,
    "start_time": "2021-12-21T09:20:12.970Z"
   },
   {
    "duration": 292,
    "start_time": "2021-12-21T09:20:12.971Z"
   },
   {
    "duration": 33,
    "start_time": "2021-12-21T09:22:48.372Z"
   },
   {
    "duration": 19,
    "start_time": "2021-12-21T09:22:57.284Z"
   },
   {
    "duration": 13,
    "start_time": "2021-12-21T09:23:01.516Z"
   },
   {
    "duration": 29,
    "start_time": "2021-12-21T09:25:09.811Z"
   },
   {
    "duration": 8,
    "start_time": "2021-12-21T09:25:19.484Z"
   },
   {
    "duration": 6,
    "start_time": "2021-12-21T09:25:22.089Z"
   },
   {
    "duration": 29,
    "start_time": "2021-12-21T09:25:24.371Z"
   },
   {
    "duration": 146,
    "start_time": "2021-12-21T09:27:33.948Z"
   },
   {
    "duration": 12,
    "start_time": "2021-12-21T09:27:50.996Z"
   },
   {
    "duration": 8,
    "start_time": "2021-12-21T09:27:58.691Z"
   },
   {
    "duration": 27,
    "start_time": "2021-12-21T09:28:21.316Z"
   },
   {
    "duration": 40,
    "start_time": "2021-12-21T09:28:34.301Z"
   },
   {
    "duration": 32,
    "start_time": "2021-12-21T09:28:58.380Z"
   },
   {
    "duration": 19,
    "start_time": "2021-12-21T09:38:43.078Z"
   },
   {
    "duration": 28,
    "start_time": "2021-12-21T09:38:51.580Z"
   },
   {
    "duration": 36,
    "start_time": "2021-12-21T09:39:52.739Z"
   },
   {
    "duration": 21,
    "start_time": "2021-12-21T09:39:59.044Z"
   },
   {
    "duration": 37,
    "start_time": "2021-12-21T09:40:07.548Z"
   },
   {
    "duration": 4771,
    "start_time": "2021-12-21T09:40:46.548Z"
   },
   {
    "duration": 30,
    "start_time": "2021-12-21T09:41:17.923Z"
   },
   {
    "duration": 3416,
    "start_time": "2021-12-21T09:42:06.125Z"
   },
   {
    "duration": 18,
    "start_time": "2021-12-21T09:42:29.540Z"
   },
   {
    "duration": 19,
    "start_time": "2021-12-21T09:42:43.675Z"
   },
   {
    "duration": 3364,
    "start_time": "2021-12-21T09:42:46.680Z"
   },
   {
    "duration": 30,
    "start_time": "2021-12-21T09:43:01.107Z"
   },
   {
    "duration": 17,
    "start_time": "2021-12-21T09:43:27.755Z"
   },
   {
    "duration": 4619,
    "start_time": "2021-12-21T09:43:33.693Z"
   },
   {
    "duration": 148,
    "start_time": "2021-12-21T09:43:57.371Z"
   },
   {
    "duration": 43,
    "start_time": "2021-12-21T09:45:35.667Z"
   },
   {
    "duration": 29,
    "start_time": "2021-12-21T09:45:42.935Z"
   },
   {
    "duration": 18,
    "start_time": "2021-12-21T09:46:34.717Z"
   },
   {
    "duration": 12,
    "start_time": "2021-12-21T09:46:46.171Z"
   },
   {
    "duration": 11,
    "start_time": "2021-12-21T09:47:15.355Z"
   },
   {
    "duration": 11,
    "start_time": "2021-12-21T09:47:23.299Z"
   },
   {
    "duration": 12,
    "start_time": "2021-12-21T09:47:47.771Z"
   },
   {
    "duration": 14,
    "start_time": "2021-12-21T09:48:24.435Z"
   },
   {
    "duration": 12,
    "start_time": "2021-12-21T09:48:34.635Z"
   },
   {
    "duration": 3304,
    "start_time": "2021-12-21T09:50:14.204Z"
   },
   {
    "duration": 10,
    "start_time": "2021-12-21T09:50:29.043Z"
   },
   {
    "duration": 12,
    "start_time": "2021-12-21T09:50:42.060Z"
   },
   {
    "duration": 13,
    "start_time": "2021-12-21T09:51:06.246Z"
   },
   {
    "duration": 11,
    "start_time": "2021-12-21T09:51:31.812Z"
   },
   {
    "duration": 12,
    "start_time": "2021-12-21T09:51:53.404Z"
   },
   {
    "duration": 184,
    "start_time": "2021-12-21T09:51:58.106Z"
   },
   {
    "duration": 27,
    "start_time": "2021-12-21T09:51:58.292Z"
   },
   {
    "duration": 6,
    "start_time": "2021-12-21T09:51:58.321Z"
   },
   {
    "duration": 41,
    "start_time": "2021-12-21T09:51:58.330Z"
   },
   {
    "duration": 38,
    "start_time": "2021-12-21T09:51:58.373Z"
   },
   {
    "duration": 27,
    "start_time": "2021-12-21T09:51:58.413Z"
   },
   {
    "duration": 3587,
    "start_time": "2021-12-21T09:51:58.441Z"
   },
   {
    "duration": 257,
    "start_time": "2021-12-21T09:52:01.773Z"
   },
   {
    "duration": 257,
    "start_time": "2021-12-21T09:52:01.774Z"
   },
   {
    "duration": 256,
    "start_time": "2021-12-21T09:52:01.776Z"
   },
   {
    "duration": 256,
    "start_time": "2021-12-21T09:52:01.777Z"
   },
   {
    "duration": 256,
    "start_time": "2021-12-21T09:52:01.778Z"
   },
   {
    "duration": 11,
    "start_time": "2021-12-21T09:52:11.306Z"
   },
   {
    "duration": 12,
    "start_time": "2021-12-21T09:52:16.508Z"
   },
   {
    "duration": 16,
    "start_time": "2021-12-21T09:52:19.397Z"
   },
   {
    "duration": 160,
    "start_time": "2021-12-21T09:52:26.738Z"
   },
   {
    "duration": 25,
    "start_time": "2021-12-21T09:52:26.900Z"
   },
   {
    "duration": 5,
    "start_time": "2021-12-21T09:52:26.928Z"
   },
   {
    "duration": 27,
    "start_time": "2021-12-21T09:52:26.935Z"
   },
   {
    "duration": 55,
    "start_time": "2021-12-21T09:52:26.964Z"
   },
   {
    "duration": 26,
    "start_time": "2021-12-21T09:52:27.021Z"
   },
   {
    "duration": 3749,
    "start_time": "2021-12-21T09:52:27.049Z"
   },
   {
    "duration": 247,
    "start_time": "2021-12-21T09:52:30.554Z"
   },
   {
    "duration": 249,
    "start_time": "2021-12-21T09:52:30.556Z"
   },
   {
    "duration": 249,
    "start_time": "2021-12-21T09:52:30.558Z"
   },
   {
    "duration": 247,
    "start_time": "2021-12-21T09:52:30.561Z"
   },
   {
    "duration": 247,
    "start_time": "2021-12-21T09:52:30.563Z"
   },
   {
    "duration": 151,
    "start_time": "2021-12-21T09:52:33.337Z"
   },
   {
    "duration": 27,
    "start_time": "2021-12-21T09:52:33.492Z"
   },
   {
    "duration": 6,
    "start_time": "2021-12-21T09:52:33.522Z"
   },
   {
    "duration": 30,
    "start_time": "2021-12-21T09:52:33.529Z"
   },
   {
    "duration": 54,
    "start_time": "2021-12-21T09:52:33.560Z"
   },
   {
    "duration": 25,
    "start_time": "2021-12-21T09:52:33.616Z"
   },
   {
    "duration": 3451,
    "start_time": "2021-12-21T09:52:33.643Z"
   },
   {
    "duration": 249,
    "start_time": "2021-12-21T09:52:36.848Z"
   },
   {
    "duration": 248,
    "start_time": "2021-12-21T09:52:36.850Z"
   },
   {
    "duration": 248,
    "start_time": "2021-12-21T09:52:36.852Z"
   },
   {
    "duration": 247,
    "start_time": "2021-12-21T09:52:36.854Z"
   },
   {
    "duration": 248,
    "start_time": "2021-12-21T09:52:36.855Z"
   },
   {
    "duration": 3562,
    "start_time": "2021-12-21T09:53:02.340Z"
   },
   {
    "duration": 180,
    "start_time": "2021-12-21T09:54:28.219Z"
   },
   {
    "duration": 156,
    "start_time": "2021-12-21T09:54:34.180Z"
   },
   {
    "duration": 22,
    "start_time": "2021-12-21T09:54:34.337Z"
   },
   {
    "duration": 5,
    "start_time": "2021-12-21T09:54:34.361Z"
   },
   {
    "duration": 49,
    "start_time": "2021-12-21T09:54:34.368Z"
   },
   {
    "duration": 28,
    "start_time": "2021-12-21T09:54:34.419Z"
   },
   {
    "duration": 143,
    "start_time": "2021-12-21T09:54:34.448Z"
   },
   {
    "duration": 284,
    "start_time": "2021-12-21T09:54:34.310Z"
   },
   {
    "duration": 281,
    "start_time": "2021-12-21T09:54:34.314Z"
   },
   {
    "duration": 279,
    "start_time": "2021-12-21T09:54:34.318Z"
   },
   {
    "duration": 276,
    "start_time": "2021-12-21T09:54:34.322Z"
   },
   {
    "duration": 276,
    "start_time": "2021-12-21T09:54:34.324Z"
   },
   {
    "duration": 275,
    "start_time": "2021-12-21T09:54:34.326Z"
   },
   {
    "duration": 145,
    "start_time": "2021-12-21T09:54:50.104Z"
   },
   {
    "duration": 20,
    "start_time": "2021-12-21T09:54:50.251Z"
   },
   {
    "duration": 9,
    "start_time": "2021-12-21T09:54:50.273Z"
   },
   {
    "duration": 52,
    "start_time": "2021-12-21T09:54:50.284Z"
   },
   {
    "duration": 28,
    "start_time": "2021-12-21T09:54:50.337Z"
   },
   {
    "duration": 25,
    "start_time": "2021-12-21T09:54:50.367Z"
   },
   {
    "duration": 2,
    "start_time": "2021-12-21T09:54:50.394Z"
   },
   {
    "duration": 159,
    "start_time": "2021-12-21T09:54:50.397Z"
   },
   {
    "duration": 91,
    "start_time": "2021-12-21T09:54:50.558Z"
   },
   {
    "duration": 22,
    "start_time": "2021-12-21T09:54:50.651Z"
   },
   {
    "duration": 103,
    "start_time": "2021-12-21T09:54:50.674Z"
   },
   {
    "duration": 144,
    "start_time": "2021-12-21T09:54:50.778Z"
   },
   {
    "duration": 151,
    "start_time": "2021-12-21T09:55:31.555Z"
   },
   {
    "duration": 22,
    "start_time": "2021-12-21T09:55:31.708Z"
   },
   {
    "duration": 8,
    "start_time": "2021-12-21T09:55:31.732Z"
   },
   {
    "duration": 28,
    "start_time": "2021-12-21T09:55:31.743Z"
   },
   {
    "duration": 29,
    "start_time": "2021-12-21T09:55:31.791Z"
   },
   {
    "duration": 23,
    "start_time": "2021-12-21T09:55:31.822Z"
   },
   {
    "duration": 3739,
    "start_time": "2021-12-21T09:55:31.847Z"
   },
   {
    "duration": 230,
    "start_time": "2021-12-21T09:55:35.358Z"
   },
   {
    "duration": 229,
    "start_time": "2021-12-21T09:55:35.361Z"
   },
   {
    "duration": 228,
    "start_time": "2021-12-21T09:55:35.363Z"
   },
   {
    "duration": 227,
    "start_time": "2021-12-21T09:55:35.365Z"
   },
   {
    "duration": 226,
    "start_time": "2021-12-21T09:55:35.367Z"
   },
   {
    "duration": 3959,
    "start_time": "2021-12-21T09:56:17.949Z"
   },
   {
    "duration": 150,
    "start_time": "2021-12-21T09:57:39.690Z"
   },
   {
    "duration": 19,
    "start_time": "2021-12-21T09:57:39.843Z"
   },
   {
    "duration": 8,
    "start_time": "2021-12-21T09:57:39.864Z"
   },
   {
    "duration": 38,
    "start_time": "2021-12-21T09:57:39.874Z"
   },
   {
    "duration": 28,
    "start_time": "2021-12-21T09:57:39.913Z"
   },
   {
    "duration": 22,
    "start_time": "2021-12-21T09:57:39.942Z"
   },
   {
    "duration": 27,
    "start_time": "2021-12-21T09:57:39.966Z"
   },
   {
    "duration": 138,
    "start_time": "2021-12-21T09:57:39.995Z"
   },
   {
    "duration": 89,
    "start_time": "2021-12-21T09:57:40.136Z"
   },
   {
    "duration": 21,
    "start_time": "2021-12-21T09:57:40.227Z"
   },
   {
    "duration": 71,
    "start_time": "2021-12-21T09:57:40.250Z"
   },
   {
    "duration": 175,
    "start_time": "2021-12-21T09:57:40.323Z"
   },
   {
    "duration": 146,
    "start_time": "2021-12-21T09:58:33.654Z"
   },
   {
    "duration": 20,
    "start_time": "2021-12-21T09:58:33.802Z"
   },
   {
    "duration": 5,
    "start_time": "2021-12-21T09:58:33.824Z"
   },
   {
    "duration": 25,
    "start_time": "2021-12-21T09:58:33.831Z"
   },
   {
    "duration": 50,
    "start_time": "2021-12-21T09:58:33.858Z"
   },
   {
    "duration": 22,
    "start_time": "2021-12-21T09:58:33.910Z"
   },
   {
    "duration": 16,
    "start_time": "2021-12-21T09:58:33.934Z"
   },
   {
    "duration": 137,
    "start_time": "2021-12-21T09:58:33.951Z"
   },
   {
    "duration": 88,
    "start_time": "2021-12-21T09:58:34.092Z"
   },
   {
    "duration": 20,
    "start_time": "2021-12-21T09:58:34.182Z"
   },
   {
    "duration": 68,
    "start_time": "2021-12-21T09:58:34.204Z"
   },
   {
    "duration": 127,
    "start_time": "2021-12-21T09:58:34.274Z"
   },
   {
    "duration": 156,
    "start_time": "2021-12-21T10:15:34.642Z"
   },
   {
    "duration": 21,
    "start_time": "2021-12-21T10:15:34.800Z"
   },
   {
    "duration": 130,
    "start_time": "2021-12-21T10:15:34.823Z"
   },
   {
    "duration": 18,
    "start_time": "2021-12-21T10:15:34.955Z"
   },
   {
    "duration": 103,
    "start_time": "2021-12-21T10:15:34.975Z"
   },
   {
    "duration": 14,
    "start_time": "2021-12-21T10:15:35.080Z"
   },
   {
    "duration": 33,
    "start_time": "2021-12-21T10:15:35.096Z"
   },
   {
    "duration": 5,
    "start_time": "2021-12-21T10:15:35.131Z"
   },
   {
    "duration": 68,
    "start_time": "2021-12-21T10:15:35.139Z"
   },
   {
    "duration": 5,
    "start_time": "2021-12-21T10:15:35.209Z"
   },
   {
    "duration": 7,
    "start_time": "2021-12-21T10:15:35.216Z"
   },
   {
    "duration": 24,
    "start_time": "2021-12-21T10:15:35.225Z"
   },
   {
    "duration": 22,
    "start_time": "2021-12-21T10:15:35.251Z"
   },
   {
    "duration": 31,
    "start_time": "2021-12-21T10:15:35.274Z"
   },
   {
    "duration": 13,
    "start_time": "2021-12-21T10:15:35.306Z"
   },
   {
    "duration": 8,
    "start_time": "2021-12-21T10:15:35.320Z"
   },
   {
    "duration": 9,
    "start_time": "2021-12-21T10:16:45.869Z"
   },
   {
    "duration": 9,
    "start_time": "2021-12-21T10:16:50.285Z"
   },
   {
    "duration": 6,
    "start_time": "2021-12-21T10:17:14.985Z"
   },
   {
    "duration": 137,
    "start_time": "2021-12-21T10:17:59.409Z"
   },
   {
    "duration": 199,
    "start_time": "2021-12-21T10:18:46.250Z"
   },
   {
    "duration": 164,
    "start_time": "2021-12-21T10:18:53.721Z"
   },
   {
    "duration": 8,
    "start_time": "2021-12-21T10:19:14.369Z"
   },
   {
    "duration": 134,
    "start_time": "2021-12-21T10:19:23.049Z"
   },
   {
    "duration": 157,
    "start_time": "2021-12-21T10:19:36.418Z"
   },
   {
    "duration": 27,
    "start_time": "2021-12-21T10:19:36.577Z"
   },
   {
    "duration": 127,
    "start_time": "2021-12-21T10:19:36.606Z"
   },
   {
    "duration": 16,
    "start_time": "2021-12-21T10:19:36.735Z"
   },
   {
    "duration": 94,
    "start_time": "2021-12-21T10:19:36.753Z"
   },
   {
    "duration": 13,
    "start_time": "2021-12-21T10:19:36.849Z"
   },
   {
    "duration": 24,
    "start_time": "2021-12-21T10:19:36.864Z"
   },
   {
    "duration": 6,
    "start_time": "2021-12-21T10:19:36.891Z"
   },
   {
    "duration": 44,
    "start_time": "2021-12-21T10:19:36.899Z"
   },
   {
    "duration": 6,
    "start_time": "2021-12-21T10:19:36.945Z"
   },
   {
    "duration": 6,
    "start_time": "2021-12-21T10:19:36.952Z"
   },
   {
    "duration": 28,
    "start_time": "2021-12-21T10:19:36.959Z"
   },
   {
    "duration": 23,
    "start_time": "2021-12-21T10:19:36.988Z"
   },
   {
    "duration": 19,
    "start_time": "2021-12-21T10:19:37.013Z"
   },
   {
    "duration": 13,
    "start_time": "2021-12-21T10:19:37.034Z"
   },
   {
    "duration": 8,
    "start_time": "2021-12-21T10:19:37.049Z"
   },
   {
    "duration": 38,
    "start_time": "2021-12-21T10:19:37.058Z"
   },
   {
    "duration": 5,
    "start_time": "2021-12-21T10:22:56.849Z"
   },
   {
    "duration": 5,
    "start_time": "2021-12-21T10:23:26.713Z"
   },
   {
    "duration": 39,
    "start_time": "2021-12-21T10:23:55.106Z"
   },
   {
    "duration": 134,
    "start_time": "2021-12-21T10:24:11.145Z"
   },
   {
    "duration": 1047,
    "start_time": "2021-12-21T10:24:17.017Z"
   },
   {
    "duration": 46,
    "start_time": "2021-12-21T10:24:31.658Z"
   },
   {
    "duration": 5,
    "start_time": "2021-12-21T10:24:51.569Z"
   },
   {
    "duration": 59,
    "start_time": "2021-12-21T10:28:15.368Z"
   },
   {
    "duration": 53,
    "start_time": "2021-12-21T10:28:22.865Z"
   },
   {
    "duration": 50,
    "start_time": "2021-12-21T10:28:41.964Z"
   },
   {
    "duration": 140,
    "start_time": "2021-12-21T10:28:47.225Z"
   },
   {
    "duration": 148,
    "start_time": "2021-12-21T10:28:49.927Z"
   },
   {
    "duration": 28,
    "start_time": "2021-12-21T10:28:50.077Z"
   },
   {
    "duration": 126,
    "start_time": "2021-12-21T10:28:50.107Z"
   },
   {
    "duration": 17,
    "start_time": "2021-12-21T10:28:50.235Z"
   },
   {
    "duration": 89,
    "start_time": "2021-12-21T10:28:50.254Z"
   },
   {
    "duration": 14,
    "start_time": "2021-12-21T10:28:50.345Z"
   },
   {
    "duration": 20,
    "start_time": "2021-12-21T10:28:50.361Z"
   },
   {
    "duration": 13,
    "start_time": "2021-12-21T10:28:50.383Z"
   },
   {
    "duration": 44,
    "start_time": "2021-12-21T10:28:50.398Z"
   },
   {
    "duration": 6,
    "start_time": "2021-12-21T10:28:50.444Z"
   },
   {
    "duration": 6,
    "start_time": "2021-12-21T10:28:50.452Z"
   },
   {
    "duration": 28,
    "start_time": "2021-12-21T10:28:50.460Z"
   },
   {
    "duration": 23,
    "start_time": "2021-12-21T10:28:50.489Z"
   },
   {
    "duration": 20,
    "start_time": "2021-12-21T10:28:50.514Z"
   },
   {
    "duration": 13,
    "start_time": "2021-12-21T10:28:50.536Z"
   },
   {
    "duration": 11,
    "start_time": "2021-12-21T10:28:50.551Z"
   },
   {
    "duration": 31,
    "start_time": "2021-12-21T10:28:50.564Z"
   },
   {
    "duration": 60,
    "start_time": "2021-12-21T10:28:50.597Z"
   },
   {
    "duration": 50,
    "start_time": "2021-12-21T10:29:50.361Z"
   },
   {
    "duration": 152,
    "start_time": "2021-12-21T10:30:36.075Z"
   },
   {
    "duration": 943,
    "start_time": "2021-12-21T10:30:36.229Z"
   },
   {
    "duration": 175,
    "start_time": "2021-12-21T10:30:37.174Z"
   },
   {
    "duration": 27,
    "start_time": "2021-12-21T10:30:37.351Z"
   },
   {
    "duration": 94,
    "start_time": "2021-12-21T10:30:37.391Z"
   },
   {
    "duration": 16,
    "start_time": "2021-12-21T10:30:37.487Z"
   },
   {
    "duration": 25,
    "start_time": "2021-12-21T10:30:37.506Z"
   },
   {
    "duration": 7,
    "start_time": "2021-12-21T10:30:37.534Z"
   },
   {
    "duration": 57,
    "start_time": "2021-12-21T10:30:37.543Z"
   },
   {
    "duration": 9,
    "start_time": "2021-12-21T10:30:37.602Z"
   },
   {
    "duration": 8,
    "start_time": "2021-12-21T10:30:37.613Z"
   },
   {
    "duration": 33,
    "start_time": "2021-12-21T10:30:37.623Z"
   },
   {
    "duration": 47,
    "start_time": "2021-12-21T10:30:37.658Z"
   },
   {
    "duration": 22,
    "start_time": "2021-12-21T10:30:37.707Z"
   },
   {
    "duration": 15,
    "start_time": "2021-12-21T10:30:37.731Z"
   },
   {
    "duration": 6,
    "start_time": "2021-12-21T10:30:37.748Z"
   },
   {
    "duration": 34,
    "start_time": "2021-12-21T10:30:37.757Z"
   },
   {
    "duration": 58,
    "start_time": "2021-12-21T10:30:37.793Z"
   },
   {
    "duration": 65,
    "start_time": "2021-12-21T10:30:51.720Z"
   },
   {
    "duration": 162,
    "start_time": "2021-12-21T10:31:01.785Z"
   },
   {
    "duration": 20,
    "start_time": "2021-12-21T10:31:01.949Z"
   },
   {
    "duration": 136,
    "start_time": "2021-12-21T10:31:01.971Z"
   },
   {
    "duration": 16,
    "start_time": "2021-12-21T10:31:02.109Z"
   },
   {
    "duration": 119,
    "start_time": "2021-12-21T10:31:02.127Z"
   },
   {
    "duration": 16,
    "start_time": "2021-12-21T10:31:02.248Z"
   },
   {
    "duration": 39,
    "start_time": "2021-12-21T10:31:02.266Z"
   },
   {
    "duration": 9,
    "start_time": "2021-12-21T10:31:02.308Z"
   },
   {
    "duration": 49,
    "start_time": "2021-12-21T10:31:02.320Z"
   },
   {
    "duration": 6,
    "start_time": "2021-12-21T10:31:02.371Z"
   },
   {
    "duration": 8,
    "start_time": "2021-12-21T10:31:02.379Z"
   },
   {
    "duration": 27,
    "start_time": "2021-12-21T10:31:02.389Z"
   },
   {
    "duration": 22,
    "start_time": "2021-12-21T10:31:02.417Z"
   },
   {
    "duration": 17,
    "start_time": "2021-12-21T10:31:02.441Z"
   },
   {
    "duration": 13,
    "start_time": "2021-12-21T10:31:02.459Z"
   },
   {
    "duration": 7,
    "start_time": "2021-12-21T10:31:02.491Z"
   },
   {
    "duration": 9,
    "start_time": "2021-12-21T10:31:02.500Z"
   },
   {
    "duration": 82,
    "start_time": "2021-12-21T10:31:02.510Z"
   },
   {
    "duration": 153,
    "start_time": "2021-12-21T10:31:18.403Z"
   },
   {
    "duration": 21,
    "start_time": "2021-12-21T10:31:18.557Z"
   },
   {
    "duration": 126,
    "start_time": "2021-12-21T10:31:18.591Z"
   },
   {
    "duration": 17,
    "start_time": "2021-12-21T10:31:18.719Z"
   },
   {
    "duration": 103,
    "start_time": "2021-12-21T10:31:18.738Z"
   },
   {
    "duration": 13,
    "start_time": "2021-12-21T10:31:18.843Z"
   },
   {
    "duration": 46,
    "start_time": "2021-12-21T10:31:18.858Z"
   },
   {
    "duration": 14,
    "start_time": "2021-12-21T10:31:18.907Z"
   },
   {
    "duration": 61,
    "start_time": "2021-12-21T10:31:18.922Z"
   },
   {
    "duration": 32,
    "start_time": "2021-12-21T10:31:18.985Z"
   },
   {
    "duration": 11,
    "start_time": "2021-12-21T10:31:19.018Z"
   },
   {
    "duration": 43,
    "start_time": "2021-12-21T10:31:19.031Z"
   },
   {
    "duration": 23,
    "start_time": "2021-12-21T10:31:19.076Z"
   },
   {
    "duration": 16,
    "start_time": "2021-12-21T10:31:19.101Z"
   },
   {
    "duration": 24,
    "start_time": "2021-12-21T10:31:19.119Z"
   },
   {
    "duration": 26,
    "start_time": "2021-12-21T10:31:19.145Z"
   },
   {
    "duration": 17,
    "start_time": "2021-12-21T10:31:19.172Z"
   },
   {
    "duration": 94,
    "start_time": "2021-12-21T10:31:19.191Z"
   },
   {
    "duration": 64,
    "start_time": "2021-12-21T10:31:33.853Z"
   },
   {
    "duration": 150,
    "start_time": "2021-12-21T10:32:24.118Z"
   },
   {
    "duration": 26,
    "start_time": "2021-12-21T10:32:24.270Z"
   },
   {
    "duration": 126,
    "start_time": "2021-12-21T10:32:24.298Z"
   },
   {
    "duration": 17,
    "start_time": "2021-12-21T10:32:24.426Z"
   },
   {
    "duration": 93,
    "start_time": "2021-12-21T10:32:24.445Z"
   },
   {
    "duration": 15,
    "start_time": "2021-12-21T10:32:24.540Z"
   },
   {
    "duration": 22,
    "start_time": "2021-12-21T10:32:24.556Z"
   },
   {
    "duration": 15,
    "start_time": "2021-12-21T10:32:24.580Z"
   },
   {
    "duration": 35,
    "start_time": "2021-12-21T10:32:24.597Z"
   },
   {
    "duration": 6,
    "start_time": "2021-12-21T10:32:24.633Z"
   },
   {
    "duration": 6,
    "start_time": "2021-12-21T10:32:24.640Z"
   },
   {
    "duration": 30,
    "start_time": "2021-12-21T10:32:24.648Z"
   },
   {
    "duration": 26,
    "start_time": "2021-12-21T10:32:24.680Z"
   },
   {
    "duration": 19,
    "start_time": "2021-12-21T10:32:24.708Z"
   },
   {
    "duration": 12,
    "start_time": "2021-12-21T10:32:24.729Z"
   },
   {
    "duration": 11,
    "start_time": "2021-12-21T10:32:24.742Z"
   },
   {
    "duration": 10,
    "start_time": "2021-12-21T10:32:24.754Z"
   },
   {
    "duration": 26,
    "start_time": "2021-12-21T10:32:24.766Z"
   },
   {
    "duration": 78,
    "start_time": "2021-12-21T10:32:24.793Z"
   },
   {
    "duration": 151,
    "start_time": "2021-12-21T10:32:32.657Z"
   },
   {
    "duration": 18,
    "start_time": "2021-12-21T10:32:32.810Z"
   },
   {
    "duration": 129,
    "start_time": "2021-12-21T10:32:32.830Z"
   },
   {
    "duration": 16,
    "start_time": "2021-12-21T10:32:32.961Z"
   },
   {
    "duration": 96,
    "start_time": "2021-12-21T10:32:32.979Z"
   },
   {
    "duration": 14,
    "start_time": "2021-12-21T10:32:33.077Z"
   },
   {
    "duration": 33,
    "start_time": "2021-12-21T10:32:33.093Z"
   },
   {
    "duration": 22,
    "start_time": "2021-12-21T10:32:33.128Z"
   },
   {
    "duration": 55,
    "start_time": "2021-12-21T10:32:33.153Z"
   },
   {
    "duration": 6,
    "start_time": "2021-12-21T10:32:33.209Z"
   },
   {
    "duration": 6,
    "start_time": "2021-12-21T10:32:33.217Z"
   },
   {
    "duration": 26,
    "start_time": "2021-12-21T10:32:33.225Z"
   },
   {
    "duration": 39,
    "start_time": "2021-12-21T10:32:33.253Z"
   },
   {
    "duration": 17,
    "start_time": "2021-12-21T10:32:33.293Z"
   },
   {
    "duration": 13,
    "start_time": "2021-12-21T10:32:33.312Z"
   },
   {
    "duration": 12,
    "start_time": "2021-12-21T10:32:33.327Z"
   },
   {
    "duration": 15,
    "start_time": "2021-12-21T10:32:33.340Z"
   },
   {
    "duration": 16,
    "start_time": "2021-12-21T10:32:33.356Z"
   },
   {
    "duration": 89,
    "start_time": "2021-12-21T10:32:33.374Z"
   },
   {
    "duration": 147,
    "start_time": "2021-12-21T10:33:17.264Z"
   },
   {
    "duration": 19,
    "start_time": "2021-12-21T10:33:17.413Z"
   },
   {
    "duration": 131,
    "start_time": "2021-12-21T10:33:17.434Z"
   },
   {
    "duration": 24,
    "start_time": "2021-12-21T10:33:17.567Z"
   },
   {
    "duration": 91,
    "start_time": "2021-12-21T10:33:17.593Z"
   },
   {
    "duration": 14,
    "start_time": "2021-12-21T10:33:17.686Z"
   },
   {
    "duration": 20,
    "start_time": "2021-12-21T10:33:17.702Z"
   },
   {
    "duration": 9,
    "start_time": "2021-12-21T10:33:17.724Z"
   },
   {
    "duration": 43,
    "start_time": "2021-12-21T10:33:17.735Z"
   },
   {
    "duration": 6,
    "start_time": "2021-12-21T10:33:17.780Z"
   },
   {
    "duration": 6,
    "start_time": "2021-12-21T10:33:17.787Z"
   },
   {
    "duration": 26,
    "start_time": "2021-12-21T10:33:17.794Z"
   },
   {
    "duration": 21,
    "start_time": "2021-12-21T10:33:17.821Z"
   },
   {
    "duration": 18,
    "start_time": "2021-12-21T10:33:17.844Z"
   },
   {
    "duration": 27,
    "start_time": "2021-12-21T10:33:17.864Z"
   },
   {
    "duration": 37,
    "start_time": "2021-12-21T10:33:17.893Z"
   },
   {
    "duration": 4,
    "start_time": "2021-12-21T10:33:17.932Z"
   },
   {
    "duration": 94,
    "start_time": "2021-12-21T10:33:17.938Z"
   },
   {
    "duration": 67,
    "start_time": "2021-12-21T10:34:13.168Z"
   },
   {
    "duration": 52,
    "start_time": "2021-12-21T10:34:31.441Z"
   },
   {
    "duration": 146,
    "start_time": "2021-12-21T10:34:55.401Z"
   },
   {
    "duration": 21,
    "start_time": "2021-12-21T10:34:55.549Z"
   },
   {
    "duration": 123,
    "start_time": "2021-12-21T10:34:55.572Z"
   },
   {
    "duration": 18,
    "start_time": "2021-12-21T10:34:55.697Z"
   },
   {
    "duration": 91,
    "start_time": "2021-12-21T10:34:55.716Z"
   },
   {
    "duration": 15,
    "start_time": "2021-12-21T10:34:55.809Z"
   },
   {
    "duration": 21,
    "start_time": "2021-12-21T10:34:55.825Z"
   },
   {
    "duration": 6,
    "start_time": "2021-12-21T10:34:55.848Z"
   },
   {
    "duration": 43,
    "start_time": "2021-12-21T10:34:55.857Z"
   },
   {
    "duration": 6,
    "start_time": "2021-12-21T10:34:55.902Z"
   },
   {
    "duration": 5,
    "start_time": "2021-12-21T10:34:55.910Z"
   },
   {
    "duration": 25,
    "start_time": "2021-12-21T10:34:55.917Z"
   },
   {
    "duration": 21,
    "start_time": "2021-12-21T10:34:55.944Z"
   },
   {
    "duration": 37,
    "start_time": "2021-12-21T10:34:55.966Z"
   },
   {
    "duration": 13,
    "start_time": "2021-12-21T10:34:56.005Z"
   },
   {
    "duration": 39,
    "start_time": "2021-12-21T10:34:56.019Z"
   },
   {
    "duration": 4,
    "start_time": "2021-12-21T10:34:56.060Z"
   },
   {
    "duration": 83,
    "start_time": "2021-12-21T10:34:56.066Z"
   },
   {
    "duration": 152,
    "start_time": "2021-12-21T10:35:09.679Z"
   },
   {
    "duration": 21,
    "start_time": "2021-12-21T10:35:09.833Z"
   },
   {
    "duration": 136,
    "start_time": "2021-12-21T10:35:09.856Z"
   },
   {
    "duration": 18,
    "start_time": "2021-12-21T10:35:09.994Z"
   },
   {
    "duration": 96,
    "start_time": "2021-12-21T10:35:10.015Z"
   },
   {
    "duration": 17,
    "start_time": "2021-12-21T10:35:10.113Z"
   },
   {
    "duration": 23,
    "start_time": "2021-12-21T10:35:10.132Z"
   },
   {
    "duration": 6,
    "start_time": "2021-12-21T10:35:10.157Z"
   },
   {
    "duration": 47,
    "start_time": "2021-12-21T10:35:10.165Z"
   },
   {
    "duration": 6,
    "start_time": "2021-12-21T10:35:10.213Z"
   },
   {
    "duration": 5,
    "start_time": "2021-12-21T10:35:10.221Z"
   },
   {
    "duration": 25,
    "start_time": "2021-12-21T10:35:10.227Z"
   },
   {
    "duration": 23,
    "start_time": "2021-12-21T10:35:10.254Z"
   },
   {
    "duration": 29,
    "start_time": "2021-12-21T10:35:10.278Z"
   },
   {
    "duration": 13,
    "start_time": "2021-12-21T10:35:10.308Z"
   },
   {
    "duration": 40,
    "start_time": "2021-12-21T10:35:10.323Z"
   },
   {
    "duration": 27,
    "start_time": "2021-12-21T10:35:10.364Z"
   },
   {
    "duration": 58,
    "start_time": "2021-12-21T10:35:10.393Z"
   },
   {
    "duration": 50,
    "start_time": "2021-12-21T10:35:58.025Z"
   },
   {
    "duration": 50,
    "start_time": "2021-12-21T10:36:02.803Z"
   },
   {
    "duration": 147,
    "start_time": "2021-12-21T10:36:05.989Z"
   },
   {
    "duration": 20,
    "start_time": "2021-12-21T10:36:06.137Z"
   },
   {
    "duration": 136,
    "start_time": "2021-12-21T10:36:06.158Z"
   },
   {
    "duration": 17,
    "start_time": "2021-12-21T10:36:06.296Z"
   },
   {
    "duration": 92,
    "start_time": "2021-12-21T10:36:06.314Z"
   },
   {
    "duration": 14,
    "start_time": "2021-12-21T10:36:06.408Z"
   },
   {
    "duration": 22,
    "start_time": "2021-12-21T10:36:06.424Z"
   },
   {
    "duration": 10,
    "start_time": "2021-12-21T10:36:06.448Z"
   },
   {
    "duration": 63,
    "start_time": "2021-12-21T10:36:06.460Z"
   },
   {
    "duration": 6,
    "start_time": "2021-12-21T10:36:06.524Z"
   },
   {
    "duration": 22,
    "start_time": "2021-12-21T10:36:06.531Z"
   },
   {
    "duration": 29,
    "start_time": "2021-12-21T10:36:06.555Z"
   },
   {
    "duration": 21,
    "start_time": "2021-12-21T10:36:06.586Z"
   },
   {
    "duration": 17,
    "start_time": "2021-12-21T10:36:06.608Z"
   },
   {
    "duration": 13,
    "start_time": "2021-12-21T10:36:06.627Z"
   },
   {
    "duration": 56,
    "start_time": "2021-12-21T10:36:06.641Z"
   },
   {
    "duration": 6,
    "start_time": "2021-12-21T10:36:06.699Z"
   },
   {
    "duration": 63,
    "start_time": "2021-12-21T10:36:06.706Z"
   },
   {
    "duration": 61,
    "start_time": "2021-12-21T10:36:21.753Z"
   },
   {
    "duration": 57,
    "start_time": "2021-12-21T10:37:30.620Z"
   },
   {
    "duration": 153,
    "start_time": "2021-12-21T10:37:50.943Z"
   },
   {
    "duration": 21,
    "start_time": "2021-12-21T10:37:51.098Z"
   },
   {
    "duration": 139,
    "start_time": "2021-12-21T10:37:51.121Z"
   },
   {
    "duration": 17,
    "start_time": "2021-12-21T10:37:51.262Z"
   },
   {
    "duration": 92,
    "start_time": "2021-12-21T10:37:51.291Z"
   },
   {
    "duration": 15,
    "start_time": "2021-12-21T10:37:51.385Z"
   },
   {
    "duration": 22,
    "start_time": "2021-12-21T10:37:51.401Z"
   },
   {
    "duration": 6,
    "start_time": "2021-12-21T10:37:51.425Z"
   },
   {
    "duration": 65,
    "start_time": "2021-12-21T10:37:51.433Z"
   },
   {
    "duration": 6,
    "start_time": "2021-12-21T10:37:51.499Z"
   },
   {
    "duration": 8,
    "start_time": "2021-12-21T10:37:51.506Z"
   },
   {
    "duration": 28,
    "start_time": "2021-12-21T10:37:51.515Z"
   },
   {
    "duration": 21,
    "start_time": "2021-12-21T10:37:51.545Z"
   },
   {
    "duration": 38,
    "start_time": "2021-12-21T10:37:51.568Z"
   },
   {
    "duration": 13,
    "start_time": "2021-12-21T10:37:51.608Z"
   },
   {
    "duration": 15,
    "start_time": "2021-12-21T10:37:51.623Z"
   },
   {
    "duration": 5,
    "start_time": "2021-12-21T10:37:51.639Z"
   },
   {
    "duration": 96,
    "start_time": "2021-12-21T10:37:51.646Z"
   },
   {
    "duration": 147,
    "start_time": "2021-12-21T10:38:11.216Z"
   },
   {
    "duration": 29,
    "start_time": "2021-12-21T10:38:11.364Z"
   },
   {
    "duration": 129,
    "start_time": "2021-12-21T10:38:11.395Z"
   },
   {
    "duration": 16,
    "start_time": "2021-12-21T10:38:11.526Z"
   },
   {
    "duration": 88,
    "start_time": "2021-12-21T10:38:11.543Z"
   },
   {
    "duration": 13,
    "start_time": "2021-12-21T10:38:11.633Z"
   },
   {
    "duration": 21,
    "start_time": "2021-12-21T10:38:11.648Z"
   },
   {
    "duration": 10,
    "start_time": "2021-12-21T10:38:11.670Z"
   },
   {
    "duration": 52,
    "start_time": "2021-12-21T10:38:11.692Z"
   },
   {
    "duration": 6,
    "start_time": "2021-12-21T10:38:11.746Z"
   },
   {
    "duration": 6,
    "start_time": "2021-12-21T10:38:11.753Z"
   },
   {
    "duration": 24,
    "start_time": "2021-12-21T10:38:11.761Z"
   },
   {
    "duration": 21,
    "start_time": "2021-12-21T10:38:11.787Z"
   },
   {
    "duration": 16,
    "start_time": "2021-12-21T10:38:11.810Z"
   },
   {
    "duration": 14,
    "start_time": "2021-12-21T10:38:11.828Z"
   },
   {
    "duration": 14,
    "start_time": "2021-12-21T10:38:11.844Z"
   },
   {
    "duration": 4,
    "start_time": "2021-12-21T10:38:11.860Z"
   },
   {
    "duration": 73,
    "start_time": "2021-12-21T10:38:11.892Z"
   },
   {
    "duration": 146,
    "start_time": "2021-12-21T10:38:53.133Z"
   },
   {
    "duration": 23,
    "start_time": "2021-12-21T10:38:53.281Z"
   },
   {
    "duration": 126,
    "start_time": "2021-12-21T10:38:53.306Z"
   },
   {
    "duration": 16,
    "start_time": "2021-12-21T10:38:53.434Z"
   },
   {
    "duration": 89,
    "start_time": "2021-12-21T10:38:53.451Z"
   },
   {
    "duration": 14,
    "start_time": "2021-12-21T10:38:53.541Z"
   },
   {
    "duration": 25,
    "start_time": "2021-12-21T10:38:53.556Z"
   },
   {
    "duration": 9,
    "start_time": "2021-12-21T10:38:53.583Z"
   },
   {
    "duration": 41,
    "start_time": "2021-12-21T10:38:53.595Z"
   },
   {
    "duration": 6,
    "start_time": "2021-12-21T10:38:53.638Z"
   },
   {
    "duration": 6,
    "start_time": "2021-12-21T10:38:53.645Z"
   },
   {
    "duration": 28,
    "start_time": "2021-12-21T10:38:53.653Z"
   },
   {
    "duration": 23,
    "start_time": "2021-12-21T10:38:53.683Z"
   },
   {
    "duration": 18,
    "start_time": "2021-12-21T10:38:53.707Z"
   },
   {
    "duration": 13,
    "start_time": "2021-12-21T10:38:53.726Z"
   },
   {
    "duration": 6,
    "start_time": "2021-12-21T10:38:53.740Z"
   },
   {
    "duration": 6,
    "start_time": "2021-12-21T10:38:53.748Z"
   },
   {
    "duration": 77,
    "start_time": "2021-12-21T10:38:53.756Z"
   },
   {
    "duration": 20,
    "start_time": "2021-12-21T12:41:05.322Z"
   },
   {
    "duration": 39,
    "start_time": "2021-12-21T12:43:34.361Z"
   },
   {
    "duration": 7,
    "start_time": "2021-12-21T12:47:25.993Z"
   },
   {
    "duration": 11218,
    "start_time": "2021-12-21T12:49:58.737Z"
   },
   {
    "duration": 538,
    "start_time": "2021-12-21T12:50:19.369Z"
   },
   {
    "duration": 146,
    "start_time": "2021-12-21T13:00:44.053Z"
   },
   {
    "duration": 20,
    "start_time": "2021-12-21T13:00:44.200Z"
   },
   {
    "duration": 1795,
    "start_time": "2021-12-21T13:00:44.221Z"
   },
   {
    "duration": 317,
    "start_time": "2021-12-21T13:00:46.018Z"
   },
   {
    "duration": 92,
    "start_time": "2021-12-21T13:00:46.337Z"
   },
   {
    "duration": 20,
    "start_time": "2021-12-21T13:00:46.431Z"
   },
   {
    "duration": 45,
    "start_time": "2021-12-21T13:00:46.452Z"
   },
   {
    "duration": 31,
    "start_time": "2021-12-21T13:00:46.500Z"
   },
   {
    "duration": 105,
    "start_time": "2021-12-21T13:00:46.533Z"
   },
   {
    "duration": 7,
    "start_time": "2021-12-21T13:00:46.639Z"
   },
   {
    "duration": 9,
    "start_time": "2021-12-21T13:00:46.648Z"
   },
   {
    "duration": 17769,
    "start_time": "2021-12-21T13:00:46.658Z"
   },
   {
    "duration": 23,
    "start_time": "2021-12-21T13:01:04.429Z"
   },
   {
    "duration": 19,
    "start_time": "2021-12-21T13:01:04.453Z"
   },
   {
    "duration": 25,
    "start_time": "2021-12-21T13:01:04.473Z"
   },
   {
    "duration": 5,
    "start_time": "2021-12-21T13:01:04.500Z"
   },
   {
    "duration": 9,
    "start_time": "2021-12-21T13:01:04.507Z"
   },
   {
    "duration": 79,
    "start_time": "2021-12-21T13:01:04.518Z"
   },
   {
    "duration": 13199,
    "start_time": "2021-12-21T13:01:04.598Z"
   },
   {
    "duration": 10840,
    "start_time": "2021-12-21T13:01:17.798Z"
   },
   {
    "duration": 600,
    "start_time": "2021-12-21T13:01:38.135Z"
   },
   {
    "duration": 571,
    "start_time": "2021-12-21T13:03:51.411Z"
   },
   {
    "duration": 240,
    "start_time": "2021-12-21T13:04:09.435Z"
   },
   {
    "duration": 51,
    "start_time": "2021-12-21T13:04:22.268Z"
   },
   {
    "duration": 152,
    "start_time": "2021-12-21T13:04:28.560Z"
   },
   {
    "duration": 20,
    "start_time": "2021-12-21T13:04:28.713Z"
   },
   {
    "duration": 136,
    "start_time": "2021-12-21T13:04:28.735Z"
   },
   {
    "duration": 24,
    "start_time": "2021-12-21T13:04:28.873Z"
   },
   {
    "duration": 85,
    "start_time": "2021-12-21T13:04:28.898Z"
   },
   {
    "duration": 14,
    "start_time": "2021-12-21T13:04:28.985Z"
   },
   {
    "duration": 22,
    "start_time": "2021-12-21T13:04:29.001Z"
   },
   {
    "duration": 6,
    "start_time": "2021-12-21T13:04:29.025Z"
   },
   {
    "duration": 75,
    "start_time": "2021-12-21T13:04:29.032Z"
   },
   {
    "duration": 5,
    "start_time": "2021-12-21T13:04:29.109Z"
   },
   {
    "duration": 6,
    "start_time": "2021-12-21T13:04:29.116Z"
   },
   {
    "duration": 18137,
    "start_time": "2021-12-21T13:04:29.124Z"
   },
   {
    "duration": 31,
    "start_time": "2021-12-21T13:04:47.263Z"
   },
   {
    "duration": 17,
    "start_time": "2021-12-21T13:04:47.296Z"
   },
   {
    "duration": 15,
    "start_time": "2021-12-21T13:04:47.314Z"
   },
   {
    "duration": 6,
    "start_time": "2021-12-21T13:04:47.330Z"
   },
   {
    "duration": 7,
    "start_time": "2021-12-21T13:04:47.338Z"
   },
   {
    "duration": 87,
    "start_time": "2021-12-21T13:04:47.346Z"
   },
   {
    "duration": 13092,
    "start_time": "2021-12-21T13:04:47.434Z"
   },
   {
    "duration": 10798,
    "start_time": "2021-12-21T13:05:00.528Z"
   },
   {
    "duration": 10,
    "start_time": "2021-12-21T13:07:12.701Z"
   },
   {
    "duration": 51,
    "start_time": "2021-12-21T13:08:59.211Z"
   },
   {
    "duration": 143,
    "start_time": "2021-12-21T13:10:37.322Z"
   },
   {
    "duration": 17,
    "start_time": "2021-12-21T13:10:46.504Z"
   },
   {
    "duration": 43,
    "start_time": "2021-12-21T13:25:45.467Z"
   },
   {
    "duration": 165,
    "start_time": "2021-12-21T13:26:57.472Z"
   },
   {
    "duration": 21,
    "start_time": "2021-12-21T13:26:57.639Z"
   },
   {
    "duration": 147,
    "start_time": "2021-12-21T13:26:57.662Z"
   },
   {
    "duration": 17,
    "start_time": "2021-12-21T13:26:57.811Z"
   },
   {
    "duration": 93,
    "start_time": "2021-12-21T13:26:57.829Z"
   },
   {
    "duration": 14,
    "start_time": "2021-12-21T13:26:57.924Z"
   },
   {
    "duration": 42,
    "start_time": "2021-12-21T13:26:57.940Z"
   },
   {
    "duration": 7,
    "start_time": "2021-12-21T13:26:57.985Z"
   },
   {
    "duration": 71,
    "start_time": "2021-12-21T13:26:57.993Z"
   },
   {
    "duration": 8,
    "start_time": "2021-12-21T13:26:58.066Z"
   },
   {
    "duration": 27,
    "start_time": "2021-12-21T13:26:58.075Z"
   },
   {
    "duration": 17742,
    "start_time": "2021-12-21T13:26:58.104Z"
   },
   {
    "duration": 22,
    "start_time": "2021-12-21T13:27:15.847Z"
   },
   {
    "duration": 30,
    "start_time": "2021-12-21T13:27:15.871Z"
   },
   {
    "duration": 4,
    "start_time": "2021-12-21T13:27:15.902Z"
   },
   {
    "duration": 139,
    "start_time": "2021-12-21T13:27:15.908Z"
   },
   {
    "duration": 310,
    "start_time": "2021-12-21T13:27:15.738Z"
   },
   {
    "duration": 308,
    "start_time": "2021-12-21T13:27:15.741Z"
   },
   {
    "duration": 306,
    "start_time": "2021-12-21T13:27:15.744Z"
   },
   {
    "duration": 304,
    "start_time": "2021-12-21T13:27:15.747Z"
   },
   {
    "duration": 303,
    "start_time": "2021-12-21T13:27:15.749Z"
   },
   {
    "duration": 301,
    "start_time": "2021-12-21T13:27:15.752Z"
   },
   {
    "duration": 299,
    "start_time": "2021-12-21T13:27:15.755Z"
   },
   {
    "duration": 298,
    "start_time": "2021-12-21T13:27:15.757Z"
   },
   {
    "duration": 146,
    "start_time": "2021-12-21T13:28:33.547Z"
   },
   {
    "duration": 19,
    "start_time": "2021-12-21T13:28:33.695Z"
   },
   {
    "duration": 137,
    "start_time": "2021-12-21T13:28:33.716Z"
   },
   {
    "duration": 19,
    "start_time": "2021-12-21T13:28:33.855Z"
   },
   {
    "duration": 95,
    "start_time": "2021-12-21T13:28:33.876Z"
   },
   {
    "duration": 28,
    "start_time": "2021-12-21T13:28:33.973Z"
   },
   {
    "duration": 22,
    "start_time": "2021-12-21T13:28:34.003Z"
   },
   {
    "duration": 7,
    "start_time": "2021-12-21T13:28:34.028Z"
   },
   {
    "duration": 38,
    "start_time": "2021-12-21T13:28:34.037Z"
   },
   {
    "duration": 7,
    "start_time": "2021-12-21T13:28:34.077Z"
   },
   {
    "duration": 10,
    "start_time": "2021-12-21T13:28:34.091Z"
   },
   {
    "duration": 18032,
    "start_time": "2021-12-21T13:28:34.103Z"
   },
   {
    "duration": 25,
    "start_time": "2021-12-21T13:28:52.137Z"
   },
   {
    "duration": 36,
    "start_time": "2021-12-21T13:28:52.164Z"
   },
   {
    "duration": 4,
    "start_time": "2021-12-21T13:28:52.201Z"
   },
   {
    "duration": 17,
    "start_time": "2021-12-21T13:28:52.206Z"
   },
   {
    "duration": 3,
    "start_time": "2021-12-21T13:28:52.225Z"
   },
   {
    "duration": 8,
    "start_time": "2021-12-21T13:28:52.230Z"
   },
   {
    "duration": 5,
    "start_time": "2021-12-21T13:28:52.240Z"
   },
   {
    "duration": 94,
    "start_time": "2021-12-21T13:28:52.247Z"
   },
   {
    "duration": 13194,
    "start_time": "2021-12-21T13:28:52.343Z"
   },
   {
    "duration": 10791,
    "start_time": "2021-12-21T13:29:05.539Z"
   },
   {
    "duration": 8,
    "start_time": "2021-12-21T13:29:16.333Z"
   },
   {
    "duration": 63,
    "start_time": "2021-12-21T13:29:16.343Z"
   },
   {
    "duration": 20,
    "start_time": "2021-12-21T13:29:16.407Z"
   },
   {
    "duration": 19,
    "start_time": "2021-12-21T13:34:47.074Z"
   },
   {
    "duration": 26,
    "start_time": "2021-12-21T13:36:16.714Z"
   },
   {
    "duration": 30,
    "start_time": "2021-12-21T13:36:22.152Z"
   },
   {
    "duration": 149,
    "start_time": "2021-12-21T13:37:16.474Z"
   },
   {
    "duration": 153,
    "start_time": "2021-12-21T13:37:24.761Z"
   },
   {
    "duration": 42,
    "start_time": "2021-12-21T13:37:42.786Z"
   },
   {
    "duration": 147,
    "start_time": "2021-12-21T13:39:25.164Z"
   },
   {
    "duration": 158,
    "start_time": "2021-12-21T13:39:33.377Z"
   },
   {
    "duration": 218,
    "start_time": "2021-12-21T13:39:46.020Z"
   },
   {
    "duration": 22,
    "start_time": "2021-12-21T13:39:46.240Z"
   },
   {
    "duration": 440,
    "start_time": "2021-12-21T13:39:46.265Z"
   },
   {
    "duration": 16,
    "start_time": "2021-12-21T13:39:46.707Z"
   },
   {
    "duration": 278,
    "start_time": "2021-12-21T13:39:46.725Z"
   },
   {
    "duration": 16,
    "start_time": "2021-12-21T13:39:47.005Z"
   },
   {
    "duration": 50,
    "start_time": "2021-12-21T13:39:47.023Z"
   },
   {
    "duration": 5,
    "start_time": "2021-12-21T13:39:47.076Z"
   },
   {
    "duration": 56,
    "start_time": "2021-12-21T13:39:47.083Z"
   },
   {
    "duration": 5,
    "start_time": "2021-12-21T13:39:47.141Z"
   },
   {
    "duration": 8,
    "start_time": "2021-12-21T13:39:47.148Z"
   },
   {
    "duration": 18438,
    "start_time": "2021-12-21T13:39:47.158Z"
   },
   {
    "duration": 23,
    "start_time": "2021-12-21T13:40:05.598Z"
   },
   {
    "duration": 20,
    "start_time": "2021-12-21T13:40:05.623Z"
   },
   {
    "duration": 3,
    "start_time": "2021-12-21T13:40:05.645Z"
   },
   {
    "duration": 41,
    "start_time": "2021-12-21T13:40:05.650Z"
   },
   {
    "duration": 4,
    "start_time": "2021-12-21T13:40:05.693Z"
   },
   {
    "duration": 11,
    "start_time": "2021-12-21T13:40:05.699Z"
   },
   {
    "duration": 5,
    "start_time": "2021-12-21T13:40:05.712Z"
   },
   {
    "duration": 79,
    "start_time": "2021-12-21T13:40:05.719Z"
   },
   {
    "duration": 13394,
    "start_time": "2021-12-21T13:40:05.800Z"
   },
   {
    "duration": 10870,
    "start_time": "2021-12-21T13:40:19.196Z"
   },
   {
    "duration": 22,
    "start_time": "2021-12-21T13:40:30.069Z"
   },
   {
    "duration": 50,
    "start_time": "2021-12-21T13:40:30.093Z"
   },
   {
    "duration": 4,
    "start_time": "2021-12-21T13:40:30.144Z"
   },
   {
    "duration": 51,
    "start_time": "2021-12-21T13:40:30.149Z"
   },
   {
    "duration": 45,
    "start_time": "2021-12-21T13:40:30.201Z"
   },
   {
    "duration": 21,
    "start_time": "2021-12-21T13:48:46.595Z"
   },
   {
    "duration": 21,
    "start_time": "2021-12-21T13:49:31.934Z"
   },
   {
    "duration": 5,
    "start_time": "2021-12-21T13:58:30.489Z"
   },
   {
    "duration": 37,
    "start_time": "2021-12-21T13:58:32.777Z"
   },
   {
    "duration": 25,
    "start_time": "2021-12-21T14:00:00.234Z"
   },
   {
    "duration": 240,
    "start_time": "2021-12-21T14:18:43.043Z"
   },
   {
    "duration": 3070,
    "start_time": "2021-12-21T14:19:40.027Z"
   },
   {
    "duration": 3860,
    "start_time": "2021-12-21T14:20:38.230Z"
   },
   {
    "duration": 132,
    "start_time": "2021-12-21T14:21:23.211Z"
   },
   {
    "duration": 131,
    "start_time": "2021-12-21T14:21:29.626Z"
   },
   {
    "duration": 152,
    "start_time": "2021-12-21T14:23:22.211Z"
   },
   {
    "duration": 3412,
    "start_time": "2021-12-21T14:23:30.194Z"
   },
   {
    "duration": 3580,
    "start_time": "2021-12-21T14:23:42.603Z"
   },
   {
    "duration": 1515,
    "start_time": "2021-12-21T14:24:17.371Z"
   },
   {
    "duration": 132,
    "start_time": "2021-12-21T14:25:13.720Z"
   },
   {
    "duration": 122,
    "start_time": "2021-12-21T14:25:34.707Z"
   },
   {
    "duration": 3579,
    "start_time": "2021-12-21T14:26:30.762Z"
   },
   {
    "duration": 158,
    "start_time": "2021-12-21T14:26:43.589Z"
   },
   {
    "duration": 132,
    "start_time": "2021-12-21T14:26:59.850Z"
   },
   {
    "duration": 125,
    "start_time": "2021-12-21T14:27:07.836Z"
   },
   {
    "duration": 136,
    "start_time": "2021-12-21T14:28:19.795Z"
   },
   {
    "duration": 1508,
    "start_time": "2021-12-21T14:28:27.723Z"
   },
   {
    "duration": 174,
    "start_time": "2021-12-21T14:29:05.239Z"
   },
   {
    "duration": 46,
    "start_time": "2021-12-21T14:29:32.702Z"
   },
   {
    "duration": 131,
    "start_time": "2021-12-21T14:29:42.099Z"
   },
   {
    "duration": 468,
    "start_time": "2021-12-21T14:29:59.429Z"
   },
   {
    "duration": 140,
    "start_time": "2021-12-21T14:30:32.291Z"
   },
   {
    "duration": 223,
    "start_time": "2021-12-21T14:30:43.330Z"
   },
   {
    "duration": 47,
    "start_time": "2021-12-21T14:34:30.494Z"
   },
   {
    "duration": 357,
    "start_time": "2021-12-21T14:34:36.514Z"
   },
   {
    "duration": 83,
    "start_time": "2021-12-21T14:36:35.546Z"
   },
   {
    "duration": 87,
    "start_time": "2021-12-21T14:37:29.593Z"
   },
   {
    "duration": 92,
    "start_time": "2021-12-21T14:37:45.330Z"
   },
   {
    "duration": 89,
    "start_time": "2021-12-21T14:38:30.342Z"
   },
   {
    "duration": 207,
    "start_time": "2021-12-21T14:41:38.121Z"
   },
   {
    "duration": 211,
    "start_time": "2021-12-21T14:43:28.519Z"
   },
   {
    "duration": 1000,
    "start_time": "2021-12-22T06:36:34.672Z"
   },
   {
    "duration": 27,
    "start_time": "2021-12-22T06:36:35.675Z"
   },
   {
    "duration": 203,
    "start_time": "2021-12-22T06:36:35.705Z"
   },
   {
    "duration": 23,
    "start_time": "2021-12-22T06:36:35.910Z"
   },
   {
    "duration": 142,
    "start_time": "2021-12-22T06:36:35.936Z"
   },
   {
    "duration": 20,
    "start_time": "2021-12-22T06:36:36.080Z"
   },
   {
    "duration": 27,
    "start_time": "2021-12-22T06:36:36.103Z"
   },
   {
    "duration": 34,
    "start_time": "2021-12-22T06:36:36.133Z"
   },
   {
    "duration": 74,
    "start_time": "2021-12-22T06:36:36.171Z"
   },
   {
    "duration": 15,
    "start_time": "2021-12-22T06:36:36.248Z"
   },
   {
    "duration": 14,
    "start_time": "2021-12-22T06:36:36.266Z"
   },
   {
    "duration": 47560,
    "start_time": "2021-12-22T06:36:36.282Z"
   },
   {
    "duration": 53,
    "start_time": "2021-12-22T06:37:23.845Z"
   },
   {
    "duration": 48,
    "start_time": "2021-12-22T06:37:23.900Z"
   },
   {
    "duration": 20,
    "start_time": "2021-12-22T06:37:23.950Z"
   },
   {
    "duration": 39,
    "start_time": "2021-12-22T06:37:23.973Z"
   },
   {
    "duration": 7,
    "start_time": "2021-12-22T06:37:24.014Z"
   },
   {
    "duration": 14,
    "start_time": "2021-12-22T06:37:24.023Z"
   },
   {
    "duration": 8,
    "start_time": "2021-12-22T06:37:24.067Z"
   },
   {
    "duration": 118,
    "start_time": "2021-12-22T06:37:24.077Z"
   },
   {
    "duration": 27258,
    "start_time": "2021-12-22T06:37:24.198Z"
   },
   {
    "duration": 30189,
    "start_time": "2021-12-22T06:37:51.459Z"
   },
   {
    "duration": 24,
    "start_time": "2021-12-22T06:38:21.653Z"
   },
   {
    "duration": 160,
    "start_time": "2021-12-22T06:38:21.679Z"
   },
   {
    "duration": 6,
    "start_time": "2021-12-22T06:38:21.842Z"
   },
   {
    "duration": 19,
    "start_time": "2021-12-22T06:38:21.850Z"
   },
   {
    "duration": 61,
    "start_time": "2021-12-22T06:38:21.871Z"
   },
   {
    "duration": 393,
    "start_time": "2021-12-22T06:38:21.934Z"
   },
   {
    "duration": 35,
    "start_time": "2021-12-22T06:42:19.970Z"
   },
   {
    "duration": 35,
    "start_time": "2021-12-22T06:42:39.285Z"
   },
   {
    "duration": 15,
    "start_time": "2021-12-22T06:42:48.538Z"
   },
   {
    "duration": 341,
    "start_time": "2021-12-22T06:43:10.826Z"
   },
   {
    "duration": 543,
    "start_time": "2021-12-22T06:43:26.673Z"
   },
   {
    "duration": 47,
    "start_time": "2021-12-22T06:43:34.279Z"
   },
   {
    "duration": 6,
    "start_time": "2021-12-22T06:45:44.915Z"
   },
   {
    "duration": 5,
    "start_time": "2021-12-22T06:48:32.492Z"
   },
   {
    "duration": 6,
    "start_time": "2021-12-22T06:48:48.605Z"
   },
   {
    "duration": 33,
    "start_time": "2021-12-22T06:50:10.487Z"
   },
   {
    "duration": 34,
    "start_time": "2021-12-22T06:50:58.638Z"
   },
   {
    "duration": 62,
    "start_time": "2021-12-22T06:51:54.715Z"
   },
   {
    "duration": 7,
    "start_time": "2021-12-22T06:52:29.747Z"
   },
   {
    "duration": 12,
    "start_time": "2021-12-22T06:53:24.162Z"
   },
   {
    "duration": 213,
    "start_time": "2021-12-22T06:55:14.823Z"
   },
   {
    "duration": 35,
    "start_time": "2021-12-22T06:55:15.039Z"
   },
   {
    "duration": 211,
    "start_time": "2021-12-22T06:55:15.077Z"
   },
   {
    "duration": 24,
    "start_time": "2021-12-22T06:55:15.291Z"
   },
   {
    "duration": 139,
    "start_time": "2021-12-22T06:55:15.317Z"
   },
   {
    "duration": 20,
    "start_time": "2021-12-22T06:55:15.459Z"
   },
   {
    "duration": 25,
    "start_time": "2021-12-22T06:55:15.482Z"
   },
   {
    "duration": 12,
    "start_time": "2021-12-22T06:55:15.512Z"
   },
   {
    "duration": 76,
    "start_time": "2021-12-22T06:55:15.527Z"
   },
   {
    "duration": 10,
    "start_time": "2021-12-22T06:55:15.605Z"
   },
   {
    "duration": 8,
    "start_time": "2021-12-22T06:55:15.617Z"
   },
   {
    "duration": 38620,
    "start_time": "2021-12-22T06:55:15.628Z"
   },
   {
    "duration": 40,
    "start_time": "2021-12-22T06:55:54.251Z"
   },
   {
    "duration": 26,
    "start_time": "2021-12-22T06:55:54.293Z"
   },
   {
    "duration": 5,
    "start_time": "2021-12-22T06:55:54.322Z"
   },
   {
    "duration": 46,
    "start_time": "2021-12-22T06:55:54.329Z"
   },
   {
    "duration": 5,
    "start_time": "2021-12-22T06:55:54.378Z"
   },
   {
    "duration": 15,
    "start_time": "2021-12-22T06:55:54.385Z"
   },
   {
    "duration": 6,
    "start_time": "2021-12-22T06:55:54.403Z"
   },
   {
    "duration": 118,
    "start_time": "2021-12-22T06:55:54.411Z"
   },
   {
    "duration": 34350,
    "start_time": "2021-12-22T06:55:54.531Z"
   },
   {
    "duration": 33944,
    "start_time": "2021-12-22T06:56:28.884Z"
   },
   {
    "duration": 19,
    "start_time": "2021-12-22T06:57:02.834Z"
   },
   {
    "duration": 125,
    "start_time": "2021-12-22T06:57:02.868Z"
   },
   {
    "duration": 5,
    "start_time": "2021-12-22T06:57:02.996Z"
   },
   {
    "duration": 11,
    "start_time": "2021-12-22T06:57:03.003Z"
   },
   {
    "duration": 77,
    "start_time": "2021-12-22T06:57:03.016Z"
   },
   {
    "duration": 379,
    "start_time": "2021-12-22T06:57:03.096Z"
   },
   {
    "duration": 36,
    "start_time": "2021-12-22T06:57:03.478Z"
   },
   {
    "duration": 4,
    "start_time": "2021-12-22T06:57:03.517Z"
   },
   {
    "duration": 45,
    "start_time": "2021-12-22T06:57:03.524Z"
   },
   {
    "duration": 14,
    "start_time": "2021-12-22T06:57:03.572Z"
   },
   {
    "duration": 10,
    "start_time": "2021-12-22T07:00:50.806Z"
   },
   {
    "duration": 12,
    "start_time": "2021-12-22T07:02:18.675Z"
   },
   {
    "duration": 13,
    "start_time": "2021-12-22T07:02:37.939Z"
   },
   {
    "duration": 17,
    "start_time": "2021-12-22T07:03:59.123Z"
   },
   {
    "duration": 422,
    "start_time": "2021-12-22T07:05:00.884Z"
   },
   {
    "duration": 357,
    "start_time": "2021-12-22T07:07:24.069Z"
   },
   {
    "duration": 338,
    "start_time": "2021-12-22T07:08:27.295Z"
   },
   {
    "duration": 352,
    "start_time": "2021-12-22T07:08:41.292Z"
   },
   {
    "duration": 360,
    "start_time": "2021-12-22T07:16:03.228Z"
   },
   {
    "duration": 340,
    "start_time": "2021-12-22T07:16:12.613Z"
   },
   {
    "duration": 8266,
    "start_time": "2021-12-22T07:17:15.973Z"
   },
   {
    "duration": 355,
    "start_time": "2021-12-22T07:17:28.508Z"
   },
   {
    "duration": 344,
    "start_time": "2021-12-22T07:17:58.588Z"
   },
   {
    "duration": 370,
    "start_time": "2021-12-22T07:18:08.020Z"
   },
   {
    "duration": 34,
    "start_time": "2021-12-22T07:24:33.092Z"
   },
   {
    "duration": 219,
    "start_time": "2021-12-22T07:27:38.001Z"
   },
   {
    "duration": 27,
    "start_time": "2021-12-22T07:27:38.223Z"
   },
   {
    "duration": 200,
    "start_time": "2021-12-22T07:27:38.268Z"
   },
   {
    "duration": 36,
    "start_time": "2021-12-22T07:27:38.472Z"
   },
   {
    "duration": 143,
    "start_time": "2021-12-22T07:27:38.510Z"
   },
   {
    "duration": 22,
    "start_time": "2021-12-22T07:27:38.656Z"
   },
   {
    "duration": 29,
    "start_time": "2021-12-22T07:27:38.681Z"
   },
   {
    "duration": 9,
    "start_time": "2021-12-22T07:27:38.716Z"
   },
   {
    "duration": 55,
    "start_time": "2021-12-22T07:27:38.729Z"
   },
   {
    "duration": 8,
    "start_time": "2021-12-22T07:27:38.787Z"
   },
   {
    "duration": 10,
    "start_time": "2021-12-22T07:27:38.798Z"
   },
   {
    "duration": 37085,
    "start_time": "2021-12-22T07:27:38.810Z"
   },
   {
    "duration": 36,
    "start_time": "2021-12-22T07:28:15.898Z"
   },
   {
    "duration": 56,
    "start_time": "2021-12-22T07:28:15.936Z"
   },
   {
    "duration": 10,
    "start_time": "2021-12-22T07:28:15.994Z"
   },
   {
    "duration": 25,
    "start_time": "2021-12-22T07:28:16.007Z"
   },
   {
    "duration": 8,
    "start_time": "2021-12-22T07:28:16.035Z"
   },
   {
    "duration": 13,
    "start_time": "2021-12-22T07:28:16.069Z"
   },
   {
    "duration": 27,
    "start_time": "2021-12-22T07:28:16.085Z"
   },
   {
    "duration": 124,
    "start_time": "2021-12-22T07:28:16.115Z"
   },
   {
    "duration": 41333,
    "start_time": "2021-12-22T07:28:16.242Z"
   },
   {
    "duration": 34012,
    "start_time": "2021-12-22T07:28:57.578Z"
   },
   {
    "duration": 19,
    "start_time": "2021-12-22T07:29:31.596Z"
   },
   {
    "duration": 166,
    "start_time": "2021-12-22T07:29:31.619Z"
   },
   {
    "duration": 7,
    "start_time": "2021-12-22T07:29:31.788Z"
   },
   {
    "duration": 10,
    "start_time": "2021-12-22T07:29:31.797Z"
   },
   {
    "duration": 81,
    "start_time": "2021-12-22T07:29:31.809Z"
   },
   {
    "duration": 446,
    "start_time": "2021-12-22T07:29:31.893Z"
   },
   {
    "duration": 45,
    "start_time": "2021-12-22T07:29:32.342Z"
   },
   {
    "duration": 527,
    "start_time": "2021-12-22T07:29:32.390Z"
   },
   {
    "duration": 532,
    "start_time": "2021-12-22T07:29:32.920Z"
   },
   {
    "duration": 371,
    "start_time": "2021-12-22T07:29:33.455Z"
   },
   {
    "duration": 45,
    "start_time": "2021-12-22T07:29:33.829Z"
   },
   {
    "duration": 382,
    "start_time": "2021-12-22T07:29:33.877Z"
   },
   {
    "duration": 362,
    "start_time": "2021-12-22T07:29:34.262Z"
   },
   {
    "duration": 389,
    "start_time": "2021-12-22T07:29:34.627Z"
   },
   {
    "duration": 657,
    "start_time": "2021-12-22T07:36:08.424Z"
   },
   {
    "duration": 7,
    "start_time": "2021-12-22T07:36:31.547Z"
   },
   {
    "duration": 627,
    "start_time": "2021-12-22T07:37:09.421Z"
   },
   {
    "duration": 23,
    "start_time": "2021-12-22T07:37:36.036Z"
   },
   {
    "duration": 14,
    "start_time": "2021-12-22T07:37:41.556Z"
   },
   {
    "duration": 14,
    "start_time": "2021-12-22T07:37:47.754Z"
   },
   {
    "duration": 12,
    "start_time": "2021-12-22T07:38:20.848Z"
   },
   {
    "duration": 11,
    "start_time": "2021-12-22T07:38:23.267Z"
   },
   {
    "duration": 17,
    "start_time": "2021-12-22T07:39:42.908Z"
   },
   {
    "duration": 13,
    "start_time": "2021-12-22T07:40:10.283Z"
   },
   {
    "duration": 17,
    "start_time": "2021-12-22T07:42:18.379Z"
   },
   {
    "duration": 11,
    "start_time": "2021-12-22T07:42:22.491Z"
   },
   {
    "duration": 12,
    "start_time": "2021-12-22T07:42:24.259Z"
   },
   {
    "duration": 19,
    "start_time": "2021-12-22T07:42:40.996Z"
   },
   {
    "duration": 14,
    "start_time": "2021-12-22T07:42:42.819Z"
   },
   {
    "duration": 14,
    "start_time": "2021-12-22T07:46:10.868Z"
   },
   {
    "duration": 13,
    "start_time": "2021-12-22T07:46:13.204Z"
   },
   {
    "duration": 13,
    "start_time": "2021-12-22T07:46:43.075Z"
   },
   {
    "duration": 15,
    "start_time": "2021-12-22T07:46:45.492Z"
   },
   {
    "duration": 251,
    "start_time": "2021-12-22T07:47:24.457Z"
   },
   {
    "duration": 29,
    "start_time": "2021-12-22T07:47:24.712Z"
   },
   {
    "duration": 207,
    "start_time": "2021-12-22T07:47:24.771Z"
   },
   {
    "duration": 29,
    "start_time": "2021-12-22T07:47:24.981Z"
   },
   {
    "duration": 136,
    "start_time": "2021-12-22T07:47:25.012Z"
   },
   {
    "duration": 28,
    "start_time": "2021-12-22T07:47:25.150Z"
   },
   {
    "duration": 31,
    "start_time": "2021-12-22T07:47:25.181Z"
   },
   {
    "duration": 14,
    "start_time": "2021-12-22T07:47:25.215Z"
   },
   {
    "duration": 80,
    "start_time": "2021-12-22T07:47:25.232Z"
   },
   {
    "duration": 9,
    "start_time": "2021-12-22T07:47:25.315Z"
   },
   {
    "duration": 18,
    "start_time": "2021-12-22T07:47:25.326Z"
   },
   {
    "duration": 37051,
    "start_time": "2021-12-22T07:47:25.347Z"
   },
   {
    "duration": 32,
    "start_time": "2021-12-22T07:48:02.401Z"
   },
   {
    "duration": 32,
    "start_time": "2021-12-22T07:48:02.435Z"
   },
   {
    "duration": 7,
    "start_time": "2021-12-22T07:48:02.470Z"
   },
   {
    "duration": 39,
    "start_time": "2021-12-22T07:48:02.480Z"
   },
   {
    "duration": 6,
    "start_time": "2021-12-22T07:48:02.522Z"
   },
   {
    "duration": 13,
    "start_time": "2021-12-22T07:48:02.531Z"
   },
   {
    "duration": 7,
    "start_time": "2021-12-22T07:48:02.547Z"
   },
   {
    "duration": 102,
    "start_time": "2021-12-22T07:48:02.557Z"
   },
   {
    "duration": 28255,
    "start_time": "2021-12-22T07:48:02.662Z"
   },
   {
    "duration": 22859,
    "start_time": "2021-12-22T07:48:30.919Z"
   },
   {
    "duration": 14,
    "start_time": "2021-12-22T07:48:53.780Z"
   },
   {
    "duration": 118,
    "start_time": "2021-12-22T07:48:53.797Z"
   },
   {
    "duration": 5,
    "start_time": "2021-12-22T07:48:53.918Z"
   },
   {
    "duration": 9,
    "start_time": "2021-12-22T07:48:53.925Z"
   },
   {
    "duration": 74,
    "start_time": "2021-12-22T07:48:53.939Z"
   },
   {
    "duration": 378,
    "start_time": "2021-12-22T07:48:54.017Z"
   },
   {
    "duration": 33,
    "start_time": "2021-12-22T07:48:54.399Z"
   },
   {
    "duration": 391,
    "start_time": "2021-12-22T07:48:54.435Z"
   },
   {
    "duration": 368,
    "start_time": "2021-12-22T07:48:54.829Z"
   },
   {
    "duration": 370,
    "start_time": "2021-12-22T07:48:55.199Z"
   },
   {
    "duration": 32,
    "start_time": "2021-12-22T07:48:55.572Z"
   },
   {
    "duration": 389,
    "start_time": "2021-12-22T07:48:55.606Z"
   },
   {
    "duration": 383,
    "start_time": "2021-12-22T07:48:55.998Z"
   },
   {
    "duration": 386,
    "start_time": "2021-12-22T07:48:56.383Z"
   },
   {
    "duration": 16,
    "start_time": "2021-12-22T07:48:56.772Z"
   },
   {
    "duration": 21,
    "start_time": "2021-12-22T07:48:56.790Z"
   },
   {
    "duration": 12,
    "start_time": "2021-12-22T07:49:21.747Z"
   },
   {
    "duration": 17,
    "start_time": "2021-12-22T07:49:34.811Z"
   },
   {
    "duration": 12,
    "start_time": "2021-12-22T07:49:56.821Z"
   },
   {
    "duration": 12,
    "start_time": "2021-12-22T07:50:03.633Z"
   },
   {
    "duration": 11,
    "start_time": "2021-12-22T07:50:55.619Z"
   },
   {
    "duration": 8,
    "start_time": "2021-12-22T07:51:19.683Z"
   },
   {
    "duration": 5,
    "start_time": "2021-12-22T07:51:56.902Z"
   },
   {
    "duration": 11,
    "start_time": "2021-12-22T07:53:02.892Z"
   },
   {
    "duration": 11,
    "start_time": "2021-12-22T07:53:16.803Z"
   },
   {
    "duration": 11,
    "start_time": "2021-12-22T07:53:43.734Z"
   },
   {
    "duration": 11,
    "start_time": "2021-12-22T07:53:54.300Z"
   },
   {
    "duration": 13,
    "start_time": "2021-12-22T07:54:23.371Z"
   },
   {
    "duration": 13,
    "start_time": "2021-12-22T07:54:56.203Z"
   },
   {
    "duration": 237,
    "start_time": "2021-12-22T07:55:06.626Z"
   },
   {
    "duration": 27,
    "start_time": "2021-12-22T07:55:06.868Z"
   },
   {
    "duration": 208,
    "start_time": "2021-12-22T07:55:06.899Z"
   },
   {
    "duration": 23,
    "start_time": "2021-12-22T07:55:07.111Z"
   },
   {
    "duration": 140,
    "start_time": "2021-12-22T07:55:07.136Z"
   },
   {
    "duration": 19,
    "start_time": "2021-12-22T07:55:07.278Z"
   },
   {
    "duration": 26,
    "start_time": "2021-12-22T07:55:07.300Z"
   },
   {
    "duration": 36,
    "start_time": "2021-12-22T07:55:07.330Z"
   },
   {
    "duration": 45,
    "start_time": "2021-12-22T07:55:07.370Z"
   },
   {
    "duration": 11,
    "start_time": "2021-12-22T07:55:07.417Z"
   },
   {
    "duration": 8,
    "start_time": "2021-12-22T07:55:07.431Z"
   },
   {
    "duration": 38798,
    "start_time": "2021-12-22T07:55:07.441Z"
   },
   {
    "duration": 41,
    "start_time": "2021-12-22T07:55:46.241Z"
   },
   {
    "duration": 26,
    "start_time": "2021-12-22T07:55:46.285Z"
   },
   {
    "duration": 6,
    "start_time": "2021-12-22T07:55:46.313Z"
   },
   {
    "duration": 46,
    "start_time": "2021-12-22T07:55:46.321Z"
   },
   {
    "duration": 6,
    "start_time": "2021-12-22T07:55:46.370Z"
   },
   {
    "duration": 19,
    "start_time": "2021-12-22T07:55:46.378Z"
   },
   {
    "duration": 7,
    "start_time": "2021-12-22T07:55:46.400Z"
   },
   {
    "duration": 123,
    "start_time": "2021-12-22T07:55:46.410Z"
   },
   {
    "duration": 29581,
    "start_time": "2021-12-22T07:55:46.536Z"
   },
   {
    "duration": 22350,
    "start_time": "2021-12-22T07:56:16.120Z"
   },
   {
    "duration": 14,
    "start_time": "2021-12-22T07:56:38.476Z"
   },
   {
    "duration": 126,
    "start_time": "2021-12-22T07:56:38.494Z"
   },
   {
    "duration": 5,
    "start_time": "2021-12-22T07:56:38.623Z"
   },
   {
    "duration": 9,
    "start_time": "2021-12-22T07:56:38.631Z"
   },
   {
    "duration": 75,
    "start_time": "2021-12-22T07:56:38.643Z"
   },
   {
    "duration": 386,
    "start_time": "2021-12-22T07:56:38.720Z"
   },
   {
    "duration": 32,
    "start_time": "2021-12-22T07:56:39.108Z"
   },
   {
    "duration": 470,
    "start_time": "2021-12-22T07:56:39.143Z"
   },
   {
    "duration": 377,
    "start_time": "2021-12-22T07:56:39.616Z"
   },
   {
    "duration": 379,
    "start_time": "2021-12-22T07:56:39.995Z"
   },
   {
    "duration": 33,
    "start_time": "2021-12-22T07:56:40.376Z"
   },
   {
    "duration": 522,
    "start_time": "2021-12-22T07:56:40.412Z"
   },
   {
    "duration": 391,
    "start_time": "2021-12-22T07:56:40.936Z"
   },
   {
    "duration": 376,
    "start_time": "2021-12-22T07:56:41.329Z"
   },
   {
    "duration": 9,
    "start_time": "2021-12-22T07:56:41.708Z"
   },
   {
    "duration": 19,
    "start_time": "2021-12-22T07:56:41.720Z"
   },
   {
    "duration": 28,
    "start_time": "2021-12-22T07:56:41.742Z"
   },
   {
    "duration": 28,
    "start_time": "2021-12-22T08:06:08.027Z"
   },
   {
    "duration": 13,
    "start_time": "2021-12-22T08:06:13.060Z"
   },
   {
    "duration": 241,
    "start_time": "2021-12-22T08:07:20.474Z"
   },
   {
    "duration": 28,
    "start_time": "2021-12-22T08:07:20.717Z"
   },
   {
    "duration": 202,
    "start_time": "2021-12-22T08:07:20.748Z"
   },
   {
    "duration": 37,
    "start_time": "2021-12-22T08:07:20.954Z"
   },
   {
    "duration": 136,
    "start_time": "2021-12-22T08:07:20.994Z"
   },
   {
    "duration": 23,
    "start_time": "2021-12-22T08:07:21.132Z"
   },
   {
    "duration": 37,
    "start_time": "2021-12-22T08:07:21.169Z"
   },
   {
    "duration": 9,
    "start_time": "2021-12-22T08:07:21.212Z"
   },
   {
    "duration": 59,
    "start_time": "2021-12-22T08:07:21.224Z"
   },
   {
    "duration": 10,
    "start_time": "2021-12-22T08:07:21.286Z"
   },
   {
    "duration": 13,
    "start_time": "2021-12-22T08:07:21.298Z"
   },
   {
    "duration": 37549,
    "start_time": "2021-12-22T08:07:21.313Z"
   },
   {
    "duration": 32,
    "start_time": "2021-12-22T08:07:58.867Z"
   },
   {
    "duration": 26,
    "start_time": "2021-12-22T08:07:58.901Z"
   },
   {
    "duration": 6,
    "start_time": "2021-12-22T08:07:58.930Z"
   },
   {
    "duration": 46,
    "start_time": "2021-12-22T08:07:58.939Z"
   },
   {
    "duration": 6,
    "start_time": "2021-12-22T08:07:58.987Z"
   },
   {
    "duration": 12,
    "start_time": "2021-12-22T08:07:58.995Z"
   },
   {
    "duration": 7,
    "start_time": "2021-12-22T08:07:59.009Z"
   },
   {
    "duration": 133,
    "start_time": "2021-12-22T08:07:59.018Z"
   },
   {
    "duration": 27519,
    "start_time": "2021-12-22T08:07:59.153Z"
   },
   {
    "duration": 22501,
    "start_time": "2021-12-22T08:08:26.675Z"
   },
   {
    "duration": 15,
    "start_time": "2021-12-22T08:08:49.181Z"
   },
   {
    "duration": 120,
    "start_time": "2021-12-22T08:08:49.199Z"
   },
   {
    "duration": 6,
    "start_time": "2021-12-22T08:08:49.321Z"
   },
   {
    "duration": 11,
    "start_time": "2021-12-22T08:08:49.329Z"
   },
   {
    "duration": 75,
    "start_time": "2021-12-22T08:08:49.342Z"
   },
   {
    "duration": 386,
    "start_time": "2021-12-22T08:08:49.419Z"
   },
   {
    "duration": 36,
    "start_time": "2021-12-22T08:08:49.807Z"
   },
   {
    "duration": 403,
    "start_time": "2021-12-22T08:08:49.845Z"
   },
   {
    "duration": 404,
    "start_time": "2021-12-22T08:08:50.251Z"
   },
   {
    "duration": 488,
    "start_time": "2021-12-22T08:08:50.657Z"
   },
   {
    "duration": 40,
    "start_time": "2021-12-22T08:08:51.147Z"
   },
   {
    "duration": 395,
    "start_time": "2021-12-22T08:08:51.191Z"
   },
   {
    "duration": 379,
    "start_time": "2021-12-22T08:08:51.588Z"
   },
   {
    "duration": 393,
    "start_time": "2021-12-22T08:08:51.969Z"
   },
   {
    "duration": 13,
    "start_time": "2021-12-22T08:08:52.365Z"
   },
   {
    "duration": 13,
    "start_time": "2021-12-22T08:15:54.019Z"
   },
   {
    "duration": 14,
    "start_time": "2021-12-22T08:16:48.011Z"
   },
   {
    "duration": 21,
    "start_time": "2021-12-22T08:17:00.275Z"
   },
   {
    "duration": 11,
    "start_time": "2021-12-22T08:17:06.546Z"
   },
   {
    "duration": 14,
    "start_time": "2021-12-22T08:17:08.995Z"
   },
   {
    "duration": 12,
    "start_time": "2021-12-22T08:17:11.458Z"
   },
   {
    "duration": 7,
    "start_time": "2021-12-22T08:17:44.236Z"
   },
   {
    "duration": 11,
    "start_time": "2021-12-22T08:17:51.915Z"
   },
   {
    "duration": 335,
    "start_time": "2021-12-22T09:44:30.748Z"
   },
   {
    "duration": 242,
    "start_time": "2021-12-22T12:54:14.474Z"
   },
   {
    "duration": 30,
    "start_time": "2021-12-22T12:54:14.718Z"
   },
   {
    "duration": 242,
    "start_time": "2021-12-22T12:54:14.751Z"
   },
   {
    "duration": 31,
    "start_time": "2021-12-22T12:54:14.997Z"
   },
   {
    "duration": 167,
    "start_time": "2021-12-22T12:54:15.031Z"
   },
   {
    "duration": 30,
    "start_time": "2021-12-22T12:54:15.201Z"
   },
   {
    "duration": 37,
    "start_time": "2021-12-22T12:54:15.234Z"
   },
   {
    "duration": 11,
    "start_time": "2021-12-22T12:54:15.275Z"
   },
   {
    "duration": 69,
    "start_time": "2021-12-22T12:54:15.289Z"
   },
   {
    "duration": 19,
    "start_time": "2021-12-22T12:54:15.360Z"
   },
   {
    "duration": 91762,
    "start_time": "2021-12-22T12:54:15.382Z"
   },
   {
    "duration": 30,
    "start_time": "2021-12-22T12:55:47.146Z"
   },
   {
    "duration": 6,
    "start_time": "2021-12-22T12:55:47.179Z"
   },
   {
    "duration": 109,
    "start_time": "2021-12-22T12:55:47.188Z"
   },
   {
    "duration": 20,
    "start_time": "2021-12-22T12:55:47.300Z"
   },
   {
    "duration": 57,
    "start_time": "2021-12-22T12:55:47.322Z"
   },
   {
    "duration": 5,
    "start_time": "2021-12-22T12:55:47.382Z"
   },
   {
    "duration": 20,
    "start_time": "2021-12-22T12:55:47.389Z"
   },
   {
    "duration": 9350,
    "start_time": "2021-12-22T12:56:45.364Z"
   },
   {
    "duration": 220,
    "start_time": "2021-12-22T12:57:11.601Z"
   },
   {
    "duration": 44,
    "start_time": "2021-12-22T12:57:11.824Z"
   },
   {
    "duration": 194,
    "start_time": "2021-12-22T12:57:11.871Z"
   },
   {
    "duration": 27,
    "start_time": "2021-12-22T12:57:12.068Z"
   },
   {
    "duration": 145,
    "start_time": "2021-12-22T12:57:12.097Z"
   },
   {
    "duration": 29,
    "start_time": "2021-12-22T12:57:12.244Z"
   },
   {
    "duration": 26,
    "start_time": "2021-12-22T12:57:12.275Z"
   },
   {
    "duration": 9,
    "start_time": "2021-12-22T12:57:12.304Z"
   },
   {
    "duration": 61,
    "start_time": "2021-12-22T12:57:12.316Z"
   },
   {
    "duration": 9,
    "start_time": "2021-12-22T12:57:12.380Z"
   },
   {
    "duration": 87012,
    "start_time": "2021-12-22T12:57:12.392Z"
   },
   {
    "duration": 17,
    "start_time": "2021-12-22T12:58:39.407Z"
   },
   {
    "duration": 8,
    "start_time": "2021-12-22T12:58:39.427Z"
   },
   {
    "duration": 134,
    "start_time": "2021-12-22T12:58:39.437Z"
   },
   {
    "duration": 22,
    "start_time": "2021-12-22T12:58:39.574Z"
   },
   {
    "duration": 21,
    "start_time": "2021-12-22T12:58:39.599Z"
   },
   {
    "duration": 7,
    "start_time": "2021-12-22T12:58:39.622Z"
   },
   {
    "duration": 299,
    "start_time": "2021-12-22T13:01:58.295Z"
   },
   {
    "duration": 11880,
    "start_time": "2021-12-22T13:02:17.630Z"
   },
   {
    "duration": 253,
    "start_time": "2021-12-22T13:04:12.061Z"
   },
   {
    "duration": 30,
    "start_time": "2021-12-22T13:04:12.317Z"
   },
   {
    "duration": 193,
    "start_time": "2021-12-22T13:04:12.369Z"
   },
   {
    "duration": 33,
    "start_time": "2021-12-22T13:04:12.567Z"
   },
   {
    "duration": 147,
    "start_time": "2021-12-22T13:04:12.602Z"
   },
   {
    "duration": 24,
    "start_time": "2021-12-22T13:04:12.752Z"
   },
   {
    "duration": 28,
    "start_time": "2021-12-22T13:04:12.778Z"
   },
   {
    "duration": 11,
    "start_time": "2021-12-22T13:04:12.810Z"
   },
   {
    "duration": 54,
    "start_time": "2021-12-22T13:04:12.824Z"
   },
   {
    "duration": 9,
    "start_time": "2021-12-22T13:04:12.881Z"
   },
   {
    "duration": 125,
    "start_time": "2021-12-22T13:04:12.893Z"
   },
   {
    "duration": 16,
    "start_time": "2021-12-22T13:04:13.020Z"
   },
   {
    "duration": 6,
    "start_time": "2021-12-22T13:04:13.038Z"
   },
   {
    "duration": 106,
    "start_time": "2021-12-22T13:04:13.069Z"
   },
   {
    "duration": 22,
    "start_time": "2021-12-22T13:04:13.177Z"
   },
   {
    "duration": 19,
    "start_time": "2021-12-22T13:04:13.202Z"
   },
   {
    "duration": 9,
    "start_time": "2021-12-22T13:04:13.224Z"
   },
   {
    "duration": 42,
    "start_time": "2021-12-22T13:04:13.235Z"
   },
   {
    "duration": 252,
    "start_time": "2021-12-22T14:06:23.455Z"
   },
   {
    "duration": 35,
    "start_time": "2021-12-22T14:06:23.710Z"
   },
   {
    "duration": 289,
    "start_time": "2021-12-22T14:06:23.748Z"
   },
   {
    "duration": 31,
    "start_time": "2021-12-22T14:06:24.040Z"
   },
   {
    "duration": 142,
    "start_time": "2021-12-22T14:06:24.073Z"
   },
   {
    "duration": 21,
    "start_time": "2021-12-22T14:06:24.217Z"
   },
   {
    "duration": 40,
    "start_time": "2021-12-22T14:06:24.240Z"
   },
   {
    "duration": 9,
    "start_time": "2021-12-22T14:06:24.284Z"
   },
   {
    "duration": 68,
    "start_time": "2021-12-22T14:06:24.296Z"
   },
   {
    "duration": 19,
    "start_time": "2021-12-22T14:06:24.371Z"
   },
   {
    "duration": 106,
    "start_time": "2021-12-22T14:06:24.392Z"
   },
   {
    "duration": 17,
    "start_time": "2021-12-22T14:06:24.501Z"
   },
   {
    "duration": 6,
    "start_time": "2021-12-22T14:06:24.520Z"
   },
   {
    "duration": 126,
    "start_time": "2021-12-22T14:06:24.529Z"
   },
   {
    "duration": 22,
    "start_time": "2021-12-22T14:06:24.657Z"
   },
   {
    "duration": 20,
    "start_time": "2021-12-22T14:06:24.681Z"
   },
   {
    "duration": 6,
    "start_time": "2021-12-22T14:06:24.703Z"
   },
   {
    "duration": 16,
    "start_time": "2021-12-22T14:06:24.711Z"
   },
   {
    "duration": 63,
    "start_time": "2021-12-22T14:06:24.729Z"
   },
   {
    "duration": 27,
    "start_time": "2021-12-22T14:06:24.795Z"
   },
   {
    "duration": 12,
    "start_time": "2021-12-22T14:06:24.824Z"
   },
   {
    "duration": 52,
    "start_time": "2021-12-22T14:06:24.839Z"
   },
   {
    "duration": 76,
    "start_time": "2021-12-22T14:06:24.895Z"
   },
   {
    "duration": 36,
    "start_time": "2021-12-22T14:06:24.974Z"
   },
   {
    "duration": 14,
    "start_time": "2021-12-22T14:06:25.012Z"
   },
   {
    "duration": 65,
    "start_time": "2021-12-22T14:06:25.029Z"
   },
   {
    "duration": 275,
    "start_time": "2021-12-22T14:30:34.654Z"
   },
   {
    "duration": 38,
    "start_time": "2021-12-22T14:30:34.932Z"
   },
   {
    "duration": 234,
    "start_time": "2021-12-22T14:30:34.975Z"
   },
   {
    "duration": 26,
    "start_time": "2021-12-22T14:30:35.212Z"
   },
   {
    "duration": 202,
    "start_time": "2021-12-22T14:30:35.242Z"
   },
   {
    "duration": 43,
    "start_time": "2021-12-22T14:30:35.447Z"
   },
   {
    "duration": 29,
    "start_time": "2021-12-22T14:30:35.494Z"
   },
   {
    "duration": 9,
    "start_time": "2021-12-22T14:30:35.528Z"
   },
   {
    "duration": 75,
    "start_time": "2021-12-22T14:30:35.541Z"
   },
   {
    "duration": 10,
    "start_time": "2021-12-22T14:30:35.618Z"
   },
   {
    "duration": 115,
    "start_time": "2021-12-22T14:30:35.631Z"
   },
   {
    "duration": 25,
    "start_time": "2021-12-22T14:30:35.748Z"
   },
   {
    "duration": 11,
    "start_time": "2021-12-22T14:30:35.777Z"
   },
   {
    "duration": 208,
    "start_time": "2021-12-22T14:30:35.791Z"
   },
   {
    "duration": 25,
    "start_time": "2021-12-22T14:30:36.002Z"
   },
   {
    "duration": 39,
    "start_time": "2021-12-22T14:30:36.030Z"
   },
   {
    "duration": 12,
    "start_time": "2021-12-22T14:30:36.072Z"
   },
   {
    "duration": 18,
    "start_time": "2021-12-22T14:30:36.087Z"
   },
   {
    "duration": 71,
    "start_time": "2021-12-22T14:30:36.108Z"
   },
   {
    "duration": 35,
    "start_time": "2021-12-22T14:30:36.182Z"
   },
   {
    "duration": 16,
    "start_time": "2021-12-22T14:30:36.220Z"
   },
   {
    "duration": 63,
    "start_time": "2021-12-22T14:30:36.240Z"
   },
   {
    "duration": 70,
    "start_time": "2021-12-22T14:30:36.308Z"
   },
   {
    "duration": 39,
    "start_time": "2021-12-22T14:30:36.381Z"
   },
   {
    "duration": 17,
    "start_time": "2021-12-22T14:30:36.423Z"
   },
   {
    "duration": 49,
    "start_time": "2021-12-22T14:30:36.469Z"
   },
   {
    "duration": 392,
    "start_time": "2021-12-22T14:30:36.521Z"
   },
   {
    "duration": 264,
    "start_time": "2021-12-22T14:30:36.652Z"
   },
   {
    "duration": 353,
    "start_time": "2021-12-22T14:31:51.431Z"
   },
   {
    "duration": 219,
    "start_time": "2021-12-22T14:32:26.999Z"
   },
   {
    "duration": 29,
    "start_time": "2021-12-22T14:32:27.221Z"
   },
   {
    "duration": 190,
    "start_time": "2021-12-22T14:32:27.268Z"
   },
   {
    "duration": 28,
    "start_time": "2021-12-22T14:32:27.461Z"
   },
   {
    "duration": 136,
    "start_time": "2021-12-22T14:32:27.491Z"
   },
   {
    "duration": 19,
    "start_time": "2021-12-22T14:32:27.630Z"
   },
   {
    "duration": 27,
    "start_time": "2021-12-22T14:32:27.667Z"
   },
   {
    "duration": 10,
    "start_time": "2021-12-22T14:32:27.696Z"
   },
   {
    "duration": 61,
    "start_time": "2021-12-22T14:32:27.710Z"
   },
   {
    "duration": 9,
    "start_time": "2021-12-22T14:32:27.773Z"
   },
   {
    "duration": 117,
    "start_time": "2021-12-22T14:32:27.785Z"
   },
   {
    "duration": 16,
    "start_time": "2021-12-22T14:32:27.905Z"
   },
   {
    "duration": 7,
    "start_time": "2021-12-22T14:32:27.923Z"
   },
   {
    "duration": 123,
    "start_time": "2021-12-22T14:32:27.933Z"
   },
   {
    "duration": 30,
    "start_time": "2021-12-22T14:32:28.058Z"
   },
   {
    "duration": 21,
    "start_time": "2021-12-22T14:32:28.091Z"
   },
   {
    "duration": 10,
    "start_time": "2021-12-22T14:32:28.115Z"
   },
   {
    "duration": 49,
    "start_time": "2021-12-22T14:32:28.127Z"
   },
   {
    "duration": 39,
    "start_time": "2021-12-22T14:32:28.179Z"
   },
   {
    "duration": 52,
    "start_time": "2021-12-22T14:32:28.221Z"
   },
   {
    "duration": 13,
    "start_time": "2021-12-22T14:32:28.276Z"
   },
   {
    "duration": 28,
    "start_time": "2021-12-22T14:32:28.292Z"
   },
   {
    "duration": 77,
    "start_time": "2021-12-22T14:32:28.323Z"
   },
   {
    "duration": 37,
    "start_time": "2021-12-22T14:32:28.402Z"
   },
   {
    "duration": 30,
    "start_time": "2021-12-22T14:32:28.442Z"
   },
   {
    "duration": 34,
    "start_time": "2021-12-22T14:32:28.474Z"
   },
   {
    "duration": 70,
    "start_time": "2021-12-22T14:32:28.513Z"
   },
   {
    "duration": 376,
    "start_time": "2021-12-22T14:32:28.586Z"
   },
   {
    "duration": 666,
    "start_time": "2021-12-22T14:33:34.408Z"
   },
   {
    "duration": 361,
    "start_time": "2021-12-22T14:33:47.976Z"
   },
   {
    "duration": 874,
    "start_time": "2021-12-22T14:34:12.454Z"
   },
   {
    "duration": 371,
    "start_time": "2021-12-22T14:34:24.416Z"
   },
   {
    "duration": 13,
    "start_time": "2021-12-22T14:34:50.931Z"
   },
   {
    "duration": 12,
    "start_time": "2021-12-22T14:35:37.919Z"
   },
   {
    "duration": 236,
    "start_time": "2021-12-22T15:13:30.753Z"
   },
   {
    "duration": 29,
    "start_time": "2021-12-22T15:13:30.992Z"
   },
   {
    "duration": 234,
    "start_time": "2021-12-22T15:13:31.024Z"
   },
   {
    "duration": 29,
    "start_time": "2021-12-22T15:13:31.270Z"
   },
   {
    "duration": 150,
    "start_time": "2021-12-22T15:13:31.302Z"
   },
   {
    "duration": 41,
    "start_time": "2021-12-22T15:13:31.456Z"
   },
   {
    "duration": 28,
    "start_time": "2021-12-22T15:13:31.500Z"
   },
   {
    "duration": 9,
    "start_time": "2021-12-22T15:13:31.534Z"
   },
   {
    "duration": 67,
    "start_time": "2021-12-22T15:13:31.568Z"
   },
   {
    "duration": 33,
    "start_time": "2021-12-22T15:13:31.638Z"
   },
   {
    "duration": 125,
    "start_time": "2021-12-22T15:13:31.674Z"
   },
   {
    "duration": 15,
    "start_time": "2021-12-22T15:13:31.802Z"
   },
   {
    "duration": 25,
    "start_time": "2021-12-22T15:13:31.820Z"
   },
   {
    "duration": 139,
    "start_time": "2021-12-22T15:13:31.848Z"
   },
   {
    "duration": 22,
    "start_time": "2021-12-22T15:13:31.990Z"
   },
   {
    "duration": 20,
    "start_time": "2021-12-22T15:13:32.015Z"
   },
   {
    "duration": 39,
    "start_time": "2021-12-22T15:13:32.037Z"
   },
   {
    "duration": 27,
    "start_time": "2021-12-22T15:13:32.080Z"
   },
   {
    "duration": 39,
    "start_time": "2021-12-22T15:13:32.110Z"
   },
   {
    "duration": 49,
    "start_time": "2021-12-22T15:13:32.151Z"
   },
   {
    "duration": 12,
    "start_time": "2021-12-22T15:13:32.203Z"
   },
   {
    "duration": 54,
    "start_time": "2021-12-22T15:13:32.218Z"
   },
   {
    "duration": 51,
    "start_time": "2021-12-22T15:13:32.280Z"
   },
   {
    "duration": 62,
    "start_time": "2021-12-22T15:13:32.335Z"
   },
   {
    "duration": 13,
    "start_time": "2021-12-22T15:13:32.399Z"
   },
   {
    "duration": 57,
    "start_time": "2021-12-22T15:13:32.415Z"
   },
   {
    "duration": 40,
    "start_time": "2021-12-22T15:13:32.474Z"
   },
   {
    "duration": 387,
    "start_time": "2021-12-22T15:13:32.516Z"
   },
   {
    "duration": 35,
    "start_time": "2021-12-22T15:13:32.905Z"
   },
   {
    "duration": 386,
    "start_time": "2021-12-22T15:13:32.966Z"
   },
   {
    "duration": 405,
    "start_time": "2021-12-22T15:13:33.355Z"
   },
   {
    "duration": 411,
    "start_time": "2021-12-22T15:13:33.762Z"
   },
   {
    "duration": 37,
    "start_time": "2021-12-22T15:13:34.176Z"
   },
   {
    "duration": 396,
    "start_time": "2021-12-22T15:13:34.216Z"
   },
   {
    "duration": 364,
    "start_time": "2021-12-22T15:13:34.614Z"
   },
   {
    "duration": 384,
    "start_time": "2021-12-22T15:13:34.980Z"
   },
   {
    "duration": 16,
    "start_time": "2021-12-22T15:13:35.368Z"
   },
   {
    "duration": 15,
    "start_time": "2021-12-22T15:13:35.387Z"
   },
   {
    "duration": 19,
    "start_time": "2021-12-22T15:13:35.404Z"
   },
   {
    "duration": 778,
    "start_time": "2021-12-23T07:59:35.695Z"
   },
   {
    "duration": 20,
    "start_time": "2021-12-23T07:59:36.476Z"
   },
   {
    "duration": 147,
    "start_time": "2021-12-23T07:59:36.499Z"
   },
   {
    "duration": 25,
    "start_time": "2021-12-23T07:59:36.648Z"
   },
   {
    "duration": 93,
    "start_time": "2021-12-23T07:59:36.675Z"
   },
   {
    "duration": 15,
    "start_time": "2021-12-23T07:59:36.769Z"
   },
   {
    "duration": 21,
    "start_time": "2021-12-23T07:59:36.786Z"
   },
   {
    "duration": 10,
    "start_time": "2021-12-23T07:59:36.809Z"
   },
   {
    "duration": 34,
    "start_time": "2021-12-23T07:59:36.823Z"
   },
   {
    "duration": 6,
    "start_time": "2021-12-23T07:59:36.859Z"
   },
   {
    "duration": 74,
    "start_time": "2021-12-23T07:59:36.867Z"
   },
   {
    "duration": 24,
    "start_time": "2021-12-23T07:59:36.943Z"
   },
   {
    "duration": 10,
    "start_time": "2021-12-23T07:59:36.969Z"
   },
   {
    "duration": 67,
    "start_time": "2021-12-23T07:59:36.981Z"
   },
   {
    "duration": 26,
    "start_time": "2021-12-23T07:59:37.050Z"
   },
   {
    "duration": 15,
    "start_time": "2021-12-23T07:59:37.078Z"
   },
   {
    "duration": 9,
    "start_time": "2021-12-23T07:59:37.096Z"
   },
   {
    "duration": 9,
    "start_time": "2021-12-23T07:59:37.107Z"
   },
   {
    "duration": 50,
    "start_time": "2021-12-23T07:59:37.117Z"
   },
   {
    "duration": 21,
    "start_time": "2021-12-23T07:59:37.169Z"
   },
   {
    "duration": 9,
    "start_time": "2021-12-23T07:59:37.192Z"
   },
   {
    "duration": 16,
    "start_time": "2021-12-23T07:59:37.202Z"
   },
   {
    "duration": 58,
    "start_time": "2021-12-23T07:59:37.220Z"
   },
   {
    "duration": 29,
    "start_time": "2021-12-23T07:59:37.280Z"
   },
   {
    "duration": 7,
    "start_time": "2021-12-23T07:59:37.311Z"
   },
   {
    "duration": 41,
    "start_time": "2021-12-23T07:59:37.320Z"
   },
   {
    "duration": 25,
    "start_time": "2021-12-23T07:59:37.364Z"
   },
   {
    "duration": 217,
    "start_time": "2021-12-23T07:59:37.391Z"
   },
   {
    "duration": 19,
    "start_time": "2021-12-23T07:59:37.610Z"
   },
   {
    "duration": 282,
    "start_time": "2021-12-23T07:59:37.631Z"
   },
   {
    "duration": 214,
    "start_time": "2021-12-23T07:59:37.915Z"
   },
   {
    "duration": 254,
    "start_time": "2021-12-23T07:59:38.130Z"
   },
   {
    "duration": 5527,
    "start_time": "2021-12-23T07:59:38.386Z"
   },
   {
    "duration": -1811,
    "start_time": "2021-12-23T07:59:45.726Z"
   },
   {
    "duration": -1823,
    "start_time": "2021-12-23T07:59:45.739Z"
   },
   {
    "duration": -1828,
    "start_time": "2021-12-23T07:59:45.745Z"
   },
   {
    "duration": 224,
    "start_time": "2021-12-23T08:00:10.732Z"
   },
   {
    "duration": 33,
    "start_time": "2021-12-23T08:00:10.960Z"
   },
   {
    "duration": 181,
    "start_time": "2021-12-23T08:00:10.996Z"
   },
   {
    "duration": 18,
    "start_time": "2021-12-23T08:00:11.179Z"
   },
   {
    "duration": 120,
    "start_time": "2021-12-23T08:00:11.199Z"
   },
   {
    "duration": 15,
    "start_time": "2021-12-23T08:00:11.321Z"
   },
   {
    "duration": 29,
    "start_time": "2021-12-23T08:00:11.337Z"
   },
   {
    "duration": 8,
    "start_time": "2021-12-23T08:00:11.369Z"
   },
   {
    "duration": 41,
    "start_time": "2021-12-23T08:00:11.379Z"
   },
   {
    "duration": 6,
    "start_time": "2021-12-23T08:00:11.422Z"
   },
   {
    "duration": 79,
    "start_time": "2021-12-23T08:00:11.430Z"
   },
   {
    "duration": 10,
    "start_time": "2021-12-23T08:00:11.511Z"
   },
   {
    "duration": 16,
    "start_time": "2021-12-23T08:00:11.522Z"
   },
   {
    "duration": 74,
    "start_time": "2021-12-23T08:00:11.540Z"
   },
   {
    "duration": 16,
    "start_time": "2021-12-23T08:00:11.616Z"
   },
   {
    "duration": 38,
    "start_time": "2021-12-23T08:00:11.634Z"
   },
   {
    "duration": 46,
    "start_time": "2021-12-23T08:00:11.674Z"
   },
   {
    "duration": 56,
    "start_time": "2021-12-23T08:00:11.722Z"
   },
   {
    "duration": 81,
    "start_time": "2021-12-23T08:00:11.780Z"
   },
   {
    "duration": 30,
    "start_time": "2021-12-23T08:00:11.863Z"
   },
   {
    "duration": 22,
    "start_time": "2021-12-23T08:00:11.895Z"
   },
   {
    "duration": 47,
    "start_time": "2021-12-23T08:00:11.919Z"
   },
   {
    "duration": 79,
    "start_time": "2021-12-23T08:00:11.970Z"
   },
   {
    "duration": 27,
    "start_time": "2021-12-23T08:00:12.051Z"
   },
   {
    "duration": 15,
    "start_time": "2021-12-23T08:00:12.080Z"
   },
   {
    "duration": 45,
    "start_time": "2021-12-23T08:00:12.097Z"
   },
   {
    "duration": 36,
    "start_time": "2021-12-23T08:00:12.144Z"
   },
   {
    "duration": 228,
    "start_time": "2021-12-23T08:00:12.182Z"
   },
   {
    "duration": 22,
    "start_time": "2021-12-23T08:00:12.411Z"
   },
   {
    "duration": 228,
    "start_time": "2021-12-23T08:00:12.435Z"
   },
   {
    "duration": 297,
    "start_time": "2021-12-23T08:00:12.666Z"
   },
   {
    "duration": 227,
    "start_time": "2021-12-23T08:00:12.965Z"
   },
   {
    "duration": 21,
    "start_time": "2021-12-23T08:00:13.193Z"
   },
   {
    "duration": 239,
    "start_time": "2021-12-23T08:00:13.215Z"
   },
   {
    "duration": 226,
    "start_time": "2021-12-23T08:00:13.455Z"
   },
   {
    "duration": 257,
    "start_time": "2021-12-23T08:00:13.683Z"
   },
   {
    "duration": 6,
    "start_time": "2021-12-23T08:17:27.208Z"
   },
   {
    "duration": 6268,
    "start_time": "2021-12-23T08:17:27.216Z"
   },
   {
    "duration": -997,
    "start_time": "2021-12-23T08:17:34.484Z"
   },
   {
    "duration": 7,
    "start_time": "2021-12-23T08:17:45.205Z"
   },
   {
    "duration": 12,
    "start_time": "2021-12-23T08:17:45.213Z"
   },
   {
    "duration": 16,
    "start_time": "2021-12-23T08:17:45.227Z"
   },
   {
    "duration": 12,
    "start_time": "2021-12-23T08:46:21.380Z"
   },
   {
    "duration": 154,
    "start_time": "2021-12-23T08:47:32.575Z"
   },
   {
    "duration": 30,
    "start_time": "2021-12-23T08:47:32.731Z"
   },
   {
    "duration": 138,
    "start_time": "2021-12-23T08:47:32.763Z"
   },
   {
    "duration": 18,
    "start_time": "2021-12-23T08:47:32.904Z"
   },
   {
    "duration": 104,
    "start_time": "2021-12-23T08:47:32.925Z"
   },
   {
    "duration": 30,
    "start_time": "2021-12-23T08:47:33.031Z"
   },
   {
    "duration": 23,
    "start_time": "2021-12-23T08:47:33.063Z"
   },
   {
    "duration": 8,
    "start_time": "2021-12-23T08:47:33.089Z"
   },
   {
    "duration": 37,
    "start_time": "2021-12-23T08:47:33.099Z"
   },
   {
    "duration": 6,
    "start_time": "2021-12-23T08:47:33.138Z"
   },
   {
    "duration": 62,
    "start_time": "2021-12-23T08:47:33.146Z"
   },
   {
    "duration": 11,
    "start_time": "2021-12-23T08:47:33.210Z"
   },
   {
    "duration": 4,
    "start_time": "2021-12-23T08:47:33.223Z"
   },
   {
    "duration": 73,
    "start_time": "2021-12-23T08:47:33.229Z"
   },
   {
    "duration": 17,
    "start_time": "2021-12-23T08:47:33.304Z"
   },
   {
    "duration": 15,
    "start_time": "2021-12-23T08:47:33.323Z"
   },
   {
    "duration": 23,
    "start_time": "2021-12-23T08:47:33.339Z"
   },
   {
    "duration": 14,
    "start_time": "2021-12-23T08:47:33.364Z"
   },
   {
    "duration": 26,
    "start_time": "2021-12-23T08:47:33.380Z"
   },
   {
    "duration": 20,
    "start_time": "2021-12-23T08:47:33.407Z"
   },
   {
    "duration": 8,
    "start_time": "2021-12-23T08:47:33.429Z"
   },
   {
    "duration": 38,
    "start_time": "2021-12-23T08:47:33.438Z"
   },
   {
    "duration": 34,
    "start_time": "2021-12-23T08:47:33.479Z"
   },
   {
    "duration": 47,
    "start_time": "2021-12-23T08:47:33.514Z"
   },
   {
    "duration": 8,
    "start_time": "2021-12-23T08:47:33.563Z"
   },
   {
    "duration": 25,
    "start_time": "2021-12-23T08:47:33.573Z"
   },
   {
    "duration": 27,
    "start_time": "2021-12-23T08:47:33.600Z"
   },
   {
    "duration": 234,
    "start_time": "2021-12-23T08:47:33.628Z"
   },
   {
    "duration": 11,
    "start_time": "2021-12-23T08:47:38.615Z"
   },
   {
    "duration": 21,
    "start_time": "2021-12-23T08:47:55.959Z"
   },
   {
    "duration": 9,
    "start_time": "2021-12-23T08:49:31.578Z"
   },
   {
    "duration": 168,
    "start_time": "2021-12-23T08:50:47.149Z"
   },
   {
    "duration": 20,
    "start_time": "2021-12-23T08:50:47.319Z"
   },
   {
    "duration": 130,
    "start_time": "2021-12-23T08:50:47.341Z"
   },
   {
    "duration": 18,
    "start_time": "2021-12-23T08:50:47.473Z"
   },
   {
    "duration": 97,
    "start_time": "2021-12-23T08:50:47.492Z"
   },
   {
    "duration": 15,
    "start_time": "2021-12-23T08:50:47.591Z"
   },
   {
    "duration": 27,
    "start_time": "2021-12-23T08:50:47.607Z"
   },
   {
    "duration": 8,
    "start_time": "2021-12-23T08:50:47.637Z"
   },
   {
    "duration": 34,
    "start_time": "2021-12-23T08:50:47.662Z"
   },
   {
    "duration": 6,
    "start_time": "2021-12-23T08:50:47.698Z"
   },
   {
    "duration": 69,
    "start_time": "2021-12-23T08:50:47.706Z"
   },
   {
    "duration": 10,
    "start_time": "2021-12-23T08:50:47.777Z"
   },
   {
    "duration": 5,
    "start_time": "2021-12-23T08:50:47.789Z"
   },
   {
    "duration": 77,
    "start_time": "2021-12-23T08:50:47.795Z"
   },
   {
    "duration": 18,
    "start_time": "2021-12-23T08:50:47.873Z"
   },
   {
    "duration": 14,
    "start_time": "2021-12-23T08:50:47.892Z"
   },
   {
    "duration": 5,
    "start_time": "2021-12-23T08:50:47.908Z"
   },
   {
    "duration": 11,
    "start_time": "2021-12-23T08:50:47.915Z"
   },
   {
    "duration": 48,
    "start_time": "2021-12-23T08:50:47.928Z"
   },
   {
    "duration": 20,
    "start_time": "2021-12-23T08:50:47.978Z"
   },
   {
    "duration": 8,
    "start_time": "2021-12-23T08:50:48.000Z"
   },
   {
    "duration": 18,
    "start_time": "2021-12-23T08:50:48.009Z"
   },
   {
    "duration": 59,
    "start_time": "2021-12-23T08:50:48.030Z"
   },
   {
    "duration": 24,
    "start_time": "2021-12-23T08:50:48.092Z"
   },
   {
    "duration": 7,
    "start_time": "2021-12-23T08:50:48.118Z"
   },
   {
    "duration": 43,
    "start_time": "2021-12-23T08:50:48.126Z"
   },
   {
    "duration": 24,
    "start_time": "2021-12-23T08:50:48.171Z"
   },
   {
    "duration": 220,
    "start_time": "2021-12-23T08:50:48.197Z"
   },
   {
    "duration": 8,
    "start_time": "2021-12-23T08:50:48.418Z"
   },
   {
    "duration": 6323,
    "start_time": "2021-12-23T08:55:24.488Z"
   },
   {
    "duration": 379,
    "start_time": "2021-12-23T08:56:12.552Z"
   },
   {
    "duration": 209,
    "start_time": "2021-12-23T08:56:54.209Z"
   },
   {
    "duration": 211,
    "start_time": "2021-12-23T08:57:46.103Z"
   },
   {
    "duration": 7,
    "start_time": "2021-12-23T08:58:01.432Z"
   },
   {
    "duration": 12,
    "start_time": "2021-12-23T08:58:40.920Z"
   },
   {
    "duration": 152,
    "start_time": "2021-12-23T09:01:52.087Z"
   },
   {
    "duration": 28,
    "start_time": "2021-12-23T09:01:52.241Z"
   },
   {
    "duration": 135,
    "start_time": "2021-12-23T09:01:52.271Z"
   },
   {
    "duration": 17,
    "start_time": "2021-12-23T09:01:52.408Z"
   },
   {
    "duration": 97,
    "start_time": "2021-12-23T09:01:52.427Z"
   },
   {
    "duration": 14,
    "start_time": "2021-12-23T09:01:52.526Z"
   },
   {
    "duration": 21,
    "start_time": "2021-12-23T09:01:52.542Z"
   },
   {
    "duration": 7,
    "start_time": "2021-12-23T09:01:52.566Z"
   },
   {
    "duration": 35,
    "start_time": "2021-12-23T09:01:52.576Z"
   },
   {
    "duration": 6,
    "start_time": "2021-12-23T09:01:52.613Z"
   },
   {
    "duration": 71,
    "start_time": "2021-12-23T09:01:52.620Z"
   },
   {
    "duration": 10,
    "start_time": "2021-12-23T09:01:52.692Z"
   },
   {
    "duration": 4,
    "start_time": "2021-12-23T09:01:52.704Z"
   },
   {
    "duration": 93,
    "start_time": "2021-12-23T09:01:52.710Z"
   },
   {
    "duration": 16,
    "start_time": "2021-12-23T09:01:52.805Z"
   },
   {
    "duration": 14,
    "start_time": "2021-12-23T09:01:52.822Z"
   },
   {
    "duration": 7,
    "start_time": "2021-12-23T09:01:52.837Z"
   },
   {
    "duration": 20,
    "start_time": "2021-12-23T09:01:52.845Z"
   },
   {
    "duration": 28,
    "start_time": "2021-12-23T09:01:52.866Z"
   },
   {
    "duration": 22,
    "start_time": "2021-12-23T09:01:52.895Z"
   },
   {
    "duration": 11,
    "start_time": "2021-12-23T09:01:52.918Z"
   },
   {
    "duration": 40,
    "start_time": "2021-12-23T09:01:52.930Z"
   },
   {
    "duration": 33,
    "start_time": "2021-12-23T09:01:52.972Z"
   },
   {
    "duration": 25,
    "start_time": "2021-12-23T09:01:53.007Z"
   },
   {
    "duration": 29,
    "start_time": "2021-12-23T09:01:53.034Z"
   },
   {
    "duration": 22,
    "start_time": "2021-12-23T09:01:53.065Z"
   },
   {
    "duration": 25,
    "start_time": "2021-12-23T09:01:53.091Z"
   },
   {
    "duration": 9,
    "start_time": "2021-12-23T09:01:53.117Z"
   },
   {
    "duration": 33,
    "start_time": "2021-12-23T09:01:53.128Z"
   },
   {
    "duration": 214,
    "start_time": "2021-12-23T09:01:53.163Z"
   },
   {
    "duration": 20,
    "start_time": "2021-12-23T09:01:53.379Z"
   },
   {
    "duration": 221,
    "start_time": "2021-12-23T09:01:53.401Z"
   },
   {
    "duration": 226,
    "start_time": "2021-12-23T09:01:53.624Z"
   },
   {
    "duration": 216,
    "start_time": "2021-12-23T09:01:53.852Z"
   },
   {
    "duration": 23,
    "start_time": "2021-12-23T09:01:54.070Z"
   },
   {
    "duration": 234,
    "start_time": "2021-12-23T09:01:54.094Z"
   },
   {
    "duration": 216,
    "start_time": "2021-12-23T09:01:54.329Z"
   },
   {
    "duration": 295,
    "start_time": "2021-12-23T09:01:54.547Z"
   },
   {
    "duration": 8,
    "start_time": "2021-12-23T09:01:54.843Z"
   },
   {
    "duration": 6,
    "start_time": "2021-12-23T09:01:54.861Z"
   },
   {
    "duration": 10,
    "start_time": "2021-12-23T09:01:54.868Z"
   },
   {
    "duration": 11,
    "start_time": "2021-12-23T09:01:54.879Z"
   },
   {
    "duration": 165,
    "start_time": "2021-12-23T09:06:37.242Z"
   },
   {
    "duration": 22,
    "start_time": "2021-12-23T09:06:37.409Z"
   },
   {
    "duration": 153,
    "start_time": "2021-12-23T09:06:37.433Z"
   },
   {
    "duration": 19,
    "start_time": "2021-12-23T09:06:37.588Z"
   },
   {
    "duration": 108,
    "start_time": "2021-12-23T09:06:37.610Z"
   },
   {
    "duration": 15,
    "start_time": "2021-12-23T09:06:37.720Z"
   },
   {
    "duration": 41,
    "start_time": "2021-12-23T09:06:37.738Z"
   },
   {
    "duration": 30,
    "start_time": "2021-12-23T09:06:37.781Z"
   },
   {
    "duration": 68,
    "start_time": "2021-12-23T09:06:37.813Z"
   },
   {
    "duration": 36,
    "start_time": "2021-12-23T09:06:37.882Z"
   },
   {
    "duration": 84,
    "start_time": "2021-12-23T09:06:37.920Z"
   },
   {
    "duration": 10,
    "start_time": "2021-12-23T09:06:38.006Z"
   },
   {
    "duration": 20,
    "start_time": "2021-12-23T09:06:38.018Z"
   },
   {
    "duration": 74,
    "start_time": "2021-12-23T09:06:38.040Z"
   },
   {
    "duration": 18,
    "start_time": "2021-12-23T09:06:38.116Z"
   },
   {
    "duration": 36,
    "start_time": "2021-12-23T09:06:38.136Z"
   },
   {
    "duration": 24,
    "start_time": "2021-12-23T09:06:38.174Z"
   },
   {
    "duration": 25,
    "start_time": "2021-12-23T09:06:38.199Z"
   },
   {
    "duration": 28,
    "start_time": "2021-12-23T09:06:38.225Z"
   },
   {
    "duration": 20,
    "start_time": "2021-12-23T09:06:38.254Z"
   },
   {
    "duration": 8,
    "start_time": "2021-12-23T09:06:38.276Z"
   },
   {
    "duration": 19,
    "start_time": "2021-12-23T09:06:38.286Z"
   },
   {
    "duration": 54,
    "start_time": "2021-12-23T09:06:38.309Z"
   },
   {
    "duration": 25,
    "start_time": "2021-12-23T09:06:38.365Z"
   },
   {
    "duration": 8,
    "start_time": "2021-12-23T09:06:38.391Z"
   },
   {
    "duration": 20,
    "start_time": "2021-12-23T09:06:38.401Z"
   },
   {
    "duration": 54,
    "start_time": "2021-12-23T09:06:38.423Z"
   },
   {
    "duration": 217,
    "start_time": "2021-12-23T09:06:38.479Z"
   },
   {
    "duration": 19,
    "start_time": "2021-12-23T09:06:38.698Z"
   },
   {
    "duration": 214,
    "start_time": "2021-12-23T09:06:38.719Z"
   },
   {
    "duration": 216,
    "start_time": "2021-12-23T09:06:38.935Z"
   },
   {
    "duration": 210,
    "start_time": "2021-12-23T09:06:39.152Z"
   },
   {
    "duration": 21,
    "start_time": "2021-12-23T09:06:39.364Z"
   },
   {
    "duration": 230,
    "start_time": "2021-12-23T09:06:39.387Z"
   },
   {
    "duration": 213,
    "start_time": "2021-12-23T09:06:39.618Z"
   },
   {
    "duration": 233,
    "start_time": "2021-12-23T09:06:39.833Z"
   },
   {
    "duration": 9,
    "start_time": "2021-12-23T09:06:45.042Z"
   },
   {
    "duration": 211,
    "start_time": "2021-12-23T09:09:41.528Z"
   },
   {
    "duration": 30,
    "start_time": "2021-12-23T09:09:41.741Z"
   },
   {
    "duration": 145,
    "start_time": "2021-12-23T09:09:41.775Z"
   },
   {
    "duration": 23,
    "start_time": "2021-12-23T09:09:41.922Z"
   },
   {
    "duration": 100,
    "start_time": "2021-12-23T09:09:41.947Z"
   },
   {
    "duration": 25,
    "start_time": "2021-12-23T09:09:42.050Z"
   },
   {
    "duration": 25,
    "start_time": "2021-12-23T09:09:42.077Z"
   },
   {
    "duration": 9,
    "start_time": "2021-12-23T09:09:42.106Z"
   },
   {
    "duration": 39,
    "start_time": "2021-12-23T09:09:42.118Z"
   },
   {
    "duration": 6,
    "start_time": "2021-12-23T09:09:42.159Z"
   },
   {
    "duration": 65,
    "start_time": "2021-12-23T09:09:42.167Z"
   },
   {
    "duration": 27,
    "start_time": "2021-12-23T09:09:42.234Z"
   },
   {
    "duration": 5,
    "start_time": "2021-12-23T09:09:42.263Z"
   },
   {
    "duration": 63,
    "start_time": "2021-12-23T09:09:42.270Z"
   },
   {
    "duration": 38,
    "start_time": "2021-12-23T09:09:42.336Z"
   },
   {
    "duration": 14,
    "start_time": "2021-12-23T09:09:42.376Z"
   },
   {
    "duration": 8,
    "start_time": "2021-12-23T09:09:42.392Z"
   },
   {
    "duration": 15,
    "start_time": "2021-12-23T09:09:42.401Z"
   },
   {
    "duration": 46,
    "start_time": "2021-12-23T09:09:42.418Z"
   },
   {
    "duration": 19,
    "start_time": "2021-12-23T09:09:42.466Z"
   },
   {
    "duration": 8,
    "start_time": "2021-12-23T09:09:42.487Z"
   },
   {
    "duration": 18,
    "start_time": "2021-12-23T09:09:42.497Z"
   },
   {
    "duration": 59,
    "start_time": "2021-12-23T09:09:42.519Z"
   },
   {
    "duration": 25,
    "start_time": "2021-12-23T09:09:42.580Z"
   },
   {
    "duration": 8,
    "start_time": "2021-12-23T09:09:42.607Z"
   },
   {
    "duration": 48,
    "start_time": "2021-12-23T09:09:42.617Z"
   },
   {
    "duration": 27,
    "start_time": "2021-12-23T09:09:42.666Z"
   },
   {
    "duration": 227,
    "start_time": "2021-12-23T09:09:42.695Z"
   },
   {
    "duration": 22,
    "start_time": "2021-12-23T09:09:42.923Z"
   },
   {
    "duration": 245,
    "start_time": "2021-12-23T09:09:42.947Z"
   },
   {
    "duration": 232,
    "start_time": "2021-12-23T09:09:43.193Z"
   },
   {
    "duration": 229,
    "start_time": "2021-12-23T09:09:43.427Z"
   },
   {
    "duration": 23,
    "start_time": "2021-12-23T09:09:43.658Z"
   },
   {
    "duration": 266,
    "start_time": "2021-12-23T09:09:43.683Z"
   },
   {
    "duration": 443,
    "start_time": "2021-12-23T09:09:43.950Z"
   },
   {
    "duration": 358,
    "start_time": "2021-12-23T09:09:44.394Z"
   },
   {
    "duration": 13,
    "start_time": "2021-12-23T09:09:44.754Z"
   },
   {
    "duration": 15,
    "start_time": "2021-12-23T09:09:44.768Z"
   },
   {
    "duration": 9,
    "start_time": "2021-12-23T09:09:44.784Z"
   },
   {
    "duration": 11,
    "start_time": "2021-12-23T09:09:44.795Z"
   },
   {
    "duration": 9,
    "start_time": "2021-12-23T09:48:24.491Z"
   },
   {
    "duration": 14,
    "start_time": "2021-12-23T10:08:12.229Z"
   },
   {
    "duration": 14,
    "start_time": "2021-12-23T10:08:38.557Z"
   },
   {
    "duration": 710,
    "start_time": "2021-12-23T10:41:32.508Z"
   },
   {
    "duration": 21,
    "start_time": "2021-12-23T10:41:33.220Z"
   },
   {
    "duration": 148,
    "start_time": "2021-12-23T10:41:33.244Z"
   },
   {
    "duration": 19,
    "start_time": "2021-12-23T10:41:33.394Z"
   },
   {
    "duration": 98,
    "start_time": "2021-12-23T10:41:33.415Z"
   },
   {
    "duration": 14,
    "start_time": "2021-12-23T10:41:33.515Z"
   },
   {
    "duration": 24,
    "start_time": "2021-12-23T10:41:33.530Z"
   },
   {
    "duration": 6,
    "start_time": "2021-12-23T10:41:33.560Z"
   },
   {
    "duration": 37,
    "start_time": "2021-12-23T10:41:33.569Z"
   },
   {
    "duration": 11,
    "start_time": "2021-12-23T10:41:33.608Z"
   },
   {
    "duration": 77,
    "start_time": "2021-12-23T10:41:33.620Z"
   },
   {
    "duration": 12,
    "start_time": "2021-12-23T10:41:33.698Z"
   },
   {
    "duration": 5,
    "start_time": "2021-12-23T10:41:33.711Z"
   },
   {
    "duration": 82,
    "start_time": "2021-12-23T10:41:33.717Z"
   },
   {
    "duration": 27,
    "start_time": "2021-12-23T10:41:33.801Z"
   },
   {
    "duration": 32,
    "start_time": "2021-12-23T10:41:33.830Z"
   },
   {
    "duration": 15,
    "start_time": "2021-12-23T10:41:33.864Z"
   },
   {
    "duration": 10,
    "start_time": "2021-12-23T10:41:33.881Z"
   },
   {
    "duration": 41,
    "start_time": "2021-12-23T10:41:33.893Z"
   },
   {
    "duration": 25,
    "start_time": "2021-12-23T10:41:33.936Z"
   },
   {
    "duration": 8,
    "start_time": "2021-12-23T10:41:33.963Z"
   },
   {
    "duration": 38,
    "start_time": "2021-12-23T10:41:33.972Z"
   },
   {
    "duration": 53,
    "start_time": "2021-12-23T10:41:34.011Z"
   },
   {
    "duration": 33,
    "start_time": "2021-12-23T10:41:34.066Z"
   },
   {
    "duration": 8,
    "start_time": "2021-12-23T10:41:34.101Z"
   },
   {
    "duration": 41,
    "start_time": "2021-12-23T10:41:34.110Z"
   },
   {
    "duration": 31,
    "start_time": "2021-12-23T10:41:34.154Z"
   },
   {
    "duration": 221,
    "start_time": "2021-12-23T10:41:34.187Z"
   },
   {
    "duration": 21,
    "start_time": "2021-12-23T10:41:34.409Z"
   },
   {
    "duration": 313,
    "start_time": "2021-12-23T10:41:34.432Z"
   },
   {
    "duration": 258,
    "start_time": "2021-12-23T10:41:34.747Z"
   },
   {
    "duration": 279,
    "start_time": "2021-12-23T10:41:35.008Z"
   },
   {
    "duration": 21,
    "start_time": "2021-12-23T10:41:35.289Z"
   },
   {
    "duration": 236,
    "start_time": "2021-12-23T10:41:35.312Z"
   },
   {
    "duration": 226,
    "start_time": "2021-12-23T10:41:35.550Z"
   },
   {
    "duration": 243,
    "start_time": "2021-12-23T10:41:35.778Z"
   },
   {
    "duration": 7,
    "start_time": "2021-12-23T10:41:36.023Z"
   },
   {
    "duration": 381,
    "start_time": "2021-12-23T10:41:36.031Z"
   },
   {
    "duration": 10,
    "start_time": "2021-12-23T10:41:36.414Z"
   },
   {
    "duration": 46,
    "start_time": "2021-12-23T10:41:36.426Z"
   },
   {
    "duration": 780,
    "start_time": "2021-12-23T21:44:07.367Z"
   },
   {
    "duration": 21,
    "start_time": "2021-12-23T21:44:08.149Z"
   },
   {
    "duration": 146,
    "start_time": "2021-12-23T21:44:08.173Z"
   },
   {
    "duration": 17,
    "start_time": "2021-12-23T21:44:08.322Z"
   },
   {
    "duration": 98,
    "start_time": "2021-12-23T21:44:08.341Z"
   },
   {
    "duration": 23,
    "start_time": "2021-12-23T21:44:08.440Z"
   },
   {
    "duration": 21,
    "start_time": "2021-12-23T21:44:08.465Z"
   },
   {
    "duration": 6,
    "start_time": "2021-12-23T21:44:08.489Z"
   },
   {
    "duration": 37,
    "start_time": "2021-12-23T21:44:08.498Z"
   },
   {
    "duration": 6,
    "start_time": "2021-12-23T21:44:08.537Z"
   },
   {
    "duration": 69,
    "start_time": "2021-12-23T21:44:08.545Z"
   },
   {
    "duration": 11,
    "start_time": "2021-12-23T21:44:08.615Z"
   },
   {
    "duration": 4,
    "start_time": "2021-12-23T21:44:08.628Z"
   },
   {
    "duration": 74,
    "start_time": "2021-12-23T21:44:08.634Z"
   },
   {
    "duration": 24,
    "start_time": "2021-12-23T21:44:08.710Z"
   },
   {
    "duration": 26,
    "start_time": "2021-12-23T21:44:08.736Z"
   },
   {
    "duration": 13,
    "start_time": "2021-12-23T21:44:08.764Z"
   },
   {
    "duration": 9,
    "start_time": "2021-12-23T21:44:08.779Z"
   },
   {
    "duration": 26,
    "start_time": "2021-12-23T21:44:08.790Z"
   },
   {
    "duration": 45,
    "start_time": "2021-12-23T21:44:08.818Z"
   },
   {
    "duration": 7,
    "start_time": "2021-12-23T21:44:08.865Z"
   },
   {
    "duration": 24,
    "start_time": "2021-12-23T21:44:08.874Z"
   },
   {
    "duration": 39,
    "start_time": "2021-12-23T21:44:08.902Z"
   },
   {
    "duration": 28,
    "start_time": "2021-12-23T21:44:08.960Z"
   },
   {
    "duration": 7,
    "start_time": "2021-12-23T21:44:08.990Z"
   },
   {
    "duration": 21,
    "start_time": "2021-12-23T21:44:08.999Z"
   },
   {
    "duration": 50,
    "start_time": "2021-12-23T21:44:09.022Z"
   },
   {
    "duration": 214,
    "start_time": "2021-12-23T21:44:09.074Z"
   },
   {
    "duration": 21,
    "start_time": "2021-12-23T21:44:09.289Z"
   },
   {
    "duration": 290,
    "start_time": "2021-12-23T21:44:09.312Z"
   },
   {
    "duration": 212,
    "start_time": "2021-12-23T21:44:09.604Z"
   },
   {
    "duration": 262,
    "start_time": "2021-12-23T21:44:09.818Z"
   },
   {
    "duration": 21,
    "start_time": "2021-12-23T21:44:10.081Z"
   },
   {
    "duration": 230,
    "start_time": "2021-12-23T21:44:10.103Z"
   },
   {
    "duration": 198,
    "start_time": "2021-12-23T21:44:10.334Z"
   },
   {
    "duration": 227,
    "start_time": "2021-12-23T21:44:10.533Z"
   },
   {
    "duration": 6,
    "start_time": "2021-12-23T21:44:10.762Z"
   },
   {
    "duration": 339,
    "start_time": "2021-12-23T21:44:10.770Z"
   },
   {
    "duration": 8,
    "start_time": "2021-12-23T21:44:11.110Z"
   },
   {
    "duration": 12,
    "start_time": "2021-12-23T21:44:11.120Z"
   },
   {
    "duration": 26,
    "start_time": "2021-12-23T21:57:39.153Z"
   },
   {
    "duration": 21,
    "start_time": "2021-12-23T21:58:03.548Z"
   },
   {
    "duration": 13,
    "start_time": "2021-12-23T21:58:06.396Z"
   },
   {
    "duration": 21,
    "start_time": "2021-12-23T21:59:19.915Z"
   },
   {
    "duration": 27,
    "start_time": "2021-12-23T21:59:21.631Z"
   },
   {
    "duration": 24,
    "start_time": "2021-12-23T21:59:24.948Z"
   },
   {
    "duration": 1188,
    "start_time": "2021-12-24T07:22:53.289Z"
   },
   {
    "duration": 3,
    "start_time": "2021-12-24T07:24:33.215Z"
   },
   {
    "duration": 183,
    "start_time": "2021-12-24T07:24:33.220Z"
   },
   {
    "duration": 21,
    "start_time": "2021-12-24T07:24:33.405Z"
   },
   {
    "duration": 137,
    "start_time": "2021-12-24T07:24:33.428Z"
   },
   {
    "duration": 17,
    "start_time": "2021-12-24T07:24:33.567Z"
   },
   {
    "duration": 97,
    "start_time": "2021-12-24T07:24:33.586Z"
   },
   {
    "duration": 13,
    "start_time": "2021-12-24T07:24:33.686Z"
   },
   {
    "duration": 22,
    "start_time": "2021-12-24T07:24:33.701Z"
   },
   {
    "duration": 7,
    "start_time": "2021-12-24T07:24:33.725Z"
   },
   {
    "duration": 49,
    "start_time": "2021-12-24T07:24:33.734Z"
   },
   {
    "duration": 11,
    "start_time": "2021-12-24T07:24:33.785Z"
   },
   {
    "duration": 84,
    "start_time": "2021-12-24T07:24:33.798Z"
   },
   {
    "duration": 11,
    "start_time": "2021-12-24T07:24:54.543Z"
   },
   {
    "duration": 296,
    "start_time": "2021-12-24T07:31:15.262Z"
   },
   {
    "duration": 18,
    "start_time": "2021-12-24T07:33:26.461Z"
   },
   {
    "duration": 14,
    "start_time": "2021-12-24T07:34:45.455Z"
   },
   {
    "duration": 16,
    "start_time": "2021-12-24T07:34:55.575Z"
   },
   {
    "duration": 4,
    "start_time": "2021-12-24T07:35:08.994Z"
   },
   {
    "duration": 152,
    "start_time": "2021-12-24T07:35:09.002Z"
   },
   {
    "duration": 20,
    "start_time": "2021-12-24T07:35:09.156Z"
   },
   {
    "duration": 140,
    "start_time": "2021-12-24T07:35:09.178Z"
   },
   {
    "duration": 17,
    "start_time": "2021-12-24T07:35:09.320Z"
   },
   {
    "duration": 94,
    "start_time": "2021-12-24T07:35:09.339Z"
   },
   {
    "duration": 14,
    "start_time": "2021-12-24T07:35:09.435Z"
   },
   {
    "duration": 29,
    "start_time": "2021-12-24T07:35:09.451Z"
   },
   {
    "duration": 9,
    "start_time": "2021-12-24T07:35:09.482Z"
   },
   {
    "duration": 39,
    "start_time": "2021-12-24T07:35:09.493Z"
   },
   {
    "duration": 6,
    "start_time": "2021-12-24T07:35:09.534Z"
   },
   {
    "duration": 87,
    "start_time": "2021-12-24T07:35:09.542Z"
   },
   {
    "duration": 15,
    "start_time": "2021-12-24T07:35:09.631Z"
   },
   {
    "duration": 13,
    "start_time": "2021-12-24T07:35:09.648Z"
   },
   {
    "duration": 14,
    "start_time": "2021-12-24T07:35:23.562Z"
   },
   {
    "duration": 3,
    "start_time": "2021-12-24T07:42:27.791Z"
   },
   {
    "duration": 162,
    "start_time": "2021-12-24T07:42:27.796Z"
   },
   {
    "duration": 21,
    "start_time": "2021-12-24T07:42:27.960Z"
   },
   {
    "duration": 147,
    "start_time": "2021-12-24T07:42:27.983Z"
   },
   {
    "duration": 3,
    "start_time": "2021-12-24T07:50:37.570Z"
   },
   {
    "duration": 166,
    "start_time": "2021-12-24T07:50:37.575Z"
   },
   {
    "duration": 20,
    "start_time": "2021-12-24T07:50:37.743Z"
   },
   {
    "duration": 144,
    "start_time": "2021-12-24T07:50:37.765Z"
   },
   {
    "duration": 17,
    "start_time": "2021-12-24T07:50:37.911Z"
   },
   {
    "duration": 97,
    "start_time": "2021-12-24T07:50:37.929Z"
   },
   {
    "duration": 15,
    "start_time": "2021-12-24T07:50:38.027Z"
   },
   {
    "duration": 26,
    "start_time": "2021-12-24T07:50:38.044Z"
   },
   {
    "duration": 11,
    "start_time": "2021-12-24T07:50:38.073Z"
   },
   {
    "duration": 37,
    "start_time": "2021-12-24T07:50:38.086Z"
   },
   {
    "duration": 6,
    "start_time": "2021-12-24T07:50:38.125Z"
   },
   {
    "duration": 67,
    "start_time": "2021-12-24T07:50:38.133Z"
   },
   {
    "duration": 12,
    "start_time": "2021-12-24T07:50:38.202Z"
   },
   {
    "duration": 3,
    "start_time": "2021-12-24T07:50:38.215Z"
   },
   {
    "duration": 6,
    "start_time": "2021-12-24T07:50:38.220Z"
   },
   {
    "duration": 40,
    "start_time": "2021-12-24T07:50:38.228Z"
   },
   {
    "duration": 2,
    "start_time": "2021-12-24T07:50:38.270Z"
   },
   {
    "duration": 15,
    "start_time": "2021-12-24T07:50:38.274Z"
   },
   {
    "duration": 26,
    "start_time": "2021-12-24T07:50:38.290Z"
   },
   {
    "duration": 25,
    "start_time": "2021-12-24T07:50:38.318Z"
   },
   {
    "duration": 33,
    "start_time": "2021-12-24T07:50:38.344Z"
   },
   {
    "duration": 9,
    "start_time": "2021-12-24T07:50:38.379Z"
   },
   {
    "duration": 31,
    "start_time": "2021-12-24T07:50:38.390Z"
   },
   {
    "duration": 44,
    "start_time": "2021-12-24T07:50:38.423Z"
   },
   {
    "duration": 26,
    "start_time": "2021-12-24T07:50:38.469Z"
   },
   {
    "duration": 15,
    "start_time": "2021-12-24T07:50:38.497Z"
   },
   {
    "duration": 39,
    "start_time": "2021-12-24T07:50:38.516Z"
   },
   {
    "duration": 26,
    "start_time": "2021-12-24T07:50:38.557Z"
   },
   {
    "duration": 6,
    "start_time": "2021-12-24T07:51:50.186Z"
   },
   {
    "duration": 5,
    "start_time": "2021-12-24T07:51:58.591Z"
   },
   {
    "duration": 93,
    "start_time": "2021-12-24T07:53:58.391Z"
   },
   {
    "duration": 4,
    "start_time": "2021-12-24T07:54:02.470Z"
   },
   {
    "duration": 4,
    "start_time": "2021-12-24T07:54:17.470Z"
   },
   {
    "duration": 4,
    "start_time": "2021-12-24T07:54:40.145Z"
   },
   {
    "duration": 10,
    "start_time": "2021-12-24T08:20:10.349Z"
   },
   {
    "duration": 3,
    "start_time": "2021-12-24T08:31:05.690Z"
   },
   {
    "duration": 160,
    "start_time": "2021-12-24T08:31:05.695Z"
   },
   {
    "duration": 21,
    "start_time": "2021-12-24T08:31:05.857Z"
   },
   {
    "duration": 146,
    "start_time": "2021-12-24T08:31:05.880Z"
   },
   {
    "duration": 17,
    "start_time": "2021-12-24T08:31:06.028Z"
   },
   {
    "duration": 107,
    "start_time": "2021-12-24T08:31:06.047Z"
   },
   {
    "duration": 13,
    "start_time": "2021-12-24T08:31:06.157Z"
   },
   {
    "duration": 29,
    "start_time": "2021-12-24T08:31:06.172Z"
   },
   {
    "duration": 11,
    "start_time": "2021-12-24T08:31:06.203Z"
   },
   {
    "duration": 37,
    "start_time": "2021-12-24T08:31:06.215Z"
   },
   {
    "duration": 7,
    "start_time": "2021-12-24T08:31:06.255Z"
   },
   {
    "duration": 57,
    "start_time": "2021-12-24T08:31:06.264Z"
   },
   {
    "duration": 11,
    "start_time": "2021-12-24T08:31:06.323Z"
   },
   {
    "duration": 3,
    "start_time": "2021-12-24T08:31:06.336Z"
   },
   {
    "duration": 5,
    "start_time": "2021-12-24T08:31:06.360Z"
   },
   {
    "duration": 30,
    "start_time": "2021-12-24T08:31:06.367Z"
   },
   {
    "duration": 9,
    "start_time": "2021-12-24T08:31:06.399Z"
   },
   {
    "duration": 19,
    "start_time": "2021-12-24T08:31:06.409Z"
   },
   {
    "duration": 10,
    "start_time": "2021-12-24T08:31:06.432Z"
   },
   {
    "duration": 23,
    "start_time": "2021-12-24T08:31:06.444Z"
   },
   {
    "duration": 17,
    "start_time": "2021-12-24T08:31:06.469Z"
   },
   {
    "duration": 8,
    "start_time": "2021-12-24T08:31:06.488Z"
   },
   {
    "duration": 24,
    "start_time": "2021-12-24T08:31:06.497Z"
   },
   {
    "duration": 55,
    "start_time": "2021-12-24T08:31:06.522Z"
   },
   {
    "duration": 26,
    "start_time": "2021-12-24T08:31:06.578Z"
   },
   {
    "duration": 9,
    "start_time": "2021-12-24T08:31:06.606Z"
   },
   {
    "duration": 45,
    "start_time": "2021-12-24T08:31:06.616Z"
   },
   {
    "duration": 26,
    "start_time": "2021-12-24T08:31:06.663Z"
   },
   {
    "duration": 4,
    "start_time": "2021-12-24T08:31:06.690Z"
   },
   {
    "duration": 10,
    "start_time": "2021-12-24T08:31:06.696Z"
   },
   {
    "duration": 9,
    "start_time": "2021-12-24T08:31:06.708Z"
   },
   {
    "duration": 5,
    "start_time": "2021-12-24T08:32:25.653Z"
   },
   {
    "duration": 9,
    "start_time": "2021-12-24T08:48:57.917Z"
   },
   {
    "duration": 3,
    "start_time": "2021-12-24T08:49:29.214Z"
   },
   {
    "duration": 189,
    "start_time": "2021-12-24T08:49:29.219Z"
   },
   {
    "duration": 20,
    "start_time": "2021-12-24T08:49:29.410Z"
   },
   {
    "duration": 149,
    "start_time": "2021-12-24T08:49:29.432Z"
   },
   {
    "duration": 17,
    "start_time": "2021-12-24T08:49:29.583Z"
   },
   {
    "duration": 99,
    "start_time": "2021-12-24T08:49:29.602Z"
   },
   {
    "duration": 16,
    "start_time": "2021-12-24T08:49:29.703Z"
   },
   {
    "duration": 23,
    "start_time": "2021-12-24T08:49:29.721Z"
   },
   {
    "duration": 15,
    "start_time": "2021-12-24T08:49:29.747Z"
   },
   {
    "duration": 39,
    "start_time": "2021-12-24T08:49:29.764Z"
   },
   {
    "duration": 30,
    "start_time": "2021-12-24T08:49:29.806Z"
   },
   {
    "duration": 67,
    "start_time": "2021-12-24T08:49:29.838Z"
   },
   {
    "duration": 11,
    "start_time": "2021-12-24T08:49:29.906Z"
   },
   {
    "duration": 3,
    "start_time": "2021-12-24T08:49:29.919Z"
   },
   {
    "duration": 8,
    "start_time": "2021-12-24T08:49:29.924Z"
   },
   {
    "duration": 41,
    "start_time": "2021-12-24T08:49:29.934Z"
   },
   {
    "duration": 3,
    "start_time": "2021-12-24T08:49:29.977Z"
   },
   {
    "duration": 6,
    "start_time": "2021-12-24T08:49:29.982Z"
   },
   {
    "duration": 13,
    "start_time": "2021-12-24T08:49:29.990Z"
   },
   {
    "duration": 44,
    "start_time": "2021-12-24T08:49:30.005Z"
   },
   {
    "duration": 29,
    "start_time": "2021-12-24T08:49:30.051Z"
   },
   {
    "duration": 9,
    "start_time": "2021-12-24T08:49:30.082Z"
   },
   {
    "duration": 29,
    "start_time": "2021-12-24T08:49:30.095Z"
   },
   {
    "duration": 56,
    "start_time": "2021-12-24T08:49:30.127Z"
   },
   {
    "duration": 27,
    "start_time": "2021-12-24T08:49:30.185Z"
   },
   {
    "duration": 9,
    "start_time": "2021-12-24T08:49:30.213Z"
   },
   {
    "duration": 46,
    "start_time": "2021-12-24T08:49:30.224Z"
   },
   {
    "duration": 28,
    "start_time": "2021-12-24T08:49:30.272Z"
   },
   {
    "duration": 4,
    "start_time": "2021-12-24T08:49:30.302Z"
   },
   {
    "duration": 42,
    "start_time": "2021-12-24T08:49:30.309Z"
   },
   {
    "duration": 34,
    "start_time": "2021-12-24T08:49:30.353Z"
   },
   {
    "duration": 232,
    "start_time": "2021-12-24T08:49:30.389Z"
   },
   {
    "duration": 19,
    "start_time": "2021-12-24T08:49:30.623Z"
   },
   {
    "duration": 218,
    "start_time": "2021-12-24T08:49:30.644Z"
   },
   {
    "duration": 222,
    "start_time": "2021-12-24T08:49:30.864Z"
   },
   {
    "duration": 229,
    "start_time": "2021-12-24T08:49:31.087Z"
   },
   {
    "duration": 20,
    "start_time": "2021-12-24T08:49:31.318Z"
   },
   {
    "duration": 249,
    "start_time": "2021-12-24T08:49:31.340Z"
   },
   {
    "duration": 314,
    "start_time": "2021-12-24T08:49:31.590Z"
   },
   {
    "duration": 223,
    "start_time": "2021-12-24T08:49:31.906Z"
   },
   {
    "duration": 2,
    "start_time": "2021-12-24T08:49:32.130Z"
   },
   {
    "duration": 66,
    "start_time": "2021-12-24T08:49:32.134Z"
   },
   {
    "duration": 47,
    "start_time": "2021-12-24T08:49:32.202Z"
   },
   {
    "duration": 65,
    "start_time": "2021-12-24T08:49:32.251Z"
   },
   {
    "duration": 349,
    "start_time": "2021-12-24T09:09:36.967Z"
   },
   {
    "duration": 430,
    "start_time": "2021-12-24T09:10:40.966Z"
   },
   {
    "duration": 189,
    "start_time": "2021-12-24T09:11:38.615Z"
   },
   {
    "duration": 11,
    "start_time": "2021-12-24T09:13:15.550Z"
   },
   {
    "duration": 30,
    "start_time": "2021-12-24T09:13:31.701Z"
   },
   {
    "duration": 10,
    "start_time": "2021-12-24T09:13:46.605Z"
   },
   {
    "duration": 20,
    "start_time": "2021-12-24T09:13:54.556Z"
   },
   {
    "duration": 3,
    "start_time": "2021-12-24T09:21:07.634Z"
   },
   {
    "duration": 174,
    "start_time": "2021-12-24T09:21:07.639Z"
   },
   {
    "duration": 21,
    "start_time": "2021-12-24T09:21:07.815Z"
   },
   {
    "duration": 162,
    "start_time": "2021-12-24T09:21:07.838Z"
   },
   {
    "duration": 19,
    "start_time": "2021-12-24T09:21:08.002Z"
   },
   {
    "duration": 99,
    "start_time": "2021-12-24T09:21:08.023Z"
   },
   {
    "duration": 15,
    "start_time": "2021-12-24T09:21:08.124Z"
   },
   {
    "duration": 25,
    "start_time": "2021-12-24T09:21:08.142Z"
   },
   {
    "duration": 8,
    "start_time": "2021-12-24T09:21:08.169Z"
   },
   {
    "duration": 38,
    "start_time": "2021-12-24T09:21:08.179Z"
   },
   {
    "duration": 6,
    "start_time": "2021-12-24T09:21:08.219Z"
   },
   {
    "duration": 65,
    "start_time": "2021-12-24T09:21:08.227Z"
   },
   {
    "duration": 10,
    "start_time": "2021-12-24T09:21:08.294Z"
   },
   {
    "duration": 3,
    "start_time": "2021-12-24T09:21:08.306Z"
   },
   {
    "duration": 11,
    "start_time": "2021-12-24T09:21:08.311Z"
   },
   {
    "duration": 37,
    "start_time": "2021-12-24T09:21:08.324Z"
   },
   {
    "duration": 2,
    "start_time": "2021-12-24T09:21:08.363Z"
   },
   {
    "duration": 6,
    "start_time": "2021-12-24T09:21:08.366Z"
   },
   {
    "duration": 11,
    "start_time": "2021-12-24T09:21:08.374Z"
   },
   {
    "duration": 26,
    "start_time": "2021-12-24T09:21:08.386Z"
   },
   {
    "duration": 19,
    "start_time": "2021-12-24T09:21:08.414Z"
   },
   {
    "duration": 30,
    "start_time": "2021-12-24T09:21:08.435Z"
   },
   {
    "duration": 21,
    "start_time": "2021-12-24T09:21:08.468Z"
   },
   {
    "duration": 33,
    "start_time": "2021-12-24T09:21:08.491Z"
   },
   {
    "duration": 50,
    "start_time": "2021-12-24T09:21:08.526Z"
   },
   {
    "duration": 8,
    "start_time": "2021-12-24T09:21:08.577Z"
   },
   {
    "duration": 29,
    "start_time": "2021-12-24T09:21:08.587Z"
   },
   {
    "duration": 26,
    "start_time": "2021-12-24T09:21:08.618Z"
   },
   {
    "duration": 16,
    "start_time": "2021-12-24T09:21:08.645Z"
   },
   {
    "duration": 11,
    "start_time": "2021-12-24T09:21:08.663Z"
   },
   {
    "duration": 5,
    "start_time": "2021-12-24T09:21:08.676Z"
   },
   {
    "duration": 241,
    "start_time": "2021-12-24T09:21:08.683Z"
   },
   {
    "duration": 22,
    "start_time": "2021-12-24T09:21:08.926Z"
   },
   {
    "duration": 233,
    "start_time": "2021-12-24T09:21:08.950Z"
   },
   {
    "duration": 228,
    "start_time": "2021-12-24T09:21:09.185Z"
   },
   {
    "duration": 231,
    "start_time": "2021-12-24T09:21:09.415Z"
   },
   {
    "duration": 26,
    "start_time": "2021-12-24T09:21:09.648Z"
   },
   {
    "duration": 228,
    "start_time": "2021-12-24T09:21:09.676Z"
   },
   {
    "duration": 229,
    "start_time": "2021-12-24T09:21:09.906Z"
   },
   {
    "duration": 232,
    "start_time": "2021-12-24T09:21:10.137Z"
   },
   {
    "duration": 357,
    "start_time": "2021-12-24T09:21:10.371Z"
   },
   {
    "duration": 447,
    "start_time": "2021-12-24T09:21:10.730Z"
   },
   {
    "duration": 365,
    "start_time": "2021-12-24T09:21:11.179Z"
   },
   {
    "duration": 5,
    "start_time": "2021-12-24T10:51:26.531Z"
   },
   {
    "duration": 5,
    "start_time": "2021-12-24T10:51:58.327Z"
   },
   {
    "duration": 1116,
    "start_time": "2021-12-24T11:16:45.028Z"
   },
   {
    "duration": 157,
    "start_time": "2021-12-24T11:16:46.146Z"
   },
   {
    "duration": 23,
    "start_time": "2021-12-24T11:16:46.305Z"
   },
   {
    "duration": 151,
    "start_time": "2021-12-24T11:16:46.330Z"
   },
   {
    "duration": 18,
    "start_time": "2021-12-24T11:16:46.483Z"
   },
   {
    "duration": 126,
    "start_time": "2021-12-24T11:16:46.503Z"
   },
   {
    "duration": 33,
    "start_time": "2021-12-24T11:16:46.631Z"
   },
   {
    "duration": 25,
    "start_time": "2021-12-24T11:16:46.668Z"
   },
   {
    "duration": 19,
    "start_time": "2021-12-24T11:16:46.696Z"
   },
   {
    "duration": 44,
    "start_time": "2021-12-24T11:16:46.718Z"
   },
   {
    "duration": 8,
    "start_time": "2021-12-24T11:16:46.764Z"
   },
   {
    "duration": 113,
    "start_time": "2021-12-24T11:16:46.775Z"
   },
   {
    "duration": 14,
    "start_time": "2021-12-24T11:16:46.891Z"
   },
   {
    "duration": 3,
    "start_time": "2021-12-24T11:16:46.907Z"
   },
   {
    "duration": 17,
    "start_time": "2021-12-24T11:16:46.911Z"
   },
   {
    "duration": 41,
    "start_time": "2021-12-24T11:16:46.929Z"
   },
   {
    "duration": 2,
    "start_time": "2021-12-24T11:16:46.972Z"
   },
   {
    "duration": 8,
    "start_time": "2021-12-24T11:16:46.976Z"
   },
   {
    "duration": 14,
    "start_time": "2021-12-24T11:16:46.985Z"
   },
   {
    "duration": 26,
    "start_time": "2021-12-24T11:16:47.001Z"
   },
   {
    "duration": 42,
    "start_time": "2021-12-24T11:16:47.029Z"
   },
   {
    "duration": 8,
    "start_time": "2021-12-24T11:16:47.073Z"
   },
   {
    "duration": 24,
    "start_time": "2021-12-24T11:16:47.084Z"
   },
   {
    "duration": 55,
    "start_time": "2021-12-24T11:16:47.110Z"
   },
   {
    "duration": 25,
    "start_time": "2021-12-24T11:16:47.167Z"
   },
   {
    "duration": 8,
    "start_time": "2021-12-24T11:16:47.193Z"
   },
   {
    "duration": 22,
    "start_time": "2021-12-24T11:16:47.203Z"
   },
   {
    "duration": 56,
    "start_time": "2021-12-24T11:16:47.226Z"
   },
   {
    "duration": 4,
    "start_time": "2021-12-24T11:16:47.284Z"
   },
   {
    "duration": 9,
    "start_time": "2021-12-24T11:16:47.290Z"
   },
   {
    "duration": 4,
    "start_time": "2021-12-24T11:16:47.301Z"
   },
   {
    "duration": 254,
    "start_time": "2021-12-24T11:16:47.306Z"
   },
   {
    "duration": 19,
    "start_time": "2021-12-24T11:16:47.562Z"
   },
   {
    "duration": 232,
    "start_time": "2021-12-24T11:16:47.583Z"
   },
   {
    "duration": 227,
    "start_time": "2021-12-24T11:16:47.817Z"
   },
   {
    "duration": 224,
    "start_time": "2021-12-24T11:16:48.046Z"
   },
   {
    "duration": 21,
    "start_time": "2021-12-24T11:16:48.272Z"
   },
   {
    "duration": 232,
    "start_time": "2021-12-24T11:16:48.295Z"
   },
   {
    "duration": 210,
    "start_time": "2021-12-24T11:16:48.529Z"
   },
   {
    "duration": 222,
    "start_time": "2021-12-24T11:16:48.741Z"
   },
   {
    "duration": 348,
    "start_time": "2021-12-24T11:16:48.965Z"
   },
   {
    "duration": 426,
    "start_time": "2021-12-24T11:16:49.316Z"
   },
   {
    "duration": 66,
    "start_time": "2021-12-24T11:16:49.743Z"
   },
   {
    "duration": -670,
    "start_time": "2021-12-24T11:16:50.482Z"
   },
   {
    "duration": -676,
    "start_time": "2021-12-24T11:16:50.489Z"
   },
   {
    "duration": -682,
    "start_time": "2021-12-24T11:16:50.497Z"
   },
   {
    "duration": -686,
    "start_time": "2021-12-24T11:16:50.502Z"
   },
   {
    "duration": 66,
    "start_time": "2021-12-24T11:18:24.196Z"
   },
   {
    "duration": -666,
    "start_time": "2021-12-24T11:18:24.931Z"
   },
   {
    "duration": -678,
    "start_time": "2021-12-24T11:18:24.944Z"
   },
   {
    "duration": -687,
    "start_time": "2021-12-24T11:18:24.955Z"
   },
   {
    "duration": -706,
    "start_time": "2021-12-24T11:18:24.975Z"
   },
   {
    "duration": 1048,
    "start_time": "2021-12-24T11:18:51.305Z"
   },
   {
    "duration": 172,
    "start_time": "2021-12-24T11:18:52.355Z"
   },
   {
    "duration": 20,
    "start_time": "2021-12-24T11:18:52.529Z"
   },
   {
    "duration": 150,
    "start_time": "2021-12-24T11:18:52.551Z"
   },
   {
    "duration": 16,
    "start_time": "2021-12-24T11:18:52.703Z"
   },
   {
    "duration": 101,
    "start_time": "2021-12-24T11:18:52.721Z"
   },
   {
    "duration": 13,
    "start_time": "2021-12-24T11:18:52.824Z"
   },
   {
    "duration": 25,
    "start_time": "2021-12-24T11:18:52.840Z"
   },
   {
    "duration": 10,
    "start_time": "2021-12-24T11:18:52.868Z"
   },
   {
    "duration": 38,
    "start_time": "2021-12-24T11:18:52.880Z"
   },
   {
    "duration": 5,
    "start_time": "2021-12-24T11:18:52.920Z"
   },
   {
    "duration": 74,
    "start_time": "2021-12-24T11:18:52.927Z"
   },
   {
    "duration": 10,
    "start_time": "2021-12-24T11:18:53.003Z"
   },
   {
    "duration": 10,
    "start_time": "2021-12-24T11:18:53.015Z"
   },
   {
    "duration": 17,
    "start_time": "2021-12-24T11:18:53.026Z"
   },
   {
    "duration": 32,
    "start_time": "2021-12-24T11:18:53.044Z"
   },
   {
    "duration": 3,
    "start_time": "2021-12-24T11:18:53.077Z"
   },
   {
    "duration": 5,
    "start_time": "2021-12-24T11:18:53.082Z"
   },
   {
    "duration": 11,
    "start_time": "2021-12-24T11:18:53.089Z"
   },
   {
    "duration": 25,
    "start_time": "2021-12-24T11:18:53.102Z"
   },
   {
    "duration": 49,
    "start_time": "2021-12-24T11:18:53.128Z"
   },
   {
    "duration": 8,
    "start_time": "2021-12-24T11:18:53.179Z"
   },
   {
    "duration": 18,
    "start_time": "2021-12-24T11:18:53.191Z"
   },
   {
    "duration": 59,
    "start_time": "2021-12-24T11:18:53.211Z"
   },
   {
    "duration": 26,
    "start_time": "2021-12-24T11:18:53.272Z"
   },
   {
    "duration": 8,
    "start_time": "2021-12-24T11:18:53.300Z"
   },
   {
    "duration": 24,
    "start_time": "2021-12-24T11:18:53.310Z"
   },
   {
    "duration": 49,
    "start_time": "2021-12-24T11:18:53.336Z"
   },
   {
    "duration": 5,
    "start_time": "2021-12-24T11:18:53.387Z"
   },
   {
    "duration": 11,
    "start_time": "2021-12-24T11:18:53.394Z"
   },
   {
    "duration": 6,
    "start_time": "2021-12-24T11:18:53.407Z"
   },
   {
    "duration": 239,
    "start_time": "2021-12-24T11:18:53.415Z"
   },
   {
    "duration": 20,
    "start_time": "2021-12-24T11:18:53.660Z"
   },
   {
    "duration": 215,
    "start_time": "2021-12-24T11:18:53.682Z"
   },
   {
    "duration": 223,
    "start_time": "2021-12-24T11:18:53.899Z"
   },
   {
    "duration": 217,
    "start_time": "2021-12-24T11:18:54.124Z"
   },
   {
    "duration": 24,
    "start_time": "2021-12-24T11:18:54.343Z"
   },
   {
    "duration": 219,
    "start_time": "2021-12-24T11:18:54.369Z"
   },
   {
    "duration": 204,
    "start_time": "2021-12-24T11:18:54.589Z"
   },
   {
    "duration": 230,
    "start_time": "2021-12-24T11:18:54.795Z"
   },
   {
    "duration": 352,
    "start_time": "2021-12-24T11:18:55.027Z"
   },
   {
    "duration": 412,
    "start_time": "2021-12-24T11:18:55.381Z"
   },
   {
    "duration": 359,
    "start_time": "2021-12-24T11:18:55.795Z"
   },
   {
    "duration": 4,
    "start_time": "2021-12-24T11:18:56.156Z"
   },
   {
    "duration": 8,
    "start_time": "2021-12-24T11:18:56.162Z"
   },
   {
    "duration": 7,
    "start_time": "2021-12-24T11:18:56.172Z"
   },
   {
    "duration": 11,
    "start_time": "2021-12-24T11:18:56.181Z"
   },
   {
    "duration": 4,
    "start_time": "2021-12-24T11:25:04.017Z"
   },
   {
    "duration": 187,
    "start_time": "2021-12-24T11:25:04.024Z"
   },
   {
    "duration": 21,
    "start_time": "2021-12-24T11:25:04.213Z"
   },
   {
    "duration": 158,
    "start_time": "2021-12-24T11:25:04.237Z"
   },
   {
    "duration": 18,
    "start_time": "2021-12-24T11:25:04.397Z"
   },
   {
    "duration": 105,
    "start_time": "2021-12-24T11:25:04.417Z"
   },
   {
    "duration": 15,
    "start_time": "2021-12-24T11:25:04.524Z"
   },
   {
    "duration": 26,
    "start_time": "2021-12-24T11:25:04.541Z"
   },
   {
    "duration": 7,
    "start_time": "2021-12-24T11:25:04.570Z"
   },
   {
    "duration": 37,
    "start_time": "2021-12-24T11:25:04.579Z"
   },
   {
    "duration": 7,
    "start_time": "2021-12-24T11:25:04.618Z"
   },
   {
    "duration": 69,
    "start_time": "2021-12-24T11:25:04.627Z"
   },
   {
    "duration": 10,
    "start_time": "2021-12-24T11:25:04.698Z"
   },
   {
    "duration": 2,
    "start_time": "2021-12-24T11:25:04.710Z"
   },
   {
    "duration": 14,
    "start_time": "2021-12-24T11:25:04.714Z"
   },
   {
    "duration": 35,
    "start_time": "2021-12-24T11:25:04.729Z"
   },
   {
    "duration": 2,
    "start_time": "2021-12-24T11:25:04.766Z"
   },
   {
    "duration": 6,
    "start_time": "2021-12-24T11:25:04.770Z"
   },
   {
    "duration": 15,
    "start_time": "2021-12-24T11:25:04.778Z"
   },
   {
    "duration": 27,
    "start_time": "2021-12-24T11:25:04.795Z"
   },
   {
    "duration": 52,
    "start_time": "2021-12-24T11:25:04.824Z"
   },
   {
    "duration": 10,
    "start_time": "2021-12-24T11:25:04.878Z"
   },
   {
    "duration": 36,
    "start_time": "2021-12-24T11:25:04.890Z"
   },
   {
    "duration": 46,
    "start_time": "2021-12-24T11:25:04.928Z"
   },
   {
    "duration": 26,
    "start_time": "2021-12-24T11:25:04.975Z"
   },
   {
    "duration": 9,
    "start_time": "2021-12-24T11:25:05.003Z"
   },
   {
    "duration": 52,
    "start_time": "2021-12-24T11:25:05.016Z"
   },
   {
    "duration": 28,
    "start_time": "2021-12-24T11:25:05.071Z"
   },
   {
    "duration": 5,
    "start_time": "2021-12-24T11:25:05.100Z"
   },
   {
    "duration": 16,
    "start_time": "2021-12-24T11:25:05.106Z"
   },
   {
    "duration": 7,
    "start_time": "2021-12-24T11:25:05.124Z"
   },
   {
    "duration": 239,
    "start_time": "2021-12-24T11:25:05.133Z"
   },
   {
    "duration": 23,
    "start_time": "2021-12-24T11:25:05.374Z"
   },
   {
    "duration": 235,
    "start_time": "2021-12-24T11:25:05.399Z"
   },
   {
    "duration": 234,
    "start_time": "2021-12-24T11:25:05.636Z"
   },
   {
    "duration": 228,
    "start_time": "2021-12-24T11:25:05.872Z"
   },
   {
    "duration": 22,
    "start_time": "2021-12-24T11:25:06.102Z"
   },
   {
    "duration": 236,
    "start_time": "2021-12-24T11:25:06.126Z"
   },
   {
    "duration": 222,
    "start_time": "2021-12-24T11:25:06.365Z"
   },
   {
    "duration": 243,
    "start_time": "2021-12-24T11:25:06.589Z"
   },
   {
    "duration": 454,
    "start_time": "2021-12-24T11:25:06.834Z"
   },
   {
    "duration": 367,
    "start_time": "2021-12-24T11:25:07.289Z"
   },
   {
    "duration": 369,
    "start_time": "2021-12-24T11:25:07.661Z"
   },
   {
    "duration": 2,
    "start_time": "2021-12-24T11:25:08.031Z"
   },
   {
    "duration": 27,
    "start_time": "2021-12-24T11:25:08.035Z"
   },
   {
    "duration": 29,
    "start_time": "2021-12-24T11:25:08.064Z"
   },
   {
    "duration": 39,
    "start_time": "2021-12-24T11:25:08.095Z"
   },
   {
    "duration": 1447,
    "start_time": "2021-12-24T11:25:24.794Z"
   },
   {
    "duration": 176,
    "start_time": "2021-12-24T11:25:26.244Z"
   },
   {
    "duration": 22,
    "start_time": "2021-12-24T11:25:26.422Z"
   },
   {
    "duration": 150,
    "start_time": "2021-12-24T11:25:26.460Z"
   },
   {
    "duration": 19,
    "start_time": "2021-12-24T11:25:26.612Z"
   },
   {
    "duration": 107,
    "start_time": "2021-12-24T11:25:26.632Z"
   },
   {
    "duration": 20,
    "start_time": "2021-12-24T11:25:26.741Z"
   },
   {
    "duration": 22,
    "start_time": "2021-12-24T11:25:26.764Z"
   },
   {
    "duration": 8,
    "start_time": "2021-12-24T11:25:26.788Z"
   },
   {
    "duration": 35,
    "start_time": "2021-12-24T11:25:26.798Z"
   },
   {
    "duration": 6,
    "start_time": "2021-12-24T11:25:26.835Z"
   },
   {
    "duration": 68,
    "start_time": "2021-12-24T11:25:26.843Z"
   },
   {
    "duration": 11,
    "start_time": "2021-12-24T11:25:26.913Z"
   },
   {
    "duration": 2,
    "start_time": "2021-12-24T11:25:26.925Z"
   },
   {
    "duration": 37,
    "start_time": "2021-12-24T11:25:26.929Z"
   },
   {
    "duration": 30,
    "start_time": "2021-12-24T11:25:26.968Z"
   },
   {
    "duration": 3,
    "start_time": "2021-12-24T11:25:27.000Z"
   },
   {
    "duration": 7,
    "start_time": "2021-12-24T11:25:27.005Z"
   },
   {
    "duration": 12,
    "start_time": "2021-12-24T11:25:27.014Z"
   },
   {
    "duration": 41,
    "start_time": "2021-12-24T11:25:27.028Z"
   },
   {
    "duration": 22,
    "start_time": "2021-12-24T11:25:27.071Z"
   },
   {
    "duration": 8,
    "start_time": "2021-12-24T11:25:27.095Z"
   },
   {
    "duration": 22,
    "start_time": "2021-12-24T11:25:27.107Z"
   },
   {
    "duration": 54,
    "start_time": "2021-12-24T11:25:27.132Z"
   },
   {
    "duration": 26,
    "start_time": "2021-12-24T11:25:27.187Z"
   },
   {
    "duration": 10,
    "start_time": "2021-12-24T11:25:27.215Z"
   },
   {
    "duration": 52,
    "start_time": "2021-12-24T11:25:27.226Z"
   },
   {
    "duration": 27,
    "start_time": "2021-12-24T11:25:27.280Z"
   },
   {
    "duration": 5,
    "start_time": "2021-12-24T11:25:27.309Z"
   },
   {
    "duration": 11,
    "start_time": "2021-12-24T11:25:27.316Z"
   },
   {
    "duration": 36,
    "start_time": "2021-12-24T11:25:27.329Z"
   },
   {
    "duration": 224,
    "start_time": "2021-12-24T11:25:27.367Z"
   },
   {
    "duration": 20,
    "start_time": "2021-12-24T11:25:27.593Z"
   },
   {
    "duration": 236,
    "start_time": "2021-12-24T11:25:27.615Z"
   },
   {
    "duration": 225,
    "start_time": "2021-12-24T11:25:27.853Z"
   },
   {
    "duration": 232,
    "start_time": "2021-12-24T11:25:28.081Z"
   },
   {
    "duration": 22,
    "start_time": "2021-12-24T11:25:28.315Z"
   },
   {
    "duration": 260,
    "start_time": "2021-12-24T11:25:28.339Z"
   },
   {
    "duration": 261,
    "start_time": "2021-12-24T11:25:28.601Z"
   },
   {
    "duration": 225,
    "start_time": "2021-12-24T11:25:28.864Z"
   },
   {
    "duration": 369,
    "start_time": "2021-12-24T11:25:29.091Z"
   },
   {
    "duration": 614,
    "start_time": "2021-12-24T11:25:29.462Z"
   },
   {
    "duration": 403,
    "start_time": "2021-12-24T11:25:30.078Z"
   },
   {
    "duration": 2,
    "start_time": "2021-12-24T11:25:30.483Z"
   },
   {
    "duration": 19,
    "start_time": "2021-12-24T11:25:30.486Z"
   },
   {
    "duration": 34,
    "start_time": "2021-12-24T11:25:30.507Z"
   },
   {
    "duration": 37,
    "start_time": "2021-12-24T11:25:30.543Z"
   }
  ],
  "kernelspec": {
   "display_name": "Python 3 (ipykernel)",
   "language": "python",
   "name": "python3"
  },
  "language_info": {
   "codemirror_mode": {
    "name": "ipython",
    "version": 3
   },
   "file_extension": ".py",
   "mimetype": "text/x-python",
   "name": "python",
   "nbconvert_exporter": "python",
   "pygments_lexer": "ipython3",
   "version": "3.9.7"
  },
  "toc": {
   "base_numbering": 1,
   "nav_menu": {},
   "number_sections": true,
   "sideBar": true,
   "skip_h1_title": true,
   "title_cell": "Оглавление",
   "title_sidebar": "Оглавление",
   "toc_cell": true,
   "toc_position": {
    "height": "calc(100% - 180px)",
    "left": "10px",
    "top": "150px",
    "width": "309px"
   },
   "toc_section_display": true,
   "toc_window_display": true
  }
 },
 "nbformat": 4,
 "nbformat_minor": 2
}
